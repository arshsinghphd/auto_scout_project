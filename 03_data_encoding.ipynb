{
 "cells": [
  {
   "cell_type": "markdown",
   "id": "ef218860",
   "metadata": {},
   "source": [
    "<a id=\"toc\"></a>\n",
    "\n",
    "# <p style=\"background-color: #008080; font-family:newtimeroman; color:#FFF9ED; font-size:175%; text-align:center; border-radius:5px 5px;\">Auto Scout Car Prices Prediction Project: <br> Data Encoding </p>\n",
    "\n",
    "## <p style=\"background-color: #008080; font-family:newtimeroman; color:#FFF9ED; font-size:150%; text-align:center; border-radius:10px 10px;\">Content</p>\n",
    "\n",
    "* [INTRODUCTION](#0)\n",
    "* [IMPORTING LIBRARIES NEEDED IN THIS NOTEBOOK](#1)\n",
    "* [DATA ENCODING](#2)\n",
    "* [THE END OF DATA ENCODING](#3)"
   ]
  },
  {
   "cell_type": "markdown",
   "id": "08e7b1a5",
   "metadata": {},
   "source": [
    "<a id=\"0\"></a>\n",
    "\n",
    "## Introduction\n",
    "\n",
    "\n",
    "Welcome to \"***Auto Scout Car Price Prediction Project***\". \n",
    "\n",
    "**Auto Scout** data used for this project, were scraped from the on-line car trading company, Auto Scout, in 2019, contains many features of 9 different car models. In this project, I will go through all the steps of a data project: data cleaning, modeling, features selection, and model selection. \n",
    "\n",
    "In the first part of this project I will apply many commonly used algorithms for data cleaning and exploratory data analysis by using many Python libraries such as Numpy, Pandas, Matplotlib, Seaborn, Scipy.\n",
    "\n",
    "These are the steps for the first part. \n",
    "* **[data cleaning](00_data_cleaning.ipynb)** -  dealing with incorrect headers (column names), incorrect format, anomalies, and dropping obviously  useless columns.\n",
    "* **[data imputation](01_data_imputation.ipynb)** - handling missing values, reducing classes in features to be encoded.\n",
    "* **[handling outliers](02_data_viz_&_outliers.ipynb)** -  via visualisation libraries. Some insights are extracted.\n",
    "\n",
    "In the second part of the project I explore many types of models for predicting prices. I explore OLS, Ridge, Lasso, SGD, Random Forest, XGB, light GBM, and catBoost.\n",
    "\n",
    "* **[data encoding](03_data_encoding.ipynb)** in preparation for modeling: converting multiclass features into dummy columns, making dummy columns from nested features.\n",
    "* **[modeling](04_modeling.ipynb)** trying out different models, model selection, feature selection, and cross-validation."
   ]
  },
  {
   "cell_type": "markdown",
   "id": "6442d9dd",
   "metadata": {},
   "source": [
    "<a id=\"1\"></a>\n",
    "\n",
    "## Importing Libraries Needed For Encoding"
   ]
  },
  {
   "cell_type": "code",
   "execution_count": 1,
   "id": "bd7be0f0",
   "metadata": {},
   "outputs": [],
   "source": [
    "import numpy as np\n",
    "import pandas as pd\n",
    "import regex as re"
   ]
  },
  {
   "cell_type": "markdown",
   "id": "02eef2fe",
   "metadata": {},
   "source": [
    "<a id=\"2\"></a>\n",
    "## Data Encoding\n"
   ]
  },
  {
   "cell_type": "code",
   "execution_count": 2,
   "id": "87a039a0-a4fd-4565-8fd8-dc588629aba0",
   "metadata": {},
   "outputs": [],
   "source": [
    "df = pd.read_json('data_post02.json', lines=True)"
   ]
  },
  {
   "cell_type": "code",
   "execution_count": 3,
   "id": "c4791a8c",
   "metadata": {},
   "outputs": [
    {
     "name": "stdout",
     "output_type": "stream",
     "text": [
      "<class 'pandas.core.frame.DataFrame'>\n",
      "RangeIndex: 15884 entries, 0 to 15883\n",
      "Data columns (total 33 columns):\n",
      " #   Column               Non-Null Count  Dtype  \n",
      "---  ------               --------------  -----  \n",
      " 0   make_model           15884 non-null  object \n",
      " 1   body_type            15884 non-null  object \n",
      " 2   price                15884 non-null  int64  \n",
      " 3   km                   15884 non-null  float64\n",
      " 4   prev_owner           15884 non-null  int64  \n",
      " 5   hp                   15884 non-null  int64  \n",
      " 6   type                 15884 non-null  object \n",
      " 7   first_registration   15884 non-null  int64  \n",
      " 8   body_color           15884 non-null  object \n",
      " 9   paint_type           15884 non-null  object \n",
      " 10  nr_doors             15884 non-null  object \n",
      " 11  nr_seats             15884 non-null  object \n",
      " 12  gearing_type         15884 non-null  object \n",
      " 13  displacement         15884 non-null  int64  \n",
      " 14  cylinders            15884 non-null  object \n",
      " 15  weight               15884 non-null  float64\n",
      " 16  drive_chain          15884 non-null  object \n",
      " 17  fuel                 15884 non-null  object \n",
      " 18  co2_emission         15884 non-null  int64  \n",
      " 19  comfort_convenience  14964 non-null  object \n",
      " 20  entertainment_media  14510 non-null  object \n",
      " 21  extras               12955 non-null  object \n",
      " 22  safety_security      14902 non-null  object \n",
      " 23  gears                15884 non-null  int64  \n",
      " 24  country_version      15884 non-null  object \n",
      " 25  warranty_mo          15884 non-null  int64  \n",
      " 26  vat_deductible       15884 non-null  int64  \n",
      " 27  upholstery_material  15884 non-null  object \n",
      " 28  upholstery_color     15884 non-null  object \n",
      " 29  emission_class       15884 non-null  object \n",
      " 30  consumption_comb     15884 non-null  float64\n",
      " 31  consumption_city     15884 non-null  float64\n",
      " 32  consumption_country  15884 non-null  float64\n",
      "dtypes: float64(5), int64(9), object(19)\n",
      "memory usage: 4.0+ MB\n"
     ]
    }
   ],
   "source": [
    "df.info()"
   ]
  },
  {
   "cell_type": "code",
   "execution_count": 4,
   "id": "c5731909-7987-46f5-a81b-3677194d73b1",
   "metadata": {},
   "outputs": [
    {
     "data": {
      "text/plain": [
       "Index(['make_model', 'body_type', 'price', 'km', 'prev_owner', 'hp', 'type',\n",
       "       'first_registration', 'body_color', 'paint_type', 'nr_doors',\n",
       "       'nr_seats', 'gearing_type', 'displacement', 'cylinders', 'weight',\n",
       "       'drive_chain', 'fuel', 'co2_emission', 'comfort_convenience',\n",
       "       'entertainment_media', 'extras', 'safety_security', 'gears',\n",
       "       'country_version', 'warranty_mo', 'vat_deductible',\n",
       "       'upholstery_material', 'upholstery_color', 'emission_class',\n",
       "       'consumption_comb', 'consumption_city', 'consumption_country'],\n",
       "      dtype='object')"
      ]
     },
     "execution_count": 4,
     "metadata": {},
     "output_type": "execute_result"
    }
   ],
   "source": [
    "df.columns"
   ]
  },
  {
   "cell_type": "markdown",
   "id": "da45c684-e93f-4081-aa3a-78d499697991",
   "metadata": {},
   "source": [
    "### Encoding multi-class features"
   ]
  },
  {
   "cell_type": "code",
   "execution_count": 5,
   "id": "0e680f20",
   "metadata": {},
   "outputs": [],
   "source": [
    "cat_cols = ['make_model', 'body_type','prev_owner','type', 'first_registration', 'body_color',\n",
    "           'paint_type', 'nr_doors', 'nr_seats', 'gearing_type', 'drive_chain', 'fuel', \n",
    "            'country_version', 'upholstery_material', 'upholstery_color', 'emission_class', 'gears', 'cylinders']"
   ]
  },
  {
   "cell_type": "code",
   "execution_count": 6,
   "id": "9c09ee20-7dc3-4dd2-b9bf-4dc34b872026",
   "metadata": {},
   "outputs": [],
   "source": [
    "for f in cat_cols:\n",
    "    df[f] = df[f].astype(str)"
   ]
  },
  {
   "cell_type": "code",
   "execution_count": 7,
   "id": "fbc6f2d9-c5a1-4d4e-80d8-6580fadf99fc",
   "metadata": {},
   "outputs": [],
   "source": [
    "df2 = pd.get_dummies(df[cat_cols], prefix=cat_cols, drop_first=False)\n",
    "df = pd.concat([df,df2])"
   ]
  },
  {
   "cell_type": "code",
   "execution_count": 8,
   "id": "d950ff6a-6fd4-4c40-81ff-343a696fd503",
   "metadata": {},
   "outputs": [
    {
     "data": {
      "text/plain": [
       "Index(['make_model', 'body_type', 'price', 'km', 'prev_owner', 'hp', 'type',\n",
       "       'first_registration', 'body_color', 'paint_type',\n",
       "       ...\n",
       "       'emission_class_euro 6', 'emission_class_euro 6c',\n",
       "       'emission_class_euro 6d', 'emission_class_euro 6d-temp', 'gears_5',\n",
       "       'gears_6', 'gears_7', 'gears_8', 'cylinders_<=3', 'cylinders_>=4'],\n",
       "      dtype='object', length=119)"
      ]
     },
     "execution_count": 8,
     "metadata": {},
     "output_type": "execute_result"
    }
   ],
   "source": [
    "df.columns"
   ]
  },
  {
   "cell_type": "code",
   "execution_count": 9,
   "id": "811e112d-7266-4c5a-ad31-e4df974b3105",
   "metadata": {},
   "outputs": [],
   "source": [
    "df = df.drop(cat_cols, axis=1)"
   ]
  },
  {
   "cell_type": "code",
   "execution_count": 10,
   "id": "ec8bd186-e885-4873-bd91-4d0400d355e3",
   "metadata": {},
   "outputs": [
    {
     "data": {
      "text/plain": [
       "Index(['price', 'km', 'hp', 'displacement', 'weight', 'co2_emission',\n",
       "       'comfort_convenience', 'entertainment_media', 'extras',\n",
       "       'safety_security',\n",
       "       ...\n",
       "       'emission_class_euro 6', 'emission_class_euro 6c',\n",
       "       'emission_class_euro 6d', 'emission_class_euro 6d-temp', 'gears_5',\n",
       "       'gears_6', 'gears_7', 'gears_8', 'cylinders_<=3', 'cylinders_>=4'],\n",
       "      dtype='object', length=101)"
      ]
     },
     "execution_count": 10,
     "metadata": {},
     "output_type": "execute_result"
    }
   ],
   "source": [
    "df.columns"
   ]
  },
  {
   "cell_type": "markdown",
   "id": "4a59dc1a-5781-495a-9510-3e290dbfbde6",
   "metadata": {},
   "source": [
    "### Encoding nested features\n",
    "* find unique features from these lists\n",
    "* make each into a feature with an identifiable prefix."
   ]
  },
  {
   "cell_type": "code",
   "execution_count": 11,
   "id": "d75ecdbe-6e8e-4e9d-bc9e-e9fae7944c9a",
   "metadata": {},
   "outputs": [
    {
     "name": "stdout",
     "output_type": "stream",
     "text": [
      "0        {Cruise control, Multi-function steering wheel...\n",
      "1        {Air conditioning, Tinted windows, Parking ass...\n",
      "2        {Cruise control, Multi-function steering wheel...\n",
      "3        {Heads-up display, Multi-function steering whe...\n",
      "4        {Multi-function steering wheel, Rain sensor, A...\n",
      "                               ...                        \n",
      "15879                                                  NaN\n",
      "15880                                                  NaN\n",
      "15881                                                  NaN\n",
      "15882                                                  NaN\n",
      "15883                                                  NaN\n",
      "Name: comfort_convenience, Length: 31768, dtype: object\n",
      "com_multi-function_steering_wheel\n",
      "com_electric_tailgate\n",
      "com_park_distance_control\n",
      "com_parking_assist_system_sensors_rear\n",
      "com_hill_holder\n",
      "com_rain_sensor\n",
      "com_panorama_roof\n",
      "com_navigation_system\n",
      "com_air_suspension\n",
      "com_parking_assist_system_sensors_front\n",
      "com_keyless_central_door_lock\n",
      "com_split_rear_seats\n",
      "com_lumbar_support\n",
      "com_massage_seats\n",
      "com_seat_ventilation\n",
      "com_heads-up_display\n",
      "com_air_conditioning\n",
      "com_armrest\n",
      "com_electrical_side_mirrors\n",
      "com_power_windows\n",
      "com_leather_seats\n",
      "com_heated_steering_wheel\n",
      "com_start-stop_system\n",
      "com_leather_steering_wheel\n",
      "com_automatic_climate_control\n",
      "com_cruise_control\n",
      "com_light_sensor\n",
      "com_tinted_windows\n",
      "com_electrically_heated_windshield\n",
      "com_windshield\n",
      "com_parking_assist_system_self-steering\n",
      "com_parking_assist_system_camera\n",
      "com_electrically_adjustable_seats\n",
      "com_wind_deflector\n",
      "com_electric_starter\n",
      "com_sunroof\n",
      "com_auxiliary_heating\n",
      "com_seat_heating\n",
      "0        {On-board computer, Radio, Hands-free equipmen...\n",
      "1        {On-board computer, Hands-free equipment, Blue...\n",
      "2                                 {On-board computer, MP3}\n",
      "3        {On-board computer, Hands-free equipment, Blue...\n",
      "4        {On-board computer, Hands-free equipment, Blue...\n",
      "                               ...                        \n",
      "15879                                                  NaN\n",
      "15880                                                  NaN\n",
      "15881                                                  NaN\n",
      "15882                                                  NaN\n",
      "15883                                                  NaN\n",
      "Name: entertainment_media, Length: 31768, dtype: object\n",
      "ent_on-board_computer\n",
      "ent_hands-free_equipment\n",
      "ent_bluetooth\n",
      "ent_sound_system\n",
      "ent_usb\n",
      "ent_television\n",
      "ent_cd_player\n",
      "ent_digital_radio\n",
      "ent_radio\n",
      "ent_mp3\n",
      "0        {Voice Control, Catalytic Converter, Alloy whe...\n",
      "1        {Voice Control, Sport suspension, Sport seats,...\n",
      "2                            {Voice Control, Alloy wheels}\n",
      "3               {Voice Control, Sport seats, Alloy wheels}\n",
      "4        {Sport package, Voice Control, Sport suspensio...\n",
      "                               ...                        \n",
      "15879                                                  NaN\n",
      "15880                                                  NaN\n",
      "15881                                                  NaN\n",
      "15882                                                  NaN\n",
      "15883                                                  NaN\n",
      "Name: extras, Length: 31768, dtype: object\n",
      "ext_voice_control\n",
      "ext_roof_rack\n",
      "ext_tuned_car\n",
      "ext_catalytic_converter\n",
      "ext_sport_seats\n",
      "ext_alloy_wheels\n",
      "ext_handicapped_enabled\n",
      "ext_ski_bag\n",
      "ext_winter_tyres\n",
      "ext_shift_paddles\n",
      "ext_right_hand_drive\n",
      "ext_cab_or_rented_car\n",
      "ext_sliding_door\n",
      "ext_sport_suspension\n",
      "ext_sport_package\n",
      "ext_touch_screen\n",
      "ext_trailer_hitch\n",
      "0        {Fog lights, Tire pressure monitoring system, ...\n",
      "1        {Traction control, Tire pressure monitoring sy...\n",
      "2        {Tire pressure monitoring system, Central door...\n",
      "3        {Tire pressure monitoring system, Side airbag,...\n",
      "4        {Fog lights, Tire pressure monitoring system, ...\n",
      "                               ...                        \n",
      "15879                                                  NaN\n",
      "15880                                                  NaN\n",
      "15881                                                  NaN\n",
      "15882                                                  NaN\n",
      "15883                                                  NaN\n",
      "Name: safety_security, Length: 31768, dtype: object\n",
      "saf_central_door_lock\n",
      "saf_traction_control\n",
      "saf_electronic_stability_control\n",
      "saf_lane_departure_warning_system\n",
      "saf_emergency_brake_assistant\n",
      "saf_tire_pressure_monitoring_system\n",
      "saf_xenon_headlights\n",
      "saf_traffic_sign_recognition\n",
      "saf_daytime_running_lights\n",
      "saf_led_headlights\n",
      "saf_driver_drowsiness_detection\n",
      "saf_alarm_system\n",
      "saf_night_view_assist\n",
      "saf_emergency_system\n",
      "saf_head_airbag\n",
      "saf_central_door_lock_with_remote_control\n",
      "saf_adaptive_cruise_control\n",
      "saf_isofix\n",
      "saf_fog_lights\n",
      "saf_side_airbag\n",
      "saf_passenger-side_airbag\n",
      "saf_adaptive_headlights\n",
      "saf_power_steering\n",
      "saf_rear_airbag\n",
      "saf_immobilizer\n",
      "saf_blind_spot_monitor\n",
      "saf_led_daytime_running_lights\n",
      "saf_abs\n",
      "saf_driver-side_airbag\n"
     ]
    },
    {
     "data": {
      "text/plain": [
       "Index(['price', 'km', 'hp', 'displacement', 'weight', 'co2_emission',\n",
       "       'comfort_convenience', 'entertainment_media', 'extras',\n",
       "       'safety_security',\n",
       "       ...\n",
       "       'saf_side_airbag', 'saf_passenger-side_airbag',\n",
       "       'saf_adaptive_headlights', 'saf_power_steering', 'saf_rear_airbag',\n",
       "       'saf_immobilizer', 'saf_blind_spot_monitor',\n",
       "       'saf_led_daytime_running_lights', 'saf_abs', 'saf_driver-side_airbag'],\n",
       "      dtype='object', length=195)"
      ]
     },
     "execution_count": 11,
     "metadata": {},
     "output_type": "execute_result"
    }
   ],
   "source": [
    "pre = {'comfort_convenience':'com',\n",
    "     'entertainment_media':'ent',\n",
    "     'extras':'ext', \n",
    "     'safety_security':'saf'}\n",
    "for col in ['comfort_convenience','entertainment_media', \n",
    "            'extras', 'safety_security']:\n",
    "    df[col] = [set(x.split(',')) if x.__class__ == str else np.nan \n",
    "                       for x in df[col]]\n",
    "    print(df[col])\n",
    "    unique = set()\n",
    "    for v in df[col]:\n",
    "        if (v.__class__ == float) or (v == None):\n",
    "            continue\n",
    "        for f in v:\n",
    "            unique.add(f)\n",
    "    for f in unique:\n",
    "        name = pre[col]+'_'+re.sub('\\s','_',f.lower())\n",
    "        df[name] = [0 if ((x.__class__ == float)|(x == None)) else 1*(f in x) for x in df[col]]\n",
    "        if df[name].count() != 15884:\n",
    "            print(name)\n",
    "df.columns "
   ]
  },
  {
   "cell_type": "code",
   "execution_count": 12,
   "id": "0c83f706",
   "metadata": {},
   "outputs": [
    {
     "data": {
      "text/plain": [
       "0    29582\n",
       "1     2186\n",
       "Name: saf_head_airbag, dtype: int64"
      ]
     },
     "execution_count": 12,
     "metadata": {},
     "output_type": "execute_result"
    }
   ],
   "source": [
    "df['saf_head_airbag'].value_counts()"
   ]
  },
  {
   "cell_type": "code",
   "execution_count": 13,
   "id": "a8f7fcb8-77c6-439b-ad95-b5901017ab43",
   "metadata": {},
   "outputs": [],
   "source": [
    "df = df.drop(['comfort_convenience','entertainment_media', \n",
    "            'extras', 'safety_security'], axis=1)"
   ]
  },
  {
   "cell_type": "code",
   "execution_count": 14,
   "id": "a15cb129",
   "metadata": {},
   "outputs": [],
   "source": [
    "for f in df.columns:\n",
    "    df[f] = df[f].fillna(0)"
   ]
  },
  {
   "cell_type": "code",
   "execution_count": 15,
   "id": "9513f23f",
   "metadata": {},
   "outputs": [
    {
     "name": "stdout",
     "output_type": "stream",
     "text": [
      "float64\n",
      "float64\n",
      "float64\n",
      "float64\n",
      "float64\n",
      "float64\n",
      "float64\n",
      "float64\n",
      "float64\n",
      "float64\n",
      "float64\n",
      "float64\n",
      "float64\n",
      "float64\n",
      "float64\n",
      "float64\n",
      "float64\n",
      "float64\n",
      "float64\n",
      "float64\n",
      "float64\n",
      "float64\n",
      "float64\n",
      "float64\n",
      "float64\n",
      "float64\n",
      "float64\n",
      "float64\n",
      "float64\n",
      "float64\n",
      "float64\n",
      "float64\n",
      "float64\n",
      "float64\n",
      "float64\n",
      "float64\n",
      "float64\n",
      "float64\n",
      "float64\n",
      "float64\n",
      "float64\n",
      "float64\n",
      "float64\n",
      "float64\n",
      "float64\n",
      "float64\n",
      "float64\n",
      "float64\n",
      "float64\n",
      "float64\n",
      "float64\n",
      "float64\n",
      "float64\n",
      "float64\n",
      "float64\n",
      "float64\n",
      "float64\n",
      "float64\n",
      "float64\n",
      "float64\n",
      "float64\n",
      "float64\n",
      "float64\n",
      "float64\n",
      "float64\n",
      "float64\n",
      "float64\n",
      "float64\n",
      "float64\n",
      "float64\n",
      "float64\n",
      "float64\n",
      "float64\n",
      "float64\n",
      "float64\n",
      "float64\n",
      "float64\n",
      "float64\n",
      "float64\n",
      "float64\n",
      "float64\n",
      "float64\n",
      "float64\n",
      "float64\n",
      "float64\n",
      "float64\n",
      "float64\n",
      "float64\n",
      "float64\n",
      "float64\n",
      "float64\n",
      "float64\n",
      "float64\n",
      "float64\n",
      "float64\n",
      "float64\n",
      "float64\n",
      "int64\n",
      "int64\n",
      "int64\n",
      "int64\n",
      "int64\n",
      "int64\n",
      "int64\n",
      "int64\n",
      "int64\n",
      "int64\n",
      "int64\n",
      "int64\n",
      "int64\n",
      "int64\n",
      "int64\n",
      "int64\n",
      "int64\n",
      "int64\n",
      "int64\n",
      "int64\n",
      "int64\n",
      "int64\n",
      "int64\n",
      "int64\n",
      "int64\n",
      "int64\n",
      "int64\n",
      "int64\n",
      "int64\n",
      "int64\n",
      "int64\n",
      "int64\n",
      "int64\n",
      "int64\n",
      "int64\n",
      "int64\n",
      "int64\n",
      "int64\n",
      "int64\n",
      "int64\n",
      "int64\n",
      "int64\n",
      "int64\n",
      "int64\n",
      "int64\n",
      "int64\n",
      "int64\n",
      "int64\n",
      "int64\n",
      "int64\n",
      "int64\n",
      "int64\n",
      "int64\n",
      "int64\n",
      "int64\n",
      "int64\n",
      "int64\n",
      "int64\n",
      "int64\n",
      "int64\n",
      "int64\n",
      "int64\n",
      "int64\n",
      "int64\n",
      "int64\n",
      "int64\n",
      "int64\n",
      "int64\n",
      "int64\n",
      "int64\n",
      "int64\n",
      "int64\n",
      "int64\n",
      "int64\n",
      "int64\n",
      "int64\n",
      "int64\n",
      "int64\n",
      "int64\n",
      "int64\n",
      "int64\n",
      "int64\n",
      "int64\n",
      "int64\n",
      "int64\n",
      "int64\n",
      "int64\n",
      "int64\n",
      "int64\n",
      "int64\n",
      "int64\n",
      "int64\n",
      "int64\n",
      "int64\n"
     ]
    }
   ],
   "source": [
    "for f in df.columns:\n",
    "    if df[f].isna().sum() > 0:\n",
    "        print('nan in', f)\n",
    "    print(df[f].dtype)"
   ]
  },
  {
   "cell_type": "code",
   "execution_count": 16,
   "id": "28a6b2fd-44e6-4640-b046-a594f80fa96a",
   "metadata": {},
   "outputs": [
    {
     "name": "stdout",
     "output_type": "stream",
     "text": [
      "<class 'pandas.core.frame.DataFrame'>\n",
      "Int64Index: 31768 entries, 0 to 15883\n",
      "Columns: 191 entries, price to saf_driver-side_airbag\n",
      "dtypes: float64(97), int64(94)\n",
      "memory usage: 46.5 MB\n"
     ]
    }
   ],
   "source": [
    "df.info()"
   ]
  },
  {
   "cell_type": "code",
   "execution_count": 17,
   "id": "11bc45a0-8961-489c-95ca-8269632bc3b0",
   "metadata": {},
   "outputs": [],
   "source": [
    "df.to_json('data_post03.json', orient='records', lines=True)"
   ]
  },
  {
   "cell_type": "markdown",
   "id": "6fe038b6",
   "metadata": {},
   "source": [
    "## Summary\n",
    "\n",
    "* I convered many of the category features into dummy features and then dropped these. \n",
    "* I also converted many nested features into dummy features and then dropped these.\n",
    "* In the process increaased the number of features from 33 to 191.\n",
    "* also incidentally sorted the features, fist continuous, then dummies from categorical, then dummies from nested."
   ]
  },
  {
   "cell_type": "markdown",
   "id": "958aa118",
   "metadata": {},
   "source": [
    "<a id=\"3\"></a>\n",
    "\n",
    "## End of Encoding"
   ]
  },
  {
   "cell_type": "markdown",
   "id": "7e538528",
   "metadata": {},
   "source": [
    "<a href=\"#toc\" class=\"btn btn-primary btn-sm\" role=\"button\" aria-pressed=\"true\" \n",
    "style=\"color:blue; background-color:#dfa8e4\" data-toggle=\"popover\">Content</a>"
   ]
  },
  {
   "cell_type": "markdown",
   "id": "125ea14f",
   "metadata": {},
   "source": [
    "## Next: [Data Visualizations & Handling Outliers](03_data_viz_&_handling_outliers.ipynb)"
   ]
  }
 ],
 "metadata": {
  "kernelspec": {
   "display_name": "Python 3 (ipykernel)",
   "language": "python",
   "name": "python3"
  },
  "language_info": {
   "codemirror_mode": {
    "name": "ipython",
    "version": 3
   },
   "file_extension": ".py",
   "mimetype": "text/x-python",
   "name": "python",
   "nbconvert_exporter": "python",
   "pygments_lexer": "ipython3",
   "version": "3.7.16"
  }
 },
 "nbformat": 4,
 "nbformat_minor": 5
}
