{
 "cells": [
  {
   "cell_type": "markdown",
   "id": "ef218860",
   "metadata": {},
   "source": [
    "<a id=\"toc\"></a>\n",
    "\n",
    "# <p style=\"background-color: #008080; font-family:newtimeroman; color:#FFF9ED; font-size:175%; text-align:center; border-radius:5px 5px;\">Auto Scout Car Prices Prediction Project: <br> Parameter Tuning</p>\n",
    "\n",
    "## <p style=\"background-color: #008080; font-family:newtimeroman; color:#FFF9ED; font-size:150%; text-align:center; border-radius:10px 10px;\">Content</p>\n",
    "\n",
    "* [INTRODUCTION NOTEBOOK](00_introduction.ipynb)\n",
    "* [IMPORTING LIBRARIES NEEDED IN THIS NOTEBOOK](#1)\n",
    "* [FUNCTIONS](#fn)\n",
    "* [PRELIMINARIES](#2A)\n",
    "* [PARAMETER TUNING](#2B)\n",
    "* [THE END OF PARAMETER TUNING](#3)"
   ]
  },
  {
   "cell_type": "markdown",
   "id": "70c6584a",
   "metadata": {
    "jp-MarkdownHeadingCollapsed": true
   },
   "source": [
    "<a id=\"2A\"></a>\n",
    "### Parameter Selection for XGBoost\n",
    "In the [previous](04_model_selection.ipynb) notebook I selected the XGBoost model. I also selected the ten (10) most important features. In this final notebook I am going to finalize the model by choosing the hyper-parameters for the XGBoost model."
   ]
  },
  {
   "cell_type": "markdown",
   "id": "6442d9dd",
   "metadata": {},
   "source": [
    "<a id=\"1\"></a>\n",
    "\n",
    "## Importing Libraries"
   ]
  },
  {
   "cell_type": "code",
   "execution_count": 1,
   "id": "bd7be0f0",
   "metadata": {},
   "outputs": [],
   "source": [
    "import pandas as pd\n",
    "import pickle\n",
    "from sklearn.compose import ColumnTransformer\n",
    "from sklearn.model_selection import train_test_split, GridSearchCV\n",
    "from sklearn.pipeline import Pipeline, make_pipeline\n",
    "from sklearn.preprocessing import StandardScaler\n",
    "from xgboost import XGBRegressor"
   ]
  },
  {
   "cell_type": "markdown",
   "id": "02eef2fe",
   "metadata": {},
   "source": [
    "<a id=\"2A\"></a>\n",
    "## Preliminaries"
   ]
  },
  {
   "cell_type": "code",
   "execution_count": 2,
   "id": "4091d00a",
   "metadata": {},
   "outputs": [],
   "source": [
    "df = pd.read_json('data_post03.json', lines=True)"
   ]
  },
  {
   "cell_type": "code",
   "execution_count": 3,
   "id": "f3de4095",
   "metadata": {},
   "outputs": [],
   "source": [
    "cols = ['price'] + ['age',\n",
    " 'co2_emission',\n",
    " 'consumption_comb',\n",
    " 'displacement',\n",
    " 'hp',\n",
    " 'km',\n",
    " 'warranty_mo',\n",
    " 'weight']"
   ]
  },
  {
   "cell_type": "code",
   "execution_count": 4,
   "id": "87837f74",
   "metadata": {},
   "outputs": [],
   "source": [
    "df = df[cols]"
   ]
  },
  {
   "cell_type": "code",
   "execution_count": 5,
   "id": "faa90705-d23c-4965-8e59-82f2fcf60662",
   "metadata": {},
   "outputs": [
    {
     "name": "stdout",
     "output_type": "stream",
     "text": [
      "<class 'pandas.core.frame.DataFrame'>\n",
      "RangeIndex: 15884 entries, 0 to 15883\n",
      "Data columns (total 9 columns):\n",
      " #   Column            Non-Null Count  Dtype  \n",
      "---  ------            --------------  -----  \n",
      " 0   price             15884 non-null  int64  \n",
      " 1   age               15884 non-null  int64  \n",
      " 2   co2_emission      15884 non-null  int64  \n",
      " 3   consumption_comb  15884 non-null  float64\n",
      " 4   displacement      15884 non-null  int64  \n",
      " 5   hp                15884 non-null  int64  \n",
      " 6   km                15884 non-null  float64\n",
      " 7   warranty_mo       15884 non-null  int64  \n",
      " 8   weight            15884 non-null  float64\n",
      "dtypes: float64(3), int64(6)\n",
      "memory usage: 1.1 MB\n"
     ]
    }
   ],
   "source": [
    "df.info()"
   ]
  },
  {
   "cell_type": "code",
   "execution_count": 6,
   "id": "de3ead2b",
   "metadata": {},
   "outputs": [],
   "source": [
    "X = df.drop('price', axis=1)"
   ]
  },
  {
   "cell_type": "code",
   "execution_count": 7,
   "id": "8721ea27",
   "metadata": {},
   "outputs": [],
   "source": [
    "y = df['price']"
   ]
  },
  {
   "cell_type": "markdown",
   "id": "bdfc055f",
   "metadata": {},
   "source": [
    "## Features Transformer"
   ]
  },
  {
   "cell_type": "code",
   "execution_count": 8,
   "id": "a8207bd5",
   "metadata": {},
   "outputs": [],
   "source": [
    "num_cols = ['km', 'weight', 'hp', 'co2_emission', 'consumption_comb',\n",
    "            'displacement', 'warranty_mo']"
   ]
  },
  {
   "cell_type": "code",
   "execution_count": 9,
   "id": "50b6a2c2",
   "metadata": {},
   "outputs": [],
   "source": [
    "num_transformer = StandardScaler()"
   ]
  },
  {
   "cell_type": "code",
   "execution_count": 10,
   "id": "a8b68d7a",
   "metadata": {},
   "outputs": [],
   "source": [
    "preprocessor = ColumnTransformer(\n",
    "    transformers=[\n",
    "        ('num', num_transformer, num_cols)\n",
    "    ], remainder='passthrough')"
   ]
  },
  {
   "cell_type": "markdown",
   "id": "a0f2e255",
   "metadata": {},
   "source": [
    "## XGBoost Model and Parameters\n",
    "\n",
    "XGBoost model has many parameters. I am using the default values for most of the model parameters. Most important ones are listed here:\n",
    "* ``tree_method``: 'hist' which is also the default.\n",
    "\n",
    "I am going to focus on choosing the optimum values of the following:\n",
    "1. ``grow_policy``: choose between 'depthwise' and 'lossguide'\n",
    "2. ``eta``: step size shrinkage used in update to prevent overfitting. \n",
    "3. ``gamma``: or ``min_split_loss``, minimum loss reduction required to make a further partition on a leaf node of the tree.\n",
    "4. ``lambda``: L2 regularization term on weights.\n",
    "5. ``alpha``: L1 regularization term on weights."
   ]
  },
  {
   "cell_type": "markdown",
   "id": "1d8003f4",
   "metadata": {},
   "source": [
    "## Grid Search for Parameter Tuning\n",
    "\n",
    "### Ran 13 mins, only to reveal that the default parameters are the best!\n",
    "\n",
    "{'xgbregressor__alpha': 0,\n",
    " 'xgbregressor__eta': 0,\n",
    " 'xgbregressor__gamma': 0,\n",
    " 'xgbregressor__grow_policy': 'depthwise',\n",
    " 'xgbregressor__lambda': 0}\n"
   ]
  },
  {
   "cell_type": "raw",
   "id": "06443ebe",
   "metadata": {},
   "source": [
    "pipe = Pipeline(steps=[('preprocessor', preprocessor),\n",
    "                       ('model', XGBRegressor())])"
   ]
  },
  {
   "cell_type": "raw",
   "id": "3fce44b8",
   "metadata": {},
   "source": [
    "params = {\n",
    "    'model__grow_policy': ['depthwise', 'lossguide'],\n",
    "    'model__eta': [i//20 for i in range(0,100,20)],\n",
    "    'model__gamma': [0] + [2**i for i in range(4)],\n",
    "    'model__lambda': [0] + [2**i for i in range(4)],\n",
    "    'model__alpha': [0] + [2**i for i in range(4)]\n",
    "}"
   ]
  },
  {
   "cell_type": "raw",
   "id": "f27c8ed3",
   "metadata": {},
   "source": [
    "grid = GridSearchCV(pipe, param_grid=params, scoring='r2', cv=2)"
   ]
  },
  {
   "cell_type": "raw",
   "id": "22d22a6d",
   "metadata": {},
   "source": [
    "grid.estimator.get_params().keys()"
   ]
  },
  {
   "cell_type": "raw",
   "id": "31ea19c5",
   "metadata": {},
   "source": [
    "grid.fit(X, y)"
   ]
  },
  {
   "cell_type": "raw",
   "id": "4229fce3",
   "metadata": {},
   "source": [
    "grid.best_params_"
   ]
  },
  {
   "cell_type": "markdown",
   "id": "4449a65e",
   "metadata": {},
   "source": [
    "## Preserve the Pipeline"
   ]
  },
  {
   "cell_type": "code",
   "execution_count": 11,
   "id": "4578f727",
   "metadata": {},
   "outputs": [],
   "source": [
    "pipe = Pipeline(steps=[('preprocessor', preprocessor),\n",
    "                       ('model', XGBRegressor())])"
   ]
  },
  {
   "cell_type": "code",
   "execution_count": 12,
   "id": "1661049b",
   "metadata": {},
   "outputs": [
    {
     "name": "stdout",
     "output_type": "stream",
     "text": [
      "[18:22:53] WARNING: src/objective/regression_obj.cu:152: reg:linear is now deprecated in favor of reg:squarederror.\n"
     ]
    },
    {
     "data": {
      "text/plain": [
       "Pipeline(steps=[('preprocessor',\n",
       "                 ColumnTransformer(remainder='passthrough',\n",
       "                                   transformers=[('num', StandardScaler(),\n",
       "                                                  ['km', 'weight', 'hp',\n",
       "                                                   'co2_emission',\n",
       "                                                   'consumption_comb',\n",
       "                                                   'displacement',\n",
       "                                                   'warranty_mo'])])),\n",
       "                ('model', XGBRegressor())])"
      ]
     },
     "execution_count": 12,
     "metadata": {},
     "output_type": "execute_result"
    }
   ],
   "source": [
    "pipe.fit(X, y)"
   ]
  },
  {
   "cell_type": "code",
   "execution_count": 13,
   "id": "a533b673",
   "metadata": {},
   "outputs": [],
   "source": [
    "with open('model.pkl', 'wb') as f:\n",
    "    pickle.dump(pipe, f)"
   ]
  },
  {
   "cell_type": "markdown",
   "id": "0c993210",
   "metadata": {},
   "source": [
    "## Test Unpickle\n",
    "\n",
    "* Unpickle does not require one to load the environment (no import libraries)\n",
    "* It is robust to the dataframe having extra columns"
   ]
  },
  {
   "cell_type": "code",
   "execution_count": 14,
   "id": "3088cf2e",
   "metadata": {},
   "outputs": [
    {
     "name": "stdout",
     "output_type": "stream",
     "text": [
      "[18:22:54] WARNING: src/objective/regression_obj.cu:152: reg:linear is now deprecated in favor of reg:squarederror.\n"
     ]
    }
   ],
   "source": [
    "with open('model.pkl', 'rb') as f:\n",
    "    loaded_model_pickle = pickle.load(f)"
   ]
  },
  {
   "cell_type": "code",
   "execution_count": 15,
   "id": "4aea3b8d",
   "metadata": {},
   "outputs": [],
   "source": [
    "df = pd.read_json('data_post03.json', lines=True)\n",
    "X = df.drop('price', axis=1)\n",
    "y = df['price']"
   ]
  },
  {
   "cell_type": "code",
   "execution_count": 16,
   "id": "ce936063",
   "metadata": {},
   "outputs": [
    {
     "data": {
      "text/plain": [
       "array([14509.009, 16318.796, 15882.247, 13855.735, 14894.147],\n",
       "      dtype=float32)"
      ]
     },
     "execution_count": 16,
     "metadata": {},
     "output_type": "execute_result"
    }
   ],
   "source": [
    "loaded_model_pickle.predict(X[:5])"
   ]
  },
  {
   "cell_type": "code",
   "execution_count": 17,
   "id": "80c1f081",
   "metadata": {},
   "outputs": [],
   "source": [
    "cols = ['age',\n",
    " 'co2_emission',\n",
    " 'consumption_comb',\n",
    " 'displacement',\n",
    " 'gearing_type_manual',\n",
    " 'hp',\n",
    " 'km',\n",
    " 'prev_owner_1',\n",
    " 'warranty_mo',\n",
    " 'weight']"
   ]
  },
  {
   "cell_type": "code",
   "execution_count": 18,
   "id": "26403ae2",
   "metadata": {},
   "outputs": [],
   "source": [
    "X2 = X[cols]"
   ]
  },
  {
   "cell_type": "code",
   "execution_count": 19,
   "id": "37f9cdbc",
   "metadata": {},
   "outputs": [
    {
     "data": {
      "text/plain": [
       "array([14509.009, 16318.796, 15882.247, 13855.735, 14894.147],\n",
       "      dtype=float32)"
      ]
     },
     "execution_count": 19,
     "metadata": {},
     "output_type": "execute_result"
    }
   ],
   "source": [
    "loaded_model_pickle.predict(X2[:5])"
   ]
  },
  {
   "cell_type": "markdown",
   "id": "eee70425",
   "metadata": {},
   "source": [
    "## Summary"
   ]
  },
  {
   "cell_type": "markdown",
   "id": "7e538528",
   "metadata": {},
   "source": [
    "<a href=\"#toc\" class=\"btn btn-primary btn-sm\" role=\"button\" aria-pressed=\"true\" \n",
    "style=\"color:blue; background-color:#dfa8e4\" data-toggle=\"popover\">Content</a>"
   ]
  },
  {
   "cell_type": "markdown",
   "id": "958aa118",
   "metadata": {
    "jp-MarkdownHeadingCollapsed": true
   },
   "source": [
    "<a id=\"3\"></a>\n",
    "## End of Parameter Tuning"
   ]
  }
 ],
 "metadata": {
  "kernelspec": {
   "display_name": "Python 3 (ipykernel)",
   "language": "python",
   "name": "python3"
  },
  "language_info": {
   "codemirror_mode": {
    "name": "ipython",
    "version": 3
   },
   "file_extension": ".py",
   "mimetype": "text/x-python",
   "name": "python",
   "nbconvert_exporter": "python",
   "pygments_lexer": "ipython3",
   "version": "3.7.16"
  }
 },
 "nbformat": 4,
 "nbformat_minor": 5
}
