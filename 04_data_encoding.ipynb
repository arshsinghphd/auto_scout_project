{
 "cells": [
  {
   "cell_type": "markdown",
   "id": "ef218860",
   "metadata": {},
   "source": [
    "<a id=\"toc\"></a>\n",
    "\n",
    "# <p style=\"background-color: #008080; font-family:newtimeroman; color:#FFF9ED; font-size:175%; text-align:center; border-radius:5px 5px;\">Auto Scout Car Prices Prediction Project: <br> Data Encoding </p>\n",
    "\n",
    "## <p style=\"background-color: #008080; font-family:newtimeroman; color:#FFF9ED; font-size:150%; text-align:center; border-radius:10px 10px;\">Content</p>\n",
    "\n",
    "* [INTRODUCTION NOTEBOOK](00_introduction.ipynb)\n",
    "* [IMPORTING LIBRARIES NEEDED IN THIS NOTEBOOK](#1)\n",
    "* [DATA ENCODING](#2)\n",
    "* [THE END OF DATA ENCODING](#3)"
   ]
  },
  {
   "cell_type": "markdown",
   "id": "6442d9dd",
   "metadata": {},
   "source": [
    "<a id=\"1\"></a>\n",
    "\n",
    "## Importing Libraries Needed For Encoding"
   ]
  },
  {
   "cell_type": "code",
   "execution_count": 1,
   "id": "bd7be0f0",
   "metadata": {},
   "outputs": [],
   "source": [
    "import numpy as np\n",
    "import pandas as pd\n",
    "import regex as re"
   ]
  },
  {
   "cell_type": "markdown",
   "id": "02eef2fe",
   "metadata": {},
   "source": [
    "<a id=\"2\"></a>\n",
    "## Data Encoding\n"
   ]
  },
  {
   "cell_type": "code",
   "execution_count": 2,
   "id": "87a039a0-a4fd-4565-8fd8-dc588629aba0",
   "metadata": {},
   "outputs": [],
   "source": [
    "df = pd.read_json('data_post02.json', lines=True)"
   ]
  },
  {
   "cell_type": "code",
   "execution_count": 3,
   "id": "c4791a8c",
   "metadata": {},
   "outputs": [
    {
     "name": "stdout",
     "output_type": "stream",
     "text": [
      "<class 'pandas.core.frame.DataFrame'>\n",
      "RangeIndex: 15884 entries, 0 to 15883\n",
      "Data columns (total 33 columns):\n",
      " #   Column               Non-Null Count  Dtype  \n",
      "---  ------               --------------  -----  \n",
      " 0   make_model           15884 non-null  object \n",
      " 1   body_type            15884 non-null  object \n",
      " 2   price                15884 non-null  int64  \n",
      " 3   km                   15884 non-null  float64\n",
      " 4   prev_owner           15884 non-null  int64  \n",
      " 5   hp                   15884 non-null  int64  \n",
      " 6   type                 15884 non-null  object \n",
      " 7   first_registration   15884 non-null  int64  \n",
      " 8   body_color           15884 non-null  object \n",
      " 9   paint_type           15884 non-null  object \n",
      " 10  nr_doors             15884 non-null  object \n",
      " 11  nr_seats             15884 non-null  object \n",
      " 12  gearing_type         15884 non-null  object \n",
      " 13  displacement         15884 non-null  int64  \n",
      " 14  cylinders            15884 non-null  object \n",
      " 15  weight               15884 non-null  float64\n",
      " 16  drive_chain          15884 non-null  object \n",
      " 17  fuel                 15884 non-null  object \n",
      " 18  co2_emission         15884 non-null  int64  \n",
      " 19  comfort_convenience  14964 non-null  object \n",
      " 20  entertainment_media  14510 non-null  object \n",
      " 21  extras               12955 non-null  object \n",
      " 22  safety_security      14902 non-null  object \n",
      " 23  gears                15884 non-null  int64  \n",
      " 24  country_version      15884 non-null  object \n",
      " 25  warranty_mo          15884 non-null  int64  \n",
      " 26  vat_deductible       15884 non-null  int64  \n",
      " 27  upholstery_material  15884 non-null  object \n",
      " 28  upholstery_color     15884 non-null  object \n",
      " 29  emission_class       15884 non-null  object \n",
      " 30  consumption_comb     15884 non-null  float64\n",
      " 31  consumption_city     15884 non-null  float64\n",
      " 32  consumption_country  15884 non-null  float64\n",
      "dtypes: float64(5), int64(9), object(19)\n",
      "memory usage: 4.0+ MB\n"
     ]
    }
   ],
   "source": [
    "df.info()"
   ]
  },
  {
   "cell_type": "code",
   "execution_count": 4,
   "id": "c5731909-7987-46f5-a81b-3677194d73b1",
   "metadata": {},
   "outputs": [
    {
     "data": {
      "text/plain": [
       "Index(['make_model', 'body_type', 'price', 'km', 'prev_owner', 'hp', 'type',\n",
       "       'first_registration', 'body_color', 'paint_type', 'nr_doors',\n",
       "       'nr_seats', 'gearing_type', 'displacement', 'cylinders', 'weight',\n",
       "       'drive_chain', 'fuel', 'co2_emission', 'comfort_convenience',\n",
       "       'entertainment_media', 'extras', 'safety_security', 'gears',\n",
       "       'country_version', 'warranty_mo', 'vat_deductible',\n",
       "       'upholstery_material', 'upholstery_color', 'emission_class',\n",
       "       'consumption_comb', 'consumption_city', 'consumption_country'],\n",
       "      dtype='object')"
      ]
     },
     "execution_count": 4,
     "metadata": {},
     "output_type": "execute_result"
    }
   ],
   "source": [
    "df.columns"
   ]
  },
  {
   "cell_type": "code",
   "execution_count": 5,
   "id": "594e6430",
   "metadata": {},
   "outputs": [],
   "source": [
    "df['age'] = df['first_registration'] - min(df['first_registration'])"
   ]
  },
  {
   "cell_type": "code",
   "execution_count": 6,
   "id": "ef73c093",
   "metadata": {},
   "outputs": [],
   "source": [
    "df = df.drop('first_registration', axis=1)"
   ]
  },
  {
   "cell_type": "markdown",
   "id": "da45c684-e93f-4081-aa3a-78d499697991",
   "metadata": {},
   "source": [
    "### Encoding multi-class features"
   ]
  },
  {
   "cell_type": "code",
   "execution_count": 7,
   "id": "0e680f20",
   "metadata": {},
   "outputs": [],
   "source": [
    "cat_cols = ['make_model', 'body_type','prev_owner','type', 'body_color',\n",
    "           'paint_type', 'nr_doors', 'nr_seats', 'gearing_type', 'drive_chain', 'fuel', \n",
    "            'country_version', 'upholstery_material', 'upholstery_color', 'emission_class', 'gears', 'cylinders']"
   ]
  },
  {
   "cell_type": "code",
   "execution_count": 8,
   "id": "9c09ee20-7dc3-4dd2-b9bf-4dc34b872026",
   "metadata": {},
   "outputs": [],
   "source": [
    "for f in cat_cols:\n",
    "    df[f] = df[f].astype(str)"
   ]
  },
  {
   "cell_type": "code",
   "execution_count": 9,
   "id": "fbc6f2d9-c5a1-4d4e-80d8-6580fadf99fc",
   "metadata": {},
   "outputs": [],
   "source": [
    "df2 = pd.get_dummies(df[cat_cols], prefix=cat_cols, drop_first=True)\n",
    "df = df.drop(cat_cols, axis=1)\n",
    "df = df.join(df2)"
   ]
  },
  {
   "cell_type": "code",
   "execution_count": 10,
   "id": "06213759",
   "metadata": {},
   "outputs": [
    {
     "data": {
      "text/plain": [
       "price                          15884\n",
       "km                             15884\n",
       "hp                             15884\n",
       "displacement                   15884\n",
       "weight                         15884\n",
       "                               ...  \n",
       "emission_class_euro 6d-temp    15884\n",
       "gears_6                        15884\n",
       "gears_7                        15884\n",
       "gears_8                        15884\n",
       "cylinders_>=4                  15884\n",
       "Length: 81, dtype: int64"
      ]
     },
     "execution_count": 10,
     "metadata": {},
     "output_type": "execute_result"
    }
   ],
   "source": [
    "df.count()"
   ]
  },
  {
   "cell_type": "code",
   "execution_count": 11,
   "id": "d950ff6a-6fd4-4c40-81ff-343a696fd503",
   "metadata": {},
   "outputs": [
    {
     "data": {
      "text/plain": [
       "Index(['price', 'km', 'hp', 'displacement', 'weight', 'co2_emission',\n",
       "       'comfort_convenience', 'entertainment_media', 'extras',\n",
       "       'safety_security', 'warranty_mo', 'vat_deductible', 'consumption_comb',\n",
       "       'consumption_city', 'consumption_country', 'age', 'make_model_audi_a3',\n",
       "       'make_model_opel_astra', 'make_model_opel_corsa',\n",
       "       'make_model_opel_insignia', 'make_model_renault_clio',\n",
       "       'make_model_renault_espace', 'body_type_other', 'body_type_sedans',\n",
       "       'body_type_station wagon', 'body_type_van', 'prev_owner_1',\n",
       "       'prev_owner_2', 'prev_owner_3', 'prev_owner_4', 'type_employees_car',\n",
       "       'type_new', 'type_pre_registered', 'type_used', 'body_color_black',\n",
       "       'body_color_blue', 'body_color_bronze', 'body_color_brown',\n",
       "       'body_color_gold', 'body_color_green', 'body_color_grey',\n",
       "       'body_color_orange', 'body_color_red', 'body_color_silver',\n",
       "       'body_color_violet', 'body_color_white', 'body_color_yellow',\n",
       "       'paint_type_Perl effect', 'paint_type_Uni/basic', 'nr_doors_>=5',\n",
       "       'nr_seats_>=5', 'gearing_type_manual', 'gearing_type_semi-automatic',\n",
       "       'drive_chain_front', 'fuel_gas', 'fuel_other',\n",
       "       'country_version_Belgium', 'country_version_European Union',\n",
       "       'country_version_Germany', 'country_version_Italy',\n",
       "       'country_version_Netherlands', 'country_version_Spain',\n",
       "       'country_version_other', 'upholstery_material_cloth',\n",
       "       'upholstery_material_full leather', 'upholstery_material_other',\n",
       "       'upholstery_material_part leather', 'upholstery_material_velour',\n",
       "       'upholstery_color_black', 'upholstery_color_brown',\n",
       "       'upholstery_color_grey', 'upholstery_color_other',\n",
       "       'emission_class_euro 5', 'emission_class_euro 6',\n",
       "       'emission_class_euro 6c', 'emission_class_euro 6d',\n",
       "       'emission_class_euro 6d-temp', 'gears_6', 'gears_7', 'gears_8',\n",
       "       'cylinders_>=4'],\n",
       "      dtype='object')"
      ]
     },
     "execution_count": 11,
     "metadata": {},
     "output_type": "execute_result"
    }
   ],
   "source": [
    "df.columns"
   ]
  },
  {
   "cell_type": "markdown",
   "id": "4a59dc1a-5781-495a-9510-3e290dbfbde6",
   "metadata": {},
   "source": [
    "### Encoding nested features\n",
    "* find unique features from these lists\n",
    "* make each into a feature with an identifiable prefix."
   ]
  },
  {
   "cell_type": "code",
   "execution_count": 12,
   "id": "d75ecdbe-6e8e-4e9d-bc9e-e9fae7944c9a",
   "metadata": {},
   "outputs": [
    {
     "name": "stderr",
     "output_type": "stream",
     "text": [
      "C:\\Users\\arsha\\Anaconda3\\lib\\site-packages\\ipykernel_launcher.py:16: PerformanceWarning: DataFrame is highly fragmented.  This is usually the result of calling `frame.insert` many times, which has poor performance.  Consider joining all columns at once using pd.concat(axis=1) instead.  To get a de-fragmented frame, use `newframe = frame.copy()`\n",
      "  \n"
     ]
    }
   ],
   "source": [
    "pre = {'comfort_convenience':'com',\n",
    "     'entertainment_media':'ent',\n",
    "     'extras':'ext', \n",
    "     'safety_security':'saf'}\n",
    "for col in ['comfort_convenience','entertainment_media', \n",
    "            'extras', 'safety_security']:\n",
    "    unique = set()\n",
    "    for v in df[col]:\n",
    "        if (v.__class__ != str):\n",
    "            continue\n",
    "        for f in v.split(','):\n",
    "            unique.add(f)\n",
    "    for f in unique:\n",
    "        name = pre[col]+'_'+re.sub('\\s','_',f.lower())\n",
    "        if name not in df.columns:\n",
    "            df[name] = [0 if x.__class__!=str else (1 if re.search(f, x) else 0) for x in df[col]]\n",
    "        else:\n",
    "            print('name repeated')\n",
    "        #print('\\t',df[name].count())"
   ]
  },
  {
   "cell_type": "code",
   "execution_count": 13,
   "id": "0c83f706",
   "metadata": {},
   "outputs": [
    {
     "data": {
      "text/plain": [
       "0    13698\n",
       "1     2186\n",
       "Name: saf_head_airbag, dtype: int64"
      ]
     },
     "execution_count": 13,
     "metadata": {},
     "output_type": "execute_result"
    }
   ],
   "source": [
    "df['saf_head_airbag'].value_counts()"
   ]
  },
  {
   "cell_type": "code",
   "execution_count": 14,
   "id": "217689b2",
   "metadata": {},
   "outputs": [],
   "source": [
    "df = df.drop(['comfort_convenience','entertainment_media', \n",
    "            'extras', 'safety_security'], axis=1)"
   ]
  },
  {
   "cell_type": "code",
   "execution_count": 15,
   "id": "a15cb129",
   "metadata": {},
   "outputs": [],
   "source": [
    "for f in df.columns:\n",
    "    df[f] = df[f].fillna(0)"
   ]
  },
  {
   "cell_type": "code",
   "execution_count": 16,
   "id": "9513f23f",
   "metadata": {},
   "outputs": [
    {
     "name": "stdout",
     "output_type": "stream",
     "text": [
      "int64\n",
      "float64\n",
      "int64\n",
      "int64\n",
      "float64\n",
      "int64\n",
      "int64\n",
      "int64\n",
      "float64\n",
      "float64\n",
      "float64\n",
      "int64\n",
      "uint8\n",
      "uint8\n",
      "uint8\n",
      "uint8\n",
      "uint8\n",
      "uint8\n",
      "uint8\n",
      "uint8\n",
      "uint8\n",
      "uint8\n",
      "uint8\n",
      "uint8\n",
      "uint8\n",
      "uint8\n",
      "uint8\n",
      "uint8\n",
      "uint8\n",
      "uint8\n",
      "uint8\n",
      "uint8\n",
      "uint8\n",
      "uint8\n",
      "uint8\n",
      "uint8\n",
      "uint8\n",
      "uint8\n",
      "uint8\n",
      "uint8\n",
      "uint8\n",
      "uint8\n",
      "uint8\n",
      "uint8\n",
      "uint8\n",
      "uint8\n",
      "uint8\n",
      "uint8\n",
      "uint8\n",
      "uint8\n",
      "uint8\n",
      "uint8\n",
      "uint8\n",
      "uint8\n",
      "uint8\n",
      "uint8\n",
      "uint8\n",
      "uint8\n",
      "uint8\n",
      "uint8\n",
      "uint8\n",
      "uint8\n",
      "uint8\n",
      "uint8\n",
      "uint8\n",
      "uint8\n",
      "uint8\n",
      "uint8\n",
      "uint8\n",
      "uint8\n",
      "uint8\n",
      "uint8\n",
      "uint8\n",
      "uint8\n",
      "uint8\n",
      "uint8\n",
      "uint8\n",
      "int64\n",
      "int64\n",
      "int64\n",
      "int64\n",
      "int64\n",
      "int64\n",
      "int64\n",
      "int64\n",
      "int64\n",
      "int64\n",
      "int64\n",
      "int64\n",
      "int64\n",
      "int64\n",
      "int64\n",
      "int64\n",
      "int64\n",
      "int64\n",
      "int64\n",
      "int64\n",
      "int64\n",
      "int64\n",
      "int64\n",
      "int64\n",
      "int64\n",
      "int64\n",
      "int64\n",
      "int64\n",
      "int64\n",
      "int64\n",
      "int64\n",
      "int64\n",
      "int64\n",
      "int64\n",
      "int64\n",
      "int64\n",
      "int64\n",
      "int64\n",
      "int64\n",
      "int64\n",
      "int64\n",
      "int64\n",
      "int64\n",
      "int64\n",
      "int64\n",
      "int64\n",
      "int64\n",
      "int64\n",
      "int64\n",
      "int64\n",
      "int64\n",
      "int64\n",
      "int64\n",
      "int64\n",
      "int64\n",
      "int64\n",
      "int64\n",
      "int64\n",
      "int64\n",
      "int64\n",
      "int64\n",
      "int64\n",
      "int64\n",
      "int64\n",
      "int64\n",
      "int64\n",
      "int64\n",
      "int64\n",
      "int64\n",
      "int64\n",
      "int64\n",
      "int64\n",
      "int64\n",
      "int64\n",
      "int64\n",
      "int64\n",
      "int64\n",
      "int64\n",
      "int64\n",
      "int64\n",
      "int64\n",
      "int64\n",
      "int64\n",
      "int64\n",
      "int64\n",
      "int64\n",
      "int64\n",
      "int64\n",
      "int64\n",
      "int64\n",
      "int64\n",
      "int64\n",
      "int64\n",
      "int64\n"
     ]
    }
   ],
   "source": [
    "for f in df.columns:\n",
    "    if df[f].isna().sum() > 0:\n",
    "        print('nan in', f)\n",
    "    print(df[f].dtype)"
   ]
  },
  {
   "cell_type": "code",
   "execution_count": 17,
   "id": "28a6b2fd-44e6-4640-b046-a594f80fa96a",
   "metadata": {},
   "outputs": [
    {
     "name": "stdout",
     "output_type": "stream",
     "text": [
      "<class 'pandas.core.frame.DataFrame'>\n",
      "RangeIndex: 15884 entries, 0 to 15883\n",
      "Columns: 171 entries, price to saf_tire_pressure_monitoring_system\n",
      "dtypes: float64(5), int64(101), uint8(65)\n",
      "memory usage: 13.8 MB\n"
     ]
    }
   ],
   "source": [
    "df.info()"
   ]
  },
  {
   "cell_type": "code",
   "execution_count": 18,
   "id": "11bc45a0-8961-489c-95ca-8269632bc3b0",
   "metadata": {},
   "outputs": [],
   "source": [
    "df.to_json('data_post03.json', orient='records', lines=True)"
   ]
  },
  {
   "cell_type": "markdown",
   "id": "6fe038b6",
   "metadata": {},
   "source": [
    "## Summary\n",
    "\n",
    "* I convered many of the category features into dummy features and then dropped these. \n",
    "* I also converted many nested features into dummy features and then dropped these.\n",
    "* In the process increaased the number of features from 33 to 191.\n",
    "* also incidentally sorted the features, fist continuous, then dummies from categorical, then dummies from nested."
   ]
  },
  {
   "cell_type": "markdown",
   "id": "958aa118",
   "metadata": {},
   "source": [
    "<a id=\"3\"></a>\n",
    "\n",
    "## End of Encoding"
   ]
  },
  {
   "cell_type": "markdown",
   "id": "7e538528",
   "metadata": {},
   "source": [
    "<a href=\"#toc\" class=\"btn btn-primary btn-sm\" role=\"button\" aria-pressed=\"true\" \n",
    "style=\"color:blue; background-color:#dfa8e4\" data-toggle=\"popover\">Content</a>"
   ]
  },
  {
   "cell_type": "markdown",
   "id": "125ea14f",
   "metadata": {},
   "source": [
    "## Next: [Modeling](05_modeling.ipynb)"
   ]
  }
 ],
 "metadata": {
  "kernelspec": {
   "display_name": "Python 3 (ipykernel)",
   "language": "python",
   "name": "python3"
  },
  "language_info": {
   "codemirror_mode": {
    "name": "ipython",
    "version": 3
   },
   "file_extension": ".py",
   "mimetype": "text/x-python",
   "name": "python",
   "nbconvert_exporter": "python",
   "pygments_lexer": "ipython3",
   "version": "3.7.16"
  }
 },
 "nbformat": 4,
 "nbformat_minor": 5
}
