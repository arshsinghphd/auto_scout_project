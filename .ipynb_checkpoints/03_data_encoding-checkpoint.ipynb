{
 "cells": [
  {
   "cell_type": "markdown",
   "id": "ef218860",
   "metadata": {},
   "source": [
    "<a id=\"toc\"></a>\n",
    "\n",
    "# <p style=\"background-color: #008080; font-family:newtimeroman; color:#FFF9ED; font-size:175%; text-align:center; border-radius:5px 5px;\">Auto Scout Car Prices Prediction Project: <br> Data Encoding </p>\n",
    "\n",
    "## <p style=\"background-color: #008080; font-family:newtimeroman; color:#FFF9ED; font-size:150%; text-align:center; border-radius:10px 10px;\">Content</p>\n",
    "\n",
    "* [INTRODUCTION](#0)\n",
    "* [IMPORTING LIBRARIES NEEDED IN THIS NOTEBOOK](#1)\n",
    "* [DATA ENCODING](#2)\n",
    "* [THE END OF XXXX](#3)"
   ]
  },
  {
   "cell_type": "markdown",
   "id": "08e7b1a5",
   "metadata": {},
   "source": [
    "<a id=\"0\"></a>\n",
    "\n",
    "## Introduction\n",
    "\n",
    "Copy from the file 00_data_cleaning after the project is finished\n"
   ]
  },
  {
   "cell_type": "markdown",
   "id": "6442d9dd",
   "metadata": {},
   "source": [
    "<a id=\"1\"></a>\n",
    "\n",
    "## Importing Libraries Needed For Encoding"
   ]
  },
  {
   "cell_type": "code",
   "execution_count": 1,
   "id": "bd7be0f0",
   "metadata": {},
   "outputs": [],
   "source": [
    "import pandas as pd"
   ]
  },
  {
   "cell_type": "markdown",
   "id": "02eef2fe",
   "metadata": {},
   "source": [
    "<a id=\"2\"></a>\n",
    "## Data Encoding\n"
   ]
  },
  {
   "cell_type": "code",
   "execution_count": 2,
   "id": "87a039a0-a4fd-4565-8fd8-dc588629aba0",
   "metadata": {},
   "outputs": [],
   "source": [
    "df = pd.read_json('data_post01.json', lines=True)"
   ]
  },
  {
   "cell_type": "code",
   "execution_count": 3,
   "id": "c5731909-7987-46f5-a81b-3677194d73b1",
   "metadata": {},
   "outputs": [
    {
     "data": {
      "text/plain": [
       "Index(['make_model', 'body_type', 'price', 'km', 'prev_owner', 'hp', 'type',\n",
       "       'first_registration', 'body_color', 'paint_type', 'nr_doors',\n",
       "       'nr_seats', 'gearing_type', 'displacement', 'cylinders', 'weight',\n",
       "       'drive_chain', 'fuel', 'co2_emission', 'comfort_convenience',\n",
       "       'entertainment_media', 'extras', 'safety_security', 'gears',\n",
       "       'country_version', 'warranty_mo', 'vat_deductible',\n",
       "       'upholstery_material', 'upholstery_color', 'emission_class',\n",
       "       'consumption_comb', 'consumption_city', 'consumption_country',\n",
       "       'reg_cont'],\n",
       "      dtype='object')"
      ]
     },
     "execution_count": 3,
     "metadata": {},
     "output_type": "execute_result"
    }
   ],
   "source": [
    "df.columns"
   ]
  },
  {
   "cell_type": "markdown",
   "id": "da45c684-e93f-4081-aa3a-78d499697991",
   "metadata": {},
   "source": [
    "### Encoding multi-class features"
   ]
  },
  {
   "cell_type": "code",
   "execution_count": 4,
   "id": "0e680f20",
   "metadata": {},
   "outputs": [],
   "source": [
    "cat_cols = ['make_model', 'body_type','prev_owner','type', 'first_registration', 'body_color',\n",
    "           'paint_type', 'nr_doors', 'nr_seats', 'gearing_type', 'drive_chain', 'fuel', \n",
    "            'country_version', 'upholstery_material', 'upholstery_color', 'emission_class', 'gears', 'cylinders']"
   ]
  },
  {
   "cell_type": "code",
   "execution_count": 10,
   "id": "9c09ee20-7dc3-4dd2-b9bf-4dc34b872026",
   "metadata": {},
   "outputs": [
    {
     "name": "stdout",
     "output_type": "stream",
     "text": [
      "make_model make_model\n",
      "audi_a3           3097\n",
      "audi_a1           2614\n",
      "opel_insignia     2598\n",
      "opel_astra        2526\n",
      "opel_corsa        2219\n",
      "renault_clio      1839\n",
      "renault_espace     991\n",
      "Name: count, dtype: int64\n",
      "body_type body_type\n",
      "sedans           7925\n",
      "station wagon    3563\n",
      "compact          3155\n",
      "van               809\n",
      "other             432\n",
      "Name: count, dtype: int64\n",
      "prev_owner prev_owner\n",
      "1.0    8293\n",
      "0.0    6794\n",
      "2.0     778\n",
      "3.0      17\n",
      "4.0       2\n",
      "Name: count, dtype: int64\n",
      "type type\n",
      "used              11082\n",
      "new                1632\n",
      "pre_registered     1364\n",
      "employees_car      1010\n",
      "demonstration       796\n",
      "Name: count, dtype: int64\n",
      "first_registration first_registration\n",
      "nan       16249332\n",
      "2018.0        4521\n",
      "2019.0        4416\n",
      "2016.0        3674\n",
      "2017.0        3273\n",
      "Name: count, dtype: int64\n",
      "body_color body_color\n",
      "black     4334\n",
      "grey      3504\n",
      "white     3380\n",
      "silver    1647\n",
      "blue      1431\n",
      "red        957\n",
      "brown      289\n",
      "green      154\n",
      "beige      108\n",
      "yellow      51\n",
      "violet      18\n",
      "bronze       6\n",
      "orange       3\n",
      "gold         2\n",
      "Name: count, dtype: int64\n",
      "paint_type paint_type\n",
      "Metallic       15547\n",
      "Uni/basic        331\n",
      "Perl effect        6\n",
      "Name: count, dtype: int64\n",
      "nr_doors nr_doors\n",
      "5.0    11752\n",
      "4.0     3079\n",
      "3.0      832\n",
      "2.0      219\n",
      "1.0        1\n",
      "7.0        1\n",
      "Name: count, dtype: int64\n",
      "nr_seats nr_seats\n",
      "5.0    14238\n",
      "4.0     1125\n",
      "7.0      402\n",
      "2.0      116\n",
      "6.0        2\n",
      "3.0        1\n",
      "Name: count, dtype: int64\n",
      "gearing_type gearing_type\n",
      "manual            8126\n",
      "automatic         7289\n",
      "semi-automatic     469\n",
      "Name: count, dtype: int64\n",
      "drive_chain drive_chain\n",
      "front    15620\n",
      "4WD        264\n",
      "Name: count, dtype: int64\n",
      "fuel fuel\n",
      "gas       8510\n",
      "diesel    7298\n",
      "other       76\n",
      "Name: count, dtype: int64\n",
      "country_version country_version\n",
      "Germany           10768\n",
      "Italy              2746\n",
      "Netherlands         741\n",
      "European Union      507\n",
      "Spain               325\n",
      "Belgium             313\n",
      "Austria             264\n",
      "Czech Republic       52\n",
      "Poland               49\n",
      "France               38\n",
      "Denmark              33\n",
      "Hungary              28\n",
      "Slovakia              4\n",
      "Croatia               4\n",
      "Sweden                3\n",
      "Romania               2\n",
      "Bulgaria              2\n",
      "Luxembourg            1\n",
      "Switzerland           1\n",
      "Slovenia              1\n",
      "Egypt                 1\n",
      "Serbia                1\n",
      "Name: count, dtype: int64\n",
      "upholstery_material upholstery_material\n",
      "cloth           12878\n",
      "part leather     1501\n",
      "full leather     1020\n",
      "other             368\n",
      "velour             60\n",
      "alcantara          57\n",
      "Name: count, dtype: int64\n",
      "upholstery_color upholstery_color\n",
      "black     13204\n",
      "grey       1360\n",
      "other      1016\n",
      "brown       207\n",
      "beige        54\n",
      "blue         16\n",
      "white        13\n",
      "red           9\n",
      "yellow        4\n",
      "orange        1\n",
      "Name: count, dtype: int64\n",
      "emission_class emission_class\n",
      "euro 6          13003\n",
      "euro 6d-temp     2606\n",
      "euro 6c           127\n",
      "euro 5             78\n",
      "euro 6d            62\n",
      "euro 4              8\n",
      "Name: count, dtype: int64\n",
      "gears gears\n",
      "6.0     8375\n",
      "5.0     5363\n",
      "7.0     1908\n",
      "8.0      224\n",
      "9.0        6\n",
      "1.0        2\n",
      "3.0        2\n",
      "4.0        2\n",
      "2.0        1\n",
      "50.0       1\n",
      "Name: count, dtype: int64\n",
      "cylinders cylinders\n",
      "4.0    12891\n",
      "3.0     2963\n",
      "5.0       22\n",
      "6.0        3\n",
      "8.0        2\n",
      "2.0        2\n",
      "1.0        1\n",
      "Name: count, dtype: int64\n"
     ]
    }
   ],
   "source": [
    "for f in cat_cols:\n",
    "    print(df[f].value_counts())"
   ]
  },
  {
   "cell_type": "code",
   "execution_count": 6,
   "id": "fbc6f2d9-c5a1-4d4e-80d8-6580fadf99fc",
   "metadata": {},
   "outputs": [
    {
     "ename": "ValueError",
     "evalue": "Length of 'prefix' (18) did not match the length of the columns being encoded (12).",
     "output_type": "error",
     "traceback": [
      "\u001b[1;31m---------------------------------------------------------------------------\u001b[0m",
      "\u001b[1;31mValueError\u001b[0m                                Traceback (most recent call last)",
      "Cell \u001b[1;32mIn[6], line 1\u001b[0m\n\u001b[1;32m----> 1\u001b[0m df2 \u001b[38;5;241m=\u001b[39m \u001b[43mpd\u001b[49m\u001b[38;5;241;43m.\u001b[39;49m\u001b[43mget_dummies\u001b[49m\u001b[43m(\u001b[49m\u001b[43mdf\u001b[49m\u001b[43m[\u001b[49m\u001b[43mcat_cols\u001b[49m\u001b[43m]\u001b[49m\u001b[43m,\u001b[49m\u001b[43m \u001b[49m\u001b[43mprefix\u001b[49m\u001b[38;5;241;43m=\u001b[39;49m\u001b[43mcat_cols\u001b[49m\u001b[43m,\u001b[49m\u001b[43m \u001b[49m\u001b[43mdrop_first\u001b[49m\u001b[38;5;241;43m=\u001b[39;49m\u001b[38;5;28;43;01mFalse\u001b[39;49;00m\u001b[43m)\u001b[49m\n\u001b[0;32m      2\u001b[0m df \u001b[38;5;241m=\u001b[39m pd\u001b[38;5;241m.\u001b[39mconcat([df,df2])\n",
      "File \u001b[1;32m~\\Anaconda3\\envs\\DataAnalysis\\lib\\site-packages\\pandas\\core\\reshape\\encoding.py:182\u001b[0m, in \u001b[0;36mget_dummies\u001b[1;34m(data, prefix, prefix_sep, dummy_na, columns, sparse, drop_first, dtype)\u001b[0m\n\u001b[0;32m    175\u001b[0m             len_msg \u001b[38;5;241m=\u001b[39m (\n\u001b[0;32m    176\u001b[0m                 \u001b[38;5;124mf\u001b[39m\u001b[38;5;124m\"\u001b[39m\u001b[38;5;124mLength of \u001b[39m\u001b[38;5;124m'\u001b[39m\u001b[38;5;132;01m{\u001b[39;00mname\u001b[38;5;132;01m}\u001b[39;00m\u001b[38;5;124m'\u001b[39m\u001b[38;5;124m (\u001b[39m\u001b[38;5;132;01m{\u001b[39;00m\u001b[38;5;28mlen\u001b[39m(item)\u001b[38;5;132;01m}\u001b[39;00m\u001b[38;5;124m) did not match the \u001b[39m\u001b[38;5;124m\"\u001b[39m\n\u001b[0;32m    177\u001b[0m                 \u001b[38;5;124m\"\u001b[39m\u001b[38;5;124mlength of the columns being encoded \u001b[39m\u001b[38;5;124m\"\u001b[39m\n\u001b[0;32m    178\u001b[0m                 \u001b[38;5;124mf\u001b[39m\u001b[38;5;124m\"\u001b[39m\u001b[38;5;124m(\u001b[39m\u001b[38;5;132;01m{\u001b[39;00mdata_to_encode\u001b[38;5;241m.\u001b[39mshape[\u001b[38;5;241m1\u001b[39m]\u001b[38;5;132;01m}\u001b[39;00m\u001b[38;5;124m).\u001b[39m\u001b[38;5;124m\"\u001b[39m\n\u001b[0;32m    179\u001b[0m             )\n\u001b[0;32m    180\u001b[0m             \u001b[38;5;28;01mraise\u001b[39;00m \u001b[38;5;167;01mValueError\u001b[39;00m(len_msg)\n\u001b[1;32m--> 182\u001b[0m \u001b[43mcheck_len\u001b[49m\u001b[43m(\u001b[49m\u001b[43mprefix\u001b[49m\u001b[43m,\u001b[49m\u001b[43m \u001b[49m\u001b[38;5;124;43m\"\u001b[39;49m\u001b[38;5;124;43mprefix\u001b[39;49m\u001b[38;5;124;43m\"\u001b[39;49m\u001b[43m)\u001b[49m\n\u001b[0;32m    183\u001b[0m check_len(prefix_sep, \u001b[38;5;124m\"\u001b[39m\u001b[38;5;124mprefix_sep\u001b[39m\u001b[38;5;124m\"\u001b[39m)\n\u001b[0;32m    185\u001b[0m \u001b[38;5;28;01mif\u001b[39;00m \u001b[38;5;28misinstance\u001b[39m(prefix, \u001b[38;5;28mstr\u001b[39m):\n",
      "File \u001b[1;32m~\\Anaconda3\\envs\\DataAnalysis\\lib\\site-packages\\pandas\\core\\reshape\\encoding.py:180\u001b[0m, in \u001b[0;36mget_dummies.<locals>.check_len\u001b[1;34m(item, name)\u001b[0m\n\u001b[0;32m    174\u001b[0m \u001b[38;5;28;01mif\u001b[39;00m \u001b[38;5;129;01mnot\u001b[39;00m \u001b[38;5;28mlen\u001b[39m(item) \u001b[38;5;241m==\u001b[39m data_to_encode\u001b[38;5;241m.\u001b[39mshape[\u001b[38;5;241m1\u001b[39m]:\n\u001b[0;32m    175\u001b[0m     len_msg \u001b[38;5;241m=\u001b[39m (\n\u001b[0;32m    176\u001b[0m         \u001b[38;5;124mf\u001b[39m\u001b[38;5;124m\"\u001b[39m\u001b[38;5;124mLength of \u001b[39m\u001b[38;5;124m'\u001b[39m\u001b[38;5;132;01m{\u001b[39;00mname\u001b[38;5;132;01m}\u001b[39;00m\u001b[38;5;124m'\u001b[39m\u001b[38;5;124m (\u001b[39m\u001b[38;5;132;01m{\u001b[39;00m\u001b[38;5;28mlen\u001b[39m(item)\u001b[38;5;132;01m}\u001b[39;00m\u001b[38;5;124m) did not match the \u001b[39m\u001b[38;5;124m\"\u001b[39m\n\u001b[0;32m    177\u001b[0m         \u001b[38;5;124m\"\u001b[39m\u001b[38;5;124mlength of the columns being encoded \u001b[39m\u001b[38;5;124m\"\u001b[39m\n\u001b[0;32m    178\u001b[0m         \u001b[38;5;124mf\u001b[39m\u001b[38;5;124m\"\u001b[39m\u001b[38;5;124m(\u001b[39m\u001b[38;5;132;01m{\u001b[39;00mdata_to_encode\u001b[38;5;241m.\u001b[39mshape[\u001b[38;5;241m1\u001b[39m]\u001b[38;5;132;01m}\u001b[39;00m\u001b[38;5;124m).\u001b[39m\u001b[38;5;124m\"\u001b[39m\n\u001b[0;32m    179\u001b[0m     )\n\u001b[1;32m--> 180\u001b[0m     \u001b[38;5;28;01mraise\u001b[39;00m \u001b[38;5;167;01mValueError\u001b[39;00m(len_msg)\n",
      "\u001b[1;31mValueError\u001b[0m: Length of 'prefix' (18) did not match the length of the columns being encoded (12)."
     ]
    }
   ],
   "source": [
    "df2 = pd.get_dummies(df[cat_cols], prefix=cat_cols, drop_first=False)\n",
    "df = pd.concat([df,df2])"
   ]
  },
  {
   "cell_type": "code",
   "execution_count": null,
   "id": "d950ff6a-6fd4-4c40-81ff-343a696fd503",
   "metadata": {},
   "outputs": [],
   "source": [
    "df.columns"
   ]
  },
  {
   "cell_type": "code",
   "execution_count": null,
   "id": "811e112d-7266-4c5a-ad31-e4df974b3105",
   "metadata": {},
   "outputs": [],
   "source": []
  },
  {
   "cell_type": "code",
   "execution_count": null,
   "id": "f9e973d4-8230-4684-959c-701a1fec5bca",
   "metadata": {},
   "outputs": [],
   "source": []
  },
  {
   "cell_type": "code",
   "execution_count": null,
   "id": "ec8bd186-e885-4873-bd91-4d0400d355e3",
   "metadata": {},
   "outputs": [],
   "source": []
  },
  {
   "cell_type": "markdown",
   "id": "4a59dc1a-5781-495a-9510-3e290dbfbde6",
   "metadata": {},
   "source": [
    "### Encoding nested features\n",
    "* find unique features from these lists\n",
    "* make each into a feature with an identifiable prefix."
   ]
  },
  {
   "cell_type": "code",
   "execution_count": null,
   "id": "58659e65-4ad3-473e-8f01-ebc3d2ffcaea",
   "metadata": {},
   "outputs": [],
   "source": []
  },
  {
   "cell_type": "code",
   "execution_count": null,
   "id": "d75ecdbe-6e8e-4e9d-bc9e-e9fae7944c9a",
   "metadata": {},
   "outputs": [],
   "source": [
    "d = {'comfort_convenience':'com',\n",
    "     'entertainment_media':'ent',\n",
    "     'extras':'ext', \n",
    "     'safety_security':'saf'}\n",
    "for col in ['comfort_convenience','entertainment_media', \n",
    "            'extras', 'safety_security']:\n",
    "    df[col] = [set(x.split(',')) if x.__class__ == str else x \n",
    "                       for x in df[col]]\n",
    "    unique = set()\n",
    "    for v in df[col]:\n",
    "        if not v:\n",
    "            continue\n",
    "        for f in v:\n",
    "            unique.add(re.sub('\\s','_',f.lower()))\n",
    "    for f in unique:\n",
    "        name = d[col]+'_'+f\n",
    "        df[name] = [str(1*(f in x)) if x.__class__==set else '0' for x in df[col]]\n",
    "        if df[name].count() != 15884:\n",
    "            print(name)\n",
    "df.columns "
   ]
  },
  {
   "cell_type": "code",
   "execution_count": null,
   "id": "a8f7fcb8-77c6-439b-ad95-b5901017ab43",
   "metadata": {},
   "outputs": [],
   "source": [
    "df = df.drop(['comfort_convenience','entertainment_media', \n",
    "            'extras', 'safety_security'], axis=1)"
   ]
  },
  {
   "cell_type": "code",
   "execution_count": null,
   "id": "28a6b2fd-44e6-4640-b046-a594f80fa96a",
   "metadata": {},
   "outputs": [],
   "source": [
    "df.info()"
   ]
  },
  {
   "cell_type": "code",
   "execution_count": null,
   "id": "11bc45a0-8961-489c-95ca-8269632bc3b0",
   "metadata": {},
   "outputs": [],
   "source": [
    "df.to_json('data_post02.json', orient='records', lines=True)"
   ]
  },
  {
   "cell_type": "markdown",
   "id": "958aa118",
   "metadata": {},
   "source": [
    "<a id=\"3\"></a>\n",
    "\n",
    "## End of XXXX"
   ]
  },
  {
   "cell_type": "markdown",
   "id": "7e538528",
   "metadata": {},
   "source": [
    "<a href=\"#toc\" class=\"btn btn-primary btn-sm\" role=\"button\" aria-pressed=\"true\" \n",
    "style=\"color:blue; background-color:#dfa8e4\" data-toggle=\"popover\">Content</a>"
   ]
  },
  {
   "cell_type": "markdown",
   "id": "125ea14f",
   "metadata": {},
   "source": [
    "## Next: [Data Visualizations & Handling Outliers](03_data_viz_&_handling_outliers.ipynb)"
   ]
  },
  {
   "cell_type": "code",
   "execution_count": null,
   "id": "cc93ef90",
   "metadata": {},
   "outputs": [],
   "source": []
  }
 ],
 "metadata": {
  "kernelspec": {
   "display_name": "Python 3 (ipykernel)",
   "language": "python",
   "name": "python3"
  },
  "language_info": {
   "codemirror_mode": {
    "name": "ipython",
    "version": 3
   },
   "file_extension": ".py",
   "mimetype": "text/x-python",
   "name": "python",
   "nbconvert_exporter": "python",
   "pygments_lexer": "ipython3",
   "version": "3.10.16"
  }
 },
 "nbformat": 4,
 "nbformat_minor": 5
}
