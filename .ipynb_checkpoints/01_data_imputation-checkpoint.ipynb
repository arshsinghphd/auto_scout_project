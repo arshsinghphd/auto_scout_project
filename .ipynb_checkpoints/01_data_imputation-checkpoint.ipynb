{
 "cells": [
  {
   "cell_type": "markdown",
   "id": "1c919439",
   "metadata": {},
   "source": [
    "<a id=\"toc\"></a>\n",
    "\n",
    "# <p style=\"background-color: #008080; font-family:newtimeroman; color:#FFF9ED; font-size:175%; text-align:center; border-radius:5px 5px;\">Auto Scout Car Prices Prediction Project: <br> Data Cleaning</p>\n",
    "\n",
    "## <p style=\"background-color: #008080; font-family:newtimeroman; color:#FFF9ED; font-size:150%; text-align:center; border-radius:10px 10px;\">Content</p>\n",
    "\n",
    "* [INTRODUCTION](#0)\n",
    "* [IMPORTING LIBRARIES NEEDED IN THIS NOTEBOOK](#1)\n",
    "* [DATA IMPUTATION COLUMN BY COLUMN](#2)\n",
    "* [THE END OF DATA IMPUTATION](#3)"
   ]
  },
  {
   "cell_type": "markdown",
   "id": "7b1f4147",
   "metadata": {},
   "source": [
    "<a id=\"0\"></a>\n",
    "\n",
    "## Introduction\n",
    "\n",
    "Copy from the file 00_data_cleaning after the project is finished\n"
   ]
  },
  {
   "cell_type": "markdown",
   "id": "ad06d2ce",
   "metadata": {},
   "source": [
    "<a id=\"1\"></a>\n",
    "\n",
    "## Importing Libraries Needed For Data Imputation"
   ]
  },
  {
   "cell_type": "code",
   "execution_count": 1,
   "id": "5b70cdaa",
   "metadata": {},
   "outputs": [],
   "source": [
    "import json\n",
    "import matplotlib.pyplot as plt\n",
    "from itertools import product\n",
    "import numpy as np\n",
    "import os\n",
    "import pandas as pd\n",
    "from random import choices\n",
    "import re"
   ]
  },
  {
   "cell_type": "markdown",
   "id": "edf106f0",
   "metadata": {},
   "source": [
    "## UserCreated Functions for Data Imputation"
   ]
  },
  {
   "cell_type": "code",
   "execution_count": 2,
   "id": "5379f953",
   "metadata": {},
   "outputs": [],
   "source": [
    "def drop_rows(df, f, vals):\n",
    "    '''\n",
    "    function takes a dataframe, drops rows for which df[f] assumes values listed in vals. \n",
    "    returns mutated dataframe\n",
    "    \n",
    "    df = dataframe\n",
    "    f = name of feature\n",
    "    vals = a list of values for which rows are to be dropped\n",
    "    '''\n",
    "    for v in vals:\n",
    "        df.drop(df[df[f] == v].index, axis=0, inplace=True)\n",
    "        \n",
    "    return df"
   ]
  },
  {
   "cell_type": "code",
   "execution_count": 3,
   "id": "4d00a824",
   "metadata": {},
   "outputs": [],
   "source": [
    "def fill(df, f_fill, f_use, how):\n",
    "    '''\n",
    "    function takes a dataframe, a feature for which missing values are to be filled, and \n",
    "    a list of features to group by, and a method from the list [median, mode].\n",
    "    \n",
    "    df = dataframe\n",
    "    f_fill = name of feature with missing values to impute\n",
    "    l_f_use = list of features based on which the missing values are to be impute, in order of decreasing importance\n",
    "    '''\n",
    "    \n",
    "    if how == 'mode':\n",
    "        uniq_f_use = df[f_use].unique()\n",
    "        for u in uniq_f_use:\n",
    "            if len(df[df[f_use] == u][f_fill]) > 0:\n",
    "                v = df[df[f_use] == u][f_fill].mode()[0]\n",
    "                df.loc[df[f_use] == u, f_fill] = \\\n",
    "                    df.loc[df[f_use] == u, f_fill].fillna(v)\n",
    "            else:\n",
    "                print('empty class')\n",
    "                return df\n",
    "        return df\n",
    "    \n",
    "    if how == 'median':\n",
    "        uniq_f_use = df[f_use].unique()\n",
    "        for u in uniq_f_use:\n",
    "            if len(df[df[f_use] == u][f_fill]) > 0:\n",
    "                v = df[df[f_use] == u][f_fill].median()\n",
    "                df.loc[df[f_use] == u, f_fill] = \\\n",
    "                    df.loc[df[f_use] == u, f_fill].fillna(v)\n",
    "            else:\n",
    "                print('empty class')\n",
    "                return df\n",
    "        return df\n"
   ]
  },
  {
   "cell_type": "markdown",
   "id": "981ff766",
   "metadata": {},
   "source": [
    "<a id=\"2\"></a>\n",
    "## Data Imputation Column by Column\n"
   ]
  },
  {
   "cell_type": "code",
   "execution_count": 4,
   "id": "cee7de89",
   "metadata": {},
   "outputs": [],
   "source": [
    "df = pd.read_json('data_post00.json', lines=True)"
   ]
  },
  {
   "cell_type": "code",
   "execution_count": 5,
   "id": "c5f2fb3b",
   "metadata": {
    "scrolled": true
   },
   "outputs": [
    {
     "name": "stdout",
     "output_type": "stream",
     "text": [
      "<class 'pandas.core.frame.DataFrame'>\n",
      "RangeIndex: 15919 entries, 0 to 15918\n",
      "Data columns (total 34 columns):\n",
      " #   Column                   Non-Null Count  Dtype  \n",
      "---  ------                   --------------  -----  \n",
      " 0   make_model               15919 non-null  object \n",
      " 1   body_type                15859 non-null  object \n",
      " 2   price                    15919 non-null  int64  \n",
      " 3   km                       14895 non-null  float64\n",
      " 4   prev_owner               9091 non-null   float64\n",
      " 5   hp                       15831 non-null  float64\n",
      " 6   type                     15917 non-null  object \n",
      " 7   first_registration       14322 non-null  float64\n",
      " 8   body_color               15322 non-null  object \n",
      " 9   paint_type               10147 non-null  object \n",
      " 10  nr_doors                 15707 non-null  float64\n",
      " 11  nr_seats                 14942 non-null  float64\n",
      " 12  gearing_type             15919 non-null  object \n",
      " 13  displacement             15423 non-null  float64\n",
      " 14  cylinders                10239 non-null  float64\n",
      " 15  weight                   8945 non-null   float64\n",
      " 16  drive_chain              9061 non-null   object \n",
      " 17  fuel                     15919 non-null  object \n",
      " 18  co2_emission             13483 non-null  float64\n",
      " 19  comfort_convenience      14999 non-null  object \n",
      " 20  entertainment_media      14545 non-null  object \n",
      " 21  extras                   12957 non-null  object \n",
      " 22  safety_security          14937 non-null  object \n",
      " 23  gears                    11207 non-null  float64\n",
      " 24  country_version          7586 non-null   object \n",
      " 25  warranty_mo              4853 non-null   float64\n",
      " 26  vat_deductible           15919 non-null  int64  \n",
      " 27  upholstery_material      11416 non-null  object \n",
      " 28  upholstery_color         12197 non-null  object \n",
      " 29  emission_class           12291 non-null  object \n",
      " 30  consumption_comb         13886 non-null  float64\n",
      " 31  consumption_city         13483 non-null  float64\n",
      " 32  consumption_country      13543 non-null  float64\n",
      " 33  registration_continuous  14322 non-null  float64\n",
      "dtypes: float64(16), int64(2), object(16)\n",
      "memory usage: 4.1+ MB\n"
     ]
    }
   ],
   "source": [
    "df.info()"
   ]
  },
  {
   "cell_type": "markdown",
   "id": "c48e134d",
   "metadata": {},
   "source": [
    "### Explore 'make_model'\n",
    "* we have very few data for audi_a2 and renault_duster.\n",
    "* we can drop these from the data (35 rows)"
   ]
  },
  {
   "cell_type": "code",
   "execution_count": 6,
   "id": "84964b10",
   "metadata": {},
   "outputs": [
    {
     "data": {
      "text/plain": [
       "audi_a3           3097\n",
       "audi_a1           2614\n",
       "opel_insignia     2598\n",
       "opel_astra        2526\n",
       "opel_corsa        2219\n",
       "renault_clio      1839\n",
       "renault_espace     991\n",
       "renault_duster      34\n",
       "audi_a2              1\n",
       "Name: make_model, dtype: int64"
      ]
     },
     "execution_count": 6,
     "metadata": {},
     "output_type": "execute_result"
    }
   ],
   "source": [
    "df.make_model.value_counts(dropna=False)"
   ]
  },
  {
   "cell_type": "code",
   "execution_count": 7,
   "id": "40b199a3",
   "metadata": {},
   "outputs": [],
   "source": [
    "df.drop(df[df['make_model'] == \"audi_a2\"].index, axis=0, inplace=True)"
   ]
  },
  {
   "cell_type": "code",
   "execution_count": 8,
   "id": "f1cbd202",
   "metadata": {},
   "outputs": [],
   "source": [
    "df.drop(df[df['make_model'] == \"renault_duster\"].index, axis=0, inplace=True)"
   ]
  },
  {
   "cell_type": "code",
   "execution_count": 9,
   "id": "affec2d5",
   "metadata": {},
   "outputs": [
    {
     "data": {
      "text/plain": [
       "audi_a3           3097\n",
       "audi_a1           2614\n",
       "opel_insignia     2598\n",
       "opel_astra        2526\n",
       "opel_corsa        2219\n",
       "renault_clio      1839\n",
       "renault_espace     991\n",
       "Name: make_model, dtype: int64"
      ]
     },
     "execution_count": 9,
     "metadata": {},
     "output_type": "execute_result"
    }
   ],
   "source": [
    "df.make_model.value_counts(dropna=False)"
   ]
  },
  {
   "cell_type": "markdown",
   "id": "c95a9425",
   "metadata": {},
   "source": [
    "### Impute 'body_type'\n",
    "\n",
    "* there are too many categories, we can put any less than 100 into other category\n",
    "* there are 60 missing\n",
    "* fill missing values by the mode of make_model\n",
    "* make a function that will fill missing values of column x by mode of x by y"
   ]
  },
  {
   "cell_type": "code",
   "execution_count": 10,
   "id": "04b08676",
   "metadata": {},
   "outputs": [
    {
     "data": {
      "text/plain": [
       "sedans           7903\n",
       "station wagon    3553\n",
       "compact          3153\n",
       "van               783\n",
       "other             290\n",
       "transporter        88\n",
       "NaN                60\n",
       "coupe              25\n",
       "off-road           21\n",
       "convertible         8\n",
       "Name: body_type, dtype: int64"
      ]
     },
     "execution_count": 10,
     "metadata": {},
     "output_type": "execute_result"
    }
   ],
   "source": [
    "df.body_type.value_counts(dropna=False)"
   ]
  },
  {
   "cell_type": "code",
   "execution_count": 11,
   "id": "0ecdc80f",
   "metadata": {},
   "outputs": [
    {
     "data": {
      "text/plain": [
       "sedans           7903\n",
       "station wagon    3553\n",
       "compact          3153\n",
       "van               783\n",
       "other             290\n",
       "transporter        88\n",
       "coupe              25\n",
       "off-road           21\n",
       "convertible         8\n",
       "Name: body_type, dtype: int64"
      ]
     },
     "execution_count": 11,
     "metadata": {},
     "output_type": "execute_result"
    }
   ],
   "source": [
    "btv = df.body_type.value_counts()\n",
    "btv"
   ]
  },
  {
   "cell_type": "code",
   "execution_count": 12,
   "id": "c2b64bf4",
   "metadata": {},
   "outputs": [],
   "source": [
    "df.body_type = [x if x not in btv[-4:] else \"other\" for x in df['body_type']]"
   ]
  },
  {
   "cell_type": "code",
   "execution_count": 13,
   "id": "b5f5c9df",
   "metadata": {},
   "outputs": [
    {
     "data": {
      "text/plain": [
       "sedans           7903\n",
       "station wagon    3553\n",
       "compact          3153\n",
       "van               783\n",
       "other             432\n",
       "Name: body_type, dtype: int64"
      ]
     },
     "execution_count": 13,
     "metadata": {},
     "output_type": "execute_result"
    }
   ],
   "source": [
    "df.body_type.value_counts()"
   ]
  },
  {
   "cell_type": "code",
   "execution_count": 14,
   "id": "08d06956",
   "metadata": {},
   "outputs": [
    {
     "data": {
      "text/plain": [
       "make_model      body_type    \n",
       "audi_a1         sedans           1538\n",
       "                compact          1039\n",
       "                station wagon      21\n",
       "                other              15\n",
       "                van                 1\n",
       "audi_a3         sedans           2598\n",
       "                station wagon     282\n",
       "                compact           182\n",
       "                other              28\n",
       "                NaN                 7\n",
       "opel_astra      station wagon    1211\n",
       "                sedans           1053\n",
       "                compact           185\n",
       "                other              70\n",
       "                NaN                 7\n",
       "opel_corsa      compact          1230\n",
       "                sedans            875\n",
       "                other             110\n",
       "                NaN                 2\n",
       "                van                 2\n",
       "opel_insignia   station wagon    1611\n",
       "                sedans            900\n",
       "                other              56\n",
       "                compact            27\n",
       "                NaN                 3\n",
       "                van                 1\n",
       "renault_clio    sedans            918\n",
       "                compact           484\n",
       "                station wagon     337\n",
       "                other              83\n",
       "                NaN                15\n",
       "                van                 2\n",
       "renault_espace  van               777\n",
       "                station wagon      91\n",
       "                other              70\n",
       "                NaN                26\n",
       "                sedans             21\n",
       "                compact             6\n",
       "Name: body_type, dtype: int64"
      ]
     },
     "execution_count": 14,
     "metadata": {},
     "output_type": "execute_result"
    }
   ],
   "source": [
    "df['body_type'].groupby(df['make_model']).value_counts(dropna=False)"
   ]
  },
  {
   "cell_type": "code",
   "execution_count": 15,
   "id": "1feb3bab",
   "metadata": {},
   "outputs": [],
   "source": [
    "# check for error\n",
    "df2 = fill(df,'body_type','make_model','mode')"
   ]
  },
  {
   "cell_type": "code",
   "execution_count": 16,
   "id": "af2af016",
   "metadata": {},
   "outputs": [],
   "source": [
    "df = df2.copy()\n",
    "del df2"
   ]
  },
  {
   "cell_type": "code",
   "execution_count": 17,
   "id": "0e6470a0",
   "metadata": {},
   "outputs": [
    {
     "data": {
      "text/plain": [
       "make_model      body_type    \n",
       "audi_a1         sedans           1538\n",
       "                compact          1039\n",
       "                station wagon      21\n",
       "                other              15\n",
       "                van                 1\n",
       "audi_a3         sedans           2605\n",
       "                station wagon     282\n",
       "                compact           182\n",
       "                other              28\n",
       "opel_astra      station wagon    1218\n",
       "                sedans           1053\n",
       "                compact           185\n",
       "                other              70\n",
       "opel_corsa      compact          1232\n",
       "                sedans            875\n",
       "                other             110\n",
       "                van                 2\n",
       "opel_insignia   station wagon    1614\n",
       "                sedans            900\n",
       "                other              56\n",
       "                compact            27\n",
       "                van                 1\n",
       "renault_clio    sedans            933\n",
       "                compact           484\n",
       "                station wagon     337\n",
       "                other              83\n",
       "                van                 2\n",
       "renault_espace  van               803\n",
       "                station wagon      91\n",
       "                other              70\n",
       "                sedans             21\n",
       "                compact             6\n",
       "Name: body_type, dtype: int64"
      ]
     },
     "execution_count": 17,
     "metadata": {},
     "output_type": "execute_result"
    }
   ],
   "source": [
    "df['body_type'].groupby(df['make_model']).value_counts(dropna=False)"
   ]
  },
  {
   "cell_type": "markdown",
   "id": "8fe08cf7",
   "metadata": {},
   "source": [
    "### Impute km\n",
    "\n",
    "* There are 1006 missing values\n",
    "* I could've used first_registration, but it seems to have too many missing values\n",
    "* Impute with median of the distance by a new feature which is groups by body_type (different kind of cars are used in different ways) and type (new, pre_registered, etc.)\n"
   ]
  },
  {
   "cell_type": "code",
   "execution_count": 18,
   "id": "f6b78df4",
   "metadata": {},
   "outputs": [
    {
     "data": {
      "text/plain": [
       "1006"
      ]
     },
     "execution_count": 18,
     "metadata": {},
     "output_type": "execute_result"
    }
   ],
   "source": [
    "df.km.isna().sum()"
   ]
  },
  {
   "cell_type": "code",
   "execution_count": 19,
   "id": "36990b6f",
   "metadata": {},
   "outputs": [
    {
     "data": {
      "text/plain": [
       "NaN       820\n",
       "2019.0    147\n",
       "2018.0     38\n",
       "2017.0      1\n",
       "Name: first_registration, dtype: int64"
      ]
     },
     "execution_count": 19,
     "metadata": {},
     "output_type": "execute_result"
    }
   ],
   "source": [
    "df.first_registration[df.km.isna()].value_counts(dropna=False)"
   ]
  },
  {
   "cell_type": "code",
   "execution_count": 20,
   "id": "be70a126",
   "metadata": {},
   "outputs": [
    {
     "data": {
      "text/plain": [
       "new               831\n",
       "pre_registered    118\n",
       "demonstration      33\n",
       "used               15\n",
       "employees_car       8\n",
       "NaN                 1\n",
       "Name: type, dtype: int64"
      ]
     },
     "execution_count": 20,
     "metadata": {},
     "output_type": "execute_result"
    }
   ],
   "source": [
    "df.type[df.km.isna()].value_counts(dropna=False)"
   ]
  },
  {
   "cell_type": "code",
   "execution_count": 21,
   "id": "91f607b2",
   "metadata": {},
   "outputs": [
    {
     "data": {
      "text/plain": [
       "sedans           456\n",
       "compact          260\n",
       "station wagon    228\n",
       "van               42\n",
       "other             20\n",
       "Name: body_type, dtype: int64"
      ]
     },
     "execution_count": 21,
     "metadata": {},
     "output_type": "execute_result"
    }
   ],
   "source": [
    "df.body_type[df.km.isna()].value_counts(dropna=False)"
   ]
  },
  {
   "cell_type": "code",
   "execution_count": 22,
   "id": "33df866d",
   "metadata": {},
   "outputs": [
    {
     "data": {
      "text/plain": [
       "NaN       820\n",
       "2019.0    147\n",
       "2018.0     38\n",
       "2017.0      1\n",
       "Name: first_registration, dtype: int64"
      ]
     },
     "execution_count": 22,
     "metadata": {},
     "output_type": "execute_result"
    }
   ],
   "source": [
    "df.first_registration[df.km.isna()].value_counts(dropna=False)"
   ]
  },
  {
   "cell_type": "code",
   "execution_count": 23,
   "id": "adb9b52f",
   "metadata": {},
   "outputs": [],
   "source": [
    "df['for_km'] = df.groupby(['body_type', 'type']).ngroup()"
   ]
  },
  {
   "cell_type": "code",
   "execution_count": 24,
   "id": "64ed12e6",
   "metadata": {},
   "outputs": [],
   "source": [
    "df2 = fill(df,'km','for_km','median')"
   ]
  },
  {
   "cell_type": "code",
   "execution_count": 25,
   "id": "e12de66c",
   "metadata": {},
   "outputs": [],
   "source": [
    "df = df2.copy()\n",
    "del df2"
   ]
  },
  {
   "cell_type": "code",
   "execution_count": 26,
   "id": "1d28f09d",
   "metadata": {},
   "outputs": [
    {
     "data": {
      "text/plain": [
       "0"
      ]
     },
     "execution_count": 26,
     "metadata": {},
     "output_type": "execute_result"
    }
   ],
   "source": [
    "df.km.isna().sum()"
   ]
  },
  {
   "cell_type": "code",
   "execution_count": 27,
   "id": "ba15a4a0",
   "metadata": {},
   "outputs": [
    {
     "data": {
      "text/plain": [
       "Index(['make_model', 'body_type', 'price', 'km', 'prev_owner', 'hp', 'type',\n",
       "       'first_registration', 'body_color', 'paint_type', 'nr_doors',\n",
       "       'nr_seats', 'gearing_type', 'displacement', 'cylinders', 'weight',\n",
       "       'drive_chain', 'fuel', 'co2_emission', 'comfort_convenience',\n",
       "       'entertainment_media', 'extras', 'safety_security', 'gears',\n",
       "       'country_version', 'warranty_mo', 'vat_deductible',\n",
       "       'upholstery_material', 'upholstery_color', 'emission_class',\n",
       "       'consumption_comb', 'consumption_city', 'consumption_country',\n",
       "       'registration_continuous', 'for_km'],\n",
       "      dtype='object')"
      ]
     },
     "execution_count": 27,
     "metadata": {},
     "output_type": "execute_result"
    }
   ],
   "source": [
    "df.columns"
   ]
  },
  {
   "cell_type": "code",
   "execution_count": 28,
   "id": "1bfc2501",
   "metadata": {},
   "outputs": [],
   "source": [
    "df = df.drop(['for_km'], axis=1)"
   ]
  },
  {
   "cell_type": "code",
   "execution_count": 29,
   "id": "90d124f1",
   "metadata": {},
   "outputs": [
    {
     "data": {
      "text/plain": [
       "Index(['make_model', 'body_type', 'price', 'km', 'prev_owner', 'hp', 'type',\n",
       "       'first_registration', 'body_color', 'paint_type', 'nr_doors',\n",
       "       'nr_seats', 'gearing_type', 'displacement', 'cylinders', 'weight',\n",
       "       'drive_chain', 'fuel', 'co2_emission', 'comfort_convenience',\n",
       "       'entertainment_media', 'extras', 'safety_security', 'gears',\n",
       "       'country_version', 'warranty_mo', 'vat_deductible',\n",
       "       'upholstery_material', 'upholstery_color', 'emission_class',\n",
       "       'consumption_comb', 'consumption_city', 'consumption_country',\n",
       "       'registration_continuous'],\n",
       "      dtype='object')"
      ]
     },
     "execution_count": 29,
     "metadata": {},
     "output_type": "execute_result"
    }
   ],
   "source": [
    "df.columns"
   ]
  },
  {
   "cell_type": "markdown",
   "id": "796f82ae",
   "metadata": {},
   "source": [
    "### Impute 'prev_owner'\n",
    "\n",
    "* as noted in the 00_data_cleaning, missing values are for cases where there are no previous owners\n",
    "* fillna with 0"
   ]
  },
  {
   "cell_type": "code",
   "execution_count": 30,
   "id": "26444a9d",
   "metadata": {},
   "outputs": [
    {
     "data": {
      "text/plain": [
       "1.0    8293\n",
       "NaN    6794\n",
       "2.0     778\n",
       "3.0      17\n",
       "4.0       2\n",
       "Name: prev_owner, dtype: int64"
      ]
     },
     "execution_count": 30,
     "metadata": {},
     "output_type": "execute_result"
    }
   ],
   "source": [
    "df.prev_owner.value_counts(dropna=False)"
   ]
  },
  {
   "cell_type": "code",
   "execution_count": 31,
   "id": "0d426e4e",
   "metadata": {},
   "outputs": [],
   "source": [
    " df['prev_owner'].fillna(0, inplace=True)"
   ]
  },
  {
   "cell_type": "code",
   "execution_count": 32,
   "id": "41a0b69d",
   "metadata": {},
   "outputs": [
    {
     "data": {
      "text/plain": [
       "1.0    8293\n",
       "0.0    6794\n",
       "2.0     778\n",
       "3.0      17\n",
       "4.0       2\n",
       "Name: prev_owner, dtype: int64"
      ]
     },
     "execution_count": 32,
     "metadata": {},
     "output_type": "execute_result"
    }
   ],
   "source": [
    "df.prev_owner.value_counts(dropna=False)"
   ]
  },
  {
   "cell_type": "markdown",
   "id": "c14771fe",
   "metadata": {},
   "source": [
    "### Impute hp\n",
    "\n",
    "* impute based on mode of groups by make_model and body_type"
   ]
  },
  {
   "cell_type": "code",
   "execution_count": 33,
   "id": "942c0748",
   "metadata": {},
   "outputs": [
    {
     "data": {
      "text/plain": [
       "85.0     2541\n",
       "66.0     2122\n",
       "81.0     1401\n",
       "100.0    1308\n",
       "110.0    1112\n",
       "         ... \n",
       "84.0        1\n",
       "195.0       1\n",
       "44.0        1\n",
       "239.0       1\n",
       "9.0         1\n",
       "Name: hp, Length: 81, dtype: int64"
      ]
     },
     "execution_count": 33,
     "metadata": {},
     "output_type": "execute_result"
    }
   ],
   "source": [
    "df.hp.value_counts(dropna=False)"
   ]
  },
  {
   "cell_type": "code",
   "execution_count": 34,
   "id": "96ad79f7",
   "metadata": {},
   "outputs": [],
   "source": [
    "df['for_hp'] = df.groupby(['make_model','body_type']).ngroup()"
   ]
  },
  {
   "cell_type": "code",
   "execution_count": 35,
   "id": "6fed434a",
   "metadata": {},
   "outputs": [
    {
     "data": {
      "text/plain": [
       "array([ 2,  3,  0,  1,  4,  6,  7,  5,  8, 12,  9, 11, 10, 15, 13, 14, 16,\n",
       "       20, 19, 17, 18, 21, 22, 25, 24, 23, 26, 31, 30, 28, 29, 27],\n",
       "      dtype=int64)"
      ]
     },
     "execution_count": 35,
     "metadata": {},
     "output_type": "execute_result"
    }
   ],
   "source": [
    "df['for_hp'].unique()\n",
    "# 27 groups"
   ]
  },
  {
   "cell_type": "code",
   "execution_count": 36,
   "id": "a0777e80",
   "metadata": {},
   "outputs": [],
   "source": [
    "df2 = fill(df, 'hp','for_hp','mode')"
   ]
  },
  {
   "cell_type": "code",
   "execution_count": 37,
   "id": "73c88e19",
   "metadata": {},
   "outputs": [],
   "source": [
    "df = df2.copy()"
   ]
  },
  {
   "cell_type": "code",
   "execution_count": 38,
   "id": "17696d6c",
   "metadata": {},
   "outputs": [],
   "source": [
    "del df2"
   ]
  },
  {
   "cell_type": "code",
   "execution_count": 39,
   "id": "6d223007",
   "metadata": {},
   "outputs": [
    {
     "data": {
      "text/plain": [
       "0"
      ]
     },
     "execution_count": 39,
     "metadata": {},
     "output_type": "execute_result"
    }
   ],
   "source": [
    "df.hp.isna().sum()"
   ]
  },
  {
   "cell_type": "code",
   "execution_count": 40,
   "id": "8a246687",
   "metadata": {},
   "outputs": [],
   "source": [
    "df = df.drop('for_hp', axis=1)"
   ]
  },
  {
   "cell_type": "markdown",
   "id": "c9f68cbc",
   "metadata": {},
   "source": [
    "### Impute 'first_registration'\n",
    "\n",
    "* when first_registration is missing, 'km' is very low in most cases\n",
    "* I will assign 2019 to the first_registration to all missing cases of all types. I will right in all but 17 or so cases of type 'used' where mileage is higher than 500 km.\n",
    "\n"
   ]
  },
  {
   "cell_type": "code",
   "execution_count": 41,
   "id": "ce2da092",
   "metadata": {},
   "outputs": [
    {
     "data": {
      "text/plain": [
       "count      1579.000000\n",
       "mean        566.630146\n",
       "std        6029.426399\n",
       "min           0.000000\n",
       "25%          10.000000\n",
       "50%          10.000000\n",
       "75%          10.000000\n",
       "max      115137.000000\n",
       "Name: km, dtype: float64"
      ]
     },
     "execution_count": 41,
     "metadata": {},
     "output_type": "execute_result"
    }
   ],
   "source": [
    "df['km'][df['first_registration'].isna()].describe()"
   ]
  },
  {
   "cell_type": "code",
   "execution_count": 42,
   "id": "32be164e",
   "metadata": {},
   "outputs": [
    {
     "data": {
      "text/html": [
       "<div>\n",
       "<style scoped>\n",
       "    .dataframe tbody tr th:only-of-type {\n",
       "        vertical-align: middle;\n",
       "    }\n",
       "\n",
       "    .dataframe tbody tr th {\n",
       "        vertical-align: top;\n",
       "    }\n",
       "\n",
       "    .dataframe thead th {\n",
       "        text-align: right;\n",
       "    }\n",
       "</style>\n",
       "<table border=\"1\" class=\"dataframe\">\n",
       "  <thead>\n",
       "    <tr style=\"text-align: right;\">\n",
       "      <th></th>\n",
       "      <th>count</th>\n",
       "      <th>mean</th>\n",
       "      <th>std</th>\n",
       "      <th>min</th>\n",
       "      <th>25%</th>\n",
       "      <th>50%</th>\n",
       "      <th>75%</th>\n",
       "      <th>max</th>\n",
       "    </tr>\n",
       "    <tr>\n",
       "      <th>type</th>\n",
       "      <th></th>\n",
       "      <th></th>\n",
       "      <th></th>\n",
       "      <th></th>\n",
       "      <th></th>\n",
       "      <th></th>\n",
       "      <th></th>\n",
       "      <th></th>\n",
       "    </tr>\n",
       "  </thead>\n",
       "  <tbody>\n",
       "    <tr>\n",
       "      <th>demonstration</th>\n",
       "      <td>5.0</td>\n",
       "      <td>6501.400000</td>\n",
       "      <td>4232.293681</td>\n",
       "      <td>3000.0</td>\n",
       "      <td>3000.0</td>\n",
       "      <td>4307.0</td>\n",
       "      <td>11000.0</td>\n",
       "      <td>11200.0</td>\n",
       "    </tr>\n",
       "    <tr>\n",
       "      <th>employees_car</th>\n",
       "      <td>3.0</td>\n",
       "      <td>8700.000000</td>\n",
       "      <td>8155.979402</td>\n",
       "      <td>3500.0</td>\n",
       "      <td>4000.0</td>\n",
       "      <td>4500.0</td>\n",
       "      <td>11300.0</td>\n",
       "      <td>18100.0</td>\n",
       "    </tr>\n",
       "    <tr>\n",
       "      <th>new</th>\n",
       "      <td>1529.0</td>\n",
       "      <td>11.238064</td>\n",
       "      <td>20.997590</td>\n",
       "      <td>0.0</td>\n",
       "      <td>10.0</td>\n",
       "      <td>10.0</td>\n",
       "      <td>10.0</td>\n",
       "      <td>500.0</td>\n",
       "    </tr>\n",
       "    <tr>\n",
       "      <th>pre_registered</th>\n",
       "      <td>6.0</td>\n",
       "      <td>8.500000</td>\n",
       "      <td>3.674235</td>\n",
       "      <td>1.0</td>\n",
       "      <td>10.0</td>\n",
       "      <td>10.0</td>\n",
       "      <td>10.0</td>\n",
       "      <td>10.0</td>\n",
       "    </tr>\n",
       "    <tr>\n",
       "      <th>used</th>\n",
       "      <td>35.0</td>\n",
       "      <td>20106.600000</td>\n",
       "      <td>29616.877021</td>\n",
       "      <td>5.0</td>\n",
       "      <td>10.0</td>\n",
       "      <td>497.0</td>\n",
       "      <td>33124.0</td>\n",
       "      <td>89982.0</td>\n",
       "    </tr>\n",
       "  </tbody>\n",
       "</table>\n",
       "</div>"
      ],
      "text/plain": [
       "                 count          mean           std     min     25%     50%  \\\n",
       "type                                                                         \n",
       "demonstration      5.0   6501.400000   4232.293681  3000.0  3000.0  4307.0   \n",
       "employees_car      3.0   8700.000000   8155.979402  3500.0  4000.0  4500.0   \n",
       "new             1529.0     11.238064     20.997590     0.0    10.0    10.0   \n",
       "pre_registered     6.0      8.500000      3.674235     1.0    10.0    10.0   \n",
       "used              35.0  20106.600000  29616.877021     5.0    10.0   497.0   \n",
       "\n",
       "                    75%      max  \n",
       "type                              \n",
       "demonstration   11000.0  11200.0  \n",
       "employees_car   11300.0  18100.0  \n",
       "new                10.0    500.0  \n",
       "pre_registered     10.0     10.0  \n",
       "used            33124.0  89982.0  "
      ]
     },
     "execution_count": 42,
     "metadata": {},
     "output_type": "execute_result"
    }
   ],
   "source": [
    "df[df['first_registration'].isna()].groupby('type')['km'].describe()"
   ]
  },
  {
   "cell_type": "code",
   "execution_count": 43,
   "id": "55751a9c",
   "metadata": {},
   "outputs": [],
   "source": [
    "df['first_registration'] = df['first_registration'].fillna(2019)"
   ]
  },
  {
   "cell_type": "code",
   "execution_count": 44,
   "id": "403881c6",
   "metadata": {},
   "outputs": [
    {
     "data": {
      "text/plain": [
       "0"
      ]
     },
     "execution_count": 44,
     "metadata": {},
     "output_type": "execute_result"
    }
   ],
   "source": [
    "df['first_registration'].isna().sum()"
   ]
  },
  {
   "cell_type": "markdown",
   "id": "60d644fb",
   "metadata": {},
   "source": [
    "### impute 'body_color'\n",
    "\n",
    "* missing body_color for disproportionately more 'new' (425/600 = 70% cases) and 'opel_insignia' + 'opel_astra' (60%)\n",
    "* a little search reveals that the most popular color for cars in europe is 'black'\n",
    "* 'black' is also the most popular color in this dataset\n",
    "* but 'white' for many make_models if new, which seems odd. \n",
    "* I will impute the missing body_color with a corrective 'black'. "
   ]
  },
  {
   "cell_type": "code",
   "execution_count": 45,
   "id": "6ecec70f",
   "metadata": {},
   "outputs": [
    {
     "data": {
      "text/plain": [
       "597"
      ]
     },
     "execution_count": 45,
     "metadata": {},
     "output_type": "execute_result"
    }
   ],
   "source": [
    "df.body_color.isna().sum()"
   ]
  },
  {
   "cell_type": "code",
   "execution_count": 46,
   "id": "e562c1c9",
   "metadata": {},
   "outputs": [
    {
     "data": {
      "text/plain": [
       "new               426\n",
       "used              140\n",
       "employees_car      15\n",
       "pre_registered     11\n",
       "demonstration       5\n",
       "Name: type, dtype: int64"
      ]
     },
     "execution_count": 46,
     "metadata": {},
     "output_type": "execute_result"
    }
   ],
   "source": [
    "df[df.body_color.isna()]['type'].value_counts()"
   ]
  },
  {
   "cell_type": "code",
   "execution_count": 47,
   "id": "5918ae56",
   "metadata": {},
   "outputs": [
    {
     "data": {
      "text/plain": [
       "0.7083333333333334"
      ]
     },
     "execution_count": 47,
     "metadata": {},
     "output_type": "execute_result"
    }
   ],
   "source": [
    "425/600"
   ]
  },
  {
   "cell_type": "code",
   "execution_count": 48,
   "id": "14fbfeee",
   "metadata": {},
   "outputs": [
    {
     "data": {
      "text/plain": [
       "used              11080\n",
       "new                1632\n",
       "pre_registered     1364\n",
       "employees_car      1010\n",
       "demonstration       796\n",
       "Name: type, dtype: int64"
      ]
     },
     "execution_count": 48,
     "metadata": {},
     "output_type": "execute_result"
    }
   ],
   "source": [
    "df['type'].value_counts()"
   ]
  },
  {
   "cell_type": "code",
   "execution_count": 49,
   "id": "507fd5ab",
   "metadata": {},
   "outputs": [
    {
     "data": {
      "text/plain": [
       "white     357\n",
       "black     294\n",
       "grey      242\n",
       "blue      144\n",
       "red        65\n",
       "silver     63\n",
       "yellow     16\n",
       "green      16\n",
       "brown       6\n",
       "beige       2\n",
       "orange      1\n",
       "Name: body_color, dtype: int64"
      ]
     },
     "execution_count": 49,
     "metadata": {},
     "output_type": "execute_result"
    }
   ],
   "source": [
    "df[df.type == 'new']['body_color'].value_counts()"
   ]
  },
  {
   "cell_type": "code",
   "execution_count": 50,
   "id": "4e4be6e5",
   "metadata": {},
   "outputs": [
    {
     "data": {
      "text/plain": [
       "opel_insignia     218\n",
       "opel_astra        139\n",
       "audi_a1            73\n",
       "audi_a3            73\n",
       "renault_clio       46\n",
       "opel_corsa         28\n",
       "renault_espace     20\n",
       "Name: make_model, dtype: int64"
      ]
     },
     "execution_count": 50,
     "metadata": {},
     "output_type": "execute_result"
    }
   ],
   "source": [
    "df[df.body_color.isna()]['make_model'].value_counts()"
   ]
  },
  {
   "cell_type": "code",
   "execution_count": 51,
   "id": "0cedc943",
   "metadata": {},
   "outputs": [
    {
     "data": {
      "text/plain": [
       "0.595"
      ]
     },
     "execution_count": 51,
     "metadata": {},
     "output_type": "execute_result"
    }
   ],
   "source": [
    "(218 + 139) / 600"
   ]
  },
  {
   "cell_type": "code",
   "execution_count": 52,
   "id": "08d304bf",
   "metadata": {},
   "outputs": [
    {
     "data": {
      "text/plain": [
       "audi_a3           3097\n",
       "audi_a1           2614\n",
       "opel_insignia     2598\n",
       "opel_astra        2526\n",
       "opel_corsa        2219\n",
       "renault_clio      1839\n",
       "renault_espace     991\n",
       "Name: make_model, dtype: int64"
      ]
     },
     "execution_count": 52,
     "metadata": {},
     "output_type": "execute_result"
    }
   ],
   "source": [
    "df['make_model'].value_counts()"
   ]
  },
  {
   "cell_type": "code",
   "execution_count": 53,
   "id": "90377ae6",
   "metadata": {},
   "outputs": [
    {
     "data": {
      "text/plain": [
       "black     3737\n",
       "grey      3504\n",
       "white     3380\n",
       "silver    1647\n",
       "blue      1431\n",
       "red        957\n",
       "brown      289\n",
       "green      154\n",
       "beige      108\n",
       "yellow      51\n",
       "violet      18\n",
       "bronze       6\n",
       "orange       3\n",
       "gold         2\n",
       "Name: body_color, dtype: int64"
      ]
     },
     "execution_count": 53,
     "metadata": {},
     "output_type": "execute_result"
    }
   ],
   "source": [
    "df.body_color.value_counts()"
   ]
  },
  {
   "cell_type": "code",
   "execution_count": 54,
   "id": "e820ba41",
   "metadata": {},
   "outputs": [
    {
     "data": {
      "text/plain": [
       "make_model      body_color\n",
       "audi_a1         white         118\n",
       "                black          75\n",
       "                NaN            36\n",
       "                grey           33\n",
       "                red            20\n",
       "                blue           19\n",
       "                yellow         15\n",
       "                green          11\n",
       "                silver          1\n",
       "audi_a3         white          87\n",
       "                grey           77\n",
       "                black          75\n",
       "                NaN            46\n",
       "                red            14\n",
       "                silver         14\n",
       "                blue           13\n",
       "opel_astra      NaN           108\n",
       "                black          38\n",
       "                white          33\n",
       "                grey           31\n",
       "                blue           19\n",
       "                red            11\n",
       "                silver         11\n",
       "                green           3\n",
       "                brown           1\n",
       "opel_corsa      blue           44\n",
       "                grey           36\n",
       "                silver         22\n",
       "                black          18\n",
       "                NaN            17\n",
       "                white          10\n",
       "                red             7\n",
       "                yellow          1\n",
       "opel_insignia   NaN           182\n",
       "                black          54\n",
       "                grey           39\n",
       "                white          37\n",
       "                blue           34\n",
       "                silver         12\n",
       "                red             5\n",
       "                beige           2\n",
       "                green           2\n",
       "                brown           1\n",
       "                orange          1\n",
       "renault_clio    white          43\n",
       "                NaN            29\n",
       "                black          15\n",
       "                blue           15\n",
       "                grey           15\n",
       "                red             8\n",
       "                silver          3\n",
       "                brown           1\n",
       "renault_espace  white          29\n",
       "                black          19\n",
       "                grey           11\n",
       "                NaN             8\n",
       "                brown           3\n",
       "Name: body_color, dtype: int64"
      ]
     },
     "execution_count": 54,
     "metadata": {},
     "output_type": "execute_result"
    }
   ],
   "source": [
    "df[df.type=='new'].groupby('make_model')['body_color'].value_counts(dropna=False)"
   ]
  },
  {
   "cell_type": "code",
   "execution_count": 55,
   "id": "99462cc1",
   "metadata": {},
   "outputs": [],
   "source": [
    "df['body_color'] = df['body_color'].fillna('black')"
   ]
  },
  {
   "cell_type": "code",
   "execution_count": 56,
   "id": "52aebacc",
   "metadata": {},
   "outputs": [
    {
     "data": {
      "text/plain": [
       "make_model      body_color\n",
       "audi_a1         white         118\n",
       "                black         111\n",
       "                grey           33\n",
       "                red            20\n",
       "                blue           19\n",
       "                yellow         15\n",
       "                green          11\n",
       "                silver          1\n",
       "audi_a3         black         121\n",
       "                white          87\n",
       "                grey           77\n",
       "                red            14\n",
       "                silver         14\n",
       "                blue           13\n",
       "opel_astra      black         146\n",
       "                white          33\n",
       "                grey           31\n",
       "                blue           19\n",
       "                red            11\n",
       "                silver         11\n",
       "                green           3\n",
       "                brown           1\n",
       "opel_corsa      blue           44\n",
       "                grey           36\n",
       "                black          35\n",
       "                silver         22\n",
       "                white          10\n",
       "                red             7\n",
       "                yellow          1\n",
       "opel_insignia   black         236\n",
       "                grey           39\n",
       "                white          37\n",
       "                blue           34\n",
       "                silver         12\n",
       "                red             5\n",
       "                beige           2\n",
       "                green           2\n",
       "                brown           1\n",
       "                orange          1\n",
       "renault_clio    black          44\n",
       "                white          43\n",
       "                blue           15\n",
       "                grey           15\n",
       "                red             8\n",
       "                silver          3\n",
       "                brown           1\n",
       "renault_espace  white          29\n",
       "                black          27\n",
       "                grey           11\n",
       "                brown           3\n",
       "Name: body_color, dtype: int64"
      ]
     },
     "execution_count": 56,
     "metadata": {},
     "output_type": "execute_result"
    }
   ],
   "source": [
    "df[df.type=='new'].groupby('make_model')['body_color'].value_counts(dropna=False)"
   ]
  },
  {
   "cell_type": "markdown",
   "id": "6ae21ebe",
   "metadata": {},
   "source": [
    "### Impute 'paint_type'\n",
    "\n",
    "* among the unique type of paints the values are only metallic (98%), basic (2%), and perlescent (rare).\n",
    "* white, black, and grey body colors makes about 80% of the body_colors when paint_type is missing\n",
    "* metallic is clearly the most popular finish for these body_colors even by make_model\n",
    "* imputing all missing paint_type with 'Metallic'"
   ]
  },
  {
   "cell_type": "code",
   "execution_count": 57,
   "id": "8f27aac2",
   "metadata": {},
   "outputs": [
    {
     "data": {
      "text/plain": [
       "5755"
      ]
     },
     "execution_count": 57,
     "metadata": {},
     "output_type": "execute_result"
    }
   ],
   "source": [
    "df.paint_type.isna().sum()"
   ]
  },
  {
   "cell_type": "code",
   "execution_count": 58,
   "id": "7b7868a8",
   "metadata": {},
   "outputs": [
    {
     "data": {
      "text/plain": [
       "Metallic       0.966729\n",
       "Uni/basic      0.032678\n",
       "Perl effect    0.000592\n",
       "Name: paint_type, dtype: float64"
      ]
     },
     "execution_count": 58,
     "metadata": {},
     "output_type": "execute_result"
    }
   ],
   "source": [
    "df.paint_type.value_counts()/df.paint_type.count()"
   ]
  },
  {
   "cell_type": "code",
   "execution_count": 59,
   "id": "e40b1cf6",
   "metadata": {},
   "outputs": [
    {
     "data": {
      "text/plain": [
       "white     0.413553\n",
       "black     0.261512\n",
       "grey      0.123892\n",
       "red       0.070895\n",
       "blue      0.070721\n",
       "silver    0.033362\n",
       "brown     0.009904\n",
       "green     0.006429\n",
       "beige     0.005560\n",
       "yellow    0.002085\n",
       "violet    0.000869\n",
       "bronze    0.000521\n",
       "orange    0.000348\n",
       "gold      0.000348\n",
       "Name: body_color, dtype: float64"
      ]
     },
     "execution_count": 59,
     "metadata": {},
     "output_type": "execute_result"
    }
   ],
   "source": [
    "df[df.paint_type.isna()].body_color.value_counts()/df[df.paint_type.isna()].body_color.count()"
   ]
  },
  {
   "cell_type": "code",
   "execution_count": 60,
   "id": "1abfc357",
   "metadata": {},
   "outputs": [
    {
     "data": {
      "text/plain": [
       "make_model      paint_type \n",
       "audi_a1         Metallic       1134\n",
       "                Uni/basic        38\n",
       "audi_a3         Metallic       1263\n",
       "                Uni/basic        85\n",
       "opel_astra      Metallic        965\n",
       "                Uni/basic        21\n",
       "                Perl effect       2\n",
       "opel_corsa      Metallic        769\n",
       "                Uni/basic        42\n",
       "                Perl effect       1\n",
       "opel_insignia   Metallic       1179\n",
       "                Uni/basic        16\n",
       "renault_clio    Metallic        544\n",
       "                Uni/basic        38\n",
       "renault_espace  Metallic        507\n",
       "                Uni/basic        16\n",
       "Name: paint_type, dtype: int64"
      ]
     },
     "execution_count": 60,
     "metadata": {},
     "output_type": "execute_result"
    }
   ],
   "source": [
    "df[(df.body_color=='white') | (df.body_color=='black') | (df.body_color=='grey')].groupby('make_model').paint_type\\\n",
    ".value_counts()"
   ]
  },
  {
   "cell_type": "code",
   "execution_count": 61,
   "id": "1e48205e",
   "metadata": {},
   "outputs": [],
   "source": [
    "df['paint_type'] = df['paint_type'].fillna('Metallic')"
   ]
  },
  {
   "cell_type": "code",
   "execution_count": 62,
   "id": "041c0d0f",
   "metadata": {},
   "outputs": [
    {
     "data": {
      "text/plain": [
       "Metallic       15547\n",
       "Uni/basic        331\n",
       "Perl effect        6\n",
       "Name: paint_type, dtype: int64"
      ]
     },
     "execution_count": 62,
     "metadata": {},
     "output_type": "execute_result"
    }
   ],
   "source": [
    "df.paint_type.value_counts(dropna=False)"
   ]
  },
  {
   "cell_type": "markdown",
   "id": "102b41a4",
   "metadata": {},
   "source": [
    "### impute 'nr_doors'\n",
    "\n",
    "* most cars by body_type have a mode of 5 doors\n",
    "* I will replace any missing with 5 doors. \n",
    "* I will also reduce the nr_doors to two classes: 5 or more and 4 or less."
   ]
  },
  {
   "cell_type": "code",
   "execution_count": 63,
   "id": "1181418a",
   "metadata": {},
   "outputs": [
    {
     "data": {
      "text/plain": [
       "212"
      ]
     },
     "execution_count": 63,
     "metadata": {},
     "output_type": "execute_result"
    }
   ],
   "source": [
    "df.nr_doors.isna().sum()"
   ]
  },
  {
   "cell_type": "code",
   "execution_count": 64,
   "id": "0e2ced84",
   "metadata": {},
   "outputs": [
    {
     "data": {
      "text/plain": [
       "5.0    0.736345\n",
       "4.0    0.196465\n",
       "3.0    0.053088\n",
       "2.0    0.013974\n",
       "NaN    0.013527\n",
       "1.0    0.000064\n",
       "7.0    0.000064\n",
       "Name: nr_doors, dtype: float64"
      ]
     },
     "execution_count": 64,
     "metadata": {},
     "output_type": "execute_result"
    }
   ],
   "source": [
    "df.nr_doors.value_counts(dropna=False)/df.nr_doors.count()"
   ]
  },
  {
   "cell_type": "code",
   "execution_count": 65,
   "id": "4b01e9e0",
   "metadata": {},
   "outputs": [
    {
     "data": {
      "text/plain": [
       "body_type      nr_doors\n",
       "compact        5.0         0.600449\n",
       "               4.0         0.211168\n",
       "               3.0         0.137677\n",
       "               2.0         0.050385\n",
       "               NaN         0.012516\n",
       "               1.0         0.000321\n",
       "other          5.0         0.847059\n",
       "               3.0         0.065882\n",
       "               4.0         0.061176\n",
       "               2.0         0.025882\n",
       "               NaN         0.016471\n",
       "sedans         5.0         0.766017\n",
       "               4.0         0.179780\n",
       "               3.0         0.047796\n",
       "               NaN         0.015505\n",
       "               2.0         0.006407\n",
       "station wagon  5.0         0.743553\n",
       "               4.0         0.255596\n",
       "               NaN         0.009634\n",
       "               3.0         0.000567\n",
       "               2.0         0.000283\n",
       "van            5.0         0.885965\n",
       "               4.0         0.112782\n",
       "               NaN         0.013784\n",
       "               7.0         0.001253\n",
       "Name: nr_doors, dtype: float64"
      ]
     },
     "execution_count": 65,
     "metadata": {},
     "output_type": "execute_result"
    }
   ],
   "source": [
    "df.groupby('body_type').nr_doors.value_counts(dropna=False)/df.groupby('body_type').nr_doors.count()"
   ]
  },
  {
   "cell_type": "code",
   "execution_count": 66,
   "id": "e0842595",
   "metadata": {},
   "outputs": [],
   "source": [
    "df['nr_doors'] = df['nr_doors'].fillna(5)"
   ]
  },
  {
   "cell_type": "code",
   "execution_count": 67,
   "id": "598679e0",
   "metadata": {},
   "outputs": [],
   "source": [
    "df.loc[df.nr_doors<=4, 'nr_doors'] = 4\n",
    "df.loc[df.nr_doors>=5, 'nr_doors'] = 5"
   ]
  },
  {
   "cell_type": "code",
   "execution_count": 68,
   "id": "2596c4e6",
   "metadata": {},
   "outputs": [
    {
     "data": {
      "text/plain": [
       "5.0    0.739927\n",
       "4.0    0.260073\n",
       "Name: nr_doors, dtype: float64"
      ]
     },
     "execution_count": 68,
     "metadata": {},
     "output_type": "execute_result"
    }
   ],
   "source": [
    "df.nr_doors.value_counts(dropna=False)/df.nr_doors.count()"
   ]
  },
  {
   "cell_type": "code",
   "execution_count": 69,
   "id": "b273455c",
   "metadata": {},
   "outputs": [],
   "source": [
    "df['nr_doors'] = ['<=4' if  x == 4 else '>=5' for x in df.nr_doors]"
   ]
  },
  {
   "cell_type": "code",
   "execution_count": 70,
   "id": "5096d369",
   "metadata": {},
   "outputs": [
    {
     "data": {
      "text/plain": [
       ">=5    0.739927\n",
       "<=4    0.260073\n",
       "Name: nr_doors, dtype: float64"
      ]
     },
     "execution_count": 70,
     "metadata": {},
     "output_type": "execute_result"
    }
   ],
   "source": [
    "df.nr_doors.value_counts(dropna=False)/df.nr_doors.count()"
   ]
  },
  {
   "cell_type": "markdown",
   "id": "fbf45f87",
   "metadata": {},
   "source": [
    "### impute 'nr_seats'\n",
    "\n",
    "* 977 missing values\n",
    "* makes sense to impute the number of seats by body_type\n",
    "* for all body_type other than van we can impute missing values using 5 (mode)\n",
    "* renault_espace is the only true 'van' in this dataset. The no. of seats are 5 or 7 in proportion 55:45\n",
    "* imputing with randomly assigned 5 or 7 in proportion 55:45"
   ]
  },
  {
   "cell_type": "code",
   "execution_count": 71,
   "id": "58ae1683",
   "metadata": {},
   "outputs": [
    {
     "data": {
      "text/plain": [
       "5.0    13301\n",
       "4.0     1125\n",
       "NaN      977\n",
       "7.0      362\n",
       "2.0      116\n",
       "6.0        2\n",
       "3.0        1\n",
       "Name: nr_seats, dtype: int64"
      ]
     },
     "execution_count": 71,
     "metadata": {},
     "output_type": "execute_result"
    }
   ],
   "source": [
    "df.nr_seats.value_counts(dropna=False)"
   ]
  },
  {
   "cell_type": "code",
   "execution_count": 72,
   "id": "d0fa1ee9",
   "metadata": {
    "scrolled": true
   },
   "outputs": [
    {
     "data": {
      "text/plain": [
       "body_type      nr_seats\n",
       "compact        5.0         0.849158\n",
       "               4.0         0.146801\n",
       "               NaN         0.062290\n",
       "               2.0         0.002694\n",
       "               7.0         0.000673\n",
       "               3.0         0.000337\n",
       "               6.0         0.000337\n",
       "other          5.0         0.831658\n",
       "               2.0         0.087940\n",
       "               NaN         0.085427\n",
       "               7.0         0.055276\n",
       "               4.0         0.025126\n",
       "sedans         5.0         0.900805\n",
       "               4.0         0.089128\n",
       "               NaN         0.063758\n",
       "               2.0         0.009530\n",
       "               7.0         0.000537\n",
       "station wagon  5.0         0.989666\n",
       "               NaN         0.051963\n",
       "               7.0         0.005610\n",
       "               4.0         0.004133\n",
       "               2.0         0.000295\n",
       "               6.0         0.000295\n",
       "van            5.0         0.548433\n",
       "               7.0         0.448718\n",
       "               NaN         0.152422\n",
       "               2.0         0.001425\n",
       "               4.0         0.001425\n",
       "Name: nr_seats, dtype: float64"
      ]
     },
     "execution_count": 72,
     "metadata": {},
     "output_type": "execute_result"
    }
   ],
   "source": [
    "df.groupby('body_type').nr_seats.value_counts(dropna=False)/df.groupby('body_type').nr_seats.count()"
   ]
  },
  {
   "cell_type": "code",
   "execution_count": 73,
   "id": "95e87684",
   "metadata": {},
   "outputs": [
    {
     "data": {
      "text/plain": [
       "5.0    385\n",
       "7.0    315\n",
       "NaN    107\n",
       "2.0      1\n",
       "4.0      1\n",
       "Name: nr_seats, dtype: int64"
      ]
     },
     "execution_count": 73,
     "metadata": {},
     "output_type": "execute_result"
    }
   ],
   "source": [
    "df[df.body_type=='van'].nr_seats.value_counts(dropna=False)"
   ]
  },
  {
   "cell_type": "code",
   "execution_count": 74,
   "id": "7e8c7e89",
   "metadata": {},
   "outputs": [
    {
     "data": {
      "text/plain": [
       "make_model      nr_seats\n",
       "audi_a1         NaN           1\n",
       "opel_corsa      NaN           2\n",
       "opel_insignia   5.0           1\n",
       "renault_clio    2.0           1\n",
       "                5.0           1\n",
       "renault_espace  5.0         383\n",
       "                7.0         315\n",
       "                NaN         104\n",
       "                4.0           1\n",
       "Name: nr_seats, dtype: int64"
      ]
     },
     "execution_count": 74,
     "metadata": {},
     "output_type": "execute_result"
    }
   ],
   "source": [
    "df[df.body_type=='van'].groupby('make_model').nr_seats.value_counts(dropna=False)"
   ]
  },
  {
   "cell_type": "code",
   "execution_count": 75,
   "id": "6388fed0",
   "metadata": {},
   "outputs": [
    {
     "data": {
      "text/plain": [
       "0.5487106017191977"
      ]
     },
     "execution_count": 75,
     "metadata": {},
     "output_type": "execute_result"
    }
   ],
   "source": [
    "383/(383+315)"
   ]
  },
  {
   "cell_type": "code",
   "execution_count": 76,
   "id": "a39825b5",
   "metadata": {},
   "outputs": [],
   "source": [
    "df.loc[df.body_type != 'van', 'nr_seats'] = df.loc[df.body_type != 'van', 'nr_seats'].fillna(5)"
   ]
  },
  {
   "cell_type": "code",
   "execution_count": 77,
   "id": "9161f186",
   "metadata": {},
   "outputs": [],
   "source": [
    "df.loc[(df.body_type=='van') & (df.nr_seats.isna()),'nr_seats'] = \\\n",
    "    [choices((5,7), weights=(55, 45))[0] for \\\n",
    "     x in df.loc[(df.body_type=='van') & (df.nr_seats.isna()),'nr_seats']]"
   ]
  },
  {
   "cell_type": "code",
   "execution_count": 78,
   "id": "8dee8ed5",
   "metadata": {},
   "outputs": [
    {
     "data": {
      "text/plain": [
       "5.0    440\n",
       "7.0    367\n",
       "2.0      1\n",
       "4.0      1\n",
       "Name: nr_seats, dtype: int64"
      ]
     },
     "execution_count": 78,
     "metadata": {},
     "output_type": "execute_result"
    }
   ],
   "source": [
    "df[df.body_type=='van'].nr_seats.value_counts(dropna=False)"
   ]
  },
  {
   "cell_type": "code",
   "execution_count": 79,
   "id": "79a9b578",
   "metadata": {},
   "outputs": [
    {
     "data": {
      "text/plain": [
       "0"
      ]
     },
     "execution_count": 79,
     "metadata": {},
     "output_type": "execute_result"
    }
   ],
   "source": [
    "df.nr_seats.isna().sum()"
   ]
  },
  {
   "cell_type": "markdown",
   "id": "3d80ea72",
   "metadata": {},
   "source": [
    "### impute 'gearing_type'"
   ]
  },
  {
   "cell_type": "code",
   "execution_count": 80,
   "id": "08ee2cb0",
   "metadata": {},
   "outputs": [
    {
     "data": {
      "text/plain": [
       "manual            8126\n",
       "automatic         7289\n",
       "semi-automatic     469\n",
       "Name: gearing_type, dtype: int64"
      ]
     },
     "execution_count": 80,
     "metadata": {},
     "output_type": "execute_result"
    }
   ],
   "source": [
    "df.gearing_type.value_counts()"
   ]
  },
  {
   "cell_type": "markdown",
   "id": "72ccb6b3",
   "metadata": {},
   "source": [
    "### impute 'displacement'\n",
    "\n",
    "* missing in 495 rows\n",
    "* displacement and cylinders are missing together in 448 cases\n",
    "* the displacement medians by make_model show some trend with first_registration\n",
    "* filling with medians based on groups based on 'make_model' and 'first_registration'."
   ]
  },
  {
   "cell_type": "code",
   "execution_count": 81,
   "id": "85836bd4",
   "metadata": {},
   "outputs": [
    {
     "data": {
      "text/plain": [
       "495"
      ]
     },
     "execution_count": 81,
     "metadata": {},
     "output_type": "execute_result"
    }
   ],
   "source": [
    "df.displacement.isna().sum()"
   ]
  },
  {
   "cell_type": "code",
   "execution_count": 82,
   "id": "36b054c9",
   "metadata": {},
   "outputs": [
    {
     "data": {
      "text/plain": [
       "NaN    448\n",
       "4.0     42\n",
       "3.0      2\n",
       "2.0      1\n",
       "5.0      1\n",
       "8.0      1\n",
       "Name: cylinders, dtype: int64"
      ]
     },
     "execution_count": 82,
     "metadata": {},
     "output_type": "execute_result"
    }
   ],
   "source": [
    "df[df.displacement.isna()].cylinders.value_counts(dropna=False)"
   ]
  },
  {
   "cell_type": "code",
   "execution_count": 83,
   "id": "44339e53",
   "metadata": {},
   "outputs": [
    {
     "data": {
      "text/plain": [
       "renault_clio      91\n",
       "opel_astra        89\n",
       "renault_espace    87\n",
       "opel_insignia     75\n",
       "opel_corsa        74\n",
       "audi_a3           50\n",
       "audi_a1           29\n",
       "Name: make_model, dtype: int64"
      ]
     },
     "execution_count": 83,
     "metadata": {},
     "output_type": "execute_result"
    }
   ],
   "source": [
    "df[df.displacement.isna()].make_model.value_counts(dropna=False)"
   ]
  },
  {
   "cell_type": "code",
   "execution_count": 84,
   "id": "1051dcc7",
   "metadata": {},
   "outputs": [
    {
     "data": {
      "text/html": [
       "<div>\n",
       "<style scoped>\n",
       "    .dataframe tbody tr th:only-of-type {\n",
       "        vertical-align: middle;\n",
       "    }\n",
       "\n",
       "    .dataframe tbody tr th {\n",
       "        vertical-align: top;\n",
       "    }\n",
       "\n",
       "    .dataframe thead th {\n",
       "        text-align: right;\n",
       "    }\n",
       "</style>\n",
       "<table border=\"1\" class=\"dataframe\">\n",
       "  <thead>\n",
       "    <tr style=\"text-align: right;\">\n",
       "      <th></th>\n",
       "      <th></th>\n",
       "      <th>count</th>\n",
       "      <th>mean</th>\n",
       "      <th>std</th>\n",
       "      <th>min</th>\n",
       "      <th>25%</th>\n",
       "      <th>50%</th>\n",
       "      <th>75%</th>\n",
       "      <th>max</th>\n",
       "    </tr>\n",
       "    <tr>\n",
       "      <th>make_model</th>\n",
       "      <th>first_registration</th>\n",
       "      <th></th>\n",
       "      <th></th>\n",
       "      <th></th>\n",
       "      <th></th>\n",
       "      <th></th>\n",
       "      <th></th>\n",
       "      <th></th>\n",
       "      <th></th>\n",
       "    </tr>\n",
       "  </thead>\n",
       "  <tbody>\n",
       "    <tr>\n",
       "      <th rowspan=\"4\" valign=\"top\">audi_a1</th>\n",
       "      <th>2016.0</th>\n",
       "      <td>622.0</td>\n",
       "      <td>1283.254019</td>\n",
       "      <td>244.469974</td>\n",
       "      <td>999.0</td>\n",
       "      <td>999.0</td>\n",
       "      <td>1395.0</td>\n",
       "      <td>1422.0</td>\n",
       "      <td>1798.0</td>\n",
       "    </tr>\n",
       "    <tr>\n",
       "      <th>2017.0</th>\n",
       "      <td>424.0</td>\n",
       "      <td>1261.502358</td>\n",
       "      <td>248.676259</td>\n",
       "      <td>929.0</td>\n",
       "      <td>999.0</td>\n",
       "      <td>1395.0</td>\n",
       "      <td>1422.0</td>\n",
       "      <td>1798.0</td>\n",
       "    </tr>\n",
       "    <tr>\n",
       "      <th>2018.0</th>\n",
       "      <td>735.0</td>\n",
       "      <td>1236.282993</td>\n",
       "      <td>252.003312</td>\n",
       "      <td>929.0</td>\n",
       "      <td>999.0</td>\n",
       "      <td>999.0</td>\n",
       "      <td>1422.0</td>\n",
       "      <td>1798.0</td>\n",
       "    </tr>\n",
       "    <tr>\n",
       "      <th>2019.0</th>\n",
       "      <td>804.0</td>\n",
       "      <td>1033.807214</td>\n",
       "      <td>155.925339</td>\n",
       "      <td>995.0</td>\n",
       "      <td>999.0</td>\n",
       "      <td>999.0</td>\n",
       "      <td>999.0</td>\n",
       "      <td>1984.0</td>\n",
       "    </tr>\n",
       "    <tr>\n",
       "      <th rowspan=\"4\" valign=\"top\">audi_a3</th>\n",
       "      <th>2016.0</th>\n",
       "      <td>791.0</td>\n",
       "      <td>1635.101138</td>\n",
       "      <td>213.117932</td>\n",
       "      <td>999.0</td>\n",
       "      <td>1598.0</td>\n",
       "      <td>1598.0</td>\n",
       "      <td>1598.0</td>\n",
       "      <td>2480.0</td>\n",
       "    </tr>\n",
       "    <tr>\n",
       "      <th>2017.0</th>\n",
       "      <td>666.0</td>\n",
       "      <td>1541.614114</td>\n",
       "      <td>268.762007</td>\n",
       "      <td>999.0</td>\n",
       "      <td>1598.0</td>\n",
       "      <td>1598.0</td>\n",
       "      <td>1598.0</td>\n",
       "      <td>2480.0</td>\n",
       "    </tr>\n",
       "    <tr>\n",
       "      <th>2018.0</th>\n",
       "      <td>768.0</td>\n",
       "      <td>1539.876302</td>\n",
       "      <td>265.731612</td>\n",
       "      <td>999.0</td>\n",
       "      <td>1598.0</td>\n",
       "      <td>1598.0</td>\n",
       "      <td>1598.0</td>\n",
       "      <td>2480.0</td>\n",
       "    </tr>\n",
       "    <tr>\n",
       "      <th>2019.0</th>\n",
       "      <td>822.0</td>\n",
       "      <td>1338.698297</td>\n",
       "      <td>296.402131</td>\n",
       "      <td>997.0</td>\n",
       "      <td>999.0</td>\n",
       "      <td>1498.0</td>\n",
       "      <td>1598.0</td>\n",
       "      <td>2480.0</td>\n",
       "    </tr>\n",
       "    <tr>\n",
       "      <th rowspan=\"4\" valign=\"top\">opel_astra</th>\n",
       "      <th>2016.0</th>\n",
       "      <td>498.0</td>\n",
       "      <td>1534.534137</td>\n",
       "      <td>158.972176</td>\n",
       "      <td>998.0</td>\n",
       "      <td>1598.0</td>\n",
       "      <td>1598.0</td>\n",
       "      <td>1598.0</td>\n",
       "      <td>1686.0</td>\n",
       "    </tr>\n",
       "    <tr>\n",
       "      <th>2017.0</th>\n",
       "      <td>580.0</td>\n",
       "      <td>1480.041379</td>\n",
       "      <td>194.797486</td>\n",
       "      <td>998.0</td>\n",
       "      <td>1399.0</td>\n",
       "      <td>1598.0</td>\n",
       "      <td>1598.0</td>\n",
       "      <td>1696.0</td>\n",
       "    </tr>\n",
       "    <tr>\n",
       "      <th>2018.0</th>\n",
       "      <td>692.0</td>\n",
       "      <td>1409.958092</td>\n",
       "      <td>588.597278</td>\n",
       "      <td>996.0</td>\n",
       "      <td>1399.0</td>\n",
       "      <td>1399.0</td>\n",
       "      <td>1598.0</td>\n",
       "      <td>15898.0</td>\n",
       "    </tr>\n",
       "    <tr>\n",
       "      <th>2019.0</th>\n",
       "      <td>667.0</td>\n",
       "      <td>1322.338831</td>\n",
       "      <td>246.293794</td>\n",
       "      <td>139.0</td>\n",
       "      <td>999.0</td>\n",
       "      <td>1399.0</td>\n",
       "      <td>1399.5</td>\n",
       "      <td>1600.0</td>\n",
       "    </tr>\n",
       "    <tr>\n",
       "      <th rowspan=\"4\" valign=\"top\">opel_corsa</th>\n",
       "      <th>2016.0</th>\n",
       "      <td>388.0</td>\n",
       "      <td>1283.912371</td>\n",
       "      <td>78.534856</td>\n",
       "      <td>998.0</td>\n",
       "      <td>1229.0</td>\n",
       "      <td>1248.0</td>\n",
       "      <td>1398.0</td>\n",
       "      <td>1400.0</td>\n",
       "    </tr>\n",
       "    <tr>\n",
       "      <th>2017.0</th>\n",
       "      <td>374.0</td>\n",
       "      <td>1321.267380</td>\n",
       "      <td>84.783453</td>\n",
       "      <td>998.0</td>\n",
       "      <td>1229.0</td>\n",
       "      <td>1398.0</td>\n",
       "      <td>1398.0</td>\n",
       "      <td>1400.0</td>\n",
       "    </tr>\n",
       "    <tr>\n",
       "      <th>2018.0</th>\n",
       "      <td>667.0</td>\n",
       "      <td>1365.467766</td>\n",
       "      <td>68.156617</td>\n",
       "      <td>999.0</td>\n",
       "      <td>1398.0</td>\n",
       "      <td>1398.0</td>\n",
       "      <td>1398.0</td>\n",
       "      <td>1400.0</td>\n",
       "    </tr>\n",
       "    <tr>\n",
       "      <th>2019.0</th>\n",
       "      <td>716.0</td>\n",
       "      <td>1334.977654</td>\n",
       "      <td>96.593660</td>\n",
       "      <td>122.0</td>\n",
       "      <td>1229.0</td>\n",
       "      <td>1398.0</td>\n",
       "      <td>1398.0</td>\n",
       "      <td>1400.0</td>\n",
       "    </tr>\n",
       "    <tr>\n",
       "      <th rowspan=\"4\" valign=\"top\">opel_insignia</th>\n",
       "      <th>2016.0</th>\n",
       "      <td>555.0</td>\n",
       "      <td>1737.281081</td>\n",
       "      <td>645.575301</td>\n",
       "      <td>2.0</td>\n",
       "      <td>1598.0</td>\n",
       "      <td>1598.0</td>\n",
       "      <td>1956.0</td>\n",
       "      <td>16000.0</td>\n",
       "    </tr>\n",
       "    <tr>\n",
       "      <th>2017.0</th>\n",
       "      <td>568.0</td>\n",
       "      <td>1689.489437</td>\n",
       "      <td>180.228544</td>\n",
       "      <td>1364.0</td>\n",
       "      <td>1598.0</td>\n",
       "      <td>1598.0</td>\n",
       "      <td>1956.0</td>\n",
       "      <td>2000.0</td>\n",
       "    </tr>\n",
       "    <tr>\n",
       "      <th>2018.0</th>\n",
       "      <td>745.0</td>\n",
       "      <td>1634.920805</td>\n",
       "      <td>191.396587</td>\n",
       "      <td>1364.0</td>\n",
       "      <td>1490.0</td>\n",
       "      <td>1598.0</td>\n",
       "      <td>1600.0</td>\n",
       "      <td>2000.0</td>\n",
       "    </tr>\n",
       "    <tr>\n",
       "      <th>2019.0</th>\n",
       "      <td>655.0</td>\n",
       "      <td>1607.622901</td>\n",
       "      <td>357.203087</td>\n",
       "      <td>1.0</td>\n",
       "      <td>1490.0</td>\n",
       "      <td>1598.0</td>\n",
       "      <td>1956.0</td>\n",
       "      <td>2000.0</td>\n",
       "    </tr>\n",
       "    <tr>\n",
       "      <th rowspan=\"4\" valign=\"top\">renault_clio</th>\n",
       "      <th>2016.0</th>\n",
       "      <td>371.0</td>\n",
       "      <td>1350.118598</td>\n",
       "      <td>163.318300</td>\n",
       "      <td>898.0</td>\n",
       "      <td>1197.0</td>\n",
       "      <td>1461.0</td>\n",
       "      <td>1461.0</td>\n",
       "      <td>1618.0</td>\n",
       "    </tr>\n",
       "    <tr>\n",
       "      <th>2017.0</th>\n",
       "      <td>412.0</td>\n",
       "      <td>1316.128641</td>\n",
       "      <td>194.989002</td>\n",
       "      <td>1.0</td>\n",
       "      <td>1149.0</td>\n",
       "      <td>1461.0</td>\n",
       "      <td>1461.0</td>\n",
       "      <td>1618.0</td>\n",
       "    </tr>\n",
       "    <tr>\n",
       "      <th>2018.0</th>\n",
       "      <td>568.0</td>\n",
       "      <td>1289.544014</td>\n",
       "      <td>282.744963</td>\n",
       "      <td>1.0</td>\n",
       "      <td>1149.0</td>\n",
       "      <td>1197.0</td>\n",
       "      <td>1461.0</td>\n",
       "      <td>1618.0</td>\n",
       "    </tr>\n",
       "    <tr>\n",
       "      <th>2019.0</th>\n",
       "      <td>397.0</td>\n",
       "      <td>993.871537</td>\n",
       "      <td>199.743234</td>\n",
       "      <td>890.0</td>\n",
       "      <td>898.0</td>\n",
       "      <td>898.0</td>\n",
       "      <td>898.0</td>\n",
       "      <td>1618.0</td>\n",
       "    </tr>\n",
       "    <tr>\n",
       "      <th rowspan=\"4\" valign=\"top\">renault_espace</th>\n",
       "      <th>2016.0</th>\n",
       "      <td>276.0</td>\n",
       "      <td>1601.641304</td>\n",
       "      <td>24.737861</td>\n",
       "      <td>1580.0</td>\n",
       "      <td>1598.0</td>\n",
       "      <td>1598.0</td>\n",
       "      <td>1598.0</td>\n",
       "      <td>1997.0</td>\n",
       "    </tr>\n",
       "    <tr>\n",
       "      <th>2017.0</th>\n",
       "      <td>144.0</td>\n",
       "      <td>1612.819444</td>\n",
       "      <td>49.115342</td>\n",
       "      <td>1589.0</td>\n",
       "      <td>1598.0</td>\n",
       "      <td>1598.0</td>\n",
       "      <td>1618.0</td>\n",
       "      <td>2000.0</td>\n",
       "    </tr>\n",
       "    <tr>\n",
       "      <th>2018.0</th>\n",
       "      <td>227.0</td>\n",
       "      <td>1659.039648</td>\n",
       "      <td>92.052953</td>\n",
       "      <td>1598.0</td>\n",
       "      <td>1598.0</td>\n",
       "      <td>1598.0</td>\n",
       "      <td>1798.0</td>\n",
       "      <td>1798.0</td>\n",
       "    </tr>\n",
       "    <tr>\n",
       "      <th>2019.0</th>\n",
       "      <td>257.0</td>\n",
       "      <td>1815.478599</td>\n",
       "      <td>288.120635</td>\n",
       "      <td>160.0</td>\n",
       "      <td>1798.0</td>\n",
       "      <td>1798.0</td>\n",
       "      <td>1997.0</td>\n",
       "      <td>1997.0</td>\n",
       "    </tr>\n",
       "  </tbody>\n",
       "</table>\n",
       "</div>"
      ],
      "text/plain": [
       "                                   count         mean         std     min  \\\n",
       "make_model     first_registration                                           \n",
       "audi_a1        2016.0              622.0  1283.254019  244.469974   999.0   \n",
       "               2017.0              424.0  1261.502358  248.676259   929.0   \n",
       "               2018.0              735.0  1236.282993  252.003312   929.0   \n",
       "               2019.0              804.0  1033.807214  155.925339   995.0   \n",
       "audi_a3        2016.0              791.0  1635.101138  213.117932   999.0   \n",
       "               2017.0              666.0  1541.614114  268.762007   999.0   \n",
       "               2018.0              768.0  1539.876302  265.731612   999.0   \n",
       "               2019.0              822.0  1338.698297  296.402131   997.0   \n",
       "opel_astra     2016.0              498.0  1534.534137  158.972176   998.0   \n",
       "               2017.0              580.0  1480.041379  194.797486   998.0   \n",
       "               2018.0              692.0  1409.958092  588.597278   996.0   \n",
       "               2019.0              667.0  1322.338831  246.293794   139.0   \n",
       "opel_corsa     2016.0              388.0  1283.912371   78.534856   998.0   \n",
       "               2017.0              374.0  1321.267380   84.783453   998.0   \n",
       "               2018.0              667.0  1365.467766   68.156617   999.0   \n",
       "               2019.0              716.0  1334.977654   96.593660   122.0   \n",
       "opel_insignia  2016.0              555.0  1737.281081  645.575301     2.0   \n",
       "               2017.0              568.0  1689.489437  180.228544  1364.0   \n",
       "               2018.0              745.0  1634.920805  191.396587  1364.0   \n",
       "               2019.0              655.0  1607.622901  357.203087     1.0   \n",
       "renault_clio   2016.0              371.0  1350.118598  163.318300   898.0   \n",
       "               2017.0              412.0  1316.128641  194.989002     1.0   \n",
       "               2018.0              568.0  1289.544014  282.744963     1.0   \n",
       "               2019.0              397.0   993.871537  199.743234   890.0   \n",
       "renault_espace 2016.0              276.0  1601.641304   24.737861  1580.0   \n",
       "               2017.0              144.0  1612.819444   49.115342  1589.0   \n",
       "               2018.0              227.0  1659.039648   92.052953  1598.0   \n",
       "               2019.0              257.0  1815.478599  288.120635   160.0   \n",
       "\n",
       "                                      25%     50%     75%      max  \n",
       "make_model     first_registration                                   \n",
       "audi_a1        2016.0               999.0  1395.0  1422.0   1798.0  \n",
       "               2017.0               999.0  1395.0  1422.0   1798.0  \n",
       "               2018.0               999.0   999.0  1422.0   1798.0  \n",
       "               2019.0               999.0   999.0   999.0   1984.0  \n",
       "audi_a3        2016.0              1598.0  1598.0  1598.0   2480.0  \n",
       "               2017.0              1598.0  1598.0  1598.0   2480.0  \n",
       "               2018.0              1598.0  1598.0  1598.0   2480.0  \n",
       "               2019.0               999.0  1498.0  1598.0   2480.0  \n",
       "opel_astra     2016.0              1598.0  1598.0  1598.0   1686.0  \n",
       "               2017.0              1399.0  1598.0  1598.0   1696.0  \n",
       "               2018.0              1399.0  1399.0  1598.0  15898.0  \n",
       "               2019.0               999.0  1399.0  1399.5   1600.0  \n",
       "opel_corsa     2016.0              1229.0  1248.0  1398.0   1400.0  \n",
       "               2017.0              1229.0  1398.0  1398.0   1400.0  \n",
       "               2018.0              1398.0  1398.0  1398.0   1400.0  \n",
       "               2019.0              1229.0  1398.0  1398.0   1400.0  \n",
       "opel_insignia  2016.0              1598.0  1598.0  1956.0  16000.0  \n",
       "               2017.0              1598.0  1598.0  1956.0   2000.0  \n",
       "               2018.0              1490.0  1598.0  1600.0   2000.0  \n",
       "               2019.0              1490.0  1598.0  1956.0   2000.0  \n",
       "renault_clio   2016.0              1197.0  1461.0  1461.0   1618.0  \n",
       "               2017.0              1149.0  1461.0  1461.0   1618.0  \n",
       "               2018.0              1149.0  1197.0  1461.0   1618.0  \n",
       "               2019.0               898.0   898.0   898.0   1618.0  \n",
       "renault_espace 2016.0              1598.0  1598.0  1598.0   1997.0  \n",
       "               2017.0              1598.0  1598.0  1618.0   2000.0  \n",
       "               2018.0              1598.0  1598.0  1798.0   1798.0  \n",
       "               2019.0              1798.0  1798.0  1997.0   1997.0  "
      ]
     },
     "execution_count": 84,
     "metadata": {},
     "output_type": "execute_result"
    }
   ],
   "source": [
    "df.groupby(['make_model','first_registration']).displacement.describe()"
   ]
  },
  {
   "cell_type": "code",
   "execution_count": 85,
   "id": "0c13770e",
   "metadata": {},
   "outputs": [],
   "source": [
    "df['for_displacement'] = df.groupby(['make_model','first_registration']).displacement.ngroup()"
   ]
  },
  {
   "cell_type": "code",
   "execution_count": 86,
   "id": "69cc3246",
   "metadata": {},
   "outputs": [],
   "source": [
    "df2 = fill(df, 'displacement', 'for_displacement', 'median')"
   ]
  },
  {
   "cell_type": "code",
   "execution_count": 87,
   "id": "f46496fb",
   "metadata": {},
   "outputs": [],
   "source": [
    "df2 = df.copy()\n",
    "del df2"
   ]
  },
  {
   "cell_type": "code",
   "execution_count": 88,
   "id": "6a204838",
   "metadata": {},
   "outputs": [
    {
     "data": {
      "text/plain": [
       "0"
      ]
     },
     "execution_count": 88,
     "metadata": {},
     "output_type": "execute_result"
    }
   ],
   "source": [
    "df.displacement.isna().sum()"
   ]
  },
  {
   "cell_type": "markdown",
   "id": "4f822885",
   "metadata": {},
   "source": [
    "### impute 'cylinders'"
   ]
  },
  {
   "cell_type": "code",
   "execution_count": 89,
   "id": "1b3c8a22",
   "metadata": {},
   "outputs": [
    {
     "data": {
      "text/plain": [
       "4.0    8072\n",
       "NaN    5678\n",
       "3.0    2104\n",
       "5.0      22\n",
       "6.0       3\n",
       "8.0       2\n",
       "2.0       2\n",
       "1.0       1\n",
       "Name: cylinders, dtype: int64"
      ]
     },
     "execution_count": 89,
     "metadata": {},
     "output_type": "execute_result"
    }
   ],
   "source": [
    "df.cylinders.value_counts(dropna=False)"
   ]
  },
  {
   "cell_type": "code",
   "execution_count": 90,
   "id": "d670e057",
   "metadata": {},
   "outputs": [
    {
     "data": {
      "text/html": [
       "<div>\n",
       "<style scoped>\n",
       "    .dataframe tbody tr th:only-of-type {\n",
       "        vertical-align: middle;\n",
       "    }\n",
       "\n",
       "    .dataframe tbody tr th {\n",
       "        vertical-align: top;\n",
       "    }\n",
       "\n",
       "    .dataframe thead th {\n",
       "        text-align: right;\n",
       "    }\n",
       "</style>\n",
       "<table border=\"1\" class=\"dataframe\">\n",
       "  <thead>\n",
       "    <tr style=\"text-align: right;\">\n",
       "      <th></th>\n",
       "      <th></th>\n",
       "      <th>count</th>\n",
       "      <th>mean</th>\n",
       "      <th>std</th>\n",
       "      <th>min</th>\n",
       "      <th>25%</th>\n",
       "      <th>50%</th>\n",
       "      <th>75%</th>\n",
       "      <th>max</th>\n",
       "    </tr>\n",
       "    <tr>\n",
       "      <th>make_model</th>\n",
       "      <th>first_registration</th>\n",
       "      <th></th>\n",
       "      <th></th>\n",
       "      <th></th>\n",
       "      <th></th>\n",
       "      <th></th>\n",
       "      <th></th>\n",
       "      <th></th>\n",
       "      <th></th>\n",
       "    </tr>\n",
       "  </thead>\n",
       "  <tbody>\n",
       "    <tr>\n",
       "      <th rowspan=\"4\" valign=\"top\">audi_a1</th>\n",
       "      <th>2016.0</th>\n",
       "      <td>375.0</td>\n",
       "      <td>3.312000</td>\n",
       "      <td>0.518368</td>\n",
       "      <td>3.0</td>\n",
       "      <td>3.0</td>\n",
       "      <td>3.0</td>\n",
       "      <td>4.0</td>\n",
       "      <td>8.0</td>\n",
       "    </tr>\n",
       "    <tr>\n",
       "      <th>2017.0</th>\n",
       "      <td>312.0</td>\n",
       "      <td>3.320513</td>\n",
       "      <td>0.467423</td>\n",
       "      <td>3.0</td>\n",
       "      <td>3.0</td>\n",
       "      <td>3.0</td>\n",
       "      <td>4.0</td>\n",
       "      <td>4.0</td>\n",
       "    </tr>\n",
       "    <tr>\n",
       "      <th>2018.0</th>\n",
       "      <td>534.0</td>\n",
       "      <td>3.280899</td>\n",
       "      <td>0.449860</td>\n",
       "      <td>3.0</td>\n",
       "      <td>3.0</td>\n",
       "      <td>3.0</td>\n",
       "      <td>4.0</td>\n",
       "      <td>4.0</td>\n",
       "    </tr>\n",
       "    <tr>\n",
       "      <th>2019.0</th>\n",
       "      <td>534.0</td>\n",
       "      <td>3.063670</td>\n",
       "      <td>0.244394</td>\n",
       "      <td>3.0</td>\n",
       "      <td>3.0</td>\n",
       "      <td>3.0</td>\n",
       "      <td>3.0</td>\n",
       "      <td>4.0</td>\n",
       "    </tr>\n",
       "    <tr>\n",
       "      <th rowspan=\"4\" valign=\"top\">audi_a3</th>\n",
       "      <th>2016.0</th>\n",
       "      <td>548.0</td>\n",
       "      <td>4.000000</td>\n",
       "      <td>0.085514</td>\n",
       "      <td>3.0</td>\n",
       "      <td>4.0</td>\n",
       "      <td>4.0</td>\n",
       "      <td>4.0</td>\n",
       "      <td>5.0</td>\n",
       "    </tr>\n",
       "    <tr>\n",
       "      <th>2017.0</th>\n",
       "      <td>521.0</td>\n",
       "      <td>3.871401</td>\n",
       "      <td>0.362640</td>\n",
       "      <td>3.0</td>\n",
       "      <td>4.0</td>\n",
       "      <td>4.0</td>\n",
       "      <td>4.0</td>\n",
       "      <td>5.0</td>\n",
       "    </tr>\n",
       "    <tr>\n",
       "      <th>2018.0</th>\n",
       "      <td>633.0</td>\n",
       "      <td>3.903633</td>\n",
       "      <td>0.353825</td>\n",
       "      <td>3.0</td>\n",
       "      <td>4.0</td>\n",
       "      <td>4.0</td>\n",
       "      <td>4.0</td>\n",
       "      <td>5.0</td>\n",
       "    </tr>\n",
       "    <tr>\n",
       "      <th>2019.0</th>\n",
       "      <td>592.0</td>\n",
       "      <td>3.621622</td>\n",
       "      <td>0.492315</td>\n",
       "      <td>3.0</td>\n",
       "      <td>3.0</td>\n",
       "      <td>4.0</td>\n",
       "      <td>4.0</td>\n",
       "      <td>5.0</td>\n",
       "    </tr>\n",
       "    <tr>\n",
       "      <th rowspan=\"4\" valign=\"top\">opel_astra</th>\n",
       "      <th>2016.0</th>\n",
       "      <td>296.0</td>\n",
       "      <td>3.939189</td>\n",
       "      <td>0.239388</td>\n",
       "      <td>3.0</td>\n",
       "      <td>4.0</td>\n",
       "      <td>4.0</td>\n",
       "      <td>4.0</td>\n",
       "      <td>4.0</td>\n",
       "    </tr>\n",
       "    <tr>\n",
       "      <th>2017.0</th>\n",
       "      <td>383.0</td>\n",
       "      <td>3.911227</td>\n",
       "      <td>0.284788</td>\n",
       "      <td>3.0</td>\n",
       "      <td>4.0</td>\n",
       "      <td>4.0</td>\n",
       "      <td>4.0</td>\n",
       "      <td>4.0</td>\n",
       "    </tr>\n",
       "    <tr>\n",
       "      <th>2018.0</th>\n",
       "      <td>382.0</td>\n",
       "      <td>3.848168</td>\n",
       "      <td>0.359329</td>\n",
       "      <td>3.0</td>\n",
       "      <td>4.0</td>\n",
       "      <td>4.0</td>\n",
       "      <td>4.0</td>\n",
       "      <td>4.0</td>\n",
       "    </tr>\n",
       "    <tr>\n",
       "      <th>2019.0</th>\n",
       "      <td>359.0</td>\n",
       "      <td>3.816156</td>\n",
       "      <td>0.387898</td>\n",
       "      <td>3.0</td>\n",
       "      <td>4.0</td>\n",
       "      <td>4.0</td>\n",
       "      <td>4.0</td>\n",
       "      <td>4.0</td>\n",
       "    </tr>\n",
       "    <tr>\n",
       "      <th rowspan=\"4\" valign=\"top\">opel_corsa</th>\n",
       "      <th>2016.0</th>\n",
       "      <td>243.0</td>\n",
       "      <td>3.991770</td>\n",
       "      <td>0.090534</td>\n",
       "      <td>3.0</td>\n",
       "      <td>4.0</td>\n",
       "      <td>4.0</td>\n",
       "      <td>4.0</td>\n",
       "      <td>4.0</td>\n",
       "    </tr>\n",
       "    <tr>\n",
       "      <th>2017.0</th>\n",
       "      <td>273.0</td>\n",
       "      <td>3.992674</td>\n",
       "      <td>0.085435</td>\n",
       "      <td>3.0</td>\n",
       "      <td>4.0</td>\n",
       "      <td>4.0</td>\n",
       "      <td>4.0</td>\n",
       "      <td>4.0</td>\n",
       "    </tr>\n",
       "    <tr>\n",
       "      <th>2018.0</th>\n",
       "      <td>449.0</td>\n",
       "      <td>4.000000</td>\n",
       "      <td>0.000000</td>\n",
       "      <td>4.0</td>\n",
       "      <td>4.0</td>\n",
       "      <td>4.0</td>\n",
       "      <td>4.0</td>\n",
       "      <td>4.0</td>\n",
       "    </tr>\n",
       "    <tr>\n",
       "      <th>2019.0</th>\n",
       "      <td>436.0</td>\n",
       "      <td>3.981651</td>\n",
       "      <td>0.178456</td>\n",
       "      <td>1.0</td>\n",
       "      <td>4.0</td>\n",
       "      <td>4.0</td>\n",
       "      <td>4.0</td>\n",
       "      <td>4.0</td>\n",
       "    </tr>\n",
       "    <tr>\n",
       "      <th rowspan=\"4\" valign=\"top\">opel_insignia</th>\n",
       "      <th>2016.0</th>\n",
       "      <td>347.0</td>\n",
       "      <td>4.005764</td>\n",
       "      <td>0.107366</td>\n",
       "      <td>4.0</td>\n",
       "      <td>4.0</td>\n",
       "      <td>4.0</td>\n",
       "      <td>4.0</td>\n",
       "      <td>6.0</td>\n",
       "    </tr>\n",
       "    <tr>\n",
       "      <th>2017.0</th>\n",
       "      <td>377.0</td>\n",
       "      <td>4.005305</td>\n",
       "      <td>0.103005</td>\n",
       "      <td>4.0</td>\n",
       "      <td>4.0</td>\n",
       "      <td>4.0</td>\n",
       "      <td>4.0</td>\n",
       "      <td>6.0</td>\n",
       "    </tr>\n",
       "    <tr>\n",
       "      <th>2018.0</th>\n",
       "      <td>440.0</td>\n",
       "      <td>3.995455</td>\n",
       "      <td>0.095346</td>\n",
       "      <td>2.0</td>\n",
       "      <td>4.0</td>\n",
       "      <td>4.0</td>\n",
       "      <td>4.0</td>\n",
       "      <td>4.0</td>\n",
       "    </tr>\n",
       "    <tr>\n",
       "      <th>2019.0</th>\n",
       "      <td>469.0</td>\n",
       "      <td>4.004264</td>\n",
       "      <td>0.092351</td>\n",
       "      <td>4.0</td>\n",
       "      <td>4.0</td>\n",
       "      <td>4.0</td>\n",
       "      <td>4.0</td>\n",
       "      <td>6.0</td>\n",
       "    </tr>\n",
       "    <tr>\n",
       "      <th rowspan=\"4\" valign=\"top\">renault_clio</th>\n",
       "      <th>2016.0</th>\n",
       "      <td>276.0</td>\n",
       "      <td>3.967391</td>\n",
       "      <td>0.177933</td>\n",
       "      <td>3.0</td>\n",
       "      <td>4.0</td>\n",
       "      <td>4.0</td>\n",
       "      <td>4.0</td>\n",
       "      <td>4.0</td>\n",
       "    </tr>\n",
       "    <tr>\n",
       "      <th>2017.0</th>\n",
       "      <td>288.0</td>\n",
       "      <td>3.965278</td>\n",
       "      <td>0.183394</td>\n",
       "      <td>3.0</td>\n",
       "      <td>4.0</td>\n",
       "      <td>4.0</td>\n",
       "      <td>4.0</td>\n",
       "      <td>4.0</td>\n",
       "    </tr>\n",
       "    <tr>\n",
       "      <th>2018.0</th>\n",
       "      <td>299.0</td>\n",
       "      <td>3.906355</td>\n",
       "      <td>0.303104</td>\n",
       "      <td>3.0</td>\n",
       "      <td>4.0</td>\n",
       "      <td>4.0</td>\n",
       "      <td>4.0</td>\n",
       "      <td>5.0</td>\n",
       "    </tr>\n",
       "    <tr>\n",
       "      <th>2019.0</th>\n",
       "      <td>198.0</td>\n",
       "      <td>3.292929</td>\n",
       "      <td>0.456260</td>\n",
       "      <td>3.0</td>\n",
       "      <td>3.0</td>\n",
       "      <td>3.0</td>\n",
       "      <td>4.0</td>\n",
       "      <td>4.0</td>\n",
       "    </tr>\n",
       "    <tr>\n",
       "      <th rowspan=\"4\" valign=\"top\">renault_espace</th>\n",
       "      <th>2016.0</th>\n",
       "      <td>217.0</td>\n",
       "      <td>4.000000</td>\n",
       "      <td>0.000000</td>\n",
       "      <td>4.0</td>\n",
       "      <td>4.0</td>\n",
       "      <td>4.0</td>\n",
       "      <td>4.0</td>\n",
       "      <td>4.0</td>\n",
       "    </tr>\n",
       "    <tr>\n",
       "      <th>2017.0</th>\n",
       "      <td>83.0</td>\n",
       "      <td>4.048193</td>\n",
       "      <td>0.439057</td>\n",
       "      <td>4.0</td>\n",
       "      <td>4.0</td>\n",
       "      <td>4.0</td>\n",
       "      <td>4.0</td>\n",
       "      <td>8.0</td>\n",
       "    </tr>\n",
       "    <tr>\n",
       "      <th>2018.0</th>\n",
       "      <td>161.0</td>\n",
       "      <td>4.000000</td>\n",
       "      <td>0.000000</td>\n",
       "      <td>4.0</td>\n",
       "      <td>4.0</td>\n",
       "      <td>4.0</td>\n",
       "      <td>4.0</td>\n",
       "      <td>4.0</td>\n",
       "    </tr>\n",
       "    <tr>\n",
       "      <th>2019.0</th>\n",
       "      <td>181.0</td>\n",
       "      <td>3.988950</td>\n",
       "      <td>0.148659</td>\n",
       "      <td>2.0</td>\n",
       "      <td>4.0</td>\n",
       "      <td>4.0</td>\n",
       "      <td>4.0</td>\n",
       "      <td>4.0</td>\n",
       "    </tr>\n",
       "  </tbody>\n",
       "</table>\n",
       "</div>"
      ],
      "text/plain": [
       "                                   count      mean       std  min  25%  50%  \\\n",
       "make_model     first_registration                                             \n",
       "audi_a1        2016.0              375.0  3.312000  0.518368  3.0  3.0  3.0   \n",
       "               2017.0              312.0  3.320513  0.467423  3.0  3.0  3.0   \n",
       "               2018.0              534.0  3.280899  0.449860  3.0  3.0  3.0   \n",
       "               2019.0              534.0  3.063670  0.244394  3.0  3.0  3.0   \n",
       "audi_a3        2016.0              548.0  4.000000  0.085514  3.0  4.0  4.0   \n",
       "               2017.0              521.0  3.871401  0.362640  3.0  4.0  4.0   \n",
       "               2018.0              633.0  3.903633  0.353825  3.0  4.0  4.0   \n",
       "               2019.0              592.0  3.621622  0.492315  3.0  3.0  4.0   \n",
       "opel_astra     2016.0              296.0  3.939189  0.239388  3.0  4.0  4.0   \n",
       "               2017.0              383.0  3.911227  0.284788  3.0  4.0  4.0   \n",
       "               2018.0              382.0  3.848168  0.359329  3.0  4.0  4.0   \n",
       "               2019.0              359.0  3.816156  0.387898  3.0  4.0  4.0   \n",
       "opel_corsa     2016.0              243.0  3.991770  0.090534  3.0  4.0  4.0   \n",
       "               2017.0              273.0  3.992674  0.085435  3.0  4.0  4.0   \n",
       "               2018.0              449.0  4.000000  0.000000  4.0  4.0  4.0   \n",
       "               2019.0              436.0  3.981651  0.178456  1.0  4.0  4.0   \n",
       "opel_insignia  2016.0              347.0  4.005764  0.107366  4.0  4.0  4.0   \n",
       "               2017.0              377.0  4.005305  0.103005  4.0  4.0  4.0   \n",
       "               2018.0              440.0  3.995455  0.095346  2.0  4.0  4.0   \n",
       "               2019.0              469.0  4.004264  0.092351  4.0  4.0  4.0   \n",
       "renault_clio   2016.0              276.0  3.967391  0.177933  3.0  4.0  4.0   \n",
       "               2017.0              288.0  3.965278  0.183394  3.0  4.0  4.0   \n",
       "               2018.0              299.0  3.906355  0.303104  3.0  4.0  4.0   \n",
       "               2019.0              198.0  3.292929  0.456260  3.0  3.0  3.0   \n",
       "renault_espace 2016.0              217.0  4.000000  0.000000  4.0  4.0  4.0   \n",
       "               2017.0               83.0  4.048193  0.439057  4.0  4.0  4.0   \n",
       "               2018.0              161.0  4.000000  0.000000  4.0  4.0  4.0   \n",
       "               2019.0              181.0  3.988950  0.148659  2.0  4.0  4.0   \n",
       "\n",
       "                                   75%  max  \n",
       "make_model     first_registration            \n",
       "audi_a1        2016.0              4.0  8.0  \n",
       "               2017.0              4.0  4.0  \n",
       "               2018.0              4.0  4.0  \n",
       "               2019.0              3.0  4.0  \n",
       "audi_a3        2016.0              4.0  5.0  \n",
       "               2017.0              4.0  5.0  \n",
       "               2018.0              4.0  5.0  \n",
       "               2019.0              4.0  5.0  \n",
       "opel_astra     2016.0              4.0  4.0  \n",
       "               2017.0              4.0  4.0  \n",
       "               2018.0              4.0  4.0  \n",
       "               2019.0              4.0  4.0  \n",
       "opel_corsa     2016.0              4.0  4.0  \n",
       "               2017.0              4.0  4.0  \n",
       "               2018.0              4.0  4.0  \n",
       "               2019.0              4.0  4.0  \n",
       "opel_insignia  2016.0              4.0  6.0  \n",
       "               2017.0              4.0  6.0  \n",
       "               2018.0              4.0  4.0  \n",
       "               2019.0              4.0  6.0  \n",
       "renault_clio   2016.0              4.0  4.0  \n",
       "               2017.0              4.0  4.0  \n",
       "               2018.0              4.0  5.0  \n",
       "               2019.0              4.0  4.0  \n",
       "renault_espace 2016.0              4.0  4.0  \n",
       "               2017.0              4.0  8.0  \n",
       "               2018.0              4.0  4.0  \n",
       "               2019.0              4.0  4.0  "
      ]
     },
     "execution_count": 90,
     "metadata": {},
     "output_type": "execute_result"
    }
   ],
   "source": [
    "df.groupby(['make_model','first_registration']).cylinders.describe()"
   ]
  },
  {
   "cell_type": "code",
   "execution_count": 91,
   "id": "81ebb79e",
   "metadata": {},
   "outputs": [],
   "source": [
    "df['for_cylinders'] = df.groupby(['make_model','first_registration']).cylinders.ngroup()"
   ]
  },
  {
   "cell_type": "code",
   "execution_count": 92,
   "id": "18992c97",
   "metadata": {},
   "outputs": [],
   "source": [
    "df2 = fill(df, 'cylinders', 'for_cylinders', 'median')"
   ]
  },
  {
   "cell_type": "code",
   "execution_count": 93,
   "id": "1400a535",
   "metadata": {},
   "outputs": [],
   "source": [
    "df = df2.copy()\n",
    "del df2"
   ]
  },
  {
   "cell_type": "code",
   "execution_count": 94,
   "id": "edaf316f",
   "metadata": {},
   "outputs": [
    {
     "data": {
      "text/plain": [
       "4.0    12673\n",
       "3.0     3181\n",
       "5.0       22\n",
       "6.0        3\n",
       "8.0        2\n",
       "2.0        2\n",
       "1.0        1\n",
       "Name: cylinders, dtype: int64"
      ]
     },
     "execution_count": 94,
     "metadata": {},
     "output_type": "execute_result"
    }
   ],
   "source": [
    "df.cylinders.value_counts(dropna=False)"
   ]
  },
  {
   "cell_type": "code",
   "execution_count": 95,
   "id": "122a5d50",
   "metadata": {},
   "outputs": [],
   "source": [
    "df.cylinders = [3 if x <= 3 else 4 for x in df.cylinders]"
   ]
  },
  {
   "cell_type": "code",
   "execution_count": 96,
   "id": "fa107063",
   "metadata": {},
   "outputs": [],
   "source": [
    "df.cylinders = ['<=3 or less' if x == 3 else '>=4' for x in df.cylinders]"
   ]
  },
  {
   "cell_type": "markdown",
   "id": "a4c4a7ff",
   "metadata": {},
   "source": [
    "### impute 'weight'\n",
    "\n",
    "* imputing weight using make_model and first_registration"
   ]
  },
  {
   "cell_type": "code",
   "execution_count": 97,
   "id": "20be6a24",
   "metadata": {},
   "outputs": [
    {
     "data": {
      "text/plain": [
       "6939"
      ]
     },
     "execution_count": 97,
     "metadata": {},
     "output_type": "execute_result"
    }
   ],
   "source": [
    "df.weight.isna().sum()"
   ]
  },
  {
   "cell_type": "code",
   "execution_count": 98,
   "id": "a7898773",
   "metadata": {},
   "outputs": [],
   "source": [
    "df['for_weight'] = df.groupby(['make_model', 'first_registration']).ngroup()"
   ]
  },
  {
   "cell_type": "code",
   "execution_count": 99,
   "id": "1d49ab9e",
   "metadata": {},
   "outputs": [],
   "source": [
    "df2 = fill(df, 'weight', 'for_weight', 'median')"
   ]
  },
  {
   "cell_type": "code",
   "execution_count": 100,
   "id": "c9468965",
   "metadata": {},
   "outputs": [],
   "source": [
    "df = df2.copy()\n",
    "del df2"
   ]
  },
  {
   "cell_type": "code",
   "execution_count": 101,
   "id": "784f6361",
   "metadata": {},
   "outputs": [
    {
     "data": {
      "text/plain": [
       "0"
      ]
     },
     "execution_count": 101,
     "metadata": {},
     "output_type": "execute_result"
    }
   ],
   "source": [
    "df.weight.isna().sum()"
   ]
  },
  {
   "cell_type": "markdown",
   "id": "23ff88ff",
   "metadata": {},
   "source": [
    "### impute 'drive_chain'\n",
    "\n",
    "* search shows that all the models described here are also available in 4WD\n",
    "* first assign 'rear' drive_chain as missing.\n",
    "* then impute using random assignment of front and 4WD based on proportions within class by make_model and first_registration"
   ]
  },
  {
   "cell_type": "code",
   "execution_count": 102,
   "id": "3dceec55",
   "metadata": {},
   "outputs": [
    {
     "data": {
      "text/plain": [
       "6826"
      ]
     },
     "execution_count": 102,
     "metadata": {},
     "output_type": "execute_result"
    }
   ],
   "source": [
    "df.drive_chain.isna().sum()"
   ]
  },
  {
   "cell_type": "code",
   "execution_count": 103,
   "id": "b4a97535",
   "metadata": {},
   "outputs": [
    {
     "data": {
      "text/plain": [
       "front    8885\n",
       "4WD       169\n",
       "rear        4\n",
       "Name: drive_chain, dtype: int64"
      ]
     },
     "execution_count": 103,
     "metadata": {},
     "output_type": "execute_result"
    }
   ],
   "source": [
    "df.drive_chain.value_counts()"
   ]
  },
  {
   "cell_type": "code",
   "execution_count": 104,
   "id": "6a3fc108",
   "metadata": {},
   "outputs": [],
   "source": [
    "df.drive_chain = [float('nan') if x=='rear' else x for x in df.drive_chain]"
   ]
  },
  {
   "cell_type": "code",
   "execution_count": 105,
   "id": "d5c3cd8f",
   "metadata": {},
   "outputs": [
    {
     "data": {
      "text/plain": [
       "make_model      drive_chain\n",
       "audi_a1         front          1693\n",
       "                NaN             918\n",
       "                4WD               3\n",
       "audi_a3         front          2008\n",
       "                NaN            1070\n",
       "                4WD              19\n",
       "opel_astra      front          1346\n",
       "                NaN            1178\n",
       "                4WD               2\n",
       "opel_corsa      front          1170\n",
       "                NaN            1049\n",
       "opel_insignia   front          1409\n",
       "                NaN            1095\n",
       "                4WD              94\n",
       "renault_clio    NaN            1033\n",
       "                front           795\n",
       "                4WD              11\n",
       "renault_espace  NaN             487\n",
       "                front           464\n",
       "                4WD              40\n",
       "Name: drive_chain, dtype: int64"
      ]
     },
     "execution_count": 105,
     "metadata": {},
     "output_type": "execute_result"
    }
   ],
   "source": [
    "df.groupby('make_model').drive_chain.value_counts(dropna=False)"
   ]
  },
  {
   "cell_type": "code",
   "execution_count": 106,
   "id": "0b067fbd",
   "metadata": {},
   "outputs": [],
   "source": [
    "df['for_drivechain'] = df.groupby(['make_model', 'first_registration']).ngroup()"
   ]
  },
  {
   "cell_type": "code",
   "execution_count": 107,
   "id": "e9086fee",
   "metadata": {},
   "outputs": [],
   "source": [
    "for g in df.for_drivechain.unique():\n",
    "    vc = [v for v in df[df.for_drivechain==g].drive_chain.value_counts()]\n",
    "    if len(vc) == 1:\n",
    "        df.loc[(df.for_drivechain==g) & (df.drive_chain.isna()), 'drive_chain'] = \\\n",
    "            df.loc[(df.for_drivechain==g) & (df.drive_chain.isna()), 'drive_chain'].fillna('front')\n",
    "    else:\n",
    "        df.loc[(df.for_drivechain==g) & (df.drive_chain.isna()), 'drive_chain'] = \\\n",
    "            [choices(('front','4WD'), weights=vc)[0] for \\\n",
    "                 x in df.loc[(df.for_drivechain==g) & (df.drive_chain.isna()), 'drive_chain']]"
   ]
  },
  {
   "cell_type": "code",
   "execution_count": 108,
   "id": "8e9230c0",
   "metadata": {},
   "outputs": [
    {
     "data": {
      "text/plain": [
       "make_model      drive_chain\n",
       "audi_a1         front          2609\n",
       "                4WD               5\n",
       "audi_a3         front          3069\n",
       "                4WD              28\n",
       "opel_astra      front          2521\n",
       "                4WD               5\n",
       "opel_corsa      front          2219\n",
       "opel_insignia   front          2463\n",
       "                4WD             135\n",
       "renault_clio    front          1808\n",
       "                4WD              31\n",
       "renault_espace  front           923\n",
       "                4WD              68\n",
       "Name: drive_chain, dtype: int64"
      ]
     },
     "execution_count": 108,
     "metadata": {},
     "output_type": "execute_result"
    }
   ],
   "source": [
    "df.groupby('make_model').drive_chain.value_counts(dropna=False)"
   ]
  },
  {
   "cell_type": "markdown",
   "id": "a0fe5862",
   "metadata": {},
   "source": [
    "### impute fuel\n",
    "\n",
    "* although there are no missing values, there are too many classes in this feature\n",
    "* some research allows to demystify the types of fules and classify them as gas, diesel, low_emission, and other.\n",
    "* low_emission and other are very infrequent, so we can actually stick with only gas, diesel, and other."
   ]
  },
  {
   "cell_type": "code",
   "execution_count": 109,
   "id": "1aba7b9d",
   "metadata": {},
   "outputs": [
    {
     "data": {
      "text/plain": [
       "Diesel (Particulate Filter)                                                                        4314\n",
       "Super 95                                                                                           3338\n",
       "Gasoline                                                                                           3141\n",
       "Diesel                                                                                             2984\n",
       "Super 95,Regular,Benzine 91                                                                         424\n",
       "                                                                                                   ... \n",
       "Regular,Benzine 91,Super 95,Regular,Benzine E10 91                                                    1\n",
       "Super Plus 98,Super E10 95                                                                            1\n",
       "Regular,Benzine 91,Super 95,Regular,Benzine E10 91,Super E10 95,Super Plus 98,Super Plus E10 98       1\n",
       "Regular,Benzine 91,Super Plus 98,Regular,Benzine E10 91,Super 95,Super E10 95,Super Plus E10 98       1\n",
       "Super Plus 98,Super 95,Super Plus E10 98                                                              1\n",
       "Name: fuel, Length: 77, dtype: int64"
      ]
     },
     "execution_count": 109,
     "metadata": {},
     "output_type": "execute_result"
    }
   ],
   "source": [
    "df.fuel.value_counts()"
   ]
  },
  {
   "cell_type": "code",
   "execution_count": 110,
   "id": "429cf8e3",
   "metadata": {},
   "outputs": [
    {
     "name": "stdout",
     "output_type": "stream",
     "text": [
      "{'Electric', 'Gasoline', 'Liquid petroleum gas (LPG)', 'Super 95', 'LPG', 'Biodiesel', 'Benzine 91', 'Diesel (Particulate Filter)', 'Super Plus E10 98 (Particulate Filter)', 'Regular', 'Biogas', 'Benzine 91 (Particulate Filter)', 'Diesel', 'Domestic gas H', 'Super Plus 98', 'Benzine E10 91 (Particulate Filter)', 'Super E10 95', 'Gasoline (Particulate Filter)', 'Benzine E10 91', 'CNG (Particulate Filter)', 'CNG', 'Super E10 95 (Particulate Filter)', 'Super 95 (Particulate Filter)', 'Others', 'Super Plus 98 (Particulate Filter)', 'Others (Particulate Filter)', 'Super Plus E10 98'}\n"
     ]
    }
   ],
   "source": [
    "fuels = set()\n",
    "for entry in df.fuel:\n",
    "    for fu in entry.split(','):\n",
    "        fuels.add(fu)\n",
    "print(fuels)"
   ]
  },
  {
   "cell_type": "code",
   "execution_count": 111,
   "id": "9eac059b",
   "metadata": {},
   "outputs": [],
   "source": [
    "fuels_dict = {\n",
    "    'CNG (Particulate Filter)': 'other', \n",
    "    'LPG':'other', \n",
    "    'Domestic gas H':'other', \n",
    "    'Super 95 (Particulate Filter)': 'gas', \n",
    "    'CNG':'other', \n",
    "    'Benzine 91': 'gas', \n",
    "    'Gasoline': 'gas', \n",
    "    'Super 95': 'gas', \n",
    "    'Diesel (Particulate Filter)': 'diesel', \n",
    "    'Super Plus E10 98 (Particulate Filter)': 'gas', \n",
    "    'Benzine E10 91 (Particulate Filter)': 'gas', \n",
    "    'Others':'other', \n",
    "    'Electric':'other', \n",
    "    'Liquid petroleum gas (LPG)':'other', \n",
    "    'Gasoline (Particulate Filter)': 'gas', \n",
    "    'Super E10 95': 'gas', \n",
    "    'Others (Particulate Filter)': 'other', \n",
    "    'Diesel': 'diesel', \n",
    "    'Biogas':'other', \n",
    "    'Super Plus 98 (Particulate Filter)': 'gas', \n",
    "    'Super E10 95 (Particulate Filter)': 'gas', \n",
    "    'Benzine 91 (Particulate Filter)': 'gas', \n",
    "    'Benzine E10 91': 'gas', \n",
    "    'Regular': 'gas', \n",
    "    'Biodiesel':'other', \n",
    "    'Super Plus 98': 'gas', \n",
    "    'Super Plus E10 98': 'gas'\n",
    "}"
   ]
  },
  {
   "cell_type": "code",
   "execution_count": 112,
   "id": "adf4f09f",
   "metadata": {},
   "outputs": [],
   "source": [
    "df['fuel'] = [','.join(set([fuels_dict[x] for x in y.split(',')])) for y in df.fuel]"
   ]
  },
  {
   "cell_type": "code",
   "execution_count": 113,
   "id": "3c485a91",
   "metadata": {},
   "outputs": [
    {
     "data": {
      "text/plain": [
       "gas          8510\n",
       "diesel       7298\n",
       "other          71\n",
       "other,gas       5\n",
       "Name: fuel, dtype: int64"
      ]
     },
     "execution_count": 113,
     "metadata": {},
     "output_type": "execute_result"
    }
   ],
   "source": [
    "df.fuel.value_counts()"
   ]
  },
  {
   "cell_type": "code",
   "execution_count": 114,
   "id": "e24d8f24",
   "metadata": {},
   "outputs": [],
   "source": [
    "df['fuel'] = ['other' if re.search(',',x) else x for x in df.fuel]"
   ]
  },
  {
   "cell_type": "code",
   "execution_count": 115,
   "id": "1ad7a9ec",
   "metadata": {},
   "outputs": [
    {
     "data": {
      "text/plain": [
       "gas       8510\n",
       "diesel    7298\n",
       "other       76\n",
       "Name: fuel, dtype: int64"
      ]
     },
     "execution_count": 115,
     "metadata": {},
     "output_type": "execute_result"
    }
   ],
   "source": [
    "df.fuel.value_counts(dropna=False)"
   ]
  },
  {
   "cell_type": "markdown",
   "id": "5853a917",
   "metadata": {},
   "source": [
    "### impute 'co2_emission'\n",
    "\n",
    "* "
   ]
  },
  {
   "cell_type": "code",
   "execution_count": 116,
   "id": "14fc03bc",
   "metadata": {},
   "outputs": [
    {
     "data": {
      "text/plain": [
       "2434"
      ]
     },
     "execution_count": 116,
     "metadata": {},
     "output_type": "execute_result"
    }
   ],
   "source": [
    "df.co2_emission.isna().sum()"
   ]
  },
  {
   "cell_type": "code",
   "execution_count": 117,
   "id": "c3cfecb5",
   "metadata": {},
   "outputs": [
    {
     "data": {
      "text/plain": [
       "diesel    1331\n",
       "gas       1084\n",
       "other       19\n",
       "Name: fuel, dtype: int64"
      ]
     },
     "execution_count": 117,
     "metadata": {},
     "output_type": "execute_result"
    }
   ],
   "source": [
    "df[df.co2_emission.isna()].fuel.value_counts()"
   ]
  },
  {
   "cell_type": "code",
   "execution_count": 118,
   "id": "c4d4203f",
   "metadata": {},
   "outputs": [
    {
     "data": {
      "text/html": [
       "<div>\n",
       "<style scoped>\n",
       "    .dataframe tbody tr th:only-of-type {\n",
       "        vertical-align: middle;\n",
       "    }\n",
       "\n",
       "    .dataframe tbody tr th {\n",
       "        vertical-align: top;\n",
       "    }\n",
       "\n",
       "    .dataframe thead th {\n",
       "        text-align: right;\n",
       "    }\n",
       "</style>\n",
       "<table border=\"1\" class=\"dataframe\">\n",
       "  <thead>\n",
       "    <tr style=\"text-align: right;\">\n",
       "      <th></th>\n",
       "      <th></th>\n",
       "      <th>count</th>\n",
       "      <th>mean</th>\n",
       "      <th>std</th>\n",
       "      <th>min</th>\n",
       "      <th>25%</th>\n",
       "      <th>50%</th>\n",
       "      <th>75%</th>\n",
       "      <th>max</th>\n",
       "    </tr>\n",
       "    <tr>\n",
       "      <th>make_model</th>\n",
       "      <th>first_registration</th>\n",
       "      <th></th>\n",
       "      <th></th>\n",
       "      <th></th>\n",
       "      <th></th>\n",
       "      <th></th>\n",
       "      <th></th>\n",
       "      <th></th>\n",
       "      <th></th>\n",
       "    </tr>\n",
       "  </thead>\n",
       "  <tbody>\n",
       "    <tr>\n",
       "      <th rowspan=\"4\" valign=\"top\">audi_a1</th>\n",
       "      <th>2016.0</th>\n",
       "      <td>571.0</td>\n",
       "      <td>101.357268</td>\n",
       "      <td>11.726048</td>\n",
       "      <td>90.0</td>\n",
       "      <td>97.00</td>\n",
       "      <td>99.0</td>\n",
       "      <td>104.00</td>\n",
       "      <td>331.0</td>\n",
       "    </tr>\n",
       "    <tr>\n",
       "      <th>2017.0</th>\n",
       "      <td>368.0</td>\n",
       "      <td>103.182065</td>\n",
       "      <td>8.403775</td>\n",
       "      <td>90.0</td>\n",
       "      <td>97.00</td>\n",
       "      <td>99.5</td>\n",
       "      <td>104.25</td>\n",
       "      <td>136.0</td>\n",
       "    </tr>\n",
       "    <tr>\n",
       "      <th>2018.0</th>\n",
       "      <td>679.0</td>\n",
       "      <td>102.686303</td>\n",
       "      <td>5.930793</td>\n",
       "      <td>89.0</td>\n",
       "      <td>98.00</td>\n",
       "      <td>102.0</td>\n",
       "      <td>104.00</td>\n",
       "      <td>134.0</td>\n",
       "    </tr>\n",
       "    <tr>\n",
       "      <th>2019.0</th>\n",
       "      <td>686.0</td>\n",
       "      <td>109.297376</td>\n",
       "      <td>5.653671</td>\n",
       "      <td>92.0</td>\n",
       "      <td>108.00</td>\n",
       "      <td>110.0</td>\n",
       "      <td>111.00</td>\n",
       "      <td>142.0</td>\n",
       "    </tr>\n",
       "    <tr>\n",
       "      <th rowspan=\"4\" valign=\"top\">audi_a3</th>\n",
       "      <th>2016.0</th>\n",
       "      <td>679.0</td>\n",
       "      <td>106.026510</td>\n",
       "      <td>10.044703</td>\n",
       "      <td>85.0</td>\n",
       "      <td>99.00</td>\n",
       "      <td>101.0</td>\n",
       "      <td>114.00</td>\n",
       "      <td>189.0</td>\n",
       "    </tr>\n",
       "    <tr>\n",
       "      <th>2017.0</th>\n",
       "      <td>601.0</td>\n",
       "      <td>106.838602</td>\n",
       "      <td>8.835472</td>\n",
       "      <td>88.0</td>\n",
       "      <td>103.00</td>\n",
       "      <td>106.0</td>\n",
       "      <td>109.00</td>\n",
       "      <td>189.0</td>\n",
       "    </tr>\n",
       "    <tr>\n",
       "      <th>2018.0</th>\n",
       "      <td>716.0</td>\n",
       "      <td>110.736034</td>\n",
       "      <td>50.036086</td>\n",
       "      <td>36.0</td>\n",
       "      <td>103.75</td>\n",
       "      <td>106.0</td>\n",
       "      <td>108.00</td>\n",
       "      <td>1060.0</td>\n",
       "    </tr>\n",
       "    <tr>\n",
       "      <th>2019.0</th>\n",
       "      <td>752.0</td>\n",
       "      <td>113.513298</td>\n",
       "      <td>8.334059</td>\n",
       "      <td>95.0</td>\n",
       "      <td>106.75</td>\n",
       "      <td>114.0</td>\n",
       "      <td>117.00</td>\n",
       "      <td>194.0</td>\n",
       "    </tr>\n",
       "    <tr>\n",
       "      <th rowspan=\"4\" valign=\"top\">opel_astra</th>\n",
       "      <th>2016.0</th>\n",
       "      <td>410.0</td>\n",
       "      <td>138.826829</td>\n",
       "      <td>591.751940</td>\n",
       "      <td>87.0</td>\n",
       "      <td>97.00</td>\n",
       "      <td>104.0</td>\n",
       "      <td>119.00</td>\n",
       "      <td>12087.0</td>\n",
       "    </tr>\n",
       "    <tr>\n",
       "      <th>2017.0</th>\n",
       "      <td>508.0</td>\n",
       "      <td>107.001969</td>\n",
       "      <td>13.476621</td>\n",
       "      <td>88.0</td>\n",
       "      <td>95.00</td>\n",
       "      <td>102.0</td>\n",
       "      <td>119.00</td>\n",
       "      <td>150.0</td>\n",
       "    </tr>\n",
       "    <tr>\n",
       "      <th>2018.0</th>\n",
       "      <td>630.0</td>\n",
       "      <td>154.752381</td>\n",
       "      <td>674.025358</td>\n",
       "      <td>88.0</td>\n",
       "      <td>104.00</td>\n",
       "      <td>119.0</td>\n",
       "      <td>127.00</td>\n",
       "      <td>12087.0</td>\n",
       "    </tr>\n",
       "    <tr>\n",
       "      <th>2019.0</th>\n",
       "      <td>539.0</td>\n",
       "      <td>126.230056</td>\n",
       "      <td>17.179756</td>\n",
       "      <td>0.0</td>\n",
       "      <td>114.00</td>\n",
       "      <td>128.0</td>\n",
       "      <td>135.00</td>\n",
       "      <td>170.0</td>\n",
       "    </tr>\n",
       "    <tr>\n",
       "      <th rowspan=\"4\" valign=\"top\">opel_corsa</th>\n",
       "      <th>2016.0</th>\n",
       "      <td>347.0</td>\n",
       "      <td>155.074928</td>\n",
       "      <td>655.286453</td>\n",
       "      <td>82.0</td>\n",
       "      <td>110.00</td>\n",
       "      <td>126.0</td>\n",
       "      <td>128.00</td>\n",
       "      <td>12324.0</td>\n",
       "    </tr>\n",
       "    <tr>\n",
       "      <th>2017.0</th>\n",
       "      <td>325.0</td>\n",
       "      <td>122.680000</td>\n",
       "      <td>8.925743</td>\n",
       "      <td>84.0</td>\n",
       "      <td>120.00</td>\n",
       "      <td>124.0</td>\n",
       "      <td>126.00</td>\n",
       "      <td>150.0</td>\n",
       "    </tr>\n",
       "    <tr>\n",
       "      <th>2018.0</th>\n",
       "      <td>597.0</td>\n",
       "      <td>126.936348</td>\n",
       "      <td>12.048391</td>\n",
       "      <td>51.0</td>\n",
       "      <td>120.00</td>\n",
       "      <td>124.0</td>\n",
       "      <td>137.00</td>\n",
       "      <td>170.0</td>\n",
       "    </tr>\n",
       "    <tr>\n",
       "      <th>2019.0</th>\n",
       "      <td>681.0</td>\n",
       "      <td>136.535977</td>\n",
       "      <td>9.812610</td>\n",
       "      <td>101.0</td>\n",
       "      <td>129.00</td>\n",
       "      <td>139.0</td>\n",
       "      <td>143.00</td>\n",
       "      <td>167.0</td>\n",
       "    </tr>\n",
       "    <tr>\n",
       "      <th rowspan=\"4\" valign=\"top\">opel_insignia</th>\n",
       "      <th>2016.0</th>\n",
       "      <td>460.0</td>\n",
       "      <td>127.889130</td>\n",
       "      <td>20.348026</td>\n",
       "      <td>98.0</td>\n",
       "      <td>109.00</td>\n",
       "      <td>129.0</td>\n",
       "      <td>144.25</td>\n",
       "      <td>253.0</td>\n",
       "    </tr>\n",
       "    <tr>\n",
       "      <th>2017.0</th>\n",
       "      <td>470.0</td>\n",
       "      <td>130.363830</td>\n",
       "      <td>19.204365</td>\n",
       "      <td>0.0</td>\n",
       "      <td>114.00</td>\n",
       "      <td>134.0</td>\n",
       "      <td>144.00</td>\n",
       "      <td>197.0</td>\n",
       "    </tr>\n",
       "    <tr>\n",
       "      <th>2018.0</th>\n",
       "      <td>657.0</td>\n",
       "      <td>179.292237</td>\n",
       "      <td>776.643868</td>\n",
       "      <td>5.0</td>\n",
       "      <td>133.00</td>\n",
       "      <td>138.0</td>\n",
       "      <td>142.00</td>\n",
       "      <td>14457.0</td>\n",
       "    </tr>\n",
       "    <tr>\n",
       "      <th>2019.0</th>\n",
       "      <td>512.0</td>\n",
       "      <td>144.984375</td>\n",
       "      <td>18.935459</td>\n",
       "      <td>5.0</td>\n",
       "      <td>136.00</td>\n",
       "      <td>145.0</td>\n",
       "      <td>150.00</td>\n",
       "      <td>199.0</td>\n",
       "    </tr>\n",
       "    <tr>\n",
       "      <th rowspan=\"4\" valign=\"top\">renault_clio</th>\n",
       "      <th>2016.0</th>\n",
       "      <td>322.0</td>\n",
       "      <td>103.813665</td>\n",
       "      <td>19.125493</td>\n",
       "      <td>82.0</td>\n",
       "      <td>85.00</td>\n",
       "      <td>95.0</td>\n",
       "      <td>126.00</td>\n",
       "      <td>140.0</td>\n",
       "    </tr>\n",
       "    <tr>\n",
       "      <th>2017.0</th>\n",
       "      <td>334.0</td>\n",
       "      <td>106.245509</td>\n",
       "      <td>19.518211</td>\n",
       "      <td>82.0</td>\n",
       "      <td>85.00</td>\n",
       "      <td>105.0</td>\n",
       "      <td>126.00</td>\n",
       "      <td>140.0</td>\n",
       "    </tr>\n",
       "    <tr>\n",
       "      <th>2018.0</th>\n",
       "      <td>500.0</td>\n",
       "      <td>118.730000</td>\n",
       "      <td>16.778562</td>\n",
       "      <td>82.0</td>\n",
       "      <td>113.00</td>\n",
       "      <td>120.0</td>\n",
       "      <td>133.00</td>\n",
       "      <td>140.0</td>\n",
       "    </tr>\n",
       "    <tr>\n",
       "      <th>2019.0</th>\n",
       "      <td>355.0</td>\n",
       "      <td>114.895775</td>\n",
       "      <td>6.805021</td>\n",
       "      <td>87.0</td>\n",
       "      <td>113.00</td>\n",
       "      <td>113.0</td>\n",
       "      <td>118.00</td>\n",
       "      <td>140.0</td>\n",
       "    </tr>\n",
       "    <tr>\n",
       "      <th rowspan=\"4\" valign=\"top\">renault_espace</th>\n",
       "      <th>2016.0</th>\n",
       "      <td>243.0</td>\n",
       "      <td>122.757202</td>\n",
       "      <td>7.476319</td>\n",
       "      <td>116.0</td>\n",
       "      <td>120.00</td>\n",
       "      <td>120.0</td>\n",
       "      <td>123.00</td>\n",
       "      <td>147.0</td>\n",
       "    </tr>\n",
       "    <tr>\n",
       "      <th>2017.0</th>\n",
       "      <td>119.0</td>\n",
       "      <td>130.310924</td>\n",
       "      <td>14.529775</td>\n",
       "      <td>116.0</td>\n",
       "      <td>120.00</td>\n",
       "      <td>120.0</td>\n",
       "      <td>153.00</td>\n",
       "      <td>153.0</td>\n",
       "    </tr>\n",
       "    <tr>\n",
       "      <th>2018.0</th>\n",
       "      <td>177.0</td>\n",
       "      <td>134.101695</td>\n",
       "      <td>17.169967</td>\n",
       "      <td>116.0</td>\n",
       "      <td>120.00</td>\n",
       "      <td>123.0</td>\n",
       "      <td>153.00</td>\n",
       "      <td>168.0</td>\n",
       "    </tr>\n",
       "    <tr>\n",
       "      <th>2019.0</th>\n",
       "      <td>212.0</td>\n",
       "      <td>149.995283</td>\n",
       "      <td>17.608566</td>\n",
       "      <td>116.0</td>\n",
       "      <td>139.00</td>\n",
       "      <td>151.5</td>\n",
       "      <td>168.00</td>\n",
       "      <td>194.0</td>\n",
       "    </tr>\n",
       "  </tbody>\n",
       "</table>\n",
       "</div>"
      ],
      "text/plain": [
       "                                   count        mean         std    min  \\\n",
       "make_model     first_registration                                         \n",
       "audi_a1        2016.0              571.0  101.357268   11.726048   90.0   \n",
       "               2017.0              368.0  103.182065    8.403775   90.0   \n",
       "               2018.0              679.0  102.686303    5.930793   89.0   \n",
       "               2019.0              686.0  109.297376    5.653671   92.0   \n",
       "audi_a3        2016.0              679.0  106.026510   10.044703   85.0   \n",
       "               2017.0              601.0  106.838602    8.835472   88.0   \n",
       "               2018.0              716.0  110.736034   50.036086   36.0   \n",
       "               2019.0              752.0  113.513298    8.334059   95.0   \n",
       "opel_astra     2016.0              410.0  138.826829  591.751940   87.0   \n",
       "               2017.0              508.0  107.001969   13.476621   88.0   \n",
       "               2018.0              630.0  154.752381  674.025358   88.0   \n",
       "               2019.0              539.0  126.230056   17.179756    0.0   \n",
       "opel_corsa     2016.0              347.0  155.074928  655.286453   82.0   \n",
       "               2017.0              325.0  122.680000    8.925743   84.0   \n",
       "               2018.0              597.0  126.936348   12.048391   51.0   \n",
       "               2019.0              681.0  136.535977    9.812610  101.0   \n",
       "opel_insignia  2016.0              460.0  127.889130   20.348026   98.0   \n",
       "               2017.0              470.0  130.363830   19.204365    0.0   \n",
       "               2018.0              657.0  179.292237  776.643868    5.0   \n",
       "               2019.0              512.0  144.984375   18.935459    5.0   \n",
       "renault_clio   2016.0              322.0  103.813665   19.125493   82.0   \n",
       "               2017.0              334.0  106.245509   19.518211   82.0   \n",
       "               2018.0              500.0  118.730000   16.778562   82.0   \n",
       "               2019.0              355.0  114.895775    6.805021   87.0   \n",
       "renault_espace 2016.0              243.0  122.757202    7.476319  116.0   \n",
       "               2017.0              119.0  130.310924   14.529775  116.0   \n",
       "               2018.0              177.0  134.101695   17.169967  116.0   \n",
       "               2019.0              212.0  149.995283   17.608566  116.0   \n",
       "\n",
       "                                      25%    50%     75%      max  \n",
       "make_model     first_registration                                  \n",
       "audi_a1        2016.0               97.00   99.0  104.00    331.0  \n",
       "               2017.0               97.00   99.5  104.25    136.0  \n",
       "               2018.0               98.00  102.0  104.00    134.0  \n",
       "               2019.0              108.00  110.0  111.00    142.0  \n",
       "audi_a3        2016.0               99.00  101.0  114.00    189.0  \n",
       "               2017.0              103.00  106.0  109.00    189.0  \n",
       "               2018.0              103.75  106.0  108.00   1060.0  \n",
       "               2019.0              106.75  114.0  117.00    194.0  \n",
       "opel_astra     2016.0               97.00  104.0  119.00  12087.0  \n",
       "               2017.0               95.00  102.0  119.00    150.0  \n",
       "               2018.0              104.00  119.0  127.00  12087.0  \n",
       "               2019.0              114.00  128.0  135.00    170.0  \n",
       "opel_corsa     2016.0              110.00  126.0  128.00  12324.0  \n",
       "               2017.0              120.00  124.0  126.00    150.0  \n",
       "               2018.0              120.00  124.0  137.00    170.0  \n",
       "               2019.0              129.00  139.0  143.00    167.0  \n",
       "opel_insignia  2016.0              109.00  129.0  144.25    253.0  \n",
       "               2017.0              114.00  134.0  144.00    197.0  \n",
       "               2018.0              133.00  138.0  142.00  14457.0  \n",
       "               2019.0              136.00  145.0  150.00    199.0  \n",
       "renault_clio   2016.0               85.00   95.0  126.00    140.0  \n",
       "               2017.0               85.00  105.0  126.00    140.0  \n",
       "               2018.0              113.00  120.0  133.00    140.0  \n",
       "               2019.0              113.00  113.0  118.00    140.0  \n",
       "renault_espace 2016.0              120.00  120.0  123.00    147.0  \n",
       "               2017.0              120.00  120.0  153.00    153.0  \n",
       "               2018.0              120.00  123.0  153.00    168.0  \n",
       "               2019.0              139.00  151.5  168.00    194.0  "
      ]
     },
     "execution_count": 118,
     "metadata": {},
     "output_type": "execute_result"
    }
   ],
   "source": [
    "df.groupby(['make_model','first_registration']).co2_emission.describe()"
   ]
  },
  {
   "cell_type": "code",
   "execution_count": 119,
   "id": "f1e0e43a",
   "metadata": {},
   "outputs": [],
   "source": [
    "df['for_co2'] = df.groupby(['make_model', 'first_registration']).co2_emission.ngroup()"
   ]
  },
  {
   "cell_type": "code",
   "execution_count": 120,
   "id": "92c5c425",
   "metadata": {},
   "outputs": [],
   "source": [
    "df2 = fill(df, 'co2_emission','for_co2', 'mode')"
   ]
  },
  {
   "cell_type": "code",
   "execution_count": 121,
   "id": "0787d727",
   "metadata": {},
   "outputs": [],
   "source": [
    "df = df2.copy()\n",
    "del df2"
   ]
  },
  {
   "cell_type": "code",
   "execution_count": 122,
   "id": "68c6b22d",
   "metadata": {},
   "outputs": [],
   "source": [
    "df = df.drop('for_co2', axis=1)"
   ]
  },
  {
   "cell_type": "code",
   "execution_count": 123,
   "id": "cc9e5cb4",
   "metadata": {},
   "outputs": [
    {
     "data": {
      "text/plain": [
       "0"
      ]
     },
     "execution_count": 123,
     "metadata": {},
     "output_type": "execute_result"
    }
   ],
   "source": [
    "df.co2_emission.isna().sum()"
   ]
  },
  {
   "cell_type": "code",
   "execution_count": 124,
   "id": "6d9460b2",
   "metadata": {
    "scrolled": true
   },
   "outputs": [
    {
     "data": {
      "text/html": [
       "<div>\n",
       "<style scoped>\n",
       "    .dataframe tbody tr th:only-of-type {\n",
       "        vertical-align: middle;\n",
       "    }\n",
       "\n",
       "    .dataframe tbody tr th {\n",
       "        vertical-align: top;\n",
       "    }\n",
       "\n",
       "    .dataframe thead th {\n",
       "        text-align: right;\n",
       "    }\n",
       "</style>\n",
       "<table border=\"1\" class=\"dataframe\">\n",
       "  <thead>\n",
       "    <tr style=\"text-align: right;\">\n",
       "      <th></th>\n",
       "      <th></th>\n",
       "      <th>count</th>\n",
       "      <th>mean</th>\n",
       "      <th>std</th>\n",
       "      <th>min</th>\n",
       "      <th>25%</th>\n",
       "      <th>50%</th>\n",
       "      <th>75%</th>\n",
       "      <th>max</th>\n",
       "    </tr>\n",
       "    <tr>\n",
       "      <th>make_model</th>\n",
       "      <th>first_registration</th>\n",
       "      <th></th>\n",
       "      <th></th>\n",
       "      <th></th>\n",
       "      <th></th>\n",
       "      <th></th>\n",
       "      <th></th>\n",
       "      <th></th>\n",
       "      <th></th>\n",
       "    </tr>\n",
       "  </thead>\n",
       "  <tbody>\n",
       "    <tr>\n",
       "      <th rowspan=\"4\" valign=\"top\">audi_a1</th>\n",
       "      <th>2016.0</th>\n",
       "      <td>629.0</td>\n",
       "      <td>100.955485</td>\n",
       "      <td>11.242461</td>\n",
       "      <td>90.0</td>\n",
       "      <td>97.0</td>\n",
       "      <td>98.0</td>\n",
       "      <td>104.00</td>\n",
       "      <td>331.0</td>\n",
       "    </tr>\n",
       "    <tr>\n",
       "      <th>2017.0</th>\n",
       "      <td>432.0</td>\n",
       "      <td>102.266204</td>\n",
       "      <td>8.060443</td>\n",
       "      <td>90.0</td>\n",
       "      <td>97.0</td>\n",
       "      <td>98.0</td>\n",
       "      <td>104.00</td>\n",
       "      <td>136.0</td>\n",
       "    </tr>\n",
       "    <tr>\n",
       "      <th>2018.0</th>\n",
       "      <td>744.0</td>\n",
       "      <td>102.626344</td>\n",
       "      <td>5.668753</td>\n",
       "      <td>89.0</td>\n",
       "      <td>99.0</td>\n",
       "      <td>102.0</td>\n",
       "      <td>104.00</td>\n",
       "      <td>134.0</td>\n",
       "    </tr>\n",
       "    <tr>\n",
       "      <th>2019.0</th>\n",
       "      <td>809.0</td>\n",
       "      <td>109.100124</td>\n",
       "      <td>5.226419</td>\n",
       "      <td>92.0</td>\n",
       "      <td>108.0</td>\n",
       "      <td>108.0</td>\n",
       "      <td>111.00</td>\n",
       "      <td>142.0</td>\n",
       "    </tr>\n",
       "    <tr>\n",
       "      <th rowspan=\"4\" valign=\"top\">audi_a3</th>\n",
       "      <th>2016.0</th>\n",
       "      <td>818.0</td>\n",
       "      <td>104.832518</td>\n",
       "      <td>9.523793</td>\n",
       "      <td>85.0</td>\n",
       "      <td>99.0</td>\n",
       "      <td>99.0</td>\n",
       "      <td>109.75</td>\n",
       "      <td>189.0</td>\n",
       "    </tr>\n",
       "    <tr>\n",
       "      <th>2017.0</th>\n",
       "      <td>675.0</td>\n",
       "      <td>106.856296</td>\n",
       "      <td>8.336493</td>\n",
       "      <td>88.0</td>\n",
       "      <td>103.0</td>\n",
       "      <td>107.0</td>\n",
       "      <td>108.00</td>\n",
       "      <td>189.0</td>\n",
       "    </tr>\n",
       "    <tr>\n",
       "      <th>2018.0</th>\n",
       "      <td>777.0</td>\n",
       "      <td>110.364221</td>\n",
       "      <td>48.046127</td>\n",
       "      <td>36.0</td>\n",
       "      <td>104.0</td>\n",
       "      <td>106.0</td>\n",
       "      <td>108.00</td>\n",
       "      <td>1060.0</td>\n",
       "    </tr>\n",
       "    <tr>\n",
       "      <th>2019.0</th>\n",
       "      <td>827.0</td>\n",
       "      <td>113.829504</td>\n",
       "      <td>8.009601</td>\n",
       "      <td>95.0</td>\n",
       "      <td>108.0</td>\n",
       "      <td>117.0</td>\n",
       "      <td>117.00</td>\n",
       "      <td>194.0</td>\n",
       "    </tr>\n",
       "    <tr>\n",
       "      <th rowspan=\"4\" valign=\"top\">opel_astra</th>\n",
       "      <th>2016.0</th>\n",
       "      <td>519.0</td>\n",
       "      <td>134.662813</td>\n",
       "      <td>525.881364</td>\n",
       "      <td>87.0</td>\n",
       "      <td>97.0</td>\n",
       "      <td>119.0</td>\n",
       "      <td>119.00</td>\n",
       "      <td>12087.0</td>\n",
       "    </tr>\n",
       "    <tr>\n",
       "      <th>2017.0</th>\n",
       "      <td>587.0</td>\n",
       "      <td>105.386712</td>\n",
       "      <td>13.188656</td>\n",
       "      <td>88.0</td>\n",
       "      <td>95.0</td>\n",
       "      <td>97.0</td>\n",
       "      <td>119.00</td>\n",
       "      <td>150.0</td>\n",
       "    </tr>\n",
       "    <tr>\n",
       "      <th>2018.0</th>\n",
       "      <td>727.0</td>\n",
       "      <td>151.182944</td>\n",
       "      <td>627.449761</td>\n",
       "      <td>88.0</td>\n",
       "      <td>107.0</td>\n",
       "      <td>122.0</td>\n",
       "      <td>128.00</td>\n",
       "      <td>12087.0</td>\n",
       "    </tr>\n",
       "    <tr>\n",
       "      <th>2019.0</th>\n",
       "      <td>693.0</td>\n",
       "      <td>121.956710</td>\n",
       "      <td>17.130943</td>\n",
       "      <td>0.0</td>\n",
       "      <td>107.0</td>\n",
       "      <td>124.0</td>\n",
       "      <td>134.00</td>\n",
       "      <td>170.0</td>\n",
       "    </tr>\n",
       "    <tr>\n",
       "      <th rowspan=\"4\" valign=\"top\">opel_corsa</th>\n",
       "      <th>2016.0</th>\n",
       "      <td>429.0</td>\n",
       "      <td>149.899767</td>\n",
       "      <td>589.275527</td>\n",
       "      <td>82.0</td>\n",
       "      <td>113.0</td>\n",
       "      <td>126.0</td>\n",
       "      <td>128.00</td>\n",
       "      <td>12324.0</td>\n",
       "    </tr>\n",
       "    <tr>\n",
       "      <th>2017.0</th>\n",
       "      <td>382.0</td>\n",
       "      <td>122.876963</td>\n",
       "      <td>8.244495</td>\n",
       "      <td>84.0</td>\n",
       "      <td>120.0</td>\n",
       "      <td>124.0</td>\n",
       "      <td>124.00</td>\n",
       "      <td>150.0</td>\n",
       "    </tr>\n",
       "    <tr>\n",
       "      <th>2018.0</th>\n",
       "      <td>683.0</td>\n",
       "      <td>126.062958</td>\n",
       "      <td>11.496161</td>\n",
       "      <td>51.0</td>\n",
       "      <td>120.0</td>\n",
       "      <td>123.0</td>\n",
       "      <td>136.00</td>\n",
       "      <td>170.0</td>\n",
       "    </tr>\n",
       "    <tr>\n",
       "      <th>2019.0</th>\n",
       "      <td>725.0</td>\n",
       "      <td>136.928276</td>\n",
       "      <td>9.634356</td>\n",
       "      <td>101.0</td>\n",
       "      <td>129.0</td>\n",
       "      <td>140.0</td>\n",
       "      <td>143.00</td>\n",
       "      <td>167.0</td>\n",
       "    </tr>\n",
       "    <tr>\n",
       "      <th rowspan=\"4\" valign=\"top\">opel_insignia</th>\n",
       "      <th>2016.0</th>\n",
       "      <td>567.0</td>\n",
       "      <td>123.380952</td>\n",
       "      <td>20.574166</td>\n",
       "      <td>98.0</td>\n",
       "      <td>104.0</td>\n",
       "      <td>119.0</td>\n",
       "      <td>135.00</td>\n",
       "      <td>253.0</td>\n",
       "    </tr>\n",
       "    <tr>\n",
       "      <th>2017.0</th>\n",
       "      <td>589.0</td>\n",
       "      <td>127.057725</td>\n",
       "      <td>18.368768</td>\n",
       "      <td>0.0</td>\n",
       "      <td>114.0</td>\n",
       "      <td>129.0</td>\n",
       "      <td>139.00</td>\n",
       "      <td>197.0</td>\n",
       "    </tr>\n",
       "    <tr>\n",
       "      <th>2018.0</th>\n",
       "      <td>767.0</td>\n",
       "      <td>173.800522</td>\n",
       "      <td>718.845007</td>\n",
       "      <td>5.0</td>\n",
       "      <td>133.0</td>\n",
       "      <td>140.0</td>\n",
       "      <td>141.00</td>\n",
       "      <td>14457.0</td>\n",
       "    </tr>\n",
       "    <tr>\n",
       "      <th>2019.0</th>\n",
       "      <td>675.0</td>\n",
       "      <td>145.471111</td>\n",
       "      <td>16.510144</td>\n",
       "      <td>5.0</td>\n",
       "      <td>139.0</td>\n",
       "      <td>147.0</td>\n",
       "      <td>147.00</td>\n",
       "      <td>199.0</td>\n",
       "    </tr>\n",
       "    <tr>\n",
       "      <th rowspan=\"4\" valign=\"top\">renault_clio</th>\n",
       "      <th>2016.0</th>\n",
       "      <td>412.0</td>\n",
       "      <td>99.703883</td>\n",
       "      <td>18.608129</td>\n",
       "      <td>82.0</td>\n",
       "      <td>85.0</td>\n",
       "      <td>85.0</td>\n",
       "      <td>120.00</td>\n",
       "      <td>140.0</td>\n",
       "    </tr>\n",
       "    <tr>\n",
       "      <th>2017.0</th>\n",
       "      <td>438.0</td>\n",
       "      <td>101.200913</td>\n",
       "      <td>19.292777</td>\n",
       "      <td>82.0</td>\n",
       "      <td>85.0</td>\n",
       "      <td>92.0</td>\n",
       "      <td>126.00</td>\n",
       "      <td>140.0</td>\n",
       "    </tr>\n",
       "    <tr>\n",
       "      <th>2018.0</th>\n",
       "      <td>573.0</td>\n",
       "      <td>118.891798</td>\n",
       "      <td>15.677101</td>\n",
       "      <td>82.0</td>\n",
       "      <td>120.0</td>\n",
       "      <td>120.0</td>\n",
       "      <td>127.00</td>\n",
       "      <td>140.0</td>\n",
       "    </tr>\n",
       "    <tr>\n",
       "      <th>2019.0</th>\n",
       "      <td>416.0</td>\n",
       "      <td>114.617788</td>\n",
       "      <td>6.320788</td>\n",
       "      <td>87.0</td>\n",
       "      <td>113.0</td>\n",
       "      <td>113.0</td>\n",
       "      <td>118.00</td>\n",
       "      <td>140.0</td>\n",
       "    </tr>\n",
       "    <tr>\n",
       "      <th rowspan=\"4\" valign=\"top\">renault_espace</th>\n",
       "      <th>2016.0</th>\n",
       "      <td>300.0</td>\n",
       "      <td>122.233333</td>\n",
       "      <td>6.812753</td>\n",
       "      <td>116.0</td>\n",
       "      <td>120.0</td>\n",
       "      <td>120.0</td>\n",
       "      <td>120.75</td>\n",
       "      <td>147.0</td>\n",
       "    </tr>\n",
       "    <tr>\n",
       "      <th>2017.0</th>\n",
       "      <td>170.0</td>\n",
       "      <td>127.217647</td>\n",
       "      <td>13.033173</td>\n",
       "      <td>116.0</td>\n",
       "      <td>120.0</td>\n",
       "      <td>120.0</td>\n",
       "      <td>123.00</td>\n",
       "      <td>153.0</td>\n",
       "    </tr>\n",
       "    <tr>\n",
       "      <th>2018.0</th>\n",
       "      <td>250.0</td>\n",
       "      <td>129.984000</td>\n",
       "      <td>15.800454</td>\n",
       "      <td>116.0</td>\n",
       "      <td>120.0</td>\n",
       "      <td>120.0</td>\n",
       "      <td>153.00</td>\n",
       "      <td>168.0</td>\n",
       "    </tr>\n",
       "    <tr>\n",
       "      <th>2019.0</th>\n",
       "      <td>271.0</td>\n",
       "      <td>153.915129</td>\n",
       "      <td>17.254634</td>\n",
       "      <td>116.0</td>\n",
       "      <td>139.0</td>\n",
       "      <td>153.0</td>\n",
       "      <td>168.00</td>\n",
       "      <td>194.0</td>\n",
       "    </tr>\n",
       "  </tbody>\n",
       "</table>\n",
       "</div>"
      ],
      "text/plain": [
       "                                   count        mean         std    min  \\\n",
       "make_model     first_registration                                         \n",
       "audi_a1        2016.0              629.0  100.955485   11.242461   90.0   \n",
       "               2017.0              432.0  102.266204    8.060443   90.0   \n",
       "               2018.0              744.0  102.626344    5.668753   89.0   \n",
       "               2019.0              809.0  109.100124    5.226419   92.0   \n",
       "audi_a3        2016.0              818.0  104.832518    9.523793   85.0   \n",
       "               2017.0              675.0  106.856296    8.336493   88.0   \n",
       "               2018.0              777.0  110.364221   48.046127   36.0   \n",
       "               2019.0              827.0  113.829504    8.009601   95.0   \n",
       "opel_astra     2016.0              519.0  134.662813  525.881364   87.0   \n",
       "               2017.0              587.0  105.386712   13.188656   88.0   \n",
       "               2018.0              727.0  151.182944  627.449761   88.0   \n",
       "               2019.0              693.0  121.956710   17.130943    0.0   \n",
       "opel_corsa     2016.0              429.0  149.899767  589.275527   82.0   \n",
       "               2017.0              382.0  122.876963    8.244495   84.0   \n",
       "               2018.0              683.0  126.062958   11.496161   51.0   \n",
       "               2019.0              725.0  136.928276    9.634356  101.0   \n",
       "opel_insignia  2016.0              567.0  123.380952   20.574166   98.0   \n",
       "               2017.0              589.0  127.057725   18.368768    0.0   \n",
       "               2018.0              767.0  173.800522  718.845007    5.0   \n",
       "               2019.0              675.0  145.471111   16.510144    5.0   \n",
       "renault_clio   2016.0              412.0   99.703883   18.608129   82.0   \n",
       "               2017.0              438.0  101.200913   19.292777   82.0   \n",
       "               2018.0              573.0  118.891798   15.677101   82.0   \n",
       "               2019.0              416.0  114.617788    6.320788   87.0   \n",
       "renault_espace 2016.0              300.0  122.233333    6.812753  116.0   \n",
       "               2017.0              170.0  127.217647   13.033173  116.0   \n",
       "               2018.0              250.0  129.984000   15.800454  116.0   \n",
       "               2019.0              271.0  153.915129   17.254634  116.0   \n",
       "\n",
       "                                     25%    50%     75%      max  \n",
       "make_model     first_registration                                 \n",
       "audi_a1        2016.0               97.0   98.0  104.00    331.0  \n",
       "               2017.0               97.0   98.0  104.00    136.0  \n",
       "               2018.0               99.0  102.0  104.00    134.0  \n",
       "               2019.0              108.0  108.0  111.00    142.0  \n",
       "audi_a3        2016.0               99.0   99.0  109.75    189.0  \n",
       "               2017.0              103.0  107.0  108.00    189.0  \n",
       "               2018.0              104.0  106.0  108.00   1060.0  \n",
       "               2019.0              108.0  117.0  117.00    194.0  \n",
       "opel_astra     2016.0               97.0  119.0  119.00  12087.0  \n",
       "               2017.0               95.0   97.0  119.00    150.0  \n",
       "               2018.0              107.0  122.0  128.00  12087.0  \n",
       "               2019.0              107.0  124.0  134.00    170.0  \n",
       "opel_corsa     2016.0              113.0  126.0  128.00  12324.0  \n",
       "               2017.0              120.0  124.0  124.00    150.0  \n",
       "               2018.0              120.0  123.0  136.00    170.0  \n",
       "               2019.0              129.0  140.0  143.00    167.0  \n",
       "opel_insignia  2016.0              104.0  119.0  135.00    253.0  \n",
       "               2017.0              114.0  129.0  139.00    197.0  \n",
       "               2018.0              133.0  140.0  141.00  14457.0  \n",
       "               2019.0              139.0  147.0  147.00    199.0  \n",
       "renault_clio   2016.0               85.0   85.0  120.00    140.0  \n",
       "               2017.0               85.0   92.0  126.00    140.0  \n",
       "               2018.0              120.0  120.0  127.00    140.0  \n",
       "               2019.0              113.0  113.0  118.00    140.0  \n",
       "renault_espace 2016.0              120.0  120.0  120.75    147.0  \n",
       "               2017.0              120.0  120.0  123.00    153.0  \n",
       "               2018.0              120.0  120.0  153.00    168.0  \n",
       "               2019.0              139.0  153.0  168.00    194.0  "
      ]
     },
     "execution_count": 124,
     "metadata": {},
     "output_type": "execute_result"
    }
   ],
   "source": [
    "df.groupby(['make_model','first_registration']).co2_emission.describe()"
   ]
  },
  {
   "cell_type": "markdown",
   "id": "1e11afe6",
   "metadata": {},
   "source": [
    "### impute"
   ]
  },
  {
   "cell_type": "code",
   "execution_count": null,
   "id": "39227e4a",
   "metadata": {},
   "outputs": [],
   "source": []
  },
  {
   "cell_type": "code",
   "execution_count": null,
   "id": "1caf96c9",
   "metadata": {},
   "outputs": [],
   "source": []
  },
  {
   "cell_type": "code",
   "execution_count": null,
   "id": "d701985a",
   "metadata": {},
   "outputs": [],
   "source": []
  },
  {
   "cell_type": "code",
   "execution_count": null,
   "id": "3eab365e",
   "metadata": {},
   "outputs": [],
   "source": []
  },
  {
   "cell_type": "markdown",
   "id": "f0aee320",
   "metadata": {},
   "source": [
    "## Summary"
   ]
  },
  {
   "cell_type": "markdown",
   "id": "ca97f576",
   "metadata": {},
   "source": [
    "<a id=\"3\"></a>\n",
    "\n",
    "## End of Data Imputation"
   ]
  },
  {
   "cell_type": "markdown",
   "id": "ba1d643b",
   "metadata": {},
   "source": [
    "<a href=\"#toc\" class=\"btn btn-primary btn-sm\" role=\"button\" aria-pressed=\"true\" \n",
    "style=\"color:blue; background-color:#dfa8e4\" data-toggle=\"popover\">Content</a>"
   ]
  },
  {
   "cell_type": "markdown",
   "id": "8e8b8ffa",
   "metadata": {},
   "source": [
    "## Next: [Handling Outliers](02_handling_outliers.ipynb)"
   ]
  },
  {
   "cell_type": "code",
   "execution_count": null,
   "id": "fc084e71",
   "metadata": {},
   "outputs": [],
   "source": []
  }
 ],
 "metadata": {
  "kernelspec": {
   "display_name": "Python 3 (ipykernel)",
   "language": "python",
   "name": "python3"
  },
  "language_info": {
   "codemirror_mode": {
    "name": "ipython",
    "version": 3
   },
   "file_extension": ".py",
   "mimetype": "text/x-python",
   "name": "python",
   "nbconvert_exporter": "python",
   "pygments_lexer": "ipython3",
   "version": "3.7.16"
  }
 },
 "nbformat": 4,
 "nbformat_minor": 5
}
