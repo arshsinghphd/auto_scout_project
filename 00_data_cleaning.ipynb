{
 "cells": [
  {
   "cell_type": "markdown",
   "id": "1c919439",
   "metadata": {},
   "source": [
    "# Car Prices "
   ]
  },
  {
   "cell_type": "markdown",
   "id": "981ff766",
   "metadata": {},
   "source": [
    "## Prelims: import file, rename cols, explore missing data\n",
    "\n",
    "### 1. Import JSON file\n",
    "\n",
    "Observations:\n",
    "1. The data is in json lines format - each line is a dictionary.\n",
    "2. This format seems to be very efficient, since the notepad++ file is able to open and view this version of the file. \n",
    "3. When I saved the usual 'record' oriented json format the file is too unweildy for notepad++ to allow opening and viewing."
   ]
  },
  {
   "cell_type": "code",
   "execution_count": 1,
   "id": "d2794919",
   "metadata": {},
   "outputs": [],
   "source": [
    "import json\n",
    "import matplotlib.pyplot as plt\n",
    "import numpy as np\n",
    "import os\n",
    "import pandas as pd\n",
    "import re\n",
    "from time import perf_counter"
   ]
  },
  {
   "cell_type": "code",
   "execution_count": 2,
   "id": "cee7de89",
   "metadata": {},
   "outputs": [
    {
     "name": "stdout",
     "output_type": "stream",
     "text": [
      "1.2914866000000003 s\n"
     ]
    }
   ],
   "source": [
    "t0 = perf_counter()\n",
    "df = pd.read_json('scout_car.json', lines=True)\n",
    "t1 = perf_counter()\n",
    "print(f'{t1 - t0} s')"
   ]
  },
  {
   "cell_type": "markdown",
   "id": "f76875e4",
   "metadata": {},
   "source": [
    "### 2. Fix names: \n",
    "1. make all names lowercase\n",
    "2. remove 'of ', 'nr ', '.', and '&'\n",
    "3. remove trailing spaces and newline characters\n",
    "4. replace internal space(s) with underscore"
   ]
  },
  {
   "cell_type": "code",
   "execution_count": 3,
   "id": "cb489f0e",
   "metadata": {},
   "outputs": [
    {
     "data": {
      "text/plain": [
       "Index(['url', 'make_model', 'short_description', 'body_type', 'price', 'vat',\n",
       "       'km', 'registration', 'prev_owner', 'kW', 'hp', 'Type',\n",
       "       'Previous Owners', 'Next Inspection', 'Inspection new', 'Warranty',\n",
       "       'Full Service', 'Non-smoking Vehicle', 'null', 'Make', 'Model',\n",
       "       'Offer Number', 'First Registration', 'Body Color', 'Paint Type',\n",
       "       'Body Color Original', 'Upholstery', 'Body', 'Nr. of Doors',\n",
       "       'Nr. of Seats', 'Model Code', 'Gearing Type', 'Displacement',\n",
       "       'Cylinders', 'Weight', 'Drive chain', 'Fuel', 'Consumption',\n",
       "       'CO2 Emission', 'Emission Class', '\\nComfort & Convenience\\n',\n",
       "       '\\nEntertainment & Media\\n', '\\nExtras\\n', '\\nSafety & Security\\n',\n",
       "       'description', 'Emission Label', 'Gears', 'Country version',\n",
       "       'Electricity consumption', 'Last Service Date', 'Other Fuel Types',\n",
       "       'Availability', 'Last Timing Belt Service Date', 'Available from'],\n",
       "      dtype='object')"
      ]
     },
     "execution_count": 3,
     "metadata": {},
     "output_type": "execute_result"
    }
   ],
   "source": [
    "df.columns"
   ]
  },
  {
   "cell_type": "code",
   "execution_count": 4,
   "id": "cd2ccbd3",
   "metadata": {},
   "outputs": [],
   "source": [
    "new_cols = {}\n",
    "for c in df.columns:\n",
    "    c1 = c.lower()\n",
    "    c1 = re.sub('\\.|&|of ','',c1)\n",
    "    c1 = c1.strip()\n",
    "    c1 = re.sub('\\s+','_',c1)\n",
    "    #print(c1)\n",
    "    new_cols[c] = c1"
   ]
  },
  {
   "cell_type": "code",
   "execution_count": 5,
   "id": "c410b376",
   "metadata": {},
   "outputs": [],
   "source": [
    "df.rename(columns=new_cols, inplace=True)"
   ]
  },
  {
   "cell_type": "code",
   "execution_count": 6,
   "id": "e61f48a1",
   "metadata": {},
   "outputs": [],
   "source": [
    "df.to_json('data.json', orient='records', lines=False)"
   ]
  },
  {
   "cell_type": "code",
   "execution_count": 7,
   "id": "b5ac0cae",
   "metadata": {},
   "outputs": [
    {
     "name": "stdout",
     "output_type": "stream",
     "text": [
      "1.2545235999999997 s\n"
     ]
    }
   ],
   "source": [
    "t0 = perf_counter()\n",
    "df2 = pd.read_json('data.json', orient='records', lines=False)\n",
    "t1 = perf_counter()\n",
    "print(f'{t1-t0} s')"
   ]
  },
  {
   "cell_type": "markdown",
   "id": "a65f6441",
   "metadata": {},
   "source": [
    "json(l) and json not lines are both are efficient to store and open using pandas, 1.3s vs 1.1s.\n",
    "\n",
    "json will not open in notepad++, while json(l) will. "
   ]
  },
  {
   "cell_type": "markdown",
   "id": "ad53813b",
   "metadata": {},
   "source": [
    "### 3. Exploring data\n",
    "\n",
    "Observations:\n",
    "1. 54 columns.\n",
    "2. Looking at heads of 10 cols at a time, many of the features are stored as lists rather than int or strings. These go not look like missing when we use coount() method. E.g. \"null\" is all empty lists, but appear to have no missing values when using count().\n",
    "3. Some of the feature lists seem to be differerent features. This may be consistent through all rows or not. I will have to check."
   ]
  },
  {
   "cell_type": "code",
   "execution_count": 8,
   "id": "07b5ddf8",
   "metadata": {},
   "outputs": [
    {
     "name": "stdout",
     "output_type": "stream",
     "text": [
      "['url', 'make_model', 'short_description', 'body_type', 'price', 'vat', 'km', 'registration', 'prev_owner', 'kw', 'hp', 'type', 'previous_owners', 'next_inspection', 'inspection_new', 'warranty', 'full_service', 'non-smoking_vehicle', 'null', 'make', 'model', 'offer_number', 'first_registration', 'body_color', 'paint_type', 'body_color_original', 'upholstery', 'body', 'nr_doors', 'nr_seats', 'model_code', 'gearing_type', 'displacement', 'cylinders', 'weight', 'drive_chain', 'fuel', 'consumption', 'co2_emission', 'emission_class', 'comfort_convenience', 'entertainment_media', 'extras', 'safety_security', 'description', 'emission_label', 'gears', 'country_version', 'electricity_consumption', 'last_service_date', 'other_fuel_types', 'availability', 'last_timing_belt_service_date', 'available_from']\n"
     ]
    }
   ],
   "source": [
    "cols = [i for i in df.columns]\n",
    "print(cols)"
   ]
  },
  {
   "cell_type": "code",
   "execution_count": 9,
   "id": "34ad4f85",
   "metadata": {},
   "outputs": [
    {
     "name": "stdout",
     "output_type": "stream",
     "text": [
      "index\tn_notNA\tCol_Name\n",
      "0\t15919\turl\n",
      "1\t15919\tmake_model\n",
      "4\t15919\tprice\n",
      "6\t15919\tkm\n",
      "7\t15919\tregistration\n",
      "10\t15919\thp\n",
      "18\t15919\tnull\n",
      "19\t15919\tmake\n",
      "20\t15919\tmodel\n",
      "31\t15919\tgearing_type\n",
      "36\t15919\tfuel\n",
      "44\t15919\tdescription\n",
      "11\t15917\ttype\n",
      "2\t15873\tshort_description\n",
      "3\t15859\tbody_type\n",
      "27\t15859\tbody\n",
      "28\t15707\tnr_doors\n",
      "32\t15423\tdisplacement\n",
      "23\t15322\tbody_color\n",
      "40\t14999\tcomfort_convenience\n",
      "29\t14942\tnr_seats\n",
      "43\t14937\tsafety_security\n",
      "41\t14545\tentertainment_media\n",
      "22\t14322\tfirst_registration\n",
      "38\t14111\tco2_emission\n",
      "37\t14013\tconsumption\n",
      "42\t12957\textras\n",
      "39\t12898\temission_class\n",
      "21\t12744\toffer_number\n",
      "26\t12199\tupholstery\n",
      "25\t12160\tbody_color_original\n",
      "5\t11406\tvat\n",
      "46\t11207\tgears\n",
      "15\t10499\twarranty\n",
      "33\t10239\tcylinders\n",
      "24\t10147\tpaint_type\n",
      "12\t9279\tprevious_owners\n",
      "8\t9091\tprev_owner\n",
      "35\t9061\tdrive_chain\n",
      "34\t8945\tweight\n",
      "16\t8215\tfull_service\n",
      "47\t7586\tcountry_version\n",
      "17\t7177\tnon-smoking_vehicle\n",
      "30\t4978\tmodel_code\n",
      "45\t3985\temission_label\n",
      "14\t3932\tinspection_new\n",
      "13\t3535\tnext_inspection\n",
      "50\t880\tother_fuel_types\n",
      "51\t635\tavailability\n",
      "49\t566\tlast_service_date\n",
      "53\t272\tavailable_from\n",
      "48\t137\telectricity_consumption\n",
      "52\t16\tlast_timing_belt_service_date\n",
      "9\t0\tkw\n"
     ]
    }
   ],
   "source": [
    "missing = {}\n",
    "for i,c in enumerate(cols):\n",
    "    m = df[c].count()\n",
    "    missing[c] = (i, m)\n",
    "missing = [(missing[k][0], k, missing[k][1]) for k in missing.keys()]\n",
    "missing.sort(key = lambda t: -1*t[2])\n",
    "print('index\\tn_notNA\\tCol_Name')\n",
    "for c in missing:\n",
    "    print(f'{c[0]}\\t{c[2]}\\t{c[1]}')"
   ]
  },
  {
   "cell_type": "markdown",
   "id": "3b39c2b5",
   "metadata": {},
   "source": [
    "ignore is a list of features that can be ignored.\n",
    "\n",
    "to_encode is a list of features that need to be made into dummy variables"
   ]
  },
  {
   "cell_type": "code",
   "execution_count": 10,
   "id": "94255e03",
   "metadata": {},
   "outputs": [],
   "source": [
    "ignore = set()\n",
    "to_encode = set()"
   ]
  },
  {
   "cell_type": "markdown",
   "id": "947a544a",
   "metadata": {},
   "source": [
    "Explore electricity_consumption, n = 137\n",
    "\n",
    "same entry of [\\n0 kWh/100 km (comb)\\n] all 137 times it occurs. "
   ]
  },
  {
   "cell_type": "code",
   "execution_count": 11,
   "id": "07cf7a60",
   "metadata": {},
   "outputs": [
    {
     "ename": "TypeError",
     "evalue": "unhashable type: 'list'",
     "output_type": "error",
     "traceback": [
      "\u001b[1;31m---------------------------------------------------------------------------\u001b[0m",
      "\u001b[1;31mTypeError\u001b[0m                                 Traceback (most recent call last)",
      "\u001b[1;32mpandas\\_libs\\hashtable_class_helper.pxi\u001b[0m in \u001b[0;36mpandas._libs.hashtable.PyObjectHashTable.map_locations\u001b[1;34m()\u001b[0m\n",
      "\u001b[1;31mTypeError\u001b[0m: unhashable type: 'list'"
     ]
    },
    {
     "name": "stderr",
     "output_type": "stream",
     "text": [
      "Exception ignored in: 'pandas._libs.index.IndexEngine._call_map_locations'\n",
      "Traceback (most recent call last):\n",
      "  File \"pandas\\_libs\\hashtable_class_helper.pxi\", line 5231, in pandas._libs.hashtable.PyObjectHashTable.map_locations\n",
      "TypeError: unhashable type: 'list'\n"
     ]
    },
    {
     "data": {
      "text/plain": [
       "[\\n0 kWh/100 km (comb)\\n]    137\n",
       "Name: electricity_consumption, dtype: int64"
      ]
     },
     "execution_count": 11,
     "metadata": {},
     "output_type": "execute_result"
    }
   ],
   "source": [
    "df['electricity_consumption'].value_counts()"
   ]
  },
  {
   "cell_type": "code",
   "execution_count": 12,
   "id": "b5e2ebe2",
   "metadata": {},
   "outputs": [],
   "source": [
    "ignore.add('electricity_consumption')"
   ]
  },
  {
   "cell_type": "markdown",
   "id": "0fa8e3b7",
   "metadata": {},
   "source": [
    "Explore available_from, n = 272\n",
    "\n",
    "dates in dd/mm/yy format"
   ]
  },
  {
   "cell_type": "code",
   "execution_count": 13,
   "id": "21f4af44",
   "metadata": {},
   "outputs": [
    {
     "data": {
      "text/plain": [
       "\\n31/08/19\\n    98\n",
       "\\n30/07/19\\n    25\n",
       "\\n15/08/19\\n    24\n",
       "\\n16/09/19\\n    14\n",
       "\\n29/06/19\\n    12\n",
       "\\n01/07/19\\n    11\n",
       "\\n28/06/19\\n    10\n",
       "\\n19/08/19\\n     7\n",
       "\\n10/09/19\\n     6\n",
       "\\n26/06/19\\n     5\n",
       "\\n27/06/19\\n     5\n",
       "\\n10/11/19\\n     5\n",
       "\\n08/07/19\\n     4\n",
       "\\n25/10/19\\n     3\n",
       "\\n15/07/19\\n     3\n",
       "\\n01/08/19\\n     3\n",
       "\\n04/07/19\\n     2\n",
       "\\n05/08/19\\n     2\n",
       "\\n24/08/19\\n     2\n",
       "\\n16/07/19\\n     2\n",
       "\\n20/07/19\\n     2\n",
       "\\n05/07/19\\n     2\n",
       "\\n30/06/19\\n     2\n",
       "\\n30/09/19\\n     1\n",
       "\\n31/10/19\\n     1\n",
       "\\n27/07/19\\n     1\n",
       "\\n02/07/19\\n     1\n",
       "\\n10/07/19\\n     1\n",
       "\\n19/07/19\\n     1\n",
       "\\n24/07/19\\n     1\n",
       "\\n29/07/19\\n     1\n",
       "\\n29/09/19\\n     1\n",
       "\\n18/08/19\\n     1\n",
       "\\n14/09/19\\n     1\n",
       "\\n18/07/19\\n     1\n",
       "\\n16/08/19\\n     1\n",
       "\\n24/09/19\\n     1\n",
       "\\n17/08/19\\n     1\n",
       "\\n10/10/19\\n     1\n",
       "\\n06/12/19\\n     1\n",
       "\\n03/12/19\\n     1\n",
       "\\n05/12/19\\n     1\n",
       "\\n11/08/19\\n     1\n",
       "\\n10/12/19\\n     1\n",
       "\\n01/09/19\\n     1\n",
       "\\n03/08/19\\n     1\n",
       "Name: available_from, dtype: int64"
      ]
     },
     "execution_count": 13,
     "metadata": {},
     "output_type": "execute_result"
    }
   ],
   "source": [
    "df['available_from'].value_counts()"
   ]
  },
  {
   "cell_type": "code",
   "execution_count": 14,
   "id": "c0f09bc1",
   "metadata": {},
   "outputs": [],
   "source": [
    "ignore.add(\"available_from\")"
   ]
  },
  {
   "cell_type": "markdown",
   "id": "bd0c47ce",
   "metadata": {},
   "source": [
    "Explore availability, n = 635/16,000\n",
    "\n",
    "format: \"in \" int followed by \" days from ordering\"\n",
    "\n",
    "ignore availability"
   ]
  },
  {
   "cell_type": "code",
   "execution_count": 15,
   "id": "da22123c",
   "metadata": {},
   "outputs": [
    {
     "data": {
      "text/plain": [
       "\\nin 90 days from ordering\\n     196\n",
       "\\nin 120 days from ordering\\n    182\n",
       "\\nin 1 day from ordering\\n        51\n",
       "\\nin 5 days from ordering\\n       35\n",
       "\\nin 3 days from ordering\\n       35\n",
       "\\nin 180 days from ordering\\n     24\n",
       "\\nin 14 days from ordering\\n      24\n",
       "\\nin 7 days from ordering\\n       20\n",
       "\\nin 150 days from ordering\\n     18\n",
       "\\nin 2 days from ordering\\n       16\n",
       "\\nin 60 days from ordering\\n      13\n",
       "\\nin 42 days from ordering\\n      10\n",
       "\\nin 21 days from ordering\\n       8\n",
       "\\nin 4 days from ordering\\n        2\n",
       "\\nin 6 days from ordering\\n        1\n",
       "Name: availability, dtype: int64"
      ]
     },
     "execution_count": 15,
     "metadata": {},
     "output_type": "execute_result"
    }
   ],
   "source": [
    "df['availability'].value_counts()"
   ]
  },
  {
   "cell_type": "code",
   "execution_count": 16,
   "id": "d31ed66e",
   "metadata": {},
   "outputs": [],
   "source": [
    "ignore.add(\"availability\")"
   ]
  },
  {
   "cell_type": "markdown",
   "id": "bcbcbad7",
   "metadata": {},
   "source": [
    "Explore last_service_date (n = 566 compared to ~16000)\n",
    "\n",
    "mostly lists, seems to have the i=0 of last service data in the format mm/yy, buy also have other features mixed up. Once in a while a non-list\n",
    "\n",
    "Euro 6 seems to be \"emission_class\" in a handful of cases (5-6) these seem to have been placed in last_service_date column instead of \"emission_class\". Can be ignored.\n",
    "\n",
    "and C02/km is \"co2_emission\" and these can be ignored\n",
    "\n",
    "Sometimes color (Green) (Blue) these can be ignored\n",
    "\n",
    "last_service_date may be ignored"
   ]
  },
  {
   "cell_type": "code",
   "execution_count": 17,
   "id": "0ef348bc",
   "metadata": {},
   "outputs": [
    {
     "ename": "TypeError",
     "evalue": "unhashable type: 'list'",
     "output_type": "error",
     "traceback": [
      "\u001b[1;31m---------------------------------------------------------------------------\u001b[0m",
      "\u001b[1;31mTypeError\u001b[0m                                 Traceback (most recent call last)",
      "\u001b[1;32mpandas\\_libs\\hashtable_class_helper.pxi\u001b[0m in \u001b[0;36mpandas._libs.hashtable.PyObjectHashTable.map_locations\u001b[1;34m()\u001b[0m\n",
      "\u001b[1;31mTypeError\u001b[0m: unhashable type: 'list'"
     ]
    },
    {
     "name": "stderr",
     "output_type": "stream",
     "text": [
      "Exception ignored in: 'pandas._libs.index.IndexEngine._call_map_locations'\n",
      "Traceback (most recent call last):\n",
      "  File \"pandas\\_libs\\hashtable_class_helper.pxi\", line 5231, in pandas._libs.hashtable.PyObjectHashTable.map_locations\n",
      "TypeError: unhashable type: 'list'\n"
     ]
    },
    {
     "data": {
      "text/plain": [
       "[\\n02/2019\\n, \\nEuro 6\\n]                 23\n",
       "[\\n05/2019\\n, \\nEuro 6\\n]                 16\n",
       "[\\n01/2018\\n, \\n118 g CO2/km (comb)\\n]    15\n",
       "[\\n03/2019\\n, \\nEuro 6\\n]                 15\n",
       "[\\n06/2019\\n, \\nEuro 6\\n]                 13\n",
       "                                          ..\n",
       "[\\n01/2017\\n, \\n95 g CO2/km (comb)\\n]      1\n",
       "[\\n06/2019\\n, \\n87 g CO2/km (comb)\\n]      1\n",
       "[\\n10/2018\\n, \\n100 g CO2/km (comb)\\n]     1\n",
       "[\\n02/2018\\n, \\n97 g CO2/km (comb)\\n]      1\n",
       "[\\n03/2019\\n, \\n120 g CO2/km (comb)\\n]     1\n",
       "Name: last_service_date, Length: 266, dtype: int64"
      ]
     },
     "execution_count": 17,
     "metadata": {},
     "output_type": "execute_result"
    }
   ],
   "source": [
    "df['last_service_date'].value_counts()"
   ]
  },
  {
   "cell_type": "code",
   "execution_count": 18,
   "id": "a8ceb8be",
   "metadata": {},
   "outputs": [
    {
     "ename": "TypeError",
     "evalue": "unhashable type: 'list'",
     "output_type": "error",
     "traceback": [
      "\u001b[1;31m---------------------------------------------------------------------------\u001b[0m",
      "\u001b[1;31mTypeError\u001b[0m                                 Traceback (most recent call last)",
      "\u001b[1;32mpandas\\_libs\\hashtable_class_helper.pxi\u001b[0m in \u001b[0;36mpandas._libs.hashtable.PyObjectHashTable.map_locations\u001b[1;34m()\u001b[0m\n",
      "\u001b[1;31mTypeError\u001b[0m: unhashable type: 'list'"
     ]
    },
    {
     "name": "stderr",
     "output_type": "stream",
     "text": [
      "Exception ignored in: 'pandas._libs.index.IndexEngine._call_map_locations'\n",
      "Traceback (most recent call last):\n",
      "  File \"pandas\\_libs\\hashtable_class_helper.pxi\", line 5231, in pandas._libs.hashtable.PyObjectHashTable.map_locations\n",
      "TypeError: unhashable type: 'list'\n"
     ]
    },
    {
     "data": {
      "text/plain": [
       "[\\n02/2019\\n, \\nEuro 6\\n]                 23\n",
       "[\\n05/2019\\n, \\nEuro 6\\n]                 16\n",
       "[\\n01/2018\\n, \\n118 g CO2/km (comb)\\n]    15\n",
       "[\\n03/2019\\n, \\nEuro 6\\n]                 15\n",
       "[\\n06/2019\\n, \\nEuro 6\\n]                 13\n",
       "                                          ..\n",
       "[\\n01/2017\\n, \\n95 g CO2/km (comb)\\n]      1\n",
       "[\\n06/2019\\n, \\n87 g CO2/km (comb)\\n]      1\n",
       "[\\n10/2018\\n, \\n100 g CO2/km (comb)\\n]     1\n",
       "[\\n02/2018\\n, \\n97 g CO2/km (comb)\\n]      1\n",
       "[\\n03/2019\\n, \\n120 g CO2/km (comb)\\n]     1\n",
       "Name: last_service_date, Length: 266, dtype: int64"
      ]
     },
     "execution_count": 18,
     "metadata": {},
     "output_type": "execute_result"
    }
   ],
   "source": [
    "lsd_vc = df['last_service_date'].value_counts()\n",
    "lsd_vc\n"
   ]
  },
  {
   "cell_type": "code",
   "execution_count": 19,
   "id": "cbf4b295",
   "metadata": {},
   "outputs": [
    {
     "data": {
      "text/plain": [
       "[['\\n02/2019\\n', '\\nEuro 6\\n'],\n",
       " ['\\n05/2019\\n', '\\nEuro 6\\n'],\n",
       " ['\\n01/2018\\n', '\\n118 g CO2/km (comb)\\n'],\n",
       " ['\\n03/2019\\n', '\\nEuro 6\\n'],\n",
       " ['\\n06/2019\\n', '\\nEuro 6\\n'],\n",
       " ['\\n04/2019\\n', '\\nEuro 6\\n'],\n",
       " ['\\n01/2019\\n', '\\nEuro 6\\n'],\n",
       " ['\\n12/2018\\n', '\\nEuro 6\\n'],\n",
       " ['\\n10/2018\\n', '\\nEuro 6\\n'],\n",
       " '\\n02/2019\\n',\n",
       " ['\\n05/2018\\n', '\\nEuro 6\\n'],\n",
       " ['\\n11/2018\\n', '\\nEuro 6\\n'],\n",
       " ['\\n05/2019\\n', '\\n120 g CO2/km (comb)\\n'],\n",
       " ['\\n09/2018\\n', '\\nEuro 6\\n'],\n",
       " ['\\n08/2018\\n', '\\nEuro 6\\n'],\n",
       " ['\\n06/2018\\n', '\\nEuro 6\\n'],\n",
       " '\\n12/2018\\n',\n",
       " '\\n05/2019\\n',\n",
       " ['\\n04/2018\\n', '\\nEuro 6\\n'],\n",
       " ['\\n12/2018\\n'],\n",
       " '\\n03/2019\\n',\n",
       " ['\\n05/2019\\n', '\\n127 g CO2/km (comb)\\n'],\n",
       " ['\\n01/2019\\n', '\\n120 g CO2/km (comb)\\n'],\n",
       " ['\\n06/2019\\n', '\\n104 g CO2/km (comb)\\n'],\n",
       " ['\\n01/2019\\n'],\n",
       " ['\\n07/2018\\n', '\\nEuro 6\\n'],\n",
       " ['\\n06/2017\\n', '\\n114 g CO2/km (comb)\\n'],\n",
       " '\\n04/2019\\n',\n",
       " '\\n07/2018\\n',\n",
       " ['\\n03/2019\\n', '\\n99 g CO2/km (comb)\\n'],\n",
       " '\\n06/2018\\n',\n",
       " ['\\n04/2019\\n'],\n",
       " ['\\n01/2019\\n', '\\n127 g CO2/km (comb)\\n'],\n",
       " ['\\n07/2018\\n', '\\nEuro 6d-TEMP\\n'],\n",
       " ['\\n02/2019\\n'],\n",
       " ['\\n05/2018\\n', '\\n99 g CO2/km (comb)\\n'],\n",
       " ['\\n06/2019\\n', '\\n124 g CO2/km (comb)\\n'],\n",
       " ['\\n04/2019\\n', '\\nEuro 6d-TEMP\\n'],\n",
       " ['\\n05/2018\\n', '\\n130 g CO2/km (comb)\\n'],\n",
       " ['\\n04/2019\\n', '\\n104 g CO2/km (comb)\\n'],\n",
       " ['\\n05/2017\\n', '\\n118 g CO2/km (comb)\\n'],\n",
       " ['\\n03/2018\\n', '\\nEuro 6\\n'],\n",
       " ['\\n02/2017\\n', '\\n102 g CO2/km (comb)\\n'],\n",
       " ['\\n02/2019\\n', '\\nEuro 6d-TEMP\\n'],\n",
       " ['\\n05/2019\\n', '\\n99 g CO2/km (comb)\\n'],\n",
       " '\\n06/2019\\n',\n",
       " ['\\n05/2019\\n', '\\n134 g CO2/km (comb)\\n'],\n",
       " ['\\n04/2019\\n', '\\n124 g CO2/km (comb)\\n'],\n",
       " ['\\n04/2019\\n', '\\n120 g CO2/km (comb)\\n'],\n",
       " ['\\n01/2019\\n', '\\n92 g CO2/km (comb)\\n'],\n",
       " ['\\n02/2019\\n', '\\n116 g CO2/km (comb)\\n'],\n",
       " ['\\n05/2019\\n', '\\n85 g CO2/km (comb)\\n'],\n",
       " '\\n10/2018\\n',\n",
       " '\\n11/2018\\n',\n",
       " ['\\n04/2019\\n', '\\n119 g CO2/km (comb)\\n'],\n",
       " ['\\n01/2019\\n', '\\n118 g CO2/km (comb)\\n'],\n",
       " ['\\n06/2019\\n', '\\n107 g CO2/km (comb)\\n'],\n",
       " ['\\n07/2018\\n'],\n",
       " ['\\n04/2019\\n', '\\n135 g CO2/km (comb)\\n'],\n",
       " ['\\n06/2019\\n', '\\n119 g CO2/km (comb)\\n'],\n",
       " ['\\n09/2018\\n', '\\n99 g CO2/km (comb)\\n'],\n",
       " '\\n04/2018\\n',\n",
       " ['\\n02/2018\\n', '\\nEuro 6\\n'],\n",
       " ['\\n01/2019\\n', '\\n115 g CO2/km (comb)\\n'],\n",
       " '\\n08/2018\\n',\n",
       " ['\\n01/2019\\n', '\\n99 g CO2/km (comb)\\n'],\n",
       " ['\\n06/2019\\n', '\\n92 g CO2/km (comb)\\n'],\n",
       " ['\\n01/2018\\n', '\\n95 g CO2/km (comb)\\n'],\n",
       " ['\\n05/2019\\n', '\\n124 g CO2/km (comb)\\n'],\n",
       " ['\\n05/2019\\n', '\\n97 g CO2/km (comb)\\n'],\n",
       " ['\\n12/2018\\n', '\\n99 g CO2/km (comb)\\n'],\n",
       " ['\\n06/2019\\n', '\\n97 g CO2/km (comb)\\n'],\n",
       " ['\\n02/2019\\n', '\\n120 g CO2/km (comb)\\n'],\n",
       " ['\\n09/2018\\n'],\n",
       " ['\\n03/2019\\n', '\\n97 g CO2/km (comb)\\n'],\n",
       " ['\\n05/2018\\n', '\\n124 g CO2/km (comb)\\n'],\n",
       " ['\\n01/2019\\n', '\\n97 g CO2/km (comb)\\n'],\n",
       " ['\\n10/2018\\n', '\\n106 g CO2/km (comb)\\n'],\n",
       " ['\\n06/2019\\n', '\\n108 g CO2/km (comb)\\n'],\n",
       " ['\\n10/2017\\n', '\\nEuro 6\\n'],\n",
       " ['\\n10/2018\\n', '\\n97 g CO2/km (comb)\\n'],\n",
       " '\\n09/2018\\n',\n",
       " ['\\n11/2018\\n'],\n",
       " ['\\n03/2018\\n', '\\n99 g CO2/km (comb)\\n'],\n",
       " ['\\n11/2018\\n', '\\n99 g CO2/km (comb)\\n'],\n",
       " ['\\n06/2019\\n', '\\n110 g CO2/km (comb)\\n'],\n",
       " ['\\n03/2019\\n', '\\n140 g CO2/km (comb)\\n'],\n",
       " ['\\n01/2019\\n', '\\nEuro 6d-TEMP\\n'],\n",
       " '\\n01/2019\\n',\n",
       " ['\\n01/2019\\n', '\\n119 g CO2/km (comb)\\n'],\n",
       " ['\\n05/2018\\n', '\\n104 g CO2/km (comb)\\n'],\n",
       " ['\\n04/2019\\n', '\\n112 g CO2/km (comb)\\n'],\n",
       " ['\\n04/2019\\n', '\\n109 g CO2/km (comb)\\n'],\n",
       " ['\\n06/2019\\n', '\\n134 g CO2/km (comb)\\n'],\n",
       " ['\\n03/2018\\n', '\\n114 g CO2/km (comb)\\n'],\n",
       " ['\\n03/2019\\n', '\\nEuro 6d-TEMP\\n'],\n",
       " ['\\n06/2018\\n', '\\n109 g CO2/km (comb)\\n'],\n",
       " ['\\n11/2018\\n', '\\n104 g CO2/km (comb)\\n'],\n",
       " ['\\n02/2019\\n', '\\n110 g CO2/km (comb)\\n'],\n",
       " ['\\n06/2018\\n', '\\n131 g CO2/km (comb)\\n'],\n",
       " ['\\n03/2019\\n', '\\n110 g CO2/km (comb)\\n'],\n",
       " ['\\n02/2019\\n', '\\nEuro 4\\n'],\n",
       " ['\\n06/2016\\n', '\\n149 g CO2/km (comb)\\n'],\n",
       " ['\\n05/2019\\n', '\\n169 g CO2/km (comb)\\n'],\n",
       " ['\\n05/2019\\n', '\\n118 g CO2/km (comb)\\n'],\n",
       " ['\\n06/2019\\n', '\\n129 g CO2/km (comb)\\n'],\n",
       " ['\\n05/2019\\n', '\\n126 g CO2/km (comb)\\n'],\n",
       " ['\\n04/2018\\n', '\\n124 g CO2/km (comb)\\n'],\n",
       " ['\\n04/2019\\n', '\\n4 (Green)\\n'],\n",
       " ['\\n08/2018\\n', '\\n4 (Green)\\n'],\n",
       " ['\\n03/2019\\n', '\\n128 g CO2/km (comb)\\n'],\n",
       " ['\\n05/2019\\n', '\\nEuro 6d-TEMP\\n'],\n",
       " ['\\n06/2018\\n', '\\n124 g CO2/km (comb)\\n'],\n",
       " ['\\n03/2019\\n', '\\n126 g CO2/km (comb)\\n'],\n",
       " ['\\n02/2019\\n', '\\n137 g CO2/km (comb)\\n'],\n",
       " ['\\n04/2018\\n', '\\n4 (Green)\\n'],\n",
       " ['\\n08/2018\\n', '\\n127 g CO2/km (comb)\\n'],\n",
       " ['\\n07/2017\\n', '\\nEuro 6\\n'],\n",
       " ['\\n03/2018\\n', '\\n104 g CO2/km (comb)\\n'],\n",
       " ['\\n04/2019\\n', '\\n127 g CO2/km (comb)\\n'],\n",
       " ['\\n12/2018\\n', '\\n104 g CO2/km (comb)\\n'],\n",
       " ['\\n04/2019\\n', '\\n92 g CO2/km (comb)\\n'],\n",
       " ['\\n01/2019\\n', '\\n85 g CO2/km (comb)\\n'],\n",
       " ['\\n06/2018\\n', '\\n135 g CO2/km (comb)\\n'],\n",
       " ['\\n03/2019\\n', '\\n85 g CO2/km (comb)\\n'],\n",
       " ['\\n10/2018\\n', '\\n135 g CO2/km (comb)\\n'],\n",
       " ['\\n02/2019\\n', '\\n135 g CO2/km (comb)\\n'],\n",
       " ['\\n02/2019\\n', '\\n114 g CO2/km (comb)\\n'],\n",
       " ['\\n03/2019\\n', '\\n127 g CO2/km (comb)\\n'],\n",
       " ['\\n06/2018\\n', '\\n120 g CO2/km (comb)\\n'],\n",
       " ['\\n02/2019\\n', '\\nEuro 6d\\n'],\n",
       " ['\\n03/2018\\n', '\\n140 g CO2/km (comb)\\n'],\n",
       " ['\\n12/2017\\n', '\\n120 g CO2/km (comb)\\n'],\n",
       " ['\\n03/2019\\n', '\\nEuro 5\\n'],\n",
       " '\\n07/2017\\n',\n",
       " '\\n07/2019\\n',\n",
       " ['\\n11/2017\\n', '\\nEuro 6\\n'],\n",
       " ['\\n04/2017\\n', '\\n120 g CO2/km (comb)\\n'],\n",
       " ['\\n07/2018\\n', '\\nEuro 6d\\n'],\n",
       " ['\\n05/2018\\n', '\\n116 g CO2/km (comb)\\n'],\n",
       " ['\\n04/2016\\n', '\\nEuro 6\\n'],\n",
       " ['\\n07/2018\\n', '\\n127 g CO2/km (comb)\\n'],\n",
       " ['\\n06/2019\\n', '\\n127 g CO2/km (comb)\\n'],\n",
       " ['\\n11/2019\\n', '\\nEuro 6\\n'],\n",
       " ['\\n09/2018\\n', '\\n92 g CO2/km (comb)\\n'],\n",
       " ['\\n04/2018\\n'],\n",
       " ['\\n07/2018\\n', '\\nEuro 6c\\n'],\n",
       " ['\\n08/2018\\n', '\\n138 g CO2/km (comb)\\n'],\n",
       " ['\\n03/2019\\n', '\\n145 g CO2/km (comb)\\n'],\n",
       " ['\\n05/2019\\n', '\\n133 g CO2/km (comb)\\n'],\n",
       " ['\\n09/2018\\n', '\\nEuro 6d-TEMP\\n'],\n",
       " ['\\n01/2019\\n', '\\n133 g CO2/km (comb)\\n'],\n",
       " ['\\n04/2018\\n', '\\n133 g CO2/km (comb)\\n'],\n",
       " ['\\n03/2019\\n', '\\nEuro 6c\\n'],\n",
       " ['\\n06/2019\\n', '\\n128 g CO2/km (comb)\\n'],\n",
       " ['\\n10/2019\\n', '\\n120 g CO2/km (comb)\\n'],\n",
       " ['\\n06/2019\\n', '\\n85 g CO2/km (comb)\\n'],\n",
       " ['\\n04/2019\\n',\n",
       "  '\\n',\n",
       "  '5.6 l/100 km (comb)',\n",
       "  '\\n',\n",
       "  '7.2 l/100 km (city)',\n",
       "  '\\n',\n",
       "  '4.7 l/100 km (country)',\n",
       "  '\\n'],\n",
       " ['\\n02/2019\\n', '\\n127 g CO2/km (comb)\\n'],\n",
       " ['\\n02/2019\\n', '\\n92 g CO2/km (comb)\\n'],\n",
       " ['\\n06/2019\\n', '\\n120 g CO2/km (comb)\\n'],\n",
       " ['\\n10/2018\\n', '\\n127 g CO2/km (comb)\\n'],\n",
       " ['\\n03/2019\\n', '\\n135 g CO2/km (comb)\\n'],\n",
       " ['\\n05/2019\\n', '\\n135 g CO2/km (comb)\\n'],\n",
       " ['\\n07/2018\\n', '\\n92 g CO2/km (comb)\\n'],\n",
       " ['\\n04/2019\\n', '\\n85 g CO2/km (comb)\\n'],\n",
       " ['\\n06/2019\\n', '\\nEuro 6d-TEMP\\n'],\n",
       " ['\\n04/2019\\n', '\\n130 g CO2/km (comb)\\n'],\n",
       " ['\\n05/2018\\n', '\\nEuro 6d-TEMP\\n'],\n",
       " ['\\n01/2019\\n', '\\n103 g CO2/km (comb)\\n'],\n",
       " ['\\n05/2016\\n', '\\n99 g CO2/km (comb)\\n'],\n",
       " ['\\n01/2019\\n', '\\n108 g CO2/km (comb)\\n'],\n",
       " ['\\n04/2016\\n', '\\n99 g CO2/km (comb)\\n'],\n",
       " ['\\n12/2018\\n', '\\n102 g CO2/km (comb)\\n'],\n",
       " ['\\n03/2018\\n', '\\n4 (Green)\\n'],\n",
       " ['\\n01/2018\\n', '\\nEuro 6\\n'],\n",
       " ['\\n06/2019\\n', '\\n94 g CO2/km (comb)\\n'],\n",
       " ['\\n03/2019\\n', '\\n119 g CO2/km (comb)\\n'],\n",
       " ['\\n05/2019\\n', '\\n103 g CO2/km (comb)\\n'],\n",
       " ['\\n03/2019\\n', '\\n104 g CO2/km (comb)\\n'],\n",
       " ['\\n10/2018\\n', '\\n99 g CO2/km (comb)\\n'],\n",
       " ['\\n07/2018\\n', '\\n114 g CO2/km (comb)\\n'],\n",
       " ['\\n12/2018\\n', '\\n128 g CO2/km (comb)\\n'],\n",
       " ['\\n02/2019\\n', '\\n103 g CO2/km (comb)\\n'],\n",
       " ['\\n06/2018\\n', '\\n99 g CO2/km (comb)\\n'],\n",
       " ['\\n10/2017\\n', '\\n102 g CO2/km (comb)\\n'],\n",
       " ['\\n01/2019\\n', '\\n114 g CO2/km (comb)\\n'],\n",
       " ['\\n01/2017\\n', '\\n102 g CO2/km (comb)\\n'],\n",
       " ['\\n01/2019\\n', '\\n106 g CO2/km (comb)\\n'],\n",
       " ['\\n06/2019\\n', '\\n102 g CO2/km (comb)\\n'],\n",
       " ['\\n12/2017\\n', '\\n105 g CO2/km (comb)\\n'],\n",
       " ['\\n10/2018\\n'],\n",
       " ['\\n04/2019\\n', '\\n128 g CO2/km (comb)\\n'],\n",
       " ['\\n04/2019\\n', '\\n107 g CO2/km (comb)\\n'],\n",
       " ['\\n04/2018\\n', '\\n104 g CO2/km (comb)\\n'],\n",
       " ['\\n06/2018\\n', '\\n102 g CO2/km (comb)\\n'],\n",
       " ['\\n03/2019\\n', '\\n5 (Blue)\\n'],\n",
       " ['\\n06/2017\\n'],\n",
       " ['\\n01/2018\\n', '\\n114 g CO2/km (comb)\\n'],\n",
       " ['\\n05/2019\\n', '\\n109 g CO2/km (comb)\\n'],\n",
       " ['\\n05/2019\\n', '\\n101 g CO2/km (comb)\\n'],\n",
       " ['\\n02/2019\\n', '\\n4 (Green)\\n'],\n",
       " ['\\n06/2017\\n', '\\n102 g CO2/km (comb)\\n'],\n",
       " ['\\n01/2019\\n', '\\n98 g CO2/km (comb)\\n'],\n",
       " ['\\n03/2016\\n', '\\nEuro 6\\n'],\n",
       " ['\\n07/2018\\n', '\\n97 g CO2/km (comb)\\n'],\n",
       " ['\\n06/2019\\n', '\\n4 (Green)\\n'],\n",
       " ['\\n10/2018\\n', '\\n94 g CO2/km (comb)\\n'],\n",
       " ['\\n04/2019\\n', '\\n90 g CO2/km (comb)\\n'],\n",
       " ['\\n07/2018\\n', '\\n102 g CO2/km (comb)\\n'],\n",
       " ['\\n09/2018\\n', '\\n97 g CO2/km (comb)\\n'],\n",
       " '\\n02/2018\\n',\n",
       " ['\\n12/2017\\n', '\\nEuro 6\\n'],\n",
       " ['\\n01/2019\\n', '\\n110 g CO2/km (comb)\\n'],\n",
       " ['\\n02/2019\\n', '\\n97 g CO2/km (comb)\\n'],\n",
       " ['\\n01/2019\\n', '\\n91 g CO2/km (comb)\\n'],\n",
       " ['\\n01/2017\\n', '\\n107 g CO2/km (comb)\\n'],\n",
       " '\\n01/2018\\n',\n",
       " '\\n05/2018\\n',\n",
       " ['\\n06/2019\\n', '\\n99 g CO2/km (comb)\\n'],\n",
       " ['\\n06/2019\\n'],\n",
       " ['\\n06/2017\\n', '\\n92 g CO2/km (comb)\\n'],\n",
       " ['\\n12/2018\\n', '\\n97 g CO2/km (comb)\\n'],\n",
       " ['\\n05/2019\\n', '\\n93 g CO2/km (comb)\\n'],\n",
       " ['\\n02/2019\\n', '\\n102 g CO2/km (comb)\\n'],\n",
       " ['\\n05/2019\\n', '\\n4 (Green)\\n'],\n",
       " ['\\n03/2019\\n', '\\n92 g CO2/km (comb)\\n'],\n",
       " ['\\n06/2019\\n', '\\n121 g CO2/km (comb)\\n'],\n",
       " ['\\n05/2019\\n', '\\n89 g CO2/km (comb)\\n'],\n",
       " ['\\n02/2018\\n', '\\n128 g CO2/km (comb)\\n'],\n",
       " ['\\n02/2019\\n', '\\n128 g CO2/km (comb)\\n'],\n",
       " ['\\n06/2018\\n', '\\n149 g CO2/km (comb)\\n'],\n",
       " ['\\n03/2019\\n',\n",
       "  '\\n',\n",
       "  '4.8 l/100 km (comb)',\n",
       "  '\\n',\n",
       "  '5.8 l/100 km (city)',\n",
       "  '\\n',\n",
       "  '4.1 l/100 km (country)',\n",
       "  '\\n'],\n",
       " ['\\n10/2018\\n', '\\n149 g CO2/km (comb)\\n'],\n",
       " ['\\n08/2018\\n', '\\nEuro 6d-TEMP\\n'],\n",
       " ['\\n03/2019\\n', '\\n139 g CO2/km (comb)\\n'],\n",
       " ['\\n04/2018\\n', '\\n123 g CO2/km (comb)\\n'],\n",
       " ['\\n04/2018\\n', '\\n110 g CO2/km (comb)\\n'],\n",
       " ['\\n03/2019\\n', '\\n129 g CO2/km (comb)\\n'],\n",
       " ['\\n12/2018\\n', '\\n5 (Blue)\\n'],\n",
       " ['\\n11/2017\\n', '\\nEuro 6d-TEMP\\n'],\n",
       " ['\\n10/2018\\n', '\\n124 g CO2/km (comb)\\n'],\n",
       " ['\\n01/2019\\n', '\\n104 g CO2/km (comb)\\n'],\n",
       " ['\\n07/2018\\n', '\\n107 g CO2/km (comb)\\n'],\n",
       " ['\\n05/2019\\n'],\n",
       " ['\\n01/2019\\n', '\\n107 g CO2/km (comb)\\n'],\n",
       " ['\\n06/2018\\n', '\\n108 g CO2/km (comb)\\n'],\n",
       " ['\\n12/2018\\n', '\\n111 g CO2/km (comb)\\n'],\n",
       " ['\\n04/2018\\n', '\\n103 g CO2/km (comb)\\n'],\n",
       " ['\\n05/2019\\n', '\\n106 g CO2/km (comb)\\n'],\n",
       " ['\\n11/2018\\n', '\\n106 g CO2/km (comb)\\n'],\n",
       " ['\\n01/2019\\n', '\\n124 g CO2/km (comb)\\n'],\n",
       " ['\\n05/2019\\n', '\\n119 g CO2/km (comb)\\n'],\n",
       " ['\\n09/2019\\n', '\\nEuro 6\\n'],\n",
       " ['\\n12/2018\\n', '\\n119 g CO2/km (comb)\\n'],\n",
       " ['\\n06/2018\\n', '\\n104 g CO2/km (comb)\\n'],\n",
       " '\\n09/2017\\n',\n",
       " ['\\n03/2019\\n', '\\n112 g CO2/km (comb)\\n'],\n",
       " ['\\n11/2018\\n', '\\n97 g CO2/km (comb)\\n'],\n",
       " ['\\n08/2019\\n', '\\nEuro 6\\n'],\n",
       " ['\\n06/2016\\n', '\\n92 g CO2/km (comb)\\n'],\n",
       " ['\\n01/2017\\n', '\\n95 g CO2/km (comb)\\n'],\n",
       " ['\\n06/2019\\n', '\\n87 g CO2/km (comb)\\n'],\n",
       " ['\\n10/2018\\n', '\\n100 g CO2/km (comb)\\n'],\n",
       " ['\\n02/2018\\n', '\\n97 g CO2/km (comb)\\n'],\n",
       " ['\\n03/2019\\n', '\\n120 g CO2/km (comb)\\n']]"
      ]
     },
     "execution_count": 19,
     "metadata": {},
     "output_type": "execute_result"
    }
   ],
   "source": [
    "lsd_vc_index = [i for i in lsd_vc.index]\n",
    "lsd_vc_index"
   ]
  },
  {
   "cell_type": "code",
   "execution_count": 20,
   "id": "114b9f06",
   "metadata": {},
   "outputs": [
    {
     "ename": "TypeError",
     "evalue": "unhashable type: 'list'",
     "output_type": "error",
     "traceback": [
      "\u001b[1;31m---------------------------------------------------------------------------\u001b[0m",
      "\u001b[1;31mTypeError\u001b[0m                                 Traceback (most recent call last)",
      "\u001b[1;32mpandas\\_libs\\hashtable_class_helper.pxi\u001b[0m in \u001b[0;36mpandas._libs.hashtable.PyObjectHashTable.map_locations\u001b[1;34m()\u001b[0m\n",
      "\u001b[1;31mTypeError\u001b[0m: unhashable type: 'list'"
     ]
    },
    {
     "name": "stderr",
     "output_type": "stream",
     "text": [
      "Exception ignored in: 'pandas._libs.index.IndexEngine._call_map_locations'\n",
      "Traceback (most recent call last):\n",
      "  File \"pandas\\_libs\\hashtable_class_helper.pxi\", line 5231, in pandas._libs.hashtable.PyObjectHashTable.map_locations\n",
      "TypeError: unhashable type: 'list'\n"
     ]
    },
    {
     "data": {
      "text/plain": [
       "[\\nEuro 6\\n]          10139\n",
       "[\\nEuro 6d-TEMP\\n]     1845\n",
       "[[], [], []]            607\n",
       "[\\nEuro 6c\\n]           127\n",
       "[\\nEuro 5\\n]             78\n",
       "[\\nEuro 6d\\n]            62\n",
       "[\\nEuro 4\\n]             40\n",
       "Name: emission_class, dtype: int64"
      ]
     },
     "execution_count": 20,
     "metadata": {},
     "output_type": "execute_result"
    }
   ],
   "source": [
    "df['emission_class'].value_counts()"
   ]
  },
  {
   "cell_type": "code",
   "execution_count": 21,
   "id": "2e219496",
   "metadata": {},
   "outputs": [
    {
     "ename": "TypeError",
     "evalue": "unhashable type: 'list'",
     "output_type": "error",
     "traceback": [
      "\u001b[1;31m---------------------------------------------------------------------------\u001b[0m",
      "\u001b[1;31mTypeError\u001b[0m                                 Traceback (most recent call last)",
      "\u001b[1;32mpandas\\_libs\\hashtable_class_helper.pxi\u001b[0m in \u001b[0;36mpandas._libs.hashtable.PyObjectHashTable.map_locations\u001b[1;34m()\u001b[0m\n",
      "\u001b[1;31mTypeError\u001b[0m: unhashable type: 'list'"
     ]
    },
    {
     "name": "stderr",
     "output_type": "stream",
     "text": [
      "Exception ignored in: 'pandas._libs.index.IndexEngine._call_map_locations'\n",
      "Traceback (most recent call last):\n",
      "  File \"pandas\\_libs\\hashtable_class_helper.pxi\", line 5231, in pandas._libs.hashtable.PyObjectHashTable.map_locations\n",
      "TypeError: unhashable type: 'list'\n"
     ]
    },
    {
     "data": {
      "text/plain": [
       "[\\n01/2018\\n, \\n118 g CO2/km (comb)\\n]                                                             15\n",
       "[\\n05/2017\\n, \\n118 g CO2/km (comb)\\n]                                                              3\n",
       "[\\n05/2018\\n, \\n130 g CO2/km (comb)\\n]                                                              3\n",
       "[\\n02/2017\\n, \\n102 g CO2/km (comb)\\n]                                                              3\n",
       "[\\n12/2018\\n]                                                                                       3\n",
       "[\\n06/2017\\n, \\n114 g CO2/km (comb)\\n]                                                              3\n",
       "[\\n01/2019\\n, \\n127 g CO2/km (comb)\\n]                                                              2\n",
       "[\\n02/2019\\n]                                                                                       2\n",
       "[\\n04/2019\\n]                                                                                       2\n",
       "[\\n06/2019\\n, \\nEuro 6\\n]                                                                           2\n",
       "[\\n06/2019\\n, \\n110 g CO2/km (comb)\\n]                                                              2\n",
       "[\\n06/2018\\n, \\n102 g CO2/km (comb)\\n]                                                              1\n",
       "[\\n06/2018\\n, \\n131 g CO2/km (comb)\\n]                                                              1\n",
       "[\\n02/2019\\n, \\nEuro 6d-TEMP\\n]                                                                     1\n",
       "[\\n08/2018\\n, \\n138 g CO2/km (comb)\\n]                                                              1\n",
       "[\\n04/2018\\n]                                                                                       1\n",
       "[\\n10/2018\\n, \\nEuro 6\\n]                                                                           1\n",
       "[\\n07/2018\\n]                                                                                       1\n",
       "[\\n04/2019\\n, \\n, 5.6 l/100 km (comb), \\n, 7.2 l/100 km (city), \\n, 4.7 l/100 km (country), \\n]     1\n",
       "[\\n02/2019\\n, \\n137 g CO2/km (comb)\\n]                                                              1\n",
       "[\\n04/2019\\n, \\n112 g CO2/km (comb)\\n]                                                              1\n",
       "[\\n04/2019\\n, \\nEuro 6\\n]                                                                           1\n",
       "[\\n03/2019\\n, \\n128 g CO2/km (comb)\\n]                                                              1\n",
       "[\\n06/2017\\n]                                                                                       1\n",
       "[\\n04/2018\\n, \\n123 g CO2/km (comb)\\n]                                                              1\n",
       "[\\n10/2018\\n, \\n149 g CO2/km (comb)\\n]                                                              1\n",
       "[\\n02/2019\\n, \\n128 g CO2/km (comb)\\n]                                                              1\n",
       "[\\n02/2018\\n, \\n128 g CO2/km (comb)\\n]                                                              1\n",
       "[\\n06/2018\\n, \\n104 g CO2/km (comb)\\n]                                                              1\n",
       "[\\n04/2018\\n, \\nEuro 6\\n]                                                                           1\n",
       "[\\n05/2019\\n, \\nEuro 6\\n]                                                                           1\n",
       "[\\n05/2019\\n, \\n109 g CO2/km (comb)\\n]                                                              1\n",
       "[\\n01/2019\\n]                                                                                       1\n",
       "Name: last_service_date, dtype: int64"
      ]
     },
     "execution_count": 21,
     "metadata": {},
     "output_type": "execute_result"
    }
   ],
   "source": [
    "df['last_service_date'][df['emission_class'].isna()].value_counts()"
   ]
  },
  {
   "cell_type": "code",
   "execution_count": 22,
   "id": "fb39da12",
   "metadata": {},
   "outputs": [
    {
     "ename": "TypeError",
     "evalue": "unhashable type: 'list'",
     "output_type": "error",
     "traceback": [
      "\u001b[1;31m---------------------------------------------------------------------------\u001b[0m",
      "\u001b[1;31mTypeError\u001b[0m                                 Traceback (most recent call last)",
      "\u001b[1;32mpandas\\_libs\\hashtable_class_helper.pxi\u001b[0m in \u001b[0;36mpandas._libs.hashtable.PyObjectHashTable.map_locations\u001b[1;34m()\u001b[0m\n",
      "\u001b[1;31mTypeError\u001b[0m: unhashable type: 'list'"
     ]
    },
    {
     "name": "stderr",
     "output_type": "stream",
     "text": [
      "Exception ignored in: 'pandas._libs.index.IndexEngine._call_map_locations'\n",
      "Traceback (most recent call last):\n",
      "  File \"pandas\\_libs\\hashtable_class_helper.pxi\", line 5231, in pandas._libs.hashtable.PyObjectHashTable.map_locations\n",
      "TypeError: unhashable type: 'list'\n"
     ]
    },
    {
     "data": {
      "text/plain": [
       "[\\n120 g CO2/km (comb)\\n]      740\n",
       "[[], [], []]                   628\n",
       "[\\n99 g CO2/km (comb)\\n]       545\n",
       "[\\n97 g CO2/km (comb)\\n]       537\n",
       "[\\n104 g CO2/km (comb)\\n]      501\n",
       "                              ... \n",
       "[\\n14 g CO2/km (comb)\\n]         1\n",
       "[\\n1,060 g CO2/km (comb)\\n]      1\n",
       "[\\n51 g CO2/km (comb)\\n]         1\n",
       "[\\n165 g CO2/km (comb)\\n]        1\n",
       "[\\n193 g CO2/km (comb)\\n]        1\n",
       "Name: co2_emission, Length: 123, dtype: int64"
      ]
     },
     "execution_count": 22,
     "metadata": {},
     "output_type": "execute_result"
    }
   ],
   "source": [
    "df['co2_emission'].value_counts()"
   ]
  },
  {
   "cell_type": "code",
   "execution_count": 23,
   "id": "6eabb566",
   "metadata": {
    "scrolled": false
   },
   "outputs": [
    {
     "ename": "TypeError",
     "evalue": "unhashable type: 'list'",
     "output_type": "error",
     "traceback": [
      "\u001b[1;31m---------------------------------------------------------------------------\u001b[0m",
      "\u001b[1;31mTypeError\u001b[0m                                 Traceback (most recent call last)",
      "\u001b[1;32mpandas\\_libs\\hashtable_class_helper.pxi\u001b[0m in \u001b[0;36mpandas._libs.hashtable.PyObjectHashTable.map_locations\u001b[1;34m()\u001b[0m\n",
      "\u001b[1;31mTypeError\u001b[0m: unhashable type: 'list'"
     ]
    },
    {
     "name": "stderr",
     "output_type": "stream",
     "text": [
      "Exception ignored in: 'pandas._libs.index.IndexEngine._call_map_locations'\n",
      "Traceback (most recent call last):\n",
      "  File \"pandas\\_libs\\hashtable_class_helper.pxi\", line 5231, in pandas._libs.hashtable.PyObjectHashTable.map_locations\n",
      "TypeError: unhashable type: 'list'\n"
     ]
    },
    {
     "data": {
      "text/plain": [
       "[\\n04/2019\\n]                4\n",
       "[\\n01/2019\\n]                4\n",
       "[\\n12/2018\\n]                3\n",
       "[\\n02/2019\\n]                3\n",
       "[\\n09/2018\\n]                2\n",
       "[\\n11/2018\\n]                2\n",
       "\\n05/2019\\n                  1\n",
       "[\\n06/2019\\n]                1\n",
       "[\\n12/2018\\n, \\nEuro 6\\n]    1\n",
       "[\\n07/2018\\n]                1\n",
       "[\\n09/2018\\n, \\nEuro 6\\n]    1\n",
       "Name: last_service_date, dtype: int64"
      ]
     },
     "execution_count": 23,
     "metadata": {},
     "output_type": "execute_result"
    }
   ],
   "source": [
    "df['last_service_date'][df['co2_emission'].isna()].value_counts()"
   ]
  },
  {
   "cell_type": "code",
   "execution_count": 24,
   "id": "8080cec9",
   "metadata": {},
   "outputs": [],
   "source": [
    "ignore.add('last_service_date')"
   ]
  },
  {
   "cell_type": "markdown",
   "id": "d0f65a54",
   "metadata": {},
   "source": [
    "Exlore 'other_fuel_types'\n",
    "\n",
    "Empty lists, can be ignored."
   ]
  },
  {
   "cell_type": "code",
   "execution_count": 25,
   "id": "4c6a1d64",
   "metadata": {},
   "outputs": [
    {
     "ename": "TypeError",
     "evalue": "unhashable type: 'list'",
     "output_type": "error",
     "traceback": [
      "\u001b[1;31m---------------------------------------------------------------------------\u001b[0m",
      "\u001b[1;31mTypeError\u001b[0m                                 Traceback (most recent call last)",
      "\u001b[1;32mpandas\\_libs\\hashtable_class_helper.pxi\u001b[0m in \u001b[0;36mpandas._libs.hashtable.PyObjectHashTable.map_locations\u001b[1;34m()\u001b[0m\n",
      "\u001b[1;31mTypeError\u001b[0m: unhashable type: 'list'"
     ]
    },
    {
     "name": "stderr",
     "output_type": "stream",
     "text": [
      "Exception ignored in: 'pandas._libs.index.IndexEngine._call_map_locations'\n",
      "Traceback (most recent call last):\n",
      "  File \"pandas\\_libs\\hashtable_class_helper.pxi\", line 5231, in pandas._libs.hashtable.PyObjectHashTable.map_locations\n",
      "TypeError: unhashable type: 'list'\n"
     ]
    },
    {
     "data": {
      "text/plain": [
       "[[], [], []]    880\n",
       "Name: other_fuel_types, dtype: int64"
      ]
     },
     "execution_count": 25,
     "metadata": {},
     "output_type": "execute_result"
    }
   ],
   "source": [
    "df['other_fuel_types'].value_counts()"
   ]
  },
  {
   "cell_type": "code",
   "execution_count": 26,
   "id": "293a56c6",
   "metadata": {},
   "outputs": [],
   "source": [
    "ignore.add('other_fuel_types')"
   ]
  },
  {
   "cell_type": "markdown",
   "id": "aa8ded54",
   "metadata": {},
   "source": [
    "Explore 'next_inspection' n = 3535\n",
    "\n",
    "most often mm/yyyy entry. Sometimes repeated c02_emission or emission_label. Not much new information. "
   ]
  },
  {
   "cell_type": "code",
   "execution_count": 27,
   "id": "a03a6cce",
   "metadata": {},
   "outputs": [
    {
     "ename": "TypeError",
     "evalue": "unhashable type: 'list'",
     "output_type": "error",
     "traceback": [
      "\u001b[1;31m---------------------------------------------------------------------------\u001b[0m",
      "\u001b[1;31mTypeError\u001b[0m                                 Traceback (most recent call last)",
      "\u001b[1;32mpandas\\_libs\\hashtable_class_helper.pxi\u001b[0m in \u001b[0;36mpandas._libs.hashtable.PyObjectHashTable.map_locations\u001b[1;34m()\u001b[0m\n",
      "\u001b[1;31mTypeError\u001b[0m: unhashable type: 'list'"
     ]
    },
    {
     "name": "stderr",
     "output_type": "stream",
     "text": [
      "Exception ignored in: 'pandas._libs.index.IndexEngine._call_map_locations'\n",
      "Traceback (most recent call last):\n",
      "  File \"pandas\\_libs\\hashtable_class_helper.pxi\", line 5231, in pandas._libs.hashtable.PyObjectHashTable.map_locations\n",
      "TypeError: unhashable type: 'list'\n"
     ]
    },
    {
     "data": {
      "text/plain": [
       "\\n04/2022\\n                               62\n",
       "\\n03/2021\\n                               38\n",
       "\\n03/2022\\n                               36\n",
       "\\n06/2021\\n                               34\n",
       "\\n01/2022\\n                               32\n",
       "                                          ..\n",
       "[\\n12/2018\\n, \\n97 g CO2/km (comb)\\n]      1\n",
       "[\\n03/2022\\n, \\n1 (No sticker)\\n]          1\n",
       "[\\n05/2021\\n, \\n93 g CO2/km (comb)\\n]      1\n",
       "[\\n06/2021\\n, \\n93 g CO2/km (comb)\\n]      1\n",
       "[\\n01/2022\\n, \\n168 g CO2/km (comb)\\n]     1\n",
       "Name: next_inspection, Length: 1399, dtype: int64"
      ]
     },
     "execution_count": 27,
     "metadata": {},
     "output_type": "execute_result"
    }
   ],
   "source": [
    "df['next_inspection'].value_counts()"
   ]
  },
  {
   "cell_type": "code",
   "execution_count": 28,
   "id": "bddbf48b",
   "metadata": {},
   "outputs": [
    {
     "ename": "TypeError",
     "evalue": "unhashable type: 'list'",
     "output_type": "error",
     "traceback": [
      "\u001b[1;31m---------------------------------------------------------------------------\u001b[0m",
      "\u001b[1;31mTypeError\u001b[0m                                 Traceback (most recent call last)",
      "\u001b[1;32mpandas\\_libs\\hashtable_class_helper.pxi\u001b[0m in \u001b[0;36mpandas._libs.hashtable.PyObjectHashTable.map_locations\u001b[1;34m()\u001b[0m\n",
      "\u001b[1;31mTypeError\u001b[0m: unhashable type: 'list'"
     ]
    },
    {
     "name": "stderr",
     "output_type": "stream",
     "text": [
      "Exception ignored in: 'pandas._libs.index.IndexEngine._call_map_locations'\n",
      "Traceback (most recent call last):\n",
      "  File \"pandas\\_libs\\hashtable_class_helper.pxi\", line 5231, in pandas._libs.hashtable.PyObjectHashTable.map_locations\n",
      "TypeError: unhashable type: 'list'\n"
     ]
    },
    {
     "data": {
      "text/plain": [
       "[\\n06/2021\\n, \\n4 (Green)\\n]    20\n",
       "[\\n05/2021\\n, \\n4 (Green)\\n]    14\n",
       "[\\n06/2021\\n]                   13\n",
       "[\\n03/2021\\n, \\n4 (Green)\\n]    11\n",
       "[\\n06/2021\\n, \\nEuro 6\\n]        7\n",
       "                                ..\n",
       "[\\n11/2019\\n, \\nEuro 6\\n]        1\n",
       "[\\n10/2019\\n, \\n4 (Green)\\n]     1\n",
       "\\n07/2017\\n                      1\n",
       "[\\n02/2021\\n, \\nEuro 6c\\n]       1\n",
       "[\\n10/2020\\n]                    1\n",
       "Name: next_inspection, Length: 82, dtype: int64"
      ]
     },
     "execution_count": 28,
     "metadata": {},
     "output_type": "execute_result"
    }
   ],
   "source": [
    "df['next_inspection'][df['co2_emission'].isna()].value_counts()"
   ]
  },
  {
   "cell_type": "code",
   "execution_count": 29,
   "id": "9d893d95",
   "metadata": {},
   "outputs": [
    {
     "ename": "TypeError",
     "evalue": "unhashable type: 'list'",
     "output_type": "error",
     "traceback": [
      "\u001b[1;31m---------------------------------------------------------------------------\u001b[0m",
      "\u001b[1;31mTypeError\u001b[0m                                 Traceback (most recent call last)",
      "\u001b[1;32mpandas\\_libs\\hashtable_class_helper.pxi\u001b[0m in \u001b[0;36mpandas._libs.hashtable.PyObjectHashTable.map_locations\u001b[1;34m()\u001b[0m\n",
      "\u001b[1;31mTypeError\u001b[0m: unhashable type: 'list'"
     ]
    },
    {
     "name": "stderr",
     "output_type": "stream",
     "text": [
      "Exception ignored in: 'pandas._libs.index.IndexEngine._call_map_locations'\n",
      "Traceback (most recent call last):\n",
      "  File \"pandas\\_libs\\hashtable_class_helper.pxi\", line 5231, in pandas._libs.hashtable.PyObjectHashTable.map_locations\n",
      "TypeError: unhashable type: 'list'\n"
     ]
    },
    {
     "data": {
      "text/plain": [
       "[\\n06/2021\\n, \\n4 (Green)\\n]    20\n",
       "[\\n05/2021\\n, \\n4 (Green)\\n]    14\n",
       "[\\n06/2021\\n]                   13\n",
       "[\\n03/2021\\n, \\n4 (Green)\\n]    11\n",
       "[\\n06/2021\\n, \\nEuro 6\\n]        7\n",
       "[\\n02/2021\\n, \\n4 (Green)\\n]     6\n",
       "[\\n06/2019\\n, \\n4 (Green)\\n]     6\n",
       "[\\n01/2021\\n, \\n4 (Green)\\n]     6\n",
       "[\\n03/2020\\n, \\n4 (Green)\\n]     6\n",
       "[\\n03/2019\\n, \\n4 (Green)\\n]     5\n",
       "\\n03/2022\\n                      5\n",
       "\\n10/2018\\n                      4\n",
       "[\\n04/2021\\n, \\n4 (Green)\\n]     4\n",
       "[\\n02/2019\\n, \\n4 (Green)\\n]     4\n",
       "[\\n05/2019\\n, \\n4 (Green)\\n]     4\n",
       "[\\n04/2019\\n, \\n4 (Green)\\n]     4\n",
       "\\n02/2020\\n                      3\n",
       "[\\n07/2020\\n, \\n4 (Green)\\n]     3\n",
       "[\\n06/2020\\n, \\n4 (Green)\\n]     3\n",
       "\\n03/2017\\n                      3\n",
       "\\n07/2021\\n                      3\n",
       "[\\n02/2020\\n, \\n4 (Green)\\n]     3\n",
       "\\n06/2021\\n                      3\n",
       "[\\n02/2021\\n, \\nEuro 6\\n]        3\n",
       "[\\n10/2020\\n, \\n4 (Green)\\n]     3\n",
       "\\n03/2021\\n                      3\n",
       "\\n02/2021\\n                      2\n",
       "[\\n07/2019\\n, \\n4 (Green)\\n]     2\n",
       "\\n04/2017\\n                      2\n",
       "[\\n11/2020\\n, \\n4 (Green)\\n]     2\n",
       "[\\n08/2019\\n, \\n4 (Green)\\n]     2\n",
       "[\\n11/2018\\n, \\n4 (Green)\\n]     2\n",
       "[\\n07/2018\\n, \\n4 (Green)\\n]     2\n",
       "\\n06/2016\\n                      2\n",
       "[\\n04/2021\\n]                    2\n",
       "\\n01/2021\\n                      2\n",
       "[\\n03/2020\\n]                    2\n",
       "[\\n05/2021\\n]                    2\n",
       "\\n11/2020\\n                      2\n",
       "[\\n04/2019\\n]                    2\n",
       "[\\n08/2020\\n, \\n4 (Green)\\n]     2\n",
       "[\\n11/2019\\n, \\n4 (Green)\\n]     2\n",
       "\\n05/2020\\n                      1\n",
       "[\\n01/2020\\n]                    1\n",
       "[\\n10/2018\\n, \\n4 (Green)\\n]     1\n",
       "[\\n12/2018\\n, \\n4 (Green)\\n]     1\n",
       "[\\n04/2022\\n, \\nEuro 6\\n]        1\n",
       "\\n01/2019\\n                      1\n",
       "[\\n01/2021\\n]                    1\n",
       "[\\n07/2019\\n]                    1\n",
       "Name: next_inspection, dtype: int64"
      ]
     },
     "execution_count": 29,
     "metadata": {},
     "output_type": "execute_result"
    }
   ],
   "source": [
    "df['next_inspection'][df['co2_emission'].isna()].value_counts()[:50]"
   ]
  },
  {
   "cell_type": "code",
   "execution_count": 30,
   "id": "02bc8882",
   "metadata": {},
   "outputs": [
    {
     "ename": "TypeError",
     "evalue": "unhashable type: 'list'",
     "output_type": "error",
     "traceback": [
      "\u001b[1;31m---------------------------------------------------------------------------\u001b[0m",
      "\u001b[1;31mTypeError\u001b[0m                                 Traceback (most recent call last)",
      "\u001b[1;32mpandas\\_libs\\hashtable_class_helper.pxi\u001b[0m in \u001b[0;36mpandas._libs.hashtable.PyObjectHashTable.map_locations\u001b[1;34m()\u001b[0m\n",
      "\u001b[1;31mTypeError\u001b[0m: unhashable type: 'list'"
     ]
    },
    {
     "name": "stderr",
     "output_type": "stream",
     "text": [
      "Exception ignored in: 'pandas._libs.index.IndexEngine._call_map_locations'\n",
      "Traceback (most recent call last):\n",
      "  File \"pandas\\_libs\\hashtable_class_helper.pxi\", line 5231, in pandas._libs.hashtable.PyObjectHashTable.map_locations\n",
      "TypeError: unhashable type: 'list'\n"
     ]
    },
    {
     "data": {
      "text/plain": [
       "\\n04/2022\\n                               35\n",
       "\\n03/2021\\n                               31\n",
       "\\n01/2022\\n                               30\n",
       "\\n03/2022\\n                               29\n",
       "\\n04/2021\\n                               26\n",
       "\\n06/2021\\n                               25\n",
       "\\n05/2021\\n                               24\n",
       "\\n05/2022\\n                               24\n",
       "\\n05/2019\\n                               23\n",
       "[\\n06/2021\\n, \\n97 g CO2/km (comb)\\n]     22\n",
       "[\\n06/2021\\n, \\nEuro 6\\n]                 21\n",
       "[\\n06/2021\\n, \\n119 g CO2/km (comb)\\n]    21\n",
       "\\n03/2020\\n                               20\n",
       "\\n01/2023\\n                               19\n",
       "[\\n06/2021\\n, \\n102 g CO2/km (comb)\\n]    18\n",
       "[\\n05/2021\\n, \\n108 g CO2/km (comb)\\n]    15\n",
       "\\n02/2021\\n                               15\n",
       "[\\n06/2021\\n, \\n99 g CO2/km (comb)\\n]     15\n",
       "\\n02/2022\\n                               14\n",
       "\\n02/2020\\n                               14\n",
       "\\n06/2022\\n                               14\n",
       "\\n09/2021\\n                               14\n",
       "\\n07/2019\\n                               13\n",
       "[\\n06/2021\\n, \\n120 g CO2/km (comb)\\n]    13\n",
       "\\n07/2020\\n                               13\n",
       "[\\n05/2021\\n, \\n102 g CO2/km (comb)\\n]    12\n",
       "[\\n06/2021\\n, \\n110 g CO2/km (comb)\\n]    12\n",
       "[\\n06/2021\\n, \\n108 g CO2/km (comb)\\n]    12\n",
       "\\n04/2019\\n                               12\n",
       "\\n01/2020\\n                               12\n",
       "\\n01/2021\\n                               11\n",
       "[\\n06/2021\\n, \\n112 g CO2/km (comb)\\n]    11\n",
       "[\\n04/2022\\n, \\n113 g CO2/km (comb)\\n]    11\n",
       "[\\n04/2021\\n, \\n97 g CO2/km (comb)\\n]     10\n",
       "[\\n06/2021\\n, \\n141 g CO2/km (comb)\\n]    10\n",
       "[\\n06/2021\\n, \\n104 g CO2/km (comb)\\n]    10\n",
       "[\\n03/2020\\n, \\n123 g CO2/km (comb)\\n]    10\n",
       "[\\n05/2022\\n, \\n129 g CO2/km (comb)\\n]    10\n",
       "\\n04/2020\\n                               10\n",
       "\\n05/2020\\n                               10\n",
       "[\\n02/2021\\n, \\n102 g CO2/km (comb)\\n]    10\n",
       "\\n02/2023\\n                                9\n",
       "[\\n06/2021\\n, \\n125 g CO2/km (comb)\\n]     9\n",
       "[\\n01/2022\\n, \\n113 g CO2/km (comb)\\n]     9\n",
       "[\\n12/2020\\n, \\n109 g CO2/km (comb)\\n]     9\n",
       "[\\n06/2021\\n, \\n109 g CO2/km (comb)\\n]     9\n",
       "\\n09/2019\\n                                9\n",
       "[\\n03/2021\\n, \\n106 g CO2/km (comb)\\n]     9\n",
       "\\n11/2020\\n                                8\n",
       "\\n06/2020\\n                                8\n",
       "Name: next_inspection, dtype: int64"
      ]
     },
     "execution_count": 30,
     "metadata": {},
     "output_type": "execute_result"
    }
   ],
   "source": [
    "df['next_inspection'][df['emission_label'].isna()].value_counts()[:50]\n",
    "# quite a lot of"
   ]
  },
  {
   "cell_type": "code",
   "execution_count": 31,
   "id": "8257c772",
   "metadata": {},
   "outputs": [],
   "source": [
    "ignore.add('next_inspection')"
   ]
  },
  {
   "cell_type": "markdown",
   "id": "88b216b1",
   "metadata": {},
   "source": [
    "Explore 'inspection_new'. N = 3932\n",
    "\n",
    "Mostly lists, index 0 has 'Yes'. Can we assume missing is 'No'?"
   ]
  },
  {
   "cell_type": "code",
   "execution_count": 32,
   "id": "72c76d27",
   "metadata": {
    "scrolled": true
   },
   "outputs": [
    {
     "ename": "TypeError",
     "evalue": "unhashable type: 'list'",
     "output_type": "error",
     "traceback": [
      "\u001b[1;31m---------------------------------------------------------------------------\u001b[0m",
      "\u001b[1;31mTypeError\u001b[0m                                 Traceback (most recent call last)",
      "\u001b[1;32mpandas\\_libs\\hashtable_class_helper.pxi\u001b[0m in \u001b[0;36mpandas._libs.hashtable.PyObjectHashTable.map_locations\u001b[1;34m()\u001b[0m\n",
      "\u001b[1;31mTypeError\u001b[0m: unhashable type: 'list'"
     ]
    },
    {
     "name": "stderr",
     "output_type": "stream",
     "text": [
      "Exception ignored in: 'pandas._libs.index.IndexEngine._call_map_locations'\n",
      "Traceback (most recent call last):\n",
      "  File \"pandas\\_libs\\hashtable_class_helper.pxi\", line 5231, in pandas._libs.hashtable.PyObjectHashTable.map_locations\n",
      "TypeError: unhashable type: 'list'\n"
     ]
    },
    {
     "data": {
      "text/plain": [
       "[\\nYes\\n, \\nEuro 6\\n]                                                                          523\n",
       "\\nYes\\n                                                                                        362\n",
       "[\\nYes\\n, \\n102 g CO2/km (comb)\\n]                                                             174\n",
       "[\\nYes\\n, \\n4 (Green)\\n]                                                                       166\n",
       "[\\nYes\\n, \\nEuro 6d-TEMP\\n]                                                                    134\n",
       "[\\nYes\\n, \\n97 g CO2/km (comb)\\n]                                                               89\n",
       "[\\nYes\\n, \\n0 kWh/100 km (comb)\\n]                                                              86\n",
       "[\\nYes\\n, \\n119 g CO2/km (comb)\\n]                                                              84\n",
       "[\\nYes\\n, \\n128 g CO2/km (comb)\\n]                                                              81\n",
       "[\\nYes\\n]                                                                                       80\n",
       "[\\nYes\\n, \\n104 g CO2/km (comb)\\n]                                                              76\n",
       "[\\nYes\\n, \\n95 g CO2/km (comb)\\n]                                                               58\n",
       "[\\nYes\\n, \\n129 g CO2/km (comb)\\n]                                                              56\n",
       "[\\nYes\\n, \\n126 g CO2/km (comb)\\n]                                                              54\n",
       "[\\nYes\\n, \\n111 g CO2/km (comb)\\n]                                                              54\n",
       "[\\nYes\\n, \\n110 g CO2/km (comb)\\n]                                                              54\n",
       "[\\nYes\\n, \\n114 g CO2/km (comb)\\n]                                                              51\n",
       "[\\nYes\\n, \\n140 g CO2/km (comb)\\n]                                                              48\n",
       "[\\nYes\\n, \\n143 g CO2/km (comb)\\n]                                                              47\n",
       "[\\nYes\\n, \\n141 g CO2/km (comb)\\n]                                                              46\n",
       "[\\nYes\\n, \\n117 g CO2/km (comb)\\n]                                                              43\n",
       "[\\nYes\\n, \\n120 g CO2/km (comb)\\n]                                                              43\n",
       "[\\nYes\\n, \\n130 g CO2/km (comb)\\n]                                                              40\n",
       "[\\nYes\\n, \\n99 g CO2/km (comb)\\n]                                                               40\n",
       "[\\nYes\\n, \\n134 g CO2/km (comb)\\n]                                                              39\n",
       "[\\nYes\\n, \\n139 g CO2/km (comb)\\n]                                                              39\n",
       "[\\nYes\\n, \\n93 g CO2/km (comb)\\n]                                                               38\n",
       "[\\nYes\\n, \\n109 g CO2/km (comb)\\n]                                                              37\n",
       "[\\nYes\\n, \\n150 g CO2/km (comb)\\n]                                                              37\n",
       "[\\nYes\\n, \\n118 g CO2/km (comb)\\n]                                                              35\n",
       "[\\nYes\\n, \\n103 g CO2/km (comb)\\n]                                                              35\n",
       "[\\nYes\\n, \\n, 5.4 l/100 km (comb), \\n, 6.7 l/100 km (city), \\n, 4.6 l/100 km (country), \\n]     34\n",
       "[\\nYes\\n, \\n135 g CO2/km (comb)\\n]                                                              32\n",
       "[\\nYes\\n, \\n125 g CO2/km (comb)\\n]                                                              32\n",
       "[\\nYes\\n, \\n112 g CO2/km (comb)\\n]                                                              31\n",
       "[\\nYes\\n, \\n123 g CO2/km (comb)\\n]                                                              31\n",
       "[\\nYes\\n, \\n145 g CO2/km (comb)\\n]                                                              29\n",
       "[\\nYes\\n, \\n108 g CO2/km (comb)\\n]                                                              29\n",
       "[\\nYes\\n, \\n107 g CO2/km (comb)\\n]                                                              27\n",
       "[\\nYes\\n, \\n98 g CO2/km (comb)\\n]                                                               26\n",
       "[\\nYes\\n, \\n116 g CO2/km (comb)\\n]                                                              26\n",
       "[\\nYes\\n, \\n127 g CO2/km (comb)\\n]                                                              25\n",
       "[\\nYes\\n, \\n101 g CO2/km (comb)\\n]                                                              25\n",
       "[\\nYes\\n, \\n137 g CO2/km (comb)\\n]                                                              25\n",
       "[\\nYes\\n, \\nEuro 6d\\n]                                                                          24\n",
       "[\\nYes\\n, \\n124 g CO2/km (comb)\\n]                                                              24\n",
       "[\\nYes\\n, \\n148 g CO2/km (comb)\\n]                                                              23\n",
       "[\\nYes\\n, \\n147 g CO2/km (comb)\\n]                                                              23\n",
       "[\\nYes\\n, \\n113 g CO2/km (comb)\\n]                                                              23\n",
       "[\\nYes\\n, \\n106 g CO2/km (comb)\\n]                                                              23\n",
       "Name: inspection_new, dtype: int64"
      ]
     },
     "execution_count": 32,
     "metadata": {},
     "output_type": "execute_result"
    }
   ],
   "source": [
    "df['inspection_new'].value_counts()[:50]"
   ]
  },
  {
   "cell_type": "code",
   "execution_count": 33,
   "id": "e802cb46",
   "metadata": {
    "scrolled": true
   },
   "outputs": [
    {
     "ename": "TypeError",
     "evalue": "unhashable type: 'list'",
     "output_type": "error",
     "traceback": [
      "\u001b[1;31m---------------------------------------------------------------------------\u001b[0m",
      "\u001b[1;31mTypeError\u001b[0m                                 Traceback (most recent call last)",
      "\u001b[1;32mpandas\\_libs\\hashtable_class_helper.pxi\u001b[0m in \u001b[0;36mpandas._libs.hashtable.PyObjectHashTable.map_locations\u001b[1;34m()\u001b[0m\n",
      "\u001b[1;31mTypeError\u001b[0m: unhashable type: 'list'"
     ]
    },
    {
     "name": "stderr",
     "output_type": "stream",
     "text": [
      "Exception ignored in: 'pandas._libs.index.IndexEngine._call_map_locations'\n",
      "Traceback (most recent call last):\n",
      "  File \"pandas\\_libs\\hashtable_class_helper.pxi\", line 5231, in pandas._libs.hashtable.PyObjectHashTable.map_locations\n",
      "TypeError: unhashable type: 'list'\n"
     ]
    },
    {
     "data": {
      "text/plain": [
       "[\\nYes\\n, \\n4 (Green)\\n]                                                                       134\n",
       "[\\nYes\\n]                                                                                       64\n",
       "\\nYes\\n                                                                                         26\n",
       "[\\nYes\\n, \\nEuro 6\\n]                                                                           22\n",
       "[\\nYes\\n, \\n, 4.4 l/100 km (comb), \\n, 5.4 l/100 km (city), \\n, 3.8 l/100 km (country), \\n]      1\n",
       "[\\nYes\\n, \\n, 4.5 l/100 km (comb), \\n, 5.5 l/100 km (city), \\n, 3.9 l/100 km (country), \\n]      1\n",
       "[\\nYes\\n, \\nEuro 6d-TEMP\\n]                                                                      1\n",
       "[\\nYes\\n, \\n, 4.9 l/100 km (comb), \\n, \\n, \\n]                                                   1\n",
       "[\\nYes\\n, \\n1 (No sticker)\\n]                                                                    1\n",
       "[\\nYes\\n, \\n, 6.2 l/100 km (comb), \\n, 7.8 l/100 km (city), \\n, 5.3 l/100 km (country), \\n]      1\n",
       "Name: inspection_new, dtype: int64"
      ]
     },
     "execution_count": 33,
     "metadata": {},
     "output_type": "execute_result"
    }
   ],
   "source": [
    "df['inspection_new'][df['co2_emission'].isna()].value_counts()[:50]\n",
    "# no new co2_emission information"
   ]
  },
  {
   "cell_type": "code",
   "execution_count": 34,
   "id": "f4883a4d",
   "metadata": {
    "scrolled": true
   },
   "outputs": [
    {
     "ename": "TypeError",
     "evalue": "unhashable type: 'list'",
     "output_type": "error",
     "traceback": [
      "\u001b[1;31m---------------------------------------------------------------------------\u001b[0m",
      "\u001b[1;31mTypeError\u001b[0m                                 Traceback (most recent call last)",
      "\u001b[1;32mpandas\\_libs\\hashtable_class_helper.pxi\u001b[0m in \u001b[0;36mpandas._libs.hashtable.PyObjectHashTable.map_locations\u001b[1;34m()\u001b[0m\n",
      "\u001b[1;31mTypeError\u001b[0m: unhashable type: 'list'"
     ]
    },
    {
     "name": "stderr",
     "output_type": "stream",
     "text": [
      "Exception ignored in: 'pandas._libs.index.IndexEngine._call_map_locations'\n",
      "Traceback (most recent call last):\n",
      "  File \"pandas\\_libs\\hashtable_class_helper.pxi\", line 5231, in pandas._libs.hashtable.PyObjectHashTable.map_locations\n",
      "TypeError: unhashable type: 'list'\n"
     ]
    },
    {
     "data": {
      "text/plain": [
       "\\n04/2022\\n                                                                                        60\n",
       "\\n03/2021\\n                                                                                        37\n",
       "\\n03/2022\\n                                                                                        35\n",
       "\\n01/2022\\n                                                                                        31\n",
       "[\\n08/2021\\n, \\n135 g CO2/km (comb)\\n]                                                             28\n",
       "                                                                                                   ..\n",
       "[\\n02/2022\\n, \\n160 g CO2/km (comb)\\n]                                                              1\n",
       "[\\n02/2022\\n, \\n130 g CO2/km (comb)\\n]                                                              1\n",
       "[\\n03/2022\\n, \\n, 6.1 l/100 km (comb), \\n, 7.5 l/100 km (city), \\n, 5.2 l/100 km (country), \\n]     1\n",
       "[\\n01/2022\\n, \\n, 6.1 l/100 km (comb), \\n, 7.5 l/100 km (city), \\n, 5.2 l/100 km (country), \\n]     1\n",
       "[\\n01/2022\\n, \\n168 g CO2/km (comb)\\n]                                                              1\n",
       "Name: next_inspection, Length: 1159, dtype: int64"
      ]
     },
     "execution_count": 34,
     "metadata": {},
     "output_type": "execute_result"
    }
   ],
   "source": [
    "df['next_inspection'][df['inspection_new'].isna()].value_counts()"
   ]
  },
  {
   "cell_type": "code",
   "execution_count": 35,
   "id": "9f7f7405",
   "metadata": {},
   "outputs": [
    {
     "ename": "TypeError",
     "evalue": "unhashable type: 'list'",
     "output_type": "error",
     "traceback": [
      "\u001b[1;31m---------------------------------------------------------------------------\u001b[0m",
      "\u001b[1;31mTypeError\u001b[0m                                 Traceback (most recent call last)",
      "\u001b[1;32mpandas\\_libs\\hashtable_class_helper.pxi\u001b[0m in \u001b[0;36mpandas._libs.hashtable.PyObjectHashTable.map_locations\u001b[1;34m()\u001b[0m\n",
      "\u001b[1;31mTypeError\u001b[0m: unhashable type: 'list'"
     ]
    },
    {
     "name": "stderr",
     "output_type": "stream",
     "text": [
      "Exception ignored in: 'pandas._libs.index.IndexEngine._call_map_locations'\n",
      "Traceback (most recent call last):\n",
      "  File \"pandas\\_libs\\hashtable_class_helper.pxi\", line 5231, in pandas._libs.hashtable.PyObjectHashTable.map_locations\n",
      "TypeError: unhashable type: 'list'\n"
     ]
    },
    {
     "data": {
      "text/plain": [
       "[\\nYes\\n, \\nEuro 6\\n]                                                                          523\n",
       "\\nYes\\n                                                                                        362\n",
       "[\\nYes\\n, \\n102 g CO2/km (comb)\\n]                                                             174\n",
       "[\\nYes\\n, \\n4 (Green)\\n]                                                                       166\n",
       "[\\nYes\\n, \\nEuro 6d-TEMP\\n]                                                                    134\n",
       "                                                                                              ... \n",
       "[\\nYes\\n, \\n, 5.2 l/100 km (comb), \\n, 6.7 l/100 km (city), \\n, 4.2 l/100 km (country), \\n]      1\n",
       "[\\nYes\\n, \\n100 g CO2/km (comb)\\n]                                                               1\n",
       "[\\nYes\\n, \\n, 4.9 l/100 km (comb), \\n, 5.9 l/100 km (city), \\n, 4.3 l/100 km (country), \\n]      1\n",
       "[\\nYes\\n, \\n, 5.1 l/100 km (comb), \\n, 6.4 l/100 km (city), \\n, 4.3 l/100 km (country), \\n]      1\n",
       "[\\nYes\\n, \\n172 g CO2/km (comb)\\n]                                                               1\n",
       "Name: inspection_new, Length: 202, dtype: int64"
      ]
     },
     "execution_count": 35,
     "metadata": {},
     "output_type": "execute_result"
    }
   ],
   "source": [
    "df['inspection_new'][df['type'].notna()].value_counts()\n",
    "# no new information about new/used"
   ]
  },
  {
   "cell_type": "code",
   "execution_count": 36,
   "id": "8aafa031",
   "metadata": {},
   "outputs": [],
   "source": [
    "ignore.add('inspection_new')"
   ]
  },
  {
   "cell_type": "markdown",
   "id": "f389716b",
   "metadata": {},
   "source": [
    "Explore 'model_code', n = 5000 or so."
   ]
  },
  {
   "cell_type": "code",
   "execution_count": 37,
   "id": "0d69bf4d",
   "metadata": {},
   "outputs": [
    {
     "ename": "TypeError",
     "evalue": "unhashable type: 'list'",
     "output_type": "error",
     "traceback": [
      "\u001b[1;31m---------------------------------------------------------------------------\u001b[0m",
      "\u001b[1;31mTypeError\u001b[0m                                 Traceback (most recent call last)",
      "\u001b[1;32mpandas\\_libs\\hashtable_class_helper.pxi\u001b[0m in \u001b[0;36mpandas._libs.hashtable.PyObjectHashTable.map_locations\u001b[1;34m()\u001b[0m\n",
      "\u001b[1;31mTypeError\u001b[0m: unhashable type: 'list'"
     ]
    },
    {
     "name": "stderr",
     "output_type": "stream",
     "text": [
      "Exception ignored in: 'pandas._libs.index.IndexEngine._call_map_locations'\n",
      "Traceback (most recent call last):\n",
      "  File \"pandas\\_libs\\hashtable_class_helper.pxi\", line 5231, in pandas._libs.hashtable.PyObjectHashTable.map_locations\n",
      "TypeError: unhashable type: 'list'\n"
     ]
    },
    {
     "data": {
      "text/plain": [
       "[\\n0035/BCB\\n]    268\n",
       "[\\n0588/BNO\\n]    245\n",
       "[\\n0588/BDB\\n]    206\n",
       "[\\n0588/BHX\\n]    188\n",
       "[\\n1844/ADJ\\n]    175\n",
       "                 ... \n",
       "[\\n0000/ACP\\n]      1\n",
       "[\\n0035/BGY\\n]      1\n",
       "[\\n0035/bgp\\n]      1\n",
       "[\\n0035/BGS\\n]      1\n",
       "[\\n3333/BKG\\n]      1\n",
       "Name: model_code, Length: 232, dtype: int64"
      ]
     },
     "execution_count": 37,
     "metadata": {},
     "output_type": "execute_result"
    }
   ],
   "source": [
    "df['model_code'].value_counts()"
   ]
  },
  {
   "cell_type": "code",
   "execution_count": 38,
   "id": "1c72f96a",
   "metadata": {},
   "outputs": [],
   "source": [
    "ignore.add('model_code')"
   ]
  },
  {
   "cell_type": "markdown",
   "id": "c6d4e87a",
   "metadata": {},
   "source": [
    "Explore 'non-smoking_vehicle' n ~ 7200\n",
    "\n",
    "Lists empty at i=0, 1. \n",
    "\n",
    "no new imformation"
   ]
  },
  {
   "cell_type": "code",
   "execution_count": 39,
   "id": "e001b08f",
   "metadata": {},
   "outputs": [
    {
     "ename": "TypeError",
     "evalue": "unhashable type: 'list'",
     "output_type": "error",
     "traceback": [
      "\u001b[1;31m---------------------------------------------------------------------------\u001b[0m",
      "\u001b[1;31mTypeError\u001b[0m                                 Traceback (most recent call last)",
      "\u001b[1;32mpandas\\_libs\\hashtable_class_helper.pxi\u001b[0m in \u001b[0;36mpandas._libs.hashtable.PyObjectHashTable.map_locations\u001b[1;34m()\u001b[0m\n",
      "\u001b[1;31mTypeError\u001b[0m: unhashable type: 'list'"
     ]
    },
    {
     "name": "stderr",
     "output_type": "stream",
     "text": [
      "Exception ignored in: 'pandas._libs.index.IndexEngine._call_map_locations'\n",
      "Traceback (most recent call last):\n",
      "  File \"pandas\\_libs\\hashtable_class_helper.pxi\", line 5231, in pandas._libs.hashtable.PyObjectHashTable.map_locations\n",
      "TypeError: unhashable type: 'list'\n"
     ]
    },
    {
     "data": {
      "text/plain": [
       "[\\n, \\n, \\n136 g CO2/km (comb)\\n]                                                             3\n",
       "[\\n, \\n, \\n110 g CO2/km (comb)\\n]                                                             3\n",
       "[\\n, \\n, \\n148 g CO2/km (comb)\\n]                                                             3\n",
       "[\\n, \\n, \\n157 g CO2/km (comb)\\n]                                                             3\n",
       "[\\n, \\n, \\n95 g CO2/km (comb)\\n]                                                              3\n",
       "[\\n, \\n, \\n119 g CO2/km (comb)\\n]                                                             3\n",
       "[\\n, \\n, \\n149 g CO2/km (comb)\\n]                                                             3\n",
       "[\\n, \\n, \\n166 g CO2/km (comb)\\n]                                                             2\n",
       "[\\n, \\n, \\n138 g CO2/km (comb)\\n]                                                             2\n",
       "[\\n, \\n, \\n121 g CO2/km (comb)\\n]                                                             2\n",
       "[\\n, \\n, \\n111 g CO2/km (comb)\\n]                                                             2\n",
       "[\\n, \\n, \\n90 g CO2/km (comb)\\n]                                                              2\n",
       "[\\n, \\n, \\n142 g CO2/km (comb)\\n]                                                             2\n",
       "[\\n, \\n, \\n125 g CO2/km (comb)\\n]                                                             2\n",
       "[\\n, \\n, \\n134 g CO2/km (comb)\\n]                                                             2\n",
       "[\\n, \\n, \\n, 5.2 l/100 km (comb), \\n, 6.4 l/100 km (city), \\n, 4.4 l/100 km (country), \\n]    2\n",
       "[\\n, \\n, \\n, 6.5 l/100 km (comb), \\n, 8.5 l/100 km (city), \\n, 5.4 l/100 km (country), \\n]    1\n",
       "[\\n, \\n, \\n146 g CO2/km (comb)\\n]                                                             1\n",
       "[\\n, \\n, \\n189 g CO2/km (comb)\\n]                                                             1\n",
       "[\\n, \\n, \\n, 6.1 l/100 km (comb), \\n, 7.7 l/100 km (city), \\n, 5.2 l/100 km (country), \\n]    1\n",
       "[\\n, \\n, \\n, 6.3 l/100 km (comb), \\n, 8 l/100 km (city), \\n, 5.3 l/100 km (country), \\n]      1\n",
       "[\\n, \\n, \\n154 g CO2/km (comb)\\n]                                                             1\n",
       "[\\n, \\n, \\n, 6.5 l/100 km (comb), \\n, 7.9 l/100 km (city), \\n, 5.6 l/100 km (country), \\n]    1\n",
       "[\\n, \\n, \\n, 6.4 l/100 km (comb), \\n, 8.1 l/100 km (city), \\n, 5.4 l/100 km (country), \\n]    1\n",
       "[\\n, \\n, \\n122 g CO2/km (comb)\\n]                                                             1\n",
       "[\\n, \\n, \\n82 g CO2/km (comb)\\n]                                                              1\n",
       "[\\n, \\n, \\n, 1.6 l/100 km (comb), \\n, \\n, \\n]                                                 1\n",
       "[\\n, \\n, \\n172 g CO2/km (comb)\\n]                                                             1\n",
       "[\\n, \\n, \\n161 g CO2/km (comb)\\n]                                                             1\n",
       "[\\n, \\n, \\n156 g CO2/km (comb)\\n]                                                             1\n",
       "[\\n, \\n, \\n169 g CO2/km (comb)\\n]                                                             1\n",
       "[\\n, \\n, \\n, 6.1 l/100 km (comb), \\n, 7.8 l/100 km (city), \\n, 5.1 l/100 km (country), \\n]    1\n",
       "[\\n, \\n, \\n152 g CO2/km (comb)\\n]                                                             1\n",
       "[\\n, \\n, \\n144 g CO2/km (comb)\\n]                                                             1\n",
       "[\\n, \\n, \\n132 g CO2/km (comb)\\n]                                                             1\n",
       "[\\n, \\n, \\n159 g CO2/km (comb)\\n]                                                             1\n",
       "[\\n, \\n, \\n, 5.6 l/100 km (comb), \\n, 7.3 l/100 km (city), \\n, 4.7 l/100 km (country), \\n]    1\n",
       "[\\n, \\n, \\n158 g CO2/km (comb)\\n]                                                             1\n",
       "[\\n, \\n, \\n150 g CO2/km (comb)\\n]                                                             1\n",
       "[\\n, \\n, \\n, 6.2 l/100 km (comb), \\n, 7.9 l/100 km (city), \\n, 5.3 l/100 km (country), \\n]    1\n",
       "[\\n, \\n, \\n91 g CO2/km (comb)\\n]                                                              1\n",
       "[\\n, \\n, \\n101 g CO2/km (comb)\\n]                                                             1\n",
       "[\\n, \\n, \\n, 5.7 l/100 km (comb), \\n, 7.3 l/100 km (city), \\n, 4.7 l/100 km (country), \\n]    1\n",
       "[\\n, \\n, \\n175 g CO2/km (comb)\\n]                                                             1\n",
       "Name: non-smoking_vehicle, dtype: int64"
      ]
     },
     "execution_count": 39,
     "metadata": {},
     "output_type": "execute_result"
    }
   ],
   "source": [
    "df['non-smoking_vehicle'].value_counts()[50:]"
   ]
  },
  {
   "cell_type": "code",
   "execution_count": 40,
   "id": "78641c10",
   "metadata": {},
   "outputs": [],
   "source": [
    "ignore.add('non_smoking_vehicle')"
   ]
  },
  {
   "cell_type": "markdown",
   "id": "27c8fab3",
   "metadata": {},
   "source": [
    "Explore 'country_version', n ~ 7500\n",
    "\n",
    "We should not ignore this.\n",
    "\n",
    "We can make this a binary of country_version with True or False for most frequent countries.\n",
    "\n",
    "Why is this infomation missing for 8000+ cars? No pattern in missing data by make, registration or first_registration, .\n",
    "\n",
    "When encoding, we will not consider any countries with freq. less than 100. Club these into 'other'\n",
    "\n",
    "Czech Republic      52\n",
    "Poland              49\n",
    "France              38\n",
    "Denmark             33\n",
    "Hungary             28\n",
    "Japan                8\n",
    "Slovakia             4\n",
    "Croatia              4\n",
    "Sweden               3\n",
    "Romania              2\n",
    "Bulgaria             2\n",
    "Luxembourg           1\n",
    "Switzerland          1\n",
    "Slovenia             1\n",
    "Egypt                1\n",
    "Serbia               1"
   ]
  },
  {
   "cell_type": "code",
   "execution_count": 41,
   "id": "024169be",
   "metadata": {},
   "outputs": [
    {
     "data": {
      "text/plain": [
       "Germany           4502\n",
       "Italy             1038\n",
       "European Union     507\n",
       "Netherlands        464\n",
       "Spain              325\n",
       "Belgium            314\n",
       "Austria            208\n",
       "Czech Republic      52\n",
       "Poland              49\n",
       "France              38\n",
       "Denmark             33\n",
       "Hungary             28\n",
       "Japan                8\n",
       "Slovakia             4\n",
       "Croatia              4\n",
       "Sweden               3\n",
       "Romania              2\n",
       "Bulgaria             2\n",
       "Luxembourg           1\n",
       "Switzerland          1\n",
       "Slovenia             1\n",
       "Egypt                1\n",
       "Serbia               1\n",
       "Name: country_version, dtype: int64"
      ]
     },
     "execution_count": 41,
     "metadata": {},
     "output_type": "execute_result"
    }
   ],
   "source": [
    "df['country_version'] = [x[0].strip() if x.__class__ == list else x for x in df['country_version'] ]\n",
    "df['country_version'].value_counts()"
   ]
  },
  {
   "cell_type": "code",
   "execution_count": 42,
   "id": "194dfd61",
   "metadata": {},
   "outputs": [
    {
     "data": {
      "text/plain": [
       "8333"
      ]
     },
     "execution_count": 42,
     "metadata": {},
     "output_type": "execute_result"
    }
   ],
   "source": [
    "df['country_version'].isna().sum()"
   ]
  },
  {
   "cell_type": "code",
   "execution_count": 43,
   "id": "3fde5e17",
   "metadata": {},
   "outputs": [],
   "source": [
    "others = set(['Czech Republic', 'Poland', 'France', 'Denmark', 'Hungary', 'Japan', 'Slovakia', 'Croatia', 'Sweden',\n",
    "'Romania', 'Bulgaria', 'Luxembourg', 'Switzerland', 'Slovenia', 'Egypt', 'Serbia'])"
   ]
  },
  {
   "cell_type": "code",
   "execution_count": 44,
   "id": "0419ced8",
   "metadata": {},
   "outputs": [],
   "source": [
    "df['temp'] = ['other' if x in others else x for x in df['country_version']]\n",
    "df['temp'] = [x.lower() if x.__class__ == str else x for x in df['temp']] "
   ]
  },
  {
   "cell_type": "code",
   "execution_count": 45,
   "id": "19421b95",
   "metadata": {},
   "outputs": [
    {
     "data": {
      "text/plain": [
       "germany           4502\n",
       "italy             1038\n",
       "european union     507\n",
       "netherlands        464\n",
       "spain              325\n",
       "belgium            314\n",
       "other              228\n",
       "austria            208\n",
       "Name: temp, dtype: int64"
      ]
     },
     "execution_count": 45,
     "metadata": {},
     "output_type": "execute_result"
    }
   ],
   "source": [
    "df['temp'].value_counts()"
   ]
  },
  {
   "cell_type": "code",
   "execution_count": 46,
   "id": "59ee86e3",
   "metadata": {},
   "outputs": [],
   "source": [
    "temp = [i for i in df['temp']]\n",
    "df['country_ver'] = temp.copy()"
   ]
  },
  {
   "cell_type": "code",
   "execution_count": 47,
   "id": "4211374e",
   "metadata": {},
   "outputs": [],
   "source": [
    "to_encode.add('country_ver')\n",
    "ignore.add('country_version')"
   ]
  },
  {
   "cell_type": "code",
   "execution_count": 48,
   "id": "adf15bed",
   "metadata": {},
   "outputs": [
    {
     "data": {
      "text/plain": [
       "Opel       7343\n",
       "Audi       5712\n",
       "Renault    2864\n",
       "Name: make, dtype: int64"
      ]
     },
     "execution_count": 48,
     "metadata": {},
     "output_type": "execute_result"
    }
   ],
   "source": [
    "df['make'] = [x.strip() if x.__class__ == str else x for x in df['make'] ]\n",
    "df['make'].value_counts()"
   ]
  },
  {
   "cell_type": "code",
   "execution_count": 49,
   "id": "c3095178",
   "metadata": {},
   "outputs": [
    {
     "data": {
      "text/plain": [
       "Opel       3518\n",
       "Audi       3280\n",
       "Renault    1535\n",
       "Name: make, dtype: int64"
      ]
     },
     "execution_count": 49,
     "metadata": {},
     "output_type": "execute_result"
    }
   ],
   "source": [
    "df['make'][df['country_version'].isna()].value_counts()"
   ]
  },
  {
   "cell_type": "code",
   "execution_count": 50,
   "id": "dd7b632f",
   "metadata": {},
   "outputs": [
    {
     "data": {
      "text/plain": [
       "2018.0    4522\n",
       "2016.0    3674\n",
       "2017.0    3273\n",
       "2019.0    2853\n",
       "Name: first_registration, dtype: int64"
      ]
     },
     "execution_count": 50,
     "metadata": {},
     "output_type": "execute_result"
    }
   ],
   "source": [
    "df['first_registration'] = [int(x[1].strip()) if x.__class__ == list else x for x in df['first_registration']]\n",
    "df['first_registration'].value_counts()"
   ]
  },
  {
   "cell_type": "code",
   "execution_count": 51,
   "id": "130d4cfa",
   "metadata": {
    "scrolled": true
   },
   "outputs": [
    {
     "data": {
      "text/plain": [
       "2018.0    2344\n",
       "2016.0    2154\n",
       "2017.0    2074\n",
       "2019.0    1365\n",
       "Name: first_registration, dtype: int64"
      ]
     },
     "execution_count": 51,
     "metadata": {},
     "output_type": "execute_result"
    }
   ],
   "source": [
    "df['first_registration'][df['country_version'].isna()].value_counts()"
   ]
  },
  {
   "cell_type": "code",
   "execution_count": 52,
   "id": "020bc4b2",
   "metadata": {},
   "outputs": [
    {
     "data": {
      "text/plain": [
       "<AxesSubplot:>"
      ]
     },
     "execution_count": 52,
     "metadata": {},
     "output_type": "execute_result"
    },
    {
     "data": {
      "image/png": "[encoded data removed]",
      "text/plain": [
       "<Figure size 640x480 with 1 Axes>"
      ]
     },
     "metadata": {},
     "output_type": "display_data"
    }
   ],
   "source": [
    "reg_freq = df['first_registration'].value_counts().sort_index()\n",
    "reg_freq.plot.bar()"
   ]
  },
  {
   "cell_type": "code",
   "execution_count": 53,
   "id": "33a14647",
   "metadata": {},
   "outputs": [
    {
     "data": {
      "text/plain": [
       "<AxesSubplot:>"
      ]
     },
     "execution_count": 53,
     "metadata": {},
     "output_type": "execute_result"
    },
    {
     "data": {
      "image/png": "[encoded data removed]",
      "text/plain": [
       "<Figure size 640x480 with 1 Axes>"
      ]
     },
     "metadata": {},
     "output_type": "display_data"
    }
   ],
   "source": [
    "reg_freq = df['first_registration'][df['country_version'].isna()].value_counts().sort_index()\n",
    "reg_freq.plot.bar()"
   ]
  },
  {
   "cell_type": "markdown",
   "id": "b4b375dc",
   "metadata": {},
   "source": [
    "Explore 'full_service', n ~ 8200\n",
    "\n",
    "Seems to be lists with missing values in i = 0, 1\n",
    "\n",
    "We can ignore this feature"
   ]
  },
  {
   "cell_type": "code",
   "execution_count": 54,
   "id": "a2e7eec9",
   "metadata": {},
   "outputs": [
    {
     "ename": "TypeError",
     "evalue": "unhashable type: 'list'",
     "output_type": "error",
     "traceback": [
      "\u001b[1;31m---------------------------------------------------------------------------\u001b[0m",
      "\u001b[1;31mTypeError\u001b[0m                                 Traceback (most recent call last)",
      "\u001b[1;32mpandas\\_libs\\hashtable_class_helper.pxi\u001b[0m in \u001b[0;36mpandas._libs.hashtable.PyObjectHashTable.map_locations\u001b[1;34m()\u001b[0m\n",
      "\u001b[1;31mTypeError\u001b[0m: unhashable type: 'list'"
     ]
    },
    {
     "name": "stderr",
     "output_type": "stream",
     "text": [
      "Exception ignored in: 'pandas._libs.index.IndexEngine._call_map_locations'\n",
      "Traceback (most recent call last):\n",
      "  File \"pandas\\_libs\\hashtable_class_helper.pxi\", line 5231, in pandas._libs.hashtable.PyObjectHashTable.map_locations\n",
      "TypeError: unhashable type: 'list'\n"
     ]
    },
    {
     "data": {
      "text/plain": [
       "[\\n, \\n, \\n4 (Green)\\n]                                                                       2235\n",
       "[\\n, \\n, \\nEuro 6\\n]                                                                          2097\n",
       "[\\n, \\n]                                                                                      1702\n",
       "[\\n, \\n, \\nEuro 6d-TEMP\\n]                                                                     399\n",
       "\\n                                                                                             283\n",
       "                                                                                              ... \n",
       "[\\n, \\n, \\n, 6 l/100 km (comb), \\n, 8 l/100 km (city), \\n, 4.9 l/100 km (country), \\n]           1\n",
       "[\\n, \\n, \\n84 g CO2/km (comb)\\n]                                                                 1\n",
       "[\\n, \\n, \\n87 g CO2/km (comb)\\n]                                                                 1\n",
       "[\\n, \\n, \\n, 5.7 l/100 km (comb), \\n, 7.3 l/100 km (city), \\n, 4.9 l/100 km (country), \\n]       1\n",
       "[\\n, \\n, \\nEuro 4\\n]                                                                             1\n",
       "Name: full_service, Length: 122, dtype: int64"
      ]
     },
     "execution_count": 54,
     "metadata": {},
     "output_type": "execute_result"
    }
   ],
   "source": [
    "df['full_service'].value_counts()"
   ]
  },
  {
   "cell_type": "code",
   "execution_count": 55,
   "id": "b94bf19a",
   "metadata": {},
   "outputs": [],
   "source": [
    "ignore.add('full_service')"
   ]
  },
  {
   "cell_type": "markdown",
   "id": "2405758a",
   "metadata": {},
   "source": [
    "Explore 'weight', n = ~9000\n",
    "\n",
    "format is [\\n\"num kg\"\\n], num has \",\" after thousands place\n",
    "\n",
    "Why is this information missing for many cars? Maybe we can fill this when missing by average of weight by model_make"
   ]
  },
  {
   "cell_type": "code",
   "execution_count": 56,
   "id": "c630cffc",
   "metadata": {},
   "outputs": [
    {
     "data": {
      "text/plain": [
       "6974"
      ]
     },
     "execution_count": 56,
     "metadata": {},
     "output_type": "execute_result"
    }
   ],
   "source": [
    "df['weight'].isna().sum()"
   ]
  },
  {
   "cell_type": "code",
   "execution_count": 57,
   "id": "0082bc5f",
   "metadata": {},
   "outputs": [
    {
     "ename": "TypeError",
     "evalue": "unhashable type: 'list'",
     "output_type": "error",
     "traceback": [
      "\u001b[1;31m---------------------------------------------------------------------------\u001b[0m",
      "\u001b[1;31mTypeError\u001b[0m                                 Traceback (most recent call last)",
      "\u001b[1;32mpandas\\_libs\\hashtable_class_helper.pxi\u001b[0m in \u001b[0;36mpandas._libs.hashtable.PyObjectHashTable.map_locations\u001b[1;34m()\u001b[0m\n",
      "\u001b[1;31mTypeError\u001b[0m: unhashable type: 'list'"
     ]
    },
    {
     "name": "stderr",
     "output_type": "stream",
     "text": [
      "Exception ignored in: 'pandas._libs.index.IndexEngine._call_map_locations'\n",
      "Traceback (most recent call last):\n",
      "  File \"pandas\\_libs\\hashtable_class_helper.pxi\", line 5231, in pandas._libs.hashtable.PyObjectHashTable.map_locations\n",
      "TypeError: unhashable type: 'list'\n"
     ]
    },
    {
     "data": {
      "text/plain": [
       "[\\n1,635 kg\\n]    20\n",
       "[\\n1,198 kg\\n]    19\n",
       "[\\n1,890 kg\\n]    19\n",
       "[\\n1,370 kg\\n]    19\n",
       "[\\n1,225 kg\\n]    19\n",
       "[\\n1,582 kg\\n]    19\n",
       "[\\n1,310 kg\\n]    18\n",
       "[\\n1,537 kg\\n]    18\n",
       "[\\n1,655 kg\\n]    17\n",
       "[\\n1,843 kg\\n]    16\n",
       "[\\n1,400 kg\\n]    16\n",
       "[\\n1,518 kg\\n]    16\n",
       "[\\n1,540 kg\\n]    16\n",
       "[\\n1,380 kg\\n]    15\n",
       "[\\n1,055 kg\\n]    15\n",
       "[\\n1,760 kg\\n]    15\n",
       "[\\n1,235 kg\\n]    15\n",
       "[\\n2,353 kg\\n]    15\n",
       "[\\n1,510 kg\\n]    14\n",
       "[\\n1,708 kg\\n]    14\n",
       "[\\n1,596 kg\\n]    14\n",
       "[\\n1,305 kg\\n]    14\n",
       "[\\n1,640 kg\\n]    14\n",
       "[\\n1,270 kg\\n]    13\n",
       "[\\n1,815 kg\\n]    13\n",
       "[\\n1,079 kg\\n]    13\n",
       "[\\n1,630 kg\\n]    13\n",
       "[\\n1,758 kg\\n]    13\n",
       "[\\n1,340 kg\\n]    12\n",
       "[\\n2,300 kg\\n]    12\n",
       "[\\n1,240 kg\\n]    12\n",
       "[\\n1,378 kg\\n]    12\n",
       "[\\n1,100 kg\\n]    12\n",
       "[\\n1,214 kg\\n]    12\n",
       "[\\n1,647 kg\\n]    11\n",
       "[\\n980 kg\\n]      11\n",
       "[\\n1,234 kg\\n]    11\n",
       "[\\n1,684 kg\\n]    11\n",
       "[\\n1,717 kg\\n]    11\n",
       "[\\n1,175 kg\\n]    11\n",
       "[\\n1,035 kg\\n]    11\n",
       "[\\n1,140 kg\\n]    11\n",
       "[\\n1,156 kg\\n]    10\n",
       "[\\n1,567 kg\\n]    10\n",
       "[\\n1,485 kg\\n]    10\n",
       "[\\n1,295 kg\\n]    10\n",
       "[\\n1,203 kg\\n]    10\n",
       "[\\n1,082 kg\\n]    10\n",
       "[\\n1,500 kg\\n]     9\n",
       "[\\n1,624 kg\\n]     9\n",
       "Name: weight, dtype: int64"
      ]
     },
     "execution_count": 57,
     "metadata": {},
     "output_type": "execute_result"
    }
   ],
   "source": [
    "df['weight'].value_counts()[100:150]"
   ]
  },
  {
   "cell_type": "code",
   "execution_count": 58,
   "id": "72765ab5",
   "metadata": {
    "scrolled": true
   },
   "outputs": [
    {
     "data": {
      "text/plain": [
       "<AxesSubplot:ylabel='Frequency'>"
      ]
     },
     "execution_count": 58,
     "metadata": {},
     "output_type": "execute_result"
    },
    {
     "data": {
      "image/png": "[encoded data removed]",
      "text/plain": [
       "<Figure size 640x480 with 1 Axes>"
      ]
     },
     "metadata": {},
     "output_type": "display_data"
    }
   ],
   "source": [
    "df['weight'] = [int(re.sub('kg|,','',x[0]).strip()) if x.__class__ == list else float('nan') for x in df['weight']]\n",
    "df['weight'][df['weight']<1000].plot.hist(bins=50)"
   ]
  },
  {
   "cell_type": "code",
   "execution_count": 59,
   "id": "8a04e991",
   "metadata": {},
   "outputs": [
    {
     "data": {
      "text/plain": [
       "18"
      ]
     },
     "execution_count": 59,
     "metadata": {},
     "output_type": "execute_result"
    }
   ],
   "source": [
    "df['weight'][df['weight']<1000].count()"
   ]
  },
  {
   "cell_type": "code",
   "execution_count": 60,
   "id": "7790d8c0",
   "metadata": {},
   "outputs": [
    {
     "data": {
      "text/plain": [
       "<AxesSubplot:ylabel='Frequency'>"
      ]
     },
     "execution_count": 60,
     "metadata": {},
     "output_type": "execute_result"
    },
    {
     "data": {
      "image/png": "[encoded data removed]",
      "text/plain": [
       "<Figure size 640x480 with 1 Axes>"
      ]
     },
     "metadata": {},
     "output_type": "display_data"
    }
   ],
   "source": [
    "df['weight'][df['weight']<1000].plot.hist(bins=50)"
   ]
  },
  {
   "cell_type": "code",
   "execution_count": 61,
   "id": "a2aabc85",
   "metadata": {},
   "outputs": [
    {
     "data": {
      "text/plain": [
       "54"
      ]
     },
     "execution_count": 61,
     "metadata": {},
     "output_type": "execute_result"
    }
   ],
   "source": [
    "df['weight'][df['weight']>2000].count()"
   ]
  },
  {
   "cell_type": "code",
   "execution_count": 62,
   "id": "9de19d88",
   "metadata": {},
   "outputs": [
    {
     "data": {
      "text/plain": [
       "<AxesSubplot:ylabel='Frequency'>"
      ]
     },
     "execution_count": 62,
     "metadata": {},
     "output_type": "execute_result"
    },
    {
     "data": {
      "image/png": "[encoded data removed]",
      "text/plain": [
       "<Figure size 640x480 with 1 Axes>"
      ]
     },
     "metadata": {},
     "output_type": "display_data"
    }
   ],
   "source": [
    "df['weight'][df['weight']>2000].plot.hist(bins=50)"
   ]
  },
  {
   "cell_type": "code",
   "execution_count": 63,
   "id": "361b7cc7",
   "metadata": {},
   "outputs": [],
   "source": [
    "df['weight'] = [float('nan') if (x > 2000 or x < 1000) else x for x in df['weight']]\n"
   ]
  },
  {
   "cell_type": "code",
   "execution_count": 64,
   "id": "359a8617",
   "metadata": {},
   "outputs": [
    {
     "data": {
      "text/plain": [
       "{'Audi A1': 1229.864010989011,\n",
       " 'Audi A2': nan,\n",
       " 'Audi A3': 1384.510994764398,\n",
       " 'Opel Astra': 1361.4719367588932,\n",
       " 'Opel Corsa': 1173.9120967741935,\n",
       " 'Opel Insignia': 1574.721124620061,\n",
       " 'Renault Clio': 1170.1347331583552,\n",
       " 'Renault Duster': nan,\n",
       " 'Renault Espace': 1699.1731123388581}"
      ]
     },
     "execution_count": 64,
     "metadata": {},
     "output_type": "execute_result"
    }
   ],
   "source": [
    "wts = df[['weight']].groupby(df['make_model'],dropna=True).mean(numeric_only=True)\n",
    "name_wts = {name:wts.loc[name][0] for name in wts.index}\n",
    "name_wts"
   ]
  },
  {
   "cell_type": "code",
   "execution_count": 65,
   "id": "0d8db7d9",
   "metadata": {},
   "outputs": [
    {
     "data": {
      "text/plain": [
       "Audi A3           1910\n",
       "Audi A1           1456\n",
       "Opel Insignia     1316\n",
       "Opel Astra        1265\n",
       "Opel Corsa        1240\n",
       "Renault Clio      1143\n",
       "Renault Espace     543\n",
       "Name: make_model, dtype: int64"
      ]
     },
     "execution_count": 65,
     "metadata": {},
     "output_type": "execute_result"
    }
   ],
   "source": [
    "df['make_model'][df['weight'].notna()].value_counts()"
   ]
  },
  {
   "cell_type": "code",
   "execution_count": 66,
   "id": "3b929473",
   "metadata": {},
   "outputs": [
    {
     "data": {
      "text/plain": [
       "Opel Insignia     1282\n",
       "Opel Astra        1261\n",
       "Audi A3           1187\n",
       "Audi A1           1158\n",
       "Opel Corsa         979\n",
       "Renault Clio       696\n",
       "Renault Espace     448\n",
       "Renault Duster      34\n",
       "Audi A2              1\n",
       "Name: make_model, dtype: int64"
      ]
     },
     "execution_count": 66,
     "metadata": {},
     "output_type": "execute_result"
    }
   ],
   "source": [
    "df['make_model'][df['weight'].isna()].value_counts()"
   ]
  },
  {
   "cell_type": "markdown",
   "id": "b8c22910",
   "metadata": {},
   "source": [
    "Explore 'drive_chain'"
   ]
  },
  {
   "cell_type": "code",
   "execution_count": 67,
   "id": "210e15f6",
   "metadata": {},
   "outputs": [
    {
     "ename": "TypeError",
     "evalue": "unhashable type: 'list'",
     "output_type": "error",
     "traceback": [
      "\u001b[1;31m---------------------------------------------------------------------------\u001b[0m",
      "\u001b[1;31mTypeError\u001b[0m                                 Traceback (most recent call last)",
      "\u001b[1;32mpandas\\_libs\\hashtable_class_helper.pxi\u001b[0m in \u001b[0;36mpandas._libs.hashtable.PyObjectHashTable.map_locations\u001b[1;34m()\u001b[0m\n",
      "\u001b[1;31mTypeError\u001b[0m: unhashable type: 'list'"
     ]
    },
    {
     "name": "stderr",
     "output_type": "stream",
     "text": [
      "Exception ignored in: 'pandas._libs.index.IndexEngine._call_map_locations'\n",
      "Traceback (most recent call last):\n",
      "  File \"pandas\\_libs\\hashtable_class_helper.pxi\", line 5231, in pandas._libs.hashtable.PyObjectHashTable.map_locations\n",
      "TypeError: unhashable type: 'list'\n"
     ]
    },
    {
     "data": {
      "text/plain": [
       "[\\nfront\\n]    8886\n",
       "[\\n4WD\\n]       171\n",
       "[\\nrear\\n]        4\n",
       "Name: drive_chain, dtype: int64"
      ]
     },
     "execution_count": 67,
     "metadata": {},
     "output_type": "execute_result"
    }
   ],
   "source": [
    "df['drive_chain'].value_counts()"
   ]
  },
  {
   "cell_type": "code",
   "execution_count": 68,
   "id": "6bb937fc",
   "metadata": {},
   "outputs": [
    {
     "data": {
      "text/plain": [
       "front    8886\n",
       "4WD       171\n",
       "rear        4\n",
       "Name: drive_chain, dtype: int64"
      ]
     },
     "execution_count": 68,
     "metadata": {},
     "output_type": "execute_result"
    }
   ],
   "source": [
    "df['drive_chain'] = [x[0].strip() if x.__class__ == list else x for x in df['drive_chain']]\n",
    "df['drive_chain'].value_counts()"
   ]
  },
  {
   "cell_type": "code",
   "execution_count": 69,
   "id": "59022704",
   "metadata": {},
   "outputs": [],
   "source": [
    "df['drive_chain'] = [float('nan') if x == 'rear' else x for x in df['drive_chain']]"
   ]
  },
  {
   "cell_type": "code",
   "execution_count": 70,
   "id": "7595d8f7",
   "metadata": {},
   "outputs": [],
   "source": [
    "df['drive_chain'] = [x.lower() if x.__class__ == str else x for x in df['drive_chain']]"
   ]
  },
  {
   "cell_type": "code",
   "execution_count": 71,
   "id": "968d8e16",
   "metadata": {},
   "outputs": [
    {
     "data": {
      "text/plain": [
       "6862"
      ]
     },
     "execution_count": 71,
     "metadata": {},
     "output_type": "execute_result"
    }
   ],
   "source": [
    "df['drive_chain'].isna().sum()"
   ]
  },
  {
   "cell_type": "code",
   "execution_count": 72,
   "id": "3d22a1e2",
   "metadata": {},
   "outputs": [],
   "source": [
    "to_encode.add('drive_chain')"
   ]
  },
  {
   "cell_type": "markdown",
   "id": "552377f0",
   "metadata": {},
   "source": [
    "Explore prev_owner, previous_owners, type\n",
    "\n",
    "prev_owner is derived from previous_owners after cleaning, except 0 is ignored\n",
    "\n",
    "there are 15 cases where new cars have 1 \"previous_owners\", and 24 cases where used cars have 0 \"previous_owners\"\n",
    "\n",
    "Also only 164 of 1650 new cars are mentioned to have 0 \"previous_owners\". We can ignore \"0\" in \"previous_owners\". \n",
    "\n",
    "in other words, use \"prev_owner\" and ignore \"previous_owners\""
   ]
  },
  {
   "cell_type": "code",
   "execution_count": 73,
   "id": "d1b127fc",
   "metadata": {},
   "outputs": [
    {
     "data": {
      "text/plain": [
       "1 previous owner     8294\n",
       "2 previous owners     778\n",
       "3 previous owners      17\n",
       "4 previous owners       2\n",
       "Name: prev_owner, dtype: int64"
      ]
     },
     "execution_count": 73,
     "metadata": {},
     "output_type": "execute_result"
    }
   ],
   "source": [
    "df['prev_owner'].value_counts()"
   ]
  },
  {
   "cell_type": "code",
   "execution_count": 74,
   "id": "3a9c363d",
   "metadata": {
    "scrolled": true
   },
   "outputs": [
    {
     "ename": "TypeError",
     "evalue": "unhashable type: 'list'",
     "output_type": "error",
     "traceback": [
      "\u001b[1;31m---------------------------------------------------------------------------\u001b[0m",
      "\u001b[1;31mTypeError\u001b[0m                                 Traceback (most recent call last)",
      "\u001b[1;32mpandas\\_libs\\hashtable_class_helper.pxi\u001b[0m in \u001b[0;36mpandas._libs.hashtable.PyObjectHashTable.map_locations\u001b[1;34m()\u001b[0m\n",
      "\u001b[1;31mTypeError\u001b[0m: unhashable type: 'list'"
     ]
    },
    {
     "name": "stderr",
     "output_type": "stream",
     "text": [
      "Exception ignored in: 'pandas._libs.index.IndexEngine._call_map_locations'\n",
      "Traceback (most recent call last):\n",
      "  File \"pandas\\_libs\\hashtable_class_helper.pxi\", line 5231, in pandas._libs.hashtable.PyObjectHashTable.map_locations\n",
      "TypeError: unhashable type: 'list'\n"
     ]
    },
    {
     "data": {
      "text/plain": [
       "\\n1\\n                                                                                        8101\n",
       "\\n2\\n                                                                                         766\n",
       "\\n0\\n                                                                                         163\n",
       "\\n3\\n                                                                                          17\n",
       "[\\n1\\n, \\n168 g CO2/km (comb)\\n]                                                               13\n",
       "                                                                                             ... \n",
       "[\\n1\\n, \\n111 g CO2/km (comb)\\n]                                                                1\n",
       "[\\n1\\n, \\nEuro 6\\n]                                                                             1\n",
       "[\\n2\\n, \\n119 g CO2/km (comb)\\n]                                                                1\n",
       "[\\n1\\n, \\n, 6.6 l/100 km (comb), \\n, 8.1 l/100 km (city), \\n, 5.7 l/100 km (country), \\n]       1\n",
       "[\\n1\\n, \\n142 g CO2/km (comb)\\n]                                                                1\n",
       "Name: previous_owners, Length: 102, dtype: int64"
      ]
     },
     "execution_count": 74,
     "metadata": {},
     "output_type": "execute_result"
    }
   ],
   "source": [
    "df['previous_owners'].value_counts()"
   ]
  },
  {
   "cell_type": "code",
   "execution_count": 75,
   "id": "d7cec7f7",
   "metadata": {},
   "outputs": [
    {
     "data": {
      "text/plain": [
       "1    8294\n",
       "2     778\n",
       "3      17\n",
       "4       2\n",
       "Name: prev_owner, dtype: int64"
      ]
     },
     "execution_count": 75,
     "metadata": {},
     "output_type": "execute_result"
    }
   ],
   "source": [
    "df['prev_owner'] = [re.sub(r'[A-Za-z]','',x).strip().lstrip() if x.__class__ == str else x for x in df['prev_owner']]\n",
    "df['prev_owner'].value_counts()"
   ]
  },
  {
   "cell_type": "code",
   "execution_count": 76,
   "id": "8c52c952",
   "metadata": {},
   "outputs": [
    {
     "data": {
      "text/plain": [
       "1    8294\n",
       "2     797\n",
       "Name: prev_owner, dtype: int64"
      ]
     },
     "execution_count": 76,
     "metadata": {},
     "output_type": "execute_result"
    }
   ],
   "source": [
    "df['prev_owner'] = [('2' if float(x) > 2 else x) if x.__class__ == str else float('nan') for x in df['prev_owner']]\n",
    "df['prev_owner'].value_counts()"
   ]
  },
  {
   "cell_type": "code",
   "execution_count": 77,
   "id": "9215a508",
   "metadata": {},
   "outputs": [
    {
     "data": {
      "text/plain": [
       "1    8294\n",
       "2     778\n",
       "0     188\n",
       "3      17\n",
       "4       2\n",
       "Name: previous_owners, dtype: int64"
      ]
     },
     "execution_count": 77,
     "metadata": {},
     "output_type": "execute_result"
    }
   ],
   "source": [
    "df['previous_owners'] = [re.sub(r'[A-Za-z]','',x[0]) if x.__class__ == list else x for x in df['previous_owners']]\n",
    "df['previous_owners'] = [x.strip() if x.__class__ == str else x for x in df['previous_owners']]\n",
    "df['previous_owners'].value_counts()"
   ]
  },
  {
   "cell_type": "code",
   "execution_count": 78,
   "id": "768a2a07",
   "metadata": {},
   "outputs": [
    {
     "data": {
      "text/plain": [
       "Used              11096\n",
       "New                1650\n",
       "Pre-registered     1364\n",
       "Employee's car     1011\n",
       "Demonstration       796\n",
       "Name: type, dtype: int64"
      ]
     },
     "execution_count": 78,
     "metadata": {},
     "output_type": "execute_result"
    }
   ],
   "source": [
    "df['type'] = [x[1].strip() if x.__class__ == list else x for x in df['type']]\n",
    "df['type'].value_counts()"
   ]
  },
  {
   "cell_type": "code",
   "execution_count": 79,
   "id": "02125892",
   "metadata": {},
   "outputs": [
    {
     "data": {
      "text/plain": [
       "0    164\n",
       "1     15\n",
       "Name: previous_owners, dtype: int64"
      ]
     },
     "execution_count": 79,
     "metadata": {},
     "output_type": "execute_result"
    }
   ],
   "source": [
    "df['previous_owners'][df['type'] == 'New'].value_counts()\n",
    "# interesting"
   ]
  },
  {
   "cell_type": "code",
   "execution_count": 80,
   "id": "ac9e852f",
   "metadata": {},
   "outputs": [
    {
     "data": {
      "text/plain": [
       "1    8279\n",
       "2     797\n",
       "Name: prev_owner, dtype: int64"
      ]
     },
     "execution_count": 80,
     "metadata": {},
     "output_type": "execute_result"
    }
   ],
   "source": [
    "df['prev_owner'][df['type'] != 'New'].value_counts()"
   ]
  },
  {
   "cell_type": "code",
   "execution_count": 81,
   "id": "5ecbbc7e",
   "metadata": {},
   "outputs": [],
   "source": [
    "df['type'] = [re.sub('-|\\s','_',x.lower()) if x.__class__ == str else x for x in df['type']]\n",
    "df['type'] = [re.sub('\\'','',x.lower()) if x.__class__ == str else x for x in df['type']]"
   ]
  },
  {
   "cell_type": "code",
   "execution_count": 82,
   "id": "7c83774f",
   "metadata": {},
   "outputs": [
    {
     "data": {
      "text/plain": [
       "used              11096\n",
       "new                1650\n",
       "pre_registered     1364\n",
       "employees_car      1011\n",
       "demonstration       796\n",
       "Name: type, dtype: int64"
      ]
     },
     "execution_count": 82,
     "metadata": {},
     "output_type": "execute_result"
    }
   ],
   "source": [
    "df['type'].value_counts()"
   ]
  },
  {
   "cell_type": "code",
   "execution_count": 83,
   "id": "be220bd4",
   "metadata": {},
   "outputs": [],
   "source": [
    "ignore.add('previous_owners')"
   ]
  },
  {
   "cell_type": "code",
   "execution_count": 84,
   "id": "29724acb",
   "metadata": {},
   "outputs": [],
   "source": [
    "to_encode.add('prev_owner')"
   ]
  },
  {
   "cell_type": "code",
   "execution_count": 85,
   "id": "2d6c5a52",
   "metadata": {},
   "outputs": [],
   "source": [
    "to_encode.add('type')"
   ]
  },
  {
   "cell_type": "markdown",
   "id": "ba48b04e",
   "metadata": {},
   "source": [
    "Explore \"paint_type\""
   ]
  },
  {
   "cell_type": "code",
   "execution_count": 86,
   "id": "b0e7313b",
   "metadata": {
    "scrolled": true
   },
   "outputs": [
    {
     "ename": "TypeError",
     "evalue": "unhashable type: 'list'",
     "output_type": "error",
     "traceback": [
      "\u001b[1;31m---------------------------------------------------------------------------\u001b[0m",
      "\u001b[1;31mTypeError\u001b[0m                                 Traceback (most recent call last)",
      "\u001b[1;32mpandas\\_libs\\hashtable_class_helper.pxi\u001b[0m in \u001b[0;36mpandas._libs.hashtable.PyObjectHashTable.map_locations\u001b[1;34m()\u001b[0m\n",
      "\u001b[1;31mTypeError\u001b[0m: unhashable type: 'list'"
     ]
    },
    {
     "name": "stderr",
     "output_type": "stream",
     "text": [
      "Exception ignored in: 'pandas._libs.index.IndexEngine._call_map_locations'\n",
      "Traceback (most recent call last):\n",
      "  File \"pandas\\_libs\\hashtable_class_helper.pxi\", line 5231, in pandas._libs.hashtable.PyObjectHashTable.map_locations\n",
      "TypeError: unhashable type: 'list'\n"
     ]
    },
    {
     "data": {
      "text/plain": [
       "[\\nMetallic\\n]       9794\n",
       "[\\nUni/basic\\n]       347\n",
       "[\\nPerl effect\\n]       6\n",
       "Name: paint_type, dtype: int64"
      ]
     },
     "execution_count": 86,
     "metadata": {},
     "output_type": "execute_result"
    }
   ],
   "source": [
    "df['paint_type'].value_counts()"
   ]
  },
  {
   "cell_type": "code",
   "execution_count": 87,
   "id": "a6171d1b",
   "metadata": {},
   "outputs": [
    {
     "data": {
      "text/plain": [
       "Metallic       9794\n",
       "Uni/basic       347\n",
       "Perl effect       6\n",
       "Name: paint_type, dtype: int64"
      ]
     },
     "execution_count": 87,
     "metadata": {},
     "output_type": "execute_result"
    }
   ],
   "source": [
    "df['paint_type'] = [x[0].strip() if x.__class__ == list else x for x in df['paint_type']]\n",
    "df['paint_type'].value_counts()"
   ]
  },
  {
   "cell_type": "code",
   "execution_count": 88,
   "id": "1c31a420",
   "metadata": {},
   "outputs": [
    {
     "data": {
      "text/plain": [
       "Metallic     9794\n",
       "Uni/basic     347\n",
       "Name: paint_type, dtype: int64"
      ]
     },
     "execution_count": 88,
     "metadata": {},
     "output_type": "execute_result"
    }
   ],
   "source": [
    "df['paint_type'] = [float('nan') if x == 'Perl effect' else x for x in df['paint_type']]\n",
    "df['paint_type'].value_counts()"
   ]
  },
  {
   "cell_type": "code",
   "execution_count": 89,
   "id": "24cf0973",
   "metadata": {},
   "outputs": [],
   "source": [
    "df['paint_type'] = [('uni_basic' if x == 'Uni/basic' else x) for x in df['paint_type']]\n",
    "df['paint_type'] = [('metallic' if x == 'Metallic' else x) for x in df['paint_type']]"
   ]
  },
  {
   "cell_type": "code",
   "execution_count": 90,
   "id": "e5021aef",
   "metadata": {},
   "outputs": [
    {
     "data": {
      "text/plain": [
       "metallic     9794\n",
       "uni_basic     347\n",
       "Name: paint_type, dtype: int64"
      ]
     },
     "execution_count": 90,
     "metadata": {},
     "output_type": "execute_result"
    }
   ],
   "source": [
    "df['paint_type'].value_counts()"
   ]
  },
  {
   "cell_type": "code",
   "execution_count": 91,
   "id": "e17d498d",
   "metadata": {},
   "outputs": [],
   "source": [
    "to_encode.add('paint_type')"
   ]
  },
  {
   "cell_type": "markdown",
   "id": "0e068eb7",
   "metadata": {},
   "source": [
    "Explore cylinders"
   ]
  },
  {
   "cell_type": "code",
   "execution_count": 92,
   "id": "104c1eca",
   "metadata": {
    "scrolled": true
   },
   "outputs": [
    {
     "ename": "TypeError",
     "evalue": "unhashable type: 'list'",
     "output_type": "error",
     "traceback": [
      "\u001b[1;31m---------------------------------------------------------------------------\u001b[0m",
      "\u001b[1;31mTypeError\u001b[0m                                 Traceback (most recent call last)",
      "\u001b[1;32mpandas\\_libs\\hashtable_class_helper.pxi\u001b[0m in \u001b[0;36mpandas._libs.hashtable.PyObjectHashTable.map_locations\u001b[1;34m()\u001b[0m\n",
      "\u001b[1;31mTypeError\u001b[0m: unhashable type: 'list'"
     ]
    },
    {
     "name": "stderr",
     "output_type": "stream",
     "text": [
      "Exception ignored in: 'pandas._libs.index.IndexEngine._call_map_locations'\n",
      "Traceback (most recent call last):\n",
      "  File \"pandas\\_libs\\hashtable_class_helper.pxi\", line 5231, in pandas._libs.hashtable.PyObjectHashTable.map_locations\n",
      "TypeError: unhashable type: 'list'\n"
     ]
    },
    {
     "data": {
      "text/plain": [
       "[\\n4\\n]    8105\n",
       "[\\n3\\n]    2104\n",
       "[\\n5\\n]      22\n",
       "[\\n6\\n]       3\n",
       "[\\n8\\n]       2\n",
       "[\\n2\\n]       2\n",
       "[\\n1\\n]       1\n",
       "Name: cylinders, dtype: int64"
      ]
     },
     "execution_count": 92,
     "metadata": {},
     "output_type": "execute_result"
    }
   ],
   "source": [
    "df['cylinders'].value_counts()"
   ]
  },
  {
   "cell_type": "code",
   "execution_count": 93,
   "id": "8bd04dd5",
   "metadata": {},
   "outputs": [
    {
     "data": {
      "text/plain": [
       "4    8105\n",
       "3    2104\n",
       "5      22\n",
       "6       3\n",
       "8       2\n",
       "2       2\n",
       "1       1\n",
       "Name: cylinders, dtype: int64"
      ]
     },
     "execution_count": 93,
     "metadata": {},
     "output_type": "execute_result"
    }
   ],
   "source": [
    "df['cylinders'] = [x[0].strip().lstrip() if x.__class__ == list else x for x in df['cylinders']]\n",
    "df['cylinders'].value_counts()"
   ]
  },
  {
   "cell_type": "code",
   "execution_count": 94,
   "id": "87bcfc5c",
   "metadata": {},
   "outputs": [
    {
     "data": {
      "text/plain": [
       "4_or_more    8132\n",
       "3_or_less    2107\n",
       "Name: cylinders, dtype: int64"
      ]
     },
     "execution_count": 94,
     "metadata": {},
     "output_type": "execute_result"
    }
   ],
   "source": [
    "df['cylinders'] = ['3_or_less' if float(x) <= 3 else ('4_or_more' if (9 > float(x) >= 4) else x) for x in df['cylinders']]\n",
    "df['cylinders'].value_counts()"
   ]
  },
  {
   "cell_type": "code",
   "execution_count": 95,
   "id": "77a9113b",
   "metadata": {},
   "outputs": [],
   "source": [
    "to_encode.add('cylinders')"
   ]
  },
  {
   "cell_type": "markdown",
   "id": "616c1244",
   "metadata": {},
   "source": [
    "Explore warranty\n",
    "\n",
    "create warranty_mo a feature with float: months of warranty"
   ]
  },
  {
   "cell_type": "code",
   "execution_count": 96,
   "id": "f344c60a",
   "metadata": {
    "scrolled": true
   },
   "outputs": [
    {
     "ename": "TypeError",
     "evalue": "unhashable type: 'list'",
     "output_type": "error",
     "traceback": [
      "\u001b[1;31m---------------------------------------------------------------------------\u001b[0m",
      "\u001b[1;31mTypeError\u001b[0m                                 Traceback (most recent call last)",
      "\u001b[1;32mpandas\\_libs\\hashtable_class_helper.pxi\u001b[0m in \u001b[0;36mpandas._libs.hashtable.PyObjectHashTable.map_locations\u001b[1;34m()\u001b[0m\n",
      "\u001b[1;31mTypeError\u001b[0m: unhashable type: 'list'"
     ]
    },
    {
     "name": "stderr",
     "output_type": "stream",
     "text": [
      "Exception ignored in: 'pandas._libs.index.IndexEngine._call_map_locations'\n",
      "Traceback (most recent call last):\n",
      "  File \"pandas\\_libs\\hashtable_class_helper.pxi\", line 5231, in pandas._libs.hashtable.PyObjectHashTable.map_locations\n",
      "TypeError: unhashable type: 'list'\n"
     ]
    },
    {
     "data": {
      "text/plain": [
       "[\\n, \\n, \\nEuro 6\\n]                                                                               1868\n",
       "\\n12 months\\n                                                                                      1177\n",
       "\\n                                                                                                  979\n",
       "\\n24 months\\n                                                                                       566\n",
       "[\\n, \\n, \\n4 (Green)\\n]                                                                             517\n",
       "                                                                                                   ... \n",
       "[\\n72 months\\n, \\n125 g CO2/km (comb)\\n]                                                              1\n",
       "[\\n60 months\\n, \\n14 g CO2/km (comb)\\n]                                                               1\n",
       "[\\n24 months\\n, \\n121 g CO2/km (comb)\\n]                                                              1\n",
       "[\\n12 months\\n, \\nEuro 6d\\n]                                                                          1\n",
       "[\\n36 months\\n, \\n, 7.4 l/100 km (comb), \\n, 9.6 l/100 km (city), \\n, 6 l/100 km (country), \\n]       1\n",
       "Name: warranty, Length: 515, dtype: int64"
      ]
     },
     "execution_count": 96,
     "metadata": {},
     "output_type": "execute_result"
    }
   ],
   "source": [
    "df['warranty'].value_counts()"
   ]
  },
  {
   "cell_type": "code",
   "execution_count": 97,
   "id": "1a047608",
   "metadata": {
    "scrolled": true
   },
   "outputs": [
    {
     "data": {
      "text/plain": [
       "12.0    2594\n",
       "24.0    1118\n",
       "60.0     401\n",
       "36.0     279\n",
       "48.0     149\n",
       "6.0      125\n",
       "72.0      59\n",
       "3.0       33\n",
       "23.0      11\n",
       "18.0      10\n",
       "20.0       7\n",
       "25.0       6\n",
       "2.0        5\n",
       "50.0       4\n",
       "26.0       4\n",
       "16.0       4\n",
       "4.0        3\n",
       "1.0        3\n",
       "19.0       3\n",
       "34.0       3\n",
       "13.0       3\n",
       "28.0       2\n",
       "22.0       2\n",
       "14.0       2\n",
       "11.0       2\n",
       "46.0       2\n",
       "21.0       2\n",
       "9.0        2\n",
       "17.0       2\n",
       "45.0       2\n",
       "33.0       1\n",
       "40.0       1\n",
       "65.0       1\n",
       "10.0       1\n",
       "15.0       1\n",
       "7.0        1\n",
       "8.0        1\n",
       "56.0       1\n",
       "49.0       1\n",
       "47.0       1\n",
       "30.0       1\n",
       "Name: warranty_mo, dtype: int64"
      ]
     },
     "execution_count": 97,
     "metadata": {},
     "output_type": "execute_result"
    }
   ],
   "source": [
    "df['warranty_mo'] = [x[0].strip() if x.__class__ == list else x for x in df['warranty']]\n",
    "df['warranty_mo'] = [re.sub('\\n| months','',x) if x.__class__ == str else x for x in df['warranty_mo']]\n",
    "df['warranty_mo'] = [float('nan') if x == '' else float(x) for x in df['warranty_mo']]\n",
    "df['warranty_mo'].value_counts()"
   ]
  },
  {
   "cell_type": "code",
   "execution_count": 98,
   "id": "04a6da5a",
   "metadata": {},
   "outputs": [],
   "source": [
    "ignore.add('warranty')"
   ]
  },
  {
   "cell_type": "markdown",
   "id": "f1154f70",
   "metadata": {},
   "source": [
    "Explore gears\n",
    "\n",
    "One case of 50 gears, seems like a typo, replace with nan\n",
    "\n",
    "Since we do not expect this to be a continuous variable we can make these into dummies"
   ]
  },
  {
   "cell_type": "code",
   "execution_count": 99,
   "id": "bf7b1e66",
   "metadata": {},
   "outputs": [
    {
     "ename": "TypeError",
     "evalue": "unhashable type: 'list'",
     "output_type": "error",
     "traceback": [
      "\u001b[1;31m---------------------------------------------------------------------------\u001b[0m",
      "\u001b[1;31mTypeError\u001b[0m                                 Traceback (most recent call last)",
      "\u001b[1;32mpandas\\_libs\\hashtable_class_helper.pxi\u001b[0m in \u001b[0;36mpandas._libs.hashtable.PyObjectHashTable.map_locations\u001b[1;34m()\u001b[0m\n",
      "\u001b[1;31mTypeError\u001b[0m: unhashable type: 'list'"
     ]
    },
    {
     "name": "stderr",
     "output_type": "stream",
     "text": [
      "Exception ignored in: 'pandas._libs.index.IndexEngine._call_map_locations'\n",
      "Traceback (most recent call last):\n",
      "  File \"pandas\\_libs\\hashtable_class_helper.pxi\", line 5231, in pandas._libs.hashtable.PyObjectHashTable.map_locations\n",
      "TypeError: unhashable type: 'list'\n"
     ]
    },
    {
     "data": {
      "text/plain": [
       "[\\n6\\n]     5822\n",
       "[\\n5\\n]     3239\n",
       "[\\n7\\n]     1908\n",
       "[\\n8\\n]      224\n",
       "[\\n9\\n]        6\n",
       "[\\n1\\n]        2\n",
       "[\\n3\\n]        2\n",
       "[\\n4\\n]        2\n",
       "[\\n2\\n]        1\n",
       "[\\n50\\n]       1\n",
       "Name: gears, dtype: int64"
      ]
     },
     "execution_count": 99,
     "metadata": {},
     "output_type": "execute_result"
    }
   ],
   "source": [
    "df['gears'].value_counts()"
   ]
  },
  {
   "cell_type": "code",
   "execution_count": 100,
   "id": "e6c14911",
   "metadata": {
    "scrolled": true
   },
   "outputs": [
    {
     "data": {
      "text/plain": [
       "6     5822\n",
       "5     3239\n",
       "7     1908\n",
       "8      224\n",
       "9        6\n",
       "1        2\n",
       "3        2\n",
       "4        2\n",
       "2        1\n",
       "50       1\n",
       "Name: temp, dtype: int64"
      ]
     },
     "execution_count": 100,
     "metadata": {},
     "output_type": "execute_result"
    }
   ],
   "source": [
    "df['temp'] = [x[0].strip() if x.__class__ == list else x for x in df['gears']]\n",
    "df['temp'].value_counts()"
   ]
  },
  {
   "cell_type": "code",
   "execution_count": 101,
   "id": "7005cbfc",
   "metadata": {},
   "outputs": [
    {
     "data": {
      "text/plain": [
       "6    5822\n",
       "5    3246\n",
       "7    1908\n",
       "8     231\n",
       "Name: gears, dtype: int64"
      ]
     },
     "execution_count": 101,
     "metadata": {},
     "output_type": "execute_result"
    }
   ],
   "source": [
    "df['temp'] = [('5' if float(x) < 5 else x) if x.__class__ == str else x for x in df['temp']]\n",
    "df['temp'] = [('8' if float(x) > 8 else x) if x.__class__ == str else x for x in df['temp']]\n",
    "df['gears'] = df['temp'].copy()\n",
    "df['gears'].value_counts()"
   ]
  },
  {
   "cell_type": "code",
   "execution_count": 102,
   "id": "b9f3987e",
   "metadata": {},
   "outputs": [],
   "source": [
    "df['gears'] = [('5' if float(x) < 5 else x) if x.__class__ == str else x for x in df['gears']]"
   ]
  },
  {
   "cell_type": "code",
   "execution_count": 103,
   "id": "cda85c80",
   "metadata": {},
   "outputs": [],
   "source": [
    "to_encode.add('gears')"
   ]
  },
  {
   "cell_type": "markdown",
   "id": "5ce10a50",
   "metadata": {},
   "source": [
    "Explore vat, \n",
    "\n",
    "create a dummy vat_deductible"
   ]
  },
  {
   "cell_type": "code",
   "execution_count": 104,
   "id": "de006f1b",
   "metadata": {},
   "outputs": [
    {
     "data": {
      "text/plain": [
       "VAT deductible      10980\n",
       "Price negotiable      426\n",
       "Name: vat, dtype: int64"
      ]
     },
     "execution_count": 104,
     "metadata": {},
     "output_type": "execute_result"
    }
   ],
   "source": [
    "df['vat'].value_counts()"
   ]
  },
  {
   "cell_type": "code",
   "execution_count": 105,
   "id": "267563f2",
   "metadata": {},
   "outputs": [
    {
     "data": {
      "text/plain": [
       "1    10980\n",
       "0     4939\n",
       "Name: vat_deductible, dtype: int64"
      ]
     },
     "execution_count": 105,
     "metadata": {},
     "output_type": "execute_result"
    }
   ],
   "source": [
    "df['vat_deductible'] = [1 if x == \"VAT deductible\" else 0 for x in df['vat']]\n",
    "df['vat_deductible'].value_counts()"
   ]
  },
  {
   "cell_type": "code",
   "execution_count": 106,
   "id": "b820191a",
   "metadata": {},
   "outputs": [],
   "source": [
    "ignore.add('vat')"
   ]
  },
  {
   "cell_type": "markdown",
   "id": "161ea08a",
   "metadata": {},
   "source": [
    "Explore body_color, body_color_original\n",
    "\n",
    "Extracting strings from texts\n",
    "\n",
    "Can make these into dummies"
   ]
  },
  {
   "cell_type": "code",
   "execution_count": 107,
   "id": "2f817a21",
   "metadata": {},
   "outputs": [
    {
     "data": {
      "text/plain": [
       "False    12160\n",
       "True      3759\n",
       "Name: body_color_original, dtype: int64"
      ]
     },
     "execution_count": 107,
     "metadata": {},
     "output_type": "execute_result"
    }
   ],
   "source": [
    "df['body_color_original'].isna().value_counts()"
   ]
  },
  {
   "cell_type": "code",
   "execution_count": 108,
   "id": "78803106",
   "metadata": {},
   "outputs": [
    {
     "ename": "TypeError",
     "evalue": "unhashable type: 'list'",
     "output_type": "error",
     "traceback": [
      "\u001b[1;31m---------------------------------------------------------------------------\u001b[0m",
      "\u001b[1;31mTypeError\u001b[0m                                 Traceback (most recent call last)",
      "\u001b[1;32mpandas\\_libs\\hashtable_class_helper.pxi\u001b[0m in \u001b[0;36mpandas._libs.hashtable.PyObjectHashTable.map_locations\u001b[1;34m()\u001b[0m\n",
      "\u001b[1;31mTypeError\u001b[0m: unhashable type: 'list'"
     ]
    },
    {
     "name": "stderr",
     "output_type": "stream",
     "text": [
      "Exception ignored in: 'pandas._libs.index.IndexEngine._call_map_locations'\n",
      "Traceback (most recent call last):\n",
      "  File \"pandas\\_libs\\hashtable_class_helper.pxi\", line 5231, in pandas._libs.hashtable.PyObjectHashTable.map_locations\n",
      "TypeError: unhashable type: 'list'\n"
     ]
    },
    {
     "data": {
      "text/plain": [
       "[\\nOnyx Schwarz\\n]                     338\n",
       "[\\nBianco\\n]                           282\n",
       "[\\nMythosschwarz Metallic\\n]           238\n",
       "[\\nBrillantschwarz\\n]                  216\n",
       "[\\nGris\\n]                             204\n",
       "                                      ... \n",
       "[\\nRouge-Braun (G0Y)\\n]                  1\n",
       "[\\nVARI COLRI DISPONIBILI\\n]             1\n",
       "[\\nKokosnussbraun Metallic\\n]            1\n",
       "[\\nFarbe frei wählbar\\n]                 1\n",
       "[\\nPerlmutt-Weiß Metallic (Weiß)\\n]      1\n",
       "Name: body_color_original, Length: 1927, dtype: int64"
      ]
     },
     "execution_count": 108,
     "metadata": {},
     "output_type": "execute_result"
    }
   ],
   "source": [
    "df['body_color_original'].value_counts()"
   ]
  },
  {
   "cell_type": "code",
   "execution_count": 109,
   "id": "ca715412",
   "metadata": {},
   "outputs": [],
   "source": [
    "df['body_color_original'] = [re.sub('\\n','',x[0])  if (x.__class__ == list) else x \n",
    "                             for x in df['body_color_original']]"
   ]
  },
  {
   "cell_type": "code",
   "execution_count": 110,
   "id": "096dff46",
   "metadata": {},
   "outputs": [
    {
     "data": {
      "text/plain": [
       "Onyx Schwarz                     338\n",
       "Bianco                           282\n",
       "Mythosschwarz Metallic           238\n",
       "Brillantschwarz                  216\n",
       "Gris                             204\n",
       "                                ... \n",
       "Rouge-Braun (G0Y)                  1\n",
       "VARI COLRI DISPONIBILI             1\n",
       "Kokosnussbraun Metallic            1\n",
       "Farbe frei wählbar                 1\n",
       "Perlmutt-Weiß Metallic (Weiß)      1\n",
       "Name: body_color_original, Length: 1927, dtype: int64"
      ]
     },
     "execution_count": 110,
     "metadata": {},
     "output_type": "execute_result"
    }
   ],
   "source": [
    "df['body_color_original'].value_counts()"
   ]
  },
  {
   "cell_type": "code",
   "execution_count": 111,
   "id": "8a2f0554",
   "metadata": {},
   "outputs": [
    {
     "data": {
      "text/plain": [
       "False    15322\n",
       "True       597\n",
       "Name: body_color, dtype: int64"
      ]
     },
     "execution_count": 111,
     "metadata": {},
     "output_type": "execute_result"
    }
   ],
   "source": [
    "df['body_color'].isna().value_counts()"
   ]
  },
  {
   "cell_type": "code",
   "execution_count": 112,
   "id": "0b516063",
   "metadata": {},
   "outputs": [
    {
     "ename": "TypeError",
     "evalue": "unhashable type: 'list'",
     "output_type": "error",
     "traceback": [
      "\u001b[1;31m---------------------------------------------------------------------------\u001b[0m",
      "\u001b[1;31mTypeError\u001b[0m                                 Traceback (most recent call last)",
      "\u001b[1;32mpandas\\_libs\\hashtable_class_helper.pxi\u001b[0m in \u001b[0;36mpandas._libs.hashtable.PyObjectHashTable.map_locations\u001b[1;34m()\u001b[0m\n",
      "\u001b[1;31mTypeError\u001b[0m: unhashable type: 'list'"
     ]
    },
    {
     "name": "stderr",
     "output_type": "stream",
     "text": [
      "Exception ignored in: 'pandas._libs.index.IndexEngine._call_map_locations'\n",
      "Traceback (most recent call last):\n",
      "  File \"pandas\\_libs\\hashtable_class_helper.pxi\", line 5231, in pandas._libs.hashtable.PyObjectHashTable.map_locations\n",
      "TypeError: unhashable type: 'list'\n"
     ]
    },
    {
     "data": {
      "text/plain": [
       "[\\n, Black, \\n]     3745\n",
       "[\\n, Grey, \\n]      3505\n",
       "[\\n, White, \\n]     3406\n",
       "[\\n, Silver, \\n]    1647\n",
       "[\\n, Blue, \\n]      1431\n",
       "[\\n, Red, \\n]        957\n",
       "[\\n, Brown, \\n]      289\n",
       "[\\n, Green, \\n]      154\n",
       "[\\n, Beige, \\n]      108\n",
       "[\\n, Yellow, \\n]      51\n",
       "[\\n, Violet, \\n]      18\n",
       "[\\n, Bronze, \\n]       6\n",
       "[\\n, Orange, \\n]       3\n",
       "[\\n, Gold, \\n]         2\n",
       "Name: body_color, dtype: int64"
      ]
     },
     "execution_count": 112,
     "metadata": {},
     "output_type": "execute_result"
    }
   ],
   "source": [
    "df['body_color'].value_counts()"
   ]
  },
  {
   "cell_type": "code",
   "execution_count": 113,
   "id": "77012367",
   "metadata": {},
   "outputs": [],
   "source": [
    "df['body_color'] = [re.sub('\\n','',x[1])  if (x.__class__ == list) else x \n",
    "                             for x in df['body_color']]"
   ]
  },
  {
   "cell_type": "code",
   "execution_count": 114,
   "id": "39e29d9b",
   "metadata": {},
   "outputs": [
    {
     "data": {
      "text/plain": [
       "['Violet', 'Bronze', 'Orange', 'Gold']"
      ]
     },
     "execution_count": 114,
     "metadata": {},
     "output_type": "execute_result"
    }
   ],
   "source": [
    "vc = df['body_color'].value_counts()\n",
    "make_others = [i for i in vc.index][-4:]\n",
    "make_others"
   ]
  },
  {
   "cell_type": "code",
   "execution_count": 115,
   "id": "bc44dbbc",
   "metadata": {},
   "outputs": [
    {
     "data": {
      "text/plain": [
       "Black     3745\n",
       "Grey      3505\n",
       "White     3406\n",
       "Silver    1647\n",
       "Blue      1431\n",
       "Red        957\n",
       "Brown      289\n",
       "Green      154\n",
       "Beige      108\n",
       "Yellow      51\n",
       "other       29\n",
       "Name: body_color, dtype: int64"
      ]
     },
     "execution_count": 115,
     "metadata": {},
     "output_type": "execute_result"
    }
   ],
   "source": [
    "df['body_color'] = ['other' if x in make_others else x for x in df['body_color']]\n",
    "df['body_color'].value_counts()"
   ]
  },
  {
   "cell_type": "code",
   "execution_count": 116,
   "id": "bba80282",
   "metadata": {},
   "outputs": [
    {
     "data": {
      "text/plain": [
       "black     3745\n",
       "grey      3505\n",
       "white     3406\n",
       "silver    1647\n",
       "blue      1431\n",
       "red        957\n",
       "brown      289\n",
       "green      154\n",
       "beige      108\n",
       "yellow      51\n",
       "other       29\n",
       "Name: body_color, dtype: int64"
      ]
     },
     "execution_count": 116,
     "metadata": {},
     "output_type": "execute_result"
    }
   ],
   "source": [
    "df['body_color'] = [x.lower() if x.__class__ == str else x for x in df['body_color']]\n",
    "df['body_color'].value_counts()"
   ]
  },
  {
   "cell_type": "code",
   "execution_count": 117,
   "id": "d9123549",
   "metadata": {},
   "outputs": [],
   "source": [
    "ignore.add('body_color_original')\n",
    "to_encode.add('body_color')"
   ]
  },
  {
   "cell_type": "markdown",
   "id": "4876a7b8",
   "metadata": {},
   "source": [
    "Explore upholstery\n",
    "\n",
    "Split it into upholstery_material and upholstery_color"
   ]
  },
  {
   "cell_type": "code",
   "execution_count": 118,
   "id": "3ef0af2a",
   "metadata": {
    "scrolled": true
   },
   "outputs": [
    {
     "ename": "TypeError",
     "evalue": "unhashable type: 'list'",
     "output_type": "error",
     "traceback": [
      "\u001b[1;31m---------------------------------------------------------------------------\u001b[0m",
      "\u001b[1;31mTypeError\u001b[0m                                 Traceback (most recent call last)",
      "\u001b[1;32mpandas\\_libs\\hashtable_class_helper.pxi\u001b[0m in \u001b[0;36mpandas._libs.hashtable.PyObjectHashTable.map_locations\u001b[1;34m()\u001b[0m\n",
      "\u001b[1;31mTypeError\u001b[0m: unhashable type: 'list'"
     ]
    },
    {
     "name": "stderr",
     "output_type": "stream",
     "text": [
      "Exception ignored in: 'pandas._libs.index.IndexEngine._call_map_locations'\n",
      "Traceback (most recent call last):\n",
      "  File \"pandas\\_libs\\hashtable_class_helper.pxi\", line 5231, in pandas._libs.hashtable.PyObjectHashTable.map_locations\n",
      "TypeError: unhashable type: 'list'\n"
     ]
    },
    {
     "data": {
      "text/plain": [
       "[\\nCloth, Black\\n]           5821\n",
       "[\\nPart leather, Black\\n]    1121\n",
       "[\\nCloth\\n]                  1005\n",
       "[\\nCloth, Grey\\n]             891\n",
       "[\\nCloth, Other\\n]            639\n",
       "[\\nFull leather, Black\\n]     575\n",
       "[\\nBlack\\n]                   491\n",
       "[\\nGrey\\n]                    273\n",
       "[\\nOther, Other\\n]            182\n",
       "[\\nPart leather\\n]            140\n",
       "[\\nFull leather\\n]            139\n",
       "[\\nPart leather, Grey\\n]      116\n",
       "[\\nFull leather, Brown\\n]     116\n",
       "[\\nOther, Black\\n]            110\n",
       "[\\nFull leather, Other\\n]      72\n",
       "[\\nFull leather, Grey\\n]       67\n",
       "[\\nPart leather, Other\\n]      65\n",
       "[\\nOther\\n]                    56\n",
       "[\\nPart leather, Brown\\n]      50\n",
       "[\\nalcantara, Black\\n]         47\n",
       "[\\nFull leather, Beige\\n]      36\n",
       "[\\nVelour, Black\\n]            36\n",
       "[\\nCloth, Brown\\n]             28\n",
       "[\\nVelour\\n]                   16\n",
       "[\\nOther, Grey\\n]              15\n",
       "[\\nCloth, Beige\\n]             13\n",
       "[\\nBrown\\n]                    12\n",
       "[\\nCloth, Blue\\n]              12\n",
       "[\\nCloth, White\\n]              8\n",
       "[\\nVelour, Grey\\n]              8\n",
       "[\\nalcantara, Grey\\n]           6\n",
       "[\\nCloth, Red\\n]                5\n",
       "[\\nOther, Yellow\\n]             4\n",
       "[\\nBeige\\n]                     3\n",
       "[\\nPart leather, Red\\n]         3\n",
       "[\\nalcantara\\n]                 2\n",
       "[\\nPart leather, White\\n]       2\n",
       "[\\nBlue\\n]                      2\n",
       "[\\nWhite\\n]                     2\n",
       "[\\nPart leather, Beige\\n]       2\n",
       "[\\nalcantara, Other\\n]          2\n",
       "[\\nFull leather, Blue\\n]        2\n",
       "[\\nOther, Brown\\n]              1\n",
       "[\\nCloth, Orange\\n]             1\n",
       "[\\nFull leather, Red\\n]         1\n",
       "[\\nFull leather, White\\n]       1\n",
       "Name: upholstery, dtype: int64"
      ]
     },
     "execution_count": 118,
     "metadata": {},
     "output_type": "execute_result"
    }
   ],
   "source": [
    "df['upholstery'].value_counts()"
   ]
  },
  {
   "cell_type": "code",
   "execution_count": 119,
   "id": "618c938d",
   "metadata": {},
   "outputs": [
    {
     "data": {
      "text/plain": [
       "cloth           8423\n",
       "part leather    1499\n",
       "full leather    1009\n",
       "other            368\n",
       "velour            60\n",
       "alcantara         57\n",
       "Name: upholstery_material, dtype: int64"
      ]
     },
     "execution_count": 119,
     "metadata": {},
     "output_type": "execute_result"
    }
   ],
   "source": [
    "df['upholstery_material'] = [re.sub('\\n|,','',x[0].split(',')[0])  if (x.__class__ == list) else x \n",
    "                             for x in df['upholstery']]\n",
    "colors = ['Black', 'Grey', 'Brown', 'Beige', 'Blue', 'White']\n",
    "df['upholstery_material'] = [float('nan') if x in colors else x for x in df['upholstery_material']]\n",
    "df['upholstery_material'] = [x.lower() if x.__class__ == str else x for x in df['upholstery_material']]\n",
    "df['upholstery_material'].value_counts() "
   ]
  },
  {
   "cell_type": "code",
   "execution_count": 120,
   "id": "4696aeec",
   "metadata": {},
   "outputs": [
    {
     "data": {
      "text/plain": [
       "black           8201\n",
       "grey            1376\n",
       "other           1016\n",
       "cloth           1005\n",
       "brown            207\n",
       "part leather     140\n",
       "full leather     139\n",
       "beige             54\n",
       "velour            16\n",
       "blue              16\n",
       "white             13\n",
       "red                9\n",
       "yellow             4\n",
       "orange             1\n",
       "Name: upholstery_color, dtype: int64"
      ]
     },
     "execution_count": 120,
     "metadata": {},
     "output_type": "execute_result"
    }
   ],
   "source": [
    "material = [i for i in df['upholstery_material'].value_counts().index]\n",
    "df['upholstery_color'] = [re.sub('\\n|,','',x[0].split(',')[-1].strip()) if x.__class__ == list else x for x in df['upholstery']]\n",
    "df['upholstery_color'] = [float('nan') if x in material else x for x in df['upholstery_color']]\n",
    "df['upholstery_color'] = [x.lower() if x.__class__ == str else x for x in df['upholstery_color']]\n",
    "df['upholstery_color'].value_counts()"
   ]
  },
  {
   "cell_type": "code",
   "execution_count": 121,
   "id": "b17e1568",
   "metadata": {},
   "outputs": [],
   "source": [
    "vc = df['upholstery_color'].value_counts()\n",
    "other_color = [i for i in vc.index][-5:]\n",
    "df['upholstery_color'] = ['other' if x in other_color else x for x in df['upholstery_color']]"
   ]
  },
  {
   "cell_type": "code",
   "execution_count": 122,
   "id": "62cfa9c5",
   "metadata": {},
   "outputs": [
    {
     "data": {
      "text/plain": [
       "black           8201\n",
       "grey            1376\n",
       "other           1059\n",
       "cloth           1005\n",
       "brown            207\n",
       "part leather     140\n",
       "full leather     139\n",
       "beige             54\n",
       "velour            16\n",
       "Name: upholstery_color, dtype: int64"
      ]
     },
     "execution_count": 122,
     "metadata": {},
     "output_type": "execute_result"
    }
   ],
   "source": [
    "df['upholstery_color'].value_counts()"
   ]
  },
  {
   "cell_type": "code",
   "execution_count": 123,
   "id": "d43641bc",
   "metadata": {},
   "outputs": [],
   "source": [
    "ignore.add('upholstery')\n",
    "to_encode.add('upholstery_color')\n",
    "to_encode.add('upholstery_material')"
   ]
  },
  {
   "cell_type": "markdown",
   "id": "949f27de",
   "metadata": {},
   "source": [
    "Explore offer_number \n",
    "\n",
    "Seems to be a unique identifier, can ignore"
   ]
  },
  {
   "cell_type": "raw",
   "id": "ef6e37ff",
   "metadata": {},
   "source": [
    "df['offer_number'].value_counts()"
   ]
  },
  {
   "cell_type": "code",
   "execution_count": 124,
   "id": "7a25128c",
   "metadata": {},
   "outputs": [],
   "source": [
    "ignore.add('offer_number')"
   ]
  },
  {
   "cell_type": "markdown",
   "id": "7f19f7d1",
   "metadata": {},
   "source": [
    "Explore emission_class\n",
    "\n",
    "Can be encoded to dummies"
   ]
  },
  {
   "cell_type": "code",
   "execution_count": 125,
   "id": "c554ee78",
   "metadata": {},
   "outputs": [
    {
     "ename": "TypeError",
     "evalue": "unhashable type: 'list'",
     "output_type": "error",
     "traceback": [
      "\u001b[1;31m---------------------------------------------------------------------------\u001b[0m",
      "\u001b[1;31mTypeError\u001b[0m                                 Traceback (most recent call last)",
      "\u001b[1;32mpandas\\_libs\\hashtable_class_helper.pxi\u001b[0m in \u001b[0;36mpandas._libs.hashtable.PyObjectHashTable.map_locations\u001b[1;34m()\u001b[0m\n",
      "\u001b[1;31mTypeError\u001b[0m: unhashable type: 'list'"
     ]
    },
    {
     "name": "stderr",
     "output_type": "stream",
     "text": [
      "Exception ignored in: 'pandas._libs.index.IndexEngine._call_map_locations'\n",
      "Traceback (most recent call last):\n",
      "  File \"pandas\\_libs\\hashtable_class_helper.pxi\", line 5231, in pandas._libs.hashtable.PyObjectHashTable.map_locations\n",
      "TypeError: unhashable type: 'list'\n"
     ]
    },
    {
     "data": {
      "text/plain": [
       "[\\nEuro 6\\n]          10139\n",
       "[\\nEuro 6d-TEMP\\n]     1845\n",
       "[[], [], []]            607\n",
       "[\\nEuro 6c\\n]           127\n",
       "[\\nEuro 5\\n]             78\n",
       "[\\nEuro 6d\\n]            62\n",
       "[\\nEuro 4\\n]             40\n",
       "Name: emission_class, dtype: int64"
      ]
     },
     "execution_count": 125,
     "metadata": {},
     "output_type": "execute_result"
    }
   ],
   "source": [
    "df['emission_class'].value_counts()"
   ]
  },
  {
   "cell_type": "code",
   "execution_count": 126,
   "id": "c09d7b55",
   "metadata": {},
   "outputs": [
    {
     "data": {
      "text/plain": [
       "Euro 6          10139\n",
       "Euro 6d-TEMP     1845\n",
       "Euro 6c           127\n",
       "Euro 5             78\n",
       "Euro 6d            62\n",
       "Euro 4             40\n",
       "Name: temp, dtype: int64"
      ]
     },
     "execution_count": 126,
     "metadata": {},
     "output_type": "execute_result"
    }
   ],
   "source": [
    "df['temp'] = [x[0] if x.__class__ == list else x for x in df['emission_class']]\n",
    "df['temp'] = [float('nan') if x.__class__ == list else x for x in df['temp']]\n",
    "df['temp'] = [re.sub('\\n','',x) if x.__class__ == str else x for x in df['temp']]\n",
    "df['temp'].value_counts()"
   ]
  },
  {
   "cell_type": "code",
   "execution_count": 127,
   "id": "dafae8ab",
   "metadata": {},
   "outputs": [],
   "source": [
    "df['emission_class'] = df['temp'].copy()"
   ]
  },
  {
   "cell_type": "code",
   "execution_count": 128,
   "id": "509707b3",
   "metadata": {},
   "outputs": [],
   "source": [
    "df['emission_class'] = [x.lower() if x.__class__ == str else x for x in df['emission_class']]"
   ]
  },
  {
   "cell_type": "code",
   "execution_count": 129,
   "id": "77213d87",
   "metadata": {},
   "outputs": [
    {
     "data": {
      "text/plain": [
       "euro 6          10139\n",
       "euro 6d-temp     1845\n",
       "euro 6c           127\n",
       "euro 5             78\n",
       "euro 6d            62\n",
       "euro 4             40\n",
       "Name: emission_class, dtype: int64"
      ]
     },
     "execution_count": 129,
     "metadata": {},
     "output_type": "execute_result"
    }
   ],
   "source": [
    "df['emission_class'].value_counts()"
   ]
  },
  {
   "cell_type": "markdown",
   "id": "9bb0c166",
   "metadata": {},
   "source": [
    "Explore extras\n",
    "\n",
    "Collect unique extra features in a new list extra_features\n",
    "\n",
    "Make extra features into dummy variables"
   ]
  },
  {
   "cell_type": "code",
   "execution_count": 130,
   "id": "a576fd4d",
   "metadata": {
    "scrolled": false
   },
   "outputs": [
    {
     "ename": "TypeError",
     "evalue": "unhashable type: 'list'",
     "output_type": "error",
     "traceback": [
      "\u001b[1;31m---------------------------------------------------------------------------\u001b[0m",
      "\u001b[1;31mTypeError\u001b[0m                                 Traceback (most recent call last)",
      "\u001b[1;32mpandas\\_libs\\hashtable_class_helper.pxi\u001b[0m in \u001b[0;36mpandas._libs.hashtable.PyObjectHashTable.map_locations\u001b[1;34m()\u001b[0m\n",
      "\u001b[1;31mTypeError\u001b[0m: unhashable type: 'list'"
     ]
    },
    {
     "name": "stderr",
     "output_type": "stream",
     "text": [
      "Exception ignored in: 'pandas._libs.index.IndexEngine._call_map_locations'\n",
      "Traceback (most recent call last):\n",
      "  File \"pandas\\_libs\\hashtable_class_helper.pxi\", line 5231, in pandas._libs.hashtable.PyObjectHashTable.map_locations\n",
      "TypeError: unhashable type: 'list'\n"
     ]
    },
    {
     "data": {
      "text/plain": [
       "[Alloy wheels]                                                                                                     3245\n",
       "[Alloy wheels, Touch screen]                                                                                        697\n",
       "[Alloy wheels, Voice Control]                                                                                       577\n",
       "[Alloy wheels, Touch screen, Voice Control]                                                                         541\n",
       "[Alloy wheels, Roof rack]                                                                                           385\n",
       "                                                                                                                   ... \n",
       "[Alloy wheels, Catalytic Converter, Shift paddles, Sport package, Sport seats, Sport suspension, Voice Control]       1\n",
       "[Alloy wheels, Catalytic Converter, Roof rack, Sport package, Sport seats, Trailer hitch]                             1\n",
       "[Alloy wheels, Catalytic Converter, Ski bag, Sport package, Voice Control]                                            1\n",
       "[Catalytic Converter, Roof rack, Sport seats, Sport suspension]                                                       1\n",
       "[Alloy wheels, Shift paddles, Ski bag, Sport seats, Sport suspension, Touch screen, Voice Control]                    1\n",
       "Name: extras, Length: 659, dtype: int64"
      ]
     },
     "execution_count": 130,
     "metadata": {},
     "output_type": "execute_result"
    }
   ],
   "source": [
    "df['extras'].value_counts()"
   ]
  },
  {
   "cell_type": "code",
   "execution_count": 131,
   "id": "1528d06a",
   "metadata": {},
   "outputs": [
    {
     "name": "stdout",
     "output_type": "stream",
     "text": [
      "{'Touch screen', 'Roof rack', 'Voice Control', 'Handicapped enabled', 'Alloy wheels', 'Trailer hitch', 'Sport suspension', 'Sport seats', 'Right hand drive', 'Winter tyres', 'Shift paddles', 'Sport package', 'Ski bag', 'Sliding door', 'Tuned car', 'Cab or rented Car', 'Catalytic Converter'}\n"
     ]
    }
   ],
   "source": [
    "extra_features = set()\n",
    "for li in df['extras']:\n",
    "    if li.__class__ != list:\n",
    "        continue\n",
    "    for ef in li:\n",
    "        extra_features.add(ef)\n",
    "print(extra_features)"
   ]
  },
  {
   "cell_type": "code",
   "execution_count": 132,
   "id": "c0bef59c",
   "metadata": {
    "scrolled": true
   },
   "outputs": [
    {
     "name": "stdout",
     "output_type": "stream",
     "text": [
      "0.0    8914\n",
      "1.0    4043\n",
      "Name: extra_touch_screen, dtype: int64\n",
      "0.0    10310\n",
      "1.0     2647\n",
      "Name: extra_roof_rack, dtype: int64\n",
      "0.0    8631\n",
      "1.0    4326\n",
      "Name: extra_voice_control, dtype: int64\n",
      "0.0    12905\n",
      "1.0       52\n",
      "Name: extra_handicapped_enabled, dtype: int64\n",
      "1.0    11294\n",
      "0.0     1663\n",
      "Name: extra_alloy_wheels, dtype: int64\n",
      "0.0    12303\n",
      "1.0      654\n",
      "Name: extra_trailer_hitch, dtype: int64\n",
      "0.0    11338\n",
      "1.0     1619\n",
      "Name: extra_sport_suspension, dtype: int64\n",
      "0.0    9859\n",
      "1.0    3098\n",
      "Name: extra_sport_seats, dtype: int64\n",
      "0.0    12954\n",
      "1.0        3\n",
      "Name: extra_right_hand_drive, dtype: int64\n",
      "0.0    12711\n",
      "1.0      246\n",
      "Name: extra_winter_tyres, dtype: int64\n",
      "0.0    12449\n",
      "1.0      508\n",
      "Name: extra_shift_paddles, dtype: int64\n",
      "0.0    11759\n",
      "1.0     1198\n",
      "Name: extra_sport_package, dtype: int64\n",
      "0.0    12710\n",
      "1.0      247\n",
      "Name: extra_ski_bag, dtype: int64\n",
      "0.0    12954\n",
      "1.0        3\n",
      "Name: extra_sliding_door, dtype: int64\n",
      "0.0    12944\n",
      "1.0       13\n",
      "Name: extra_tuned_car, dtype: int64\n",
      "0.0    12647\n",
      "1.0      310\n",
      "Name: extra_cab_or_rented_car, dtype: int64\n",
      "0.0    10699\n",
      "1.0     2258\n",
      "Name: extra_catalytic_converter, dtype: int64\n"
     ]
    }
   ],
   "source": [
    "for ef in extra_features:\n",
    "    name = 'extra_' + re.sub('\\s','_',ef.lower())\n",
    "    df[name] = [1*(ef in x) if x.__class__ == list else float('nan') for x in df['extras']]\n",
    "    print(df[name].value_counts())"
   ]
  },
  {
   "cell_type": "code",
   "execution_count": 133,
   "id": "41635ad6",
   "metadata": {},
   "outputs": [],
   "source": [
    "for i in ['catalytic converter', 'winter_tyres', 'tuned car', 'sport package']:\n",
    "    ignore.add('extra_' + i)"
   ]
  },
  {
   "cell_type": "markdown",
   "id": "ed5e313a",
   "metadata": {},
   "source": [
    "Explore consumption\n",
    "\n",
    "Str, lists, or list of lists with combinations of three kinds of values: comb, city, country.\n",
    "\n",
    "Make three columns, extract and match from consumption to fill the columns.\n",
    "Split each entry by space to extract number and units.\n"
   ]
  },
  {
   "cell_type": "code",
   "execution_count": 134,
   "id": "f5bfb39f",
   "metadata": {
    "scrolled": true
   },
   "outputs": [
    {
     "ename": "TypeError",
     "evalue": "unhashable type: 'list'",
     "output_type": "error",
     "traceback": [
      "\u001b[1;31m---------------------------------------------------------------------------\u001b[0m",
      "\u001b[1;31mTypeError\u001b[0m                                 Traceback (most recent call last)",
      "\u001b[1;32mpandas\\_libs\\hashtable_class_helper.pxi\u001b[0m in \u001b[0;36mpandas._libs.hashtable.PyObjectHashTable.map_locations\u001b[1;34m()\u001b[0m\n",
      "\u001b[1;31mTypeError\u001b[0m: unhashable type: 'list'"
     ]
    },
    {
     "name": "stderr",
     "output_type": "stream",
     "text": [
      "Exception ignored in: 'pandas._libs.index.IndexEngine._call_map_locations'\n",
      "Traceback (most recent call last):\n",
      "  File \"pandas\\_libs\\hashtable_class_helper.pxi\", line 5231, in pandas._libs.hashtable.PyObjectHashTable.map_locations\n",
      "TypeError: unhashable type: 'list'\n"
     ]
    },
    {
     "data": {
      "text/plain": [
       "[[3.9 l/100 km (comb)], [4.1 l/100 km (city)], [3.7 l/100 km (country)]]              304\n",
       "[[4.2 l/100 km (comb)], [5 l/100 km (city)], [3.7 l/100 km (country)]]                276\n",
       "[[5.4 l/100 km (comb)], [6.8 l/100 km (city)], [4.5 l/100 km (country)]]              257\n",
       "[[3.8 l/100 km (comb)], [4.3 l/100 km (city)], [3.5 l/100 km (country)]]              253\n",
       "[[4.7 l/100 km (comb)], [5.1 l/100 km (city)], [4.4 l/100 km (country)]]              244\n",
       "                                                                                     ... \n",
       "[[4.2 l/100 km (comb)], [5.3 l/100 km (city)], [3.6 l/100 km (country)]]                1\n",
       "[\\n, 5.1 l/100 km (comb), \\n, 6.4 l/100 km (city), \\n, 4.3 l/100 km (country), \\n]      1\n",
       "[[4.6 l/100 km (comb)], [5.4 l/100 km (city)], [6.7 l/100 km (country)]]                1\n",
       "[\\n, 6.3 l/100 km (comb), \\n, \\n, \\n]                                                   1\n",
       "[\\n, 7.4 l/100 km (comb), \\n, 9.6 l/100 km (city), \\n, 6 l/100 km (country), \\n]        1\n",
       "Name: consumption, Length: 881, dtype: int64"
      ]
     },
     "execution_count": 134,
     "metadata": {},
     "output_type": "execute_result"
    }
   ],
   "source": [
    "df['consumption'].value_counts()"
   ]
  },
  {
   "cell_type": "code",
   "execution_count": 135,
   "id": "9235ea3c",
   "metadata": {},
   "outputs": [
    {
     "data": {
      "text/plain": [
       "14013"
      ]
     },
     "execution_count": 135,
     "metadata": {},
     "output_type": "execute_result"
    }
   ],
   "source": [
    "df['consumption'].value_counts().sum()"
   ]
  },
  {
   "cell_type": "code",
   "execution_count": 136,
   "id": "a28d3ee3",
   "metadata": {},
   "outputs": [],
   "source": [
    "comb = [float('nan') for x in df['consumption']]\n",
    "city = [float('nan') for x in df['consumption']]\n",
    "country = [float('nan') for x in df['consumption']]\n",
    "d = {'comb': comb, 'city':city, 'country':country}"
   ]
  },
  {
   "cell_type": "code",
   "execution_count": 137,
   "id": "b641de56",
   "metadata": {},
   "outputs": [],
   "source": [
    "#df['consumption'].size\n",
    "for i in range(df['consumption'].size):\n",
    "    x = df['consumption'][i]\n",
    "    if x.__class__ == str: # string (unlikely)\n",
    "        for p in d.keys():\n",
    "            if re.search(p,x):\n",
    "                li = d[p]\n",
    "                li[i] = x\n",
    "                #print(p, d[p][i])\n",
    "    elif x.__class__ == list: # list of string\n",
    "        for y in x:\n",
    "            if y.__class__ == str:\n",
    "                for p in d.keys():\n",
    "                    if re.search(p,y):\n",
    "                        li = d[p]\n",
    "                        li[i] = y\n",
    "                        #print(p,d[p][i])\n",
    "            if y.__class__ == list: # list of lists\n",
    "                for z in y:\n",
    "                    if z.__class__ == str:\n",
    "                        for p in d.keys():\n",
    "                            if re.search(p,z):\n",
    "                                li = d[p]\n",
    "                                li[i] = z\n",
    "                                #print(p, d[p][i])"
   ]
  },
  {
   "cell_type": "code",
   "execution_count": 138,
   "id": "89a9279e",
   "metadata": {},
   "outputs": [
    {
     "data": {
      "text/plain": [
       "(13886, 13483, 13543)"
      ]
     },
     "execution_count": 138,
     "metadata": {},
     "output_type": "execute_result"
    }
   ],
   "source": [
    "sum([c.__class__ == str for c in comb]), sum([c.__class__ == str for c in city]), sum([c.__class__ == str for c in country])"
   ]
  },
  {
   "cell_type": "code",
   "execution_count": 139,
   "id": "a34e90d4",
   "metadata": {},
   "outputs": [],
   "source": [
    "df['consumption_comb'] = comb\n",
    "df['consumption_city'] = city\n",
    "df['consumption_country'] = country"
   ]
  },
  {
   "cell_type": "code",
   "execution_count": 140,
   "id": "d5dcf945",
   "metadata": {},
   "outputs": [
    {
     "data": {
      "text/plain": [
       "8 l/100 km (comb)       5\n",
       "8.6 l/100 km (comb)     4\n",
       "51 l/100 km (comb)      4\n",
       "7.9 l/100 km (comb)     3\n",
       "5.1 kg/100 km (comb)    3\n",
       "8.7 l/100 km (comb)     3\n",
       "1.6 l/100 km (comb)     3\n",
       "3.5 kg/100 km (comb)    3\n",
       "38 l/100 km (comb)      2\n",
       "40 l/100 km (comb)      2\n",
       "8.1 l/100 km (comb)     2\n",
       "0 l/100 km (comb)       2\n",
       "7.3 l/100 km (comb)     2\n",
       "55 l/100 km (comb)      1\n",
       "46 l/100 km (comb)      1\n",
       "1 l/100 km (comb)       1\n",
       "50 l/100 km (comb)      1\n",
       "33 l/100 km (comb)      1\n",
       "32 l/100 km (comb)      1\n",
       "1.2 l/100 km (comb)     1\n",
       "54 l/100 km (comb)      1\n",
       "8.3 kg/100 km (comb)    1\n",
       "3.6 kg/100 km (comb)    1\n",
       "5.4 kg/100 km (comb)    1\n",
       "9.1 l/100 km (comb)     1\n",
       "11 l/100 km (comb)      1\n",
       "5.3 kg/100 km (comb)    1\n",
       "7.5 l/100 km (comb)     1\n",
       "13.8 l/100 km (comb)    1\n",
       "43 l/100 km (comb)      1\n",
       "Name: consumption_comb, dtype: int64"
      ]
     },
     "execution_count": 140,
     "metadata": {},
     "output_type": "execute_result"
    }
   ],
   "source": [
    "df['consumption_comb'].value_counts()[50:]\n",
    "# only 22 times kg/100 km, rest l/100 km, assume all to be l/100 km\n",
    "# extract only first part of string after splitting by \\s"
   ]
  },
  {
   "cell_type": "code",
   "execution_count": 141,
   "id": "fcae7732",
   "metadata": {
    "scrolled": true
   },
   "outputs": [
    {
     "name": "stdout",
     "output_type": "stream",
     "text": [
      "5.4     770\n",
      "3.9     733\n",
      "4.0     713\n",
      "5.1     657\n",
      "4.4     623\n",
      "       ... \n",
      "33.0      1\n",
      "50.0      1\n",
      "1.0       1\n",
      "46.0      1\n",
      "11.0      1\n",
      "Name: consumption_comb, Length: 72, dtype: int64\n",
      "5.0     669\n",
      "5.8     633\n",
      "4.5     580\n",
      "4.3     533\n",
      "5.1     479\n",
      "       ... \n",
      "66.0      1\n",
      "9.0       1\n",
      "10.4      1\n",
      "19.9      1\n",
      "9.7       1\n",
      "Name: consumption_city, Length: 86, dtype: int64\n",
      "4.2     1178\n",
      "3.7     1089\n",
      "4.4      898\n",
      "4.5      848\n",
      "3.8      802\n",
      "3.9      777\n",
      "4.7      615\n",
      "4.1      592\n",
      "4.0      589\n",
      "3.5      525\n",
      "4.3      520\n",
      "4.6      516\n",
      "3.6      486\n",
      "4.9      481\n",
      "3.1      481\n",
      "3.3      457\n",
      "3.4      353\n",
      "4.8      341\n",
      "5.3      278\n",
      "5.4      239\n",
      "5.1      232\n",
      "5.7      204\n",
      "3.2      180\n",
      "5.6      154\n",
      "3.0      142\n",
      "5.0      130\n",
      "5.2      117\n",
      "6.3       52\n",
      "6.0       42\n",
      "5.5       36\n",
      "10.0      32\n",
      "5.8       30\n",
      "7.7       20\n",
      "6.6       19\n",
      "2.9       16\n",
      "6.4       15\n",
      "2.8        9\n",
      "0.0        9\n",
      "7.3        4\n",
      "44.0       4\n",
      "6.5        4\n",
      "7.0        3\n",
      "7.1        3\n",
      "6.9        2\n",
      "35.0       2\n",
      "37.0       2\n",
      "6.1        2\n",
      "5.9        2\n",
      "6.7        2\n",
      "7.8        2\n",
      "7.6        1\n",
      "42.0       1\n",
      "8.0        1\n",
      "8.6        1\n",
      "10.3       1\n",
      "2.0        1\n",
      "1.0        1\n",
      "Name: consumption_country, dtype: int64\n"
     ]
    }
   ],
   "source": [
    "for c in [\"consumption_comb\", \"consumption_city\", \"consumption_country\"]:\n",
    "    df[c] = [float(x.split(' ')[0]) if x.__class__ == str else x for x in df[c]]\n",
    "    print(df[c].value_counts())"
   ]
  },
  {
   "cell_type": "code",
   "execution_count": 142,
   "id": "dcfc01a8",
   "metadata": {},
   "outputs": [
    {
     "data": {
      "text/plain": [
       "<AxesSubplot:ylabel='Frequency'>"
      ]
     },
     "execution_count": 142,
     "metadata": {},
     "output_type": "execute_result"
    },
    {
     "data": {
      "image/png": "[encoded data removed]",
      "text/plain": [
       "<Figure size 640x480 with 1 Axes>"
      ]
     },
     "metadata": {},
     "output_type": "display_data"
    }
   ],
   "source": [
    "df[\"consumption_comb\"].plot.hist(bins = [10,20,30,40,50,60])"
   ]
  },
  {
   "cell_type": "code",
   "execution_count": 143,
   "id": "2636b7d7",
   "metadata": {},
   "outputs": [],
   "source": [
    "df[\"consumption_comb\"] = [(11 if x > 10 else x) if x != float('nan') else x for x in df[\"consumption_comb\"]]"
   ]
  },
  {
   "cell_type": "code",
   "execution_count": 144,
   "id": "1d89fd8f",
   "metadata": {},
   "outputs": [
    {
     "data": {
      "text/plain": [
       "<AxesSubplot:ylabel='Frequency'>"
      ]
     },
     "execution_count": 144,
     "metadata": {},
     "output_type": "execute_result"
    },
    {
     "data": {
      "image/png": "[encoded data removed]",
      "text/plain": [
       "<Figure size 640x480 with 1 Axes>"
      ]
     },
     "metadata": {},
     "output_type": "display_data"
    }
   ],
   "source": [
    "df[\"consumption_comb\"].plot.hist()"
   ]
  },
  {
   "cell_type": "code",
   "execution_count": 145,
   "id": "cb5f1596",
   "metadata": {},
   "outputs": [
    {
     "data": {
      "text/plain": [
       "<AxesSubplot:ylabel='Frequency'>"
      ]
     },
     "execution_count": 145,
     "metadata": {},
     "output_type": "execute_result"
    },
    {
     "data": {
      "image/png": "[encoded data removed]",
      "text/plain": [
       "<Figure size 640x480 with 1 Axes>"
      ]
     },
     "metadata": {},
     "output_type": "display_data"
    }
   ],
   "source": [
    "df[\"consumption_city\"].plot.hist(bins = [0,5,10,20,60])"
   ]
  },
  {
   "cell_type": "code",
   "execution_count": 146,
   "id": "f3022b1b",
   "metadata": {},
   "outputs": [],
   "source": [
    "df[\"consumption_city\"] = [(11 if x > 10 else x) if x != float('nan') else x for x in df[\"consumption_city\"]]"
   ]
  },
  {
   "cell_type": "code",
   "execution_count": 147,
   "id": "78e1a496",
   "metadata": {
    "scrolled": true
   },
   "outputs": [
    {
     "data": {
      "text/plain": [
       "<AxesSubplot:ylabel='Frequency'>"
      ]
     },
     "execution_count": 147,
     "metadata": {},
     "output_type": "execute_result"
    },
    {
     "data": {
      "image/png": "[encoded data removed]",
      "text/plain": [
       "<Figure size 640x480 with 1 Axes>"
      ]
     },
     "metadata": {},
     "output_type": "display_data"
    }
   ],
   "source": [
    "df[\"consumption_city\"].plot.hist()"
   ]
  },
  {
   "cell_type": "code",
   "execution_count": 148,
   "id": "d602da11",
   "metadata": {},
   "outputs": [
    {
     "data": {
      "text/plain": [
       "<AxesSubplot:ylabel='Frequency'>"
      ]
     },
     "execution_count": 148,
     "metadata": {},
     "output_type": "execute_result"
    },
    {
     "data": {
      "image/png": "[encoded data removed]",
      "text/plain": [
       "<Figure size 640x480 with 1 Axes>"
      ]
     },
     "metadata": {},
     "output_type": "display_data"
    }
   ],
   "source": [
    "df[\"consumption_country\"].plot.hist(bins = [0,5,10,20,60])"
   ]
  },
  {
   "cell_type": "code",
   "execution_count": 149,
   "id": "67f65a85",
   "metadata": {},
   "outputs": [],
   "source": [
    "df[\"consumption_country\"] = [(11 if x > 10 else x) if x != float('nan') else x for x in df[\"consumption_country\"]]"
   ]
  },
  {
   "cell_type": "code",
   "execution_count": 150,
   "id": "64ddf053",
   "metadata": {},
   "outputs": [
    {
     "data": {
      "text/plain": [
       "<AxesSubplot:ylabel='Frequency'>"
      ]
     },
     "execution_count": 150,
     "metadata": {},
     "output_type": "execute_result"
    },
    {
     "data": {
      "image/png": "[encoded data removed]",
      "text/plain": [
       "<Figure size 640x480 with 1 Axes>"
      ]
     },
     "metadata": {},
     "output_type": "display_data"
    }
   ],
   "source": [
    "df[\"consumption_country\"].plot.hist()"
   ]
  },
  {
   "cell_type": "code",
   "execution_count": 151,
   "id": "a994af00",
   "metadata": {},
   "outputs": [],
   "source": [
    "ignore.add('consumption')"
   ]
  },
  {
   "cell_type": "markdown",
   "id": "f3c9fa73",
   "metadata": {},
   "source": [
    "Explore co2_emission\n",
    "\n",
    "Mostly string in a list with extra '\\n'"
   ]
  },
  {
   "cell_type": "code",
   "execution_count": 152,
   "id": "e409f97c",
   "metadata": {},
   "outputs": [
    {
     "ename": "TypeError",
     "evalue": "unhashable type: 'list'",
     "output_type": "error",
     "traceback": [
      "\u001b[1;31m---------------------------------------------------------------------------\u001b[0m",
      "\u001b[1;31mTypeError\u001b[0m                                 Traceback (most recent call last)",
      "\u001b[1;32mpandas\\_libs\\hashtable_class_helper.pxi\u001b[0m in \u001b[0;36mpandas._libs.hashtable.PyObjectHashTable.map_locations\u001b[1;34m()\u001b[0m\n",
      "\u001b[1;31mTypeError\u001b[0m: unhashable type: 'list'"
     ]
    },
    {
     "name": "stderr",
     "output_type": "stream",
     "text": [
      "Exception ignored in: 'pandas._libs.index.IndexEngine._call_map_locations'\n",
      "Traceback (most recent call last):\n",
      "  File \"pandas\\_libs\\hashtable_class_helper.pxi\", line 5231, in pandas._libs.hashtable.PyObjectHashTable.map_locations\n",
      "TypeError: unhashable type: 'list'\n"
     ]
    },
    {
     "data": {
      "text/plain": [
       "[\\n120 g CO2/km (comb)\\n]      740\n",
       "[[], [], []]                   628\n",
       "[\\n99 g CO2/km (comb)\\n]       545\n",
       "[\\n97 g CO2/km (comb)\\n]       537\n",
       "[\\n104 g CO2/km (comb)\\n]      501\n",
       "                              ... \n",
       "[\\n14 g CO2/km (comb)\\n]         1\n",
       "[\\n1,060 g CO2/km (comb)\\n]      1\n",
       "[\\n51 g CO2/km (comb)\\n]         1\n",
       "[\\n165 g CO2/km (comb)\\n]        1\n",
       "[\\n193 g CO2/km (comb)\\n]        1\n",
       "Name: co2_emission, Length: 123, dtype: int64"
      ]
     },
     "execution_count": 152,
     "metadata": {},
     "output_type": "execute_result"
    }
   ],
   "source": [
    "df['co2_emission'].value_counts()"
   ]
  },
  {
   "cell_type": "code",
   "execution_count": 153,
   "id": "0bfba718",
   "metadata": {},
   "outputs": [],
   "source": [
    "df['co2_emission'] = [(re.sub('\\n','',x[0]) if x[0].__class__ == str else float('nan')) \n",
    "                       if x.__class__ == list else x for x in df['co2_emission']]"
   ]
  },
  {
   "cell_type": "code",
   "execution_count": 154,
   "id": "c8f7aea6",
   "metadata": {},
   "outputs": [
    {
     "data": {
      "text/plain": [
       "171 g CO2/km (comb)       1\n",
       "183 g CO2/km (comb)       1\n",
       "1 g CO2/km (comb)         1\n",
       "180 g CO2/km (comb)       1\n",
       "177 g CO2/km (comb)       1\n",
       "331 g CO2/km (comb)       1\n",
       "181 g CO2/km (comb)       1\n",
       "13,983 g CO2/km (comb)    1\n",
       "184 g CO2/km (comb)       1\n",
       "14,457 g CO2/km (comb)    1\n",
       "14 g CO2/km (comb)        1\n",
       "239 g CO2/km (comb)       1\n",
       "1,060 g CO2/km (comb)     1\n",
       "190 g CO2/km (comb)       1\n",
       "990 g CO2/km (comb)       1\n",
       "253 g CO2/km (comb)       1\n",
       "160 g CO2/km (comb)       1\n",
       "80 g CO2/km (comb)        1\n",
       "51 g CO2/km (comb)        1\n",
       "165 g CO2/km (comb)       1\n",
       "12,324 g CO2/km (comb)    1\n",
       "193 g CO2/km (comb)       1\n",
       "Name: co2_emission, dtype: int64"
      ]
     },
     "execution_count": 154,
     "metadata": {},
     "output_type": "execute_result"
    }
   ],
   "source": [
    "df['co2_emission'].value_counts()[100:]\n",
    "# no. suffixed with \"g CO2/km (comb)\""
   ]
  },
  {
   "cell_type": "code",
   "execution_count": 155,
   "id": "8f9ff84f",
   "metadata": {},
   "outputs": [
    {
     "data": {
      "text/plain": [
       "120       740\n",
       "99        545\n",
       "97        537\n",
       "104       501\n",
       "102       477\n",
       "         ... \n",
       "80          1\n",
       "51          1\n",
       "165         1\n",
       "12,324      1\n",
       "193         1\n",
       "Name: co2_emission, Length: 122, dtype: int64"
      ]
     },
     "execution_count": 155,
     "metadata": {},
     "output_type": "execute_result"
    }
   ],
   "source": [
    "df['co2_emission'] = [x.split(' ')[0] if x.__class__ == str else float('nan') for x in df['co2_emission']]\n",
    "df['co2_emission'].value_counts()\n",
    "# 12,087  13,983 14,457 12,324  1,060 seem too high, all together only 6. drop"
   ]
  },
  {
   "cell_type": "code",
   "execution_count": 156,
   "id": "851c428b",
   "metadata": {
    "scrolled": true
   },
   "outputs": [
    {
     "data": {
      "text/plain": [
       "120.0    740\n",
       "99.0     545\n",
       "97.0     537\n",
       "104.0    501\n",
       "102.0    477\n",
       "        ... \n",
       "190.0      1\n",
       "160.0      1\n",
       "253.0      1\n",
       "165.0      1\n",
       "193.0      1\n",
       "Name: co2_emission, Length: 117, dtype: int64"
      ]
     },
     "execution_count": 156,
     "metadata": {},
     "output_type": "execute_result"
    }
   ],
   "source": [
    "df['co2_emission'] = [(float('nan') if re.search(',', x) else int(x)) if x.__class__ == str \n",
    "                       else float('nan') for x in df['co2_emission']]\n",
    "df['co2_emission'].value_counts()"
   ]
  },
  {
   "cell_type": "markdown",
   "id": "b4246341",
   "metadata": {},
   "source": [
    "Explore entertainment_media\n",
    "\n",
    "Make a set of entertainment media in the lists\n",
    "\n",
    "Make dummy for each in the set, ignore entertainment_media"
   ]
  },
  {
   "cell_type": "code",
   "execution_count": 157,
   "id": "95c906d5",
   "metadata": {},
   "outputs": [
    {
     "ename": "TypeError",
     "evalue": "unhashable type: 'list'",
     "output_type": "error",
     "traceback": [
      "\u001b[1;31m---------------------------------------------------------------------------\u001b[0m",
      "\u001b[1;31mTypeError\u001b[0m                                 Traceback (most recent call last)",
      "\u001b[1;32mpandas\\_libs\\hashtable_class_helper.pxi\u001b[0m in \u001b[0;36mpandas._libs.hashtable.PyObjectHashTable.map_locations\u001b[1;34m()\u001b[0m\n",
      "\u001b[1;31mTypeError\u001b[0m: unhashable type: 'list'"
     ]
    },
    {
     "name": "stderr",
     "output_type": "stream",
     "text": [
      "Exception ignored in: 'pandas._libs.index.IndexEngine._call_map_locations'\n",
      "Traceback (most recent call last):\n",
      "  File \"pandas\\_libs\\hashtable_class_helper.pxi\", line 5231, in pandas._libs.hashtable.PyObjectHashTable.map_locations\n",
      "TypeError: unhashable type: 'list'\n"
     ]
    },
    {
     "data": {
      "text/plain": [
       "[Bluetooth, Hands-free equipment, On-board computer, Radio, USB]                         1282\n",
       "[Bluetooth, Hands-free equipment, MP3, On-board computer, Radio, USB]                     982\n",
       "[Bluetooth, CD player, Hands-free equipment, MP3, On-board computer, Radio, USB]          783\n",
       "[On-board computer, Radio]                                                                487\n",
       "[Radio]                                                                                   477\n",
       "                                                                                         ... \n",
       "[Bluetooth, CD player, MP3]                                                                 1\n",
       "[CD player, USB]                                                                            1\n",
       "[Bluetooth, CD player, Digital radio, Radio, USB]                                           1\n",
       "[Bluetooth, CD player, Digital radio, MP3, On-board computer, Radio, Television, USB]       1\n",
       "[Hands-free equipment, On-board computer, Radio, Sound system]                              1\n",
       "Name: entertainment_media, Length: 346, dtype: int64"
      ]
     },
     "execution_count": 157,
     "metadata": {},
     "output_type": "execute_result"
    }
   ],
   "source": [
    "df['entertainment_media'].value_counts()\n",
    "# each entry is a list with string entries if not missing"
   ]
  },
  {
   "cell_type": "code",
   "execution_count": 158,
   "id": "fea95f0b",
   "metadata": {},
   "outputs": [
    {
     "data": {
      "text/plain": [
       "{'Bluetooth',\n",
       " 'CD player',\n",
       " 'Digital radio',\n",
       " 'Hands-free equipment',\n",
       " 'MP3',\n",
       " 'On-board computer',\n",
       " 'Radio',\n",
       " 'Sound system',\n",
       " 'Television',\n",
       " 'USB'}"
      ]
     },
     "execution_count": 158,
     "metadata": {},
     "output_type": "execute_result"
    }
   ],
   "source": [
    "ent = set()\n",
    "for x in df['entertainment_media']:\n",
    "    if x.__class__ != list:\n",
    "        continue\n",
    "    for y in x:\n",
    "        ent.add(y)\n",
    "ent"
   ]
  },
  {
   "cell_type": "code",
   "execution_count": 159,
   "id": "941dceef",
   "metadata": {},
   "outputs": [
    {
     "name": "stdout",
     "output_type": "stream",
     "text": [
      "1.0    9305\n",
      "0.0    5240\n",
      "Name: entertainment_hands_free_equipment, dtype: int64\n",
      "1.0    8158\n",
      "0.0    6387\n",
      "Name: entertainment_usb, dtype: int64\n",
      "1.0    11650\n",
      "0.0     2895\n",
      "Name: entertainment_bluetooth, dtype: int64\n",
      "1.0    11989\n",
      "0.0     2556\n",
      "Name: entertainment_radio, dtype: int64\n",
      "0.0    9754\n",
      "1.0    4791\n",
      "Name: entertainment_cd_player, dtype: int64\n",
      "0.0    12316\n",
      "1.0     2229\n",
      "Name: entertainment_digital_radio, dtype: int64\n",
      "0.0    14510\n",
      "1.0       35\n",
      "Name: entertainment_television, dtype: int64\n",
      "1.0    11938\n",
      "0.0     2607\n",
      "Name: entertainment_on_board_computer, dtype: int64\n",
      "0.0    12305\n",
      "1.0     2240\n",
      "Name: entertainment_sound_system, dtype: int64\n",
      "0.0    8692\n",
      "1.0    5853\n",
      "Name: entertainment_mp3, dtype: int64\n"
     ]
    }
   ],
   "source": [
    "for f in ent:\n",
    "    name = 'entertainment_' + re.sub('\\s|-','_',f.lower())\n",
    "    df[name] = [(1 if f in x else 0) if x.__class__ == list else float('nan') for x in df['entertainment_media']]\n",
    "    print(df[name].value_counts())"
   ]
  },
  {
   "cell_type": "code",
   "execution_count": 160,
   "id": "21ea1eb4",
   "metadata": {},
   "outputs": [],
   "source": [
    "ignore.add('entertainment_television')"
   ]
  },
  {
   "cell_type": "markdown",
   "id": "d15fee24",
   "metadata": {},
   "source": [
    "Explore safety_security\n",
    "\n",
    "Features in a list. \n",
    "\n",
    "As with entertainment_media, make a set. Make columns for each in the set. ignore safety_security. "
   ]
  },
  {
   "cell_type": "code",
   "execution_count": 161,
   "id": "0726d8db",
   "metadata": {},
   "outputs": [
    {
     "ename": "TypeError",
     "evalue": "unhashable type: 'list'",
     "output_type": "error",
     "traceback": [
      "\u001b[1;31m---------------------------------------------------------------------------\u001b[0m",
      "\u001b[1;31mTypeError\u001b[0m                                 Traceback (most recent call last)",
      "\u001b[1;32mpandas\\_libs\\hashtable_class_helper.pxi\u001b[0m in \u001b[0;36mpandas._libs.hashtable.PyObjectHashTable.map_locations\u001b[1;34m()\u001b[0m\n",
      "\u001b[1;31mTypeError\u001b[0m: unhashable type: 'list'"
     ]
    },
    {
     "name": "stderr",
     "output_type": "stream",
     "text": [
      "Exception ignored in: 'pandas._libs.index.IndexEngine._call_map_locations'\n",
      "Traceback (most recent call last):\n",
      "  File \"pandas\\_libs\\hashtable_class_helper.pxi\", line 5231, in pandas._libs.hashtable.PyObjectHashTable.map_locations\n",
      "TypeError: unhashable type: 'list'\n"
     ]
    },
    {
     "data": {
      "text/plain": [
       "[ABS, Central door lock, Daytime running lights, Driver-side airbag, Electronic stability control, Fog lights, Immobilizer, Isofix, Passenger-side airbag, Power steering, Side airbag, Tire pressure monitoring system, Traction control]                                                                                                                                           538\n",
       "[ABS, Central door lock, Daytime running lights, Driver-side airbag, Electronic stability control, Immobilizer, Isofix, Passenger-side airbag, Power steering, Side airbag, Tire pressure monitoring system, Traction control]                                                                                                                                                       480\n",
       "[ABS, Central door lock, Daytime running lights, Driver-side airbag, Electronic stability control, Immobilizer, Isofix, Passenger-side airbag, Power steering, Side airbag, Tire pressure monitoring system, Traction control, Xenon headlights]                                                                                                                                     275\n",
       "[ABS, Central door lock, Daytime running lights, Driver-side airbag, Electronic stability control, Fog lights, Immobilizer, Isofix, LED Daytime Running Lights, Passenger-side airbag, Power steering, Side airbag, Tire pressure monitoring system, Traction control]                                                                                                               272\n",
       "[ABS, Central door lock, Daytime running lights, Driver-side airbag, Electronic stability control, Immobilizer, Isofix, LED Daytime Running Lights, Passenger-side airbag, Power steering, Side airbag, Tire pressure monitoring system, Traction control]                                                                                                                           228\n",
       "                                                                                                                                                                                                                                                                                                                                                                                    ... \n",
       "[ABS, Central door lock, Electronic stability control, Immobilizer, Isofix, Passenger-side airbag, Power steering, Side airbag]                                                                                                                                                                                                                                                        1\n",
       "[ABS, Adaptive Cruise Control, Central door lock, Daytime running lights, Driver-side airbag, Electronic stability control, Emergency brake assistant, Immobilizer, Isofix, Passenger-side airbag, Power steering, Side airbag, Tire pressure monitoring system, Traction control]                                                                                                     1\n",
       "[ABS, Adaptive Cruise Control, Alarm system, Central door lock, Driver-side airbag, Electronic stability control, Fog lights, Immobilizer, Isofix, Lane departure warning system, LED Daytime Running Lights, Passenger-side airbag, Power steering, Side airbag, Tire pressure monitoring system, Traction control, Xenon headlights]                                                 1\n",
       "[ABS, Adaptive Cruise Control, Central door lock, Daytime running lights, Driver-side airbag, Electronic stability control, Fog lights, Immobilizer, Isofix, Power steering, Tire pressure monitoring system, Traction control]                                                                                                                                                        1\n",
       "[ABS, Adaptive Cruise Control, Central door lock, Daytime running lights, Driver-side airbag, Electronic stability control, Emergency brake assistant, Fog lights, Immobilizer, Isofix, Lane departure warning system, LED Daytime Running Lights, LED Headlights, Passenger-side airbag, Power steering, Side airbag, Tire pressure monitoring system, Traffic sign recognition]      1\n",
       "Name: safety_security, Length: 4443, dtype: int64"
      ]
     },
     "execution_count": 161,
     "metadata": {},
     "output_type": "execute_result"
    }
   ],
   "source": [
    "df['safety_security'].value_counts()"
   ]
  },
  {
   "cell_type": "code",
   "execution_count": 162,
   "id": "1c205ce7",
   "metadata": {},
   "outputs": [],
   "source": [
    "saf = set()\n",
    "for x in df['safety_security']:\n",
    "    if x.__class__ != list:\n",
    "        continue\n",
    "    for y in x:\n",
    "        saf.add(y)"
   ]
  },
  {
   "cell_type": "code",
   "execution_count": 163,
   "id": "3312ec23",
   "metadata": {},
   "outputs": [
    {
     "data": {
      "text/plain": [
       "{'ABS',\n",
       " 'Adaptive Cruise Control',\n",
       " 'Adaptive headlights',\n",
       " 'Alarm system',\n",
       " 'Blind spot monitor',\n",
       " 'Central door lock',\n",
       " 'Central door lock with remote control',\n",
       " 'Daytime running lights',\n",
       " 'Driver drowsiness detection',\n",
       " 'Driver-side airbag',\n",
       " 'Electronic stability control',\n",
       " 'Emergency brake assistant',\n",
       " 'Emergency system',\n",
       " 'Fog lights',\n",
       " 'Head airbag',\n",
       " 'Immobilizer',\n",
       " 'Isofix',\n",
       " 'LED Daytime Running Lights',\n",
       " 'LED Headlights',\n",
       " 'Lane departure warning system',\n",
       " 'Night view assist',\n",
       " 'Passenger-side airbag',\n",
       " 'Power steering',\n",
       " 'Rear airbag',\n",
       " 'Side airbag',\n",
       " 'Tire pressure monitoring system',\n",
       " 'Traction control',\n",
       " 'Traffic sign recognition',\n",
       " 'Xenon headlights'}"
      ]
     },
     "execution_count": 163,
     "metadata": {},
     "output_type": "execute_result"
    }
   ],
   "source": [
    "saf"
   ]
  },
  {
   "cell_type": "code",
   "execution_count": 164,
   "id": "bcfe0658",
   "metadata": {
    "scrolled": true
   },
   "outputs": [
    {
     "name": "stdout",
     "output_type": "stream",
     "text": [
      "False    11872\n",
      "True      3065\n",
      "Name: safety_led_headlights, dtype: int64\n",
      "False    13646\n",
      "True      1291\n",
      "Name: safety_blind_spot_monitor, dtype: int64\n",
      "True     10604\n",
      "False     4333\n",
      "Name: safety_tire_pressure_monitoring_system, dtype: int64\n",
      "True     13599\n",
      "False     1338\n",
      "Name: safety_power_steering, dtype: int64\n",
      "False    9431\n",
      "True     5506\n",
      "Name: safety_led_daytime_running_lights, dtype: int64\n",
      "False    14071\n",
      "True       866\n",
      "Name: safety_rear_airbag, dtype: int64\n",
      "False    12961\n",
      "True      1976\n",
      "Name: safety_traffic_sign_recognition, dtype: int64\n",
      "False    14431\n",
      "True       506\n",
      "Name: safety_driver_drowsiness_detection, dtype: int64\n",
      "True     13902\n",
      "False     1035\n",
      "Name: safety_driver_side_airbag, dtype: int64\n",
      "True     11744\n",
      "False     3193\n",
      "Name: safety_isofix, dtype: int64\n",
      "True     10499\n",
      "False     4438\n",
      "Name: safety_immobilizer, dtype: int64\n",
      "False    13361\n",
      "True      1576\n",
      "Name: safety_emergency_system, dtype: int64\n",
      "True     11004\n",
      "False     3933\n",
      "Name: safety_traction_control, dtype: int64\n",
      "False    12896\n",
      "True      2041\n",
      "Name: safety_adaptive_headlights, dtype: int64\n",
      "True     10412\n",
      "False     4525\n",
      "Name: safety_daytime_running_lights, dtype: int64\n",
      "True     12707\n",
      "False     2230\n",
      "Name: safety_central_door_lock, dtype: int64\n",
      "False    11883\n",
      "True      3054\n",
      "Name: safety_lane_departure_warning_system, dtype: int64\n",
      "False    11398\n",
      "True      3539\n",
      "Name: safety_xenon_headlights, dtype: int64\n",
      "False    11786\n",
      "True      3151\n",
      "Name: safety_emergency_brake_assistant, dtype: int64\n",
      "True     13435\n",
      "False     1502\n",
      "Name: safety_passenger_side_airbag, dtype: int64\n",
      "False    13634\n",
      "True      1303\n",
      "Name: safety_adaptive_cruise_control, dtype: int64\n",
      "False    12540\n",
      "True      2397\n",
      "Name: safety_central_door_lock_with_remote_control, dtype: int64\n",
      "False    13015\n",
      "True      1922\n",
      "Name: safety_alarm_system, dtype: int64\n",
      "False    14862\n",
      "True        75\n",
      "Name: safety_night_view_assist, dtype: int64\n",
      "True     14130\n",
      "False      807\n",
      "Name: safety_abs, dtype: int64\n",
      "True     13187\n",
      "False     1750\n",
      "Name: safety_electronic_stability_control, dtype: int64\n",
      "True     13203\n",
      "False     1734\n",
      "Name: safety_side_airbag, dtype: int64\n",
      "False    12751\n",
      "True      2186\n",
      "Name: safety_head_airbag, dtype: int64\n",
      "True     8212\n",
      "False    6725\n",
      "Name: safety_fog_lights, dtype: int64\n"
     ]
    }
   ],
   "source": [
    "for f in saf:\n",
    "    name = 'safety_' + re.sub('\\s|-','_',f.lower())\n",
    "    df[name] = [(f in x) if x.__class__ == list else float('nan') for x in df['safety_security']]\n",
    "    print(df[name].value_counts())"
   ]
  },
  {
   "cell_type": "code",
   "execution_count": 165,
   "id": "282751e4",
   "metadata": {},
   "outputs": [],
   "source": [
    "for f in ['safety_security', 'safety_emergency_brake_assistant']:\n",
    "    ignore.add(f)"
   ]
  },
  {
   "cell_type": "markdown",
   "id": "beec9d92",
   "metadata": {},
   "source": [
    "Explore nr_seats\n",
    "\n"
   ]
  },
  {
   "cell_type": "code",
   "execution_count": 166,
   "id": "7096f291",
   "metadata": {},
   "outputs": [
    {
     "ename": "TypeError",
     "evalue": "unhashable type: 'list'",
     "output_type": "error",
     "traceback": [
      "\u001b[1;31m---------------------------------------------------------------------------\u001b[0m",
      "\u001b[1;31mTypeError\u001b[0m                                 Traceback (most recent call last)",
      "\u001b[1;32mpandas\\_libs\\hashtable_class_helper.pxi\u001b[0m in \u001b[0;36mpandas._libs.hashtable.PyObjectHashTable.map_locations\u001b[1;34m()\u001b[0m\n",
      "\u001b[1;31mTypeError\u001b[0m: unhashable type: 'list'"
     ]
    },
    {
     "name": "stderr",
     "output_type": "stream",
     "text": [
      "Exception ignored in: 'pandas._libs.index.IndexEngine._call_map_locations'\n",
      "Traceback (most recent call last):\n",
      "  File \"pandas\\_libs\\hashtable_class_helper.pxi\", line 5231, in pandas._libs.hashtable.PyObjectHashTable.map_locations\n",
      "TypeError: unhashable type: 'list'\n"
     ]
    },
    {
     "data": {
      "text/plain": [
       "[\\n5\\n]    13336\n",
       "[\\n4\\n]     1125\n",
       "[\\n7\\n]      362\n",
       "[\\n2\\n]      116\n",
       "[\\n6\\n]        2\n",
       "[\\n3\\n]        1\n",
       "Name: nr_seats, dtype: int64"
      ]
     },
     "execution_count": 166,
     "metadata": {},
     "output_type": "execute_result"
    }
   ],
   "source": [
    "df['nr_seats'].value_counts()"
   ]
  },
  {
   "cell_type": "code",
   "execution_count": 167,
   "id": "d0a95ad8",
   "metadata": {},
   "outputs": [
    {
     "data": {
      "text/plain": [
       "5    13336\n",
       "4     1125\n",
       "7      362\n",
       "2      116\n",
       "6        2\n",
       "3        1\n",
       "Name: temp, dtype: int64"
      ]
     },
     "execution_count": 167,
     "metadata": {},
     "output_type": "execute_result"
    }
   ],
   "source": [
    "df['temp'] = [re.sub('\\n','',x[0]).strip().lstrip() if x.__class__ == list else x for x in df['nr_seats']]\n",
    "df['temp'].value_counts()"
   ]
  },
  {
   "cell_type": "code",
   "execution_count": 168,
   "id": "b9deaf1d",
   "metadata": {},
   "outputs": [],
   "source": [
    "df['nr_seats'] = df['temp']"
   ]
  },
  {
   "cell_type": "code",
   "execution_count": 169,
   "id": "464689e2",
   "metadata": {},
   "outputs": [
    {
     "data": {
      "text/plain": [
       "5    13336\n",
       "4     1125\n",
       "7      362\n",
       "2      116\n",
       "6        2\n",
       "3        1\n",
       "Name: nr_seats, dtype: int64"
      ]
     },
     "execution_count": 169,
     "metadata": {},
     "output_type": "execute_result"
    }
   ],
   "source": [
    "df['nr_seats'].value_counts()"
   ]
  },
  {
   "cell_type": "code",
   "execution_count": 170,
   "id": "08359794",
   "metadata": {},
   "outputs": [],
   "source": [
    "df['nr_seats'] = ['2' if x == '3' else ('7' if x == '6' else x) for x in df['nr_seats']]"
   ]
  },
  {
   "cell_type": "code",
   "execution_count": 171,
   "id": "d83071be",
   "metadata": {},
   "outputs": [
    {
     "data": {
      "text/plain": [
       "5    13336\n",
       "4     1125\n",
       "7      364\n",
       "2      117\n",
       "Name: nr_seats, dtype: int64"
      ]
     },
     "execution_count": 171,
     "metadata": {},
     "output_type": "execute_result"
    }
   ],
   "source": [
    "df['nr_seats'].value_counts()"
   ]
  },
  {
   "cell_type": "code",
   "execution_count": 172,
   "id": "312ed4db",
   "metadata": {},
   "outputs": [],
   "source": [
    "to_encode.add('nr_seats')"
   ]
  },
  {
   "cell_type": "markdown",
   "id": "b1de2baf",
   "metadata": {},
   "source": [
    "Explore comfort_convenience\n",
    "\n",
    "List of features, convert to a binary column of their own, like in safety_features"
   ]
  },
  {
   "cell_type": "code",
   "execution_count": 173,
   "id": "e3d15303",
   "metadata": {
    "scrolled": true
   },
   "outputs": [
    {
     "ename": "TypeError",
     "evalue": "unhashable type: 'list'",
     "output_type": "error",
     "traceback": [
      "\u001b[1;31m---------------------------------------------------------------------------\u001b[0m",
      "\u001b[1;31mTypeError\u001b[0m                                 Traceback (most recent call last)",
      "\u001b[1;32mpandas\\_libs\\hashtable_class_helper.pxi\u001b[0m in \u001b[0;36mpandas._libs.hashtable.PyObjectHashTable.map_locations\u001b[1;34m()\u001b[0m\n",
      "\u001b[1;31mTypeError\u001b[0m: unhashable type: 'list'"
     ]
    },
    {
     "name": "stderr",
     "output_type": "stream",
     "text": [
      "Exception ignored in: 'pandas._libs.index.IndexEngine._call_map_locations'\n",
      "Traceback (most recent call last):\n",
      "  File \"pandas\\_libs\\hashtable_class_helper.pxi\", line 5231, in pandas._libs.hashtable.PyObjectHashTable.map_locations\n",
      "TypeError: unhashable type: 'list'\n"
     ]
    },
    {
     "data": {
      "text/plain": [
       "[Air conditioning, Electrical side mirrors, Hill Holder, Power windows]                                                                                                                                                                                                                                                                                                                                                                                                                                                      216\n",
       "[Air conditioning, Electrical side mirrors, Power windows]                                                                                                                                                                                                                                                                                                                                                                                                                                                                   134\n",
       "[Air conditioning, Power windows]                                                                                                                                                                                                                                                                                                                                                                                                                                                                                            130\n",
       "[Air conditioning, Armrest, Automatic climate control, Cruise control, Electrical side mirrors, Leather steering wheel, Light sensor, Lumbar support, Multi-function steering wheel, Navigation system, Park Distance Control, Parking assist system sensors front, Parking assist system sensors rear, Power windows, Rain sensor, Seat heating, Start-stop system]                                                                                                                                                         105\n",
       "[Air conditioning, Armrest, Automatic climate control, Cruise control, Electrical side mirrors, Hill Holder, Leather steering wheel, Light sensor, Multi-function steering wheel, Navigation system, Park Distance Control, Parking assist system sensors rear, Power windows, Rain sensor, Seat heating, Start-stop system]                                                                                                                                                                                                  92\n",
       "                                                                                                                                                                                                                                                                                                                                                                                                                                                                                                                            ... \n",
       "[Air conditioning, Cruise control, Electrical side mirrors, Multi-function steering wheel, Park Distance Control, Parking assist system sensors front, Parking assist system sensors rear, Power windows, Start-stop system]                                                                                                                                                                                                                                                                                                   1\n",
       "[Air conditioning, Armrest, Cruise control, Electrical side mirrors, Heated steering wheel, Hill Holder, Leather steering wheel, Light sensor, Multi-function steering wheel, Park Distance Control, Parking assist system camera, Parking assist system sensors rear, Power windows, Rain sensor, Seat heating, Split rear seats, Start-stop system, Sunroof, Tinted windows]                                                                                                                                                 1\n",
       "[Air conditioning, Armrest, Cruise control, Hill Holder, Leather steering wheel, Multi-function steering wheel, Park Distance Control, Parking assist system sensors front, Parking assist system sensors rear, Power windows]                                                                                                                                                                                                                                                                                                 1\n",
       "[Air conditioning, Armrest, Automatic climate control, Cruise control, Electrical side mirrors, Leather steering wheel, Multi-function steering wheel, Power windows, Rain sensor, Start-stop system, Tinted windows]                                                                                                                                                                                                                                                                                                          1\n",
       "[Air conditioning, Automatic climate control, Cruise control, Electrically heated windshield, Electrical side mirrors, Electric tailgate, Heads-up display, Heated steering wheel, Hill Holder, Keyless central door lock, Leather steering wheel, Light sensor, Lumbar support, Navigation system, Park Distance Control, Parking assist system camera, Parking assist system self-steering, Parking assist system sensors front, Parking assist system sensors rear, Power windows, Rain sensor, Seat heating, Sunroof]      1\n",
       "Name: comfort_convenience, Length: 6198, dtype: int64"
      ]
     },
     "execution_count": 173,
     "metadata": {},
     "output_type": "execute_result"
    }
   ],
   "source": [
    "df['comfort_convenience'].value_counts()"
   ]
  },
  {
   "cell_type": "code",
   "execution_count": 174,
   "id": "1b7a1b5a",
   "metadata": {},
   "outputs": [
    {
     "data": {
      "text/plain": [
       "{'Air conditioning',\n",
       " 'Air suspension',\n",
       " 'Armrest',\n",
       " 'Automatic climate control',\n",
       " 'Auxiliary heating',\n",
       " 'Cruise control',\n",
       " 'Electric Starter',\n",
       " 'Electric tailgate',\n",
       " 'Electrical side mirrors',\n",
       " 'Electrically adjustable seats',\n",
       " 'Electrically heated windshield',\n",
       " 'Heads-up display',\n",
       " 'Heated steering wheel',\n",
       " 'Hill Holder',\n",
       " 'Keyless central door lock',\n",
       " 'Leather seats',\n",
       " 'Leather steering wheel',\n",
       " 'Light sensor',\n",
       " 'Lumbar support',\n",
       " 'Massage seats',\n",
       " 'Multi-function steering wheel',\n",
       " 'Navigation system',\n",
       " 'Panorama roof',\n",
       " 'Park Distance Control',\n",
       " 'Parking assist system camera',\n",
       " 'Parking assist system self-steering',\n",
       " 'Parking assist system sensors front',\n",
       " 'Parking assist system sensors rear',\n",
       " 'Power windows',\n",
       " 'Rain sensor',\n",
       " 'Seat heating',\n",
       " 'Seat ventilation',\n",
       " 'Split rear seats',\n",
       " 'Start-stop system',\n",
       " 'Sunroof',\n",
       " 'Tinted windows',\n",
       " 'Wind deflector',\n",
       " 'Windshield'}"
      ]
     },
     "execution_count": 174,
     "metadata": {},
     "output_type": "execute_result"
    }
   ],
   "source": [
    "com = set()\n",
    "for x in df['comfort_convenience']:\n",
    "    if x.__class__ != list:\n",
    "        continue\n",
    "    for y in x:\n",
    "        com.add(y)\n",
    "com"
   ]
  },
  {
   "cell_type": "code",
   "execution_count": 175,
   "id": "1dbf4fd9",
   "metadata": {},
   "outputs": [
    {
     "name": "stdout",
     "output_type": "stream",
     "text": [
      "False    14958\n",
      "True        41\n",
      "Name: comfort_wind_deflector, dtype: int64\n",
      "False    14062\n",
      "True       937\n",
      "Name: comfort_electrically_heated_windshield, dtype: int64\n",
      "True     8166\n",
      "False    6833\n",
      "Name: comfort_navigation_system, dtype: int64\n",
      "False    12386\n",
      "True      2613\n",
      "Name: comfort_keyless_central_door_lock, dtype: int64\n",
      "False    14231\n",
      "True       768\n",
      "Name: comfort_parking_assist_system_self_steering, dtype: int64\n",
      "False    9161\n",
      "True     5838\n",
      "Name: comfort_parking_assist_system_sensors_front, dtype: int64\n",
      "True     13914\n",
      "False     1085\n",
      "Name: comfort_power_windows, dtype: int64\n",
      "True     9386\n",
      "False    5613\n",
      "Name: comfort_leather_steering_wheel, dtype: int64\n",
      "False    7921\n",
      "True     7078\n",
      "Name: comfort_seat_heating, dtype: int64\n",
      "True     7672\n",
      "False    7327\n",
      "Name: comfort_light_sensor, dtype: int64\n",
      "False    12612\n",
      "True      2387\n",
      "Name: comfort_split_rear_seats, dtype: int64\n",
      "False    14627\n",
      "True       372\n",
      "Name: comfort_sunroof, dtype: int64\n",
      "True     9694\n",
      "False    5305\n",
      "Name: comfort_parking_assist_system_sensors_rear, dtype: int64\n",
      "False    11578\n",
      "True      3421\n",
      "Name: comfort_parking_assist_system_camera, dtype: int64\n",
      "True     10190\n",
      "False     4809\n",
      "Name: comfort_park_distance_control, dtype: int64\n",
      "True     11083\n",
      "False     3916\n",
      "Name: comfort_multi_function_steering_wheel, dtype: int64\n",
      "False    11982\n",
      "True      3017\n",
      "Name: comfort_heated_steering_wheel, dtype: int64\n",
      "False    13555\n",
      "True      1444\n",
      "Name: comfort_tinted_windows, dtype: int64\n",
      "True     14315\n",
      "False      684\n",
      "Name: comfort_air_conditioning, dtype: int64\n",
      "False    14165\n",
      "True       834\n",
      "Name: comfort_seat_ventilation, dtype: int64\n",
      "False    14448\n",
      "True       551\n",
      "Name: comfort_panorama_roof, dtype: int64\n",
      "False    14987\n",
      "True        12\n",
      "Name: comfort_windshield, dtype: int64\n",
      "True     11881\n",
      "False     3118\n",
      "Name: comfort_electrical_side_mirrors, dtype: int64\n",
      "False    14937\n",
      "True        62\n",
      "Name: comfort_air_suspension, dtype: int64\n",
      "True     8615\n",
      "False    6384\n",
      "Name: comfort_rain_sensor, dtype: int64\n",
      "False    14639\n",
      "True       360\n",
      "Name: comfort_massage_seats, dtype: int64\n",
      "True     8881\n",
      "False    6118\n",
      "Name: comfort_start_stop_system, dtype: int64\n",
      "False    13996\n",
      "True      1003\n",
      "Name: comfort_electric_tailgate, dtype: int64\n",
      "True     10881\n",
      "False     4118\n",
      "Name: comfort_cruise_control, dtype: int64\n",
      "False    14393\n",
      "True       606\n",
      "Name: comfort_heads_up_display, dtype: int64\n",
      "False    14951\n",
      "True        48\n",
      "Name: comfort_leather_seats, dtype: int64\n",
      "False    13133\n",
      "True      1866\n",
      "Name: comfort_electrically_adjustable_seats, dtype: int64\n",
      "False    11773\n",
      "True      3226\n",
      "Name: comfort_lumbar_support, dtype: int64\n",
      "False    14998\n",
      "True         1\n",
      "Name: comfort_electric_starter, dtype: int64\n",
      "True     8747\n",
      "False    6252\n",
      "Name: comfort_automatic_climate_control, dtype: int64\n",
      "False    14733\n",
      "True       266\n",
      "Name: comfort_auxiliary_heating, dtype: int64\n",
      "False    7774\n",
      "True     7225\n",
      "Name: comfort_armrest, dtype: int64\n",
      "False    8254\n",
      "True     6745\n",
      "Name: comfort_hill_holder, dtype: int64\n"
     ]
    },
    {
     "name": "stderr",
     "output_type": "stream",
     "text": [
      "C:\\Users\\arsha\\Anaconda3\\lib\\site-packages\\ipykernel_launcher.py:4: PerformanceWarning: DataFrame is highly fragmented.  This is usually the result of calling `frame.insert` many times, which has poor performance.  Consider joining all columns at once using pd.concat(axis=1) instead.  To get a de-fragmented frame, use `newframe = frame.copy()`\n",
      "  after removing the cwd from sys.path.\n"
     ]
    }
   ],
   "source": [
    "for f in com:\n",
    "    name = 'comfort_' + re.sub('\\s|-','_',f.lower())\n",
    "    df[name] = [(f in x) if x.__class__ == list else float('nan') \n",
    "                for x in df['comfort_convenience']]\n",
    "    print(df[name].value_counts())"
   ]
  },
  {
   "cell_type": "code",
   "execution_count": 176,
   "id": "8162f78b",
   "metadata": {},
   "outputs": [],
   "source": [
    "for f in ['parking_assist_system_sensors_front', 'lumbar_support', 'parking_assist_system_camera', \n",
    "          'wind_deflector', 'electrically_adjustable_seats']:\n",
    "    ignore.add('comfort_' + f)\n",
    "# aux heating in 1 case "
   ]
  },
  {
   "cell_type": "markdown",
   "id": "de2fc57d",
   "metadata": {},
   "source": [
    "Explore displacement\n",
    "\n",
    "string in a list. Number has comma and suff of cc\n",
    "\n",
    "It is not a continuous variable, should be encoded. \n",
    "\n",
    "5 classes: <500, 500-1000, 1000-1500, 1500-2000, 2000+"
   ]
  },
  {
   "cell_type": "code",
   "execution_count": 177,
   "id": "f571b357",
   "metadata": {},
   "outputs": [
    {
     "ename": "TypeError",
     "evalue": "unhashable type: 'list'",
     "output_type": "error",
     "traceback": [
      "\u001b[1;31m---------------------------------------------------------------------------\u001b[0m",
      "\u001b[1;31mTypeError\u001b[0m                                 Traceback (most recent call last)",
      "\u001b[1;32mpandas\\_libs\\hashtable_class_helper.pxi\u001b[0m in \u001b[0;36mpandas._libs.hashtable.PyObjectHashTable.map_locations\u001b[1;34m()\u001b[0m\n",
      "\u001b[1;31mTypeError\u001b[0m: unhashable type: 'list'"
     ]
    },
    {
     "name": "stderr",
     "output_type": "stream",
     "text": [
      "Exception ignored in: 'pandas._libs.index.IndexEngine._call_map_locations'\n",
      "Traceback (most recent call last):\n",
      "  File \"pandas\\_libs\\hashtable_class_helper.pxi\", line 5231, in pandas._libs.hashtable.PyObjectHashTable.map_locations\n",
      "TypeError: unhashable type: 'list'\n"
     ]
    },
    {
     "data": {
      "text/plain": [
       "[\\n1,580 cc\\n]     1\n",
       "[\\n1,995 cc\\n]     1\n",
       "[\\n1,333 cc\\n]     1\n",
       "[\\n54 cc\\n]        1\n",
       "[\\n1,533 cc\\n]     1\n",
       "[\\n1,100 cc\\n]     1\n",
       "[\\n1,350 cc\\n]     1\n",
       "[\\n16,000 cc\\n]    1\n",
       "[\\n1,856 cc\\n]     1\n",
       "[\\n1,568 cc\\n]     1\n",
       "[\\n1,896 cc\\n]     1\n",
       "[\\n1,584 cc\\n]     1\n",
       "[\\n996 cc\\n]       1\n",
       "[\\n1,696 cc\\n]     1\n",
       "[\\n1,686 cc\\n]     1\n",
       "[\\n15,898 cc\\n]    1\n",
       "[\\n1,368 cc\\n]     1\n",
       "[\\n140 cc\\n]       1\n",
       "[\\n973 cc\\n]       1\n",
       "[\\n1,239 cc\\n]     1\n",
       "[\\n1,369 cc\\n]     1\n",
       "[\\n1,390 cc\\n]     1\n",
       "[\\n122 cc\\n]       1\n",
       "[\\n1,198 cc\\n]     1\n",
       "[\\n1,195 cc\\n]     1\n",
       "[\\n2,967 cc\\n]     1\n",
       "[\\n1,800 cc\\n]     1\n",
       "Name: displacement, dtype: int64"
      ]
     },
     "execution_count": 177,
     "metadata": {},
     "output_type": "execute_result"
    }
   ],
   "source": [
    "df['displacement'].value_counts()[50:]"
   ]
  },
  {
   "cell_type": "code",
   "execution_count": 178,
   "id": "63fa972d",
   "metadata": {},
   "outputs": [
    {
     "data": {
      "text/plain": [
       "(1.0, 16000.0)"
      ]
     },
     "execution_count": 178,
     "metadata": {},
     "output_type": "execute_result"
    }
   ],
   "source": [
    "df['temp'] = [int(re.sub('\\n| cc|,','',x[0])) if x.__class__ == list else float('nan') for x in df['displacement']]\n",
    "df['temp'].min(), df['temp'].max()"
   ]
  },
  {
   "cell_type": "code",
   "execution_count": 179,
   "id": "1ed1a104",
   "metadata": {},
   "outputs": [
    {
     "data": {
      "text/plain": [
       "23"
      ]
     },
     "execution_count": 179,
     "metadata": {},
     "output_type": "execute_result"
    }
   ],
   "source": [
    "df['temp'][df['temp']>2000].count()"
   ]
  },
  {
   "cell_type": "code",
   "execution_count": 180,
   "id": "f35adda4",
   "metadata": {},
   "outputs": [
    {
     "data": {
      "text/plain": [
       "51"
      ]
     },
     "execution_count": 180,
     "metadata": {},
     "output_type": "execute_result"
    }
   ],
   "source": [
    "df['temp'][df['temp']<500].count()"
   ]
  },
  {
   "cell_type": "code",
   "execution_count": 181,
   "id": "48d5b9c9",
   "metadata": {},
   "outputs": [
    {
     "data": {
      "text/plain": [
       "<AxesSubplot:ylabel='Frequency'>"
      ]
     },
     "execution_count": 181,
     "metadata": {},
     "output_type": "execute_result"
    },
    {
     "data": {
      "image/png": "[encoded data removed]",
      "text/plain": [
       "<Figure size 640x480 with 1 Axes>"
      ]
     },
     "metadata": {},
     "output_type": "display_data"
    }
   ],
   "source": [
    "df['temp'][df['temp']>500][df['temp']<2000].plot.hist(bins=40)"
   ]
  },
  {
   "cell_type": "code",
   "execution_count": 182,
   "id": "18a4ab48",
   "metadata": {},
   "outputs": [
    {
     "name": "stderr",
     "output_type": "stream",
     "text": [
      "C:\\Users\\arsha\\Anaconda3\\lib\\site-packages\\ipykernel_launcher.py:2: PerformanceWarning: DataFrame is highly fragmented.  This is usually the result of calling `frame.insert` many times, which has poor performance.  Consider joining all columns at once using pd.concat(axis=1) instead.  To get a de-fragmented frame, use `newframe = frame.copy()`\n",
      "  \n"
     ]
    }
   ],
   "source": [
    "temp = [float('nan') if x>500 else x for x in df['temp']]\n",
    "df['displacement_lt500'] = temp.copy()"
   ]
  },
  {
   "cell_type": "code",
   "execution_count": 183,
   "id": "0345a7ee",
   "metadata": {},
   "outputs": [
    {
     "name": "stderr",
     "output_type": "stream",
     "text": [
      "C:\\Users\\arsha\\Anaconda3\\lib\\site-packages\\ipykernel_launcher.py:2: PerformanceWarning: DataFrame is highly fragmented.  This is usually the result of calling `frame.insert` many times, which has poor performance.  Consider joining all columns at once using pd.concat(axis=1) instead.  To get a de-fragmented frame, use `newframe = frame.copy()`\n",
      "  \n"
     ]
    }
   ],
   "source": [
    "temp = [x if (x>500 and x<1000) else float('nan') for x in df['temp']]\n",
    "df['displacement_500_1000']  = temp.copy()"
   ]
  },
  {
   "cell_type": "code",
   "execution_count": 184,
   "id": "bbc64ca6",
   "metadata": {},
   "outputs": [
    {
     "name": "stderr",
     "output_type": "stream",
     "text": [
      "C:\\Users\\arsha\\Anaconda3\\lib\\site-packages\\ipykernel_launcher.py:2: PerformanceWarning: DataFrame is highly fragmented.  This is usually the result of calling `frame.insert` many times, which has poor performance.  Consider joining all columns at once using pd.concat(axis=1) instead.  To get a de-fragmented frame, use `newframe = frame.copy()`\n",
      "  \n"
     ]
    }
   ],
   "source": [
    "temp = [float('nan') if (x<1000 or x>1500) else x for x in df['temp']]\n",
    "df['displacement_1000_1500'] = temp.copy()"
   ]
  },
  {
   "cell_type": "code",
   "execution_count": 185,
   "id": "c2289940",
   "metadata": {},
   "outputs": [
    {
     "name": "stderr",
     "output_type": "stream",
     "text": [
      "C:\\Users\\arsha\\Anaconda3\\lib\\site-packages\\ipykernel_launcher.py:2: PerformanceWarning: DataFrame is highly fragmented.  This is usually the result of calling `frame.insert` many times, which has poor performance.  Consider joining all columns at once using pd.concat(axis=1) instead.  To get a de-fragmented frame, use `newframe = frame.copy()`\n",
      "  \n"
     ]
    }
   ],
   "source": [
    "temp =  [x if (x>1500 and x<2000) else float('nan') for x in df['temp']]\n",
    "df['displacement_1500_2000'] = temp.copy()"
   ]
  },
  {
   "cell_type": "code",
   "execution_count": 186,
   "id": "7e7b574e",
   "metadata": {},
   "outputs": [
    {
     "name": "stderr",
     "output_type": "stream",
     "text": [
      "C:\\Users\\arsha\\Anaconda3\\lib\\site-packages\\ipykernel_launcher.py:2: PerformanceWarning: DataFrame is highly fragmented.  This is usually the result of calling `frame.insert` many times, which has poor performance.  Consider joining all columns at once using pd.concat(axis=1) instead.  To get a de-fragmented frame, use `newframe = frame.copy()`\n",
      "  \n"
     ]
    }
   ],
   "source": [
    "temp = [float('nan') if (x<2000) else x for x in df['temp']]\n",
    "df['displacement_gt2000'] = temp.copy()"
   ]
  },
  {
   "cell_type": "code",
   "execution_count": 187,
   "id": "44188e48",
   "metadata": {},
   "outputs": [],
   "source": [
    "ignore.add('displacement')"
   ]
  },
  {
   "cell_type": "markdown",
   "id": "d80724a0",
   "metadata": {},
   "source": [
    "Explore 'nr_doors'\n",
    " \n",
    "Number of doors 1 - 7, encode"
   ]
  },
  {
   "cell_type": "code",
   "execution_count": 188,
   "id": "94f193fd",
   "metadata": {},
   "outputs": [
    {
     "ename": "TypeError",
     "evalue": "unhashable type: 'list'",
     "output_type": "error",
     "traceback": [
      "\u001b[1;31m---------------------------------------------------------------------------\u001b[0m",
      "\u001b[1;31mTypeError\u001b[0m                                 Traceback (most recent call last)",
      "\u001b[1;32mpandas\\_libs\\hashtable_class_helper.pxi\u001b[0m in \u001b[0;36mpandas._libs.hashtable.PyObjectHashTable.map_locations\u001b[1;34m()\u001b[0m\n",
      "\u001b[1;31mTypeError\u001b[0m: unhashable type: 'list'"
     ]
    },
    {
     "name": "stderr",
     "output_type": "stream",
     "text": [
      "Exception ignored in: 'pandas._libs.index.IndexEngine._call_map_locations'\n",
      "Traceback (most recent call last):\n",
      "  File \"pandas\\_libs\\hashtable_class_helper.pxi\", line 5231, in pandas._libs.hashtable.PyObjectHashTable.map_locations\n",
      "TypeError: unhashable type: 'list'\n"
     ]
    },
    {
     "data": {
      "text/plain": [
       "[\\n5\\n]    11575\n",
       "[\\n4\\n]     3079\n",
       "[\\n3\\n]      832\n",
       "[\\n2\\n]      219\n",
       "[\\n1\\n]        1\n",
       "[\\n7\\n]        1\n",
       "Name: nr_doors, dtype: int64"
      ]
     },
     "execution_count": 188,
     "metadata": {},
     "output_type": "execute_result"
    }
   ],
   "source": [
    "df['nr_doors'].value_counts()"
   ]
  },
  {
   "cell_type": "code",
   "execution_count": 189,
   "id": "d7ded5a7",
   "metadata": {},
   "outputs": [],
   "source": [
    "df['temp'] = [re.sub('\\n','',x[0]).lstrip().strip() if x.__class__ == list else x for x in df['nr_doors']]\n",
    "df['temp'] = ['2' if float(x) < 2 else ('5' if float(x) > 5 else x) for x in df['temp']]"
   ]
  },
  {
   "cell_type": "code",
   "execution_count": 190,
   "id": "9674daba",
   "metadata": {},
   "outputs": [
    {
     "data": {
      "text/plain": [
       "5    11576\n",
       "4     3079\n",
       "3      832\n",
       "2      220\n",
       "Name: temp, dtype: int64"
      ]
     },
     "execution_count": 190,
     "metadata": {},
     "output_type": "execute_result"
    }
   ],
   "source": [
    "df['temp'].value_counts()"
   ]
  },
  {
   "cell_type": "code",
   "execution_count": 191,
   "id": "0ff6ce46",
   "metadata": {},
   "outputs": [],
   "source": [
    "df['nr_doors'] = df['temp']"
   ]
  },
  {
   "cell_type": "code",
   "execution_count": 192,
   "id": "7afb6135",
   "metadata": {},
   "outputs": [],
   "source": [
    "to_encode.add('nr_doors')"
   ]
  },
  {
   "cell_type": "markdown",
   "id": "69a20dbc",
   "metadata": {},
   "source": [
    "Explore \n",
    "\n",
    "body_type, body\n",
    "\n",
    "body_type is cleaned version of body, ignore body\n",
    "\n",
    "encode body_type"
   ]
  },
  {
   "cell_type": "code",
   "execution_count": 193,
   "id": "3cfe4ef8",
   "metadata": {},
   "outputs": [
    {
     "ename": "TypeError",
     "evalue": "unhashable type: 'list'",
     "output_type": "error",
     "traceback": [
      "\u001b[1;31m---------------------------------------------------------------------------\u001b[0m",
      "\u001b[1;31mTypeError\u001b[0m                                 Traceback (most recent call last)",
      "\u001b[1;32mpandas\\_libs\\hashtable_class_helper.pxi\u001b[0m in \u001b[0;36mpandas._libs.hashtable.PyObjectHashTable.map_locations\u001b[1;34m()\u001b[0m\n",
      "\u001b[1;31mTypeError\u001b[0m: unhashable type: 'list'"
     ]
    },
    {
     "name": "stderr",
     "output_type": "stream",
     "text": [
      "Exception ignored in: 'pandas._libs.index.IndexEngine._call_map_locations'\n",
      "Traceback (most recent call last):\n",
      "  File \"pandas\\_libs\\hashtable_class_helper.pxi\", line 5231, in pandas._libs.hashtable.PyObjectHashTable.map_locations\n",
      "TypeError: unhashable type: 'list'\n"
     ]
    },
    {
     "data": {
      "text/plain": [
       "[\\n, Sedans, \\n]           7903\n",
       "[\\n, Station wagon, \\n]    3553\n",
       "[\\n, Compact, \\n]          3153\n",
       "[\\n, Van, \\n]               783\n",
       "[\\n, Other, \\n]             290\n",
       "[\\n, Transporter, \\n]        88\n",
       "[\\n, Off-Road, \\n]           56\n",
       "[\\n, Coupe, \\n]              25\n",
       "[\\n, Convertible, \\n]         8\n",
       "Name: body, dtype: int64"
      ]
     },
     "execution_count": 193,
     "metadata": {},
     "output_type": "execute_result"
    }
   ],
   "source": [
    "df['body'].value_counts()"
   ]
  },
  {
   "cell_type": "code",
   "execution_count": 194,
   "id": "9297b083",
   "metadata": {},
   "outputs": [
    {
     "data": {
      "text/plain": [
       "Sedans           7903\n",
       "Station wagon    3553\n",
       "Compact          3153\n",
       "Van               783\n",
       "Other             290\n",
       "Transporter        88\n",
       "Off-Road           56\n",
       "Coupe              25\n",
       "Convertible         8\n",
       "Name: body_type, dtype: int64"
      ]
     },
     "execution_count": 194,
     "metadata": {},
     "output_type": "execute_result"
    }
   ],
   "source": [
    "df['body_type'].value_counts()"
   ]
  },
  {
   "cell_type": "code",
   "execution_count": 195,
   "id": "988d072b",
   "metadata": {},
   "outputs": [],
   "source": [
    "df['body_type'] = [x.lower() if x.__class__ == str else x for x in df['body_type']]"
   ]
  },
  {
   "cell_type": "code",
   "execution_count": 196,
   "id": "4fedb9f6",
   "metadata": {},
   "outputs": [],
   "source": [
    "ignore.add('body')\n",
    "to_encode.add('body_type')"
   ]
  },
  {
   "cell_type": "markdown",
   "id": "a8bb71aa",
   "metadata": {},
   "source": [
    "Explore short_description\n",
    "\n",
    "Very little overlap in descriptions. Will ignore this column.\n"
   ]
  },
  {
   "cell_type": "code",
   "execution_count": 197,
   "id": "e57005bf",
   "metadata": {},
   "outputs": [
    {
     "data": {
      "text/plain": [
       "SPB 1.6 TDI 116 CV S tronic Sport                 64\n",
       "1.4 66kW (90CV) Selective                         40\n",
       "MOVE KLIMA CD USB ALLWETTER BLUETOOTH             38\n",
       "SPB 30 TDI S tronic Business                      35\n",
       "SPB 30 TFSI S tronic Admired                      35\n",
       "                                                  ..\n",
       "K Sports Tourer Business **Navi*Voll**             1\n",
       "1.0 Turbo ecoFLEX Automatic Elective Park Navi     1\n",
       "1.6 CDTI Business *Navi*Automatik*Spurh.*          1\n",
       "1.6 136 CV Automatica Navi E 6 Garanzia Full       1\n",
       "TCe 225 EDC GPF LIM Deluxe Pano,RFK                1\n",
       "Name: short_description, Length: 10001, dtype: int64"
      ]
     },
     "execution_count": 197,
     "metadata": {},
     "output_type": "execute_result"
    }
   ],
   "source": [
    "df['short_description'].value_counts()"
   ]
  },
  {
   "cell_type": "code",
   "execution_count": 198,
   "id": "548c0fd7",
   "metadata": {},
   "outputs": [],
   "source": [
    "ignore.add('short_description')"
   ]
  },
  {
   "cell_type": "markdown",
   "id": "af312983",
   "metadata": {},
   "source": [
    "Explore description\n",
    "\n",
    "Description seems to be in German. \n",
    "\n",
    "It will take a lot of time to translate this to be able to use as features. I will ignore this for now."
   ]
  },
  {
   "cell_type": "raw",
   "id": "11fca9e5",
   "metadata": {},
   "source": [
    "df['description'].value_counts()"
   ]
  },
  {
   "cell_type": "code",
   "execution_count": 199,
   "id": "f6f67953",
   "metadata": {},
   "outputs": [],
   "source": [
    "ignore.add('description')"
   ]
  },
  {
   "cell_type": "markdown",
   "id": "40fd1539",
   "metadata": {},
   "source": [
    "Explore fuel\n",
    "\n",
    "The entries seem to be in the list at index 1 rather than 0\n",
    "\n",
    "This classification seems to be misleading. Make a set of all entries in the list, separated by '/'\n",
    "\n",
    "There are 27 classes. Too many. \n",
    "\n",
    "Collapse to diesel, petrol, LPG and other."
   ]
  },
  {
   "cell_type": "code",
   "execution_count": 200,
   "id": "32f14302",
   "metadata": {
    "scrolled": true
   },
   "outputs": [
    {
     "ename": "TypeError",
     "evalue": "unhashable type: 'list'",
     "output_type": "error",
     "traceback": [
      "\u001b[1;31m---------------------------------------------------------------------------\u001b[0m",
      "\u001b[1;31mTypeError\u001b[0m                                 Traceback (most recent call last)",
      "\u001b[1;32mpandas\\_libs\\hashtable_class_helper.pxi\u001b[0m in \u001b[0;36mpandas._libs.hashtable.PyObjectHashTable.map_locations\u001b[1;34m()\u001b[0m\n",
      "\u001b[1;31mTypeError\u001b[0m: unhashable type: 'list'"
     ]
    },
    {
     "name": "stderr",
     "output_type": "stream",
     "text": [
      "Exception ignored in: 'pandas._libs.index.IndexEngine._call_map_locations'\n",
      "Traceback (most recent call last):\n",
      "  File \"pandas\\_libs\\hashtable_class_helper.pxi\", line 5231, in pandas._libs.hashtable.PyObjectHashTable.map_locations\n",
      "TypeError: unhashable type: 'list'\n"
     ]
    },
    {
     "data": {
      "text/plain": [
       "[\\n, Diesel (Particulate Filter), \\n]                                                                                  4315\n",
       "[\\n, Super 95, \\n]                                                                                                     3338\n",
       "[\\n, Gasoline, \\n]                                                                                                     3175\n",
       "[\\n, Diesel, \\n]                                                                                                       2984\n",
       "[\\n, Super 95 / Regular/Benzine 91, \\n]                                                                                 424\n",
       "[\\n, Regular/Benzine 91, \\n]                                                                                            354\n",
       "[\\n, Super E10 95, \\n]                                                                                                  331\n",
       "[\\n, Super 95 (Particulate Filter), \\n]                                                                                 268\n",
       "[\\n, Super 95 / Super E10 95, \\n]                                                                                       131\n",
       "[\\n, Regular/Benzine 91 (Particulate Filter), \\n]                                                                       100\n",
       "[\\n, Super 95 / Super Plus 98, \\n]                                                                                       85\n",
       "[\\n, Gasoline (Particulate Filter), \\n]                                                                                  77\n",
       "[\\n, Super 95 / Super Plus 98 / Super E10 95 / Super Plus E10 98, \\n]                                                    40\n",
       "[\\n, Super E10 95 / Super 95, \\n]                                                                                        38\n",
       "[\\n, CNG, \\n]                                                                                                            33\n",
       "[\\n, Super 95 / Super E10 95 (Particulate Filter), \\n]                                                                   25\n",
       "[\\n, Super E10 95 / Super 95 / Super Plus 98 / Super Plus E10 98, \\n]                                                    19\n",
       "[\\n, LPG, \\n]                                                                                                            16\n",
       "[\\n, Super 95 / Super Plus 98 (Particulate Filter), \\n]                                                                  14\n",
       "[\\n, Regular/Benzine 91 / Super 95 / Super Plus 98 / Regular/Benzine E10 91 / Super E10 95 / Super Plus E10 98, \\n]      13\n",
       "[\\n, Regular/Benzine E10 91, \\n]                                                                                         11\n",
       "[\\n, Liquid petroleum gas (LPG), \\n]                                                                                     10\n",
       "[\\n, Super 95 / Super Plus 98 / Super E10 95, \\n]                                                                         8\n",
       "[\\n, Regular/Benzine 91 / Regular/Benzine E10 91, \\n]                                                                     7\n",
       "[\\n, Super 95 / Regular/Benzine 91 / Super Plus 98 / Regular/Benzine E10 91 / Super E10 95 / Super Plus E10 98, \\n]       7\n",
       "[\\n, Super Plus 98, \\n]                                                                                                   7\n",
       "[\\n, Super E10 95 (Particulate Filter), \\n]                                                                               7\n",
       "[\\n, Super 95 / Super Plus 98 / Super Plus E10 98 / Super E10 95, \\n]                                                     5\n",
       "[\\n, Others, \\n]                                                                                                          5\n",
       "[\\n, Super E10 95 / Super Plus E10 98, \\n]                                                                                4\n",
       "[\\n, Electric/Gasoline, \\n]                                                                                               4\n",
       "[\\n, Super 95 / Super Plus 98 / Super E10 95 / Super Plus E10 98 (Particulate Filter), \\n]                                4\n",
       "[\\n, Super 95 / Super E10 95 / Super Plus E10 98 / Super Plus 98, \\n]                                                     4\n",
       "[\\n, Regular/Benzine 91 / Super 95 / Super Plus 98 / Regular/Benzine E10 91 / Super Plus E10 98 / Super E10 95, \\n]       4\n",
       "[\\n, CNG (Particulate Filter), \\n]                                                                                        3\n",
       "[\\n, Super E10 95 / Super 95 / Super Plus 98 / Super Plus E10 98 (Particulate Filter), \\n]                                3\n",
       "[\\n, Super E10 95 / Super 95 / Super Plus 98, \\n]                                                                         3\n",
       "[\\n, Super E10 95 / Regular/Benzine 91, \\n]                                                                               2\n",
       "[\\n, Super 95 / Regular/Benzine 91 / Super Plus 98, \\n]                                                                   2\n",
       "[\\n, Regular/Benzine 91 / Super 95 / Super Plus 98 / Super Plus E10 98 / Super E10 95 / Regular/Benzine E10 91, \\n]       2\n",
       "[\\n, Regular/Benzine 91 / Super 95 / Super E10 95, \\n]                                                                    1\n",
       "[\\n, Electric, \\n]                                                                                                        1\n",
       "[\\n, Regular/Benzine 91 / Super 95 / Super E10 95 / Super Plus E10 98 / Super Plus 98 / Regular/Benzine E10 91, \\n]       1\n",
       "[\\n, Super 95 / Super E10 95 / Super Plus E10 98, \\n]                                                                     1\n",
       "[\\n, Super 95 / Super E10 95 / Super Plus 98, \\n]                                                                         1\n",
       "[\\n, Regular/Benzine 91 / Super 95 / Super Plus E10 98 / Super E10 95 / Regular/Benzine E10 91 / Super Plus 98, \\n]       1\n",
       "[\\n, Super 95 / Super Plus 98 / Regular/Benzine E10 91 / Super Plus E10 98 / Super E10 95 / Regular/Benzine 91, \\n]       1\n",
       "[\\n, Super 95 / Regular/Benzine E10 91, \\n]                                                                               1\n",
       "[\\n, Super E10 95 / Regular/Benzine 91 / Regular/Benzine E10 91 / Super 95, \\n]                                           1\n",
       "[\\n, Super Plus 98 / Regular/Benzine 91, \\n]                                                                              1\n",
       "Name: fuel, dtype: int64"
      ]
     },
     "execution_count": 200,
     "metadata": {},
     "output_type": "execute_result"
    }
   ],
   "source": [
    "df['fuel'].value_counts()[:50]"
   ]
  },
  {
   "cell_type": "code",
   "execution_count": 201,
   "id": "4130ea21",
   "metadata": {},
   "outputs": [],
   "source": [
    "df['temp'] = [[y.lstrip().strip() for y in x[1].split('/')] if re.search('/',x[1]) else x[1]\n",
    "                 if x.__class__ == list else x for x in df['fuel']]"
   ]
  },
  {
   "cell_type": "code",
   "execution_count": 202,
   "id": "3780cdc9",
   "metadata": {},
   "outputs": [
    {
     "ename": "TypeError",
     "evalue": "unhashable type: 'list'",
     "output_type": "error",
     "traceback": [
      "\u001b[1;31m---------------------------------------------------------------------------\u001b[0m",
      "\u001b[1;31mTypeError\u001b[0m                                 Traceback (most recent call last)",
      "\u001b[1;32mpandas\\_libs\\hashtable_class_helper.pxi\u001b[0m in \u001b[0;36mpandas._libs.hashtable.PyObjectHashTable.map_locations\u001b[1;34m()\u001b[0m\n",
      "\u001b[1;31mTypeError\u001b[0m: unhashable type: 'list'"
     ]
    },
    {
     "name": "stderr",
     "output_type": "stream",
     "text": [
      "Exception ignored in: 'pandas._libs.index.IndexEngine._call_map_locations'\n",
      "Traceback (most recent call last):\n",
      "  File \"pandas\\_libs\\hashtable_class_helper.pxi\", line 5231, in pandas._libs.hashtable.PyObjectHashTable.map_locations\n",
      "TypeError: unhashable type: 'list'\n"
     ]
    },
    {
     "data": {
      "text/plain": [
       "Diesel (Particulate Filter)                                                                                 4315\n",
       "Super 95                                                                                                    3338\n",
       "Gasoline                                                                                                    3175\n",
       "Diesel                                                                                                      2984\n",
       "[Super 95, Regular, Benzine 91]                                                                              424\n",
       "[Regular, Benzine 91]                                                                                        354\n",
       "Super E10 95                                                                                                 331\n",
       "Super 95 (Particulate Filter)                                                                                268\n",
       "[Super 95, Super E10 95]                                                                                     131\n",
       "[Regular, Benzine 91 (Particulate Filter)]                                                                   100\n",
       "[Super 95, Super Plus 98]                                                                                     85\n",
       "Gasoline (Particulate Filter)                                                                                 77\n",
       "[Super 95, Super Plus 98, Super E10 95, Super Plus E10 98]                                                    40\n",
       "[Super E10 95, Super 95]                                                                                      38\n",
       "CNG                                                                                                           33\n",
       "[Super 95, Super E10 95 (Particulate Filter)]                                                                 25\n",
       "[Super E10 95, Super 95, Super Plus 98, Super Plus E10 98]                                                    19\n",
       "LPG                                                                                                           16\n",
       "[Super 95, Super Plus 98 (Particulate Filter)]                                                                14\n",
       "[Regular, Benzine 91, Super 95, Super Plus 98, Regular, Benzine E10 91, Super E10 95, Super Plus E10 98]      13\n",
       "[Regular, Benzine E10 91]                                                                                     11\n",
       "Liquid petroleum gas (LPG)                                                                                    10\n",
       "[Super 95, Super Plus 98, Super E10 95]                                                                        8\n",
       "[Regular, Benzine 91, Regular, Benzine E10 91]                                                                 7\n",
       "[Super 95, Regular, Benzine 91, Super Plus 98, Regular, Benzine E10 91, Super E10 95, Super Plus E10 98]       7\n",
       "Super Plus 98                                                                                                  7\n",
       "Super E10 95 (Particulate Filter)                                                                              7\n",
       "[Super 95, Super Plus 98, Super Plus E10 98, Super E10 95]                                                     5\n",
       "Others                                                                                                         5\n",
       "[Super E10 95, Super Plus E10 98]                                                                              4\n",
       "[Electric, Gasoline]                                                                                           4\n",
       "[Super 95, Super Plus 98, Super E10 95, Super Plus E10 98 (Particulate Filter)]                                4\n",
       "[Super 95, Super E10 95, Super Plus E10 98, Super Plus 98]                                                     4\n",
       "[Regular, Benzine 91, Super 95, Super Plus 98, Regular, Benzine E10 91, Super Plus E10 98, Super E10 95]       4\n",
       "CNG (Particulate Filter)                                                                                       3\n",
       "[Super E10 95, Super 95, Super Plus 98, Super Plus E10 98 (Particulate Filter)]                                3\n",
       "[Super E10 95, Super 95, Super Plus 98]                                                                        3\n",
       "[Super E10 95, Regular, Benzine 91]                                                                            2\n",
       "[Super 95, Regular, Benzine 91, Super Plus 98]                                                                 2\n",
       "[Regular, Benzine 91, Super 95, Super Plus 98, Super Plus E10 98, Super E10 95, Regular, Benzine E10 91]       2\n",
       "[Regular, Benzine 91, Super 95, Super E10 95]                                                                  1\n",
       "Electric                                                                                                       1\n",
       "[Regular, Benzine 91, Super 95, Super E10 95, Super Plus E10 98, Super Plus 98, Regular, Benzine E10 91]       1\n",
       "[Super 95, Super E10 95, Super Plus E10 98]                                                                    1\n",
       "[Super 95, Super E10 95, Super Plus 98]                                                                        1\n",
       "[Regular, Benzine 91, Super 95, Super Plus E10 98, Super E10 95, Regular, Benzine E10 91, Super Plus 98]       1\n",
       "[Super 95, Super Plus 98, Regular, Benzine E10 91, Super Plus E10 98, Super E10 95, Regular, Benzine 91]       1\n",
       "[Super 95, Regular, Benzine E10 91]                                                                            1\n",
       "[Super E10 95, Regular, Benzine 91, Regular, Benzine E10 91, Super 95]                                         1\n",
       "[Super Plus 98, Regular, Benzine 91]                                                                           1\n",
       "Name: temp, dtype: int64"
      ]
     },
     "execution_count": 202,
     "metadata": {},
     "output_type": "execute_result"
    }
   ],
   "source": [
    "df['temp'].value_counts()[:50]"
   ]
  },
  {
   "cell_type": "code",
   "execution_count": 203,
   "id": "e8120d9a",
   "metadata": {},
   "outputs": [
    {
     "data": {
      "text/plain": [
       "{'Benzine 91',\n",
       " 'Benzine 91 (Particulate Filter)',\n",
       " 'Benzine E10 91',\n",
       " 'Benzine E10 91 (Particulate Filter)',\n",
       " 'Biodiesel',\n",
       " 'Biogas',\n",
       " 'CNG',\n",
       " 'CNG (Particulate Filter)',\n",
       " 'Diesel',\n",
       " 'Diesel (Particulate Filter)',\n",
       " 'Domestic gas H',\n",
       " 'Electric',\n",
       " 'Gasoline',\n",
       " 'Gasoline (Particulate Filter)',\n",
       " 'LPG',\n",
       " 'Liquid petroleum gas (LPG)',\n",
       " 'Others',\n",
       " 'Others (Particulate Filter)',\n",
       " 'Regular',\n",
       " 'Super 95',\n",
       " 'Super 95 (Particulate Filter)',\n",
       " 'Super E10 95',\n",
       " 'Super E10 95 (Particulate Filter)',\n",
       " 'Super Plus 98',\n",
       " 'Super Plus 98 (Particulate Filter)',\n",
       " 'Super Plus E10 98',\n",
       " 'Super Plus E10 98 (Particulate Filter)'}"
      ]
     },
     "execution_count": 203,
     "metadata": {},
     "output_type": "execute_result"
    }
   ],
   "source": [
    "temp = set() \n",
    "for x in df['temp']:\n",
    "    if x.__class__ != list:\n",
    "        temp.add(x)\n",
    "        continue\n",
    "    for y in x:\n",
    "        for z in y.split('/'):\n",
    "                temp.add(z)\n",
    "        else:\n",
    "            temp.add(y)\n",
    "temp"
   ]
  },
  {
   "cell_type": "code",
   "execution_count": 204,
   "id": "3575d151",
   "metadata": {},
   "outputs": [
    {
     "data": {
      "text/plain": [
       "27"
      ]
     },
     "execution_count": 204,
     "metadata": {},
     "output_type": "execute_result"
    }
   ],
   "source": [
    "len(temp)"
   ]
  },
  {
   "cell_type": "code",
   "execution_count": 205,
   "id": "89c5a849",
   "metadata": {},
   "outputs": [],
   "source": [
    "# 'gas', 'diesel', 'other'\n",
    "fuel_d = {'Benzine 91': 'gas',\n",
    " 'Benzine 91 (Particulate Filter)': 'gas',\n",
    " 'Benzine E10 91': 'gas',\n",
    " 'Benzine E10 91 (Particulate Filter)': 'gas',\n",
    " 'Biodiesel': 'other',\n",
    " 'Biogas': 'other',\n",
    " 'CNG': 'other',\n",
    " 'CNG (Particulate Filter)': 'other',\n",
    " 'Diesel':'diesel',\n",
    " 'Diesel (Particulate Filter)':'diesel',\n",
    " 'Domestic gas H':'other',\n",
    " 'Electric':'other',\n",
    " 'Gasoline': 'gas',\n",
    " 'Gasoline (Particulate Filter)': 'gas',\n",
    " 'LPG': 'other',\n",
    " 'Liquid petroleum gas (LPG)':'other',\n",
    " 'Others': 'other',\n",
    " 'Others (Particulate Filter)': 'other',\n",
    " 'Regular' : 'gas',\n",
    " 'Super 95': 'gas',\n",
    " 'Super 95 (Particulate Filter)' : 'gas',\n",
    " 'Super E10 95' : 'gas',\n",
    " 'Super E10 95 (Particulate Filter)': 'gas',\n",
    " 'Super Plus 98': 'gas',\n",
    " 'Super Plus 98 (Particulate Filter)': 'gas',\n",
    " 'Super Plus E10 98': 'gas',\n",
    " 'Super Plus E10 98 (Particulate Filter)' : 'gas'}"
   ]
  },
  {
   "cell_type": "code",
   "execution_count": 206,
   "id": "ee6b0221",
   "metadata": {},
   "outputs": [],
   "source": [
    "gas = set([k for k in fuel_d.keys() if fuel_d[k]=='gas'])\n",
    "diesel = set([k for k in fuel_d.keys() if fuel_d[k]=='diesel'])\n",
    "other = set([k for k in fuel_d.keys() if fuel_d[k]=='other'])"
   ]
  },
  {
   "cell_type": "code",
   "execution_count": 207,
   "id": "d6158e3c",
   "metadata": {},
   "outputs": [
    {
     "data": {
      "text/plain": [
       "({'Benzine 91',\n",
       "  'Benzine 91 (Particulate Filter)',\n",
       "  'Benzine E10 91',\n",
       "  'Benzine E10 91 (Particulate Filter)',\n",
       "  'Gasoline',\n",
       "  'Gasoline (Particulate Filter)',\n",
       "  'Regular',\n",
       "  'Super 95',\n",
       "  'Super 95 (Particulate Filter)',\n",
       "  'Super E10 95',\n",
       "  'Super E10 95 (Particulate Filter)',\n",
       "  'Super Plus 98',\n",
       "  'Super Plus 98 (Particulate Filter)',\n",
       "  'Super Plus E10 98',\n",
       "  'Super Plus E10 98 (Particulate Filter)'},\n",
       " {'Diesel', 'Diesel (Particulate Filter)'},\n",
       " {'Biodiesel',\n",
       "  'Biogas',\n",
       "  'CNG',\n",
       "  'CNG (Particulate Filter)',\n",
       "  'Domestic gas H',\n",
       "  'Electric',\n",
       "  'LPG',\n",
       "  'Liquid petroleum gas (LPG)',\n",
       "  'Others',\n",
       "  'Others (Particulate Filter)'})"
      ]
     },
     "execution_count": 207,
     "metadata": {},
     "output_type": "execute_result"
    }
   ],
   "source": [
    "gas, diesel, other"
   ]
  },
  {
   "cell_type": "code",
   "execution_count": 208,
   "id": "0d83a5d0",
   "metadata": {},
   "outputs": [],
   "source": [
    "set_name_d = {'gas': gas, 'diesel': diesel, 'other':other}"
   ]
  },
  {
   "cell_type": "code",
   "execution_count": 209,
   "id": "815da2e0",
   "metadata": {},
   "outputs": [],
   "source": [
    "# for each entry (list or srt) in df['temp'] \n",
    "#     go through the names in the set_name_d.keys():\n",
    "#         if the content is in the set at set_name_d[name]:\n",
    "#             replace entry with name\n",
    "fuel = [i for i in df['temp']]\n",
    "fuel_new = [float('nan') for _ in df['temp']]\n",
    "for i, f in enumerate(fuel):\n",
    "    if f.__class__ == str:\n",
    "        for name in set_name_d.keys():\n",
    "            if f in set_name_d[name]:\n",
    "                fuel_new[i] = name\n",
    "                break # for loop\n",
    "    elif f.__class__ == list:\n",
    "        go_on = True\n",
    "        for x in f:\n",
    "            if not go_on:\n",
    "                break\n",
    "            for name in set_name_d.keys():\n",
    "                if x in set_name_d[name]:\n",
    "                    fuel_new[i] = name\n",
    "                    go_on = False # break for x in f\n",
    "                    break # break for name in ..."
   ]
  },
  {
   "cell_type": "code",
   "execution_count": 210,
   "id": "f813ed2e",
   "metadata": {},
   "outputs": [],
   "source": [
    "df['temp'] = fuel_new"
   ]
  },
  {
   "cell_type": "code",
   "execution_count": 211,
   "id": "1fe0a6b4",
   "metadata": {},
   "outputs": [
    {
     "data": {
      "text/plain": [
       "gas       8545\n",
       "diesel    7299\n",
       "other       75\n",
       "Name: temp, dtype: int64"
      ]
     },
     "execution_count": 211,
     "metadata": {},
     "output_type": "execute_result"
    }
   ],
   "source": [
    "df['temp'].value_counts()"
   ]
  },
  {
   "cell_type": "code",
   "execution_count": 212,
   "id": "ac5220fb",
   "metadata": {},
   "outputs": [
    {
     "name": "stderr",
     "output_type": "stream",
     "text": [
      "C:\\Users\\arsha\\Anaconda3\\lib\\site-packages\\ipykernel_launcher.py:1: PerformanceWarning: DataFrame is highly fragmented.  This is usually the result of calling `frame.insert` many times, which has poor performance.  Consider joining all columns at once using pd.concat(axis=1) instead.  To get a de-fragmented frame, use `newframe = frame.copy()`\n",
      "  \"\"\"Entry point for launching an IPython kernel.\n"
     ]
    }
   ],
   "source": [
    "df['fuel_type'] = fuel_new"
   ]
  },
  {
   "cell_type": "code",
   "execution_count": 213,
   "id": "dd440d14",
   "metadata": {},
   "outputs": [],
   "source": [
    "to_encode.add('fuel_type')\n",
    "ignore.add('fuel')"
   ]
  },
  {
   "cell_type": "markdown",
   "id": "3d04ff06",
   "metadata": {},
   "source": [
    "Explore gearing_type\n",
    "\n",
    "Simplified from list to string\n",
    "\n",
    "added to to_encode"
   ]
  },
  {
   "cell_type": "code",
   "execution_count": 214,
   "id": "b3198ea8",
   "metadata": {},
   "outputs": [
    {
     "ename": "TypeError",
     "evalue": "unhashable type: 'list'",
     "output_type": "error",
     "traceback": [
      "\u001b[1;31m---------------------------------------------------------------------------\u001b[0m",
      "\u001b[1;31mTypeError\u001b[0m                                 Traceback (most recent call last)",
      "\u001b[1;32mpandas\\_libs\\hashtable_class_helper.pxi\u001b[0m in \u001b[0;36mpandas._libs.hashtable.PyObjectHashTable.map_locations\u001b[1;34m()\u001b[0m\n",
      "\u001b[1;31mTypeError\u001b[0m: unhashable type: 'list'"
     ]
    },
    {
     "name": "stderr",
     "output_type": "stream",
     "text": [
      "Exception ignored in: 'pandas._libs.index.IndexEngine._call_map_locations'\n",
      "Traceback (most recent call last):\n",
      "  File \"pandas\\_libs\\hashtable_class_helper.pxi\", line 5231, in pandas._libs.hashtable.PyObjectHashTable.map_locations\n",
      "TypeError: unhashable type: 'list'\n"
     ]
    },
    {
     "data": {
      "text/plain": [
       "[\\n, Manual, \\n]            8153\n",
       "[\\n, Automatic, \\n]         7297\n",
       "[\\n, Semi-automatic, \\n]     469\n",
       "Name: gearing_type, dtype: int64"
      ]
     },
     "execution_count": 214,
     "metadata": {},
     "output_type": "execute_result"
    }
   ],
   "source": [
    "df['gearing_type'].value_counts()"
   ]
  },
  {
   "cell_type": "code",
   "execution_count": 215,
   "id": "a280eeee",
   "metadata": {},
   "outputs": [],
   "source": [
    "df['gearing_type'] = [x[1].lstrip().strip().lower() if x.__class__ == list else x for x in df['gearing_type']]"
   ]
  },
  {
   "cell_type": "code",
   "execution_count": 216,
   "id": "42f73a02",
   "metadata": {},
   "outputs": [
    {
     "data": {
      "text/plain": [
       "manual            8153\n",
       "automatic         7297\n",
       "semi-automatic     469\n",
       "Name: gearing_type, dtype: int64"
      ]
     },
     "execution_count": 216,
     "metadata": {},
     "output_type": "execute_result"
    }
   ],
   "source": [
    "df['gearing_type'].value_counts()"
   ]
  },
  {
   "cell_type": "code",
   "execution_count": 217,
   "id": "397f268d",
   "metadata": {},
   "outputs": [],
   "source": [
    "to_encode.add('gearing_type')"
   ]
  },
  {
   "cell_type": "markdown",
   "id": "634766a3",
   "metadata": {},
   "source": [
    "Explore make, model, make_model\n",
    "\n",
    "Make make_model \"Audi A2\"  into \"Audi A1\"\n",
    "\n",
    "encode make_model\n",
    "\n",
    "ignore make, model"
   ]
  },
  {
   "cell_type": "code",
   "execution_count": 218,
   "id": "76f768c3",
   "metadata": {},
   "outputs": [
    {
     "data": {
      "text/plain": [
       "Opel       7343\n",
       "Audi       5712\n",
       "Renault    2864\n",
       "Name: make, dtype: int64"
      ]
     },
     "execution_count": 218,
     "metadata": {},
     "output_type": "execute_result"
    }
   ],
   "source": [
    "df['make'].value_counts()"
   ]
  },
  {
   "cell_type": "code",
   "execution_count": 219,
   "id": "1f1f7da2",
   "metadata": {},
   "outputs": [
    {
     "ename": "TypeError",
     "evalue": "unhashable type: 'list'",
     "output_type": "error",
     "traceback": [
      "\u001b[1;31m---------------------------------------------------------------------------\u001b[0m",
      "\u001b[1;31mTypeError\u001b[0m                                 Traceback (most recent call last)",
      "\u001b[1;32mpandas\\_libs\\hashtable_class_helper.pxi\u001b[0m in \u001b[0;36mpandas._libs.hashtable.PyObjectHashTable.map_locations\u001b[1;34m()\u001b[0m\n",
      "\u001b[1;31mTypeError\u001b[0m: unhashable type: 'list'"
     ]
    },
    {
     "name": "stderr",
     "output_type": "stream",
     "text": [
      "Exception ignored in: 'pandas._libs.index.IndexEngine._call_map_locations'\n",
      "Traceback (most recent call last):\n",
      "  File \"pandas\\_libs\\hashtable_class_helper.pxi\", line 5231, in pandas._libs.hashtable.PyObjectHashTable.map_locations\n",
      "TypeError: unhashable type: 'list'\n"
     ]
    },
    {
     "data": {
      "text/plain": [
       "[\\n, A3, \\n]          3097\n",
       "[\\n, A1, \\n]          2614\n",
       "[\\n, Insignia, \\n]    2598\n",
       "[\\n, Astra, \\n]       2526\n",
       "[\\n, Corsa, \\n]       2219\n",
       "[\\n, Clio, \\n]        1839\n",
       "[\\n, Espace, \\n]       991\n",
       "[\\n, Duster, \\n]        34\n",
       "[\\n, A2, \\n]             1\n",
       "Name: model, dtype: int64"
      ]
     },
     "execution_count": 219,
     "metadata": {},
     "output_type": "execute_result"
    }
   ],
   "source": [
    "df['model'].value_counts()"
   ]
  },
  {
   "cell_type": "code",
   "execution_count": 220,
   "id": "655c0ba6",
   "metadata": {},
   "outputs": [
    {
     "ename": "TypeError",
     "evalue": "unhashable type: 'list'",
     "output_type": "error",
     "traceback": [
      "\u001b[1;31m---------------------------------------------------------------------------\u001b[0m",
      "\u001b[1;31mTypeError\u001b[0m                                 Traceback (most recent call last)",
      "\u001b[1;32mpandas\\_libs\\hashtable_class_helper.pxi\u001b[0m in \u001b[0;36mpandas._libs.hashtable.PyObjectHashTable.map_locations\u001b[1;34m()\u001b[0m\n",
      "\u001b[1;31mTypeError\u001b[0m: unhashable type: 'list'"
     ]
    },
    {
     "name": "stderr",
     "output_type": "stream",
     "text": [
      "Exception ignored in: 'pandas._libs.index.IndexEngine._call_map_locations'\n",
      "Traceback (most recent call last):\n",
      "  File \"pandas\\_libs\\hashtable_class_helper.pxi\", line 5231, in pandas._libs.hashtable.PyObjectHashTable.map_locations\n",
      "TypeError: unhashable type: 'list'\n"
     ]
    },
    {
     "data": {
      "text/plain": [
       "[\\n, A3, \\n]    3097\n",
       "[\\n, A1, \\n]    2614\n",
       "[\\n, A2, \\n]       1\n",
       "Name: model, dtype: int64"
      ]
     },
     "execution_count": 220,
     "metadata": {},
     "output_type": "execute_result"
    }
   ],
   "source": [
    "df['model'][df['make'] == 'Audi'].value_counts()"
   ]
  },
  {
   "cell_type": "code",
   "execution_count": 221,
   "id": "7806a051",
   "metadata": {},
   "outputs": [
    {
     "data": {
      "text/plain": [
       "Audi A3    3097\n",
       "Audi A1    2614\n",
       "Audi A2       1\n",
       "Name: make_model, dtype: int64"
      ]
     },
     "execution_count": 221,
     "metadata": {},
     "output_type": "execute_result"
    }
   ],
   "source": [
    "df['make_model'][df['make'] == 'Audi'].value_counts()"
   ]
  },
  {
   "cell_type": "code",
   "execution_count": 222,
   "id": "60db388f",
   "metadata": {},
   "outputs": [],
   "source": [
    "df['make_model'] = ['Audi A1' if x == 'Audi A2' else x for x in df['make_model']]"
   ]
  },
  {
   "cell_type": "code",
   "execution_count": 223,
   "id": "2f3951c4",
   "metadata": {},
   "outputs": [
    {
     "data": {
      "text/plain": [
       "Audi A3           3097\n",
       "Audi A1           2615\n",
       "Opel Insignia     2598\n",
       "Opel Astra        2526\n",
       "Opel Corsa        2219\n",
       "Renault Clio      1839\n",
       "Renault Espace     991\n",
       "Renault Duster      34\n",
       "Name: make_model, dtype: int64"
      ]
     },
     "execution_count": 223,
     "metadata": {},
     "output_type": "execute_result"
    }
   ],
   "source": [
    "df['make_model'].value_counts()"
   ]
  },
  {
   "cell_type": "code",
   "execution_count": 224,
   "id": "aae0e000",
   "metadata": {},
   "outputs": [
    {
     "data": {
      "text/plain": [
       "audi_a3           3097\n",
       "audi_a1           2615\n",
       "opel_insignia     2598\n",
       "opel_astra        2526\n",
       "opel_corsa        2219\n",
       "renault_clio      1839\n",
       "renault_espace     991\n",
       "renault_duster      34\n",
       "Name: make_model, dtype: int64"
      ]
     },
     "execution_count": 224,
     "metadata": {},
     "output_type": "execute_result"
    }
   ],
   "source": [
    "df['make_model'] = [re.sub('\\s|-','_',x.lower()) if x.__class__ == str else x for x in df['make_model']]\n",
    "df['make_model'].value_counts()"
   ]
  },
  {
   "cell_type": "code",
   "execution_count": 225,
   "id": "ea056910",
   "metadata": {},
   "outputs": [],
   "source": [
    "to_encode.add('make_model')"
   ]
  },
  {
   "cell_type": "markdown",
   "id": "992d83d1",
   "metadata": {},
   "source": [
    "Explore null\n",
    "\n",
    "ignore null"
   ]
  },
  {
   "cell_type": "code",
   "execution_count": 226,
   "id": "8230388c",
   "metadata": {},
   "outputs": [
    {
     "ename": "TypeError",
     "evalue": "unhashable type: 'list'",
     "output_type": "error",
     "traceback": [
      "\u001b[1;31m---------------------------------------------------------------------------\u001b[0m",
      "\u001b[1;31mTypeError\u001b[0m                                 Traceback (most recent call last)",
      "\u001b[1;32mpandas\\_libs\\hashtable_class_helper.pxi\u001b[0m in \u001b[0;36mpandas._libs.hashtable.PyObjectHashTable.map_locations\u001b[1;34m()\u001b[0m\n",
      "\u001b[1;31mTypeError\u001b[0m: unhashable type: 'list'"
     ]
    },
    {
     "name": "stderr",
     "output_type": "stream",
     "text": [
      "Exception ignored in: 'pandas._libs.index.IndexEngine._call_map_locations'\n",
      "Traceback (most recent call last):\n",
      "  File \"pandas\\_libs\\hashtable_class_helper.pxi\", line 5231, in pandas._libs.hashtable.PyObjectHashTable.map_locations\n",
      "TypeError: unhashable type: 'list'\n"
     ]
    },
    {
     "data": {
      "text/plain": [
       "[]    15919\n",
       "Name: null, dtype: int64"
      ]
     },
     "execution_count": 226,
     "metadata": {},
     "output_type": "execute_result"
    }
   ],
   "source": [
    "df['null'].value_counts()"
   ]
  },
  {
   "cell_type": "code",
   "execution_count": 227,
   "id": "65b2bdf7",
   "metadata": {},
   "outputs": [],
   "source": [
    "ignore.add('null')"
   ]
  },
  {
   "cell_type": "markdown",
   "id": "b0f3354f",
   "metadata": {},
   "source": [
    "Explore hp (horse power?)\n",
    "\n",
    "Consistent suffix kW\n",
    "\n",
    "Continuous variable, replace with numbers, remove kW"
   ]
  },
  {
   "cell_type": "code",
   "execution_count": 228,
   "id": "6905f887",
   "metadata": {},
   "outputs": [
    {
     "data": {
      "text/plain": [
       "85 kW     2542\n",
       "66 kW     2122\n",
       "81 kW     1402\n",
       "100 kW    1308\n",
       "110 kW    1112\n",
       "70 kW      888\n",
       "125 kW     707\n",
       "51 kW      695\n",
       "55 kW      569\n",
       "118 kW     516\n",
       "92 kW      466\n",
       "121 kW     392\n",
       "147 kW     380\n",
       "77 kW      345\n",
       "56 kW      286\n",
       "54 kW      276\n",
       "103 kW     253\n",
       "87 kW      232\n",
       "165 kW     194\n",
       "88 kW      177\n",
       "60 kW      160\n",
       "162 kW      98\n",
       "- kW        88\n",
       "74 kW       81\n",
       "96 kW       72\n",
       "71 kW       59\n",
       "101 kW      47\n",
       "67 kW       40\n",
       "154 kW      39\n",
       "122 kW      35\n",
       "119 kW      30\n",
       "164 kW      27\n",
       "135 kW      24\n",
       "82 kW       22\n",
       "52 kW       22\n",
       "78 kW       20\n",
       "1 kW        20\n",
       "294 kW      18\n",
       "146 kW      18\n",
       "141 kW      16\n",
       "57 kW       10\n",
       "104 kW       8\n",
       "120 kW       8\n",
       "191 kW       7\n",
       "112 kW       7\n",
       "155 kW       6\n",
       "117 kW       6\n",
       "184 kW       5\n",
       "90 kW        4\n",
       "76 kW        4\n",
       "Name: hp, dtype: int64"
      ]
     },
     "execution_count": 228,
     "metadata": {},
     "output_type": "execute_result"
    }
   ],
   "source": [
    "df['hp'].value_counts()[:50]"
   ]
  },
  {
   "cell_type": "code",
   "execution_count": 229,
   "id": "5d518be7",
   "metadata": {},
   "outputs": [],
   "source": [
    "df['temp'] = [re.sub('[A-Za-z]','',x) for x in df['hp']]\n",
    "df['temp'] = [re.sub('-','',x.lstrip().strip()) for x in df['temp']]\n",
    "df['temp'] = [float('nan') if x == '' else int(x) for x in df['temp']]"
   ]
  },
  {
   "cell_type": "code",
   "execution_count": 230,
   "id": "2a3fdb85",
   "metadata": {
    "scrolled": true
   },
   "outputs": [
    {
     "data": {
      "text/plain": [
       "85.0     2542\n",
       "66.0     2122\n",
       "81.0     1402\n",
       "100.0    1308\n",
       "110.0    1112\n",
       "         ... \n",
       "137.0       1\n",
       "9.0         1\n",
       "44.0        1\n",
       "133.0       1\n",
       "239.0       1\n",
       "Name: temp, Length: 80, dtype: int64"
      ]
     },
     "execution_count": 230,
     "metadata": {},
     "output_type": "execute_result"
    }
   ],
   "source": [
    "df['temp'].value_counts()"
   ]
  },
  {
   "cell_type": "code",
   "execution_count": 231,
   "id": "d948f9d1",
   "metadata": {},
   "outputs": [],
   "source": [
    "df['hp'] = df['temp']"
   ]
  },
  {
   "cell_type": "markdown",
   "id": "4e2dcf81",
   "metadata": {},
   "source": [
    "Explore registration, first_registration\n",
    "\n",
    "Making new variable: registration_continuous as a float \n",
    "\n",
    "first_registration is cleaned registration_years"
   ]
  },
  {
   "cell_type": "code",
   "execution_count": 232,
   "id": "43c7c4fc",
   "metadata": {},
   "outputs": [
    {
     "data": {
      "text/plain": [
       "-/-        1597\n",
       "03/2018     695\n",
       "02/2019     585\n",
       "05/2018     572\n",
       "03/2019     543\n",
       "01/2019     541\n",
       "04/2018     541\n",
       "02/2018     539\n",
       "03/2016     536\n",
       "04/2016     532\n",
       "06/2018     532\n",
       "01/2018     511\n",
       "04/2019     506\n",
       "02/2016     472\n",
       "03/2017     471\n",
       "05/2016     459\n",
       "06/2016     452\n",
       "05/2019     440\n",
       "06/2017     409\n",
       "05/2017     404\n",
       "07/2018     396\n",
       "04/2017     380\n",
       "01/2016     376\n",
       "02/2017     368\n",
       "01/2017     306\n",
       "08/2018     285\n",
       "06/2019     224\n",
       "07/2017     215\n",
       "11/2017     180\n",
       "07/2016     176\n",
       "10/2016     160\n",
       "10/2017     154\n",
       "09/2017     149\n",
       "11/2016     142\n",
       "09/2018     141\n",
       "09/2016     141\n",
       "12/2016     134\n",
       "12/2017     123\n",
       "08/2017     114\n",
       "11/2018     110\n",
       "12/2018     103\n",
       "10/2018      97\n",
       "08/2016      94\n",
       "07/2019       6\n",
       "09/2019       5\n",
       "08/2019       1\n",
       "11/2019       1\n",
       "12/2019       1\n",
       "Name: registration, dtype: int64"
      ]
     },
     "execution_count": 232,
     "metadata": {},
     "output_type": "execute_result"
    }
   ],
   "source": [
    "df['registration'].value_counts()"
   ]
  },
  {
   "cell_type": "code",
   "execution_count": 233,
   "id": "6ea474e8",
   "metadata": {
    "scrolled": true
   },
   "outputs": [
    {
     "name": "stderr",
     "output_type": "stream",
     "text": [
      "C:\\Users\\arsha\\Anaconda3\\lib\\site-packages\\ipykernel_launcher.py:3: PerformanceWarning: DataFrame is highly fragmented.  This is usually the result of calling `frame.insert` many times, which has poor performance.  Consider joining all columns at once using pd.concat(axis=1) instead.  To get a de-fragmented frame, use `newframe = frame.copy()`\n",
      "  This is separate from the ipykernel package so we can avoid doing imports until\n"
     ]
    }
   ],
   "source": [
    "temp = [x.split('/')[1] if x.__class__ == str else x for x in df['registration']]\n",
    "temp = [float('nan') if x=='-' else x for x in temp]\n",
    "df['registration_year'] = temp.copy()"
   ]
  },
  {
   "cell_type": "code",
   "execution_count": 234,
   "id": "f143ab4a",
   "metadata": {
    "scrolled": true
   },
   "outputs": [
    {
     "data": {
      "text/plain": [
       "2018    4522\n",
       "2016    3674\n",
       "2017    3273\n",
       "2019    2853\n",
       "Name: registration_year, dtype: int64"
      ]
     },
     "execution_count": 234,
     "metadata": {},
     "output_type": "execute_result"
    }
   ],
   "source": [
    "df['registration_year'].value_counts()"
   ]
  },
  {
   "cell_type": "code",
   "execution_count": 235,
   "id": "a0a36b6c",
   "metadata": {},
   "outputs": [],
   "source": [
    "df['first_registration'] = df['registration_year'].copy()"
   ]
  },
  {
   "cell_type": "code",
   "execution_count": 236,
   "id": "5aeb1502",
   "metadata": {},
   "outputs": [],
   "source": [
    "df['registration_year'] = [float(x) for x in df['registration_year']]"
   ]
  },
  {
   "cell_type": "code",
   "execution_count": 237,
   "id": "28b31872",
   "metadata": {},
   "outputs": [
    {
     "name": "stderr",
     "output_type": "stream",
     "text": [
      "C:\\Users\\arsha\\Anaconda3\\lib\\site-packages\\ipykernel_launcher.py:3: PerformanceWarning: DataFrame is highly fragmented.  This is usually the result of calling `frame.insert` many times, which has poor performance.  Consider joining all columns at once using pd.concat(axis=1) instead.  To get a de-fragmented frame, use `newframe = frame.copy()`\n",
      "  This is separate from the ipykernel package so we can avoid doing imports until\n"
     ]
    }
   ],
   "source": [
    "temp = [x.split('/')[0] if x.__class__ == str else x for x in df['registration']]\n",
    "temp = [float('nan') if x=='-' else int(x) for x in temp]\n",
    "df['registration_month'] = temp.copy()"
   ]
  },
  {
   "cell_type": "code",
   "execution_count": 238,
   "id": "0f179d0f",
   "metadata": {},
   "outputs": [
    {
     "data": {
      "text/plain": [
       "3.0     2245\n",
       "2.0     1964\n",
       "4.0     1959\n",
       "5.0     1875\n",
       "1.0     1734\n",
       "6.0     1617\n",
       "7.0      793\n",
       "8.0      494\n",
       "9.0      436\n",
       "11.0     433\n",
       "10.0     411\n",
       "12.0     361\n",
       "Name: registration_month, dtype: int64"
      ]
     },
     "execution_count": 238,
     "metadata": {},
     "output_type": "execute_result"
    }
   ],
   "source": [
    "df['registration_month'].value_counts()"
   ]
  },
  {
   "cell_type": "code",
   "execution_count": 239,
   "id": "753f7cf2",
   "metadata": {},
   "outputs": [
    {
     "name": "stderr",
     "output_type": "stream",
     "text": [
      "C:\\Users\\arsha\\Anaconda3\\lib\\site-packages\\ipykernel_launcher.py:1: PerformanceWarning: DataFrame is highly fragmented.  This is usually the result of calling `frame.insert` many times, which has poor performance.  Consider joining all columns at once using pd.concat(axis=1) instead.  To get a de-fragmented frame, use `newframe = frame.copy()`\n",
      "  \"\"\"Entry point for launching an IPython kernel.\n"
     ]
    }
   ],
   "source": [
    "df['registration_continuous'] = df['registration_year'] + df['registration_month']/12"
   ]
  },
  {
   "cell_type": "code",
   "execution_count": 240,
   "id": "c063b3e4",
   "metadata": {},
   "outputs": [
    {
     "data": {
      "text/plain": [
       "2018.250000    695\n",
       "2019.166667    585\n",
       "2018.416667    572\n",
       "2019.250000    543\n",
       "2018.333333    541\n",
       "2019.083333    541\n",
       "2018.166667    539\n",
       "2016.250000    536\n",
       "2016.333333    532\n",
       "2018.500000    532\n",
       "2018.083333    511\n",
       "2019.333333    506\n",
       "2016.166667    472\n",
       "2017.250000    471\n",
       "2016.416667    459\n",
       "2016.500000    452\n",
       "2019.416667    440\n",
       "2017.500000    409\n",
       "2017.416667    404\n",
       "2018.583333    396\n",
       "2017.333333    380\n",
       "2016.083333    376\n",
       "2017.166667    368\n",
       "2017.083333    306\n",
       "2018.666667    285\n",
       "2019.500000    224\n",
       "2017.583333    215\n",
       "2017.916667    180\n",
       "2016.583333    176\n",
       "2016.833333    160\n",
       "2017.833333    154\n",
       "2017.750000    149\n",
       "2016.916667    142\n",
       "2018.750000    141\n",
       "2016.750000    141\n",
       "2017.000000    134\n",
       "2018.000000    123\n",
       "2017.666667    114\n",
       "2018.916667    110\n",
       "2019.000000    103\n",
       "2018.833333     97\n",
       "2016.666667     94\n",
       "2019.583333      6\n",
       "2019.750000      5\n",
       "2019.666667      1\n",
       "2019.916667      1\n",
       "2020.000000      1\n",
       "Name: registration_continuous, dtype: int64"
      ]
     },
     "execution_count": 240,
     "metadata": {},
     "output_type": "execute_result"
    }
   ],
   "source": [
    "df['registration_continuous'].value_counts()"
   ]
  },
  {
   "cell_type": "code",
   "execution_count": 241,
   "id": "62e9f245",
   "metadata": {},
   "outputs": [
    {
     "data": {
      "text/plain": [
       "2018    4522\n",
       "2016    3674\n",
       "2017    3273\n",
       "2019    2853\n",
       "Name: first_registration, dtype: int64"
      ]
     },
     "execution_count": 241,
     "metadata": {},
     "output_type": "execute_result"
    }
   ],
   "source": [
    "df['first_registration'].value_counts()"
   ]
  },
  {
   "cell_type": "code",
   "execution_count": 242,
   "id": "2824d1ff",
   "metadata": {},
   "outputs": [],
   "source": [
    "ignore.add('registration')\n",
    "ignore.add('registration_month')\n",
    "to_encode.add('first_registration')"
   ]
  },
  {
   "cell_type": "markdown",
   "id": "4a4be40b",
   "metadata": {},
   "source": [
    "Explore km\n",
    "\n",
    "make integers by removing string characters"
   ]
  },
  {
   "cell_type": "code",
   "execution_count": 243,
   "id": "9e52f3af",
   "metadata": {},
   "outputs": [
    {
     "data": {
      "text/plain": [
       "10 km        1045\n",
       "- km         1024\n",
       "1 km          367\n",
       "5 km          170\n",
       "50 km         148\n",
       "             ... \n",
       "67,469 km       1\n",
       "43,197 km       1\n",
       "10,027 km       1\n",
       "35,882 km       1\n",
       "57 km           1\n",
       "Name: km, Length: 6690, dtype: int64"
      ]
     },
     "execution_count": 243,
     "metadata": {},
     "output_type": "execute_result"
    }
   ],
   "source": [
    "df['km'].value_counts()"
   ]
  },
  {
   "cell_type": "code",
   "execution_count": 244,
   "id": "be8c6389",
   "metadata": {},
   "outputs": [
    {
     "data": {
      "text/plain": [
       "10.0       1045\n",
       "1.0         367\n",
       "5.0         170\n",
       "50.0        148\n",
       "100.0       139\n",
       "           ... \n",
       "67469.0       1\n",
       "43197.0       1\n",
       "10027.0       1\n",
       "35882.0       1\n",
       "57.0          1\n",
       "Name: temp, Length: 6689, dtype: int64"
      ]
     },
     "execution_count": 244,
     "metadata": {},
     "output_type": "execute_result"
    }
   ],
   "source": [
    "df['temp'] = [re.sub(',| km|-','',x).lstrip().strip() for x in df['km']]\n",
    "df['temp'] = [float('nan') if x=='' else int(x) for x in df['temp']]\n",
    "df['temp'].value_counts()"
   ]
  },
  {
   "cell_type": "code",
   "execution_count": 245,
   "id": "d9aa5ac6",
   "metadata": {},
   "outputs": [],
   "source": [
    "df['km'] = df['temp']"
   ]
  },
  {
   "cell_type": "code",
   "execution_count": 246,
   "id": "f93cabd1",
   "metadata": {
    "scrolled": true
   },
   "outputs": [
    {
     "data": {
      "text/plain": [
       "<AxesSubplot:ylabel='Frequency'>"
      ]
     },
     "execution_count": 246,
     "metadata": {},
     "output_type": "execute_result"
    },
    {
     "data": {
      "image/png": "[encoded data removed]",
      "text/plain": [
       "<Figure size 640x480 with 1 Axes>"
      ]
     },
     "metadata": {},
     "output_type": "display_data"
    }
   ],
   "source": [
    "df['km'].plot.hist(bins=100)"
   ]
  },
  {
   "cell_type": "code",
   "execution_count": 247,
   "id": "be69c7b9",
   "metadata": {},
   "outputs": [],
   "source": [
    "df['km'] = [200001 if x > 200000 else x for x in df['km']]"
   ]
  },
  {
   "cell_type": "code",
   "execution_count": 248,
   "id": "e818b147",
   "metadata": {},
   "outputs": [
    {
     "data": {
      "text/plain": [
       "<AxesSubplot:ylabel='Frequency'>"
      ]
     },
     "execution_count": 248,
     "metadata": {},
     "output_type": "execute_result"
    },
    {
     "data": {
      "image/png": "[encoded data removed]",
      "text/plain": [
       "<Figure size 640x480 with 1 Axes>"
      ]
     },
     "metadata": {},
     "output_type": "display_data"
    }
   ],
   "source": [
    "df['km'].plot.hist(bins=100)"
   ]
  },
  {
   "cell_type": "markdown",
   "id": "b8aa2061",
   "metadata": {},
   "source": [
    "Explore price\n",
    "\n",
    "Maybe drop rows with <5000 and >60000?"
   ]
  },
  {
   "cell_type": "code",
   "execution_count": 249,
   "id": "61dc221e",
   "metadata": {},
   "outputs": [
    {
     "data": {
      "text/plain": [
       "13       1\n",
       "120      1\n",
       "255      1\n",
       "331      1\n",
       "4950     1\n",
       "        ..\n",
       "64332    1\n",
       "64900    1\n",
       "67600    1\n",
       "68320    1\n",
       "74600    1\n",
       "Name: price, Length: 2956, dtype: int64"
      ]
     },
     "execution_count": 249,
     "metadata": {},
     "output_type": "execute_result"
    }
   ],
   "source": [
    "df['price'].value_counts().sort_index()"
   ]
  },
  {
   "cell_type": "code",
   "execution_count": 250,
   "id": "11aa57f3",
   "metadata": {},
   "outputs": [
    {
     "data": {
      "text/plain": [
       "<AxesSubplot:ylabel='Frequency'>"
      ]
     },
     "execution_count": 250,
     "metadata": {},
     "output_type": "execute_result"
    },
    {
     "data": {
      "image/png": "[encoded data removed]",
      "text/plain": [
       "<Figure size 640x480 with 1 Axes>"
      ]
     },
     "metadata": {},
     "output_type": "display_data"
    }
   ],
   "source": [
    "df['price'].plot.hist(bins = 100)"
   ]
  },
  {
   "cell_type": "code",
   "execution_count": 251,
   "id": "cac0cffe",
   "metadata": {},
   "outputs": [
    {
     "data": {
      "text/plain": [
       "45"
      ]
     },
     "execution_count": 251,
     "metadata": {},
     "output_type": "execute_result"
    }
   ],
   "source": [
    "df['price'][df['price']>50000].count()"
   ]
  },
  {
   "cell_type": "code",
   "execution_count": 252,
   "id": "9ff1ab36",
   "metadata": {},
   "outputs": [
    {
     "data": {
      "text/plain": [
       "60"
      ]
     },
     "execution_count": 252,
     "metadata": {},
     "output_type": "execute_result"
    }
   ],
   "source": [
    "df['price'][df['price']<6500].count()"
   ]
  },
  {
   "cell_type": "code",
   "execution_count": 253,
   "id": "be9aecbf",
   "metadata": {},
   "outputs": [],
   "source": [
    "df = pd.get_dummies(df, columns=to_encode)"
   ]
  },
  {
   "cell_type": "code",
   "execution_count": 254,
   "id": "fc063776",
   "metadata": {},
   "outputs": [],
   "source": [
    "cols = [i for i in df.columns]"
   ]
  },
  {
   "cell_type": "code",
   "execution_count": 255,
   "id": "781a2e12",
   "metadata": {},
   "outputs": [
    {
     "data": {
      "text/plain": [
       "235"
      ]
     },
     "execution_count": 255,
     "metadata": {},
     "output_type": "execute_result"
    }
   ],
   "source": [
    "len(cols)"
   ]
  },
  {
   "cell_type": "code",
   "execution_count": 256,
   "id": "20521a62",
   "metadata": {},
   "outputs": [],
   "source": [
    "ignore.add('url')"
   ]
  },
  {
   "cell_type": "code",
   "execution_count": 257,
   "id": "3085012c",
   "metadata": {},
   "outputs": [
    {
     "data": {
      "text/plain": [
       "{'availability',\n",
       " 'available_from',\n",
       " 'body',\n",
       " 'body_color_original',\n",
       " 'comfort_electrically_adjustable_seats',\n",
       " 'comfort_lumbar_support',\n",
       " 'comfort_parking_assist_system_camera',\n",
       " 'comfort_parking_assist_system_sensors_front',\n",
       " 'comfort_wind_deflector',\n",
       " 'consumption',\n",
       " 'country_version',\n",
       " 'description',\n",
       " 'displacement',\n",
       " 'electricity_consumption',\n",
       " 'entertainment_television',\n",
       " 'extra_catalytic converter',\n",
       " 'extra_sport package',\n",
       " 'extra_tuned car',\n",
       " 'extra_winter_tyres',\n",
       " 'fuel',\n",
       " 'full_service',\n",
       " 'inspection_new',\n",
       " 'last_service_date',\n",
       " 'model_code',\n",
       " 'next_inspection',\n",
       " 'non_smoking_vehicle',\n",
       " 'null',\n",
       " 'offer_number',\n",
       " 'other_fuel_types',\n",
       " 'previous_owners',\n",
       " 'registration',\n",
       " 'registration_month',\n",
       " 'safety_emergency_brake_assistant',\n",
       " 'safety_security',\n",
       " 'short_description',\n",
       " 'upholstery',\n",
       " 'url',\n",
       " 'vat',\n",
       " 'warranty'}"
      ]
     },
     "execution_count": 257,
     "metadata": {},
     "output_type": "execute_result"
    }
   ],
   "source": [
    "ignore"
   ]
  },
  {
   "cell_type": "code",
   "execution_count": 258,
   "id": "1b696bd1",
   "metadata": {},
   "outputs": [],
   "source": [
    "df2 = df[[x for x in df.columns if x not in ignore] ]"
   ]
  },
  {
   "cell_type": "code",
   "execution_count": 259,
   "id": "9e7a52ce",
   "metadata": {},
   "outputs": [
    {
     "data": {
      "text/plain": [
       "Index(['price', 'km', 'kw', 'hp', 'non-smoking_vehicle', 'make', 'model',\n",
       "       'weight', 'co2_emission', 'emission_class',\n",
       "       ...\n",
       "       'cylinders_3_or_less', 'cylinders_4_or_more', 'make_model_audi_a1',\n",
       "       'make_model_audi_a3', 'make_model_opel_astra', 'make_model_opel_corsa',\n",
       "       'make_model_opel_insignia', 'make_model_renault_clio',\n",
       "       'make_model_renault_duster', 'make_model_renault_espace'],\n",
       "      dtype='object', length=200)"
      ]
     },
     "execution_count": 259,
     "metadata": {},
     "output_type": "execute_result"
    }
   ],
   "source": [
    "df2.columns"
   ]
  },
  {
   "cell_type": "code",
   "execution_count": 260,
   "id": "53cb4093",
   "metadata": {},
   "outputs": [],
   "source": [
    "df2.to_json('data.json', orient='records', lines=True)"
   ]
  }
 ],
 "metadata": {
  "kernelspec": {
   "display_name": "Python 3 (ipykernel)",
   "language": "python",
   "name": "python3"
  },
  "language_info": {
   "codemirror_mode": {
    "name": "ipython",
    "version": 3
   },
   "file_extension": ".py",
   "mimetype": "text/x-python",
   "name": "python",
   "nbconvert_exporter": "python",
   "pygments_lexer": "ipython3",
   "version": "3.7.16"
  }
 },
 "nbformat": 4,
 "nbformat_minor": 5
}
