{
 "cells": [
  {
   "cell_type": "markdown",
   "id": "ef218860",
   "metadata": {},
   "source": [
    "<a id=\"toc\"></a>\n",
    "\n",
    "# <p style=\"background-color: #008080; font-family:newtimeroman; color:#FFF9ED; font-size:175%; text-align:center; border-radius:5px 5px;\">Auto Scout Car Prices Prediction Project: <br> Modeling, Model-Selection, and Feature-Selection </p>\n",
    "\n",
    "## <p style=\"background-color: #008080; font-family:newtimeroman; color:#FFF9ED; font-size:150%; text-align:center; border-radius:10px 10px;\">Content</p>\n",
    "\n",
    "* [INTRODUCTION NOTEBOOK](00_introduction.ipynb)\n",
    "* [IMPORTING LIBRARIES NEEDED IN THIS NOTEBOOK](#1)\n",
    "* [FUNCTIONS](#fn)\n",
    "* [MODELING](#2A)\n",
    "* * I am going to try many models: linear OLS, poly OLS, lasso, ridge, Random Forest, SGDregression, XGB, light GBM, catBoost.\n",
    "* [MODEL-SELECTION](#2B)\n",
    "* * I will drop the worst performing ones.\n",
    "* [FEATURE-SELECTION](#2C)\n",
    "* * I'll keep only about 10 of the features from the current dataset.\n",
    "* [THE END OF MODELING](#3)"
   ]
  },
  {
   "cell_type": "markdown",
   "id": "6442d9dd",
   "metadata": {},
   "source": [
    "<a id=\"1\"></a>\n",
    "\n",
    "## Importing Libraries"
   ]
  },
  {
   "cell_type": "code",
   "execution_count": 1,
   "id": "bd7be0f0",
   "metadata": {},
   "outputs": [],
   "source": [
    "from catboost import CatBoostRegressor\n",
    "import numpy as np\n",
    "from lightgbm import LGBMRegressor, plot_importance\n",
    "import matplotlib.pyplot as plt\n",
    "import pandas as pd\n",
    "import regex as re\n",
    "from sklearn.compose import ColumnTransformer\n",
    "from sklearn.ensemble import RandomForestRegressor\n",
    "from sklearn.linear_model import LinearRegression, Ridge, Lasso, SGDRegressor\n",
    "from sklearn.metrics import r2_score, mean_squared_error, mean_absolute_error\n",
    "from sklearn.model_selection import train_test_split, cross_val_score\n",
    "from sklearn.pipeline import Pipeline\n",
    "from sklearn.preprocessing import OneHotEncoder, StandardScaler, PolynomialFeatures\n",
    "from time import perf_counter\n",
    "from xgboost import XGBRegressor"
   ]
  },
  {
   "cell_type": "markdown",
   "id": "ba5cea8a",
   "metadata": {},
   "source": [
    "<a id='fn'></a>\n",
    "## Functions"
   ]
  },
  {
   "cell_type": "raw",
   "id": "56d4213c-5cfd-4ac4-b019-f43b9d149eb5",
   "metadata": {},
   "source": [
    "#import make_results_table\n",
    "#from make_results_table import make_results_table"
   ]
  },
  {
   "cell_type": "code",
   "execution_count": 2,
   "id": "ed640b34-81de-488c-90a1-146a801efd61",
   "metadata": {},
   "outputs": [],
   "source": [
    "def make_results_table(models,X_train_tr, y_train, X_test_tr, y_test):\n",
    "    '''\n",
    "    input: dict of models(name: model, X_train_tr, y_train, X_test_tr, y_test\n",
    "    output: dataframe of model and their performance scores.\n",
    "    '''\n",
    "    results = pd.DataFrame(columns = ['model','score(r2)', 'rmse', 'mae', 'time'])\n",
    "    for name in models.keys():\n",
    "        print(name)\n",
    "        t0 = perf_counter()\n",
    "        model = models[name]\n",
    "        row = {}\n",
    "        row['model'] = [name]\n",
    "        model.fit(X_train_tr, y_train)\n",
    "        row['score(r2)'] = [model.score(X_test_tr, y_test)]\n",
    "        y_test_hat = model.predict(X_test_tr)\n",
    "        row['rmse'] = [int((mean_squared_error(y_test, y_test_hat))**(1/2))]\n",
    "        row['mae'] = [int(mean_absolute_error(y_test, y_test_hat))]\n",
    "        t1 = perf_counter()\n",
    "        row['time'] = t1 - t0\n",
    "        row = pd.DataFrame(row)\n",
    "        results = pd.concat([results, row], ignore_index=True)\n",
    "        models[name] = model\n",
    "    return results, models"
   ]
  },
  {
   "cell_type": "code",
   "execution_count": 3,
   "id": "3c5315d4-da4e-4173-87fb-3122c24463b3",
   "metadata": {},
   "outputs": [],
   "source": [
    "def make_results_table_with_cv(models,df2,rep=10):\n",
    "    '''\n",
    "    input: dict of models(name: model, X_train_tr, y_train, X_test_tr, y_test\n",
    "    output: dataframe of model and their performance scores.\n",
    "    '''\n",
    "    results = pd.DataFrame(columns = ['model','score(r2)', 'rmse', 'mae', 'time'])\n",
    "    for i in range(rep):\n",
    "        X = df2.drop('price',axis=1)\n",
    "        y = df2.price\n",
    "        X_train, X_test, y_train, y_test = train_test_split(X, y, test_size=0.20)\n",
    "        num_transformer = StandardScaler()\n",
    "        preprocessor = ColumnTransformer(\n",
    "                transformers=[\n",
    "                    ('num', num_transformer, num_cols)\n",
    "                ], remainder='passthrough')\n",
    "        X_train_tr = preprocessor.fit_transform(X_train)\n",
    "        X_test_tr = preprocessor.transform(X_test)\n",
    "        for name in models.keys():\n",
    "            print(name)\n",
    "            t0 = perf_counter()\n",
    "            model = models[name]\n",
    "            row = {}\n",
    "            row['model'] = [name]\n",
    "            model.fit(X_train_tr, y_train)\n",
    "            row['score(r2)'] = [model.score(X_test_tr, y_test)]\n",
    "            y_test_hat = model.predict(X_test_tr)\n",
    "            row['rmse'] = [int((mean_squared_error(y_test, y_test_hat))**(1/2))]\n",
    "            row['mae'] = [int(mean_absolute_error(y_test, y_test_hat))]\n",
    "            t1 = perf_counter()\n",
    "            row['time'] = t1 - t0\n",
    "            row = pd.DataFrame(row)\n",
    "            results = pd.concat([results, row], ignore_index=True)\n",
    "            models[name] = model\n",
    "            \n",
    "    meta = pd.DataFrame(columns = ['model', 'score(r2)_mean','score(r2)_sd', 'rmse_mean', 'rmse_sd', 'mae_mean', 'mae_sd','time_mean', 'time_sd'])\n",
    "    meta['model'] = results.model.unique()\n",
    "    for name in meta.model:\n",
    "        for s in [\"score(r2)\", \"rmse\", \"mae\", \"time\"]:\n",
    "            tmean = s+'_mean'\n",
    "            meta.loc[results.model==name,tmean] = results[results.model==name][s].mean()\n",
    "            tsd = s+'_sd'\n",
    "            m = meta.loc[results.model==name,tmean]\n",
    "            sd = sum([(x-m)**2 for x in results[results.model==name][s]])**(1/2)\n",
    "            meta.loc[results.model==name,tsd] = sd\n",
    "    colnames = list(X_train.columns)\n",
    "    return meta, models, colnames"
   ]
  },
  {
   "cell_type": "markdown",
   "id": "02eef2fe",
   "metadata": {},
   "source": [
    "<a id=\"2A\"></a>\n",
    "## Modeling"
   ]
  },
  {
   "cell_type": "code",
   "execution_count": 4,
   "id": "4091d00a",
   "metadata": {},
   "outputs": [],
   "source": [
    "df = pd.read_json('data_post03.json', lines=True)"
   ]
  },
  {
   "cell_type": "code",
   "execution_count": 5,
   "id": "faa90705-d23c-4965-8e59-82f2fcf60662",
   "metadata": {},
   "outputs": [
    {
     "name": "stdout",
     "output_type": "stream",
     "text": [
      "<class 'pandas.core.frame.DataFrame'>\n",
      "RangeIndex: 15884 entries, 0 to 15883\n",
      "Columns: 173 entries, price to saf_passenger-side_airbag\n",
      "dtypes: float64(5), int64(168)\n",
      "memory usage: 21.0 MB\n"
     ]
    }
   ],
   "source": [
    "df.info()"
   ]
  },
  {
   "cell_type": "code",
   "execution_count": 6,
   "id": "9af1e622-827a-4f45-9b4a-985ba903a303",
   "metadata": {},
   "outputs": [],
   "source": [
    "vat = df['vat_deductible']"
   ]
  },
  {
   "cell_type": "code",
   "execution_count": 7,
   "id": "95510592-7ecb-4b6a-9a9b-854c31f53f7b",
   "metadata": {},
   "outputs": [],
   "source": [
    "df = df.drop(['consumption_city','consumption_country','vat_deductible'], axis=1)"
   ]
  },
  {
   "cell_type": "code",
   "execution_count": 8,
   "id": "25c09079-0f40-449e-af2d-d6e3b4d2d560",
   "metadata": {},
   "outputs": [],
   "source": [
    "df['vat_deductible'] = vat"
   ]
  },
  {
   "cell_type": "code",
   "execution_count": 9,
   "id": "7a357dcc-b0e3-4e06-b898-44875254fda0",
   "metadata": {},
   "outputs": [
    {
     "data": {
      "text/plain": [
       "Index(['price', 'km', 'hp', 'displacement', 'weight', 'co2_emission',\n",
       "       'warranty_mo', 'consumption_comb', 'make_model_audi_a3',\n",
       "       'make_model_opel_astra', 'make_model_opel_corsa',\n",
       "       'make_model_opel_insignia', 'make_model_renault_clio',\n",
       "       'make_model_renault_espace', 'body_type_other'],\n",
       "      dtype='object')"
      ]
     },
     "execution_count": 9,
     "metadata": {},
     "output_type": "execute_result"
    }
   ],
   "source": [
    "df.columns[:15]"
   ]
  },
  {
   "cell_type": "code",
   "execution_count": 10,
   "id": "195bfd18-eb11-4a62-a628-68dbc950db3e",
   "metadata": {},
   "outputs": [],
   "source": [
    "num_cols = ['km', 'hp', 'displacement', 'weight', 'co2_emission',\n",
    "       'warranty_mo', 'consumption_comb']"
   ]
  },
  {
   "cell_type": "markdown",
   "id": "34337564",
   "metadata": {},
   "source": [
    "### Linear without polynomial features\n",
    "#### preliminary work - train and test split"
   ]
  },
  {
   "cell_type": "code",
   "execution_count": 11,
   "id": "0a856b7a",
   "metadata": {},
   "outputs": [],
   "source": [
    "X = df.drop('price',axis=1)\n",
    "y = df.price"
   ]
  },
  {
   "cell_type": "code",
   "execution_count": 12,
   "id": "0e680f20",
   "metadata": {},
   "outputs": [],
   "source": [
    "X_train, X_test, y_train, y_test = train_test_split(X, y, test_size=0.20, random_state=42)"
   ]
  },
  {
   "cell_type": "code",
   "execution_count": 13,
   "id": "50b6a2c2",
   "metadata": {},
   "outputs": [],
   "source": [
    "num_transformer = StandardScaler()"
   ]
  },
  {
   "cell_type": "code",
   "execution_count": 14,
   "id": "a8b68d7a",
   "metadata": {},
   "outputs": [],
   "source": [
    "preprocessor = ColumnTransformer(\n",
    "    transformers=[\n",
    "        ('num', num_transformer, num_cols)\n",
    "    ], remainder='passthrough')"
   ]
  },
  {
   "cell_type": "code",
   "execution_count": 15,
   "id": "7ba77427",
   "metadata": {},
   "outputs": [],
   "source": [
    "X_train_tr = preprocessor.fit_transform(X_train)"
   ]
  },
  {
   "cell_type": "code",
   "execution_count": 16,
   "id": "90a51069",
   "metadata": {},
   "outputs": [],
   "source": [
    "X_test_tr = preprocessor.transform(X_test)"
   ]
  },
  {
   "cell_type": "markdown",
   "id": "3c1a231a",
   "metadata": {},
   "source": [
    "#### Linear OLS"
   ]
  },
  {
   "cell_type": "code",
   "execution_count": 17,
   "id": "633c6064",
   "metadata": {},
   "outputs": [],
   "source": [
    "ols = LinearRegression()"
   ]
  },
  {
   "cell_type": "code",
   "execution_count": 18,
   "id": "fed29753",
   "metadata": {},
   "outputs": [
    {
     "data": {
      "text/html": [
       "<style>#sk-container-id-1 {color: black;background-color: white;}#sk-container-id-1 pre{padding: 0;}#sk-container-id-1 div.sk-toggleable {background-color: white;}#sk-container-id-1 label.sk-toggleable__label {cursor: pointer;display: block;width: 100%;margin-bottom: 0;padding: 0.3em;box-sizing: border-box;text-align: center;}#sk-container-id-1 label.sk-toggleable__label-arrow:before {content: \"▸\";float: left;margin-right: 0.25em;color: #696969;}#sk-container-id-1 label.sk-toggleable__label-arrow:hover:before {color: black;}#sk-container-id-1 div.sk-estimator:hover label.sk-toggleable__label-arrow:before {color: black;}#sk-container-id-1 div.sk-toggleable__content {max-height: 0;max-width: 0;overflow: hidden;text-align: left;background-color: #f0f8ff;}#sk-container-id-1 div.sk-toggleable__content pre {margin: 0.2em;color: black;border-radius: 0.25em;background-color: #f0f8ff;}#sk-container-id-1 input.sk-toggleable__control:checked~div.sk-toggleable__content {max-height: 200px;max-width: 100%;overflow: auto;}#sk-container-id-1 input.sk-toggleable__control:checked~label.sk-toggleable__label-arrow:before {content: \"▾\";}#sk-container-id-1 div.sk-estimator input.sk-toggleable__control:checked~label.sk-toggleable__label {background-color: #d4ebff;}#sk-container-id-1 div.sk-label input.sk-toggleable__control:checked~label.sk-toggleable__label {background-color: #d4ebff;}#sk-container-id-1 input.sk-hidden--visually {border: 0;clip: rect(1px 1px 1px 1px);clip: rect(1px, 1px, 1px, 1px);height: 1px;margin: -1px;overflow: hidden;padding: 0;position: absolute;width: 1px;}#sk-container-id-1 div.sk-estimator {font-family: monospace;background-color: #f0f8ff;border: 1px dotted black;border-radius: 0.25em;box-sizing: border-box;margin-bottom: 0.5em;}#sk-container-id-1 div.sk-estimator:hover {background-color: #d4ebff;}#sk-container-id-1 div.sk-parallel-item::after {content: \"\";width: 100%;border-bottom: 1px solid gray;flex-grow: 1;}#sk-container-id-1 div.sk-label:hover label.sk-toggleable__label {background-color: #d4ebff;}#sk-container-id-1 div.sk-serial::before {content: \"\";position: absolute;border-left: 1px solid gray;box-sizing: border-box;top: 0;bottom: 0;left: 50%;z-index: 0;}#sk-container-id-1 div.sk-serial {display: flex;flex-direction: column;align-items: center;background-color: white;padding-right: 0.2em;padding-left: 0.2em;position: relative;}#sk-container-id-1 div.sk-item {position: relative;z-index: 1;}#sk-container-id-1 div.sk-parallel {display: flex;align-items: stretch;justify-content: center;background-color: white;position: relative;}#sk-container-id-1 div.sk-item::before, #sk-container-id-1 div.sk-parallel-item::before {content: \"\";position: absolute;border-left: 1px solid gray;box-sizing: border-box;top: 0;bottom: 0;left: 50%;z-index: -1;}#sk-container-id-1 div.sk-parallel-item {display: flex;flex-direction: column;z-index: 1;position: relative;background-color: white;}#sk-container-id-1 div.sk-parallel-item:first-child::after {align-self: flex-end;width: 50%;}#sk-container-id-1 div.sk-parallel-item:last-child::after {align-self: flex-start;width: 50%;}#sk-container-id-1 div.sk-parallel-item:only-child::after {width: 0;}#sk-container-id-1 div.sk-dashed-wrapped {border: 1px dashed gray;margin: 0 0.4em 0.5em 0.4em;box-sizing: border-box;padding-bottom: 0.4em;background-color: white;}#sk-container-id-1 div.sk-label label {font-family: monospace;font-weight: bold;display: inline-block;line-height: 1.2em;}#sk-container-id-1 div.sk-label-container {text-align: center;}#sk-container-id-1 div.sk-container {/* jupyter's `normalize.less` sets `[hidden] { display: none; }` but bootstrap.min.css set `[hidden] { display: none !important; }` so we also need the `!important` here to be able to override the default hidden behavior on the sphinx rendered scikit-learn.org. See: https://github.com/scikit-learn/scikit-learn/issues/21755 */display: inline-block !important;position: relative;}#sk-container-id-1 div.sk-text-repr-fallback {display: none;}</style><div id=\"sk-container-id-1\" class=\"sk-top-container\"><div class=\"sk-text-repr-fallback\"><pre>LinearRegression()</pre><b>In a Jupyter environment, please rerun this cell to show the HTML representation or trust the notebook. <br />On GitHub, the HTML representation is unable to render, please try loading this page with nbviewer.org.</b></div><div class=\"sk-container\" hidden><div class=\"sk-item\"><div class=\"sk-estimator sk-toggleable\"><input class=\"sk-toggleable__control sk-hidden--visually\" id=\"sk-estimator-id-1\" type=\"checkbox\" checked><label for=\"sk-estimator-id-1\" class=\"sk-toggleable__label sk-toggleable__label-arrow\">LinearRegression</label><div class=\"sk-toggleable__content\"><pre>LinearRegression()</pre></div></div></div></div></div>"
      ],
      "text/plain": [
       "LinearRegression()"
      ]
     },
     "execution_count": 18,
     "metadata": {},
     "output_type": "execute_result"
    }
   ],
   "source": [
    "ols.fit(X_train_tr, y_train)"
   ]
  },
  {
   "cell_type": "code",
   "execution_count": 19,
   "id": "d86b19ae",
   "metadata": {},
   "outputs": [
    {
     "data": {
      "text/plain": [
       "0.8983907919761824"
      ]
     },
     "execution_count": 19,
     "metadata": {},
     "output_type": "execute_result"
    }
   ],
   "source": [
    "ols.score(X_test_tr, y_test)"
   ]
  },
  {
   "cell_type": "code",
   "execution_count": 20,
   "id": "f0cfc725",
   "metadata": {},
   "outputs": [
    {
     "data": {
      "text/plain": [
       "2344.937116190551"
      ]
     },
     "execution_count": 20,
     "metadata": {},
     "output_type": "execute_result"
    }
   ],
   "source": [
    "y_test_hat = ols.predict(X_test_tr)\n",
    "(mean_squared_error(y_test, y_test_hat))**(1/2)"
   ]
  },
  {
   "cell_type": "markdown",
   "id": "a4f37cce",
   "metadata": {},
   "source": [
    "#### Linear Ridge"
   ]
  },
  {
   "cell_type": "code",
   "execution_count": 21,
   "id": "fe2f4813",
   "metadata": {},
   "outputs": [],
   "source": [
    "ridge = Ridge()"
   ]
  },
  {
   "cell_type": "code",
   "execution_count": 22,
   "id": "2c7d3f3a",
   "metadata": {},
   "outputs": [
    {
     "data": {
      "text/html": [
       "<style>#sk-container-id-2 {color: black;background-color: white;}#sk-container-id-2 pre{padding: 0;}#sk-container-id-2 div.sk-toggleable {background-color: white;}#sk-container-id-2 label.sk-toggleable__label {cursor: pointer;display: block;width: 100%;margin-bottom: 0;padding: 0.3em;box-sizing: border-box;text-align: center;}#sk-container-id-2 label.sk-toggleable__label-arrow:before {content: \"▸\";float: left;margin-right: 0.25em;color: #696969;}#sk-container-id-2 label.sk-toggleable__label-arrow:hover:before {color: black;}#sk-container-id-2 div.sk-estimator:hover label.sk-toggleable__label-arrow:before {color: black;}#sk-container-id-2 div.sk-toggleable__content {max-height: 0;max-width: 0;overflow: hidden;text-align: left;background-color: #f0f8ff;}#sk-container-id-2 div.sk-toggleable__content pre {margin: 0.2em;color: black;border-radius: 0.25em;background-color: #f0f8ff;}#sk-container-id-2 input.sk-toggleable__control:checked~div.sk-toggleable__content {max-height: 200px;max-width: 100%;overflow: auto;}#sk-container-id-2 input.sk-toggleable__control:checked~label.sk-toggleable__label-arrow:before {content: \"▾\";}#sk-container-id-2 div.sk-estimator input.sk-toggleable__control:checked~label.sk-toggleable__label {background-color: #d4ebff;}#sk-container-id-2 div.sk-label input.sk-toggleable__control:checked~label.sk-toggleable__label {background-color: #d4ebff;}#sk-container-id-2 input.sk-hidden--visually {border: 0;clip: rect(1px 1px 1px 1px);clip: rect(1px, 1px, 1px, 1px);height: 1px;margin: -1px;overflow: hidden;padding: 0;position: absolute;width: 1px;}#sk-container-id-2 div.sk-estimator {font-family: monospace;background-color: #f0f8ff;border: 1px dotted black;border-radius: 0.25em;box-sizing: border-box;margin-bottom: 0.5em;}#sk-container-id-2 div.sk-estimator:hover {background-color: #d4ebff;}#sk-container-id-2 div.sk-parallel-item::after {content: \"\";width: 100%;border-bottom: 1px solid gray;flex-grow: 1;}#sk-container-id-2 div.sk-label:hover label.sk-toggleable__label {background-color: #d4ebff;}#sk-container-id-2 div.sk-serial::before {content: \"\";position: absolute;border-left: 1px solid gray;box-sizing: border-box;top: 0;bottom: 0;left: 50%;z-index: 0;}#sk-container-id-2 div.sk-serial {display: flex;flex-direction: column;align-items: center;background-color: white;padding-right: 0.2em;padding-left: 0.2em;position: relative;}#sk-container-id-2 div.sk-item {position: relative;z-index: 1;}#sk-container-id-2 div.sk-parallel {display: flex;align-items: stretch;justify-content: center;background-color: white;position: relative;}#sk-container-id-2 div.sk-item::before, #sk-container-id-2 div.sk-parallel-item::before {content: \"\";position: absolute;border-left: 1px solid gray;box-sizing: border-box;top: 0;bottom: 0;left: 50%;z-index: -1;}#sk-container-id-2 div.sk-parallel-item {display: flex;flex-direction: column;z-index: 1;position: relative;background-color: white;}#sk-container-id-2 div.sk-parallel-item:first-child::after {align-self: flex-end;width: 50%;}#sk-container-id-2 div.sk-parallel-item:last-child::after {align-self: flex-start;width: 50%;}#sk-container-id-2 div.sk-parallel-item:only-child::after {width: 0;}#sk-container-id-2 div.sk-dashed-wrapped {border: 1px dashed gray;margin: 0 0.4em 0.5em 0.4em;box-sizing: border-box;padding-bottom: 0.4em;background-color: white;}#sk-container-id-2 div.sk-label label {font-family: monospace;font-weight: bold;display: inline-block;line-height: 1.2em;}#sk-container-id-2 div.sk-label-container {text-align: center;}#sk-container-id-2 div.sk-container {/* jupyter's `normalize.less` sets `[hidden] { display: none; }` but bootstrap.min.css set `[hidden] { display: none !important; }` so we also need the `!important` here to be able to override the default hidden behavior on the sphinx rendered scikit-learn.org. See: https://github.com/scikit-learn/scikit-learn/issues/21755 */display: inline-block !important;position: relative;}#sk-container-id-2 div.sk-text-repr-fallback {display: none;}</style><div id=\"sk-container-id-2\" class=\"sk-top-container\"><div class=\"sk-text-repr-fallback\"><pre>Ridge()</pre><b>In a Jupyter environment, please rerun this cell to show the HTML representation or trust the notebook. <br />On GitHub, the HTML representation is unable to render, please try loading this page with nbviewer.org.</b></div><div class=\"sk-container\" hidden><div class=\"sk-item\"><div class=\"sk-estimator sk-toggleable\"><input class=\"sk-toggleable__control sk-hidden--visually\" id=\"sk-estimator-id-2\" type=\"checkbox\" checked><label for=\"sk-estimator-id-2\" class=\"sk-toggleable__label sk-toggleable__label-arrow\">Ridge</label><div class=\"sk-toggleable__content\"><pre>Ridge()</pre></div></div></div></div></div>"
      ],
      "text/plain": [
       "Ridge()"
      ]
     },
     "execution_count": 22,
     "metadata": {},
     "output_type": "execute_result"
    }
   ],
   "source": [
    "ridge.fit(X_train_tr,y_train)"
   ]
  },
  {
   "cell_type": "code",
   "execution_count": 23,
   "id": "e8b136d2",
   "metadata": {},
   "outputs": [
    {
     "data": {
      "text/plain": [
       "0.8985184251150774"
      ]
     },
     "execution_count": 23,
     "metadata": {},
     "output_type": "execute_result"
    }
   ],
   "source": [
    "ridge.score(X_test_tr,y_test)"
   ]
  },
  {
   "cell_type": "code",
   "execution_count": 24,
   "id": "7d872f98",
   "metadata": {},
   "outputs": [
    {
     "data": {
      "text/plain": [
       "2343.463894737717"
      ]
     },
     "execution_count": 24,
     "metadata": {},
     "output_type": "execute_result"
    }
   ],
   "source": [
    "y_test_hat = ridge.predict(X_test_tr)\n",
    "(mean_squared_error(y_test, y_test_hat))**(1/2)"
   ]
  },
  {
   "cell_type": "markdown",
   "id": "2d390e3e",
   "metadata": {},
   "source": [
    "### Adding polynomial features\n",
    "* polynomial (deg 2) has no observable effect on scores for OLS or Ridge"
   ]
  },
  {
   "cell_type": "code",
   "execution_count": 25,
   "id": "fd807fd4",
   "metadata": {},
   "outputs": [],
   "source": [
    "poly = PolynomialFeatures(degree=2)"
   ]
  },
  {
   "cell_type": "code",
   "execution_count": 26,
   "id": "a1a65216",
   "metadata": {},
   "outputs": [],
   "source": [
    "preprocessor2 = ColumnTransformer(\n",
    "    transformers=[\n",
    "        ('poly', poly, ['warranty_mo']),\n",
    "        ('num', num_transformer, num_cols)\n",
    "    ], remainder='passthrough')\n",
    "\n",
    "# for poly, I also ried 'hp', 'km', 'consumption_comb', etc, \n",
    "# for which the objective functions does not converge"
   ]
  },
  {
   "cell_type": "code",
   "execution_count": 27,
   "id": "7b47bd4b",
   "metadata": {},
   "outputs": [],
   "source": [
    "X_train_tr2 = preprocessor2.fit_transform(X_train)\n",
    "X_test_tr2 = preprocessor2.transform(X_test)"
   ]
  },
  {
   "cell_type": "markdown",
   "id": "6195d7c0",
   "metadata": {},
   "source": [
    "#### Poly OLS"
   ]
  },
  {
   "cell_type": "code",
   "execution_count": 28,
   "id": "593f143b",
   "metadata": {},
   "outputs": [],
   "source": [
    "ols2 = LinearRegression()"
   ]
  },
  {
   "cell_type": "code",
   "execution_count": 29,
   "id": "892aebc8",
   "metadata": {},
   "outputs": [
    {
     "data": {
      "text/html": [
       "<style>#sk-container-id-3 {color: black;background-color: white;}#sk-container-id-3 pre{padding: 0;}#sk-container-id-3 div.sk-toggleable {background-color: white;}#sk-container-id-3 label.sk-toggleable__label {cursor: pointer;display: block;width: 100%;margin-bottom: 0;padding: 0.3em;box-sizing: border-box;text-align: center;}#sk-container-id-3 label.sk-toggleable__label-arrow:before {content: \"▸\";float: left;margin-right: 0.25em;color: #696969;}#sk-container-id-3 label.sk-toggleable__label-arrow:hover:before {color: black;}#sk-container-id-3 div.sk-estimator:hover label.sk-toggleable__label-arrow:before {color: black;}#sk-container-id-3 div.sk-toggleable__content {max-height: 0;max-width: 0;overflow: hidden;text-align: left;background-color: #f0f8ff;}#sk-container-id-3 div.sk-toggleable__content pre {margin: 0.2em;color: black;border-radius: 0.25em;background-color: #f0f8ff;}#sk-container-id-3 input.sk-toggleable__control:checked~div.sk-toggleable__content {max-height: 200px;max-width: 100%;overflow: auto;}#sk-container-id-3 input.sk-toggleable__control:checked~label.sk-toggleable__label-arrow:before {content: \"▾\";}#sk-container-id-3 div.sk-estimator input.sk-toggleable__control:checked~label.sk-toggleable__label {background-color: #d4ebff;}#sk-container-id-3 div.sk-label input.sk-toggleable__control:checked~label.sk-toggleable__label {background-color: #d4ebff;}#sk-container-id-3 input.sk-hidden--visually {border: 0;clip: rect(1px 1px 1px 1px);clip: rect(1px, 1px, 1px, 1px);height: 1px;margin: -1px;overflow: hidden;padding: 0;position: absolute;width: 1px;}#sk-container-id-3 div.sk-estimator {font-family: monospace;background-color: #f0f8ff;border: 1px dotted black;border-radius: 0.25em;box-sizing: border-box;margin-bottom: 0.5em;}#sk-container-id-3 div.sk-estimator:hover {background-color: #d4ebff;}#sk-container-id-3 div.sk-parallel-item::after {content: \"\";width: 100%;border-bottom: 1px solid gray;flex-grow: 1;}#sk-container-id-3 div.sk-label:hover label.sk-toggleable__label {background-color: #d4ebff;}#sk-container-id-3 div.sk-serial::before {content: \"\";position: absolute;border-left: 1px solid gray;box-sizing: border-box;top: 0;bottom: 0;left: 50%;z-index: 0;}#sk-container-id-3 div.sk-serial {display: flex;flex-direction: column;align-items: center;background-color: white;padding-right: 0.2em;padding-left: 0.2em;position: relative;}#sk-container-id-3 div.sk-item {position: relative;z-index: 1;}#sk-container-id-3 div.sk-parallel {display: flex;align-items: stretch;justify-content: center;background-color: white;position: relative;}#sk-container-id-3 div.sk-item::before, #sk-container-id-3 div.sk-parallel-item::before {content: \"\";position: absolute;border-left: 1px solid gray;box-sizing: border-box;top: 0;bottom: 0;left: 50%;z-index: -1;}#sk-container-id-3 div.sk-parallel-item {display: flex;flex-direction: column;z-index: 1;position: relative;background-color: white;}#sk-container-id-3 div.sk-parallel-item:first-child::after {align-self: flex-end;width: 50%;}#sk-container-id-3 div.sk-parallel-item:last-child::after {align-self: flex-start;width: 50%;}#sk-container-id-3 div.sk-parallel-item:only-child::after {width: 0;}#sk-container-id-3 div.sk-dashed-wrapped {border: 1px dashed gray;margin: 0 0.4em 0.5em 0.4em;box-sizing: border-box;padding-bottom: 0.4em;background-color: white;}#sk-container-id-3 div.sk-label label {font-family: monospace;font-weight: bold;display: inline-block;line-height: 1.2em;}#sk-container-id-3 div.sk-label-container {text-align: center;}#sk-container-id-3 div.sk-container {/* jupyter's `normalize.less` sets `[hidden] { display: none; }` but bootstrap.min.css set `[hidden] { display: none !important; }` so we also need the `!important` here to be able to override the default hidden behavior on the sphinx rendered scikit-learn.org. See: https://github.com/scikit-learn/scikit-learn/issues/21755 */display: inline-block !important;position: relative;}#sk-container-id-3 div.sk-text-repr-fallback {display: none;}</style><div id=\"sk-container-id-3\" class=\"sk-top-container\"><div class=\"sk-text-repr-fallback\"><pre>LinearRegression()</pre><b>In a Jupyter environment, please rerun this cell to show the HTML representation or trust the notebook. <br />On GitHub, the HTML representation is unable to render, please try loading this page with nbviewer.org.</b></div><div class=\"sk-container\" hidden><div class=\"sk-item\"><div class=\"sk-estimator sk-toggleable\"><input class=\"sk-toggleable__control sk-hidden--visually\" id=\"sk-estimator-id-3\" type=\"checkbox\" checked><label for=\"sk-estimator-id-3\" class=\"sk-toggleable__label sk-toggleable__label-arrow\">LinearRegression</label><div class=\"sk-toggleable__content\"><pre>LinearRegression()</pre></div></div></div></div></div>"
      ],
      "text/plain": [
       "LinearRegression()"
      ]
     },
     "execution_count": 29,
     "metadata": {},
     "output_type": "execute_result"
    }
   ],
   "source": [
    "ols2.fit(X_train_tr2, y_train)"
   ]
  },
  {
   "cell_type": "code",
   "execution_count": 30,
   "id": "d35d2bfa",
   "metadata": {},
   "outputs": [
    {
     "data": {
      "text/plain": [
       "0.8984515491700235"
      ]
     },
     "execution_count": 30,
     "metadata": {},
     "output_type": "execute_result"
    }
   ],
   "source": [
    "ols2.score(X_test_tr2, y_test)"
   ]
  },
  {
   "cell_type": "code",
   "execution_count": 31,
   "id": "789f0fdc",
   "metadata": {},
   "outputs": [
    {
     "data": {
      "text/plain": [
       "2344.2359341530346"
      ]
     },
     "execution_count": 31,
     "metadata": {},
     "output_type": "execute_result"
    }
   ],
   "source": [
    "y_test_hat = ols2.predict(X_test_tr2)\n",
    "(mean_squared_error(y_test, y_test_hat))**(1/2)"
   ]
  },
  {
   "cell_type": "markdown",
   "id": "74cc3257",
   "metadata": {},
   "source": [
    "#### Poly Ridge"
   ]
  },
  {
   "cell_type": "code",
   "execution_count": 32,
   "id": "f8d6f28f-1789-46d9-8643-5e5e48f1f149",
   "metadata": {},
   "outputs": [],
   "source": [
    "ridge2 = Ridge()"
   ]
  },
  {
   "cell_type": "code",
   "execution_count": 33,
   "id": "a64fb1e2",
   "metadata": {},
   "outputs": [
    {
     "data": {
      "text/html": [
       "<style>#sk-container-id-4 {color: black;background-color: white;}#sk-container-id-4 pre{padding: 0;}#sk-container-id-4 div.sk-toggleable {background-color: white;}#sk-container-id-4 label.sk-toggleable__label {cursor: pointer;display: block;width: 100%;margin-bottom: 0;padding: 0.3em;box-sizing: border-box;text-align: center;}#sk-container-id-4 label.sk-toggleable__label-arrow:before {content: \"▸\";float: left;margin-right: 0.25em;color: #696969;}#sk-container-id-4 label.sk-toggleable__label-arrow:hover:before {color: black;}#sk-container-id-4 div.sk-estimator:hover label.sk-toggleable__label-arrow:before {color: black;}#sk-container-id-4 div.sk-toggleable__content {max-height: 0;max-width: 0;overflow: hidden;text-align: left;background-color: #f0f8ff;}#sk-container-id-4 div.sk-toggleable__content pre {margin: 0.2em;color: black;border-radius: 0.25em;background-color: #f0f8ff;}#sk-container-id-4 input.sk-toggleable__control:checked~div.sk-toggleable__content {max-height: 200px;max-width: 100%;overflow: auto;}#sk-container-id-4 input.sk-toggleable__control:checked~label.sk-toggleable__label-arrow:before {content: \"▾\";}#sk-container-id-4 div.sk-estimator input.sk-toggleable__control:checked~label.sk-toggleable__label {background-color: #d4ebff;}#sk-container-id-4 div.sk-label input.sk-toggleable__control:checked~label.sk-toggleable__label {background-color: #d4ebff;}#sk-container-id-4 input.sk-hidden--visually {border: 0;clip: rect(1px 1px 1px 1px);clip: rect(1px, 1px, 1px, 1px);height: 1px;margin: -1px;overflow: hidden;padding: 0;position: absolute;width: 1px;}#sk-container-id-4 div.sk-estimator {font-family: monospace;background-color: #f0f8ff;border: 1px dotted black;border-radius: 0.25em;box-sizing: border-box;margin-bottom: 0.5em;}#sk-container-id-4 div.sk-estimator:hover {background-color: #d4ebff;}#sk-container-id-4 div.sk-parallel-item::after {content: \"\";width: 100%;border-bottom: 1px solid gray;flex-grow: 1;}#sk-container-id-4 div.sk-label:hover label.sk-toggleable__label {background-color: #d4ebff;}#sk-container-id-4 div.sk-serial::before {content: \"\";position: absolute;border-left: 1px solid gray;box-sizing: border-box;top: 0;bottom: 0;left: 50%;z-index: 0;}#sk-container-id-4 div.sk-serial {display: flex;flex-direction: column;align-items: center;background-color: white;padding-right: 0.2em;padding-left: 0.2em;position: relative;}#sk-container-id-4 div.sk-item {position: relative;z-index: 1;}#sk-container-id-4 div.sk-parallel {display: flex;align-items: stretch;justify-content: center;background-color: white;position: relative;}#sk-container-id-4 div.sk-item::before, #sk-container-id-4 div.sk-parallel-item::before {content: \"\";position: absolute;border-left: 1px solid gray;box-sizing: border-box;top: 0;bottom: 0;left: 50%;z-index: -1;}#sk-container-id-4 div.sk-parallel-item {display: flex;flex-direction: column;z-index: 1;position: relative;background-color: white;}#sk-container-id-4 div.sk-parallel-item:first-child::after {align-self: flex-end;width: 50%;}#sk-container-id-4 div.sk-parallel-item:last-child::after {align-self: flex-start;width: 50%;}#sk-container-id-4 div.sk-parallel-item:only-child::after {width: 0;}#sk-container-id-4 div.sk-dashed-wrapped {border: 1px dashed gray;margin: 0 0.4em 0.5em 0.4em;box-sizing: border-box;padding-bottom: 0.4em;background-color: white;}#sk-container-id-4 div.sk-label label {font-family: monospace;font-weight: bold;display: inline-block;line-height: 1.2em;}#sk-container-id-4 div.sk-label-container {text-align: center;}#sk-container-id-4 div.sk-container {/* jupyter's `normalize.less` sets `[hidden] { display: none; }` but bootstrap.min.css set `[hidden] { display: none !important; }` so we also need the `!important` here to be able to override the default hidden behavior on the sphinx rendered scikit-learn.org. See: https://github.com/scikit-learn/scikit-learn/issues/21755 */display: inline-block !important;position: relative;}#sk-container-id-4 div.sk-text-repr-fallback {display: none;}</style><div id=\"sk-container-id-4\" class=\"sk-top-container\"><div class=\"sk-text-repr-fallback\"><pre>Ridge()</pre><b>In a Jupyter environment, please rerun this cell to show the HTML representation or trust the notebook. <br />On GitHub, the HTML representation is unable to render, please try loading this page with nbviewer.org.</b></div><div class=\"sk-container\" hidden><div class=\"sk-item\"><div class=\"sk-estimator sk-toggleable\"><input class=\"sk-toggleable__control sk-hidden--visually\" id=\"sk-estimator-id-4\" type=\"checkbox\" checked><label for=\"sk-estimator-id-4\" class=\"sk-toggleable__label sk-toggleable__label-arrow\">Ridge</label><div class=\"sk-toggleable__content\"><pre>Ridge()</pre></div></div></div></div></div>"
      ],
      "text/plain": [
       "Ridge()"
      ]
     },
     "execution_count": 33,
     "metadata": {},
     "output_type": "execute_result"
    }
   ],
   "source": [
    "ridge2.fit(X_train_tr2,y_train)"
   ]
  },
  {
   "cell_type": "code",
   "execution_count": 34,
   "id": "e3e999df",
   "metadata": {},
   "outputs": [
    {
     "data": {
      "text/plain": [
       "0.8985796066894425"
      ]
     },
     "execution_count": 34,
     "metadata": {},
     "output_type": "execute_result"
    }
   ],
   "source": [
    "ridge2.score(X_test_tr2,y_test)"
   ]
  },
  {
   "cell_type": "code",
   "execution_count": 35,
   "id": "b4d05eff",
   "metadata": {},
   "outputs": [
    {
     "data": {
      "text/plain": [
       "2342.757370291739"
      ]
     },
     "execution_count": 35,
     "metadata": {},
     "output_type": "execute_result"
    }
   ],
   "source": [
    "y_test_hat = ridge2.predict(X_test_tr2)\n",
    "(mean_squared_error(y_test, y_test_hat))**(1/2)"
   ]
  },
  {
   "cell_type": "markdown",
   "id": "f4f13dc4-b2e0-460a-8de3-561add570bc9",
   "metadata": {},
   "source": [
    "### Preliminary Comparative Performance of 6 Models\n",
    "\n",
    "* I have created a function to build a dataframe of performance metrics of the models\n",
    "* The performance metrics I have chosen for comaprison at this first stage elimination are: score(r2), rmse, mae, and performance time"
   ]
  },
  {
   "cell_type": "code",
   "execution_count": 36,
   "id": "9410fbee-b7c1-42e3-b62a-a18326a45a9b",
   "metadata": {},
   "outputs": [],
   "source": [
    "models = {}"
   ]
  },
  {
   "cell_type": "code",
   "execution_count": 37,
   "id": "efdb7cd5-5d3b-4d31-bb4e-4e37adf2e16a",
   "metadata": {},
   "outputs": [],
   "source": [
    "ols = LinearRegression()\n",
    "models['OLS'] = ols"
   ]
  },
  {
   "cell_type": "code",
   "execution_count": 38,
   "id": "abe45d88-ddda-4551-876e-773bcc78fae8",
   "metadata": {},
   "outputs": [],
   "source": [
    "lasso = Lasso()\n",
    "models['Lasso'] = lasso"
   ]
  },
  {
   "cell_type": "code",
   "execution_count": 39,
   "id": "cc5772a0-4763-468b-b850-b256fcd9ff4a",
   "metadata": {},
   "outputs": [],
   "source": [
    "ridge = Ridge()\n",
    "models['Ridge'] = ridge"
   ]
  },
  {
   "cell_type": "code",
   "execution_count": 40,
   "id": "78be80bd-a99b-4529-8590-ac6bfabdb4d4",
   "metadata": {},
   "outputs": [],
   "source": [
    "sgd = SGDRegressor()\n",
    "models['SGD'] = sgd"
   ]
  },
  {
   "cell_type": "code",
   "execution_count": 41,
   "id": "41737981-668b-4f61-85c6-29dc3a543981",
   "metadata": {},
   "outputs": [],
   "source": [
    "xgb = XGBRegressor()\n",
    "models['XGB'] = xgb"
   ]
  },
  {
   "cell_type": "code",
   "execution_count": 42,
   "id": "7d49bca1-692d-4432-9b1a-ab1eac6457d7",
   "metadata": {},
   "outputs": [],
   "source": [
    "rf = RandomForestRegressor()\n",
    "models['RF'] = rf"
   ]
  },
  {
   "cell_type": "code",
   "execution_count": 43,
   "id": "af9e6d6d-6655-4d28-b3a5-b17c5984fca1",
   "metadata": {},
   "outputs": [],
   "source": [
    "lgbm = LGBMRegressor()\n",
    "models['LGBM'] = lgbm"
   ]
  },
  {
   "cell_type": "code",
   "execution_count": 44,
   "id": "142c3f04-8565-4545-afa1-0aa812c017f8",
   "metadata": {},
   "outputs": [],
   "source": [
    "cb = CatBoostRegressor(verbose=False)\n",
    "models['CatBoost'] = cb"
   ]
  },
  {
   "cell_type": "code",
   "execution_count": 45,
   "id": "706fda77-4f80-48bf-a2f5-b14b8023cfe7",
   "metadata": {
    "scrolled": true
   },
   "outputs": [
    {
     "name": "stdout",
     "output_type": "stream",
     "text": [
      "OLS\n",
      "Lasso\n"
     ]
    },
    {
     "name": "stderr",
     "output_type": "stream",
     "text": [
      "C:\\Users\\arsha\\AppData\\Local\\Temp\\ipykernel_18696\\2448430512.py:21: FutureWarning: The behavior of DataFrame concatenation with empty or all-NA entries is deprecated. In a future version, this will no longer exclude empty or all-NA columns when determining the result dtypes. To retain the old behavior, exclude the relevant entries before the concat operation.\n",
      "  results = pd.concat([results, row], ignore_index=True)\n"
     ]
    },
    {
     "name": "stdout",
     "output_type": "stream",
     "text": [
      "Ridge\n",
      "SGD\n",
      "XGB\n",
      "RF\n",
      "LGBM\n",
      "[LightGBM] [Info] Auto-choosing row-wise multi-threading, the overhead of testing was 0.003465 seconds.\n",
      "You can set `force_row_wise=true` to remove the overhead.\n",
      "And if memory is not enough, you can set `force_col_wise=true`.\n",
      "[LightGBM] [Info] Total Bins 1171\n",
      "[LightGBM] [Info] Number of data points in the train set: 12707, number of used features: 158\n",
      "[LightGBM] [Info] Start training from score 18054.084678\n",
      "CatBoost\n"
     ]
    }
   ],
   "source": [
    "results, models = make_results_table(models,X_train_tr, y_train, X_test_tr, y_test)"
   ]
  },
  {
   "cell_type": "markdown",
   "id": "e19a8ed5",
   "metadata": {},
   "source": [
    "<a id=\"2B\"></a>\n",
    "## Model-Selection\n",
    "\n",
    "* I can easily reject OLS, Ridge, and SGD based on their performance scores.\n",
    "* RF takes way too much time for a modest gain.\n",
    "* For feature selection I will only use XGB, LGBM, catBoost"
   ]
  },
  {
   "cell_type": "code",
   "execution_count": 46,
   "id": "9611abc4",
   "metadata": {},
   "outputs": [
    {
     "data": {
      "text/html": [
       "<div>\n",
       "<style scoped>\n",
       "    .dataframe tbody tr th:only-of-type {\n",
       "        vertical-align: middle;\n",
       "    }\n",
       "\n",
       "    .dataframe tbody tr th {\n",
       "        vertical-align: top;\n",
       "    }\n",
       "\n",
       "    .dataframe thead th {\n",
       "        text-align: right;\n",
       "    }\n",
       "</style>\n",
       "<table border=\"1\" class=\"dataframe\">\n",
       "  <thead>\n",
       "    <tr style=\"text-align: right;\">\n",
       "      <th></th>\n",
       "      <th>model</th>\n",
       "      <th>score(r2)</th>\n",
       "      <th>rmse</th>\n",
       "      <th>mae</th>\n",
       "      <th>time</th>\n",
       "    </tr>\n",
       "  </thead>\n",
       "  <tbody>\n",
       "    <tr>\n",
       "      <th>0</th>\n",
       "      <td>OLS</td>\n",
       "      <td>0.898391</td>\n",
       "      <td>2344</td>\n",
       "      <td>1631</td>\n",
       "      <td>0.090895</td>\n",
       "    </tr>\n",
       "    <tr>\n",
       "      <th>1</th>\n",
       "      <td>Lasso</td>\n",
       "      <td>0.898889</td>\n",
       "      <td>2339</td>\n",
       "      <td>1624</td>\n",
       "      <td>0.326409</td>\n",
       "    </tr>\n",
       "    <tr>\n",
       "      <th>2</th>\n",
       "      <td>Ridge</td>\n",
       "      <td>0.898518</td>\n",
       "      <td>2343</td>\n",
       "      <td>1629</td>\n",
       "      <td>0.029069</td>\n",
       "    </tr>\n",
       "    <tr>\n",
       "      <th>3</th>\n",
       "      <td>SGD</td>\n",
       "      <td>0.896977</td>\n",
       "      <td>2361</td>\n",
       "      <td>1644</td>\n",
       "      <td>0.391787</td>\n",
       "    </tr>\n",
       "    <tr>\n",
       "      <th>4</th>\n",
       "      <td>XGB</td>\n",
       "      <td>0.958760</td>\n",
       "      <td>1493</td>\n",
       "      <td>929</td>\n",
       "      <td>0.385638</td>\n",
       "    </tr>\n",
       "    <tr>\n",
       "      <th>5</th>\n",
       "      <td>RF</td>\n",
       "      <td>0.949296</td>\n",
       "      <td>1656</td>\n",
       "      <td>861</td>\n",
       "      <td>20.237070</td>\n",
       "    </tr>\n",
       "    <tr>\n",
       "      <th>6</th>\n",
       "      <td>LGBM</td>\n",
       "      <td>0.957222</td>\n",
       "      <td>1521</td>\n",
       "      <td>970</td>\n",
       "      <td>0.435594</td>\n",
       "    </tr>\n",
       "    <tr>\n",
       "      <th>7</th>\n",
       "      <td>CatBoost</td>\n",
       "      <td>0.964870</td>\n",
       "      <td>1378</td>\n",
       "      <td>887</td>\n",
       "      <td>6.938346</td>\n",
       "    </tr>\n",
       "  </tbody>\n",
       "</table>\n",
       "</div>"
      ],
      "text/plain": [
       "      model  score(r2)  rmse   mae       time\n",
       "0       OLS   0.898391  2344  1631   0.090895\n",
       "1     Lasso   0.898889  2339  1624   0.326409\n",
       "2     Ridge   0.898518  2343  1629   0.029069\n",
       "3       SGD   0.896977  2361  1644   0.391787\n",
       "4       XGB   0.958760  1493   929   0.385638\n",
       "5        RF   0.949296  1656   861  20.237070\n",
       "6      LGBM   0.957222  1521   970   0.435594\n",
       "7  CatBoost   0.964870  1378   887   6.938346"
      ]
     },
     "execution_count": 46,
     "metadata": {},
     "output_type": "execute_result"
    }
   ],
   "source": [
    "results"
   ]
  },
  {
   "cell_type": "markdown",
   "id": "909892b9-4d42-41aa-ba7d-b93b76119dcd",
   "metadata": {},
   "source": [
    "## Feature Selection\n",
    "\n",
    "* I have trained models stored in the dicionary models.\n",
    "* I will use that to observe the feature importance"
   ]
  },
  {
   "cell_type": "markdown",
   "id": "8ade705d-6236-4277-8e3f-ef71ea9a4878",
   "metadata": {},
   "source": [
    "### XGB"
   ]
  },
  {
   "cell_type": "code",
   "execution_count": 47,
   "id": "abaa84aa-66c8-4adf-94eb-b8f20b5c708a",
   "metadata": {},
   "outputs": [],
   "source": [
    "xgb = models['XGB']"
   ]
  },
  {
   "cell_type": "code",
   "execution_count": 48,
   "id": "f35b1810-440d-432e-9741-538a4f0b7fcf",
   "metadata": {
    "scrolled": true
   },
   "outputs": [
    {
     "data": {
      "text/plain": [
       "<Axes: >"
      ]
     },
     "execution_count": 48,
     "metadata": {},
     "output_type": "execute_result"
    },
    {
     "data": {
      "image/png": "[encoded data removed]",
      "text/plain": [
       "<Figure size 1500x500 with 1 Axes>"
      ]
     },
     "metadata": {},
     "output_type": "display_data"
    }
   ],
   "source": [
    "feature_importance = xgb.get_booster().get_score(importance_type='weight')\n",
    "values = list(feature_importance.values())\n",
    "keys = [X_train.columns[int(re.sub('f','',x))] for x in feature_importance.keys()]\n",
    "data = pd.DataFrame(data=values, index=keys, columns=[\"scores\"]).sort_values(by = \"scores\", ascending=True)\n",
    "data.nlargest(10, columns=\"scores\").plot(kind='barh', figsize = (15,5)) ## plot top 15 features"
   ]
  },
  {
   "cell_type": "code",
   "execution_count": 49,
   "id": "5ff5349d-1b0a-47cc-a7e4-9d594760cfee",
   "metadata": {},
   "outputs": [
    {
     "data": {
      "text/plain": [
       "{'co2_emission',\n",
       " 'consumption_comb',\n",
       " 'displacement',\n",
       " 'first_registration_2018',\n",
       " 'first_registration_2019',\n",
       " 'gearing_type_manual',\n",
       " 'hp',\n",
       " 'km',\n",
       " 'warranty_mo',\n",
       " 'weight'}"
      ]
     },
     "execution_count": 49,
     "metadata": {},
     "output_type": "execute_result"
    }
   ],
   "source": [
    "xgb_cols = set(data.nlargest(10, columns=\"scores\").index)\n",
    "xgb_cols"
   ]
  },
  {
   "cell_type": "markdown",
   "id": "7aae564a-fd9a-4a96-9157-31c3b4520151",
   "metadata": {},
   "source": [
    "### LGBM"
   ]
  },
  {
   "cell_type": "code",
   "execution_count": 50,
   "id": "5036afc6-346d-453b-b067-5680b084841d",
   "metadata": {},
   "outputs": [],
   "source": [
    "lgbm = models['LGBM']"
   ]
  },
  {
   "cell_type": "code",
   "execution_count": 51,
   "id": "d699d699-f025-4a29-b901-e75e10d48a8f",
   "metadata": {},
   "outputs": [
    {
     "data": {
      "text/plain": [
       "<Axes: >"
      ]
     },
     "execution_count": 51,
     "metadata": {},
     "output_type": "execute_result"
    },
    {
     "data": {
      "image/png": "[encoded data removed]",
      "text/plain": [
       "<Figure size 1500x500 with 1 Axes>"
      ]
     },
     "metadata": {},
     "output_type": "display_data"
    }
   ],
   "source": [
    "feature_importance = list(lgbm.feature_importances_)\n",
    "values = list(feature_importance)\n",
    "keys = list(X_train.columns)\n",
    "data = pd.DataFrame(data=values, index=keys, columns=[\"scores\"]).sort_values(by = \"scores\", ascending=True)\n",
    "data.nlargest(10, columns=\"scores\").plot(kind='barh', figsize = (15,5)) ## plot top 10 features"
   ]
  },
  {
   "cell_type": "code",
   "execution_count": 52,
   "id": "7b85b360-d51e-4e9d-bc5a-f31d1ae4d2a7",
   "metadata": {},
   "outputs": [
    {
     "data": {
      "text/plain": [
       "{'co2_emission',\n",
       " 'consumption_comb',\n",
       " 'country_version_Netherlands',\n",
       " 'displacement',\n",
       " 'first_registration_2019',\n",
       " 'gearing_type_manual',\n",
       " 'hp',\n",
       " 'km',\n",
       " 'make_model_opel_astra',\n",
       " 'weight'}"
      ]
     },
     "execution_count": 52,
     "metadata": {},
     "output_type": "execute_result"
    }
   ],
   "source": [
    "lgbm_cols = set(data.nlargest(10, columns=\"scores\").index)\n",
    "lgbm_cols"
   ]
  },
  {
   "cell_type": "markdown",
   "id": "68b8c717-4e55-4aea-bf95-e5a54a030d7d",
   "metadata": {},
   "source": [
    "### catBoost"
   ]
  },
  {
   "cell_type": "code",
   "execution_count": 53,
   "id": "92e325bd-dab6-49f5-9989-cd3193d4cff6",
   "metadata": {},
   "outputs": [],
   "source": [
    "cb = models['CatBoost']"
   ]
  },
  {
   "cell_type": "code",
   "execution_count": 54,
   "id": "d8b6236b-b4e4-47d6-a111-85c25b715fd0",
   "metadata": {},
   "outputs": [
    {
     "data": {
      "text/plain": [
       "<Axes: >"
      ]
     },
     "execution_count": 54,
     "metadata": {},
     "output_type": "execute_result"
    },
    {
     "data": {
      "image/png": "[encoded data removed]",
      "text/plain": [
       "<Figure size 1500x500 with 1 Axes>"
      ]
     },
     "metadata": {},
     "output_type": "display_data"
    }
   ],
   "source": [
    "feature_importance = list(cb.feature_importances_)\n",
    "values = list(feature_importance)\n",
    "keys = list(X_train.columns)\n",
    "data = pd.DataFrame(data=values, index=keys, columns=[\"scores\"]).sort_values(by = \"scores\", ascending=True)\n",
    "data.nlargest(10, columns=\"scores\").plot(kind='barh', figsize = (15,5)) ## plot top 15 features"
   ]
  },
  {
   "cell_type": "code",
   "execution_count": 55,
   "id": "cbdc447a-adc2-4863-9b1b-5ccc7cffee8b",
   "metadata": {},
   "outputs": [
    {
     "data": {
      "text/plain": [
       "{'co2_emission',\n",
       " 'consumption_comb',\n",
       " 'first_registration_2018',\n",
       " 'first_registration_2019',\n",
       " 'gearing_type_manual',\n",
       " 'hp',\n",
       " 'km',\n",
       " 'make_model_audi_a3',\n",
       " 'make_model_renault_espace',\n",
       " 'weight'}"
      ]
     },
     "execution_count": 55,
     "metadata": {},
     "output_type": "execute_result"
    }
   ],
   "source": [
    "cb_cols = set(data.nlargest(10, columns=\"scores\").index)\n",
    "cb_cols"
   ]
  },
  {
   "cell_type": "code",
   "execution_count": 56,
   "id": "175174d8-c937-455a-adca-9227f0eeb353",
   "metadata": {},
   "outputs": [],
   "source": [
    "good_cols = xgb_cols.union(lgbm_cols).union(cb_cols)"
   ]
  },
  {
   "cell_type": "code",
   "execution_count": 57,
   "id": "3ee4237b-1cdd-4db5-bf3b-c9885fbf98e9",
   "metadata": {},
   "outputs": [],
   "source": [
    "good_cols.add('price')"
   ]
  },
  {
   "cell_type": "code",
   "execution_count": 58,
   "id": "19d463cb-bbe2-4d33-9258-a4ae5adcba9d",
   "metadata": {},
   "outputs": [
    {
     "data": {
      "text/plain": [
       "(15,\n",
       " {'co2_emission',\n",
       "  'consumption_comb',\n",
       "  'country_version_Netherlands',\n",
       "  'displacement',\n",
       "  'first_registration_2018',\n",
       "  'first_registration_2019',\n",
       "  'gearing_type_manual',\n",
       "  'hp',\n",
       "  'km',\n",
       "  'make_model_audi_a3',\n",
       "  'make_model_opel_astra',\n",
       "  'make_model_renault_espace',\n",
       "  'price',\n",
       "  'warranty_mo',\n",
       "  'weight'})"
      ]
     },
     "execution_count": 58,
     "metadata": {},
     "output_type": "execute_result"
    }
   ],
   "source": [
    "len(good_cols), good_cols"
   ]
  },
  {
   "cell_type": "markdown",
   "id": "27d367cb-fddf-4e98-8dab-891a0fa1aa57",
   "metadata": {},
   "source": [
    "## Model Selection Using Selected Features"
   ]
  },
  {
   "cell_type": "code",
   "execution_count": 59,
   "id": "d7eabf9d-1836-4761-8f4e-6d3fff484e27",
   "metadata": {},
   "outputs": [],
   "source": [
    "num_cols = ['km', 'hp', 'displacement', 'weight', 'co2_emission', 'warranty_mo', 'consumption_comb']\n",
    "sel_cols = num_cols.copy()\n",
    "for i in good_cols:\n",
    "    if i not in set(num_cols):\n",
    "        sel_cols.append(i)"
   ]
  },
  {
   "cell_type": "code",
   "execution_count": 60,
   "id": "8ae0c662-546a-4877-a01d-9f4801196e4d",
   "metadata": {},
   "outputs": [
    {
     "data": {
      "text/plain": [
       "['km',\n",
       " 'hp',\n",
       " 'displacement',\n",
       " 'weight',\n",
       " 'co2_emission',\n",
       " 'warranty_mo',\n",
       " 'consumption_comb',\n",
       " 'country_version_Netherlands',\n",
       " 'price',\n",
       " 'make_model_renault_espace',\n",
       " 'make_model_audi_a3',\n",
       " 'gearing_type_manual',\n",
       " 'first_registration_2019',\n",
       " 'first_registration_2018',\n",
       " 'make_model_opel_astra']"
      ]
     },
     "execution_count": 60,
     "metadata": {},
     "output_type": "execute_result"
    }
   ],
   "source": [
    "sel_cols"
   ]
  },
  {
   "cell_type": "code",
   "execution_count": 61,
   "id": "fd4ee2a4-3c87-4ad4-b044-3624208c874c",
   "metadata": {},
   "outputs": [
    {
     "data": {
      "text/plain": [
       "Index(['price', 'km', 'hp', 'displacement', 'weight', 'co2_emission',\n",
       "       'warranty_mo', 'consumption_comb', 'make_model_audi_a3',\n",
       "       'make_model_opel_astra',\n",
       "       ...\n",
       "       'saf_blind_spot_monitor', 'saf_electronic_stability_control',\n",
       "       'saf_night_view_assist', 'saf_emergency_brake_assistant',\n",
       "       'saf_lane_departure_warning_system', 'saf_head_airbag',\n",
       "       'saf_driver-side_airbag', 'saf_led_headlights',\n",
       "       'saf_passenger-side_airbag', 'vat_deductible'],\n",
       "      dtype='object', length=171)"
      ]
     },
     "execution_count": 61,
     "metadata": {},
     "output_type": "execute_result"
    }
   ],
   "source": [
    "df.columns"
   ]
  },
  {
   "cell_type": "code",
   "execution_count": 62,
   "id": "0891dd20-f705-4897-8258-3391d837bc65",
   "metadata": {},
   "outputs": [],
   "source": [
    "df2 = df[sel_cols]"
   ]
  },
  {
   "cell_type": "code",
   "execution_count": 63,
   "id": "43c6d7ca-27ad-441f-a8d0-58e66580c797",
   "metadata": {},
   "outputs": [
    {
     "data": {
      "text/plain": [
       "Index(['km', 'hp', 'displacement', 'weight', 'co2_emission', 'warranty_mo',\n",
       "       'consumption_comb', 'country_version_Netherlands', 'price',\n",
       "       'make_model_renault_espace', 'make_model_audi_a3',\n",
       "       'gearing_type_manual', 'first_registration_2019',\n",
       "       'first_registration_2018', 'make_model_opel_astra'],\n",
       "      dtype='object')"
      ]
     },
     "execution_count": 63,
     "metadata": {},
     "output_type": "execute_result"
    }
   ],
   "source": [
    "df2.columns"
   ]
  },
  {
   "cell_type": "markdown",
   "id": "d57992b2-52f1-4e29-9782-344aa82a6e6f",
   "metadata": {},
   "source": [
    "## Cross Validation (10 reps) and Final Model Selection"
   ]
  },
  {
   "cell_type": "code",
   "execution_count": 64,
   "id": "eb28c006-681c-4793-9c18-be4161b4948f",
   "metadata": {},
   "outputs": [],
   "source": [
    "models = {}\n",
    "xgb = XGBRegressor()\n",
    "models['XGB'] = xgb\n",
    "lgbm = LGBMRegressor()\n",
    "models['LGBM'] = lgbm\n",
    "cb = CatBoostRegressor(verbose=False)\n",
    "models['CatBoost'] = cb"
   ]
  },
  {
   "cell_type": "code",
   "execution_count": 65,
   "id": "99c8fcac-9432-48e9-8a07-911bbdcccf34",
   "metadata": {},
   "outputs": [
    {
     "name": "stdout",
     "output_type": "stream",
     "text": [
      "XGB\n"
     ]
    },
    {
     "name": "stderr",
     "output_type": "stream",
     "text": [
      "C:\\Users\\arsha\\AppData\\Local\\Temp\\ipykernel_18696\\2981609376.py:32: FutureWarning: The behavior of DataFrame concatenation with empty or all-NA entries is deprecated. In a future version, this will no longer exclude empty or all-NA columns when determining the result dtypes. To retain the old behavior, exclude the relevant entries before the concat operation.\n",
      "  results = pd.concat([results, row], ignore_index=True)\n"
     ]
    },
    {
     "name": "stdout",
     "output_type": "stream",
     "text": [
      "LGBM\n",
      "[LightGBM] [Info] Auto-choosing col-wise multi-threading, the overhead of testing was 0.000683 seconds.\n",
      "You can set `force_col_wise=true` to remove the overhead.\n",
      "[LightGBM] [Info] Total Bins 877\n",
      "[LightGBM] [Info] Number of data points in the train set: 12707, number of used features: 14\n",
      "[LightGBM] [Info] Start training from score 18036.075155\n",
      "CatBoost\n",
      "XGB\n",
      "LGBM\n",
      "[LightGBM] [Info] Auto-choosing col-wise multi-threading, the overhead of testing was 0.000850 seconds.\n",
      "You can set `force_col_wise=true` to remove the overhead.\n",
      "[LightGBM] [Info] Total Bins 878\n",
      "[LightGBM] [Info] Number of data points in the train set: 12707, number of used features: 14\n",
      "[LightGBM] [Info] Start training from score 17985.760290\n",
      "CatBoost\n",
      "XGB\n",
      "LGBM\n",
      "[LightGBM] [Info] Auto-choosing col-wise multi-threading, the overhead of testing was 0.000728 seconds.\n",
      "You can set `force_col_wise=true` to remove the overhead.\n",
      "[LightGBM] [Info] Total Bins 887\n",
      "[LightGBM] [Info] Number of data points in the train set: 12707, number of used features: 14\n",
      "[LightGBM] [Info] Start training from score 18011.051389\n",
      "CatBoost\n",
      "XGB\n",
      "LGBM\n",
      "[LightGBM] [Info] Auto-choosing col-wise multi-threading, the overhead of testing was 0.000744 seconds.\n",
      "You can set `force_col_wise=true` to remove the overhead.\n",
      "[LightGBM] [Info] Total Bins 883\n",
      "[LightGBM] [Info] Number of data points in the train set: 12707, number of used features: 14\n",
      "[LightGBM] [Info] Start training from score 18047.440466\n",
      "CatBoost\n",
      "XGB\n",
      "LGBM\n",
      "[LightGBM] [Info] Auto-choosing col-wise multi-threading, the overhead of testing was 0.000933 seconds.\n",
      "You can set `force_col_wise=true` to remove the overhead.\n",
      "[LightGBM] [Info] Total Bins 888\n",
      "[LightGBM] [Info] Number of data points in the train set: 12707, number of used features: 14\n",
      "[LightGBM] [Info] Start training from score 18025.470607\n",
      "CatBoost\n",
      "XGB\n",
      "LGBM\n",
      "[LightGBM] [Info] Auto-choosing col-wise multi-threading, the overhead of testing was 0.000642 seconds.\n",
      "You can set `force_col_wise=true` to remove the overhead.\n",
      "[LightGBM] [Info] Total Bins 879\n",
      "[LightGBM] [Info] Number of data points in the train set: 12707, number of used features: 14\n",
      "[LightGBM] [Info] Start training from score 18065.534036\n",
      "CatBoost\n",
      "XGB\n",
      "LGBM\n",
      "[LightGBM] [Info] Auto-choosing col-wise multi-threading, the overhead of testing was 0.001318 seconds.\n",
      "You can set `force_col_wise=true` to remove the overhead.\n",
      "[LightGBM] [Info] Total Bins 881\n",
      "[LightGBM] [Info] Number of data points in the train set: 12707, number of used features: 14\n",
      "[LightGBM] [Info] Start training from score 18019.826552\n",
      "CatBoost\n",
      "XGB\n",
      "LGBM\n",
      "[LightGBM] [Info] Auto-choosing col-wise multi-threading, the overhead of testing was 0.000826 seconds.\n",
      "You can set `force_col_wise=true` to remove the overhead.\n",
      "[LightGBM] [Info] Total Bins 881\n",
      "[LightGBM] [Info] Number of data points in the train set: 12707, number of used features: 14\n",
      "[LightGBM] [Info] Start training from score 18008.790430\n",
      "CatBoost\n",
      "XGB\n",
      "LGBM\n",
      "[LightGBM] [Info] Auto-choosing col-wise multi-threading, the overhead of testing was 0.000910 seconds.\n",
      "You can set `force_col_wise=true` to remove the overhead.\n",
      "[LightGBM] [Info] Total Bins 885\n",
      "[LightGBM] [Info] Number of data points in the train set: 12707, number of used features: 14\n",
      "[LightGBM] [Info] Start training from score 18067.541906\n",
      "CatBoost\n",
      "XGB\n",
      "LGBM\n",
      "[LightGBM] [Info] Auto-choosing col-wise multi-threading, the overhead of testing was 0.001093 seconds.\n",
      "You can set `force_col_wise=true` to remove the overhead.\n",
      "[LightGBM] [Info] Total Bins 891\n",
      "[LightGBM] [Info] Number of data points in the train set: 12707, number of used features: 14\n",
      "[LightGBM] [Info] Start training from score 18025.269773\n",
      "CatBoost\n"
     ]
    }
   ],
   "source": [
    "meta, models, colnames = make_results_table_with_cv(models,df2)"
   ]
  },
  {
   "cell_type": "code",
   "execution_count": 66,
   "id": "01e86a9b-2873-46be-8165-17beb91412f1",
   "metadata": {},
   "outputs": [
    {
     "data": {
      "text/html": [
       "<div>\n",
       "<style scoped>\n",
       "    .dataframe tbody tr th:only-of-type {\n",
       "        vertical-align: middle;\n",
       "    }\n",
       "\n",
       "    .dataframe tbody tr th {\n",
       "        vertical-align: top;\n",
       "    }\n",
       "\n",
       "    .dataframe thead th {\n",
       "        text-align: right;\n",
       "    }\n",
       "</style>\n",
       "<table border=\"1\" class=\"dataframe\">\n",
       "  <thead>\n",
       "    <tr style=\"text-align: right;\">\n",
       "      <th></th>\n",
       "      <th>model</th>\n",
       "      <th>score(r2)_mean</th>\n",
       "      <th>score(r2)_sd</th>\n",
       "      <th>rmse_mean</th>\n",
       "      <th>rmse_sd</th>\n",
       "      <th>mae_mean</th>\n",
       "      <th>mae_sd</th>\n",
       "      <th>time_mean</th>\n",
       "      <th>time_sd</th>\n",
       "    </tr>\n",
       "  </thead>\n",
       "  <tbody>\n",
       "    <tr>\n",
       "      <th>0</th>\n",
       "      <td>XGB</td>\n",
       "      <td>0.940318</td>\n",
       "      <td>0.009158</td>\n",
       "      <td>1806.9</td>\n",
       "      <td>139.222484</td>\n",
       "      <td>1124.8</td>\n",
       "      <td>62.957128</td>\n",
       "      <td>0.20635</td>\n",
       "      <td>0.075959</td>\n",
       "    </tr>\n",
       "    <tr>\n",
       "      <th>1</th>\n",
       "      <td>LGBM</td>\n",
       "      <td>0.934285</td>\n",
       "      <td>0.013541</td>\n",
       "      <td>1895.6</td>\n",
       "      <td>180.522575</td>\n",
       "      <td>1198.1</td>\n",
       "      <td>61.342481</td>\n",
       "      <td>0.166976</td>\n",
       "      <td>0.046735</td>\n",
       "    </tr>\n",
       "    <tr>\n",
       "      <th>2</th>\n",
       "      <td>CatBoost</td>\n",
       "      <td>0.941669</td>\n",
       "      <td>0.009815</td>\n",
       "      <td>1786.1</td>\n",
       "      <td>149.595789</td>\n",
       "      <td>1132.0</td>\n",
       "      <td>56.480085</td>\n",
       "      <td>4.742544</td>\n",
       "      <td>1.021282</td>\n",
       "    </tr>\n",
       "  </tbody>\n",
       "</table>\n",
       "</div>"
      ],
      "text/plain": [
       "      model score(r2)_mean score(r2)_sd rmse_mean     rmse_sd mae_mean  \\\n",
       "0       XGB       0.940318     0.009158    1806.9  139.222484   1124.8   \n",
       "1      LGBM       0.934285     0.013541    1895.6  180.522575   1198.1   \n",
       "2  CatBoost       0.941669     0.009815    1786.1  149.595789   1132.0   \n",
       "\n",
       "      mae_sd time_mean   time_sd  \n",
       "0  62.957128   0.20635  0.075959  \n",
       "1  61.342481  0.166976  0.046735  \n",
       "2  56.480085  4.742544  1.021282  "
      ]
     },
     "execution_count": 66,
     "metadata": {},
     "output_type": "execute_result"
    }
   ],
   "source": [
    "meta"
   ]
  },
  {
   "cell_type": "markdown",
   "id": "45c3dfc5-ffb4-42ff-9a25-4d20e58cb67e",
   "metadata": {},
   "source": [
    "## Conclusion\n",
    "* XGB is the best model for our purpose. Faster than the other two and more accurate that LGBM\n",
    "* The features I am going to focus on are the following: \n",
    "* * ['co2_emission', 'com_hill_holder', 'com_multi-function_steering_wheel', 'consumption_comb', 'displacement', 'hp', 'km', 'saf_xenon_headlights', 'warranty_mo', 'weight']"
   ]
  },
  {
   "cell_type": "markdown",
   "id": "7e538528",
   "metadata": {},
   "source": [
    "<a href=\"#toc\" class=\"btn btn-primary btn-sm\" role=\"button\" aria-pressed=\"true\" \n",
    "style=\"color:blue; background-color:#dfa8e4\" data-toggle=\"popover\">Content</a>"
   ]
  },
  {
   "cell_type": "markdown",
   "id": "958aa118",
   "metadata": {
    "jp-MarkdownHeadingCollapsed": true
   },
   "source": [
    "<a id=\"3\"></a>\n",
    "## End of Modeling"
   ]
  },
  {
   "cell_type": "markdown",
   "id": "4efbeffc",
   "metadata": {},
   "source": [
    "## Next: [Parameter Selection](05_parameter_selection.ipynb)"
   ]
  }
 ],
 "metadata": {
  "kernelspec": {
   "display_name": "Python 3 (ipykernel)",
   "language": "python",
   "name": "python3"
  },
  "language_info": {
   "codemirror_mode": {
    "name": "ipython",
    "version": 3
   },
   "file_extension": ".py",
   "mimetype": "text/x-python",
   "name": "python",
   "nbconvert_exporter": "python",
   "pygments_lexer": "ipython3",
   "version": "3.10.16"
  }
 },
 "nbformat": 4,
 "nbformat_minor": 5
}
