{
 "cells": [
  {
   "cell_type": "markdown",
   "id": "ef218860",
   "metadata": {},
   "source": [
    "<a id=\"toc\"></a>\n",
    "\n",
    "# <p style=\"background-color: #008080; font-family:newtimeroman; color:#FFF9ED; font-size:175%; text-align:center; border-radius:5px 5px;\">Auto Scout Car Prices Prediction Project: <br> Modeling, Model-Selection, and Feature-Selection </p>\n",
    "\n",
    "## <p style=\"background-color: #008080; font-family:newtimeroman; color:#FFF9ED; font-size:150%; text-align:center; border-radius:10px 10px;\">Content</p>\n",
    "\n",
    "* [INTRODUCTION NOTEBOOK](00_introduction.ipynb)\n",
    "* [IMPORTING LIBRARIES NEEDED IN THIS NOTEBOOK](#1)\n",
    "* [FUNCTIONS](#fn)\n",
    "* [MODELING](#2A)\n",
    "* * I am going to try many models: linear OLS, poly OLS, lasso, ridge, Random Forest, SGDregression, XGB, light GBM, catBoost.\n",
    "* [MODEL-SELECTION](#2B)\n",
    "* * I will drop the worst performing ones.\n",
    "* [FEATURE-SELECTION](#2C)\n",
    "* * I'll keep only about 10 of the features from the current dataset.\n",
    "* [THE END OF MODELING](#3)"
   ]
  },
  {
   "cell_type": "markdown",
   "id": "6442d9dd",
   "metadata": {},
   "source": [
    "<a id=\"1\"></a>\n",
    "\n",
    "## Importing Libraries"
   ]
  },
  {
   "cell_type": "code",
   "execution_count": 1,
   "id": "bd7be0f0",
   "metadata": {},
   "outputs": [
    {
     "ename": "ModuleNotFoundError",
     "evalue": "No module named 'catboost'",
     "output_type": "error",
     "traceback": [
      "\u001b[0;31m---------------------------------------------------------------------------\u001b[0m",
      "\u001b[0;31mModuleNotFoundError\u001b[0m                       Traceback (most recent call last)",
      "Cell \u001b[0;32mIn[1], line 1\u001b[0m\n\u001b[0;32m----> 1\u001b[0m \u001b[38;5;28;01mfrom\u001b[39;00m\u001b[38;5;250m \u001b[39m\u001b[38;5;21;01mcatboost\u001b[39;00m\u001b[38;5;250m \u001b[39m\u001b[38;5;28;01mimport\u001b[39;00m CatBoostRegressor\n\u001b[1;32m      2\u001b[0m \u001b[38;5;28;01mimport\u001b[39;00m\u001b[38;5;250m \u001b[39m\u001b[38;5;21;01mnumpy\u001b[39;00m\u001b[38;5;250m \u001b[39m\u001b[38;5;28;01mas\u001b[39;00m\u001b[38;5;250m \u001b[39m\u001b[38;5;21;01mnp\u001b[39;00m\n\u001b[1;32m      3\u001b[0m \u001b[38;5;28;01mfrom\u001b[39;00m\u001b[38;5;250m \u001b[39m\u001b[38;5;21;01mlightgbm\u001b[39;00m\u001b[38;5;250m \u001b[39m\u001b[38;5;28;01mimport\u001b[39;00m LGBMRegressor, plot_importance\n",
      "\u001b[0;31mModuleNotFoundError\u001b[0m: No module named 'catboost'"
     ]
    }
   ],
   "source": [
    "from catboost import CatBoostRegressor\n",
    "import numpy as np\n",
    "from lightgbm import LGBMRegressor, plot_importance\n",
    "import matplotlib.pyplot as plt\n",
    "import pandas as pd\n",
    "import regex as re\n",
    "from sklearn.compose import ColumnTransformer\n",
    "from sklearn.ensemble import RandomForestRegressor\n",
    "from sklearn.linear_model import LinearRegression, Ridge, Lasso, SGDRegressor\n",
    "from sklearn.metrics import r2_score, mean_squared_error, mean_absolute_error\n",
    "from sklearn.model_selection import train_test_split, cross_val_score\n",
    "from sklearn.pipeline import Pipeline\n",
    "from sklearn.preprocessing import OneHotEncoder, StandardScaler, PolynomialFeatures\n",
    "from time import perf_counter\n",
    "from xgboost import XGBRegressor"
   ]
  },
  {
   "cell_type": "markdown",
   "id": "ba5cea8a",
   "metadata": {},
   "source": [
    "<a id='fn'></a>\n",
    "## Functions"
   ]
  },
  {
   "cell_type": "raw",
   "id": "56d4213c-5cfd-4ac4-b019-f43b9d149eb5",
   "metadata": {},
   "source": [
    "#import make_results_table\n",
    "#from make_results_table import make_results_table"
   ]
  },
  {
   "cell_type": "code",
   "execution_count": null,
   "id": "ed640b34-81de-488c-90a1-146a801efd61",
   "metadata": {},
   "outputs": [],
   "source": [
    "def make_results_table(models,X_train_tr, y_train, X_test_tr, y_test):\n",
    "    '''\n",
    "    input: dict of models(name: model, X_train_tr, y_train, X_test_tr, y_test\n",
    "    output: dataframe of model and their performance scores.\n",
    "    '''\n",
    "    results = pd.DataFrame(columns = ['model','score(r2)', 'rmse', 'mae', 'time'])\n",
    "    for name in models.keys():\n",
    "        print(name)\n",
    "        t0 = perf_counter()\n",
    "        model = models[name]\n",
    "        row = {}\n",
    "        row['model'] = [name]\n",
    "        model.fit(X_train_tr, y_train)\n",
    "        row['score(r2)'] = [model.score(X_test_tr, y_test)]\n",
    "        y_test_hat = model.predict(X_test_tr)\n",
    "        row['rmse'] = [int((mean_squared_error(y_test, y_test_hat))**(1/2))]\n",
    "        row['mae'] = [int(mean_absolute_error(y_test, y_test_hat))]\n",
    "        t1 = perf_counter()\n",
    "        row['time'] = t1 - t0\n",
    "        row = pd.DataFrame(row)\n",
    "        results = pd.concat([results, row], ignore_index=True)\n",
    "        models[name] = model\n",
    "    return results, models"
   ]
  },
  {
   "cell_type": "code",
   "execution_count": null,
   "id": "3c5315d4-da4e-4173-87fb-3122c24463b3",
   "metadata": {},
   "outputs": [],
   "source": [
    "def make_results_table_with_cv(models,df2,rep=10):\n",
    "    '''\n",
    "    input: dict of models(name: model, X_train_tr, y_train, X_test_tr, y_test\n",
    "    output: dataframe of model and their performance scores.\n",
    "    '''\n",
    "    results = pd.DataFrame(columns = ['model','score(r2)', 'rmse', 'mae', 'time'])\n",
    "    for i in range(rep):\n",
    "        X = df2.drop('price',axis=1)\n",
    "        y = df2.price\n",
    "        X_train, X_test, y_train, y_test = train_test_split(X, y, test_size=0.20)\n",
    "        num_transformer = StandardScaler()\n",
    "        preprocessor = ColumnTransformer(\n",
    "                transformers=[\n",
    "                    ('num', num_transformer, num_cols)\n",
    "                ], remainder='passthrough')\n",
    "        X_train_tr = preprocessor.fit_transform(X_train)\n",
    "        X_test_tr = preprocessor.transform(X_test)\n",
    "        for name in models.keys():\n",
    "            print(name)\n",
    "            t0 = perf_counter()\n",
    "            model = models[name]\n",
    "            row = {}\n",
    "            row['model'] = [name]\n",
    "            model.fit(X_train_tr, y_train)\n",
    "            row['score(r2)'] = [model.score(X_test_tr, y_test)]\n",
    "            y_test_hat = model.predict(X_test_tr)\n",
    "            row['rmse'] = [int((mean_squared_error(y_test, y_test_hat))**(1/2))]\n",
    "            row['mae'] = [int(mean_absolute_error(y_test, y_test_hat))]\n",
    "            t1 = perf_counter()\n",
    "            row['time'] = t1 - t0\n",
    "            row = pd.DataFrame(row)\n",
    "            results = pd.concat([results, row], ignore_index=True)\n",
    "            models[name] = model\n",
    "            \n",
    "    meta = pd.DataFrame(columns = ['model', 'score(r2)_mean','score(r2)_sd', 'rmse_mean', 'rmse_sd', 'mae_mean', 'mae_sd','time_mean', 'time_sd'])\n",
    "    meta['model'] = results.model.unique()\n",
    "    for name in meta.model:\n",
    "        for s in [\"score(r2)\", \"rmse\", \"mae\", \"time\"]:\n",
    "            tmean = s+'_mean'\n",
    "            meta.loc[results.model==name,tmean] = results[results.model==name][s].mean()\n",
    "            tsd = s+'_sd'\n",
    "            m = meta.loc[results.model==name,tmean]\n",
    "            sd = sum([(x-m)**2 for x in results[results.model==name][s]])**(1/2)\n",
    "            meta.loc[results.model==name,tsd] = sd\n",
    "    colnames = list(X_train.columns)\n",
    "    return meta, models, colnames"
   ]
  },
  {
   "cell_type": "markdown",
   "id": "02eef2fe",
   "metadata": {},
   "source": [
    "<a id=\"2A\"></a>\n",
    "## Modeling"
   ]
  },
  {
   "cell_type": "code",
   "execution_count": null,
   "id": "4091d00a",
   "metadata": {},
   "outputs": [],
   "source": [
    "df = pd.read_json('data_post03.json', lines=True)"
   ]
  },
  {
   "cell_type": "code",
   "execution_count": null,
   "id": "faa90705-d23c-4965-8e59-82f2fcf60662",
   "metadata": {},
   "outputs": [],
   "source": [
    "df.info()"
   ]
  },
  {
   "cell_type": "code",
   "execution_count": null,
   "id": "93783788-a541-4c3e-866a-b3fddb2bc3bc",
   "metadata": {},
   "outputs": [],
   "source": [
    "cat_cols = ['make_model', 'body_type','prev_owner','type', 'body_color',\n",
    "           'paint_type', 'nr_doors', 'nr_seats', 'gearing_type', 'drive_chain', 'fuel', \n",
    "            'country_version', 'upholstery_material', 'upholstery_color', 'emission_class', 'gears', 'cylinders']\n",
    "df = df.drop(cat_cols, axis=1)"
   ]
  },
  {
   "cell_type": "code",
   "execution_count": null,
   "id": "9af1e622-827a-4f45-9b4a-985ba903a303",
   "metadata": {},
   "outputs": [],
   "source": [
    "vat = df['vat_deductible']"
   ]
  },
  {
   "cell_type": "code",
   "execution_count": null,
   "id": "95510592-7ecb-4b6a-9a9b-854c31f53f7b",
   "metadata": {},
   "outputs": [],
   "source": [
    "df = df.drop(['consumption_city','consumption_country','vat_deductible'], axis=1)"
   ]
  },
  {
   "cell_type": "code",
   "execution_count": null,
   "id": "25c09079-0f40-449e-af2d-d6e3b4d2d560",
   "metadata": {},
   "outputs": [],
   "source": [
    "df['vat_deductible'] = vat"
   ]
  },
  {
   "cell_type": "code",
   "execution_count": null,
   "id": "7a357dcc-b0e3-4e06-b898-44875254fda0",
   "metadata": {},
   "outputs": [],
   "source": [
    "df.columns[:15]"
   ]
  },
  {
   "cell_type": "code",
   "execution_count": null,
   "id": "195bfd18-eb11-4a62-a628-68dbc950db3e",
   "metadata": {},
   "outputs": [],
   "source": [
    "num_cols = ['km', 'age', 'hp', 'displacement', 'weight', 'co2_emission',\n",
    "       'warranty_mo', 'consumption_comb']"
   ]
  },
  {
   "cell_type": "markdown",
   "id": "34337564",
   "metadata": {},
   "source": [
    "### Linear without polynomial features\n",
    "#### preliminary work - train and test split"
   ]
  },
  {
   "cell_type": "code",
   "execution_count": null,
   "id": "0a856b7a",
   "metadata": {},
   "outputs": [],
   "source": [
    "X = df.drop('price',axis=1)\n",
    "y = df.price"
   ]
  },
  {
   "cell_type": "code",
   "execution_count": null,
   "id": "0e680f20",
   "metadata": {},
   "outputs": [],
   "source": [
    "X_train, X_test, y_train, y_test = train_test_split(X, y, test_size=0.20, random_state=42)"
   ]
  },
  {
   "cell_type": "code",
   "execution_count": null,
   "id": "50b6a2c2",
   "metadata": {},
   "outputs": [],
   "source": [
    "num_transformer = StandardScaler()"
   ]
  },
  {
   "cell_type": "code",
   "execution_count": null,
   "id": "a8b68d7a",
   "metadata": {},
   "outputs": [],
   "source": [
    "preprocessor = ColumnTransformer(\n",
    "    transformers=[\n",
    "        ('num', num_transformer, num_cols)\n",
    "    ], remainder='passthrough')"
   ]
  },
  {
   "cell_type": "code",
   "execution_count": null,
   "id": "7ba77427",
   "metadata": {},
   "outputs": [],
   "source": [
    "X_train_tr = preprocessor.fit_transform(X_train)"
   ]
  },
  {
   "cell_type": "code",
   "execution_count": null,
   "id": "90a51069",
   "metadata": {},
   "outputs": [],
   "source": [
    "X_test_tr = preprocessor.transform(X_test)"
   ]
  },
  {
   "cell_type": "markdown",
   "id": "3c1a231a",
   "metadata": {},
   "source": [
    "#### Linear OLS"
   ]
  },
  {
   "cell_type": "code",
   "execution_count": null,
   "id": "633c6064",
   "metadata": {},
   "outputs": [],
   "source": [
    "ols = LinearRegression()"
   ]
  },
  {
   "cell_type": "code",
   "execution_count": null,
   "id": "fed29753",
   "metadata": {},
   "outputs": [],
   "source": [
    "ols.fit(X_train_tr, y_train)"
   ]
  },
  {
   "cell_type": "code",
   "execution_count": null,
   "id": "d86b19ae",
   "metadata": {},
   "outputs": [],
   "source": [
    "ols.score(X_test_tr, y_test)"
   ]
  },
  {
   "cell_type": "code",
   "execution_count": null,
   "id": "f0cfc725",
   "metadata": {},
   "outputs": [],
   "source": [
    "y_test_hat = ols.predict(X_test_tr)\n",
    "(mean_squared_error(y_test, y_test_hat))**(1/2)"
   ]
  },
  {
   "cell_type": "markdown",
   "id": "a4f37cce",
   "metadata": {},
   "source": [
    "#### Linear Ridge"
   ]
  },
  {
   "cell_type": "code",
   "execution_count": null,
   "id": "fe2f4813",
   "metadata": {},
   "outputs": [],
   "source": [
    "ridge = Ridge()"
   ]
  },
  {
   "cell_type": "code",
   "execution_count": null,
   "id": "2c7d3f3a",
   "metadata": {},
   "outputs": [],
   "source": [
    "ridge.fit(X_train_tr,y_train)"
   ]
  },
  {
   "cell_type": "code",
   "execution_count": null,
   "id": "e8b136d2",
   "metadata": {},
   "outputs": [],
   "source": [
    "ridge.score(X_test_tr,y_test)"
   ]
  },
  {
   "cell_type": "code",
   "execution_count": null,
   "id": "7d872f98",
   "metadata": {},
   "outputs": [],
   "source": [
    "y_test_hat = ridge.predict(X_test_tr)\n",
    "(mean_squared_error(y_test, y_test_hat))**(1/2)"
   ]
  },
  {
   "cell_type": "markdown",
   "id": "2d390e3e",
   "metadata": {},
   "source": [
    "### Adding polynomial features\n",
    "* polynomial (deg 2) has no observable effect on scores for OLS or Ridge"
   ]
  },
  {
   "cell_type": "code",
   "execution_count": null,
   "id": "fd807fd4",
   "metadata": {},
   "outputs": [],
   "source": [
    "poly = PolynomialFeatures(degree=2)"
   ]
  },
  {
   "cell_type": "code",
   "execution_count": null,
   "id": "a1a65216",
   "metadata": {},
   "outputs": [],
   "source": [
    "preprocessor2 = ColumnTransformer(\n",
    "    transformers=[\n",
    "        ('poly', poly, ['warranty_mo']),\n",
    "        ('num', num_transformer, num_cols)\n",
    "    ], remainder='passthrough')\n",
    "\n",
    "# for poly, I also ried 'hp', 'km', 'consumption_comb', etc, \n",
    "# for which the objective functions does not converge"
   ]
  },
  {
   "cell_type": "code",
   "execution_count": null,
   "id": "7b47bd4b",
   "metadata": {},
   "outputs": [],
   "source": [
    "X_train_tr2 = preprocessor2.fit_transform(X_train)\n",
    "X_test_tr2 = preprocessor2.transform(X_test)"
   ]
  },
  {
   "cell_type": "markdown",
   "id": "6195d7c0",
   "metadata": {},
   "source": [
    "#### Poly OLS"
   ]
  },
  {
   "cell_type": "code",
   "execution_count": null,
   "id": "593f143b",
   "metadata": {},
   "outputs": [],
   "source": [
    "ols2 = LinearRegression()"
   ]
  },
  {
   "cell_type": "code",
   "execution_count": null,
   "id": "892aebc8",
   "metadata": {},
   "outputs": [],
   "source": [
    "ols2.fit(X_train_tr2, y_train)"
   ]
  },
  {
   "cell_type": "code",
   "execution_count": null,
   "id": "d35d2bfa",
   "metadata": {},
   "outputs": [],
   "source": [
    "ols2.score(X_test_tr2, y_test)"
   ]
  },
  {
   "cell_type": "code",
   "execution_count": null,
   "id": "789f0fdc",
   "metadata": {},
   "outputs": [],
   "source": [
    "y_test_hat = ols2.predict(X_test_tr2)\n",
    "(mean_squared_error(y_test, y_test_hat))**(1/2)"
   ]
  },
  {
   "cell_type": "markdown",
   "id": "74cc3257",
   "metadata": {},
   "source": [
    "#### Poly Ridge"
   ]
  },
  {
   "cell_type": "code",
   "execution_count": null,
   "id": "f8d6f28f-1789-46d9-8643-5e5e48f1f149",
   "metadata": {},
   "outputs": [],
   "source": [
    "ridge2 = Ridge()"
   ]
  },
  {
   "cell_type": "code",
   "execution_count": null,
   "id": "a64fb1e2",
   "metadata": {},
   "outputs": [],
   "source": [
    "ridge2.fit(X_train_tr2,y_train)"
   ]
  },
  {
   "cell_type": "code",
   "execution_count": null,
   "id": "e3e999df",
   "metadata": {},
   "outputs": [],
   "source": [
    "ridge2.score(X_test_tr2,y_test)"
   ]
  },
  {
   "cell_type": "code",
   "execution_count": null,
   "id": "b4d05eff",
   "metadata": {},
   "outputs": [],
   "source": [
    "y_test_hat = ridge2.predict(X_test_tr2)\n",
    "(mean_squared_error(y_test, y_test_hat))**(1/2)"
   ]
  },
  {
   "cell_type": "markdown",
   "id": "f4f13dc4-b2e0-460a-8de3-561add570bc9",
   "metadata": {},
   "source": [
    "### Preliminary Comparative Performance of 6 Models\n",
    "\n",
    "* I have created a function to build a dataframe of performance metrics of the models\n",
    "* The performance metrics I have chosen for comaprison at this first stage elimination are: score(r2), rmse, mae, and performance time"
   ]
  },
  {
   "cell_type": "code",
   "execution_count": null,
   "id": "9410fbee-b7c1-42e3-b62a-a18326a45a9b",
   "metadata": {},
   "outputs": [],
   "source": [
    "models = {}"
   ]
  },
  {
   "cell_type": "code",
   "execution_count": null,
   "id": "efdb7cd5-5d3b-4d31-bb4e-4e37adf2e16a",
   "metadata": {},
   "outputs": [],
   "source": [
    "ols = LinearRegression()\n",
    "models['OLS'] = ols"
   ]
  },
  {
   "cell_type": "code",
   "execution_count": null,
   "id": "abe45d88-ddda-4551-876e-773bcc78fae8",
   "metadata": {},
   "outputs": [],
   "source": [
    "lasso = Lasso()\n",
    "models['Lasso'] = lasso"
   ]
  },
  {
   "cell_type": "code",
   "execution_count": null,
   "id": "cc5772a0-4763-468b-b850-b256fcd9ff4a",
   "metadata": {},
   "outputs": [],
   "source": [
    "ridge = Ridge()\n",
    "models['Ridge'] = ridge"
   ]
  },
  {
   "cell_type": "code",
   "execution_count": null,
   "id": "78be80bd-a99b-4529-8590-ac6bfabdb4d4",
   "metadata": {},
   "outputs": [],
   "source": [
    "sgd = SGDRegressor()\n",
    "models['SGD'] = sgd"
   ]
  },
  {
   "cell_type": "code",
   "execution_count": null,
   "id": "41737981-668b-4f61-85c6-29dc3a543981",
   "metadata": {},
   "outputs": [],
   "source": [
    "xgb = XGBRegressor()\n",
    "models['XGB'] = xgb"
   ]
  },
  {
   "cell_type": "code",
   "execution_count": null,
   "id": "7d49bca1-692d-4432-9b1a-ab1eac6457d7",
   "metadata": {},
   "outputs": [],
   "source": [
    "rf = RandomForestRegressor()\n",
    "models['RF'] = rf"
   ]
  },
  {
   "cell_type": "code",
   "execution_count": null,
   "id": "af9e6d6d-6655-4d28-b3a5-b17c5984fca1",
   "metadata": {},
   "outputs": [],
   "source": [
    "lgbm = LGBMRegressor()\n",
    "models['LGBM'] = lgbm"
   ]
  },
  {
   "cell_type": "code",
   "execution_count": null,
   "id": "142c3f04-8565-4545-afa1-0aa812c017f8",
   "metadata": {},
   "outputs": [],
   "source": [
    "cb = CatBoostRegressor(verbose=False)\n",
    "models['CatBoost'] = cb"
   ]
  },
  {
   "cell_type": "code",
   "execution_count": null,
   "id": "706fda77-4f80-48bf-a2f5-b14b8023cfe7",
   "metadata": {
    "scrolled": true
   },
   "outputs": [],
   "source": [
    "results, models = make_results_table(models,X_train_tr, y_train, X_test_tr, y_test)"
   ]
  },
  {
   "cell_type": "markdown",
   "id": "e19a8ed5",
   "metadata": {},
   "source": [
    "<a id=\"2B\"></a>\n",
    "## Model-Selection\n",
    "\n",
    "* I can easily reject OLS, Ridge, and SGD based on their performance scores.\n",
    "* RF takes way too much time for a modest gain.\n",
    "* For feature selection I will only use XGB, LGBM, catBoost"
   ]
  },
  {
   "cell_type": "code",
   "execution_count": null,
   "id": "9611abc4",
   "metadata": {},
   "outputs": [],
   "source": [
    "results"
   ]
  },
  {
   "cell_type": "markdown",
   "id": "909892b9-4d42-41aa-ba7d-b93b76119dcd",
   "metadata": {},
   "source": [
    "## Feature Selection\n",
    "\n",
    "* I have trained models stored in the dicionary models.\n",
    "* I will use that to observe the feature importance"
   ]
  },
  {
   "cell_type": "markdown",
   "id": "8ade705d-6236-4277-8e3f-ef71ea9a4878",
   "metadata": {},
   "source": [
    "### XGB"
   ]
  },
  {
   "cell_type": "code",
   "execution_count": null,
   "id": "abaa84aa-66c8-4adf-94eb-b8f20b5c708a",
   "metadata": {},
   "outputs": [],
   "source": [
    "xgb = models['XGB']"
   ]
  },
  {
   "cell_type": "code",
   "execution_count": null,
   "id": "f35b1810-440d-432e-9741-538a4f0b7fcf",
   "metadata": {
    "scrolled": true
   },
   "outputs": [],
   "source": [
    "feature_importance = xgb.get_booster().get_score(importance_type='weight')\n",
    "values = list(feature_importance.values())\n",
    "keys = [X_train.columns[int(re.sub('f','',x))] for x in feature_importance.keys()]\n",
    "data = pd.DataFrame(data=values, index=keys, columns=[\"scores\"]).sort_values(by = \"scores\", ascending=True)\n",
    "data.nlargest(10, columns=\"scores\").plot(kind='barh', figsize = (15,5)) ## plot top 15 features"
   ]
  },
  {
   "cell_type": "code",
   "execution_count": null,
   "id": "5ff5349d-1b0a-47cc-a7e4-9d594760cfee",
   "metadata": {},
   "outputs": [],
   "source": [
    "xgb_cols = set(data.nlargest(10, columns=\"scores\").index)\n",
    "xgb_cols"
   ]
  },
  {
   "cell_type": "markdown",
   "id": "7aae564a-fd9a-4a96-9157-31c3b4520151",
   "metadata": {},
   "source": [
    "### LGBM"
   ]
  },
  {
   "cell_type": "code",
   "execution_count": null,
   "id": "5036afc6-346d-453b-b067-5680b084841d",
   "metadata": {},
   "outputs": [],
   "source": [
    "lgbm = models['LGBM']"
   ]
  },
  {
   "cell_type": "code",
   "execution_count": null,
   "id": "d699d699-f025-4a29-b901-e75e10d48a8f",
   "metadata": {},
   "outputs": [],
   "source": [
    "feature_importance = list(lgbm.feature_importances_)\n",
    "values = list(feature_importance)\n",
    "keys = list(X_train.columns)\n",
    "data = pd.DataFrame(data=values, index=keys, columns=[\"scores\"]).sort_values(by = \"scores\", ascending=True)\n",
    "data.nlargest(10, columns=\"scores\").plot(kind='barh', figsize = (15,5)) ## plot top 10 features"
   ]
  },
  {
   "cell_type": "code",
   "execution_count": null,
   "id": "7b85b360-d51e-4e9d-bc5a-f31d1ae4d2a7",
   "metadata": {},
   "outputs": [],
   "source": [
    "lgbm_cols = set(data.nlargest(10, columns=\"scores\").index)\n",
    "lgbm_cols"
   ]
  },
  {
   "cell_type": "markdown",
   "id": "68b8c717-4e55-4aea-bf95-e5a54a030d7d",
   "metadata": {},
   "source": [
    "### catBoost"
   ]
  },
  {
   "cell_type": "code",
   "execution_count": null,
   "id": "92e325bd-dab6-49f5-9989-cd3193d4cff6",
   "metadata": {},
   "outputs": [],
   "source": [
    "cb = models['CatBoost']"
   ]
  },
  {
   "cell_type": "code",
   "execution_count": null,
   "id": "d8b6236b-b4e4-47d6-a111-85c25b715fd0",
   "metadata": {},
   "outputs": [],
   "source": [
    "feature_importance = list(cb.feature_importances_)\n",
    "values = list(feature_importance)\n",
    "keys = list(X_train.columns)\n",
    "data = pd.DataFrame(data=values, index=keys, columns=[\"scores\"]).sort_values(by = \"scores\", ascending=True)\n",
    "data.nlargest(10, columns=\"scores\").plot(kind='barh', figsize = (15,5)) ## plot top 15 features"
   ]
  },
  {
   "cell_type": "code",
   "execution_count": null,
   "id": "cbdc447a-adc2-4863-9b1b-5ccc7cffee8b",
   "metadata": {},
   "outputs": [],
   "source": [
    "cb_cols = set(data.nlargest(10, columns=\"scores\").index)\n",
    "cb_cols"
   ]
  },
  {
   "cell_type": "code",
   "execution_count": null,
   "id": "175174d8-c937-455a-adca-9227f0eeb353",
   "metadata": {},
   "outputs": [],
   "source": [
    "good_cols = xgb_cols.union(lgbm_cols).union(cb_cols)"
   ]
  },
  {
   "cell_type": "code",
   "execution_count": null,
   "id": "3ee4237b-1cdd-4db5-bf3b-c9885fbf98e9",
   "metadata": {},
   "outputs": [],
   "source": [
    "good_cols.add('price')"
   ]
  },
  {
   "cell_type": "code",
   "execution_count": null,
   "id": "19d463cb-bbe2-4d33-9258-a4ae5adcba9d",
   "metadata": {},
   "outputs": [],
   "source": [
    "len(good_cols), good_cols"
   ]
  },
  {
   "cell_type": "markdown",
   "id": "27d367cb-fddf-4e98-8dab-891a0fa1aa57",
   "metadata": {},
   "source": [
    "## Model Selection Using Selected Features"
   ]
  },
  {
   "cell_type": "code",
   "execution_count": null,
   "id": "d7eabf9d-1836-4761-8f4e-6d3fff484e27",
   "metadata": {},
   "outputs": [],
   "source": [
    "num_cols = ['km', 'hp', 'displacement', 'weight', 'co2_emission', 'warranty_mo', 'consumption_comb']\n",
    "sel_cols = num_cols.copy()\n",
    "for i in good_cols:\n",
    "    if i not in set(num_cols):\n",
    "        sel_cols.append(i)"
   ]
  },
  {
   "cell_type": "code",
   "execution_count": null,
   "id": "8ae0c662-546a-4877-a01d-9f4801196e4d",
   "metadata": {},
   "outputs": [],
   "source": [
    "sel_cols"
   ]
  },
  {
   "cell_type": "code",
   "execution_count": null,
   "id": "fd4ee2a4-3c87-4ad4-b044-3624208c874c",
   "metadata": {},
   "outputs": [],
   "source": [
    "df.columns"
   ]
  },
  {
   "cell_type": "code",
   "execution_count": null,
   "id": "0891dd20-f705-4897-8258-3391d837bc65",
   "metadata": {},
   "outputs": [],
   "source": [
    "df2 = df[sel_cols]"
   ]
  },
  {
   "cell_type": "code",
   "execution_count": null,
   "id": "43c6d7ca-27ad-441f-a8d0-58e66580c797",
   "metadata": {},
   "outputs": [],
   "source": [
    "df2.columns"
   ]
  },
  {
   "cell_type": "markdown",
   "id": "d57992b2-52f1-4e29-9782-344aa82a6e6f",
   "metadata": {},
   "source": [
    "## Cross Validation (10 reps) and Final Model Selection"
   ]
  },
  {
   "cell_type": "code",
   "execution_count": null,
   "id": "eb28c006-681c-4793-9c18-be4161b4948f",
   "metadata": {},
   "outputs": [],
   "source": [
    "models = {}\n",
    "xgb = XGBRegressor()\n",
    "models['XGB'] = xgb\n",
    "lgbm = LGBMRegressor()\n",
    "models['LGBM'] = lgbm\n",
    "cb = CatBoostRegressor(verbose=False)\n",
    "models['CatBoost'] = cb"
   ]
  },
  {
   "cell_type": "code",
   "execution_count": null,
   "id": "99c8fcac-9432-48e9-8a07-911bbdcccf34",
   "metadata": {},
   "outputs": [],
   "source": [
    "meta, models, colnames = make_results_table_with_cv(models,df2)"
   ]
  },
  {
   "cell_type": "code",
   "execution_count": null,
   "id": "01e86a9b-2873-46be-8165-17beb91412f1",
   "metadata": {},
   "outputs": [],
   "source": [
    "meta"
   ]
  },
  {
   "cell_type": "markdown",
   "id": "45c3dfc5-ffb4-42ff-9a25-4d20e58cb67e",
   "metadata": {},
   "source": [
    "## Conclusion\n",
    "* XGB is the best model for our purpose. Faster than the other two and more accurate that LGBM\n",
    "* The features I am going to focus on are the following: \n",
    "* * ['co2_emission', 'com_hill_holder', 'com_multi-function_steering_wheel', 'consumption_comb', 'displacement', 'hp', 'km', 'saf_xenon_headlights', 'warranty_mo', 'weight']"
   ]
  },
  {
   "cell_type": "markdown",
   "id": "7e538528",
   "metadata": {},
   "source": [
    "<a href=\"#toc\" class=\"btn btn-primary btn-sm\" role=\"button\" aria-pressed=\"true\" \n",
    "style=\"color:blue; background-color:#dfa8e4\" data-toggle=\"popover\">Content</a>"
   ]
  },
  {
   "cell_type": "markdown",
   "id": "958aa118",
   "metadata": {
    "jp-MarkdownHeadingCollapsed": true
   },
   "source": [
    "<a id=\"3\"></a>\n",
    "## End of Modeling"
   ]
  },
  {
   "cell_type": "markdown",
   "id": "4efbeffc",
   "metadata": {},
   "source": [
    "## Next: [Parameter Selection](05_parameter_selection.ipynb)"
   ]
  }
 ],
 "metadata": {
  "kernelspec": {
   "display_name": "ml",
   "language": "python",
   "name": "ml"
  },
  "language_info": {
   "codemirror_mode": {
    "name": "ipython",
    "version": 3
   },
   "file_extension": ".py",
   "mimetype": "text/x-python",
   "name": "python",
   "nbconvert_exporter": "python",
   "pygments_lexer": "ipython3",
   "version": "3.13.1"
  }
 },
 "nbformat": 4,
 "nbformat_minor": 5
}
