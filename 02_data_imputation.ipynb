{
 "cells": [
  {
   "cell_type": "markdown",
   "id": "1c919439",
   "metadata": {},
   "source": [
    "<a id=\"toc\"></a>\n",
    "\n",
    "# <p style=\"background-color: #008080; font-family:newtimeroman; color:#FFF9ED; font-size:175%; text-align:center; border-radius:5px 5px;\">Auto Scout Car Prices Prediction Project: <br> Data Cleaning</p>\n",
    "\n",
    "## <p style=\"background-color: #008080; font-family:newtimeroman; color:#FFF9ED; font-size:150%; text-align:center; border-radius:10px 10px;\">Content</p>\n",
    "\n",
    "* [INTRODUCTION NOTEBOOK](00_introduction.ipynb)\n",
    "* [IMPORTING LIBRARIES](#1)\n",
    "* [FUNCTIONS FOR DATA IMPUTATION](#fn)\n",
    "* [DATA IMPUTATION COLUMN BY COLUMN](#2)\n",
    "* [THE END OF DATA IMPUTATION](#3)"
   ]
  },
  {
   "cell_type": "markdown",
   "id": "ad06d2ce",
   "metadata": {},
   "source": [
    "<a id=\"1\"></a>\n",
    "\n",
    "## Importing Libraries"
   ]
  },
  {
   "cell_type": "code",
   "execution_count": 1,
   "id": "5b70cdaa",
   "metadata": {},
   "outputs": [],
   "source": [
    "import json\n",
    "import matplotlib.pyplot as plt\n",
    "from itertools import product\n",
    "import numpy as np\n",
    "import os\n",
    "import pandas as pd\n",
    "from random import choices, seed\n",
    "seed = 42\n",
    "import re"
   ]
  },
  {
   "cell_type": "markdown",
   "id": "de41759e",
   "metadata": {},
   "source": [
    "<a id=\"fn\"></a>\n",
    "\n",
    "## Functions for Data Imputation"
   ]
  },
  {
   "cell_type": "code",
   "execution_count": 2,
   "id": "20d6cbab",
   "metadata": {},
   "outputs": [],
   "source": [
    "def fill(df, f_fill, f_use, how):\n",
    "    '''\n",
    "    function takes a dataframe, a feature for which missing values are to be filled, and \n",
    "    a list of features to group by, and a method from the list [median, mode].\n",
    "    \n",
    "    df = dataframe\n",
    "    f_fill = name of feature with missing values to impute\n",
    "    l_f_use = list of features based on which the missing values are to be impute, in order of decreasing importance\n",
    "    '''\n",
    "    \n",
    "    if how == 'mode':\n",
    "        uniq_f_use = df[f_use].unique()\n",
    "        for u in uniq_f_use:\n",
    "            if len(df[df[f_use] == u][f_fill]) > 0:\n",
    "                v = df[df[f_use] == u][f_fill].mode()\n",
    "                if len(v) > 0:\n",
    "                    v = v[0]\n",
    "                else:\n",
    "                    v = float('nan')\n",
    "                    print('empty class')    \n",
    "            else:\n",
    "                v = float('nan')\n",
    "                print('empty class')\n",
    "            df.loc[df[f_use] == u, f_fill] = \\\n",
    "                    df.loc[df[f_use] == u, f_fill].fillna(v)\n",
    "        return df\n",
    "    \n",
    "    if how == 'median':\n",
    "        uniq_f_use = df[f_use].unique()\n",
    "        for u in uniq_f_use:\n",
    "            if len(df[df[f_use] == u][f_fill]) > 0:\n",
    "                v = df[df[f_use] == u][f_fill].median()\n",
    "            else:\n",
    "                v = float('nan')\n",
    "                print('empty class')\n",
    "            df.loc[df[f_use] == u, f_fill] = \\\n",
    "                    df.loc[df[f_use] == u, f_fill].fillna(v)\n",
    "        return df\n",
    "    \n",
    "    if how == 'mean':\n",
    "        uniq_f_use = df[f_use].unique()\n",
    "        for u in uniq_f_use:\n",
    "            if len(df[df[f_use] == u][f_fill]) > 0:\n",
    "                v = df[df[f_use] == u][f_fill].mean()\n",
    "            else:\n",
    "                v = float('nan')\n",
    "                print('empty class')\n",
    "            df.loc[df[f_use] == u, f_fill] = \\\n",
    "                    df.loc[df[f_use] == u, f_fill].fillna(v)\n",
    "        return df"
   ]
  },
  {
   "cell_type": "markdown",
   "id": "981ff766",
   "metadata": {},
   "source": [
    "<a id=\"2\"></a>\n",
    "## Data Imputation Column by Column"
   ]
  },
  {
   "cell_type": "code",
   "execution_count": 3,
   "id": "cee7de89",
   "metadata": {},
   "outputs": [],
   "source": [
    "df = pd.read_json('data_post00.json', lines=True)"
   ]
  },
  {
   "cell_type": "code",
   "execution_count": 4,
   "id": "52408e6e",
   "metadata": {
    "scrolled": true
   },
   "outputs": [
    {
     "name": "stdout",
     "output_type": "stream",
     "text": [
      "<class 'pandas.core.frame.DataFrame'>\n",
      "RangeIndex: 15919 entries, 0 to 15918\n",
      "Data columns (total 34 columns):\n",
      " #   Column               Non-Null Count  Dtype  \n",
      "---  ------               --------------  -----  \n",
      " 0   make_model           15919 non-null  object \n",
      " 1   body_type            15859 non-null  object \n",
      " 2   price                15919 non-null  int64  \n",
      " 3   km                   14895 non-null  float64\n",
      " 4   prev_owner           9091 non-null   float64\n",
      " 5   hp                   15831 non-null  float64\n",
      " 6   type                 15917 non-null  object \n",
      " 7   first_registration   14322 non-null  float64\n",
      " 8   body_color           15322 non-null  object \n",
      " 9   paint_type           10147 non-null  object \n",
      " 10  nr_doors             15707 non-null  float64\n",
      " 11  nr_seats             14942 non-null  float64\n",
      " 12  gearing_type         15919 non-null  object \n",
      " 13  displacement         15423 non-null  float64\n",
      " 14  cylinders            10239 non-null  float64\n",
      " 15  weight               8945 non-null   float64\n",
      " 16  drive_chain          9061 non-null   object \n",
      " 17  fuel                 15919 non-null  object \n",
      " 18  co2_emission         13483 non-null  float64\n",
      " 19  comfort_convenience  14999 non-null  object \n",
      " 20  entertainment_media  14545 non-null  object \n",
      " 21  extras               12957 non-null  object \n",
      " 22  safety_security      14937 non-null  object \n",
      " 23  gears                11207 non-null  float64\n",
      " 24  country_version      7586 non-null   object \n",
      " 25  warranty_mo          4853 non-null   float64\n",
      " 26  vat_deductible       15919 non-null  int64  \n",
      " 27  upholstery_material  11416 non-null  object \n",
      " 28  upholstery_color     12197 non-null  object \n",
      " 29  emission_class       12291 non-null  object \n",
      " 30  consumption_comb     13886 non-null  float64\n",
      " 31  consumption_city     13483 non-null  float64\n",
      " 32  consumption_country  13543 non-null  float64\n",
      " 33  reg_cont             14322 non-null  float64\n",
      "dtypes: float64(16), int64(2), object(16)\n",
      "memory usage: 4.1+ MB\n"
     ]
    }
   ],
   "source": [
    "df.info()"
   ]
  },
  {
   "cell_type": "markdown",
   "id": "c0de43fd",
   "metadata": {},
   "source": [
    "### Most important columns are: make_model, type, and body_type. \n",
    "### We will start by imputing these. "
   ]
  },
  {
   "cell_type": "markdown",
   "id": "dc223bc4",
   "metadata": {},
   "source": [
    "### Explore 'make_model'\n",
    "* we have very few data for audi_a2 and renault_duster.\n",
    "* we can drop these from the data (35 rows)"
   ]
  },
  {
   "cell_type": "code",
   "execution_count": 5,
   "id": "29f4bf30",
   "metadata": {},
   "outputs": [
    {
     "data": {
      "text/plain": [
       "0"
      ]
     },
     "execution_count": 5,
     "metadata": {},
     "output_type": "execute_result"
    }
   ],
   "source": [
    "df.make_model.isna().sum()"
   ]
  },
  {
   "cell_type": "code",
   "execution_count": 6,
   "id": "a5241752",
   "metadata": {},
   "outputs": [
    {
     "data": {
      "text/plain": [
       "audi_a3           3097\n",
       "audi_a1           2614\n",
       "opel_insignia     2598\n",
       "opel_astra        2526\n",
       "opel_corsa        2219\n",
       "renault_clio      1839\n",
       "renault_espace     991\n",
       "renault_duster      34\n",
       "audi_a2              1\n",
       "Name: make_model, dtype: int64"
      ]
     },
     "execution_count": 6,
     "metadata": {},
     "output_type": "execute_result"
    }
   ],
   "source": [
    "df.make_model.value_counts(dropna=False)"
   ]
  },
  {
   "cell_type": "code",
   "execution_count": 7,
   "id": "e7240658",
   "metadata": {},
   "outputs": [],
   "source": [
    "df.drop(df[df['make_model'] == \"audi_a2\"].index, axis=0, inplace=True)"
   ]
  },
  {
   "cell_type": "code",
   "execution_count": 8,
   "id": "091f81de",
   "metadata": {},
   "outputs": [],
   "source": [
    "df.drop(df[df['make_model'] == \"renault_duster\"].index, axis=0, inplace=True)"
   ]
  },
  {
   "cell_type": "code",
   "execution_count": 9,
   "id": "0810f2fb",
   "metadata": {},
   "outputs": [
    {
     "data": {
      "text/plain": [
       "audi_a3           3097\n",
       "audi_a1           2614\n",
       "opel_insignia     2598\n",
       "opel_astra        2526\n",
       "opel_corsa        2219\n",
       "renault_clio      1839\n",
       "renault_espace     991\n",
       "Name: make_model, dtype: int64"
      ]
     },
     "execution_count": 9,
     "metadata": {},
     "output_type": "execute_result"
    }
   ],
   "source": [
    "df.make_model.value_counts(dropna=False)"
   ]
  },
  {
   "cell_type": "code",
   "execution_count": 10,
   "id": "f65338bc",
   "metadata": {},
   "outputs": [
    {
     "data": {
      "text/plain": [
       "0"
      ]
     },
     "execution_count": 10,
     "metadata": {},
     "output_type": "execute_result"
    }
   ],
   "source": [
    "df.make_model.isna().sum()"
   ]
  },
  {
   "cell_type": "markdown",
   "id": "01fa997e",
   "metadata": {},
   "source": [
    "### Impute 'body_type'\n",
    "\n",
    "* there are too many categories, we can put any less than 100 into other category\n",
    "* there are 60 missing\n",
    "* fill missing values by the mode of make_model\n",
    "* make a function that will fill missing values of column x by mode of x by y"
   ]
  },
  {
   "cell_type": "code",
   "execution_count": 11,
   "id": "5dc026e7",
   "metadata": {},
   "outputs": [
    {
     "data": {
      "text/plain": [
       "60"
      ]
     },
     "execution_count": 11,
     "metadata": {},
     "output_type": "execute_result"
    }
   ],
   "source": [
    "df.body_type.isna().sum()"
   ]
  },
  {
   "cell_type": "code",
   "execution_count": 12,
   "id": "f7600e37",
   "metadata": {},
   "outputs": [
    {
     "data": {
      "text/plain": [
       "sedans           7903\n",
       "station wagon    3553\n",
       "compact          3153\n",
       "van               783\n",
       "other             290\n",
       "transporter        88\n",
       "NaN                60\n",
       "coupe              25\n",
       "off-road           21\n",
       "convertible         8\n",
       "Name: body_type, dtype: int64"
      ]
     },
     "execution_count": 12,
     "metadata": {},
     "output_type": "execute_result"
    }
   ],
   "source": [
    "df.body_type.value_counts(dropna=False)"
   ]
  },
  {
   "cell_type": "code",
   "execution_count": 13,
   "id": "f9233b3b",
   "metadata": {},
   "outputs": [
    {
     "data": {
      "text/plain": [
       "sedans           7903\n",
       "station wagon    3553\n",
       "compact          3153\n",
       "van               783\n",
       "other             290\n",
       "transporter        88\n",
       "coupe              25\n",
       "off-road           21\n",
       "convertible         8\n",
       "Name: body_type, dtype: int64"
      ]
     },
     "execution_count": 13,
     "metadata": {},
     "output_type": "execute_result"
    }
   ],
   "source": [
    "btv = df.body_type.value_counts()\n",
    "btv"
   ]
  },
  {
   "cell_type": "code",
   "execution_count": 14,
   "id": "c8cab9dd",
   "metadata": {},
   "outputs": [],
   "source": [
    "df.body_type = [x if x not in btv[-4:] else \"other\" for x in df['body_type']]"
   ]
  },
  {
   "cell_type": "code",
   "execution_count": 15,
   "id": "871d0ac2",
   "metadata": {},
   "outputs": [
    {
     "data": {
      "text/plain": [
       "sedans           7903\n",
       "station wagon    3553\n",
       "compact          3153\n",
       "van               783\n",
       "other             432\n",
       "Name: body_type, dtype: int64"
      ]
     },
     "execution_count": 15,
     "metadata": {},
     "output_type": "execute_result"
    }
   ],
   "source": [
    "df.body_type.value_counts()"
   ]
  },
  {
   "cell_type": "code",
   "execution_count": 16,
   "id": "45683858",
   "metadata": {},
   "outputs": [
    {
     "data": {
      "text/plain": [
       "make_model      body_type    \n",
       "audi_a1         sedans           1538\n",
       "                compact          1039\n",
       "                station wagon      21\n",
       "                other              15\n",
       "                van                 1\n",
       "audi_a3         sedans           2598\n",
       "                station wagon     282\n",
       "                compact           182\n",
       "                other              28\n",
       "                NaN                 7\n",
       "opel_astra      station wagon    1211\n",
       "                sedans           1053\n",
       "                compact           185\n",
       "                other              70\n",
       "                NaN                 7\n",
       "opel_corsa      compact          1230\n",
       "                sedans            875\n",
       "                other             110\n",
       "                NaN                 2\n",
       "                van                 2\n",
       "opel_insignia   station wagon    1611\n",
       "                sedans            900\n",
       "                other              56\n",
       "                compact            27\n",
       "                NaN                 3\n",
       "                van                 1\n",
       "renault_clio    sedans            918\n",
       "                compact           484\n",
       "                station wagon     337\n",
       "                other              83\n",
       "                NaN                15\n",
       "                van                 2\n",
       "renault_espace  van               777\n",
       "                station wagon      91\n",
       "                other              70\n",
       "                NaN                26\n",
       "                sedans             21\n",
       "                compact             6\n",
       "Name: body_type, dtype: int64"
      ]
     },
     "execution_count": 16,
     "metadata": {},
     "output_type": "execute_result"
    }
   ],
   "source": [
    "df['body_type'].groupby(df['make_model']).value_counts(dropna=False)"
   ]
  },
  {
   "cell_type": "code",
   "execution_count": 17,
   "id": "0b03d9f8",
   "metadata": {},
   "outputs": [],
   "source": [
    "# check for error\n",
    "df = fill(df,'body_type','make_model','mode')"
   ]
  },
  {
   "cell_type": "code",
   "execution_count": 18,
   "id": "414d7ae8",
   "metadata": {},
   "outputs": [
    {
     "data": {
      "text/plain": [
       "0"
      ]
     },
     "execution_count": 18,
     "metadata": {},
     "output_type": "execute_result"
    }
   ],
   "source": [
    "df.body_type.isna().sum()"
   ]
  },
  {
   "cell_type": "code",
   "execution_count": null,
   "id": "b30c4109",
   "metadata": {},
   "outputs": [],
   "source": []
  },
  {
   "cell_type": "markdown",
   "id": "150533df",
   "metadata": {},
   "source": [
    "### impute 'type'\n",
    "\n",
    "* impute the two missing with the mode of the rest - 'used' since they have km of 115k"
   ]
  },
  {
   "cell_type": "code",
   "execution_count": 19,
   "id": "52450b57",
   "metadata": {},
   "outputs": [
    {
     "data": {
      "text/plain": [
       "2"
      ]
     },
     "execution_count": 19,
     "metadata": {},
     "output_type": "execute_result"
    }
   ],
   "source": [
    "df.type.isna().sum()"
   ]
  },
  {
   "cell_type": "code",
   "execution_count": 20,
   "id": "1989263a",
   "metadata": {},
   "outputs": [
    {
     "data": {
      "text/plain": [
       "used              11080\n",
       "new                1632\n",
       "pre_registered     1364\n",
       "employees_car      1010\n",
       "demonstration       796\n",
       "NaN                   2\n",
       "Name: type, dtype: int64"
      ]
     },
     "execution_count": 20,
     "metadata": {},
     "output_type": "execute_result"
    }
   ],
   "source": [
    "df.type.value_counts(dropna=False)"
   ]
  },
  {
   "cell_type": "code",
   "execution_count": 21,
   "id": "7a7b5c1f",
   "metadata": {},
   "outputs": [
    {
     "data": {
      "text/plain": [
       "115137.0    1\n",
       "Name: km, dtype: int64"
      ]
     },
     "execution_count": 21,
     "metadata": {},
     "output_type": "execute_result"
    }
   ],
   "source": [
    "df[df.type.isna()].km.value_counts()"
   ]
  },
  {
   "cell_type": "code",
   "execution_count": 22,
   "id": "8074a72b",
   "metadata": {},
   "outputs": [],
   "source": [
    "df['type'] = df['type'].fillna('used')"
   ]
  },
  {
   "cell_type": "code",
   "execution_count": 23,
   "id": "8da433a1",
   "metadata": {},
   "outputs": [
    {
     "data": {
      "text/plain": [
       "0"
      ]
     },
     "execution_count": 23,
     "metadata": {},
     "output_type": "execute_result"
    }
   ],
   "source": [
    "df.type.isna().sum()"
   ]
  },
  {
   "cell_type": "markdown",
   "id": "736986f5",
   "metadata": {},
   "source": [
    "### Now we will start exploring the rest of the columns in order"
   ]
  },
  {
   "cell_type": "markdown",
   "id": "fe08f14b",
   "metadata": {},
   "source": [
    "### Impute km\n",
    "\n",
    "* There are 1006 missing values\n",
    "* I could've used first_registration, but it seems to have too many missing values\n",
    "* Impute with median of the distance by a new feature which is groups by body_type (different kind of cars are used in different ways) and type (new, pre_registered, etc.)\n"
   ]
  },
  {
   "cell_type": "code",
   "execution_count": 24,
   "id": "f766c2cd",
   "metadata": {},
   "outputs": [
    {
     "data": {
      "text/plain": [
       "1006"
      ]
     },
     "execution_count": 24,
     "metadata": {},
     "output_type": "execute_result"
    }
   ],
   "source": [
    "df.km.isna().sum()"
   ]
  },
  {
   "cell_type": "code",
   "execution_count": 25,
   "id": "f7d69a9c",
   "metadata": {},
   "outputs": [
    {
     "data": {
      "text/plain": [
       "NaN       820\n",
       "2019.0    147\n",
       "2018.0     38\n",
       "2017.0      1\n",
       "Name: first_registration, dtype: int64"
      ]
     },
     "execution_count": 25,
     "metadata": {},
     "output_type": "execute_result"
    }
   ],
   "source": [
    "df.first_registration[df.km.isna()].value_counts(dropna=False)"
   ]
  },
  {
   "cell_type": "code",
   "execution_count": 26,
   "id": "d4782e10",
   "metadata": {},
   "outputs": [
    {
     "data": {
      "text/plain": [
       "new               831\n",
       "pre_registered    118\n",
       "demonstration      33\n",
       "used               16\n",
       "employees_car       8\n",
       "Name: type, dtype: int64"
      ]
     },
     "execution_count": 26,
     "metadata": {},
     "output_type": "execute_result"
    }
   ],
   "source": [
    "df.type[df.km.isna()].value_counts(dropna=False)"
   ]
  },
  {
   "cell_type": "code",
   "execution_count": 27,
   "id": "a8f716b3",
   "metadata": {},
   "outputs": [
    {
     "data": {
      "text/plain": [
       "sedans           456\n",
       "compact          260\n",
       "station wagon    228\n",
       "van               42\n",
       "other             20\n",
       "Name: body_type, dtype: int64"
      ]
     },
     "execution_count": 27,
     "metadata": {},
     "output_type": "execute_result"
    }
   ],
   "source": [
    "df.body_type[df.km.isna()].value_counts(dropna=False)"
   ]
  },
  {
   "cell_type": "code",
   "execution_count": 28,
   "id": "b47ec4e5",
   "metadata": {},
   "outputs": [
    {
     "data": {
      "text/plain": [
       "NaN       820\n",
       "2019.0    147\n",
       "2018.0     38\n",
       "2017.0      1\n",
       "Name: first_registration, dtype: int64"
      ]
     },
     "execution_count": 28,
     "metadata": {},
     "output_type": "execute_result"
    }
   ],
   "source": [
    "df.first_registration[df.km.isna()].value_counts(dropna=False)"
   ]
  },
  {
   "cell_type": "code",
   "execution_count": 29,
   "id": "5278b22c",
   "metadata": {},
   "outputs": [],
   "source": [
    "df['for_km'] = df.groupby(['body_type', 'type']).ngroup()"
   ]
  },
  {
   "cell_type": "code",
   "execution_count": 30,
   "id": "3dd8f9d4",
   "metadata": {},
   "outputs": [],
   "source": [
    "df = fill(df,'km','for_km','median')"
   ]
  },
  {
   "cell_type": "code",
   "execution_count": 31,
   "id": "c3a3fed8",
   "metadata": {},
   "outputs": [
    {
     "data": {
      "text/plain": [
       "0"
      ]
     },
     "execution_count": 31,
     "metadata": {},
     "output_type": "execute_result"
    }
   ],
   "source": [
    "df.km.isna().sum()"
   ]
  },
  {
   "cell_type": "code",
   "execution_count": 32,
   "id": "71fb5ac0",
   "metadata": {},
   "outputs": [],
   "source": [
    "df = df.drop(['for_km'], axis=1)"
   ]
  },
  {
   "cell_type": "markdown",
   "id": "465d1e61",
   "metadata": {},
   "source": [
    "### Impute 'prev_owner'\n",
    "\n",
    "* as noted in the 00_data_cleaning, missing values are for cases where there are no previous owners\n",
    "* fillna with 0"
   ]
  },
  {
   "cell_type": "code",
   "execution_count": 33,
   "id": "023a210a",
   "metadata": {},
   "outputs": [
    {
     "data": {
      "text/plain": [
       "6794"
      ]
     },
     "execution_count": 33,
     "metadata": {},
     "output_type": "execute_result"
    }
   ],
   "source": [
    "df.prev_owner.isna().sum()"
   ]
  },
  {
   "cell_type": "code",
   "execution_count": 34,
   "id": "6893f609",
   "metadata": {},
   "outputs": [
    {
     "data": {
      "text/plain": [
       "1.0    8293\n",
       "NaN    6794\n",
       "2.0     778\n",
       "3.0      17\n",
       "4.0       2\n",
       "Name: prev_owner, dtype: int64"
      ]
     },
     "execution_count": 34,
     "metadata": {},
     "output_type": "execute_result"
    }
   ],
   "source": [
    "df.prev_owner.value_counts(dropna=False)"
   ]
  },
  {
   "cell_type": "code",
   "execution_count": 35,
   "id": "33ed1e34",
   "metadata": {},
   "outputs": [],
   "source": [
    " df['prev_owner'].fillna(0, inplace=True)"
   ]
  },
  {
   "cell_type": "code",
   "execution_count": 36,
   "id": "d12186ea",
   "metadata": {},
   "outputs": [
    {
     "data": {
      "text/plain": [
       "1.0    8293\n",
       "0.0    6794\n",
       "2.0     778\n",
       "3.0      17\n",
       "4.0       2\n",
       "Name: prev_owner, dtype: int64"
      ]
     },
     "execution_count": 36,
     "metadata": {},
     "output_type": "execute_result"
    }
   ],
   "source": [
    "df.prev_owner.value_counts(dropna=False)"
   ]
  },
  {
   "cell_type": "code",
   "execution_count": 37,
   "id": "543068aa",
   "metadata": {},
   "outputs": [
    {
     "data": {
      "text/plain": [
       "used              11082\n",
       "new                1632\n",
       "pre_registered     1364\n",
       "employees_car      1010\n",
       "demonstration       796\n",
       "Name: type, dtype: int64"
      ]
     },
     "execution_count": 37,
     "metadata": {},
     "output_type": "execute_result"
    }
   ],
   "source": [
    "df.type.value_counts(dropna=False)"
   ]
  },
  {
   "cell_type": "code",
   "execution_count": 38,
   "id": "ba124e1f",
   "metadata": {},
   "outputs": [
    {
     "data": {
      "text/plain": [
       "0"
      ]
     },
     "execution_count": 38,
     "metadata": {},
     "output_type": "execute_result"
    }
   ],
   "source": [
    "df.prev_owner.isna().sum()"
   ]
  },
  {
   "cell_type": "markdown",
   "id": "751635cd",
   "metadata": {},
   "source": [
    "### Impute hp\n",
    "\n",
    "* impute based on mode of groups by make_model and body_type"
   ]
  },
  {
   "cell_type": "code",
   "execution_count": 39,
   "id": "4793852f",
   "metadata": {},
   "outputs": [
    {
     "data": {
      "text/plain": [
       "85.0     2541\n",
       "66.0     2122\n",
       "81.0     1401\n",
       "100.0    1308\n",
       "110.0    1112\n",
       "         ... \n",
       "84.0        1\n",
       "195.0       1\n",
       "44.0        1\n",
       "239.0       1\n",
       "9.0         1\n",
       "Name: hp, Length: 81, dtype: int64"
      ]
     },
     "execution_count": 39,
     "metadata": {},
     "output_type": "execute_result"
    }
   ],
   "source": [
    "df.hp.value_counts(dropna=False)"
   ]
  },
  {
   "cell_type": "code",
   "execution_count": 40,
   "id": "96d54846",
   "metadata": {},
   "outputs": [],
   "source": [
    "df['for_hp'] = df.groupby(['make_model','body_type']).ngroup()"
   ]
  },
  {
   "cell_type": "code",
   "execution_count": 41,
   "id": "696599b8",
   "metadata": {},
   "outputs": [
    {
     "data": {
      "text/plain": [
       "array([ 2,  3,  0,  1,  4,  6,  7,  5,  8, 12,  9, 11, 10, 15, 13, 14, 16,\n",
       "       20, 19, 17, 18, 21, 22, 25, 24, 23, 26, 31, 30, 28, 29, 27],\n",
       "      dtype=int64)"
      ]
     },
     "execution_count": 41,
     "metadata": {},
     "output_type": "execute_result"
    }
   ],
   "source": [
    "df['for_hp'].unique()\n",
    "# 27 groups"
   ]
  },
  {
   "cell_type": "code",
   "execution_count": 42,
   "id": "41070671",
   "metadata": {},
   "outputs": [],
   "source": [
    "df = fill(df, 'hp','for_hp','mode')"
   ]
  },
  {
   "cell_type": "code",
   "execution_count": 43,
   "id": "84eb800b",
   "metadata": {},
   "outputs": [
    {
     "data": {
      "text/plain": [
       "0"
      ]
     },
     "execution_count": 43,
     "metadata": {},
     "output_type": "execute_result"
    }
   ],
   "source": [
    "df.hp.isna().sum()"
   ]
  },
  {
   "cell_type": "code",
   "execution_count": 44,
   "id": "e017fe2a",
   "metadata": {},
   "outputs": [],
   "source": [
    "df = df.drop('for_hp', axis=1)"
   ]
  },
  {
   "cell_type": "markdown",
   "id": "9c200406",
   "metadata": {},
   "source": [
    "### Impute 'first_registration'\n",
    "\n",
    "* when first_registration is missing, 'km' is very low in most cases\n",
    "* I will assign 2019 to the first_registration to all missing cases of all types. I will right in all but 17 or so cases of type 'used' where mileage is higher than 500 km.\n",
    "\n"
   ]
  },
  {
   "cell_type": "code",
   "execution_count": 45,
   "id": "2f04296e",
   "metadata": {},
   "outputs": [
    {
     "data": {
      "text/plain": [
       "count     1579.000000\n",
       "mean       511.160228\n",
       "std       5337.972803\n",
       "min          0.000000\n",
       "25%         10.000000\n",
       "50%         10.000000\n",
       "75%         10.000000\n",
       "max      89982.000000\n",
       "Name: km, dtype: float64"
      ]
     },
     "execution_count": 45,
     "metadata": {},
     "output_type": "execute_result"
    }
   ],
   "source": [
    "df['km'][df['first_registration'].isna()].describe()"
   ]
  },
  {
   "cell_type": "code",
   "execution_count": 46,
   "id": "74a222d2",
   "metadata": {},
   "outputs": [
    {
     "data": {
      "text/html": [
       "<div>\n",
       "<style scoped>\n",
       "    .dataframe tbody tr th:only-of-type {\n",
       "        vertical-align: middle;\n",
       "    }\n",
       "\n",
       "    .dataframe tbody tr th {\n",
       "        vertical-align: top;\n",
       "    }\n",
       "\n",
       "    .dataframe thead th {\n",
       "        text-align: right;\n",
       "    }\n",
       "</style>\n",
       "<table border=\"1\" class=\"dataframe\">\n",
       "  <thead>\n",
       "    <tr style=\"text-align: right;\">\n",
       "      <th></th>\n",
       "      <th>count</th>\n",
       "      <th>mean</th>\n",
       "      <th>std</th>\n",
       "      <th>min</th>\n",
       "      <th>25%</th>\n",
       "      <th>50%</th>\n",
       "      <th>75%</th>\n",
       "      <th>max</th>\n",
       "    </tr>\n",
       "    <tr>\n",
       "      <th>type</th>\n",
       "      <th></th>\n",
       "      <th></th>\n",
       "      <th></th>\n",
       "      <th></th>\n",
       "      <th></th>\n",
       "      <th></th>\n",
       "      <th></th>\n",
       "      <th></th>\n",
       "    </tr>\n",
       "  </thead>\n",
       "  <tbody>\n",
       "    <tr>\n",
       "      <th>demonstration</th>\n",
       "      <td>5.0</td>\n",
       "      <td>6501.400000</td>\n",
       "      <td>4232.293681</td>\n",
       "      <td>3000.0</td>\n",
       "      <td>3000.0</td>\n",
       "      <td>4307.0</td>\n",
       "      <td>11000.0</td>\n",
       "      <td>11200.0</td>\n",
       "    </tr>\n",
       "    <tr>\n",
       "      <th>employees_car</th>\n",
       "      <td>3.0</td>\n",
       "      <td>8700.000000</td>\n",
       "      <td>8155.979402</td>\n",
       "      <td>3500.0</td>\n",
       "      <td>4000.0</td>\n",
       "      <td>4500.0</td>\n",
       "      <td>11300.0</td>\n",
       "      <td>18100.0</td>\n",
       "    </tr>\n",
       "    <tr>\n",
       "      <th>new</th>\n",
       "      <td>1529.0</td>\n",
       "      <td>11.238064</td>\n",
       "      <td>20.997590</td>\n",
       "      <td>0.0</td>\n",
       "      <td>10.0</td>\n",
       "      <td>10.0</td>\n",
       "      <td>10.0</td>\n",
       "      <td>500.0</td>\n",
       "    </tr>\n",
       "    <tr>\n",
       "      <th>pre_registered</th>\n",
       "      <td>6.0</td>\n",
       "      <td>8.500000</td>\n",
       "      <td>3.674235</td>\n",
       "      <td>1.0</td>\n",
       "      <td>10.0</td>\n",
       "      <td>10.0</td>\n",
       "      <td>10.0</td>\n",
       "      <td>10.0</td>\n",
       "    </tr>\n",
       "    <tr>\n",
       "      <th>used</th>\n",
       "      <td>36.0</td>\n",
       "      <td>20313.361111</td>\n",
       "      <td>29217.062016</td>\n",
       "      <td>5.0</td>\n",
       "      <td>10.0</td>\n",
       "      <td>640.5</td>\n",
       "      <td>32604.0</td>\n",
       "      <td>89982.0</td>\n",
       "    </tr>\n",
       "  </tbody>\n",
       "</table>\n",
       "</div>"
      ],
      "text/plain": [
       "                 count          mean           std     min     25%     50%  \\\n",
       "type                                                                         \n",
       "demonstration      5.0   6501.400000   4232.293681  3000.0  3000.0  4307.0   \n",
       "employees_car      3.0   8700.000000   8155.979402  3500.0  4000.0  4500.0   \n",
       "new             1529.0     11.238064     20.997590     0.0    10.0    10.0   \n",
       "pre_registered     6.0      8.500000      3.674235     1.0    10.0    10.0   \n",
       "used              36.0  20313.361111  29217.062016     5.0    10.0   640.5   \n",
       "\n",
       "                    75%      max  \n",
       "type                              \n",
       "demonstration   11000.0  11200.0  \n",
       "employees_car   11300.0  18100.0  \n",
       "new                10.0    500.0  \n",
       "pre_registered     10.0     10.0  \n",
       "used            32604.0  89982.0  "
      ]
     },
     "execution_count": 46,
     "metadata": {},
     "output_type": "execute_result"
    }
   ],
   "source": [
    "df[df['first_registration'].isna()].groupby('type')['km'].describe()"
   ]
  },
  {
   "cell_type": "code",
   "execution_count": 47,
   "id": "5b44e4d7",
   "metadata": {},
   "outputs": [],
   "source": [
    "df['first_registration'] = df['first_registration'].fillna(2019)"
   ]
  },
  {
   "cell_type": "code",
   "execution_count": 48,
   "id": "f2a98982",
   "metadata": {},
   "outputs": [
    {
     "data": {
      "text/plain": [
       "0"
      ]
     },
     "execution_count": 48,
     "metadata": {},
     "output_type": "execute_result"
    }
   ],
   "source": [
    "df['first_registration'].isna().sum()"
   ]
  },
  {
   "cell_type": "markdown",
   "id": "bcb18f83",
   "metadata": {},
   "source": [
    "### impute 'body_color'\n",
    "\n",
    "* missing body_color for disproportionately more 'new' (425/600 = 70% cases) and 'opel_insignia' + 'opel_astra' (60%)\n",
    "* a little search reveals that the most popular color for cars in europe is 'black'\n",
    "* 'black' is also the most popular color in this dataset\n",
    "* but 'white' for many make_models if new, which seems odd. \n",
    "* I will impute the missing body_color with a corrective 'black'. "
   ]
  },
  {
   "cell_type": "code",
   "execution_count": 49,
   "id": "8149588d",
   "metadata": {},
   "outputs": [
    {
     "data": {
      "text/plain": [
       "597"
      ]
     },
     "execution_count": 49,
     "metadata": {},
     "output_type": "execute_result"
    }
   ],
   "source": [
    "df.body_color.isna().sum()"
   ]
  },
  {
   "cell_type": "code",
   "execution_count": 50,
   "id": "3b042f76",
   "metadata": {},
   "outputs": [
    {
     "data": {
      "text/plain": [
       "new               426\n",
       "used              140\n",
       "employees_car      15\n",
       "pre_registered     11\n",
       "demonstration       5\n",
       "Name: type, dtype: int64"
      ]
     },
     "execution_count": 50,
     "metadata": {},
     "output_type": "execute_result"
    }
   ],
   "source": [
    "df[df.body_color.isna()]['type'].value_counts()"
   ]
  },
  {
   "cell_type": "code",
   "execution_count": 51,
   "id": "a7115c9c",
   "metadata": {},
   "outputs": [
    {
     "data": {
      "text/plain": [
       "0.7083333333333334"
      ]
     },
     "execution_count": 51,
     "metadata": {},
     "output_type": "execute_result"
    }
   ],
   "source": [
    "425/600"
   ]
  },
  {
   "cell_type": "code",
   "execution_count": 52,
   "id": "add7f0b2",
   "metadata": {},
   "outputs": [
    {
     "data": {
      "text/plain": [
       "used              11082\n",
       "new                1632\n",
       "pre_registered     1364\n",
       "employees_car      1010\n",
       "demonstration       796\n",
       "Name: type, dtype: int64"
      ]
     },
     "execution_count": 52,
     "metadata": {},
     "output_type": "execute_result"
    }
   ],
   "source": [
    "df['type'].value_counts()"
   ]
  },
  {
   "cell_type": "code",
   "execution_count": 53,
   "id": "e26dda0b",
   "metadata": {},
   "outputs": [
    {
     "data": {
      "text/plain": [
       "white     357\n",
       "black     294\n",
       "grey      242\n",
       "blue      144\n",
       "red        65\n",
       "silver     63\n",
       "yellow     16\n",
       "green      16\n",
       "brown       6\n",
       "beige       2\n",
       "orange      1\n",
       "Name: body_color, dtype: int64"
      ]
     },
     "execution_count": 53,
     "metadata": {},
     "output_type": "execute_result"
    }
   ],
   "source": [
    "df[df.type == 'new']['body_color'].value_counts()"
   ]
  },
  {
   "cell_type": "code",
   "execution_count": 54,
   "id": "68134257",
   "metadata": {},
   "outputs": [
    {
     "data": {
      "text/plain": [
       "opel_insignia     218\n",
       "opel_astra        139\n",
       "audi_a1            73\n",
       "audi_a3            73\n",
       "renault_clio       46\n",
       "opel_corsa         28\n",
       "renault_espace     20\n",
       "Name: make_model, dtype: int64"
      ]
     },
     "execution_count": 54,
     "metadata": {},
     "output_type": "execute_result"
    }
   ],
   "source": [
    "df[df.body_color.isna()]['make_model'].value_counts()"
   ]
  },
  {
   "cell_type": "code",
   "execution_count": 55,
   "id": "0aaac0cd",
   "metadata": {},
   "outputs": [
    {
     "data": {
      "text/plain": [
       "0.595"
      ]
     },
     "execution_count": 55,
     "metadata": {},
     "output_type": "execute_result"
    }
   ],
   "source": [
    "(218 + 139) / 600"
   ]
  },
  {
   "cell_type": "code",
   "execution_count": 56,
   "id": "797fddad",
   "metadata": {},
   "outputs": [
    {
     "data": {
      "text/plain": [
       "audi_a3           3097\n",
       "audi_a1           2614\n",
       "opel_insignia     2598\n",
       "opel_astra        2526\n",
       "opel_corsa        2219\n",
       "renault_clio      1839\n",
       "renault_espace     991\n",
       "Name: make_model, dtype: int64"
      ]
     },
     "execution_count": 56,
     "metadata": {},
     "output_type": "execute_result"
    }
   ],
   "source": [
    "df['make_model'].value_counts()"
   ]
  },
  {
   "cell_type": "code",
   "execution_count": 57,
   "id": "fc582f9f",
   "metadata": {},
   "outputs": [
    {
     "data": {
      "text/plain": [
       "black     3737\n",
       "grey      3504\n",
       "white     3380\n",
       "silver    1647\n",
       "blue      1431\n",
       "red        957\n",
       "brown      289\n",
       "green      154\n",
       "beige      108\n",
       "yellow      51\n",
       "violet      18\n",
       "bronze       6\n",
       "orange       3\n",
       "gold         2\n",
       "Name: body_color, dtype: int64"
      ]
     },
     "execution_count": 57,
     "metadata": {},
     "output_type": "execute_result"
    }
   ],
   "source": [
    "df.body_color.value_counts()"
   ]
  },
  {
   "cell_type": "code",
   "execution_count": 58,
   "id": "594c2d52",
   "metadata": {},
   "outputs": [
    {
     "data": {
      "text/plain": [
       "make_model      body_color\n",
       "audi_a1         white         118\n",
       "                black          75\n",
       "                NaN            36\n",
       "                grey           33\n",
       "                red            20\n",
       "                blue           19\n",
       "                yellow         15\n",
       "                green          11\n",
       "                silver          1\n",
       "audi_a3         white          87\n",
       "                grey           77\n",
       "                black          75\n",
       "                NaN            46\n",
       "                red            14\n",
       "                silver         14\n",
       "                blue           13\n",
       "opel_astra      NaN           108\n",
       "                black          38\n",
       "                white          33\n",
       "                grey           31\n",
       "                blue           19\n",
       "                red            11\n",
       "                silver         11\n",
       "                green           3\n",
       "                brown           1\n",
       "opel_corsa      blue           44\n",
       "                grey           36\n",
       "                silver         22\n",
       "                black          18\n",
       "                NaN            17\n",
       "                white          10\n",
       "                red             7\n",
       "                yellow          1\n",
       "opel_insignia   NaN           182\n",
       "                black          54\n",
       "                grey           39\n",
       "                white          37\n",
       "                blue           34\n",
       "                silver         12\n",
       "                red             5\n",
       "                beige           2\n",
       "                green           2\n",
       "                brown           1\n",
       "                orange          1\n",
       "renault_clio    white          43\n",
       "                NaN            29\n",
       "                black          15\n",
       "                blue           15\n",
       "                grey           15\n",
       "                red             8\n",
       "                silver          3\n",
       "                brown           1\n",
       "renault_espace  white          29\n",
       "                black          19\n",
       "                grey           11\n",
       "                NaN             8\n",
       "                brown           3\n",
       "Name: body_color, dtype: int64"
      ]
     },
     "execution_count": 58,
     "metadata": {},
     "output_type": "execute_result"
    }
   ],
   "source": [
    "df[df.type=='new'].groupby('make_model')['body_color'].value_counts(dropna=False)"
   ]
  },
  {
   "cell_type": "code",
   "execution_count": 59,
   "id": "6f50db18",
   "metadata": {},
   "outputs": [],
   "source": [
    "df['body_color'] = df['body_color'].fillna('black')"
   ]
  },
  {
   "cell_type": "code",
   "execution_count": 60,
   "id": "aec9f6f8",
   "metadata": {
    "scrolled": true
   },
   "outputs": [
    {
     "data": {
      "text/plain": [
       "make_model      body_color\n",
       "audi_a1         white         118\n",
       "                black         111\n",
       "                grey           33\n",
       "                red            20\n",
       "                blue           19\n",
       "                yellow         15\n",
       "                green          11\n",
       "                silver          1\n",
       "audi_a3         black         121\n",
       "                white          87\n",
       "                grey           77\n",
       "                red            14\n",
       "                silver         14\n",
       "                blue           13\n",
       "opel_astra      black         146\n",
       "                white          33\n",
       "                grey           31\n",
       "                blue           19\n",
       "                red            11\n",
       "                silver         11\n",
       "                green           3\n",
       "                brown           1\n",
       "opel_corsa      blue           44\n",
       "                grey           36\n",
       "                black          35\n",
       "                silver         22\n",
       "                white          10\n",
       "                red             7\n",
       "                yellow          1\n",
       "opel_insignia   black         236\n",
       "                grey           39\n",
       "                white          37\n",
       "                blue           34\n",
       "                silver         12\n",
       "                red             5\n",
       "                beige           2\n",
       "                green           2\n",
       "                brown           1\n",
       "                orange          1\n",
       "renault_clio    black          44\n",
       "                white          43\n",
       "                blue           15\n",
       "                grey           15\n",
       "                red             8\n",
       "                silver          3\n",
       "                brown           1\n",
       "renault_espace  white          29\n",
       "                black          27\n",
       "                grey           11\n",
       "                brown           3\n",
       "Name: body_color, dtype: int64"
      ]
     },
     "execution_count": 60,
     "metadata": {},
     "output_type": "execute_result"
    }
   ],
   "source": [
    "df[df.type=='new'].groupby('make_model')['body_color'].value_counts(dropna=False)"
   ]
  },
  {
   "cell_type": "code",
   "execution_count": 61,
   "id": "4ee90599",
   "metadata": {},
   "outputs": [
    {
     "data": {
      "text/plain": [
       "0"
      ]
     },
     "execution_count": 61,
     "metadata": {},
     "output_type": "execute_result"
    }
   ],
   "source": [
    "df.body_color.isna().sum()"
   ]
  },
  {
   "cell_type": "markdown",
   "id": "2f8f3198",
   "metadata": {},
   "source": [
    "### Impute 'paint_type'\n",
    "\n",
    "* among the unique type of paints the values are only metallic (98%), basic (2%), and perlescent (rare).\n",
    "* white, black, and grey body colors makes about 80% of the body_colors when paint_type is missing\n",
    "* metallic is clearly the most popular finish for these body_colors even by make_model\n",
    "* imputing all missing paint_type with 'Metallic'"
   ]
  },
  {
   "cell_type": "code",
   "execution_count": 62,
   "id": "b44f37de",
   "metadata": {},
   "outputs": [
    {
     "data": {
      "text/plain": [
       "5755"
      ]
     },
     "execution_count": 62,
     "metadata": {},
     "output_type": "execute_result"
    }
   ],
   "source": [
    "df.paint_type.isna().sum()"
   ]
  },
  {
   "cell_type": "code",
   "execution_count": 63,
   "id": "1d6fb794",
   "metadata": {},
   "outputs": [
    {
     "data": {
      "text/plain": [
       "Metallic       0.966729\n",
       "Uni/basic      0.032678\n",
       "Perl effect    0.000592\n",
       "Name: paint_type, dtype: float64"
      ]
     },
     "execution_count": 63,
     "metadata": {},
     "output_type": "execute_result"
    }
   ],
   "source": [
    "df.paint_type.value_counts(normalize=True)"
   ]
  },
  {
   "cell_type": "code",
   "execution_count": 64,
   "id": "8b30be49",
   "metadata": {},
   "outputs": [
    {
     "data": {
      "text/plain": [
       "white     0.413553\n",
       "black     0.261512\n",
       "grey      0.123892\n",
       "red       0.070895\n",
       "blue      0.070721\n",
       "silver    0.033362\n",
       "brown     0.009904\n",
       "green     0.006429\n",
       "beige     0.005560\n",
       "yellow    0.002085\n",
       "violet    0.000869\n",
       "bronze    0.000521\n",
       "orange    0.000348\n",
       "gold      0.000348\n",
       "Name: body_color, dtype: float64"
      ]
     },
     "execution_count": 64,
     "metadata": {},
     "output_type": "execute_result"
    }
   ],
   "source": [
    "df[df.paint_type.isna()].body_color.value_counts(normalize=True)"
   ]
  },
  {
   "cell_type": "code",
   "execution_count": 65,
   "id": "22253b2a",
   "metadata": {},
   "outputs": [
    {
     "data": {
      "text/plain": [
       "make_model      paint_type \n",
       "audi_a1         Metallic       1134\n",
       "                Uni/basic        38\n",
       "audi_a3         Metallic       1263\n",
       "                Uni/basic        85\n",
       "opel_astra      Metallic        965\n",
       "                Uni/basic        21\n",
       "                Perl effect       2\n",
       "opel_corsa      Metallic        769\n",
       "                Uni/basic        42\n",
       "                Perl effect       1\n",
       "opel_insignia   Metallic       1179\n",
       "                Uni/basic        16\n",
       "renault_clio    Metallic        544\n",
       "                Uni/basic        38\n",
       "renault_espace  Metallic        507\n",
       "                Uni/basic        16\n",
       "Name: paint_type, dtype: int64"
      ]
     },
     "execution_count": 65,
     "metadata": {},
     "output_type": "execute_result"
    }
   ],
   "source": [
    "df[(df.body_color=='white') | (df.body_color=='black') | (df.body_color=='grey')].groupby('make_model').paint_type\\\n",
    ".value_counts()"
   ]
  },
  {
   "cell_type": "code",
   "execution_count": 66,
   "id": "7df64890",
   "metadata": {},
   "outputs": [],
   "source": [
    "df['paint_type'] = df['paint_type'].fillna('Metallic')"
   ]
  },
  {
   "cell_type": "code",
   "execution_count": 67,
   "id": "b52bb35a",
   "metadata": {},
   "outputs": [
    {
     "data": {
      "text/plain": [
       "Metallic       15547\n",
       "Uni/basic        331\n",
       "Perl effect        6\n",
       "Name: paint_type, dtype: int64"
      ]
     },
     "execution_count": 67,
     "metadata": {},
     "output_type": "execute_result"
    }
   ],
   "source": [
    "df.paint_type.value_counts(dropna=False)"
   ]
  },
  {
   "cell_type": "code",
   "execution_count": 68,
   "id": "abbc654c",
   "metadata": {},
   "outputs": [
    {
     "data": {
      "text/plain": [
       "0"
      ]
     },
     "execution_count": 68,
     "metadata": {},
     "output_type": "execute_result"
    }
   ],
   "source": [
    "df.paint_type.isna().sum()"
   ]
  },
  {
   "cell_type": "markdown",
   "id": "7c460411",
   "metadata": {},
   "source": [
    "### impute 'nr_doors'\n",
    "\n",
    "* most cars by body_type have a mode of 5 doors\n",
    "* I will replace any missing with 5 doors. \n",
    "* I will also reduce the nr_doors to two classes: 5 or more and 4 or less."
   ]
  },
  {
   "cell_type": "code",
   "execution_count": 69,
   "id": "b8ad2c7d",
   "metadata": {},
   "outputs": [
    {
     "data": {
      "text/plain": [
       "212"
      ]
     },
     "execution_count": 69,
     "metadata": {},
     "output_type": "execute_result"
    }
   ],
   "source": [
    "df.nr_doors.isna().sum()"
   ]
  },
  {
   "cell_type": "code",
   "execution_count": 70,
   "id": "b265b9c4",
   "metadata": {},
   "outputs": [
    {
     "data": {
      "text/plain": [
       "5.0    0.726517\n",
       "4.0    0.193843\n",
       "3.0    0.052380\n",
       "2.0    0.013787\n",
       "NaN    0.013347\n",
       "1.0    0.000063\n",
       "7.0    0.000063\n",
       "Name: nr_doors, dtype: float64"
      ]
     },
     "execution_count": 70,
     "metadata": {},
     "output_type": "execute_result"
    }
   ],
   "source": [
    "df.nr_doors.value_counts(dropna=False, normalize=True)"
   ]
  },
  {
   "cell_type": "code",
   "execution_count": 71,
   "id": "75c7a5c4",
   "metadata": {},
   "outputs": [],
   "source": [
    "df['for_doors'] = df.groupby(['make_model', 'body_type']).nr_doors.ngroup()"
   ]
  },
  {
   "cell_type": "code",
   "execution_count": 72,
   "id": "719ff4a1",
   "metadata": {},
   "outputs": [
    {
     "name": "stdout",
     "output_type": "stream",
     "text": [
      "empty class\n"
     ]
    }
   ],
   "source": [
    "df = fill(df, 'nr_doors', 'for_doors', 'mode')"
   ]
  },
  {
   "cell_type": "code",
   "execution_count": 73,
   "id": "77673bfa",
   "metadata": {},
   "outputs": [
    {
     "data": {
      "text/plain": [
       "2"
      ]
     },
     "execution_count": 73,
     "metadata": {},
     "output_type": "execute_result"
    }
   ],
   "source": [
    "df.nr_doors.isna().sum()"
   ]
  },
  {
   "cell_type": "code",
   "execution_count": 74,
   "id": "34a1cefd",
   "metadata": {},
   "outputs": [],
   "source": [
    "df = fill(df, 'nr_doors', 'make_model', 'mode')"
   ]
  },
  {
   "cell_type": "code",
   "execution_count": 75,
   "id": "93360fd2",
   "metadata": {},
   "outputs": [],
   "source": [
    "df = df.drop('for_doors', axis=1)"
   ]
  },
  {
   "cell_type": "code",
   "execution_count": 76,
   "id": "5fc7e8b0",
   "metadata": {},
   "outputs": [
    {
     "data": {
      "text/plain": [
       "0"
      ]
     },
     "execution_count": 76,
     "metadata": {},
     "output_type": "execute_result"
    }
   ],
   "source": [
    "df.nr_doors.isna().sum()"
   ]
  },
  {
   "cell_type": "markdown",
   "id": "78c6c2f5",
   "metadata": {},
   "source": [
    "### impute 'nr_seats'\n",
    "\n",
    "* 977 missing values\n",
    "* makes sense to impute the number of seats by body_type\n",
    "* for all body_type other than van we can impute missing values using mode by make_model and body_type\n",
    "* renault_espace is the only true 'van' in this dataset. The no. of seats are 5 or 7 in proportion 55:45\n",
    "* imputing with randomly assigned 5 or 7 in proportion 55:45"
   ]
  },
  {
   "cell_type": "code",
   "execution_count": 77,
   "id": "00a34f56",
   "metadata": {},
   "outputs": [
    {
     "data": {
      "text/plain": [
       "5.0    13301\n",
       "4.0     1125\n",
       "NaN      977\n",
       "7.0      362\n",
       "2.0      116\n",
       "6.0        2\n",
       "3.0        1\n",
       "Name: nr_seats, dtype: int64"
      ]
     },
     "execution_count": 77,
     "metadata": {},
     "output_type": "execute_result"
    }
   ],
   "source": [
    "df.nr_seats.value_counts(dropna=False)"
   ]
  },
  {
   "cell_type": "code",
   "execution_count": 78,
   "id": "2e2fae5a",
   "metadata": {
    "scrolled": true
   },
   "outputs": [
    {
     "data": {
      "text/plain": [
       "body_type      nr_seats\n",
       "compact        5.0         0.799366\n",
       "               4.0         0.138193\n",
       "               NaN         0.058637\n",
       "               2.0         0.002536\n",
       "               7.0         0.000634\n",
       "               3.0         0.000317\n",
       "               6.0         0.000317\n",
       "other          5.0         0.766204\n",
       "               2.0         0.081019\n",
       "               NaN         0.078704\n",
       "               7.0         0.050926\n",
       "               4.0         0.023148\n",
       "sedans         5.0         0.846814\n",
       "               4.0         0.083785\n",
       "               NaN         0.059937\n",
       "               2.0         0.008959\n",
       "               7.0         0.000505\n",
       "station wagon  5.0         0.940780\n",
       "               NaN         0.049397\n",
       "               7.0         0.005333\n",
       "               4.0         0.003929\n",
       "               2.0         0.000281\n",
       "               6.0         0.000281\n",
       "van            5.0         0.475896\n",
       "               7.0         0.389370\n",
       "               NaN         0.132262\n",
       "               2.0         0.001236\n",
       "               4.0         0.001236\n",
       "Name: nr_seats, dtype: float64"
      ]
     },
     "execution_count": 78,
     "metadata": {},
     "output_type": "execute_result"
    }
   ],
   "source": [
    "df.groupby('body_type').nr_seats.value_counts(dropna=False, normalize=True)"
   ]
  },
  {
   "cell_type": "code",
   "execution_count": 79,
   "id": "b1c6fb2c",
   "metadata": {},
   "outputs": [
    {
     "data": {
      "text/plain": [
       "5.0    385\n",
       "7.0    315\n",
       "NaN    107\n",
       "2.0      1\n",
       "4.0      1\n",
       "Name: nr_seats, dtype: int64"
      ]
     },
     "execution_count": 79,
     "metadata": {},
     "output_type": "execute_result"
    }
   ],
   "source": [
    "df[df.body_type=='van'].nr_seats.value_counts(dropna=False)"
   ]
  },
  {
   "cell_type": "code",
   "execution_count": 80,
   "id": "6f25fcf8",
   "metadata": {},
   "outputs": [
    {
     "data": {
      "text/plain": [
       "make_model      nr_seats\n",
       "audi_a1         NaN           1\n",
       "opel_corsa      NaN           2\n",
       "opel_insignia   5.0           1\n",
       "renault_clio    2.0           1\n",
       "                5.0           1\n",
       "renault_espace  5.0         383\n",
       "                7.0         315\n",
       "                NaN         104\n",
       "                4.0           1\n",
       "Name: nr_seats, dtype: int64"
      ]
     },
     "execution_count": 80,
     "metadata": {},
     "output_type": "execute_result"
    }
   ],
   "source": [
    "df[df.body_type=='van'].groupby('make_model').nr_seats.value_counts(dropna=False)"
   ]
  },
  {
   "cell_type": "code",
   "execution_count": 81,
   "id": "ece0d959",
   "metadata": {},
   "outputs": [
    {
     "data": {
      "text/plain": [
       "0.5487106017191977"
      ]
     },
     "execution_count": 81,
     "metadata": {},
     "output_type": "execute_result"
    }
   ],
   "source": [
    "383/(383+315)"
   ]
  },
  {
   "cell_type": "code",
   "execution_count": 82,
   "id": "2711930c",
   "metadata": {},
   "outputs": [],
   "source": [
    "df.loc[df.body_type != 'van', 'nr_seats'] = df.loc[df.body_type != 'van', 'nr_seats'].fillna(5)"
   ]
  },
  {
   "cell_type": "code",
   "execution_count": 83,
   "id": "9f5a9f1d",
   "metadata": {},
   "outputs": [],
   "source": [
    "df.loc[(df.body_type=='van') & (df.nr_seats.isna()),'nr_seats'] = \\\n",
    "    [choices((5,7), weights=(55, 45))[0] for \\\n",
    "     x in df.loc[(df.body_type=='van') & (df.nr_seats.isna()),'nr_seats']]"
   ]
  },
  {
   "cell_type": "code",
   "execution_count": 84,
   "id": "e3b3e261",
   "metadata": {},
   "outputs": [
    {
     "data": {
      "text/plain": [
       "5.0    452\n",
       "7.0    355\n",
       "2.0      1\n",
       "4.0      1\n",
       "Name: nr_seats, dtype: int64"
      ]
     },
     "execution_count": 84,
     "metadata": {},
     "output_type": "execute_result"
    }
   ],
   "source": [
    "df[df.body_type=='van'].nr_seats.value_counts(dropna=False)"
   ]
  },
  {
   "cell_type": "code",
   "execution_count": 85,
   "id": "1c236f19",
   "metadata": {},
   "outputs": [
    {
     "data": {
      "text/plain": [
       "0"
      ]
     },
     "execution_count": 85,
     "metadata": {},
     "output_type": "execute_result"
    }
   ],
   "source": [
    "df.nr_seats.isna().sum()"
   ]
  },
  {
   "cell_type": "markdown",
   "id": "7e8d62df",
   "metadata": {},
   "source": [
    "### impute 'gearing_type'"
   ]
  },
  {
   "cell_type": "code",
   "execution_count": 86,
   "id": "22bd0acf",
   "metadata": {},
   "outputs": [
    {
     "data": {
      "text/plain": [
       "0"
      ]
     },
     "execution_count": 86,
     "metadata": {},
     "output_type": "execute_result"
    }
   ],
   "source": [
    "df.gearing_type.isna().sum()"
   ]
  },
  {
   "cell_type": "markdown",
   "id": "b769d53c",
   "metadata": {},
   "source": [
    "### impute 'displacement'\n",
    "\n",
    "* missing in 495 rows\n",
    "* displacement and cylinders are missing together in 448 cases\n",
    "* the displacement medians by make_model show some trend with first_registration\n",
    "* filling with medians based on groups based on 'make_model' and 'first_registration'."
   ]
  },
  {
   "cell_type": "code",
   "execution_count": 87,
   "id": "43741e5f",
   "metadata": {},
   "outputs": [
    {
     "data": {
      "text/plain": [
       "495"
      ]
     },
     "execution_count": 87,
     "metadata": {},
     "output_type": "execute_result"
    }
   ],
   "source": [
    "df.displacement.isna().sum()"
   ]
  },
  {
   "cell_type": "code",
   "execution_count": 88,
   "id": "7d5af79c",
   "metadata": {},
   "outputs": [
    {
     "data": {
      "text/plain": [
       "NaN    448\n",
       "4.0     42\n",
       "3.0      2\n",
       "2.0      1\n",
       "5.0      1\n",
       "8.0      1\n",
       "Name: cylinders, dtype: int64"
      ]
     },
     "execution_count": 88,
     "metadata": {},
     "output_type": "execute_result"
    }
   ],
   "source": [
    "df[df.displacement.isna()].cylinders.value_counts(dropna=False)"
   ]
  },
  {
   "cell_type": "code",
   "execution_count": 89,
   "id": "e823b0cc",
   "metadata": {},
   "outputs": [
    {
     "data": {
      "text/plain": [
       "renault_clio      91\n",
       "opel_astra        89\n",
       "renault_espace    87\n",
       "opel_insignia     75\n",
       "opel_corsa        74\n",
       "audi_a3           50\n",
       "audi_a1           29\n",
       "Name: make_model, dtype: int64"
      ]
     },
     "execution_count": 89,
     "metadata": {},
     "output_type": "execute_result"
    }
   ],
   "source": [
    "df[df.displacement.isna()].make_model.value_counts(dropna=False)"
   ]
  },
  {
   "cell_type": "code",
   "execution_count": 90,
   "id": "ebe99ab1",
   "metadata": {},
   "outputs": [
    {
     "data": {
      "text/html": [
       "<div>\n",
       "<style scoped>\n",
       "    .dataframe tbody tr th:only-of-type {\n",
       "        vertical-align: middle;\n",
       "    }\n",
       "\n",
       "    .dataframe tbody tr th {\n",
       "        vertical-align: top;\n",
       "    }\n",
       "\n",
       "    .dataframe thead th {\n",
       "        text-align: right;\n",
       "    }\n",
       "</style>\n",
       "<table border=\"1\" class=\"dataframe\">\n",
       "  <thead>\n",
       "    <tr style=\"text-align: right;\">\n",
       "      <th></th>\n",
       "      <th></th>\n",
       "      <th>count</th>\n",
       "      <th>mean</th>\n",
       "      <th>std</th>\n",
       "      <th>min</th>\n",
       "      <th>25%</th>\n",
       "      <th>50%</th>\n",
       "      <th>75%</th>\n",
       "      <th>max</th>\n",
       "    </tr>\n",
       "    <tr>\n",
       "      <th>make_model</th>\n",
       "      <th>first_registration</th>\n",
       "      <th></th>\n",
       "      <th></th>\n",
       "      <th></th>\n",
       "      <th></th>\n",
       "      <th></th>\n",
       "      <th></th>\n",
       "      <th></th>\n",
       "      <th></th>\n",
       "    </tr>\n",
       "  </thead>\n",
       "  <tbody>\n",
       "    <tr>\n",
       "      <th rowspan=\"4\" valign=\"top\">audi_a1</th>\n",
       "      <th>2016.0</th>\n",
       "      <td>622.0</td>\n",
       "      <td>1283.254019</td>\n",
       "      <td>244.469974</td>\n",
       "      <td>999.0</td>\n",
       "      <td>999.0</td>\n",
       "      <td>1395.0</td>\n",
       "      <td>1422.0</td>\n",
       "      <td>1798.0</td>\n",
       "    </tr>\n",
       "    <tr>\n",
       "      <th>2017.0</th>\n",
       "      <td>424.0</td>\n",
       "      <td>1261.502358</td>\n",
       "      <td>248.676259</td>\n",
       "      <td>929.0</td>\n",
       "      <td>999.0</td>\n",
       "      <td>1395.0</td>\n",
       "      <td>1422.0</td>\n",
       "      <td>1798.0</td>\n",
       "    </tr>\n",
       "    <tr>\n",
       "      <th>2018.0</th>\n",
       "      <td>735.0</td>\n",
       "      <td>1236.282993</td>\n",
       "      <td>252.003312</td>\n",
       "      <td>929.0</td>\n",
       "      <td>999.0</td>\n",
       "      <td>999.0</td>\n",
       "      <td>1422.0</td>\n",
       "      <td>1798.0</td>\n",
       "    </tr>\n",
       "    <tr>\n",
       "      <th>2019.0</th>\n",
       "      <td>804.0</td>\n",
       "      <td>1033.807214</td>\n",
       "      <td>155.925339</td>\n",
       "      <td>995.0</td>\n",
       "      <td>999.0</td>\n",
       "      <td>999.0</td>\n",
       "      <td>999.0</td>\n",
       "      <td>1984.0</td>\n",
       "    </tr>\n",
       "    <tr>\n",
       "      <th rowspan=\"4\" valign=\"top\">audi_a3</th>\n",
       "      <th>2016.0</th>\n",
       "      <td>791.0</td>\n",
       "      <td>1635.101138</td>\n",
       "      <td>213.117932</td>\n",
       "      <td>999.0</td>\n",
       "      <td>1598.0</td>\n",
       "      <td>1598.0</td>\n",
       "      <td>1598.0</td>\n",
       "      <td>2480.0</td>\n",
       "    </tr>\n",
       "    <tr>\n",
       "      <th>2017.0</th>\n",
       "      <td>666.0</td>\n",
       "      <td>1541.614114</td>\n",
       "      <td>268.762007</td>\n",
       "      <td>999.0</td>\n",
       "      <td>1598.0</td>\n",
       "      <td>1598.0</td>\n",
       "      <td>1598.0</td>\n",
       "      <td>2480.0</td>\n",
       "    </tr>\n",
       "    <tr>\n",
       "      <th>2018.0</th>\n",
       "      <td>768.0</td>\n",
       "      <td>1539.876302</td>\n",
       "      <td>265.731612</td>\n",
       "      <td>999.0</td>\n",
       "      <td>1598.0</td>\n",
       "      <td>1598.0</td>\n",
       "      <td>1598.0</td>\n",
       "      <td>2480.0</td>\n",
       "    </tr>\n",
       "    <tr>\n",
       "      <th>2019.0</th>\n",
       "      <td>822.0</td>\n",
       "      <td>1338.698297</td>\n",
       "      <td>296.402131</td>\n",
       "      <td>997.0</td>\n",
       "      <td>999.0</td>\n",
       "      <td>1498.0</td>\n",
       "      <td>1598.0</td>\n",
       "      <td>2480.0</td>\n",
       "    </tr>\n",
       "    <tr>\n",
       "      <th rowspan=\"4\" valign=\"top\">opel_astra</th>\n",
       "      <th>2016.0</th>\n",
       "      <td>498.0</td>\n",
       "      <td>1534.534137</td>\n",
       "      <td>158.972176</td>\n",
       "      <td>998.0</td>\n",
       "      <td>1598.0</td>\n",
       "      <td>1598.0</td>\n",
       "      <td>1598.0</td>\n",
       "      <td>1686.0</td>\n",
       "    </tr>\n",
       "    <tr>\n",
       "      <th>2017.0</th>\n",
       "      <td>580.0</td>\n",
       "      <td>1480.041379</td>\n",
       "      <td>194.797486</td>\n",
       "      <td>998.0</td>\n",
       "      <td>1399.0</td>\n",
       "      <td>1598.0</td>\n",
       "      <td>1598.0</td>\n",
       "      <td>1696.0</td>\n",
       "    </tr>\n",
       "    <tr>\n",
       "      <th>2018.0</th>\n",
       "      <td>692.0</td>\n",
       "      <td>1409.958092</td>\n",
       "      <td>588.597278</td>\n",
       "      <td>996.0</td>\n",
       "      <td>1399.0</td>\n",
       "      <td>1399.0</td>\n",
       "      <td>1598.0</td>\n",
       "      <td>15898.0</td>\n",
       "    </tr>\n",
       "    <tr>\n",
       "      <th>2019.0</th>\n",
       "      <td>667.0</td>\n",
       "      <td>1322.338831</td>\n",
       "      <td>246.293794</td>\n",
       "      <td>139.0</td>\n",
       "      <td>999.0</td>\n",
       "      <td>1399.0</td>\n",
       "      <td>1399.5</td>\n",
       "      <td>1600.0</td>\n",
       "    </tr>\n",
       "    <tr>\n",
       "      <th rowspan=\"4\" valign=\"top\">opel_corsa</th>\n",
       "      <th>2016.0</th>\n",
       "      <td>388.0</td>\n",
       "      <td>1283.912371</td>\n",
       "      <td>78.534856</td>\n",
       "      <td>998.0</td>\n",
       "      <td>1229.0</td>\n",
       "      <td>1248.0</td>\n",
       "      <td>1398.0</td>\n",
       "      <td>1400.0</td>\n",
       "    </tr>\n",
       "    <tr>\n",
       "      <th>2017.0</th>\n",
       "      <td>374.0</td>\n",
       "      <td>1321.267380</td>\n",
       "      <td>84.783453</td>\n",
       "      <td>998.0</td>\n",
       "      <td>1229.0</td>\n",
       "      <td>1398.0</td>\n",
       "      <td>1398.0</td>\n",
       "      <td>1400.0</td>\n",
       "    </tr>\n",
       "    <tr>\n",
       "      <th>2018.0</th>\n",
       "      <td>667.0</td>\n",
       "      <td>1365.467766</td>\n",
       "      <td>68.156617</td>\n",
       "      <td>999.0</td>\n",
       "      <td>1398.0</td>\n",
       "      <td>1398.0</td>\n",
       "      <td>1398.0</td>\n",
       "      <td>1400.0</td>\n",
       "    </tr>\n",
       "    <tr>\n",
       "      <th>2019.0</th>\n",
       "      <td>716.0</td>\n",
       "      <td>1334.977654</td>\n",
       "      <td>96.593660</td>\n",
       "      <td>122.0</td>\n",
       "      <td>1229.0</td>\n",
       "      <td>1398.0</td>\n",
       "      <td>1398.0</td>\n",
       "      <td>1400.0</td>\n",
       "    </tr>\n",
       "    <tr>\n",
       "      <th rowspan=\"4\" valign=\"top\">opel_insignia</th>\n",
       "      <th>2016.0</th>\n",
       "      <td>555.0</td>\n",
       "      <td>1737.281081</td>\n",
       "      <td>645.575301</td>\n",
       "      <td>2.0</td>\n",
       "      <td>1598.0</td>\n",
       "      <td>1598.0</td>\n",
       "      <td>1956.0</td>\n",
       "      <td>16000.0</td>\n",
       "    </tr>\n",
       "    <tr>\n",
       "      <th>2017.0</th>\n",
       "      <td>568.0</td>\n",
       "      <td>1689.489437</td>\n",
       "      <td>180.228544</td>\n",
       "      <td>1364.0</td>\n",
       "      <td>1598.0</td>\n",
       "      <td>1598.0</td>\n",
       "      <td>1956.0</td>\n",
       "      <td>2000.0</td>\n",
       "    </tr>\n",
       "    <tr>\n",
       "      <th>2018.0</th>\n",
       "      <td>745.0</td>\n",
       "      <td>1634.920805</td>\n",
       "      <td>191.396587</td>\n",
       "      <td>1364.0</td>\n",
       "      <td>1490.0</td>\n",
       "      <td>1598.0</td>\n",
       "      <td>1600.0</td>\n",
       "      <td>2000.0</td>\n",
       "    </tr>\n",
       "    <tr>\n",
       "      <th>2019.0</th>\n",
       "      <td>655.0</td>\n",
       "      <td>1607.622901</td>\n",
       "      <td>357.203087</td>\n",
       "      <td>1.0</td>\n",
       "      <td>1490.0</td>\n",
       "      <td>1598.0</td>\n",
       "      <td>1956.0</td>\n",
       "      <td>2000.0</td>\n",
       "    </tr>\n",
       "    <tr>\n",
       "      <th rowspan=\"4\" valign=\"top\">renault_clio</th>\n",
       "      <th>2016.0</th>\n",
       "      <td>371.0</td>\n",
       "      <td>1350.118598</td>\n",
       "      <td>163.318300</td>\n",
       "      <td>898.0</td>\n",
       "      <td>1197.0</td>\n",
       "      <td>1461.0</td>\n",
       "      <td>1461.0</td>\n",
       "      <td>1618.0</td>\n",
       "    </tr>\n",
       "    <tr>\n",
       "      <th>2017.0</th>\n",
       "      <td>412.0</td>\n",
       "      <td>1316.128641</td>\n",
       "      <td>194.989002</td>\n",
       "      <td>1.0</td>\n",
       "      <td>1149.0</td>\n",
       "      <td>1461.0</td>\n",
       "      <td>1461.0</td>\n",
       "      <td>1618.0</td>\n",
       "    </tr>\n",
       "    <tr>\n",
       "      <th>2018.0</th>\n",
       "      <td>568.0</td>\n",
       "      <td>1289.544014</td>\n",
       "      <td>282.744963</td>\n",
       "      <td>1.0</td>\n",
       "      <td>1149.0</td>\n",
       "      <td>1197.0</td>\n",
       "      <td>1461.0</td>\n",
       "      <td>1618.0</td>\n",
       "    </tr>\n",
       "    <tr>\n",
       "      <th>2019.0</th>\n",
       "      <td>397.0</td>\n",
       "      <td>993.871537</td>\n",
       "      <td>199.743234</td>\n",
       "      <td>890.0</td>\n",
       "      <td>898.0</td>\n",
       "      <td>898.0</td>\n",
       "      <td>898.0</td>\n",
       "      <td>1618.0</td>\n",
       "    </tr>\n",
       "    <tr>\n",
       "      <th rowspan=\"4\" valign=\"top\">renault_espace</th>\n",
       "      <th>2016.0</th>\n",
       "      <td>276.0</td>\n",
       "      <td>1601.641304</td>\n",
       "      <td>24.737861</td>\n",
       "      <td>1580.0</td>\n",
       "      <td>1598.0</td>\n",
       "      <td>1598.0</td>\n",
       "      <td>1598.0</td>\n",
       "      <td>1997.0</td>\n",
       "    </tr>\n",
       "    <tr>\n",
       "      <th>2017.0</th>\n",
       "      <td>144.0</td>\n",
       "      <td>1612.819444</td>\n",
       "      <td>49.115342</td>\n",
       "      <td>1589.0</td>\n",
       "      <td>1598.0</td>\n",
       "      <td>1598.0</td>\n",
       "      <td>1618.0</td>\n",
       "      <td>2000.0</td>\n",
       "    </tr>\n",
       "    <tr>\n",
       "      <th>2018.0</th>\n",
       "      <td>227.0</td>\n",
       "      <td>1659.039648</td>\n",
       "      <td>92.052953</td>\n",
       "      <td>1598.0</td>\n",
       "      <td>1598.0</td>\n",
       "      <td>1598.0</td>\n",
       "      <td>1798.0</td>\n",
       "      <td>1798.0</td>\n",
       "    </tr>\n",
       "    <tr>\n",
       "      <th>2019.0</th>\n",
       "      <td>257.0</td>\n",
       "      <td>1815.478599</td>\n",
       "      <td>288.120635</td>\n",
       "      <td>160.0</td>\n",
       "      <td>1798.0</td>\n",
       "      <td>1798.0</td>\n",
       "      <td>1997.0</td>\n",
       "      <td>1997.0</td>\n",
       "    </tr>\n",
       "  </tbody>\n",
       "</table>\n",
       "</div>"
      ],
      "text/plain": [
       "                                   count         mean         std     min  \\\n",
       "make_model     first_registration                                           \n",
       "audi_a1        2016.0              622.0  1283.254019  244.469974   999.0   \n",
       "               2017.0              424.0  1261.502358  248.676259   929.0   \n",
       "               2018.0              735.0  1236.282993  252.003312   929.0   \n",
       "               2019.0              804.0  1033.807214  155.925339   995.0   \n",
       "audi_a3        2016.0              791.0  1635.101138  213.117932   999.0   \n",
       "               2017.0              666.0  1541.614114  268.762007   999.0   \n",
       "               2018.0              768.0  1539.876302  265.731612   999.0   \n",
       "               2019.0              822.0  1338.698297  296.402131   997.0   \n",
       "opel_astra     2016.0              498.0  1534.534137  158.972176   998.0   \n",
       "               2017.0              580.0  1480.041379  194.797486   998.0   \n",
       "               2018.0              692.0  1409.958092  588.597278   996.0   \n",
       "               2019.0              667.0  1322.338831  246.293794   139.0   \n",
       "opel_corsa     2016.0              388.0  1283.912371   78.534856   998.0   \n",
       "               2017.0              374.0  1321.267380   84.783453   998.0   \n",
       "               2018.0              667.0  1365.467766   68.156617   999.0   \n",
       "               2019.0              716.0  1334.977654   96.593660   122.0   \n",
       "opel_insignia  2016.0              555.0  1737.281081  645.575301     2.0   \n",
       "               2017.0              568.0  1689.489437  180.228544  1364.0   \n",
       "               2018.0              745.0  1634.920805  191.396587  1364.0   \n",
       "               2019.0              655.0  1607.622901  357.203087     1.0   \n",
       "renault_clio   2016.0              371.0  1350.118598  163.318300   898.0   \n",
       "               2017.0              412.0  1316.128641  194.989002     1.0   \n",
       "               2018.0              568.0  1289.544014  282.744963     1.0   \n",
       "               2019.0              397.0   993.871537  199.743234   890.0   \n",
       "renault_espace 2016.0              276.0  1601.641304   24.737861  1580.0   \n",
       "               2017.0              144.0  1612.819444   49.115342  1589.0   \n",
       "               2018.0              227.0  1659.039648   92.052953  1598.0   \n",
       "               2019.0              257.0  1815.478599  288.120635   160.0   \n",
       "\n",
       "                                      25%     50%     75%      max  \n",
       "make_model     first_registration                                   \n",
       "audi_a1        2016.0               999.0  1395.0  1422.0   1798.0  \n",
       "               2017.0               999.0  1395.0  1422.0   1798.0  \n",
       "               2018.0               999.0   999.0  1422.0   1798.0  \n",
       "               2019.0               999.0   999.0   999.0   1984.0  \n",
       "audi_a3        2016.0              1598.0  1598.0  1598.0   2480.0  \n",
       "               2017.0              1598.0  1598.0  1598.0   2480.0  \n",
       "               2018.0              1598.0  1598.0  1598.0   2480.0  \n",
       "               2019.0               999.0  1498.0  1598.0   2480.0  \n",
       "opel_astra     2016.0              1598.0  1598.0  1598.0   1686.0  \n",
       "               2017.0              1399.0  1598.0  1598.0   1696.0  \n",
       "               2018.0              1399.0  1399.0  1598.0  15898.0  \n",
       "               2019.0               999.0  1399.0  1399.5   1600.0  \n",
       "opel_corsa     2016.0              1229.0  1248.0  1398.0   1400.0  \n",
       "               2017.0              1229.0  1398.0  1398.0   1400.0  \n",
       "               2018.0              1398.0  1398.0  1398.0   1400.0  \n",
       "               2019.0              1229.0  1398.0  1398.0   1400.0  \n",
       "opel_insignia  2016.0              1598.0  1598.0  1956.0  16000.0  \n",
       "               2017.0              1598.0  1598.0  1956.0   2000.0  \n",
       "               2018.0              1490.0  1598.0  1600.0   2000.0  \n",
       "               2019.0              1490.0  1598.0  1956.0   2000.0  \n",
       "renault_clio   2016.0              1197.0  1461.0  1461.0   1618.0  \n",
       "               2017.0              1149.0  1461.0  1461.0   1618.0  \n",
       "               2018.0              1149.0  1197.0  1461.0   1618.0  \n",
       "               2019.0               898.0   898.0   898.0   1618.0  \n",
       "renault_espace 2016.0              1598.0  1598.0  1598.0   1997.0  \n",
       "               2017.0              1598.0  1598.0  1618.0   2000.0  \n",
       "               2018.0              1598.0  1598.0  1798.0   1798.0  \n",
       "               2019.0              1798.0  1798.0  1997.0   1997.0  "
      ]
     },
     "execution_count": 90,
     "metadata": {},
     "output_type": "execute_result"
    }
   ],
   "source": [
    "df.groupby(['make_model','first_registration']).displacement.describe()"
   ]
  },
  {
   "cell_type": "code",
   "execution_count": 91,
   "id": "e482a3fd",
   "metadata": {},
   "outputs": [],
   "source": [
    "df['for_displacement'] = df.groupby(['make_model','first_registration']).displacement.ngroup()"
   ]
  },
  {
   "cell_type": "code",
   "execution_count": 92,
   "id": "76058510",
   "metadata": {},
   "outputs": [],
   "source": [
    "df = fill(df, 'displacement', 'for_displacement', 'median')"
   ]
  },
  {
   "cell_type": "code",
   "execution_count": 93,
   "id": "c73df755",
   "metadata": {},
   "outputs": [
    {
     "data": {
      "text/plain": [
       "0"
      ]
     },
     "execution_count": 93,
     "metadata": {},
     "output_type": "execute_result"
    }
   ],
   "source": [
    "df.displacement.isna().sum()"
   ]
  },
  {
   "cell_type": "code",
   "execution_count": 94,
   "id": "bce6a772",
   "metadata": {},
   "outputs": [],
   "source": [
    "df = df.drop('for_displacement', axis=1)"
   ]
  },
  {
   "cell_type": "markdown",
   "id": "9a60947e",
   "metadata": {},
   "source": [
    "### impute 'cylinders'\n",
    "\n",
    "* research on this topic shows that apart from a few tuned up cars, we expect the cylinders in a car engine by make model to be the same.\n",
    "* we can impute missing cylinder numbers based on make_model."
   ]
  },
  {
   "cell_type": "code",
   "execution_count": 95,
   "id": "72b1a335",
   "metadata": {},
   "outputs": [
    {
     "data": {
      "text/plain": [
       "4.0    8072\n",
       "NaN    5678\n",
       "3.0    2104\n",
       "5.0      22\n",
       "6.0       3\n",
       "8.0       2\n",
       "2.0       2\n",
       "1.0       1\n",
       "Name: cylinders, dtype: int64"
      ]
     },
     "execution_count": 95,
     "metadata": {},
     "output_type": "execute_result"
    }
   ],
   "source": [
    "df.cylinders.value_counts(dropna=False)"
   ]
  },
  {
   "cell_type": "code",
   "execution_count": 96,
   "id": "6a262b7c",
   "metadata": {},
   "outputs": [],
   "source": [
    "df = fill(df, 'cylinders', 'make_model', 'mode')"
   ]
  },
  {
   "cell_type": "code",
   "execution_count": 97,
   "id": "eba6c68d",
   "metadata": {},
   "outputs": [
    {
     "data": {
      "text/plain": [
       "4.0    12891\n",
       "3.0     2963\n",
       "5.0       22\n",
       "6.0        3\n",
       "8.0        2\n",
       "2.0        2\n",
       "1.0        1\n",
       "Name: cylinders, dtype: int64"
      ]
     },
     "execution_count": 97,
     "metadata": {},
     "output_type": "execute_result"
    }
   ],
   "source": [
    "df.cylinders.value_counts(dropna=False)"
   ]
  },
  {
   "cell_type": "code",
   "execution_count": 98,
   "id": "ffd21af6",
   "metadata": {},
   "outputs": [
    {
     "data": {
      "text/plain": [
       "0"
      ]
     },
     "execution_count": 98,
     "metadata": {},
     "output_type": "execute_result"
    }
   ],
   "source": [
    "df.cylinders.isna().sum()"
   ]
  },
  {
   "cell_type": "markdown",
   "id": "43a1bf64",
   "metadata": {},
   "source": [
    "### impute 'weight'\n",
    "\n",
    "* imputing weight using make_model and first_registration"
   ]
  },
  {
   "cell_type": "code",
   "execution_count": 99,
   "id": "fa92a413",
   "metadata": {},
   "outputs": [
    {
     "data": {
      "text/plain": [
       "6939"
      ]
     },
     "execution_count": 99,
     "metadata": {},
     "output_type": "execute_result"
    }
   ],
   "source": [
    "df.weight.isna().sum()"
   ]
  },
  {
   "cell_type": "code",
   "execution_count": 100,
   "id": "dd044c8f",
   "metadata": {},
   "outputs": [],
   "source": [
    "df['for_weight'] = df.groupby(['make_model', 'first_registration']).ngroup()"
   ]
  },
  {
   "cell_type": "code",
   "execution_count": 101,
   "id": "8448d6be",
   "metadata": {},
   "outputs": [],
   "source": [
    "df = fill(df, 'weight', 'for_weight', 'median')"
   ]
  },
  {
   "cell_type": "code",
   "execution_count": 102,
   "id": "d08ac647",
   "metadata": {},
   "outputs": [
    {
     "data": {
      "text/plain": [
       "0"
      ]
     },
     "execution_count": 102,
     "metadata": {},
     "output_type": "execute_result"
    }
   ],
   "source": [
    "df.weight.isna().sum()"
   ]
  },
  {
   "cell_type": "code",
   "execution_count": 103,
   "id": "98fdc59d",
   "metadata": {},
   "outputs": [],
   "source": [
    "df = df.drop('for_weight', axis=1)"
   ]
  },
  {
   "cell_type": "markdown",
   "id": "3f48def8",
   "metadata": {},
   "source": [
    "### impute 'drive_chain'\n",
    "\n",
    "* search shows that all the models described here are also available in 4WD\n",
    "* first assign 'rear' drive_chain as missing.\n",
    "* then impute using random assignment of front and 4WD based on proportions within class by make_model and first_registration"
   ]
  },
  {
   "cell_type": "code",
   "execution_count": 104,
   "id": "9dc54dd5",
   "metadata": {},
   "outputs": [
    {
     "data": {
      "text/plain": [
       "6826"
      ]
     },
     "execution_count": 104,
     "metadata": {},
     "output_type": "execute_result"
    }
   ],
   "source": [
    "df.drive_chain.isna().sum()"
   ]
  },
  {
   "cell_type": "code",
   "execution_count": 105,
   "id": "35b57935",
   "metadata": {},
   "outputs": [
    {
     "data": {
      "text/plain": [
       "front    8885\n",
       "4WD       169\n",
       "rear        4\n",
       "Name: drive_chain, dtype: int64"
      ]
     },
     "execution_count": 105,
     "metadata": {},
     "output_type": "execute_result"
    }
   ],
   "source": [
    "df.drive_chain.value_counts()"
   ]
  },
  {
   "cell_type": "code",
   "execution_count": 106,
   "id": "f0b5ae90",
   "metadata": {},
   "outputs": [],
   "source": [
    "df.drive_chain = [float('nan') if x=='rear' else x for x in df.drive_chain]"
   ]
  },
  {
   "cell_type": "code",
   "execution_count": 107,
   "id": "4b0ba4d8",
   "metadata": {},
   "outputs": [
    {
     "data": {
      "text/plain": [
       "make_model      drive_chain\n",
       "audi_a1         front          1693\n",
       "                NaN             918\n",
       "                4WD               3\n",
       "audi_a3         front          2008\n",
       "                NaN            1070\n",
       "                4WD              19\n",
       "opel_astra      front          1346\n",
       "                NaN            1178\n",
       "                4WD               2\n",
       "opel_corsa      front          1170\n",
       "                NaN            1049\n",
       "opel_insignia   front          1409\n",
       "                NaN            1095\n",
       "                4WD              94\n",
       "renault_clio    NaN            1033\n",
       "                front           795\n",
       "                4WD              11\n",
       "renault_espace  NaN             487\n",
       "                front           464\n",
       "                4WD              40\n",
       "Name: drive_chain, dtype: int64"
      ]
     },
     "execution_count": 107,
     "metadata": {},
     "output_type": "execute_result"
    }
   ],
   "source": [
    "df.groupby('make_model').drive_chain.value_counts(dropna=False)"
   ]
  },
  {
   "cell_type": "code",
   "execution_count": 108,
   "id": "f21ba55c",
   "metadata": {},
   "outputs": [],
   "source": [
    "df['for_drivechain'] = df.groupby(['make_model', 'first_registration']).ngroup()"
   ]
  },
  {
   "cell_type": "code",
   "execution_count": 109,
   "id": "c29a56d6",
   "metadata": {},
   "outputs": [],
   "source": [
    "for g in df.for_drivechain.unique():\n",
    "    vc = [v for v in df[df.for_drivechain==g].drive_chain.value_counts()]\n",
    "    if len(vc) == 1:\n",
    "        df.loc[(df.for_drivechain==g) & (df.drive_chain.isna()), 'drive_chain'] = \\\n",
    "            df.loc[(df.for_drivechain==g) & (df.drive_chain.isna()), 'drive_chain'].fillna('front')\n",
    "    else:\n",
    "        df.loc[(df.for_drivechain==g) & (df.drive_chain.isna()), 'drive_chain'] = \\\n",
    "            [choices(('front','4WD'), weights=vc)[0] for \\\n",
    "                 x in df.loc[(df.for_drivechain==g) & (df.drive_chain.isna()), 'drive_chain']]"
   ]
  },
  {
   "cell_type": "code",
   "execution_count": 110,
   "id": "ac841de0",
   "metadata": {},
   "outputs": [
    {
     "data": {
      "text/plain": [
       "make_model      drive_chain\n",
       "audi_a1         front          2609\n",
       "                4WD               5\n",
       "audi_a3         front          3065\n",
       "                4WD              32\n",
       "opel_astra      front          2523\n",
       "                4WD               3\n",
       "opel_corsa      front          2219\n",
       "opel_insignia   front          2464\n",
       "                4WD             134\n",
       "renault_clio    front          1812\n",
       "                4WD              27\n",
       "renault_espace  front           928\n",
       "                4WD              63\n",
       "Name: drive_chain, dtype: int64"
      ]
     },
     "execution_count": 110,
     "metadata": {},
     "output_type": "execute_result"
    }
   ],
   "source": [
    "df.groupby('make_model').drive_chain.value_counts(dropna=False)"
   ]
  },
  {
   "cell_type": "code",
   "execution_count": 111,
   "id": "8e4d10f6",
   "metadata": {},
   "outputs": [
    {
     "data": {
      "text/plain": [
       "0"
      ]
     },
     "execution_count": 111,
     "metadata": {},
     "output_type": "execute_result"
    }
   ],
   "source": [
    "df.drive_chain.isna().sum()"
   ]
  },
  {
   "cell_type": "code",
   "execution_count": 112,
   "id": "129f3f0b",
   "metadata": {},
   "outputs": [],
   "source": [
    "df = df.drop('for_drivechain', axis=1)"
   ]
  },
  {
   "cell_type": "markdown",
   "id": "5f7091e2",
   "metadata": {},
   "source": [
    "### impute 'co2_emission'\n",
    "\n",
    "* impute based on mode of classes based on 'make_model', 'first_registration'"
   ]
  },
  {
   "cell_type": "code",
   "execution_count": 113,
   "id": "f1b26c55",
   "metadata": {},
   "outputs": [
    {
     "data": {
      "text/plain": [
       "2434"
      ]
     },
     "execution_count": 113,
     "metadata": {},
     "output_type": "execute_result"
    }
   ],
   "source": [
    "df.co2_emission.isna().sum()"
   ]
  },
  {
   "cell_type": "code",
   "execution_count": 114,
   "id": "2c5bf677",
   "metadata": {},
   "outputs": [
    {
     "data": {
      "text/plain": [
       "Diesel                                                   900\n",
       "Gasoline                                                 866\n",
       "Diesel (Particulate Filter)                              431\n",
       "Super 95                                                 161\n",
       "Super 95,Regular,Benzine 91                               17\n",
       "Super 95,Super E10 95                                     14\n",
       "Regular,Benzine 91                                        11\n",
       "Gasoline (Particulate Filter)                              7\n",
       "CNG                                                        6\n",
       "LPG                                                        4\n",
       "Others                                                     3\n",
       "Super Plus 98                                              2\n",
       "Super E10 95                                               2\n",
       "Liquid petroleum gas (LPG)                                 2\n",
       "Others (Particulate Filter)                                1\n",
       "Regular,Benzine 91 (Particulate Filter)                    1\n",
       "Super E10 95 (Particulate Filter)                          1\n",
       "Domestic gas H                                             1\n",
       "Super 95,Super Plus 98,Super E10 95,Super Plus E10 98      1\n",
       "Super E10 95,Super 95                                      1\n",
       "Electric                                                   1\n",
       "Electric,Gasoline                                          1\n",
       "Name: fuel, dtype: int64"
      ]
     },
     "execution_count": 114,
     "metadata": {},
     "output_type": "execute_result"
    }
   ],
   "source": [
    "df[df.co2_emission.isna()].fuel.value_counts()"
   ]
  },
  {
   "cell_type": "code",
   "execution_count": 115,
   "id": "d2cc5cfb",
   "metadata": {},
   "outputs": [
    {
     "data": {
      "text/html": [
       "<div>\n",
       "<style scoped>\n",
       "    .dataframe tbody tr th:only-of-type {\n",
       "        vertical-align: middle;\n",
       "    }\n",
       "\n",
       "    .dataframe tbody tr th {\n",
       "        vertical-align: top;\n",
       "    }\n",
       "\n",
       "    .dataframe thead th {\n",
       "        text-align: right;\n",
       "    }\n",
       "</style>\n",
       "<table border=\"1\" class=\"dataframe\">\n",
       "  <thead>\n",
       "    <tr style=\"text-align: right;\">\n",
       "      <th></th>\n",
       "      <th></th>\n",
       "      <th>count</th>\n",
       "      <th>mean</th>\n",
       "      <th>std</th>\n",
       "      <th>min</th>\n",
       "      <th>25%</th>\n",
       "      <th>50%</th>\n",
       "      <th>75%</th>\n",
       "      <th>max</th>\n",
       "    </tr>\n",
       "    <tr>\n",
       "      <th>make_model</th>\n",
       "      <th>first_registration</th>\n",
       "      <th></th>\n",
       "      <th></th>\n",
       "      <th></th>\n",
       "      <th></th>\n",
       "      <th></th>\n",
       "      <th></th>\n",
       "      <th></th>\n",
       "      <th></th>\n",
       "    </tr>\n",
       "  </thead>\n",
       "  <tbody>\n",
       "    <tr>\n",
       "      <th rowspan=\"4\" valign=\"top\">audi_a1</th>\n",
       "      <th>2016.0</th>\n",
       "      <td>571.0</td>\n",
       "      <td>101.357268</td>\n",
       "      <td>11.726048</td>\n",
       "      <td>90.0</td>\n",
       "      <td>97.00</td>\n",
       "      <td>99.0</td>\n",
       "      <td>104.00</td>\n",
       "      <td>331.0</td>\n",
       "    </tr>\n",
       "    <tr>\n",
       "      <th>2017.0</th>\n",
       "      <td>368.0</td>\n",
       "      <td>103.182065</td>\n",
       "      <td>8.403775</td>\n",
       "      <td>90.0</td>\n",
       "      <td>97.00</td>\n",
       "      <td>99.5</td>\n",
       "      <td>104.25</td>\n",
       "      <td>136.0</td>\n",
       "    </tr>\n",
       "    <tr>\n",
       "      <th>2018.0</th>\n",
       "      <td>679.0</td>\n",
       "      <td>102.686303</td>\n",
       "      <td>5.930793</td>\n",
       "      <td>89.0</td>\n",
       "      <td>98.00</td>\n",
       "      <td>102.0</td>\n",
       "      <td>104.00</td>\n",
       "      <td>134.0</td>\n",
       "    </tr>\n",
       "    <tr>\n",
       "      <th>2019.0</th>\n",
       "      <td>686.0</td>\n",
       "      <td>109.297376</td>\n",
       "      <td>5.653671</td>\n",
       "      <td>92.0</td>\n",
       "      <td>108.00</td>\n",
       "      <td>110.0</td>\n",
       "      <td>111.00</td>\n",
       "      <td>142.0</td>\n",
       "    </tr>\n",
       "    <tr>\n",
       "      <th rowspan=\"4\" valign=\"top\">audi_a3</th>\n",
       "      <th>2016.0</th>\n",
       "      <td>679.0</td>\n",
       "      <td>106.026510</td>\n",
       "      <td>10.044703</td>\n",
       "      <td>85.0</td>\n",
       "      <td>99.00</td>\n",
       "      <td>101.0</td>\n",
       "      <td>114.00</td>\n",
       "      <td>189.0</td>\n",
       "    </tr>\n",
       "    <tr>\n",
       "      <th>2017.0</th>\n",
       "      <td>601.0</td>\n",
       "      <td>106.838602</td>\n",
       "      <td>8.835472</td>\n",
       "      <td>88.0</td>\n",
       "      <td>103.00</td>\n",
       "      <td>106.0</td>\n",
       "      <td>109.00</td>\n",
       "      <td>189.0</td>\n",
       "    </tr>\n",
       "    <tr>\n",
       "      <th>2018.0</th>\n",
       "      <td>716.0</td>\n",
       "      <td>110.736034</td>\n",
       "      <td>50.036086</td>\n",
       "      <td>36.0</td>\n",
       "      <td>103.75</td>\n",
       "      <td>106.0</td>\n",
       "      <td>108.00</td>\n",
       "      <td>1060.0</td>\n",
       "    </tr>\n",
       "    <tr>\n",
       "      <th>2019.0</th>\n",
       "      <td>752.0</td>\n",
       "      <td>113.513298</td>\n",
       "      <td>8.334059</td>\n",
       "      <td>95.0</td>\n",
       "      <td>106.75</td>\n",
       "      <td>114.0</td>\n",
       "      <td>117.00</td>\n",
       "      <td>194.0</td>\n",
       "    </tr>\n",
       "    <tr>\n",
       "      <th rowspan=\"4\" valign=\"top\">opel_astra</th>\n",
       "      <th>2016.0</th>\n",
       "      <td>410.0</td>\n",
       "      <td>138.826829</td>\n",
       "      <td>591.751940</td>\n",
       "      <td>87.0</td>\n",
       "      <td>97.00</td>\n",
       "      <td>104.0</td>\n",
       "      <td>119.00</td>\n",
       "      <td>12087.0</td>\n",
       "    </tr>\n",
       "    <tr>\n",
       "      <th>2017.0</th>\n",
       "      <td>508.0</td>\n",
       "      <td>107.001969</td>\n",
       "      <td>13.476621</td>\n",
       "      <td>88.0</td>\n",
       "      <td>95.00</td>\n",
       "      <td>102.0</td>\n",
       "      <td>119.00</td>\n",
       "      <td>150.0</td>\n",
       "    </tr>\n",
       "    <tr>\n",
       "      <th>2018.0</th>\n",
       "      <td>630.0</td>\n",
       "      <td>154.752381</td>\n",
       "      <td>674.025358</td>\n",
       "      <td>88.0</td>\n",
       "      <td>104.00</td>\n",
       "      <td>119.0</td>\n",
       "      <td>127.00</td>\n",
       "      <td>12087.0</td>\n",
       "    </tr>\n",
       "    <tr>\n",
       "      <th>2019.0</th>\n",
       "      <td>539.0</td>\n",
       "      <td>126.230056</td>\n",
       "      <td>17.179756</td>\n",
       "      <td>0.0</td>\n",
       "      <td>114.00</td>\n",
       "      <td>128.0</td>\n",
       "      <td>135.00</td>\n",
       "      <td>170.0</td>\n",
       "    </tr>\n",
       "    <tr>\n",
       "      <th rowspan=\"4\" valign=\"top\">opel_corsa</th>\n",
       "      <th>2016.0</th>\n",
       "      <td>347.0</td>\n",
       "      <td>155.074928</td>\n",
       "      <td>655.286453</td>\n",
       "      <td>82.0</td>\n",
       "      <td>110.00</td>\n",
       "      <td>126.0</td>\n",
       "      <td>128.00</td>\n",
       "      <td>12324.0</td>\n",
       "    </tr>\n",
       "    <tr>\n",
       "      <th>2017.0</th>\n",
       "      <td>325.0</td>\n",
       "      <td>122.680000</td>\n",
       "      <td>8.925743</td>\n",
       "      <td>84.0</td>\n",
       "      <td>120.00</td>\n",
       "      <td>124.0</td>\n",
       "      <td>126.00</td>\n",
       "      <td>150.0</td>\n",
       "    </tr>\n",
       "    <tr>\n",
       "      <th>2018.0</th>\n",
       "      <td>597.0</td>\n",
       "      <td>126.936348</td>\n",
       "      <td>12.048391</td>\n",
       "      <td>51.0</td>\n",
       "      <td>120.00</td>\n",
       "      <td>124.0</td>\n",
       "      <td>137.00</td>\n",
       "      <td>170.0</td>\n",
       "    </tr>\n",
       "    <tr>\n",
       "      <th>2019.0</th>\n",
       "      <td>681.0</td>\n",
       "      <td>136.535977</td>\n",
       "      <td>9.812610</td>\n",
       "      <td>101.0</td>\n",
       "      <td>129.00</td>\n",
       "      <td>139.0</td>\n",
       "      <td>143.00</td>\n",
       "      <td>167.0</td>\n",
       "    </tr>\n",
       "    <tr>\n",
       "      <th rowspan=\"4\" valign=\"top\">opel_insignia</th>\n",
       "      <th>2016.0</th>\n",
       "      <td>460.0</td>\n",
       "      <td>127.889130</td>\n",
       "      <td>20.348026</td>\n",
       "      <td>98.0</td>\n",
       "      <td>109.00</td>\n",
       "      <td>129.0</td>\n",
       "      <td>144.25</td>\n",
       "      <td>253.0</td>\n",
       "    </tr>\n",
       "    <tr>\n",
       "      <th>2017.0</th>\n",
       "      <td>470.0</td>\n",
       "      <td>130.363830</td>\n",
       "      <td>19.204365</td>\n",
       "      <td>0.0</td>\n",
       "      <td>114.00</td>\n",
       "      <td>134.0</td>\n",
       "      <td>144.00</td>\n",
       "      <td>197.0</td>\n",
       "    </tr>\n",
       "    <tr>\n",
       "      <th>2018.0</th>\n",
       "      <td>657.0</td>\n",
       "      <td>179.292237</td>\n",
       "      <td>776.643868</td>\n",
       "      <td>5.0</td>\n",
       "      <td>133.00</td>\n",
       "      <td>138.0</td>\n",
       "      <td>142.00</td>\n",
       "      <td>14457.0</td>\n",
       "    </tr>\n",
       "    <tr>\n",
       "      <th>2019.0</th>\n",
       "      <td>512.0</td>\n",
       "      <td>144.984375</td>\n",
       "      <td>18.935459</td>\n",
       "      <td>5.0</td>\n",
       "      <td>136.00</td>\n",
       "      <td>145.0</td>\n",
       "      <td>150.00</td>\n",
       "      <td>199.0</td>\n",
       "    </tr>\n",
       "    <tr>\n",
       "      <th rowspan=\"4\" valign=\"top\">renault_clio</th>\n",
       "      <th>2016.0</th>\n",
       "      <td>322.0</td>\n",
       "      <td>103.813665</td>\n",
       "      <td>19.125493</td>\n",
       "      <td>82.0</td>\n",
       "      <td>85.00</td>\n",
       "      <td>95.0</td>\n",
       "      <td>126.00</td>\n",
       "      <td>140.0</td>\n",
       "    </tr>\n",
       "    <tr>\n",
       "      <th>2017.0</th>\n",
       "      <td>334.0</td>\n",
       "      <td>106.245509</td>\n",
       "      <td>19.518211</td>\n",
       "      <td>82.0</td>\n",
       "      <td>85.00</td>\n",
       "      <td>105.0</td>\n",
       "      <td>126.00</td>\n",
       "      <td>140.0</td>\n",
       "    </tr>\n",
       "    <tr>\n",
       "      <th>2018.0</th>\n",
       "      <td>500.0</td>\n",
       "      <td>118.730000</td>\n",
       "      <td>16.778562</td>\n",
       "      <td>82.0</td>\n",
       "      <td>113.00</td>\n",
       "      <td>120.0</td>\n",
       "      <td>133.00</td>\n",
       "      <td>140.0</td>\n",
       "    </tr>\n",
       "    <tr>\n",
       "      <th>2019.0</th>\n",
       "      <td>355.0</td>\n",
       "      <td>114.895775</td>\n",
       "      <td>6.805021</td>\n",
       "      <td>87.0</td>\n",
       "      <td>113.00</td>\n",
       "      <td>113.0</td>\n",
       "      <td>118.00</td>\n",
       "      <td>140.0</td>\n",
       "    </tr>\n",
       "    <tr>\n",
       "      <th rowspan=\"4\" valign=\"top\">renault_espace</th>\n",
       "      <th>2016.0</th>\n",
       "      <td>243.0</td>\n",
       "      <td>122.757202</td>\n",
       "      <td>7.476319</td>\n",
       "      <td>116.0</td>\n",
       "      <td>120.00</td>\n",
       "      <td>120.0</td>\n",
       "      <td>123.00</td>\n",
       "      <td>147.0</td>\n",
       "    </tr>\n",
       "    <tr>\n",
       "      <th>2017.0</th>\n",
       "      <td>119.0</td>\n",
       "      <td>130.310924</td>\n",
       "      <td>14.529775</td>\n",
       "      <td>116.0</td>\n",
       "      <td>120.00</td>\n",
       "      <td>120.0</td>\n",
       "      <td>153.00</td>\n",
       "      <td>153.0</td>\n",
       "    </tr>\n",
       "    <tr>\n",
       "      <th>2018.0</th>\n",
       "      <td>177.0</td>\n",
       "      <td>134.101695</td>\n",
       "      <td>17.169967</td>\n",
       "      <td>116.0</td>\n",
       "      <td>120.00</td>\n",
       "      <td>123.0</td>\n",
       "      <td>153.00</td>\n",
       "      <td>168.0</td>\n",
       "    </tr>\n",
       "    <tr>\n",
       "      <th>2019.0</th>\n",
       "      <td>212.0</td>\n",
       "      <td>149.995283</td>\n",
       "      <td>17.608566</td>\n",
       "      <td>116.0</td>\n",
       "      <td>139.00</td>\n",
       "      <td>151.5</td>\n",
       "      <td>168.00</td>\n",
       "      <td>194.0</td>\n",
       "    </tr>\n",
       "  </tbody>\n",
       "</table>\n",
       "</div>"
      ],
      "text/plain": [
       "                                   count        mean         std    min  \\\n",
       "make_model     first_registration                                         \n",
       "audi_a1        2016.0              571.0  101.357268   11.726048   90.0   \n",
       "               2017.0              368.0  103.182065    8.403775   90.0   \n",
       "               2018.0              679.0  102.686303    5.930793   89.0   \n",
       "               2019.0              686.0  109.297376    5.653671   92.0   \n",
       "audi_a3        2016.0              679.0  106.026510   10.044703   85.0   \n",
       "               2017.0              601.0  106.838602    8.835472   88.0   \n",
       "               2018.0              716.0  110.736034   50.036086   36.0   \n",
       "               2019.0              752.0  113.513298    8.334059   95.0   \n",
       "opel_astra     2016.0              410.0  138.826829  591.751940   87.0   \n",
       "               2017.0              508.0  107.001969   13.476621   88.0   \n",
       "               2018.0              630.0  154.752381  674.025358   88.0   \n",
       "               2019.0              539.0  126.230056   17.179756    0.0   \n",
       "opel_corsa     2016.0              347.0  155.074928  655.286453   82.0   \n",
       "               2017.0              325.0  122.680000    8.925743   84.0   \n",
       "               2018.0              597.0  126.936348   12.048391   51.0   \n",
       "               2019.0              681.0  136.535977    9.812610  101.0   \n",
       "opel_insignia  2016.0              460.0  127.889130   20.348026   98.0   \n",
       "               2017.0              470.0  130.363830   19.204365    0.0   \n",
       "               2018.0              657.0  179.292237  776.643868    5.0   \n",
       "               2019.0              512.0  144.984375   18.935459    5.0   \n",
       "renault_clio   2016.0              322.0  103.813665   19.125493   82.0   \n",
       "               2017.0              334.0  106.245509   19.518211   82.0   \n",
       "               2018.0              500.0  118.730000   16.778562   82.0   \n",
       "               2019.0              355.0  114.895775    6.805021   87.0   \n",
       "renault_espace 2016.0              243.0  122.757202    7.476319  116.0   \n",
       "               2017.0              119.0  130.310924   14.529775  116.0   \n",
       "               2018.0              177.0  134.101695   17.169967  116.0   \n",
       "               2019.0              212.0  149.995283   17.608566  116.0   \n",
       "\n",
       "                                      25%    50%     75%      max  \n",
       "make_model     first_registration                                  \n",
       "audi_a1        2016.0               97.00   99.0  104.00    331.0  \n",
       "               2017.0               97.00   99.5  104.25    136.0  \n",
       "               2018.0               98.00  102.0  104.00    134.0  \n",
       "               2019.0              108.00  110.0  111.00    142.0  \n",
       "audi_a3        2016.0               99.00  101.0  114.00    189.0  \n",
       "               2017.0              103.00  106.0  109.00    189.0  \n",
       "               2018.0              103.75  106.0  108.00   1060.0  \n",
       "               2019.0              106.75  114.0  117.00    194.0  \n",
       "opel_astra     2016.0               97.00  104.0  119.00  12087.0  \n",
       "               2017.0               95.00  102.0  119.00    150.0  \n",
       "               2018.0              104.00  119.0  127.00  12087.0  \n",
       "               2019.0              114.00  128.0  135.00    170.0  \n",
       "opel_corsa     2016.0              110.00  126.0  128.00  12324.0  \n",
       "               2017.0              120.00  124.0  126.00    150.0  \n",
       "               2018.0              120.00  124.0  137.00    170.0  \n",
       "               2019.0              129.00  139.0  143.00    167.0  \n",
       "opel_insignia  2016.0              109.00  129.0  144.25    253.0  \n",
       "               2017.0              114.00  134.0  144.00    197.0  \n",
       "               2018.0              133.00  138.0  142.00  14457.0  \n",
       "               2019.0              136.00  145.0  150.00    199.0  \n",
       "renault_clio   2016.0               85.00   95.0  126.00    140.0  \n",
       "               2017.0               85.00  105.0  126.00    140.0  \n",
       "               2018.0              113.00  120.0  133.00    140.0  \n",
       "               2019.0              113.00  113.0  118.00    140.0  \n",
       "renault_espace 2016.0              120.00  120.0  123.00    147.0  \n",
       "               2017.0              120.00  120.0  153.00    153.0  \n",
       "               2018.0              120.00  123.0  153.00    168.0  \n",
       "               2019.0              139.00  151.5  168.00    194.0  "
      ]
     },
     "execution_count": 115,
     "metadata": {},
     "output_type": "execute_result"
    }
   ],
   "source": [
    "df.groupby(['make_model','first_registration']).co2_emission.describe()"
   ]
  },
  {
   "cell_type": "code",
   "execution_count": 116,
   "id": "07a0780e",
   "metadata": {},
   "outputs": [],
   "source": [
    "df['for_co2'] = df.groupby(['make_model', 'first_registration']).co2_emission.ngroup()"
   ]
  },
  {
   "cell_type": "code",
   "execution_count": 117,
   "id": "13b872a3",
   "metadata": {},
   "outputs": [],
   "source": [
    "df = fill(df, 'co2_emission','for_co2', 'mode')"
   ]
  },
  {
   "cell_type": "code",
   "execution_count": 118,
   "id": "643aba6d",
   "metadata": {},
   "outputs": [],
   "source": [
    "df = df.drop('for_co2', axis=1)"
   ]
  },
  {
   "cell_type": "code",
   "execution_count": 119,
   "id": "2455c39f",
   "metadata": {},
   "outputs": [
    {
     "data": {
      "text/plain": [
       "0"
      ]
     },
     "execution_count": 119,
     "metadata": {},
     "output_type": "execute_result"
    }
   ],
   "source": [
    "df.co2_emission.isna().sum()"
   ]
  },
  {
   "cell_type": "markdown",
   "id": "e55c9fea",
   "metadata": {},
   "source": [
    "### impute 'gears'\n",
    "\n",
    "* based on make_model"
   ]
  },
  {
   "cell_type": "code",
   "execution_count": 120,
   "id": "34f5cab9",
   "metadata": {},
   "outputs": [
    {
     "data": {
      "text/plain": [
       "4702"
      ]
     },
     "execution_count": 120,
     "metadata": {},
     "output_type": "execute_result"
    }
   ],
   "source": [
    "df.gears.isna().sum()"
   ]
  },
  {
   "cell_type": "code",
   "execution_count": 121,
   "id": "ec8dcb32",
   "metadata": {},
   "outputs": [
    {
     "data": {
      "text/plain": [
       "count    11182.000000\n",
       "mean         5.924432\n",
       "std          0.849098\n",
       "min          1.000000\n",
       "25%          5.000000\n",
       "50%          6.000000\n",
       "75%          6.000000\n",
       "max         50.000000\n",
       "Name: gears, dtype: float64"
      ]
     },
     "execution_count": 121,
     "metadata": {},
     "output_type": "execute_result"
    }
   ],
   "source": [
    "df.gears.describe()"
   ]
  },
  {
   "cell_type": "code",
   "execution_count": 122,
   "id": "5b303b31",
   "metadata": {},
   "outputs": [],
   "source": [
    "df = fill(df,'gears','make_model', 'mode')"
   ]
  },
  {
   "cell_type": "code",
   "execution_count": 123,
   "id": "9120149b",
   "metadata": {},
   "outputs": [
    {
     "data": {
      "text/plain": [
       "0"
      ]
     },
     "execution_count": 123,
     "metadata": {},
     "output_type": "execute_result"
    }
   ],
   "source": [
    "df.gears.isna().sum()"
   ]
  },
  {
   "cell_type": "markdown",
   "id": "8764f413",
   "metadata": {},
   "source": [
    "### impute 'country_version'\n",
    "\n",
    "* this may hold important information\n",
    "* research shows that the country versions of cars vary by the make_model and body_types. \n",
    "* I impute country_version based on mode of the 31 classes of combination of these.\n",
    "* for the 9 rows in 3 empty classes I will impute these with 'Germany', by far the most common entry.\n"
   ]
  },
  {
   "cell_type": "code",
   "execution_count": 124,
   "id": "8d94dd03",
   "metadata": {},
   "outputs": [
    {
     "data": {
      "text/plain": [
       "8308"
      ]
     },
     "execution_count": 124,
     "metadata": {},
     "output_type": "execute_result"
    }
   ],
   "source": [
    "df.country_version.isna().sum()"
   ]
  },
  {
   "cell_type": "code",
   "execution_count": 125,
   "id": "d434daec",
   "metadata": {
    "scrolled": true
   },
   "outputs": [
    {
     "data": {
      "text/plain": [
       "Germany           4501\n",
       "Italy             1038\n",
       "European Union     507\n",
       "Netherlands        464\n",
       "Spain              325\n",
       "Belgium            313\n",
       "Austria            208\n",
       "Czech Republic      52\n",
       "Poland              49\n",
       "France              38\n",
       "Denmark             33\n",
       "Hungary             28\n",
       "Slovakia             4\n",
       "Croatia              4\n",
       "Sweden               3\n",
       "Romania              2\n",
       "Bulgaria             2\n",
       "Luxembourg           1\n",
       "Switzerland          1\n",
       "Slovenia             1\n",
       "Egypt                1\n",
       "Serbia               1\n",
       "Name: country_version, dtype: int64"
      ]
     },
     "execution_count": 125,
     "metadata": {},
     "output_type": "execute_result"
    }
   ],
   "source": [
    "df.country_version.value_counts()"
   ]
  },
  {
   "cell_type": "code",
   "execution_count": 126,
   "id": "fd5c8c04",
   "metadata": {},
   "outputs": [],
   "source": [
    "df['for_country_version'] = df.groupby(['make_model', 'body_type']).country_version.ngroup()"
   ]
  },
  {
   "cell_type": "code",
   "execution_count": 127,
   "id": "9d0fc55c",
   "metadata": {},
   "outputs": [
    {
     "data": {
      "text/plain": [
       "31"
      ]
     },
     "execution_count": 127,
     "metadata": {},
     "output_type": "execute_result"
    }
   ],
   "source": [
    "df['for_country_version'].max()"
   ]
  },
  {
   "cell_type": "code",
   "execution_count": 128,
   "id": "80e20a56",
   "metadata": {},
   "outputs": [
    {
     "name": "stdout",
     "output_type": "stream",
     "text": [
      "empty class\n",
      "empty class\n",
      "empty class\n"
     ]
    }
   ],
   "source": [
    "df = fill(df, 'country_version', 'for_country_version', 'mode')"
   ]
  },
  {
   "cell_type": "code",
   "execution_count": 129,
   "id": "a76a961c",
   "metadata": {},
   "outputs": [],
   "source": [
    "df = df.drop('for_country_version', axis=1)"
   ]
  },
  {
   "cell_type": "code",
   "execution_count": 130,
   "id": "04186b4a",
   "metadata": {},
   "outputs": [
    {
     "data": {
      "text/plain": [
       "9"
      ]
     },
     "execution_count": 130,
     "metadata": {},
     "output_type": "execute_result"
    }
   ],
   "source": [
    "df.country_version.isna().sum()"
   ]
  },
  {
   "cell_type": "code",
   "execution_count": 131,
   "id": "7c446988",
   "metadata": {},
   "outputs": [],
   "source": [
    "df['country_version'] = df['country_version'].fillna('Germany')"
   ]
  },
  {
   "cell_type": "code",
   "execution_count": 132,
   "id": "09dcd7aa",
   "metadata": {},
   "outputs": [
    {
     "data": {
      "text/plain": [
       "0"
      ]
     },
     "execution_count": 132,
     "metadata": {},
     "output_type": "execute_result"
    }
   ],
   "source": [
    "df.country_version.isna().sum()"
   ]
  },
  {
   "cell_type": "markdown",
   "id": "1a6c3ae5",
   "metadata": {},
   "source": [
    "### impute 'warranty_mo'\n",
    "\n",
    "* min vaue of warranty_mo is 1. \n",
    "* we can infer the missing value is no warranty, or 0 months"
   ]
  },
  {
   "cell_type": "code",
   "execution_count": 133,
   "id": "cc53f374",
   "metadata": {},
   "outputs": [
    {
     "data": {
      "text/plain": [
       "11063"
      ]
     },
     "execution_count": 133,
     "metadata": {},
     "output_type": "execute_result"
    }
   ],
   "source": [
    "df.warranty_mo.isna().sum()"
   ]
  },
  {
   "cell_type": "code",
   "execution_count": 134,
   "id": "4daffb8e",
   "metadata": {},
   "outputs": [
    {
     "data": {
      "text/plain": [
       "1.0"
      ]
     },
     "execution_count": 134,
     "metadata": {},
     "output_type": "execute_result"
    }
   ],
   "source": [
    "df.warranty_mo.min()"
   ]
  },
  {
   "cell_type": "code",
   "execution_count": 135,
   "id": "9dcb63de",
   "metadata": {},
   "outputs": [],
   "source": [
    "df.warranty_mo = df.warranty_mo.fillna(0)"
   ]
  },
  {
   "cell_type": "code",
   "execution_count": 136,
   "id": "5c95bdf6",
   "metadata": {},
   "outputs": [
    {
     "data": {
      "text/plain": [
       "0"
      ]
     },
     "execution_count": 136,
     "metadata": {},
     "output_type": "execute_result"
    }
   ],
   "source": [
    "df.warranty_mo.isna().sum()"
   ]
  },
  {
   "cell_type": "markdown",
   "id": "445b49be",
   "metadata": {},
   "source": [
    "### impute 'upholstery_material ', 'upholstery_color', \n",
    "\n",
    "* I will use the mode of the class by 'body_color' for material and color, where there are clear winners\n",
    "* for 1 missing classes (2 rows) I will impute using 'cloth' for material and 'black' for color, the mode for the entire data\n"
   ]
  },
  {
   "cell_type": "code",
   "execution_count": 137,
   "id": "3a7fe592",
   "metadata": {
    "scrolled": true
   },
   "outputs": [
    {
     "data": {
      "text/plain": [
       "cloth           8404\n",
       "NaN             4487\n",
       "part leather    1499\n",
       "full leather    1009\n",
       "other            368\n",
       "velour            60\n",
       "alcantara         57\n",
       "Name: upholstery_material, dtype: int64"
      ]
     },
     "execution_count": 137,
     "metadata": {},
     "output_type": "execute_result"
    }
   ],
   "source": [
    "df.upholstery_material.value_counts(dropna=False)"
   ]
  },
  {
   "cell_type": "code",
   "execution_count": 138,
   "id": "dcec4ed4",
   "metadata": {},
   "outputs": [
    {
     "data": {
      "text/html": [
       "<div>\n",
       "<style scoped>\n",
       "    .dataframe tbody tr th:only-of-type {\n",
       "        vertical-align: middle;\n",
       "    }\n",
       "\n",
       "    .dataframe tbody tr th {\n",
       "        vertical-align: top;\n",
       "    }\n",
       "\n",
       "    .dataframe thead th {\n",
       "        text-align: right;\n",
       "    }\n",
       "</style>\n",
       "<table border=\"1\" class=\"dataframe\">\n",
       "  <thead>\n",
       "    <tr style=\"text-align: right;\">\n",
       "      <th></th>\n",
       "      <th>count</th>\n",
       "      <th>unique</th>\n",
       "      <th>top</th>\n",
       "      <th>freq</th>\n",
       "    </tr>\n",
       "    <tr>\n",
       "      <th>body_color</th>\n",
       "      <th></th>\n",
       "      <th></th>\n",
       "      <th></th>\n",
       "      <th></th>\n",
       "    </tr>\n",
       "  </thead>\n",
       "  <tbody>\n",
       "    <tr>\n",
       "      <th>beige</th>\n",
       "      <td>68</td>\n",
       "      <td>4</td>\n",
       "      <td>cloth</td>\n",
       "      <td>42</td>\n",
       "    </tr>\n",
       "    <tr>\n",
       "      <th>black</th>\n",
       "      <td>3118</td>\n",
       "      <td>6</td>\n",
       "      <td>cloth</td>\n",
       "      <td>2226</td>\n",
       "    </tr>\n",
       "    <tr>\n",
       "      <th>blue</th>\n",
       "      <td>1103</td>\n",
       "      <td>6</td>\n",
       "      <td>cloth</td>\n",
       "      <td>863</td>\n",
       "    </tr>\n",
       "    <tr>\n",
       "      <th>bronze</th>\n",
       "      <td>4</td>\n",
       "      <td>3</td>\n",
       "      <td>part leather</td>\n",
       "      <td>2</td>\n",
       "    </tr>\n",
       "    <tr>\n",
       "      <th>brown</th>\n",
       "      <td>216</td>\n",
       "      <td>6</td>\n",
       "      <td>cloth</td>\n",
       "      <td>150</td>\n",
       "    </tr>\n",
       "    <tr>\n",
       "      <th>gold</th>\n",
       "      <td>0</td>\n",
       "      <td>0</td>\n",
       "      <td>NaN</td>\n",
       "      <td>NaN</td>\n",
       "    </tr>\n",
       "    <tr>\n",
       "      <th>green</th>\n",
       "      <td>138</td>\n",
       "      <td>3</td>\n",
       "      <td>cloth</td>\n",
       "      <td>107</td>\n",
       "    </tr>\n",
       "    <tr>\n",
       "      <th>grey</th>\n",
       "      <td>2427</td>\n",
       "      <td>6</td>\n",
       "      <td>cloth</td>\n",
       "      <td>1658</td>\n",
       "    </tr>\n",
       "    <tr>\n",
       "      <th>orange</th>\n",
       "      <td>2</td>\n",
       "      <td>2</td>\n",
       "      <td>cloth</td>\n",
       "      <td>1</td>\n",
       "    </tr>\n",
       "    <tr>\n",
       "      <th>red</th>\n",
       "      <td>683</td>\n",
       "      <td>6</td>\n",
       "      <td>cloth</td>\n",
       "      <td>544</td>\n",
       "    </tr>\n",
       "    <tr>\n",
       "      <th>silver</th>\n",
       "      <td>1283</td>\n",
       "      <td>6</td>\n",
       "      <td>cloth</td>\n",
       "      <td>933</td>\n",
       "    </tr>\n",
       "    <tr>\n",
       "      <th>violet</th>\n",
       "      <td>7</td>\n",
       "      <td>2</td>\n",
       "      <td>full leather</td>\n",
       "      <td>6</td>\n",
       "    </tr>\n",
       "    <tr>\n",
       "      <th>white</th>\n",
       "      <td>2304</td>\n",
       "      <td>6</td>\n",
       "      <td>cloth</td>\n",
       "      <td>1849</td>\n",
       "    </tr>\n",
       "    <tr>\n",
       "      <th>yellow</th>\n",
       "      <td>44</td>\n",
       "      <td>5</td>\n",
       "      <td>cloth</td>\n",
       "      <td>29</td>\n",
       "    </tr>\n",
       "  </tbody>\n",
       "</table>\n",
       "</div>"
      ],
      "text/plain": [
       "           count unique           top  freq\n",
       "body_color                                 \n",
       "beige         68      4         cloth    42\n",
       "black       3118      6         cloth  2226\n",
       "blue        1103      6         cloth   863\n",
       "bronze         4      3  part leather     2\n",
       "brown        216      6         cloth   150\n",
       "gold           0      0           NaN   NaN\n",
       "green        138      3         cloth   107\n",
       "grey        2427      6         cloth  1658\n",
       "orange         2      2         cloth     1\n",
       "red          683      6         cloth   544\n",
       "silver      1283      6         cloth   933\n",
       "violet         7      2  full leather     6\n",
       "white       2304      6         cloth  1849\n",
       "yellow        44      5         cloth    29"
      ]
     },
     "execution_count": 138,
     "metadata": {},
     "output_type": "execute_result"
    }
   ],
   "source": [
    "df.groupby('body_color').upholstery_material.describe()"
   ]
  },
  {
   "cell_type": "code",
   "execution_count": 139,
   "id": "057920b4",
   "metadata": {},
   "outputs": [
    {
     "name": "stdout",
     "output_type": "stream",
     "text": [
      "empty class\n"
     ]
    }
   ],
   "source": [
    "df = fill(df, 'upholstery_material', 'body_color', 'mode')"
   ]
  },
  {
   "cell_type": "code",
   "execution_count": 140,
   "id": "d9ac10b5",
   "metadata": {},
   "outputs": [],
   "source": [
    "df['upholstery_material'] = df['upholstery_material'].fillna('cloth')"
   ]
  },
  {
   "cell_type": "code",
   "execution_count": 141,
   "id": "f36b3880",
   "metadata": {},
   "outputs": [
    {
     "data": {
      "text/plain": [
       "0"
      ]
     },
     "execution_count": 141,
     "metadata": {},
     "output_type": "execute_result"
    }
   ],
   "source": [
    "df.upholstery_material.isna().sum()"
   ]
  },
  {
   "cell_type": "code",
   "execution_count": 142,
   "id": "6e67c74c",
   "metadata": {},
   "outputs": [
    {
     "data": {
      "text/plain": [
       "black           8198\n",
       "NaN             3706\n",
       "grey            1360\n",
       "other           1016\n",
       "cloth           1005\n",
       "brown            207\n",
       "part leather     140\n",
       "full leather     139\n",
       "beige             54\n",
       "velour            16\n",
       "blue              16\n",
       "white             13\n",
       "red                9\n",
       "yellow             4\n",
       "orange             1\n",
       "Name: upholstery_color, dtype: int64"
      ]
     },
     "execution_count": 142,
     "metadata": {},
     "output_type": "execute_result"
    }
   ],
   "source": [
    "df.upholstery_color.value_counts(dropna=False)"
   ]
  },
  {
   "cell_type": "code",
   "execution_count": 143,
   "id": "fa8a30c1",
   "metadata": {},
   "outputs": [
    {
     "data": {
      "text/plain": [
       "15884"
      ]
     },
     "execution_count": 143,
     "metadata": {},
     "output_type": "execute_result"
    }
   ],
   "source": [
    "df.upholstery_material.notna().sum()"
   ]
  },
  {
   "cell_type": "code",
   "execution_count": 144,
   "id": "769cc71e",
   "metadata": {},
   "outputs": [
    {
     "name": "stdout",
     "output_type": "stream",
     "text": [
      "3706\n",
      "5006\n"
     ]
    }
   ],
   "source": [
    "print(df.upholstery_color.isna().sum())\n",
    "not_color = set(['cloth','full leather','part leather','velour'])\n",
    "df['upholstery_color'] = [(np.nan if (x in not_color) else x) \\\n",
    "                              if x.__class__==str else x \\\n",
    "                                  for x in df.upholstery_color]\n",
    "print(df.upholstery_color.isna().sum())"
   ]
  },
  {
   "cell_type": "code",
   "execution_count": 145,
   "id": "29aeac29",
   "metadata": {},
   "outputs": [
    {
     "data": {
      "text/plain": [
       "black     8198\n",
       "NaN       5006\n",
       "grey      1360\n",
       "other     1016\n",
       "brown      207\n",
       "beige       54\n",
       "blue        16\n",
       "white       13\n",
       "red          9\n",
       "yellow       4\n",
       "orange       1\n",
       "Name: upholstery_color, dtype: int64"
      ]
     },
     "execution_count": 145,
     "metadata": {},
     "output_type": "execute_result"
    }
   ],
   "source": [
    "df.upholstery_color.value_counts(dropna=False)"
   ]
  },
  {
   "cell_type": "code",
   "execution_count": 146,
   "id": "c0bd245a",
   "metadata": {},
   "outputs": [
    {
     "data": {
      "text/plain": [
       "15884"
      ]
     },
     "execution_count": 146,
     "metadata": {},
     "output_type": "execute_result"
    }
   ],
   "source": [
    "df.upholstery_material.notna().sum()"
   ]
  },
  {
   "cell_type": "code",
   "execution_count": 148,
   "id": "0758179d",
   "metadata": {},
   "outputs": [
    {
     "data": {
      "text/plain": [
       "5006"
      ]
     },
     "execution_count": 148,
     "metadata": {},
     "output_type": "execute_result"
    }
   ],
   "source": [
    "df.upholstery_color.isna().sum()"
   ]
  },
  {
   "cell_type": "code",
   "execution_count": 149,
   "id": "ba247468",
   "metadata": {
    "scrolled": true
   },
   "outputs": [
    {
     "data": {
      "text/html": [
       "<div>\n",
       "<style scoped>\n",
       "    .dataframe tbody tr th:only-of-type {\n",
       "        vertical-align: middle;\n",
       "    }\n",
       "\n",
       "    .dataframe tbody tr th {\n",
       "        vertical-align: top;\n",
       "    }\n",
       "\n",
       "    .dataframe thead th {\n",
       "        text-align: right;\n",
       "    }\n",
       "</style>\n",
       "<table border=\"1\" class=\"dataframe\">\n",
       "  <thead>\n",
       "    <tr style=\"text-align: right;\">\n",
       "      <th></th>\n",
       "      <th>count</th>\n",
       "      <th>unique</th>\n",
       "      <th>top</th>\n",
       "      <th>freq</th>\n",
       "    </tr>\n",
       "    <tr>\n",
       "      <th>body_color</th>\n",
       "      <th></th>\n",
       "      <th></th>\n",
       "      <th></th>\n",
       "      <th></th>\n",
       "    </tr>\n",
       "  </thead>\n",
       "  <tbody>\n",
       "    <tr>\n",
       "      <th>beige</th>\n",
       "      <td>75</td>\n",
       "      <td>5</td>\n",
       "      <td>black</td>\n",
       "      <td>41</td>\n",
       "    </tr>\n",
       "    <tr>\n",
       "      <th>black</th>\n",
       "      <td>2912</td>\n",
       "      <td>9</td>\n",
       "      <td>black</td>\n",
       "      <td>2139</td>\n",
       "    </tr>\n",
       "    <tr>\n",
       "      <th>blue</th>\n",
       "      <td>1056</td>\n",
       "      <td>7</td>\n",
       "      <td>black</td>\n",
       "      <td>867</td>\n",
       "    </tr>\n",
       "    <tr>\n",
       "      <th>bronze</th>\n",
       "      <td>4</td>\n",
       "      <td>2</td>\n",
       "      <td>black</td>\n",
       "      <td>3</td>\n",
       "    </tr>\n",
       "    <tr>\n",
       "      <th>brown</th>\n",
       "      <td>208</td>\n",
       "      <td>5</td>\n",
       "      <td>black</td>\n",
       "      <td>159</td>\n",
       "    </tr>\n",
       "    <tr>\n",
       "      <th>gold</th>\n",
       "      <td>0</td>\n",
       "      <td>0</td>\n",
       "      <td>NaN</td>\n",
       "      <td>NaN</td>\n",
       "    </tr>\n",
       "    <tr>\n",
       "      <th>green</th>\n",
       "      <td>130</td>\n",
       "      <td>5</td>\n",
       "      <td>black</td>\n",
       "      <td>101</td>\n",
       "    </tr>\n",
       "    <tr>\n",
       "      <th>grey</th>\n",
       "      <td>2310</td>\n",
       "      <td>9</td>\n",
       "      <td>black</td>\n",
       "      <td>1759</td>\n",
       "    </tr>\n",
       "    <tr>\n",
       "      <th>orange</th>\n",
       "      <td>2</td>\n",
       "      <td>1</td>\n",
       "      <td>black</td>\n",
       "      <td>2</td>\n",
       "    </tr>\n",
       "    <tr>\n",
       "      <th>red</th>\n",
       "      <td>649</td>\n",
       "      <td>7</td>\n",
       "      <td>black</td>\n",
       "      <td>502</td>\n",
       "    </tr>\n",
       "    <tr>\n",
       "      <th>silver</th>\n",
       "      <td>1252</td>\n",
       "      <td>7</td>\n",
       "      <td>black</td>\n",
       "      <td>924</td>\n",
       "    </tr>\n",
       "    <tr>\n",
       "      <th>violet</th>\n",
       "      <td>5</td>\n",
       "      <td>3</td>\n",
       "      <td>black</td>\n",
       "      <td>3</td>\n",
       "    </tr>\n",
       "    <tr>\n",
       "      <th>white</th>\n",
       "      <td>2233</td>\n",
       "      <td>8</td>\n",
       "      <td>black</td>\n",
       "      <td>1663</td>\n",
       "    </tr>\n",
       "    <tr>\n",
       "      <th>yellow</th>\n",
       "      <td>42</td>\n",
       "      <td>3</td>\n",
       "      <td>black</td>\n",
       "      <td>35</td>\n",
       "    </tr>\n",
       "  </tbody>\n",
       "</table>\n",
       "</div>"
      ],
      "text/plain": [
       "           count unique    top  freq\n",
       "body_color                          \n",
       "beige         75      5  black    41\n",
       "black       2912      9  black  2139\n",
       "blue        1056      7  black   867\n",
       "bronze         4      2  black     3\n",
       "brown        208      5  black   159\n",
       "gold           0      0    NaN   NaN\n",
       "green        130      5  black   101\n",
       "grey        2310      9  black  1759\n",
       "orange         2      1  black     2\n",
       "red          649      7  black   502\n",
       "silver      1252      7  black   924\n",
       "violet         5      3  black     3\n",
       "white       2233      8  black  1663\n",
       "yellow        42      3  black    35"
      ]
     },
     "execution_count": 149,
     "metadata": {},
     "output_type": "execute_result"
    }
   ],
   "source": [
    "df.groupby('body_color').upholstery_color.describe()"
   ]
  },
  {
   "cell_type": "code",
   "execution_count": 150,
   "id": "0bba4cb0",
   "metadata": {},
   "outputs": [
    {
     "name": "stdout",
     "output_type": "stream",
     "text": [
      "empty class\n"
     ]
    }
   ],
   "source": [
    "df = fill(df, 'upholstery_color', 'body_color', 'mode')"
   ]
  },
  {
   "cell_type": "code",
   "execution_count": 151,
   "id": "ed49e9b0",
   "metadata": {},
   "outputs": [
    {
     "data": {
      "text/plain": [
       "2"
      ]
     },
     "execution_count": 151,
     "metadata": {},
     "output_type": "execute_result"
    }
   ],
   "source": [
    "df.upholstery_color.isna().sum()"
   ]
  },
  {
   "cell_type": "code",
   "execution_count": 152,
   "id": "6292717f",
   "metadata": {},
   "outputs": [],
   "source": [
    "df['upholstery_color'] = df['upholstery_color'].fillna('black')"
   ]
  },
  {
   "cell_type": "code",
   "execution_count": 153,
   "id": "ec20b0a8",
   "metadata": {},
   "outputs": [
    {
     "data": {
      "text/plain": [
       "0"
      ]
     },
     "execution_count": 153,
     "metadata": {},
     "output_type": "execute_result"
    }
   ],
   "source": [
    "df.upholstery_color.isna().sum()"
   ]
  },
  {
   "cell_type": "markdown",
   "id": "a59f4232",
   "metadata": {},
   "source": [
    "### impute fuel\n",
    "* we need to impute fuel, before we can impute the emission class, because emission class depends of the fuel of the vehicle.\n",
    "* although there are no missing values, there are too many classes in this feature\n",
    "* some research allows to demystify the types of fules and classify them as gas, diesel, low_emission, and other.\n",
    "* low_emission and other are very infrequent, so we can actually stick with only gas, diesel, and other."
   ]
  },
  {
   "cell_type": "code",
   "execution_count": 154,
   "id": "1d593879",
   "metadata": {},
   "outputs": [
    {
     "data": {
      "text/plain": [
       "0"
      ]
     },
     "execution_count": 154,
     "metadata": {},
     "output_type": "execute_result"
    }
   ],
   "source": [
    "df.fuel.isna().sum()"
   ]
  },
  {
   "cell_type": "code",
   "execution_count": 155,
   "id": "d58c6ffb",
   "metadata": {},
   "outputs": [
    {
     "data": {
      "text/plain": [
       "Diesel (Particulate Filter)                                                                        4314\n",
       "Super 95                                                                                           3338\n",
       "Gasoline                                                                                           3141\n",
       "Diesel                                                                                             2984\n",
       "Super 95,Regular,Benzine 91                                                                         424\n",
       "                                                                                                   ... \n",
       "Regular,Benzine 91,Super 95,Regular,Benzine E10 91                                                    1\n",
       "Super Plus 98,Super E10 95                                                                            1\n",
       "Regular,Benzine 91,Super 95,Regular,Benzine E10 91,Super E10 95,Super Plus 98,Super Plus E10 98       1\n",
       "Regular,Benzine 91,Super Plus 98,Regular,Benzine E10 91,Super 95,Super E10 95,Super Plus E10 98       1\n",
       "Super Plus 98,Super 95,Super Plus E10 98                                                              1\n",
       "Name: fuel, Length: 77, dtype: int64"
      ]
     },
     "execution_count": 155,
     "metadata": {},
     "output_type": "execute_result"
    }
   ],
   "source": [
    "df.fuel.value_counts()"
   ]
  },
  {
   "cell_type": "code",
   "execution_count": 156,
   "id": "571cce83",
   "metadata": {},
   "outputs": [
    {
     "name": "stdout",
     "output_type": "stream",
     "text": [
      "{'Regular', 'Super 95', 'Benzine 91 (Particulate Filter)', 'Diesel', 'Super Plus 98 (Particulate Filter)', 'Super Plus E10 98 (Particulate Filter)', 'CNG', 'Domestic gas H', 'Gasoline', 'Benzine E10 91 (Particulate Filter)', 'Super 95 (Particulate Filter)', 'Super Plus E10 98', 'Electric', 'Super Plus 98', 'Diesel (Particulate Filter)', 'Super E10 95 (Particulate Filter)', 'Gasoline (Particulate Filter)', 'Liquid petroleum gas (LPG)', 'Others', 'LPG', 'Biodiesel', 'CNG (Particulate Filter)', 'Biogas', 'Benzine 91', 'Benzine E10 91', 'Others (Particulate Filter)', 'Super E10 95'}\n"
     ]
    }
   ],
   "source": [
    "fuels = set()\n",
    "for entry in df.fuel:\n",
    "    for fu in entry.split(','):\n",
    "        fuels.add(fu)\n",
    "print(fuels)"
   ]
  },
  {
   "cell_type": "code",
   "execution_count": 157,
   "id": "f843df6a",
   "metadata": {},
   "outputs": [],
   "source": [
    "fuels_dict = {\n",
    "    'CNG (Particulate Filter)': 'other', \n",
    "    'LPG':'other', \n",
    "    'Domestic gas H':'other', \n",
    "    'Super 95 (Particulate Filter)': 'gas', \n",
    "    'CNG':'other', \n",
    "    'Benzine 91': 'gas', \n",
    "    'Gasoline': 'gas', \n",
    "    'Super 95': 'gas', \n",
    "    'Diesel (Particulate Filter)': 'diesel', \n",
    "    'Super Plus E10 98 (Particulate Filter)': 'gas', \n",
    "    'Benzine E10 91 (Particulate Filter)': 'gas', \n",
    "    'Others':'other', \n",
    "    'Electric':'other', \n",
    "    'Liquid petroleum gas (LPG)':'other', \n",
    "    'Gasoline (Particulate Filter)': 'gas', \n",
    "    'Super E10 95': 'gas', \n",
    "    'Others (Particulate Filter)': 'other', \n",
    "    'Diesel': 'diesel', \n",
    "    'Biogas':'other', \n",
    "    'Super Plus 98 (Particulate Filter)': 'gas', \n",
    "    'Super E10 95 (Particulate Filter)': 'gas', \n",
    "    'Benzine 91 (Particulate Filter)': 'gas', \n",
    "    'Benzine E10 91': 'gas', \n",
    "    'Regular': 'gas', \n",
    "    'Biodiesel':'other', \n",
    "    'Super Plus 98': 'gas', \n",
    "    'Super Plus E10 98': 'gas'\n",
    "}"
   ]
  },
  {
   "cell_type": "code",
   "execution_count": 158,
   "id": "16d61dd7",
   "metadata": {},
   "outputs": [],
   "source": [
    "df['fuel'] = [','.join(set([fuels_dict[x] for x in y.split(',')])) for y in df.fuel]"
   ]
  },
  {
   "cell_type": "code",
   "execution_count": 159,
   "id": "2cd0a679",
   "metadata": {},
   "outputs": [
    {
     "data": {
      "text/plain": [
       "gas          8510\n",
       "diesel       7298\n",
       "other          71\n",
       "gas,other       5\n",
       "Name: fuel, dtype: int64"
      ]
     },
     "execution_count": 159,
     "metadata": {},
     "output_type": "execute_result"
    }
   ],
   "source": [
    "df.fuel.value_counts()"
   ]
  },
  {
   "cell_type": "code",
   "execution_count": 160,
   "id": "c93eb069",
   "metadata": {},
   "outputs": [],
   "source": [
    "df['fuel'] = ['other' if re.search(',',x) else x for x in df.fuel]"
   ]
  },
  {
   "cell_type": "code",
   "execution_count": 161,
   "id": "f3478a70",
   "metadata": {},
   "outputs": [
    {
     "data": {
      "text/plain": [
       "gas       8510\n",
       "diesel    7298\n",
       "other       76\n",
       "Name: fuel, dtype: int64"
      ]
     },
     "execution_count": 161,
     "metadata": {},
     "output_type": "execute_result"
    }
   ],
   "source": [
    "df.fuel.value_counts(dropna=False)"
   ]
  },
  {
   "cell_type": "code",
   "execution_count": 162,
   "id": "9bb39b1a",
   "metadata": {},
   "outputs": [
    {
     "data": {
      "text/plain": [
       "0"
      ]
     },
     "execution_count": 162,
     "metadata": {},
     "output_type": "execute_result"
    }
   ],
   "source": [
    "df.fuel.isna().sum()"
   ]
  },
  {
   "cell_type": "markdown",
   "id": "e73b37c8",
   "metadata": {},
   "source": [
    "### impute 'emission_class'\n",
    "\n",
    "* In Europe, emission classes, like the Euro standards, are based on the vehicle type, not the individual vehicle.\n",
    "* so we can impute this based on make_model, fuel, and first_registration\n",
    "* for the empty classes with can impute with "
   ]
  },
  {
   "cell_type": "code",
   "execution_count": 163,
   "id": "058be650",
   "metadata": {},
   "outputs": [
    {
     "data": {
      "text/plain": [
       "3626"
      ]
     },
     "execution_count": 163,
     "metadata": {},
     "output_type": "execute_result"
    }
   ],
   "source": [
    "df.emission_class.isna().sum()"
   ]
  },
  {
   "cell_type": "code",
   "execution_count": 164,
   "id": "a4131ffe",
   "metadata": {},
   "outputs": [],
   "source": [
    "df['for_e_class'] = df.groupby(['make_model', 'fuel', 'first_registration']).ngroup()"
   ]
  },
  {
   "cell_type": "code",
   "execution_count": 165,
   "id": "06e133e8",
   "metadata": {},
   "outputs": [
    {
     "name": "stdout",
     "output_type": "stream",
     "text": [
      "empty class\n",
      "empty class\n",
      "empty class\n",
      "empty class\n"
     ]
    }
   ],
   "source": [
    "df = fill(df, 'emission_class', 'for_e_class', 'mode')"
   ]
  },
  {
   "cell_type": "code",
   "execution_count": 166,
   "id": "e4346ab6",
   "metadata": {},
   "outputs": [
    {
     "data": {
      "text/plain": [
       "4"
      ]
     },
     "execution_count": 166,
     "metadata": {},
     "output_type": "execute_result"
    }
   ],
   "source": [
    "df.emission_class.isna().sum()"
   ]
  },
  {
   "cell_type": "code",
   "execution_count": 167,
   "id": "cb772d25",
   "metadata": {},
   "outputs": [
    {
     "data": {
      "text/plain": [
       "euro 6          12999\n",
       "euro 6d-temp     2606\n",
       "euro 6c           127\n",
       "euro 5             78\n",
       "euro 6d            62\n",
       "euro 4              8\n",
       "Name: emission_class, dtype: int64"
      ]
     },
     "execution_count": 167,
     "metadata": {},
     "output_type": "execute_result"
    }
   ],
   "source": [
    "df.emission_class.value_counts()"
   ]
  },
  {
   "cell_type": "code",
   "execution_count": 168,
   "id": "3e0673d4",
   "metadata": {},
   "outputs": [],
   "source": [
    "df['emission_class'] = df['emission_class'].fillna('euro 6')"
   ]
  },
  {
   "cell_type": "code",
   "execution_count": 169,
   "id": "7ad04449",
   "metadata": {},
   "outputs": [],
   "source": [
    "df = df.drop('for_e_class', axis=1)"
   ]
  },
  {
   "cell_type": "code",
   "execution_count": 170,
   "id": "3511c912",
   "metadata": {},
   "outputs": [
    {
     "data": {
      "text/plain": [
       "0"
      ]
     },
     "execution_count": 170,
     "metadata": {},
     "output_type": "execute_result"
    }
   ],
   "source": [
    "df.emission_class.isna().sum()"
   ]
  },
  {
   "cell_type": "markdown",
   "id": "2a2a825d",
   "metadata": {},
   "source": [
    "### impute consumption\n",
    "* represents mileage\n",
    "* for the consumption variable we will impute using the mean of classes based on a  list of features in decreasing order of impportance and reliability.\n",
    "* use = [make_model, body_type, fuel, first_registration],\n",
    "* we gradually pop 'use' from right side if there still are missing classes. I know before hand that I can impute every row using only make_model."
   ]
  },
  {
   "cell_type": "code",
   "execution_count": 171,
   "id": "e744888b",
   "metadata": {},
   "outputs": [
    {
     "name": "stdout",
     "output_type": "stream",
     "text": [
      "0\n",
      "0\n",
      "0\n"
     ]
    }
   ],
   "source": [
    "for f in ['consumption_comb', 'consumption_city', 'consumption_country']:\n",
    "    use = ['make_model','body_type', 'fuel','first_registration']\n",
    "    while df[f].isna().sum() > 0:\n",
    "        df['for_cons'] = df.groupby(use).ngroup()\n",
    "        df = fill(df, f, 'for_cons', 'mean')\n",
    "        use.pop()\n",
    "    print(df[f].isna().sum())\n",
    "df = df.drop('for_cons', axis=1)"
   ]
  },
  {
   "cell_type": "markdown",
   "id": "c8d2b13b",
   "metadata": {},
   "source": [
    "### impute reg_cont\n",
    "\n",
    "* reg_cont is only missing for the year 2019 months 7-12.\n",
    "* we can impute with equally over 2019 + [7:12]/12"
   ]
  },
  {
   "cell_type": "code",
   "execution_count": 172,
   "id": "aaf9f544",
   "metadata": {},
   "outputs": [
    {
     "data": {
      "text/plain": [
       "2019.0    1579\n",
       "Name: first_registration, dtype: int64"
      ]
     },
     "execution_count": 172,
     "metadata": {},
     "output_type": "execute_result"
    }
   ],
   "source": [
    "df[df.reg_cont.isna()].first_registration.value_counts()"
   ]
  },
  {
   "cell_type": "code",
   "execution_count": 173,
   "id": "9882627d",
   "metadata": {},
   "outputs": [
    {
     "data": {
      "text/plain": [
       "2019.333333    506\n",
       "2019.250000    543\n",
       "2019.500000    208\n",
       "2019.416667    440\n",
       "2019.166667    585\n",
       "2019.083333    541\n",
       "2019.750000      5\n",
       "2019.583333      6\n",
       "2019.666667      1\n",
       "2019.916667      1\n",
       "2020.000000      1\n",
       "Name: reg_cont, dtype: int64"
      ]
     },
     "execution_count": 173,
     "metadata": {},
     "output_type": "execute_result"
    }
   ],
   "source": [
    "df[df['first_registration']==2019].reg_cont.value_counts(sort=False)"
   ]
  },
  {
   "cell_type": "code",
   "execution_count": 174,
   "id": "5cf6ab93",
   "metadata": {},
   "outputs": [],
   "source": [
    "df.loc[df.reg_cont > 2019.5, 'reg_cont'] = float('nan')"
   ]
  },
  {
   "cell_type": "code",
   "execution_count": 175,
   "id": "2969012c",
   "metadata": {},
   "outputs": [],
   "source": [
    "c = [2019+7/12,2019+8/12,2019+9/12,2019+10/12,2019+11/12,2019+12/12]\n",
    "df.loc[(df['first_registration']==2019) & (df.reg_cont.isna()),'reg_cont'] = \\\n",
    "        [choices(c) for x in df.loc[(df['first_registration']==2019) & (df.reg_cont.isna()),'reg_cont']]"
   ]
  },
  {
   "cell_type": "code",
   "execution_count": 176,
   "id": "b67b466c",
   "metadata": {},
   "outputs": [
    {
     "data": {
      "text/plain": [
       "0"
      ]
     },
     "execution_count": 176,
     "metadata": {},
     "output_type": "execute_result"
    }
   ],
   "source": [
    "df.reg_cont.isna().sum()"
   ]
  },
  {
   "cell_type": "code",
   "execution_count": 177,
   "id": "cc6ad9dd",
   "metadata": {
    "scrolled": true
   },
   "outputs": [
    {
     "data": {
      "text/plain": [
       "2019.166667    585\n",
       "2019.250000    543\n",
       "2019.083333    541\n",
       "2019.333333    506\n",
       "2019.416667    440\n",
       "2019.583333    283\n",
       "2019.916667    281\n",
       "2019.833333    273\n",
       "2019.666667    267\n",
       "2020.000000    245\n",
       "2019.750000    244\n",
       "2019.500000    208\n",
       "Name: reg_cont, dtype: int64"
      ]
     },
     "execution_count": 177,
     "metadata": {},
     "output_type": "execute_result"
    }
   ],
   "source": [
    "df[df['first_registration']==2019].reg_cont.value_counts(dropna=False)"
   ]
  },
  {
   "cell_type": "markdown",
   "id": "e36a8f77",
   "metadata": {},
   "source": [
    "## explore features that are a list of features "
   ]
  },
  {
   "cell_type": "markdown",
   "id": "ed1f0674",
   "metadata": {},
   "source": [
    "### explore comfort_convenience, entertainment_media, extras, safety_security\n",
    "\n",
    "* since these are going to be encoded using One Hot encoder and not used as such, the missing values are not a concern. \n",
    "* although the frequency of occurence of many of the features in these are very low, these may be important predictors of price, esp if an expensive feature such as TV, or an outstanding one such as right hand drive. \n",
    "* I am not dropping any of these right away."
   ]
  },
  {
   "cell_type": "code",
   "execution_count": 178,
   "id": "a6ad88f2",
   "metadata": {
    "scrolled": true
   },
   "outputs": [
    {
     "name": "stdout",
     "output_type": "stream",
     "text": [
      "comfort_convenience\n",
      "1\tElectric Starter\n",
      "11\tWindshield\n",
      "41\tWind deflector\n",
      "48\tLeather seats\n",
      "59\tAir suspension\n",
      "208\tAuxiliary heating\n",
      "265\tMassage seats\n",
      "308\tSunroof\n",
      "431\tPanorama roof\n",
      "455\tHeads-up display\n",
      "527\tSeat ventilation\n",
      "528\tParking assist system self-steering\n",
      "574\tElectrically heated windshield\n",
      "606\tElectric tailgate\n",
      "1018\tTinted windows\n",
      "1067\tElectrically adjustable seats\n",
      "1358\tHeated steering wheel\n",
      "1401\tKeyless central door lock\n",
      "1550\tSplit rear seats\n",
      "1659\tLumbar support\n",
      "1719\tParking assist system camera\n",
      "2809\tHill Holder\n",
      "2969\tParking assist system sensors front\n",
      "3199\tSeat heating\n",
      "3485\tLight sensor\n",
      "3522\tArmrest\n",
      "3927\tStart-stop system\n",
      "3998\tNavigation system\n",
      "4007\tRain sensor\n",
      "4029\tAutomatic climate control\n",
      "4380\tLeather steering wheel\n",
      "4589\tPark Distance Control\n",
      "4616\tParking assist system sensors rear\n",
      "4747\tCruise control\n",
      "4865\tMulti-function steering wheel\n",
      "5080\tElectrical side mirrors\n",
      "5826\tPower windows\n",
      "5977\tAir conditioning\n",
      "---\n",
      "entertainment_media\n",
      "18\tTelevision\n",
      "133\tDigital radio\n",
      "138\tSound system\n",
      "152\tMP3\n",
      "157\tCD player\n",
      "178\tHands-free equipment\n",
      "193\tUSB\n",
      "208\tOn-board computer\n",
      "213\tBluetooth\n",
      "214\tRadio\n",
      "---\n",
      "extras\n",
      "3\tRight hand drive\n",
      "3\tSliding door\n",
      "12\tTuned car\n",
      "38\tHandicapped enabled\n",
      "66\tCab or rented Car\n",
      "100\tSki bag\n",
      "125\tWinter tyres\n",
      "148\tTrailer hitch\n",
      "150\tShift paddles\n",
      "217\tSport suspension\n",
      "243\tRoof rack\n",
      "245\tSport package\n",
      "264\tCatalytic Converter\n",
      "311\tTouch screen\n",
      "332\tSport seats\n",
      "360\tVoice Control\n",
      "532\tAlloy wheels\n",
      "---\n",
      "safety_security\n",
      "72\tNight view assist\n",
      "358\tDriver drowsiness detection\n",
      "639\tBlind spot monitor\n",
      "651\tRear airbag\n",
      "703\tEmergency system\n",
      "760\tAdaptive Cruise Control\n",
      "860\tTraffic sign recognition\n",
      "994\tAdaptive headlights\n",
      "1182\tAlarm system\n",
      "1187\tHead airbag\n",
      "1192\tEmergency brake assistant\n",
      "1279\tXenon headlights\n",
      "1280\tLane departure warning system\n",
      "1427\tCentral door lock with remote control\n",
      "1453\tLED Headlights\n",
      "2176\tLED Daytime Running Lights\n",
      "2748\tDaytime running lights\n",
      "2759\tFog lights\n",
      "2972\tImmobilizer\n",
      "3092\tTire pressure monitoring system\n",
      "3117\tTraction control\n",
      "3271\tIsofix\n",
      "3532\tCentral door lock\n",
      "3702\tElectronic stability control\n",
      "3770\tSide airbag\n",
      "3887\tPower steering\n",
      "3914\tPassenger-side airbag\n",
      "4091\tDriver-side airbag\n",
      "4137\tABS\n",
      "---\n"
     ]
    }
   ],
   "source": [
    "\n",
    "for f in ['comfort_convenience', 'entertainment_media', 'extras', 'safety_security']:\n",
    "    vc = df[f].value_counts()\n",
    "    vci = [i for i in vc.index]\n",
    "    cc = set()\n",
    "    count = {}\n",
    "    for x in vci:\n",
    "        for y in x.split(','):\n",
    "            cc.add(y)\n",
    "            if y in count:\n",
    "                count[y] += 1\n",
    "            else:\n",
    "                count[y] = 1\n",
    "    print(f)\n",
    "    count = [(count[k], k) for k in count.keys()]\n",
    "    count.sort(key= lambda i: i[0])\n",
    "    count = [str(k[0])+'\\t'+k[1] for k in count]\n",
    "    print('\\n'.join(count))\n",
    "    print('---')"
   ]
  },
  {
   "cell_type": "markdown",
   "id": "a4f24a07",
   "metadata": {},
   "source": [
    "## Save intermediate file"
   ]
  },
  {
   "cell_type": "code",
   "execution_count": 179,
   "id": "4e3243a2",
   "metadata": {},
   "outputs": [
    {
     "name": "stdout",
     "output_type": "stream",
     "text": [
      "<class 'pandas.core.frame.DataFrame'>\n",
      "Int64Index: 15884 entries, 0 to 15918\n",
      "Data columns (total 34 columns):\n",
      " #   Column               Non-Null Count  Dtype  \n",
      "---  ------               --------------  -----  \n",
      " 0   make_model           15884 non-null  object \n",
      " 1   body_type            15884 non-null  object \n",
      " 2   price                15884 non-null  int64  \n",
      " 3   km                   15884 non-null  float64\n",
      " 4   prev_owner           15884 non-null  float64\n",
      " 5   hp                   15884 non-null  float64\n",
      " 6   type                 15884 non-null  object \n",
      " 7   first_registration   15884 non-null  float64\n",
      " 8   body_color           15884 non-null  object \n",
      " 9   paint_type           15884 non-null  object \n",
      " 10  nr_doors             15884 non-null  float64\n",
      " 11  nr_seats             15884 non-null  float64\n",
      " 12  gearing_type         15884 non-null  object \n",
      " 13  displacement         15884 non-null  float64\n",
      " 14  cylinders            15884 non-null  float64\n",
      " 15  weight               15884 non-null  float64\n",
      " 16  drive_chain          15884 non-null  object \n",
      " 17  fuel                 15884 non-null  object \n",
      " 18  co2_emission         15884 non-null  float64\n",
      " 19  comfort_convenience  14964 non-null  object \n",
      " 20  entertainment_media  14510 non-null  object \n",
      " 21  extras               12955 non-null  object \n",
      " 22  safety_security      14902 non-null  object \n",
      " 23  gears                15884 non-null  float64\n",
      " 24  country_version      15884 non-null  object \n",
      " 25  warranty_mo          15884 non-null  float64\n",
      " 26  vat_deductible       15884 non-null  int64  \n",
      " 27  upholstery_material  15884 non-null  object \n",
      " 28  upholstery_color     15884 non-null  object \n",
      " 29  emission_class       15884 non-null  object \n",
      " 30  consumption_comb     15884 non-null  float64\n",
      " 31  consumption_city     15884 non-null  float64\n",
      " 32  consumption_country  15884 non-null  float64\n",
      " 33  reg_cont             15884 non-null  float64\n",
      "dtypes: float64(16), int64(2), object(16)\n",
      "memory usage: 4.7+ MB\n"
     ]
    }
   ],
   "source": [
    "df.info()"
   ]
  },
  {
   "cell_type": "code",
   "execution_count": 180,
   "id": "cc0791e4",
   "metadata": {},
   "outputs": [],
   "source": [
    "df.to_json('data_post01.json', orient='records', lines=True)"
   ]
  },
  {
   "cell_type": "markdown",
   "id": "348ff80a",
   "metadata": {},
   "source": [
    "## Summary"
   ]
  },
  {
   "cell_type": "markdown",
   "id": "6d562433",
   "metadata": {},
   "source": [
    "* in this part, I observed each feature and replaced missing values with plausible values. \n",
    "* I also dropped 36 rows of data for make_model audi_a2 (n=1) and ranault_duster (n=35)\n",
    "* for fuel had many features nested inside it, I replaced these with the most meaningful ones.\n",
    "* for comfort_convenience, entertainment_media, extras, safety_security I left these features as they are."
   ]
  },
  {
   "cell_type": "markdown",
   "id": "47582834",
   "metadata": {},
   "source": [
    "<a id=\"3\"></a>\n",
    "\n",
    "## End of Data Imputation"
   ]
  },
  {
   "cell_type": "markdown",
   "id": "6334f1df",
   "metadata": {},
   "source": [
    "<a href=\"#toc\" class=\"btn btn-primary btn-sm\" role=\"button\" aria-pressed=\"true\" \n",
    "style=\"color:blue; background-color:#dfa8e4\" data-toggle=\"popover\">Content</a>"
   ]
  },
  {
   "cell_type": "markdown",
   "id": "44ed1b13",
   "metadata": {},
   "source": [
    "## Next: [Handling outliers](03_data_viz_&_outliers.ipynb)"
   ]
  }
 ],
 "metadata": {
  "kernelspec": {
   "display_name": "Python 3 (ipykernel)",
   "language": "python",
   "name": "python3"
  },
  "language_info": {
   "codemirror_mode": {
    "name": "ipython",
    "version": 3
   },
   "file_extension": ".py",
   "mimetype": "text/x-python",
   "name": "python",
   "nbconvert_exporter": "python",
   "pygments_lexer": "ipython3",
   "version": "3.7.16"
  }
 },
 "nbformat": 4,
 "nbformat_minor": 5
}
