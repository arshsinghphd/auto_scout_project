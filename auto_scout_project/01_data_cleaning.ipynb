{
 "cells": [
  {
   "cell_type": "markdown",
   "id": "1c919439",
   "metadata": {},
   "source": [
    "<a id=\"toc\"></a>\n",
    "\n",
    "# <p style=\"background-color: #008080; font-family:newtimeroman; color:#FFF9ED; font-size:175%; text-align:center; border-radius:5px 5px;\">Auto Scout Car Prices Prediction Project: <br> Data Cleaning</p>\n",
    "\n",
    "## <p style=\"background-color: #008080; font-family:newtimeroman; color:#FFF9ED; font-size:150%; text-align:center; border-radius:10px 10px;\">Content</p>\n",
    "\n",
    "* [INTRODUCTION NOTEBOOK](00_introduction.ipynb)\n",
    "* [IMPORTING LIBRARIES](#1)\n",
    "* [DATA CLEANING COLUMN BY COLUMN](#2)\n",
    "* [THE END OF DATA CLEANING](#3)"
   ]
  },
  {
   "cell_type": "markdown",
   "id": "ad06d2ce",
   "metadata": {},
   "source": [
    "<a id=\"1\"></a>\n",
    "\n",
    "## Importing Libraries"
   ]
  },
  {
   "cell_type": "code",
   "execution_count": 1,
   "id": "5b70cdaa",
   "metadata": {},
   "outputs": [],
   "source": [
    "import json\n",
    "import matplotlib.pyplot as plt\n",
    "import numpy as np\n",
    "import os\n",
    "import pandas as pd\n",
    "import re\n",
    "from time import perf_counter"
   ]
  },
  {
   "cell_type": "markdown",
   "id": "981ff766",
   "metadata": {},
   "source": [
    "<a id=\"1\"></a>\n",
    "## Data Cleaning\n"
   ]
  },
  {
   "cell_type": "markdown",
   "id": "3ee0c943",
   "metadata": {},
   "source": [
    "### Import JSON file\n",
    "\n",
    "Observations:\n",
    "1. The data is in json lines format - each line is a dictionary.\n",
    "2. This format seems to be very efficient, since the notepad++ file is able to open and view this version of the file. \n",
    "3. When I saved the usual 'record' oriented json format the file is too unweildy for notepad++ to allow opening and viewing."
   ]
  },
  {
   "cell_type": "code",
   "execution_count": 2,
   "id": "cee7de89",
   "metadata": {},
   "outputs": [
    {
     "name": "stdout",
     "output_type": "stream",
     "text": [
      "1.2994467000000003 s\n"
     ]
    }
   ],
   "source": [
    "t0 = perf_counter()\n",
    "df = pd.read_json('scout_car.json', lines=True)\n",
    "t1 = perf_counter()\n",
    "print(f'{t1 - t0} s')"
   ]
  },
  {
   "cell_type": "markdown",
   "id": "f76875e4",
   "metadata": {},
   "source": [
    "### Fix names: \n",
    "1. make all names lowercase\n",
    "2. remove 'of ', 'nr ', '.', and '&'\n",
    "3. remove trailing spaces and newline characters\n",
    "4. replace internal space(s) with underscore"
   ]
  },
  {
   "cell_type": "code",
   "execution_count": 3,
   "id": "cb489f0e",
   "metadata": {
    "scrolled": true
   },
   "outputs": [
    {
     "data": {
      "text/plain": [
       "Index(['url', 'make_model', 'short_description', 'body_type', 'price', 'vat',\n",
       "       'km', 'registration', 'prev_owner', 'kW', 'hp', 'Type',\n",
       "       'Previous Owners', 'Next Inspection', 'Inspection new', 'Warranty',\n",
       "       'Full Service', 'Non-smoking Vehicle', 'null', 'Make', 'Model',\n",
       "       'Offer Number', 'First Registration', 'Body Color', 'Paint Type',\n",
       "       'Body Color Original', 'Upholstery', 'Body', 'Nr. of Doors',\n",
       "       'Nr. of Seats', 'Model Code', 'Gearing Type', 'Displacement',\n",
       "       'Cylinders', 'Weight', 'Drive chain', 'Fuel', 'Consumption',\n",
       "       'CO2 Emission', 'Emission Class', '\\nComfort & Convenience\\n',\n",
       "       '\\nEntertainment & Media\\n', '\\nExtras\\n', '\\nSafety & Security\\n',\n",
       "       'description', 'Emission Label', 'Gears', 'Country version',\n",
       "       'Electricity consumption', 'Last Service Date', 'Other Fuel Types',\n",
       "       'Availability', 'Last Timing Belt Service Date', 'Available from'],\n",
       "      dtype='object')"
      ]
     },
     "execution_count": 3,
     "metadata": {},
     "output_type": "execute_result"
    }
   ],
   "source": [
    "df.columns"
   ]
  },
  {
   "cell_type": "code",
   "execution_count": 4,
   "id": "cd2ccbd3",
   "metadata": {},
   "outputs": [],
   "source": [
    "new_cols = {}\n",
    "for c in df.columns:\n",
    "    c1 = c.lower()\n",
    "    c1 = re.sub('\\.|&|of ','',c1)\n",
    "    c1 = c1.strip()\n",
    "    c1 = re.sub('\\s+|-','_',c1)\n",
    "    #print(c1)\n",
    "    new_cols[c] = c1"
   ]
  },
  {
   "cell_type": "code",
   "execution_count": 5,
   "id": "c410b376",
   "metadata": {},
   "outputs": [],
   "source": [
    "df.rename(columns=new_cols, inplace=True)"
   ]
  },
  {
   "cell_type": "code",
   "execution_count": 6,
   "id": "e61f48a1",
   "metadata": {},
   "outputs": [],
   "source": [
    "df.to_json('data.json', orient='records', lines=False)"
   ]
  },
  {
   "cell_type": "code",
   "execution_count": 7,
   "id": "b5ac0cae",
   "metadata": {},
   "outputs": [
    {
     "name": "stdout",
     "output_type": "stream",
     "text": [
      "1.1343912000000005 s\n"
     ]
    }
   ],
   "source": [
    "t0 = perf_counter()\n",
    "df2 = pd.read_json('data.json', orient='records', lines=False)\n",
    "t1 = perf_counter()\n",
    "print(f'{t1-t0} s')"
   ]
  },
  {
   "cell_type": "markdown",
   "id": "a65f6441",
   "metadata": {},
   "source": [
    "json(l) and json not lines are both are efficient to store and open using pandas, 1.3s vs 1.1s.\n",
    "\n",
    "json will not open in notepad++, while json(l) will. "
   ]
  },
  {
   "cell_type": "code",
   "execution_count": 8,
   "id": "07b5ddf8",
   "metadata": {},
   "outputs": [
    {
     "name": "stdout",
     "output_type": "stream",
     "text": [
      "['url', 'make_model', 'short_description', 'body_type', 'price', 'vat', 'km', 'registration', 'prev_owner', 'kw', 'hp', 'type', 'previous_owners', 'next_inspection', 'inspection_new', 'warranty', 'full_service', 'non_smoking_vehicle', 'null', 'make', 'model', 'offer_number', 'first_registration', 'body_color', 'paint_type', 'body_color_original', 'upholstery', 'body', 'nr_doors', 'nr_seats', 'model_code', 'gearing_type', 'displacement', 'cylinders', 'weight', 'drive_chain', 'fuel', 'consumption', 'co2_emission', 'emission_class', 'comfort_convenience', 'entertainment_media', 'extras', 'safety_security', 'description', 'emission_label', 'gears', 'country_version', 'electricity_consumption', 'last_service_date', 'other_fuel_types', 'availability', 'last_timing_belt_service_date', 'available_from']\n"
     ]
    }
   ],
   "source": [
    "cols = [i for i in df.columns]\n",
    "print(cols)"
   ]
  },
  {
   "cell_type": "code",
   "execution_count": 9,
   "id": "34ab8e95",
   "metadata": {},
   "outputs": [
    {
     "name": "stdout",
     "output_type": "stream",
     "text": [
      "<class 'pandas.core.frame.DataFrame'>\n",
      "RangeIndex: 15919 entries, 0 to 15918\n",
      "Data columns (total 54 columns):\n",
      " #   Column                         Non-Null Count  Dtype  \n",
      "---  ------                         --------------  -----  \n",
      " 0   url                            15919 non-null  object \n",
      " 1   make_model                     15919 non-null  object \n",
      " 2   short_description              15873 non-null  object \n",
      " 3   body_type                      15859 non-null  object \n",
      " 4   price                          15919 non-null  int64  \n",
      " 5   vat                            11406 non-null  object \n",
      " 6   km                             15919 non-null  object \n",
      " 7   registration                   15919 non-null  object \n",
      " 8   prev_owner                     9091 non-null   object \n",
      " 9   kw                             0 non-null      float64\n",
      " 10  hp                             15919 non-null  object \n",
      " 11  type                           15917 non-null  object \n",
      " 12  previous_owners                9279 non-null   object \n",
      " 13  next_inspection                3535 non-null   object \n",
      " 14  inspection_new                 3932 non-null   object \n",
      " 15  warranty                       10499 non-null  object \n",
      " 16  full_service                   8215 non-null   object \n",
      " 17  non_smoking_vehicle            7177 non-null   object \n",
      " 18  null                           15919 non-null  object \n",
      " 19  make                           15919 non-null  object \n",
      " 20  model                          15919 non-null  object \n",
      " 21  offer_number                   12744 non-null  object \n",
      " 22  first_registration             14322 non-null  object \n",
      " 23  body_color                     15322 non-null  object \n",
      " 24  paint_type                     10147 non-null  object \n",
      " 25  body_color_original            12160 non-null  object \n",
      " 26  upholstery                     12199 non-null  object \n",
      " 27  body                           15859 non-null  object \n",
      " 28  nr_doors                       15707 non-null  object \n",
      " 29  nr_seats                       14942 non-null  object \n",
      " 30  model_code                     4978 non-null   object \n",
      " 31  gearing_type                   15919 non-null  object \n",
      " 32  displacement                   15423 non-null  object \n",
      " 33  cylinders                      10239 non-null  object \n",
      " 34  weight                         8945 non-null   object \n",
      " 35  drive_chain                    9061 non-null   object \n",
      " 36  fuel                           15919 non-null  object \n",
      " 37  consumption                    14013 non-null  object \n",
      " 38  co2_emission                   14111 non-null  object \n",
      " 39  emission_class                 12898 non-null  object \n",
      " 40  comfort_convenience            14999 non-null  object \n",
      " 41  entertainment_media            14545 non-null  object \n",
      " 42  extras                         12957 non-null  object \n",
      " 43  safety_security                14937 non-null  object \n",
      " 44  description                    15919 non-null  object \n",
      " 45  emission_label                 3985 non-null   object \n",
      " 46  gears                          11207 non-null  object \n",
      " 47  country_version                7586 non-null   object \n",
      " 48  electricity_consumption        137 non-null    object \n",
      " 49  last_service_date              566 non-null    object \n",
      " 50  other_fuel_types               880 non-null    object \n",
      " 51  availability                   635 non-null    object \n",
      " 52  last_timing_belt_service_date  16 non-null     object \n",
      " 53  available_from                 272 non-null    object \n",
      "dtypes: float64(1), int64(1), object(52)\n",
      "memory usage: 6.6+ MB\n"
     ]
    }
   ],
   "source": [
    "df.info()"
   ]
  },
  {
   "cell_type": "code",
   "execution_count": 10,
   "id": "34ad4f85",
   "metadata": {},
   "outputs": [
    {
     "name": "stdout",
     "output_type": "stream",
     "text": [
      "index\tn_notNA\tCol_Name\n",
      "0\t15919\turl\n",
      "1\t15919\tmake_model\n",
      "4\t15919\tprice\n",
      "6\t15919\tkm\n",
      "7\t15919\tregistration\n",
      "10\t15919\thp\n",
      "18\t15919\tnull\n",
      "19\t15919\tmake\n",
      "20\t15919\tmodel\n",
      "31\t15919\tgearing_type\n",
      "36\t15919\tfuel\n",
      "44\t15919\tdescription\n",
      "11\t15917\ttype\n",
      "2\t15873\tshort_description\n",
      "3\t15859\tbody_type\n",
      "27\t15859\tbody\n",
      "28\t15707\tnr_doors\n",
      "32\t15423\tdisplacement\n",
      "23\t15322\tbody_color\n",
      "40\t14999\tcomfort_convenience\n",
      "29\t14942\tnr_seats\n",
      "43\t14937\tsafety_security\n",
      "41\t14545\tentertainment_media\n",
      "22\t14322\tfirst_registration\n",
      "38\t14111\tco2_emission\n",
      "37\t14013\tconsumption\n",
      "42\t12957\textras\n",
      "39\t12898\temission_class\n",
      "21\t12744\toffer_number\n",
      "26\t12199\tupholstery\n",
      "25\t12160\tbody_color_original\n",
      "5\t11406\tvat\n",
      "46\t11207\tgears\n",
      "15\t10499\twarranty\n",
      "33\t10239\tcylinders\n",
      "24\t10147\tpaint_type\n",
      "12\t9279\tprevious_owners\n",
      "8\t9091\tprev_owner\n",
      "35\t9061\tdrive_chain\n",
      "34\t8945\tweight\n",
      "16\t8215\tfull_service\n",
      "47\t7586\tcountry_version\n",
      "17\t7177\tnon_smoking_vehicle\n",
      "30\t4978\tmodel_code\n",
      "45\t3985\temission_label\n",
      "14\t3932\tinspection_new\n",
      "13\t3535\tnext_inspection\n",
      "50\t880\tother_fuel_types\n",
      "51\t635\tavailability\n",
      "49\t566\tlast_service_date\n",
      "53\t272\tavailable_from\n",
      "48\t137\telectricity_consumption\n",
      "52\t16\tlast_timing_belt_service_date\n",
      "9\t0\tkw\n"
     ]
    }
   ],
   "source": [
    "missing = {}\n",
    "for i,c in enumerate(cols):\n",
    "    m = df[c].count()\n",
    "    missing[c] = (i, m)\n",
    "missing = [(missing[k][0], k, missing[k][1]) for k in missing.keys()]\n",
    "missing.sort(key = lambda t: -1*t[2])\n",
    "print('index\\tn_notNA\\tCol_Name')\n",
    "for c in missing:    \n",
    "    print(f'{c[0]}\\t{c[2]}\\t{c[1]}')"
   ]
  },
  {
   "cell_type": "markdown",
   "id": "3b39c2b5",
   "metadata": {},
   "source": [
    "### Features Lists\n",
    "\n",
    "ignore is a list of features that can be ignored.\n",
    "\n",
    "to_encode is a list of features that need to be made into dummy variables during analysis"
   ]
  },
  {
   "cell_type": "code",
   "execution_count": 11,
   "id": "94255e03",
   "metadata": {},
   "outputs": [],
   "source": [
    "ignore = set()\n",
    "to_encode = set()"
   ]
  },
  {
   "cell_type": "code",
   "execution_count": 12,
   "id": "f8b7d03f",
   "metadata": {},
   "outputs": [],
   "source": [
    "ignore.add('kw')\n",
    "ignore.add('last_timing_belt_service_date')"
   ]
  },
  {
   "cell_type": "markdown",
   "id": "947a544a",
   "metadata": {},
   "source": [
    "### Explore electricity_consumption \n",
    "\n",
    "n = 137\n",
    "\n",
    "same entry of [\\n0 kWh/100 km (comb)\\n] all 137 times it occurs. "
   ]
  },
  {
   "cell_type": "code",
   "execution_count": 13,
   "id": "07cf7a60",
   "metadata": {},
   "outputs": [
    {
     "ename": "TypeError",
     "evalue": "unhashable type: 'list'",
     "output_type": "error",
     "traceback": [
      "\u001b[1;31m---------------------------------------------------------------------------\u001b[0m",
      "\u001b[1;31mTypeError\u001b[0m                                 Traceback (most recent call last)",
      "\u001b[1;32mpandas\\_libs\\hashtable_class_helper.pxi\u001b[0m in \u001b[0;36mpandas._libs.hashtable.PyObjectHashTable.map_locations\u001b[1;34m()\u001b[0m\n",
      "\u001b[1;31mTypeError\u001b[0m: unhashable type: 'list'"
     ]
    },
    {
     "name": "stderr",
     "output_type": "stream",
     "text": [
      "Exception ignored in: 'pandas._libs.index.IndexEngine._call_map_locations'\n",
      "Traceback (most recent call last):\n",
      "  File \"pandas\\_libs\\hashtable_class_helper.pxi\", line 5231, in pandas._libs.hashtable.PyObjectHashTable.map_locations\n",
      "TypeError: unhashable type: 'list'\n"
     ]
    },
    {
     "data": {
      "text/plain": [
       "[\\n0 kWh/100 km (comb)\\n]    137\n",
       "Name: electricity_consumption, dtype: int64"
      ]
     },
     "execution_count": 13,
     "metadata": {},
     "output_type": "execute_result"
    }
   ],
   "source": [
    "df['electricity_consumption'].value_counts()"
   ]
  },
  {
   "cell_type": "code",
   "execution_count": 14,
   "id": "b5e2ebe2",
   "metadata": {},
   "outputs": [],
   "source": [
    "ignore.add('electricity_consumption')"
   ]
  },
  {
   "cell_type": "markdown",
   "id": "0fa8e3b7",
   "metadata": {},
   "source": [
    "### Explore available_from\n",
    "\n",
    "* n = 272\n",
    "* dates in dd/mm/yy format\n",
    "* ignore available_from"
   ]
  },
  {
   "cell_type": "code",
   "execution_count": 15,
   "id": "21f4af44",
   "metadata": {},
   "outputs": [
    {
     "data": {
      "text/plain": [
       "\\n31/08/19\\n    98\n",
       "\\n30/07/19\\n    25\n",
       "\\n15/08/19\\n    24\n",
       "\\n16/09/19\\n    14\n",
       "\\n29/06/19\\n    12\n",
       "\\n01/07/19\\n    11\n",
       "\\n28/06/19\\n    10\n",
       "\\n19/08/19\\n     7\n",
       "\\n10/09/19\\n     6\n",
       "\\n26/06/19\\n     5\n",
       "\\n27/06/19\\n     5\n",
       "\\n10/11/19\\n     5\n",
       "\\n08/07/19\\n     4\n",
       "\\n25/10/19\\n     3\n",
       "\\n15/07/19\\n     3\n",
       "\\n01/08/19\\n     3\n",
       "\\n04/07/19\\n     2\n",
       "\\n05/08/19\\n     2\n",
       "\\n24/08/19\\n     2\n",
       "\\n16/07/19\\n     2\n",
       "\\n20/07/19\\n     2\n",
       "\\n05/07/19\\n     2\n",
       "\\n30/06/19\\n     2\n",
       "\\n30/09/19\\n     1\n",
       "\\n31/10/19\\n     1\n",
       "\\n27/07/19\\n     1\n",
       "\\n02/07/19\\n     1\n",
       "\\n10/07/19\\n     1\n",
       "\\n19/07/19\\n     1\n",
       "\\n24/07/19\\n     1\n",
       "\\n29/07/19\\n     1\n",
       "\\n29/09/19\\n     1\n",
       "\\n18/08/19\\n     1\n",
       "\\n14/09/19\\n     1\n",
       "\\n18/07/19\\n     1\n",
       "\\n16/08/19\\n     1\n",
       "\\n24/09/19\\n     1\n",
       "\\n17/08/19\\n     1\n",
       "\\n10/10/19\\n     1\n",
       "\\n06/12/19\\n     1\n",
       "\\n03/12/19\\n     1\n",
       "\\n05/12/19\\n     1\n",
       "\\n11/08/19\\n     1\n",
       "\\n10/12/19\\n     1\n",
       "\\n01/09/19\\n     1\n",
       "\\n03/08/19\\n     1\n",
       "Name: available_from, dtype: int64"
      ]
     },
     "execution_count": 15,
     "metadata": {},
     "output_type": "execute_result"
    }
   ],
   "source": [
    "df['available_from'].value_counts()"
   ]
  },
  {
   "cell_type": "code",
   "execution_count": 16,
   "id": "c0f09bc1",
   "metadata": {},
   "outputs": [],
   "source": [
    "ignore.add(\"available_from\")"
   ]
  },
  {
   "cell_type": "markdown",
   "id": "7a3f4ec3",
   "metadata": {},
   "source": [
    "### Explore availability \n",
    "\n",
    "* n = 635/16,000\n",
    "* ignore availability"
   ]
  },
  {
   "cell_type": "code",
   "execution_count": 17,
   "id": "da22123c",
   "metadata": {},
   "outputs": [
    {
     "data": {
      "text/plain": [
       "\\nin 90 days from ordering\\n     196\n",
       "\\nin 120 days from ordering\\n    182\n",
       "\\nin 1 day from ordering\\n        51\n",
       "\\nin 5 days from ordering\\n       35\n",
       "\\nin 3 days from ordering\\n       35\n",
       "\\nin 180 days from ordering\\n     24\n",
       "\\nin 14 days from ordering\\n      24\n",
       "\\nin 7 days from ordering\\n       20\n",
       "\\nin 150 days from ordering\\n     18\n",
       "\\nin 2 days from ordering\\n       16\n",
       "\\nin 60 days from ordering\\n      13\n",
       "\\nin 42 days from ordering\\n      10\n",
       "\\nin 21 days from ordering\\n       8\n",
       "\\nin 4 days from ordering\\n        2\n",
       "\\nin 6 days from ordering\\n        1\n",
       "Name: availability, dtype: int64"
      ]
     },
     "execution_count": 17,
     "metadata": {},
     "output_type": "execute_result"
    }
   ],
   "source": [
    "df['availability'].value_counts()"
   ]
  },
  {
   "cell_type": "code",
   "execution_count": 18,
   "id": "d31ed66e",
   "metadata": {},
   "outputs": [],
   "source": [
    "ignore.add(\"availability\")"
   ]
  },
  {
   "cell_type": "markdown",
   "id": "bcbcbad7",
   "metadata": {},
   "source": [
    "###  Explore last_service_date \n",
    "\n",
    "* n = 566 compared to ~16000\n",
    "* mostly lists, seems to have the i=0 of last service data in the format mm/yy, buy also have other features mixed up. Once in a while a non-list\n",
    "* Euro 6 seems to be \"emission_class\" in a handful of cases (5-6) these seem to have been placed in last_service_date column instead of \"emission_class\". Repeated information. Can be ignored.\n",
    "* and C02/km is \"co2_emission\". Repeated information. Can be ignored. \n",
    "* Sometimes color (Green) (Blue). Repeated information. Can be ignored.\n",
    "* last_service_date may be ignored"
   ]
  },
  {
   "cell_type": "code",
   "execution_count": 19,
   "id": "0ef348bc",
   "metadata": {},
   "outputs": [
    {
     "ename": "TypeError",
     "evalue": "unhashable type: 'list'",
     "output_type": "error",
     "traceback": [
      "\u001b[1;31m---------------------------------------------------------------------------\u001b[0m",
      "\u001b[1;31mTypeError\u001b[0m                                 Traceback (most recent call last)",
      "\u001b[1;32mpandas\\_libs\\hashtable_class_helper.pxi\u001b[0m in \u001b[0;36mpandas._libs.hashtable.PyObjectHashTable.map_locations\u001b[1;34m()\u001b[0m\n",
      "\u001b[1;31mTypeError\u001b[0m: unhashable type: 'list'"
     ]
    },
    {
     "name": "stderr",
     "output_type": "stream",
     "text": [
      "Exception ignored in: 'pandas._libs.index.IndexEngine._call_map_locations'\n",
      "Traceback (most recent call last):\n",
      "  File \"pandas\\_libs\\hashtable_class_helper.pxi\", line 5231, in pandas._libs.hashtable.PyObjectHashTable.map_locations\n",
      "TypeError: unhashable type: 'list'\n"
     ]
    },
    {
     "data": {
      "text/plain": [
       "[\\n02/2019\\n, \\nEuro 6\\n]                 23\n",
       "[\\n05/2019\\n, \\nEuro 6\\n]                 16\n",
       "[\\n01/2018\\n, \\n118 g CO2/km (comb)\\n]    15\n",
       "[\\n03/2019\\n, \\nEuro 6\\n]                 15\n",
       "[\\n06/2019\\n, \\nEuro 6\\n]                 13\n",
       "                                          ..\n",
       "[\\n01/2017\\n, \\n95 g CO2/km (comb)\\n]      1\n",
       "[\\n06/2019\\n, \\n87 g CO2/km (comb)\\n]      1\n",
       "[\\n10/2018\\n, \\n100 g CO2/km (comb)\\n]     1\n",
       "[\\n02/2018\\n, \\n97 g CO2/km (comb)\\n]      1\n",
       "[\\n03/2019\\n, \\n120 g CO2/km (comb)\\n]     1\n",
       "Name: last_service_date, Length: 266, dtype: int64"
      ]
     },
     "execution_count": 19,
     "metadata": {},
     "output_type": "execute_result"
    }
   ],
   "source": [
    "df['last_service_date'].value_counts()"
   ]
  },
  {
   "cell_type": "code",
   "execution_count": 20,
   "id": "a8ceb8be",
   "metadata": {},
   "outputs": [
    {
     "ename": "TypeError",
     "evalue": "unhashable type: 'list'",
     "output_type": "error",
     "traceback": [
      "\u001b[1;31m---------------------------------------------------------------------------\u001b[0m",
      "\u001b[1;31mTypeError\u001b[0m                                 Traceback (most recent call last)",
      "\u001b[1;32mpandas\\_libs\\hashtable_class_helper.pxi\u001b[0m in \u001b[0;36mpandas._libs.hashtable.PyObjectHashTable.map_locations\u001b[1;34m()\u001b[0m\n",
      "\u001b[1;31mTypeError\u001b[0m: unhashable type: 'list'"
     ]
    },
    {
     "name": "stderr",
     "output_type": "stream",
     "text": [
      "Exception ignored in: 'pandas._libs.index.IndexEngine._call_map_locations'\n",
      "Traceback (most recent call last):\n",
      "  File \"pandas\\_libs\\hashtable_class_helper.pxi\", line 5231, in pandas._libs.hashtable.PyObjectHashTable.map_locations\n",
      "TypeError: unhashable type: 'list'\n"
     ]
    },
    {
     "data": {
      "text/plain": [
       "[\\n02/2019\\n, \\nEuro 6\\n]                 23\n",
       "[\\n05/2019\\n, \\nEuro 6\\n]                 16\n",
       "[\\n01/2018\\n, \\n118 g CO2/km (comb)\\n]    15\n",
       "[\\n03/2019\\n, \\nEuro 6\\n]                 15\n",
       "[\\n06/2019\\n, \\nEuro 6\\n]                 13\n",
       "                                          ..\n",
       "[\\n01/2017\\n, \\n95 g CO2/km (comb)\\n]      1\n",
       "[\\n06/2019\\n, \\n87 g CO2/km (comb)\\n]      1\n",
       "[\\n10/2018\\n, \\n100 g CO2/km (comb)\\n]     1\n",
       "[\\n02/2018\\n, \\n97 g CO2/km (comb)\\n]      1\n",
       "[\\n03/2019\\n, \\n120 g CO2/km (comb)\\n]     1\n",
       "Name: last_service_date, Length: 266, dtype: int64"
      ]
     },
     "execution_count": 20,
     "metadata": {},
     "output_type": "execute_result"
    }
   ],
   "source": [
    "lsd_vc = df['last_service_date'].value_counts()\n",
    "lsd_vc"
   ]
  },
  {
   "cell_type": "code",
   "execution_count": 21,
   "id": "cbf4b295",
   "metadata": {},
   "outputs": [
    {
     "data": {
      "text/plain": [
       "[['\\n02/2019\\n', '\\nEuro 6\\n'],\n",
       " ['\\n05/2019\\n', '\\nEuro 6\\n'],\n",
       " ['\\n01/2018\\n', '\\n118 g CO2/km (comb)\\n'],\n",
       " ['\\n03/2019\\n', '\\nEuro 6\\n'],\n",
       " ['\\n06/2019\\n', '\\nEuro 6\\n'],\n",
       " ['\\n04/2019\\n', '\\nEuro 6\\n'],\n",
       " ['\\n01/2019\\n', '\\nEuro 6\\n'],\n",
       " ['\\n12/2018\\n', '\\nEuro 6\\n'],\n",
       " ['\\n10/2018\\n', '\\nEuro 6\\n'],\n",
       " '\\n02/2019\\n',\n",
       " ['\\n05/2018\\n', '\\nEuro 6\\n'],\n",
       " ['\\n11/2018\\n', '\\nEuro 6\\n'],\n",
       " ['\\n05/2019\\n', '\\n120 g CO2/km (comb)\\n'],\n",
       " ['\\n09/2018\\n', '\\nEuro 6\\n'],\n",
       " ['\\n08/2018\\n', '\\nEuro 6\\n'],\n",
       " ['\\n06/2018\\n', '\\nEuro 6\\n'],\n",
       " '\\n12/2018\\n',\n",
       " '\\n05/2019\\n',\n",
       " ['\\n04/2018\\n', '\\nEuro 6\\n'],\n",
       " ['\\n12/2018\\n'],\n",
       " '\\n03/2019\\n',\n",
       " ['\\n05/2019\\n', '\\n127 g CO2/km (comb)\\n'],\n",
       " ['\\n01/2019\\n', '\\n120 g CO2/km (comb)\\n'],\n",
       " ['\\n06/2019\\n', '\\n104 g CO2/km (comb)\\n'],\n",
       " ['\\n01/2019\\n'],\n",
       " ['\\n07/2018\\n', '\\nEuro 6\\n'],\n",
       " ['\\n06/2017\\n', '\\n114 g CO2/km (comb)\\n'],\n",
       " '\\n04/2019\\n',\n",
       " '\\n07/2018\\n',\n",
       " ['\\n03/2019\\n', '\\n99 g CO2/km (comb)\\n'],\n",
       " '\\n06/2018\\n',\n",
       " ['\\n04/2019\\n'],\n",
       " ['\\n01/2019\\n', '\\n127 g CO2/km (comb)\\n'],\n",
       " ['\\n07/2018\\n', '\\nEuro 6d-TEMP\\n'],\n",
       " ['\\n02/2019\\n'],\n",
       " ['\\n05/2018\\n', '\\n99 g CO2/km (comb)\\n'],\n",
       " ['\\n06/2019\\n', '\\n124 g CO2/km (comb)\\n'],\n",
       " ['\\n04/2019\\n', '\\nEuro 6d-TEMP\\n'],\n",
       " ['\\n05/2018\\n', '\\n130 g CO2/km (comb)\\n'],\n",
       " ['\\n04/2019\\n', '\\n104 g CO2/km (comb)\\n'],\n",
       " ['\\n05/2017\\n', '\\n118 g CO2/km (comb)\\n'],\n",
       " ['\\n03/2018\\n', '\\nEuro 6\\n'],\n",
       " ['\\n02/2017\\n', '\\n102 g CO2/km (comb)\\n'],\n",
       " ['\\n02/2019\\n', '\\nEuro 6d-TEMP\\n'],\n",
       " ['\\n05/2019\\n', '\\n99 g CO2/km (comb)\\n'],\n",
       " '\\n06/2019\\n',\n",
       " ['\\n05/2019\\n', '\\n134 g CO2/km (comb)\\n'],\n",
       " ['\\n04/2019\\n', '\\n124 g CO2/km (comb)\\n'],\n",
       " ['\\n04/2019\\n', '\\n120 g CO2/km (comb)\\n'],\n",
       " ['\\n01/2019\\n', '\\n92 g CO2/km (comb)\\n'],\n",
       " ['\\n02/2019\\n', '\\n116 g CO2/km (comb)\\n'],\n",
       " ['\\n05/2019\\n', '\\n85 g CO2/km (comb)\\n'],\n",
       " '\\n10/2018\\n',\n",
       " '\\n11/2018\\n',\n",
       " ['\\n04/2019\\n', '\\n119 g CO2/km (comb)\\n'],\n",
       " ['\\n01/2019\\n', '\\n118 g CO2/km (comb)\\n'],\n",
       " ['\\n06/2019\\n', '\\n107 g CO2/km (comb)\\n'],\n",
       " ['\\n07/2018\\n'],\n",
       " ['\\n04/2019\\n', '\\n135 g CO2/km (comb)\\n'],\n",
       " ['\\n06/2019\\n', '\\n119 g CO2/km (comb)\\n'],\n",
       " ['\\n09/2018\\n', '\\n99 g CO2/km (comb)\\n'],\n",
       " '\\n04/2018\\n',\n",
       " ['\\n02/2018\\n', '\\nEuro 6\\n'],\n",
       " ['\\n01/2019\\n', '\\n115 g CO2/km (comb)\\n'],\n",
       " '\\n08/2018\\n',\n",
       " ['\\n01/2019\\n', '\\n99 g CO2/km (comb)\\n'],\n",
       " ['\\n06/2019\\n', '\\n92 g CO2/km (comb)\\n'],\n",
       " ['\\n01/2018\\n', '\\n95 g CO2/km (comb)\\n'],\n",
       " ['\\n05/2019\\n', '\\n124 g CO2/km (comb)\\n'],\n",
       " ['\\n05/2019\\n', '\\n97 g CO2/km (comb)\\n'],\n",
       " ['\\n12/2018\\n', '\\n99 g CO2/km (comb)\\n'],\n",
       " ['\\n06/2019\\n', '\\n97 g CO2/km (comb)\\n'],\n",
       " ['\\n02/2019\\n', '\\n120 g CO2/km (comb)\\n'],\n",
       " ['\\n09/2018\\n'],\n",
       " ['\\n03/2019\\n', '\\n97 g CO2/km (comb)\\n'],\n",
       " ['\\n05/2018\\n', '\\n124 g CO2/km (comb)\\n'],\n",
       " ['\\n01/2019\\n', '\\n97 g CO2/km (comb)\\n'],\n",
       " ['\\n10/2018\\n', '\\n106 g CO2/km (comb)\\n'],\n",
       " ['\\n06/2019\\n', '\\n108 g CO2/km (comb)\\n'],\n",
       " ['\\n10/2017\\n', '\\nEuro 6\\n'],\n",
       " ['\\n10/2018\\n', '\\n97 g CO2/km (comb)\\n'],\n",
       " '\\n09/2018\\n',\n",
       " ['\\n11/2018\\n'],\n",
       " ['\\n03/2018\\n', '\\n99 g CO2/km (comb)\\n'],\n",
       " ['\\n11/2018\\n', '\\n99 g CO2/km (comb)\\n'],\n",
       " ['\\n06/2019\\n', '\\n110 g CO2/km (comb)\\n'],\n",
       " ['\\n03/2019\\n', '\\n140 g CO2/km (comb)\\n'],\n",
       " ['\\n01/2019\\n', '\\nEuro 6d-TEMP\\n'],\n",
       " '\\n01/2019\\n',\n",
       " ['\\n01/2019\\n', '\\n119 g CO2/km (comb)\\n'],\n",
       " ['\\n05/2018\\n', '\\n104 g CO2/km (comb)\\n'],\n",
       " ['\\n04/2019\\n', '\\n112 g CO2/km (comb)\\n'],\n",
       " ['\\n04/2019\\n', '\\n109 g CO2/km (comb)\\n'],\n",
       " ['\\n06/2019\\n', '\\n134 g CO2/km (comb)\\n'],\n",
       " ['\\n03/2018\\n', '\\n114 g CO2/km (comb)\\n'],\n",
       " ['\\n03/2019\\n', '\\nEuro 6d-TEMP\\n'],\n",
       " ['\\n06/2018\\n', '\\n109 g CO2/km (comb)\\n'],\n",
       " ['\\n11/2018\\n', '\\n104 g CO2/km (comb)\\n'],\n",
       " ['\\n02/2019\\n', '\\n110 g CO2/km (comb)\\n'],\n",
       " ['\\n06/2018\\n', '\\n131 g CO2/km (comb)\\n'],\n",
       " ['\\n03/2019\\n', '\\n110 g CO2/km (comb)\\n'],\n",
       " ['\\n02/2019\\n', '\\nEuro 4\\n'],\n",
       " ['\\n06/2016\\n', '\\n149 g CO2/km (comb)\\n'],\n",
       " ['\\n05/2019\\n', '\\n169 g CO2/km (comb)\\n'],\n",
       " ['\\n05/2019\\n', '\\n118 g CO2/km (comb)\\n'],\n",
       " ['\\n06/2019\\n', '\\n129 g CO2/km (comb)\\n'],\n",
       " ['\\n05/2019\\n', '\\n126 g CO2/km (comb)\\n'],\n",
       " ['\\n04/2018\\n', '\\n124 g CO2/km (comb)\\n'],\n",
       " ['\\n04/2019\\n', '\\n4 (Green)\\n'],\n",
       " ['\\n08/2018\\n', '\\n4 (Green)\\n'],\n",
       " ['\\n03/2019\\n', '\\n128 g CO2/km (comb)\\n'],\n",
       " ['\\n05/2019\\n', '\\nEuro 6d-TEMP\\n'],\n",
       " ['\\n06/2018\\n', '\\n124 g CO2/km (comb)\\n'],\n",
       " ['\\n03/2019\\n', '\\n126 g CO2/km (comb)\\n'],\n",
       " ['\\n02/2019\\n', '\\n137 g CO2/km (comb)\\n'],\n",
       " ['\\n04/2018\\n', '\\n4 (Green)\\n'],\n",
       " ['\\n08/2018\\n', '\\n127 g CO2/km (comb)\\n'],\n",
       " ['\\n07/2017\\n', '\\nEuro 6\\n'],\n",
       " ['\\n03/2018\\n', '\\n104 g CO2/km (comb)\\n'],\n",
       " ['\\n04/2019\\n', '\\n127 g CO2/km (comb)\\n'],\n",
       " ['\\n12/2018\\n', '\\n104 g CO2/km (comb)\\n'],\n",
       " ['\\n04/2019\\n', '\\n92 g CO2/km (comb)\\n'],\n",
       " ['\\n01/2019\\n', '\\n85 g CO2/km (comb)\\n'],\n",
       " ['\\n06/2018\\n', '\\n135 g CO2/km (comb)\\n'],\n",
       " ['\\n03/2019\\n', '\\n85 g CO2/km (comb)\\n'],\n",
       " ['\\n10/2018\\n', '\\n135 g CO2/km (comb)\\n'],\n",
       " ['\\n02/2019\\n', '\\n135 g CO2/km (comb)\\n'],\n",
       " ['\\n02/2019\\n', '\\n114 g CO2/km (comb)\\n'],\n",
       " ['\\n03/2019\\n', '\\n127 g CO2/km (comb)\\n'],\n",
       " ['\\n06/2018\\n', '\\n120 g CO2/km (comb)\\n'],\n",
       " ['\\n02/2019\\n', '\\nEuro 6d\\n'],\n",
       " ['\\n03/2018\\n', '\\n140 g CO2/km (comb)\\n'],\n",
       " ['\\n12/2017\\n', '\\n120 g CO2/km (comb)\\n'],\n",
       " ['\\n03/2019\\n', '\\nEuro 5\\n'],\n",
       " '\\n07/2017\\n',\n",
       " '\\n07/2019\\n',\n",
       " ['\\n11/2017\\n', '\\nEuro 6\\n'],\n",
       " ['\\n04/2017\\n', '\\n120 g CO2/km (comb)\\n'],\n",
       " ['\\n07/2018\\n', '\\nEuro 6d\\n'],\n",
       " ['\\n05/2018\\n', '\\n116 g CO2/km (comb)\\n'],\n",
       " ['\\n04/2016\\n', '\\nEuro 6\\n'],\n",
       " ['\\n07/2018\\n', '\\n127 g CO2/km (comb)\\n'],\n",
       " ['\\n06/2019\\n', '\\n127 g CO2/km (comb)\\n'],\n",
       " ['\\n11/2019\\n', '\\nEuro 6\\n'],\n",
       " ['\\n09/2018\\n', '\\n92 g CO2/km (comb)\\n'],\n",
       " ['\\n04/2018\\n'],\n",
       " ['\\n07/2018\\n', '\\nEuro 6c\\n'],\n",
       " ['\\n08/2018\\n', '\\n138 g CO2/km (comb)\\n'],\n",
       " ['\\n03/2019\\n', '\\n145 g CO2/km (comb)\\n'],\n",
       " ['\\n05/2019\\n', '\\n133 g CO2/km (comb)\\n'],\n",
       " ['\\n09/2018\\n', '\\nEuro 6d-TEMP\\n'],\n",
       " ['\\n01/2019\\n', '\\n133 g CO2/km (comb)\\n'],\n",
       " ['\\n04/2018\\n', '\\n133 g CO2/km (comb)\\n'],\n",
       " ['\\n03/2019\\n', '\\nEuro 6c\\n'],\n",
       " ['\\n06/2019\\n', '\\n128 g CO2/km (comb)\\n'],\n",
       " ['\\n10/2019\\n', '\\n120 g CO2/km (comb)\\n'],\n",
       " ['\\n06/2019\\n', '\\n85 g CO2/km (comb)\\n'],\n",
       " ['\\n04/2019\\n',\n",
       "  '\\n',\n",
       "  '5.6 l/100 km (comb)',\n",
       "  '\\n',\n",
       "  '7.2 l/100 km (city)',\n",
       "  '\\n',\n",
       "  '4.7 l/100 km (country)',\n",
       "  '\\n'],\n",
       " ['\\n02/2019\\n', '\\n127 g CO2/km (comb)\\n'],\n",
       " ['\\n02/2019\\n', '\\n92 g CO2/km (comb)\\n'],\n",
       " ['\\n06/2019\\n', '\\n120 g CO2/km (comb)\\n'],\n",
       " ['\\n10/2018\\n', '\\n127 g CO2/km (comb)\\n'],\n",
       " ['\\n03/2019\\n', '\\n135 g CO2/km (comb)\\n'],\n",
       " ['\\n05/2019\\n', '\\n135 g CO2/km (comb)\\n'],\n",
       " ['\\n07/2018\\n', '\\n92 g CO2/km (comb)\\n'],\n",
       " ['\\n04/2019\\n', '\\n85 g CO2/km (comb)\\n'],\n",
       " ['\\n06/2019\\n', '\\nEuro 6d-TEMP\\n'],\n",
       " ['\\n04/2019\\n', '\\n130 g CO2/km (comb)\\n'],\n",
       " ['\\n05/2018\\n', '\\nEuro 6d-TEMP\\n'],\n",
       " ['\\n01/2019\\n', '\\n103 g CO2/km (comb)\\n'],\n",
       " ['\\n05/2016\\n', '\\n99 g CO2/km (comb)\\n'],\n",
       " ['\\n01/2019\\n', '\\n108 g CO2/km (comb)\\n'],\n",
       " ['\\n04/2016\\n', '\\n99 g CO2/km (comb)\\n'],\n",
       " ['\\n12/2018\\n', '\\n102 g CO2/km (comb)\\n'],\n",
       " ['\\n03/2018\\n', '\\n4 (Green)\\n'],\n",
       " ['\\n01/2018\\n', '\\nEuro 6\\n'],\n",
       " ['\\n06/2019\\n', '\\n94 g CO2/km (comb)\\n'],\n",
       " ['\\n03/2019\\n', '\\n119 g CO2/km (comb)\\n'],\n",
       " ['\\n05/2019\\n', '\\n103 g CO2/km (comb)\\n'],\n",
       " ['\\n03/2019\\n', '\\n104 g CO2/km (comb)\\n'],\n",
       " ['\\n10/2018\\n', '\\n99 g CO2/km (comb)\\n'],\n",
       " ['\\n07/2018\\n', '\\n114 g CO2/km (comb)\\n'],\n",
       " ['\\n12/2018\\n', '\\n128 g CO2/km (comb)\\n'],\n",
       " ['\\n02/2019\\n', '\\n103 g CO2/km (comb)\\n'],\n",
       " ['\\n06/2018\\n', '\\n99 g CO2/km (comb)\\n'],\n",
       " ['\\n10/2017\\n', '\\n102 g CO2/km (comb)\\n'],\n",
       " ['\\n01/2019\\n', '\\n114 g CO2/km (comb)\\n'],\n",
       " ['\\n01/2017\\n', '\\n102 g CO2/km (comb)\\n'],\n",
       " ['\\n01/2019\\n', '\\n106 g CO2/km (comb)\\n'],\n",
       " ['\\n06/2019\\n', '\\n102 g CO2/km (comb)\\n'],\n",
       " ['\\n12/2017\\n', '\\n105 g CO2/km (comb)\\n'],\n",
       " ['\\n10/2018\\n'],\n",
       " ['\\n04/2019\\n', '\\n128 g CO2/km (comb)\\n'],\n",
       " ['\\n04/2019\\n', '\\n107 g CO2/km (comb)\\n'],\n",
       " ['\\n04/2018\\n', '\\n104 g CO2/km (comb)\\n'],\n",
       " ['\\n06/2018\\n', '\\n102 g CO2/km (comb)\\n'],\n",
       " ['\\n03/2019\\n', '\\n5 (Blue)\\n'],\n",
       " ['\\n06/2017\\n'],\n",
       " ['\\n01/2018\\n', '\\n114 g CO2/km (comb)\\n'],\n",
       " ['\\n05/2019\\n', '\\n109 g CO2/km (comb)\\n'],\n",
       " ['\\n05/2019\\n', '\\n101 g CO2/km (comb)\\n'],\n",
       " ['\\n02/2019\\n', '\\n4 (Green)\\n'],\n",
       " ['\\n06/2017\\n', '\\n102 g CO2/km (comb)\\n'],\n",
       " ['\\n01/2019\\n', '\\n98 g CO2/km (comb)\\n'],\n",
       " ['\\n03/2016\\n', '\\nEuro 6\\n'],\n",
       " ['\\n07/2018\\n', '\\n97 g CO2/km (comb)\\n'],\n",
       " ['\\n06/2019\\n', '\\n4 (Green)\\n'],\n",
       " ['\\n10/2018\\n', '\\n94 g CO2/km (comb)\\n'],\n",
       " ['\\n04/2019\\n', '\\n90 g CO2/km (comb)\\n'],\n",
       " ['\\n07/2018\\n', '\\n102 g CO2/km (comb)\\n'],\n",
       " ['\\n09/2018\\n', '\\n97 g CO2/km (comb)\\n'],\n",
       " '\\n02/2018\\n',\n",
       " ['\\n12/2017\\n', '\\nEuro 6\\n'],\n",
       " ['\\n01/2019\\n', '\\n110 g CO2/km (comb)\\n'],\n",
       " ['\\n02/2019\\n', '\\n97 g CO2/km (comb)\\n'],\n",
       " ['\\n01/2019\\n', '\\n91 g CO2/km (comb)\\n'],\n",
       " ['\\n01/2017\\n', '\\n107 g CO2/km (comb)\\n'],\n",
       " '\\n01/2018\\n',\n",
       " '\\n05/2018\\n',\n",
       " ['\\n06/2019\\n', '\\n99 g CO2/km (comb)\\n'],\n",
       " ['\\n06/2019\\n'],\n",
       " ['\\n06/2017\\n', '\\n92 g CO2/km (comb)\\n'],\n",
       " ['\\n12/2018\\n', '\\n97 g CO2/km (comb)\\n'],\n",
       " ['\\n05/2019\\n', '\\n93 g CO2/km (comb)\\n'],\n",
       " ['\\n02/2019\\n', '\\n102 g CO2/km (comb)\\n'],\n",
       " ['\\n05/2019\\n', '\\n4 (Green)\\n'],\n",
       " ['\\n03/2019\\n', '\\n92 g CO2/km (comb)\\n'],\n",
       " ['\\n06/2019\\n', '\\n121 g CO2/km (comb)\\n'],\n",
       " ['\\n05/2019\\n', '\\n89 g CO2/km (comb)\\n'],\n",
       " ['\\n02/2018\\n', '\\n128 g CO2/km (comb)\\n'],\n",
       " ['\\n02/2019\\n', '\\n128 g CO2/km (comb)\\n'],\n",
       " ['\\n06/2018\\n', '\\n149 g CO2/km (comb)\\n'],\n",
       " ['\\n03/2019\\n',\n",
       "  '\\n',\n",
       "  '4.8 l/100 km (comb)',\n",
       "  '\\n',\n",
       "  '5.8 l/100 km (city)',\n",
       "  '\\n',\n",
       "  '4.1 l/100 km (country)',\n",
       "  '\\n'],\n",
       " ['\\n10/2018\\n', '\\n149 g CO2/km (comb)\\n'],\n",
       " ['\\n08/2018\\n', '\\nEuro 6d-TEMP\\n'],\n",
       " ['\\n03/2019\\n', '\\n139 g CO2/km (comb)\\n'],\n",
       " ['\\n04/2018\\n', '\\n123 g CO2/km (comb)\\n'],\n",
       " ['\\n04/2018\\n', '\\n110 g CO2/km (comb)\\n'],\n",
       " ['\\n03/2019\\n', '\\n129 g CO2/km (comb)\\n'],\n",
       " ['\\n12/2018\\n', '\\n5 (Blue)\\n'],\n",
       " ['\\n11/2017\\n', '\\nEuro 6d-TEMP\\n'],\n",
       " ['\\n10/2018\\n', '\\n124 g CO2/km (comb)\\n'],\n",
       " ['\\n01/2019\\n', '\\n104 g CO2/km (comb)\\n'],\n",
       " ['\\n07/2018\\n', '\\n107 g CO2/km (comb)\\n'],\n",
       " ['\\n05/2019\\n'],\n",
       " ['\\n01/2019\\n', '\\n107 g CO2/km (comb)\\n'],\n",
       " ['\\n06/2018\\n', '\\n108 g CO2/km (comb)\\n'],\n",
       " ['\\n12/2018\\n', '\\n111 g CO2/km (comb)\\n'],\n",
       " ['\\n04/2018\\n', '\\n103 g CO2/km (comb)\\n'],\n",
       " ['\\n05/2019\\n', '\\n106 g CO2/km (comb)\\n'],\n",
       " ['\\n11/2018\\n', '\\n106 g CO2/km (comb)\\n'],\n",
       " ['\\n01/2019\\n', '\\n124 g CO2/km (comb)\\n'],\n",
       " ['\\n05/2019\\n', '\\n119 g CO2/km (comb)\\n'],\n",
       " ['\\n09/2019\\n', '\\nEuro 6\\n'],\n",
       " ['\\n12/2018\\n', '\\n119 g CO2/km (comb)\\n'],\n",
       " ['\\n06/2018\\n', '\\n104 g CO2/km (comb)\\n'],\n",
       " '\\n09/2017\\n',\n",
       " ['\\n03/2019\\n', '\\n112 g CO2/km (comb)\\n'],\n",
       " ['\\n11/2018\\n', '\\n97 g CO2/km (comb)\\n'],\n",
       " ['\\n08/2019\\n', '\\nEuro 6\\n'],\n",
       " ['\\n06/2016\\n', '\\n92 g CO2/km (comb)\\n'],\n",
       " ['\\n01/2017\\n', '\\n95 g CO2/km (comb)\\n'],\n",
       " ['\\n06/2019\\n', '\\n87 g CO2/km (comb)\\n'],\n",
       " ['\\n10/2018\\n', '\\n100 g CO2/km (comb)\\n'],\n",
       " ['\\n02/2018\\n', '\\n97 g CO2/km (comb)\\n'],\n",
       " ['\\n03/2019\\n', '\\n120 g CO2/km (comb)\\n']]"
      ]
     },
     "execution_count": 21,
     "metadata": {},
     "output_type": "execute_result"
    }
   ],
   "source": [
    "lsd_vc_index = [i for i in lsd_vc.index]\n",
    "lsd_vc_index"
   ]
  },
  {
   "cell_type": "code",
   "execution_count": 22,
   "id": "114b9f06",
   "metadata": {},
   "outputs": [
    {
     "ename": "TypeError",
     "evalue": "unhashable type: 'list'",
     "output_type": "error",
     "traceback": [
      "\u001b[1;31m---------------------------------------------------------------------------\u001b[0m",
      "\u001b[1;31mTypeError\u001b[0m                                 Traceback (most recent call last)",
      "\u001b[1;32mpandas\\_libs\\hashtable_class_helper.pxi\u001b[0m in \u001b[0;36mpandas._libs.hashtable.PyObjectHashTable.map_locations\u001b[1;34m()\u001b[0m\n",
      "\u001b[1;31mTypeError\u001b[0m: unhashable type: 'list'"
     ]
    },
    {
     "name": "stderr",
     "output_type": "stream",
     "text": [
      "Exception ignored in: 'pandas._libs.index.IndexEngine._call_map_locations'\n",
      "Traceback (most recent call last):\n",
      "  File \"pandas\\_libs\\hashtable_class_helper.pxi\", line 5231, in pandas._libs.hashtable.PyObjectHashTable.map_locations\n",
      "TypeError: unhashable type: 'list'\n"
     ]
    },
    {
     "data": {
      "text/plain": [
       "[\\nEuro 6\\n]          10139\n",
       "[\\nEuro 6d-TEMP\\n]     1845\n",
       "[[], [], []]            607\n",
       "[\\nEuro 6c\\n]           127\n",
       "[\\nEuro 5\\n]             78\n",
       "[\\nEuro 6d\\n]            62\n",
       "[\\nEuro 4\\n]             40\n",
       "Name: emission_class, dtype: int64"
      ]
     },
     "execution_count": 22,
     "metadata": {},
     "output_type": "execute_result"
    }
   ],
   "source": [
    "df['emission_class'].value_counts()"
   ]
  },
  {
   "cell_type": "code",
   "execution_count": 23,
   "id": "2e219496",
   "metadata": {},
   "outputs": [
    {
     "ename": "TypeError",
     "evalue": "unhashable type: 'list'",
     "output_type": "error",
     "traceback": [
      "\u001b[1;31m---------------------------------------------------------------------------\u001b[0m",
      "\u001b[1;31mTypeError\u001b[0m                                 Traceback (most recent call last)",
      "\u001b[1;32mpandas\\_libs\\hashtable_class_helper.pxi\u001b[0m in \u001b[0;36mpandas._libs.hashtable.PyObjectHashTable.map_locations\u001b[1;34m()\u001b[0m\n",
      "\u001b[1;31mTypeError\u001b[0m: unhashable type: 'list'"
     ]
    },
    {
     "name": "stderr",
     "output_type": "stream",
     "text": [
      "Exception ignored in: 'pandas._libs.index.IndexEngine._call_map_locations'\n",
      "Traceback (most recent call last):\n",
      "  File \"pandas\\_libs\\hashtable_class_helper.pxi\", line 5231, in pandas._libs.hashtable.PyObjectHashTable.map_locations\n",
      "TypeError: unhashable type: 'list'\n"
     ]
    },
    {
     "data": {
      "text/plain": [
       "[\\n01/2018\\n, \\n118 g CO2/km (comb)\\n]                                                             15\n",
       "[\\n05/2017\\n, \\n118 g CO2/km (comb)\\n]                                                              3\n",
       "[\\n05/2018\\n, \\n130 g CO2/km (comb)\\n]                                                              3\n",
       "[\\n02/2017\\n, \\n102 g CO2/km (comb)\\n]                                                              3\n",
       "[\\n12/2018\\n]                                                                                       3\n",
       "[\\n06/2017\\n, \\n114 g CO2/km (comb)\\n]                                                              3\n",
       "[\\n01/2019\\n, \\n127 g CO2/km (comb)\\n]                                                              2\n",
       "[\\n02/2019\\n]                                                                                       2\n",
       "[\\n04/2019\\n]                                                                                       2\n",
       "[\\n06/2019\\n, \\nEuro 6\\n]                                                                           2\n",
       "[\\n06/2019\\n, \\n110 g CO2/km (comb)\\n]                                                              2\n",
       "[\\n06/2018\\n, \\n102 g CO2/km (comb)\\n]                                                              1\n",
       "[\\n06/2018\\n, \\n131 g CO2/km (comb)\\n]                                                              1\n",
       "[\\n02/2019\\n, \\nEuro 6d-TEMP\\n]                                                                     1\n",
       "[\\n08/2018\\n, \\n138 g CO2/km (comb)\\n]                                                              1\n",
       "[\\n04/2018\\n]                                                                                       1\n",
       "[\\n10/2018\\n, \\nEuro 6\\n]                                                                           1\n",
       "[\\n07/2018\\n]                                                                                       1\n",
       "[\\n04/2019\\n, \\n, 5.6 l/100 km (comb), \\n, 7.2 l/100 km (city), \\n, 4.7 l/100 km (country), \\n]     1\n",
       "[\\n02/2019\\n, \\n137 g CO2/km (comb)\\n]                                                              1\n",
       "[\\n04/2019\\n, \\n112 g CO2/km (comb)\\n]                                                              1\n",
       "[\\n04/2019\\n, \\nEuro 6\\n]                                                                           1\n",
       "[\\n03/2019\\n, \\n128 g CO2/km (comb)\\n]                                                              1\n",
       "[\\n06/2017\\n]                                                                                       1\n",
       "[\\n04/2018\\n, \\n123 g CO2/km (comb)\\n]                                                              1\n",
       "[\\n10/2018\\n, \\n149 g CO2/km (comb)\\n]                                                              1\n",
       "[\\n02/2019\\n, \\n128 g CO2/km (comb)\\n]                                                              1\n",
       "[\\n02/2018\\n, \\n128 g CO2/km (comb)\\n]                                                              1\n",
       "[\\n06/2018\\n, \\n104 g CO2/km (comb)\\n]                                                              1\n",
       "[\\n04/2018\\n, \\nEuro 6\\n]                                                                           1\n",
       "[\\n05/2019\\n, \\nEuro 6\\n]                                                                           1\n",
       "[\\n05/2019\\n, \\n109 g CO2/km (comb)\\n]                                                              1\n",
       "[\\n01/2019\\n]                                                                                       1\n",
       "Name: last_service_date, dtype: int64"
      ]
     },
     "execution_count": 23,
     "metadata": {},
     "output_type": "execute_result"
    }
   ],
   "source": [
    "df['last_service_date'][df['emission_class'].isna()].value_counts()"
   ]
  },
  {
   "cell_type": "code",
   "execution_count": 24,
   "id": "fb39da12",
   "metadata": {},
   "outputs": [
    {
     "ename": "TypeError",
     "evalue": "unhashable type: 'list'",
     "output_type": "error",
     "traceback": [
      "\u001b[1;31m---------------------------------------------------------------------------\u001b[0m",
      "\u001b[1;31mTypeError\u001b[0m                                 Traceback (most recent call last)",
      "\u001b[1;32mpandas\\_libs\\hashtable_class_helper.pxi\u001b[0m in \u001b[0;36mpandas._libs.hashtable.PyObjectHashTable.map_locations\u001b[1;34m()\u001b[0m\n",
      "\u001b[1;31mTypeError\u001b[0m: unhashable type: 'list'"
     ]
    },
    {
     "name": "stderr",
     "output_type": "stream",
     "text": [
      "Exception ignored in: 'pandas._libs.index.IndexEngine._call_map_locations'\n",
      "Traceback (most recent call last):\n",
      "  File \"pandas\\_libs\\hashtable_class_helper.pxi\", line 5231, in pandas._libs.hashtable.PyObjectHashTable.map_locations\n",
      "TypeError: unhashable type: 'list'\n"
     ]
    },
    {
     "data": {
      "text/plain": [
       "[\\n120 g CO2/km (comb)\\n]      740\n",
       "[[], [], []]                   628\n",
       "[\\n99 g CO2/km (comb)\\n]       545\n",
       "[\\n97 g CO2/km (comb)\\n]       537\n",
       "[\\n104 g CO2/km (comb)\\n]      501\n",
       "                              ... \n",
       "[\\n14 g CO2/km (comb)\\n]         1\n",
       "[\\n1,060 g CO2/km (comb)\\n]      1\n",
       "[\\n51 g CO2/km (comb)\\n]         1\n",
       "[\\n165 g CO2/km (comb)\\n]        1\n",
       "[\\n193 g CO2/km (comb)\\n]        1\n",
       "Name: co2_emission, Length: 123, dtype: int64"
      ]
     },
     "execution_count": 24,
     "metadata": {},
     "output_type": "execute_result"
    }
   ],
   "source": [
    "df['co2_emission'].value_counts()"
   ]
  },
  {
   "cell_type": "code",
   "execution_count": 25,
   "id": "6eabb566",
   "metadata": {},
   "outputs": [
    {
     "ename": "TypeError",
     "evalue": "unhashable type: 'list'",
     "output_type": "error",
     "traceback": [
      "\u001b[1;31m---------------------------------------------------------------------------\u001b[0m",
      "\u001b[1;31mTypeError\u001b[0m                                 Traceback (most recent call last)",
      "\u001b[1;32mpandas\\_libs\\hashtable_class_helper.pxi\u001b[0m in \u001b[0;36mpandas._libs.hashtable.PyObjectHashTable.map_locations\u001b[1;34m()\u001b[0m\n",
      "\u001b[1;31mTypeError\u001b[0m: unhashable type: 'list'"
     ]
    },
    {
     "name": "stderr",
     "output_type": "stream",
     "text": [
      "Exception ignored in: 'pandas._libs.index.IndexEngine._call_map_locations'\n",
      "Traceback (most recent call last):\n",
      "  File \"pandas\\_libs\\hashtable_class_helper.pxi\", line 5231, in pandas._libs.hashtable.PyObjectHashTable.map_locations\n",
      "TypeError: unhashable type: 'list'\n"
     ]
    },
    {
     "data": {
      "text/plain": [
       "[\\n04/2019\\n]                4\n",
       "[\\n01/2019\\n]                4\n",
       "[\\n12/2018\\n]                3\n",
       "[\\n02/2019\\n]                3\n",
       "[\\n09/2018\\n]                2\n",
       "[\\n11/2018\\n]                2\n",
       "\\n05/2019\\n                  1\n",
       "[\\n06/2019\\n]                1\n",
       "[\\n12/2018\\n, \\nEuro 6\\n]    1\n",
       "[\\n07/2018\\n]                1\n",
       "[\\n09/2018\\n, \\nEuro 6\\n]    1\n",
       "Name: last_service_date, dtype: int64"
      ]
     },
     "execution_count": 25,
     "metadata": {},
     "output_type": "execute_result"
    }
   ],
   "source": [
    "df['last_service_date'][df['co2_emission'].isna()].value_counts()"
   ]
  },
  {
   "cell_type": "code",
   "execution_count": 26,
   "id": "8080cec9",
   "metadata": {},
   "outputs": [],
   "source": [
    "ignore.add('last_service_date')"
   ]
  },
  {
   "cell_type": "markdown",
   "id": "d0f65a54",
   "metadata": {},
   "source": [
    "### Exlore 'other_fuel_types'\n",
    "\n",
    "Empty lists, can be ignored."
   ]
  },
  {
   "cell_type": "code",
   "execution_count": 27,
   "id": "4c6a1d64",
   "metadata": {},
   "outputs": [
    {
     "ename": "TypeError",
     "evalue": "unhashable type: 'list'",
     "output_type": "error",
     "traceback": [
      "\u001b[1;31m---------------------------------------------------------------------------\u001b[0m",
      "\u001b[1;31mTypeError\u001b[0m                                 Traceback (most recent call last)",
      "\u001b[1;32mpandas\\_libs\\hashtable_class_helper.pxi\u001b[0m in \u001b[0;36mpandas._libs.hashtable.PyObjectHashTable.map_locations\u001b[1;34m()\u001b[0m\n",
      "\u001b[1;31mTypeError\u001b[0m: unhashable type: 'list'"
     ]
    },
    {
     "name": "stderr",
     "output_type": "stream",
     "text": [
      "Exception ignored in: 'pandas._libs.index.IndexEngine._call_map_locations'\n",
      "Traceback (most recent call last):\n",
      "  File \"pandas\\_libs\\hashtable_class_helper.pxi\", line 5231, in pandas._libs.hashtable.PyObjectHashTable.map_locations\n",
      "TypeError: unhashable type: 'list'\n"
     ]
    },
    {
     "data": {
      "text/plain": [
       "[[], [], []]    880\n",
       "Name: other_fuel_types, dtype: int64"
      ]
     },
     "execution_count": 27,
     "metadata": {},
     "output_type": "execute_result"
    }
   ],
   "source": [
    "df['other_fuel_types'].value_counts()"
   ]
  },
  {
   "cell_type": "code",
   "execution_count": 28,
   "id": "293a56c6",
   "metadata": {},
   "outputs": [],
   "source": [
    "ignore.add('other_fuel_types')"
   ]
  },
  {
   "cell_type": "markdown",
   "id": "aa8ded54",
   "metadata": {},
   "source": [
    "### Explore 'next_inspection' \n",
    "\n",
    "* n = 3535\n",
    "* most often mm/yyyy entry. Sometimes repeated c02_emission or emission_label. Not much new information. "
   ]
  },
  {
   "cell_type": "code",
   "execution_count": 29,
   "id": "a03a6cce",
   "metadata": {},
   "outputs": [
    {
     "ename": "TypeError",
     "evalue": "unhashable type: 'list'",
     "output_type": "error",
     "traceback": [
      "\u001b[1;31m---------------------------------------------------------------------------\u001b[0m",
      "\u001b[1;31mTypeError\u001b[0m                                 Traceback (most recent call last)",
      "\u001b[1;32mpandas\\_libs\\hashtable_class_helper.pxi\u001b[0m in \u001b[0;36mpandas._libs.hashtable.PyObjectHashTable.map_locations\u001b[1;34m()\u001b[0m\n",
      "\u001b[1;31mTypeError\u001b[0m: unhashable type: 'list'"
     ]
    },
    {
     "name": "stderr",
     "output_type": "stream",
     "text": [
      "Exception ignored in: 'pandas._libs.index.IndexEngine._call_map_locations'\n",
      "Traceback (most recent call last):\n",
      "  File \"pandas\\_libs\\hashtable_class_helper.pxi\", line 5231, in pandas._libs.hashtable.PyObjectHashTable.map_locations\n",
      "TypeError: unhashable type: 'list'\n"
     ]
    },
    {
     "data": {
      "text/plain": [
       "\\n04/2022\\n                               62\n",
       "\\n03/2021\\n                               38\n",
       "\\n03/2022\\n                               36\n",
       "\\n06/2021\\n                               34\n",
       "\\n01/2022\\n                               32\n",
       "                                          ..\n",
       "[\\n12/2018\\n, \\n97 g CO2/km (comb)\\n]      1\n",
       "[\\n03/2022\\n, \\n1 (No sticker)\\n]          1\n",
       "[\\n05/2021\\n, \\n93 g CO2/km (comb)\\n]      1\n",
       "[\\n06/2021\\n, \\n93 g CO2/km (comb)\\n]      1\n",
       "[\\n01/2022\\n, \\n168 g CO2/km (comb)\\n]     1\n",
       "Name: next_inspection, Length: 1399, dtype: int64"
      ]
     },
     "execution_count": 29,
     "metadata": {},
     "output_type": "execute_result"
    }
   ],
   "source": [
    "df['next_inspection'].value_counts()"
   ]
  },
  {
   "cell_type": "code",
   "execution_count": 30,
   "id": "bddbf48b",
   "metadata": {},
   "outputs": [
    {
     "ename": "TypeError",
     "evalue": "unhashable type: 'list'",
     "output_type": "error",
     "traceback": [
      "\u001b[1;31m---------------------------------------------------------------------------\u001b[0m",
      "\u001b[1;31mTypeError\u001b[0m                                 Traceback (most recent call last)",
      "\u001b[1;32mpandas\\_libs\\hashtable_class_helper.pxi\u001b[0m in \u001b[0;36mpandas._libs.hashtable.PyObjectHashTable.map_locations\u001b[1;34m()\u001b[0m\n",
      "\u001b[1;31mTypeError\u001b[0m: unhashable type: 'list'"
     ]
    },
    {
     "name": "stderr",
     "output_type": "stream",
     "text": [
      "Exception ignored in: 'pandas._libs.index.IndexEngine._call_map_locations'\n",
      "Traceback (most recent call last):\n",
      "  File \"pandas\\_libs\\hashtable_class_helper.pxi\", line 5231, in pandas._libs.hashtable.PyObjectHashTable.map_locations\n",
      "TypeError: unhashable type: 'list'\n"
     ]
    },
    {
     "data": {
      "text/plain": [
       "[\\n06/2021\\n, \\n4 (Green)\\n]    20\n",
       "[\\n05/2021\\n, \\n4 (Green)\\n]    14\n",
       "[\\n06/2021\\n]                   13\n",
       "[\\n03/2021\\n, \\n4 (Green)\\n]    11\n",
       "[\\n06/2021\\n, \\nEuro 6\\n]        7\n",
       "                                ..\n",
       "[\\n11/2019\\n, \\nEuro 6\\n]        1\n",
       "[\\n10/2019\\n, \\n4 (Green)\\n]     1\n",
       "\\n07/2017\\n                      1\n",
       "[\\n02/2021\\n, \\nEuro 6c\\n]       1\n",
       "[\\n10/2020\\n]                    1\n",
       "Name: next_inspection, Length: 82, dtype: int64"
      ]
     },
     "execution_count": 30,
     "metadata": {},
     "output_type": "execute_result"
    }
   ],
   "source": [
    "df['next_inspection'][df['co2_emission'].isna()].value_counts()"
   ]
  },
  {
   "cell_type": "code",
   "execution_count": 31,
   "id": "9d893d95",
   "metadata": {},
   "outputs": [
    {
     "ename": "TypeError",
     "evalue": "unhashable type: 'list'",
     "output_type": "error",
     "traceback": [
      "\u001b[1;31m---------------------------------------------------------------------------\u001b[0m",
      "\u001b[1;31mTypeError\u001b[0m                                 Traceback (most recent call last)",
      "\u001b[1;32mpandas\\_libs\\hashtable_class_helper.pxi\u001b[0m in \u001b[0;36mpandas._libs.hashtable.PyObjectHashTable.map_locations\u001b[1;34m()\u001b[0m\n",
      "\u001b[1;31mTypeError\u001b[0m: unhashable type: 'list'"
     ]
    },
    {
     "name": "stderr",
     "output_type": "stream",
     "text": [
      "Exception ignored in: 'pandas._libs.index.IndexEngine._call_map_locations'\n",
      "Traceback (most recent call last):\n",
      "  File \"pandas\\_libs\\hashtable_class_helper.pxi\", line 5231, in pandas._libs.hashtable.PyObjectHashTable.map_locations\n",
      "TypeError: unhashable type: 'list'\n"
     ]
    },
    {
     "data": {
      "text/plain": [
       "[\\n06/2021\\n, \\n4 (Green)\\n]    20\n",
       "[\\n05/2021\\n, \\n4 (Green)\\n]    14\n",
       "[\\n06/2021\\n]                   13\n",
       "[\\n03/2021\\n, \\n4 (Green)\\n]    11\n",
       "[\\n06/2021\\n, \\nEuro 6\\n]        7\n",
       "[\\n02/2021\\n, \\n4 (Green)\\n]     6\n",
       "[\\n06/2019\\n, \\n4 (Green)\\n]     6\n",
       "[\\n01/2021\\n, \\n4 (Green)\\n]     6\n",
       "[\\n03/2020\\n, \\n4 (Green)\\n]     6\n",
       "[\\n03/2019\\n, \\n4 (Green)\\n]     5\n",
       "\\n03/2022\\n                      5\n",
       "\\n10/2018\\n                      4\n",
       "[\\n04/2021\\n, \\n4 (Green)\\n]     4\n",
       "[\\n02/2019\\n, \\n4 (Green)\\n]     4\n",
       "[\\n05/2019\\n, \\n4 (Green)\\n]     4\n",
       "[\\n04/2019\\n, \\n4 (Green)\\n]     4\n",
       "\\n02/2020\\n                      3\n",
       "[\\n07/2020\\n, \\n4 (Green)\\n]     3\n",
       "[\\n06/2020\\n, \\n4 (Green)\\n]     3\n",
       "\\n03/2017\\n                      3\n",
       "\\n07/2021\\n                      3\n",
       "[\\n02/2020\\n, \\n4 (Green)\\n]     3\n",
       "\\n06/2021\\n                      3\n",
       "[\\n02/2021\\n, \\nEuro 6\\n]        3\n",
       "[\\n10/2020\\n, \\n4 (Green)\\n]     3\n",
       "\\n03/2021\\n                      3\n",
       "\\n02/2021\\n                      2\n",
       "[\\n07/2019\\n, \\n4 (Green)\\n]     2\n",
       "\\n04/2017\\n                      2\n",
       "[\\n11/2020\\n, \\n4 (Green)\\n]     2\n",
       "[\\n08/2019\\n, \\n4 (Green)\\n]     2\n",
       "[\\n11/2018\\n, \\n4 (Green)\\n]     2\n",
       "[\\n07/2018\\n, \\n4 (Green)\\n]     2\n",
       "\\n06/2016\\n                      2\n",
       "[\\n04/2021\\n]                    2\n",
       "\\n01/2021\\n                      2\n",
       "[\\n03/2020\\n]                    2\n",
       "[\\n05/2021\\n]                    2\n",
       "\\n11/2020\\n                      2\n",
       "[\\n04/2019\\n]                    2\n",
       "[\\n08/2020\\n, \\n4 (Green)\\n]     2\n",
       "[\\n11/2019\\n, \\n4 (Green)\\n]     2\n",
       "\\n05/2020\\n                      1\n",
       "[\\n01/2020\\n]                    1\n",
       "[\\n10/2018\\n, \\n4 (Green)\\n]     1\n",
       "[\\n12/2018\\n, \\n4 (Green)\\n]     1\n",
       "[\\n04/2022\\n, \\nEuro 6\\n]        1\n",
       "\\n01/2019\\n                      1\n",
       "[\\n01/2021\\n]                    1\n",
       "[\\n07/2019\\n]                    1\n",
       "Name: next_inspection, dtype: int64"
      ]
     },
     "execution_count": 31,
     "metadata": {},
     "output_type": "execute_result"
    }
   ],
   "source": [
    "df['next_inspection'][df['co2_emission'].isna()].value_counts()[:50]"
   ]
  },
  {
   "cell_type": "code",
   "execution_count": 32,
   "id": "02bc8882",
   "metadata": {},
   "outputs": [
    {
     "ename": "TypeError",
     "evalue": "unhashable type: 'list'",
     "output_type": "error",
     "traceback": [
      "\u001b[1;31m---------------------------------------------------------------------------\u001b[0m",
      "\u001b[1;31mTypeError\u001b[0m                                 Traceback (most recent call last)",
      "\u001b[1;32mpandas\\_libs\\hashtable_class_helper.pxi\u001b[0m in \u001b[0;36mpandas._libs.hashtable.PyObjectHashTable.map_locations\u001b[1;34m()\u001b[0m\n",
      "\u001b[1;31mTypeError\u001b[0m: unhashable type: 'list'"
     ]
    },
    {
     "name": "stderr",
     "output_type": "stream",
     "text": [
      "Exception ignored in: 'pandas._libs.index.IndexEngine._call_map_locations'\n",
      "Traceback (most recent call last):\n",
      "  File \"pandas\\_libs\\hashtable_class_helper.pxi\", line 5231, in pandas._libs.hashtable.PyObjectHashTable.map_locations\n",
      "TypeError: unhashable type: 'list'\n"
     ]
    },
    {
     "data": {
      "text/plain": [
       "\\n04/2022\\n                               35\n",
       "\\n03/2021\\n                               31\n",
       "\\n01/2022\\n                               30\n",
       "\\n03/2022\\n                               29\n",
       "\\n04/2021\\n                               26\n",
       "\\n06/2021\\n                               25\n",
       "\\n05/2021\\n                               24\n",
       "\\n05/2022\\n                               24\n",
       "\\n05/2019\\n                               23\n",
       "[\\n06/2021\\n, \\n97 g CO2/km (comb)\\n]     22\n",
       "[\\n06/2021\\n, \\nEuro 6\\n]                 21\n",
       "[\\n06/2021\\n, \\n119 g CO2/km (comb)\\n]    21\n",
       "\\n03/2020\\n                               20\n",
       "\\n01/2023\\n                               19\n",
       "[\\n06/2021\\n, \\n102 g CO2/km (comb)\\n]    18\n",
       "[\\n05/2021\\n, \\n108 g CO2/km (comb)\\n]    15\n",
       "\\n02/2021\\n                               15\n",
       "[\\n06/2021\\n, \\n99 g CO2/km (comb)\\n]     15\n",
       "\\n02/2022\\n                               14\n",
       "\\n02/2020\\n                               14\n",
       "\\n06/2022\\n                               14\n",
       "\\n09/2021\\n                               14\n",
       "\\n07/2019\\n                               13\n",
       "[\\n06/2021\\n, \\n120 g CO2/km (comb)\\n]    13\n",
       "\\n07/2020\\n                               13\n",
       "[\\n05/2021\\n, \\n102 g CO2/km (comb)\\n]    12\n",
       "[\\n06/2021\\n, \\n110 g CO2/km (comb)\\n]    12\n",
       "[\\n06/2021\\n, \\n108 g CO2/km (comb)\\n]    12\n",
       "\\n04/2019\\n                               12\n",
       "\\n01/2020\\n                               12\n",
       "\\n01/2021\\n                               11\n",
       "[\\n06/2021\\n, \\n112 g CO2/km (comb)\\n]    11\n",
       "[\\n04/2022\\n, \\n113 g CO2/km (comb)\\n]    11\n",
       "[\\n04/2021\\n, \\n97 g CO2/km (comb)\\n]     10\n",
       "[\\n06/2021\\n, \\n141 g CO2/km (comb)\\n]    10\n",
       "[\\n06/2021\\n, \\n104 g CO2/km (comb)\\n]    10\n",
       "[\\n03/2020\\n, \\n123 g CO2/km (comb)\\n]    10\n",
       "[\\n05/2022\\n, \\n129 g CO2/km (comb)\\n]    10\n",
       "\\n04/2020\\n                               10\n",
       "\\n05/2020\\n                               10\n",
       "[\\n02/2021\\n, \\n102 g CO2/km (comb)\\n]    10\n",
       "\\n02/2023\\n                                9\n",
       "[\\n06/2021\\n, \\n125 g CO2/km (comb)\\n]     9\n",
       "[\\n01/2022\\n, \\n113 g CO2/km (comb)\\n]     9\n",
       "[\\n12/2020\\n, \\n109 g CO2/km (comb)\\n]     9\n",
       "[\\n06/2021\\n, \\n109 g CO2/km (comb)\\n]     9\n",
       "\\n09/2019\\n                                9\n",
       "[\\n03/2021\\n, \\n106 g CO2/km (comb)\\n]     9\n",
       "\\n11/2020\\n                                8\n",
       "\\n06/2020\\n                                8\n",
       "Name: next_inspection, dtype: int64"
      ]
     },
     "execution_count": 32,
     "metadata": {},
     "output_type": "execute_result"
    }
   ],
   "source": [
    "df['next_inspection'][df['emission_label'].isna()].value_counts()[:50]"
   ]
  },
  {
   "cell_type": "code",
   "execution_count": 33,
   "id": "8257c772",
   "metadata": {},
   "outputs": [],
   "source": [
    "ignore.add('next_inspection')"
   ]
  },
  {
   "cell_type": "markdown",
   "id": "88b216b1",
   "metadata": {},
   "source": [
    "### Explore 'inspection_new'. \n",
    "\n",
    "* N = 3932\n",
    "* Mostly lists, index 0 has 'Yes'. Can we assume missing is 'No'?\n",
    "* inspection_new can be ignored"
   ]
  },
  {
   "cell_type": "code",
   "execution_count": 34,
   "id": "72c76d27",
   "metadata": {
    "scrolled": true
   },
   "outputs": [
    {
     "ename": "TypeError",
     "evalue": "unhashable type: 'list'",
     "output_type": "error",
     "traceback": [
      "\u001b[1;31m---------------------------------------------------------------------------\u001b[0m",
      "\u001b[1;31mTypeError\u001b[0m                                 Traceback (most recent call last)",
      "\u001b[1;32mpandas\\_libs\\hashtable_class_helper.pxi\u001b[0m in \u001b[0;36mpandas._libs.hashtable.PyObjectHashTable.map_locations\u001b[1;34m()\u001b[0m\n",
      "\u001b[1;31mTypeError\u001b[0m: unhashable type: 'list'"
     ]
    },
    {
     "name": "stderr",
     "output_type": "stream",
     "text": [
      "Exception ignored in: 'pandas._libs.index.IndexEngine._call_map_locations'\n",
      "Traceback (most recent call last):\n",
      "  File \"pandas\\_libs\\hashtable_class_helper.pxi\", line 5231, in pandas._libs.hashtable.PyObjectHashTable.map_locations\n",
      "TypeError: unhashable type: 'list'\n"
     ]
    },
    {
     "data": {
      "text/plain": [
       "[\\nYes\\n, \\nEuro 6\\n]                                                                          523\n",
       "\\nYes\\n                                                                                        362\n",
       "[\\nYes\\n, \\n102 g CO2/km (comb)\\n]                                                             174\n",
       "[\\nYes\\n, \\n4 (Green)\\n]                                                                       166\n",
       "[\\nYes\\n, \\nEuro 6d-TEMP\\n]                                                                    134\n",
       "[\\nYes\\n, \\n97 g CO2/km (comb)\\n]                                                               89\n",
       "[\\nYes\\n, \\n0 kWh/100 km (comb)\\n]                                                              86\n",
       "[\\nYes\\n, \\n119 g CO2/km (comb)\\n]                                                              84\n",
       "[\\nYes\\n, \\n128 g CO2/km (comb)\\n]                                                              81\n",
       "[\\nYes\\n]                                                                                       80\n",
       "[\\nYes\\n, \\n104 g CO2/km (comb)\\n]                                                              76\n",
       "[\\nYes\\n, \\n95 g CO2/km (comb)\\n]                                                               58\n",
       "[\\nYes\\n, \\n129 g CO2/km (comb)\\n]                                                              56\n",
       "[\\nYes\\n, \\n126 g CO2/km (comb)\\n]                                                              54\n",
       "[\\nYes\\n, \\n111 g CO2/km (comb)\\n]                                                              54\n",
       "[\\nYes\\n, \\n110 g CO2/km (comb)\\n]                                                              54\n",
       "[\\nYes\\n, \\n114 g CO2/km (comb)\\n]                                                              51\n",
       "[\\nYes\\n, \\n140 g CO2/km (comb)\\n]                                                              48\n",
       "[\\nYes\\n, \\n143 g CO2/km (comb)\\n]                                                              47\n",
       "[\\nYes\\n, \\n141 g CO2/km (comb)\\n]                                                              46\n",
       "[\\nYes\\n, \\n117 g CO2/km (comb)\\n]                                                              43\n",
       "[\\nYes\\n, \\n120 g CO2/km (comb)\\n]                                                              43\n",
       "[\\nYes\\n, \\n130 g CO2/km (comb)\\n]                                                              40\n",
       "[\\nYes\\n, \\n99 g CO2/km (comb)\\n]                                                               40\n",
       "[\\nYes\\n, \\n134 g CO2/km (comb)\\n]                                                              39\n",
       "[\\nYes\\n, \\n139 g CO2/km (comb)\\n]                                                              39\n",
       "[\\nYes\\n, \\n93 g CO2/km (comb)\\n]                                                               38\n",
       "[\\nYes\\n, \\n109 g CO2/km (comb)\\n]                                                              37\n",
       "[\\nYes\\n, \\n150 g CO2/km (comb)\\n]                                                              37\n",
       "[\\nYes\\n, \\n118 g CO2/km (comb)\\n]                                                              35\n",
       "[\\nYes\\n, \\n103 g CO2/km (comb)\\n]                                                              35\n",
       "[\\nYes\\n, \\n, 5.4 l/100 km (comb), \\n, 6.7 l/100 km (city), \\n, 4.6 l/100 km (country), \\n]     34\n",
       "[\\nYes\\n, \\n135 g CO2/km (comb)\\n]                                                              32\n",
       "[\\nYes\\n, \\n125 g CO2/km (comb)\\n]                                                              32\n",
       "[\\nYes\\n, \\n112 g CO2/km (comb)\\n]                                                              31\n",
       "[\\nYes\\n, \\n123 g CO2/km (comb)\\n]                                                              31\n",
       "[\\nYes\\n, \\n145 g CO2/km (comb)\\n]                                                              29\n",
       "[\\nYes\\n, \\n108 g CO2/km (comb)\\n]                                                              29\n",
       "[\\nYes\\n, \\n107 g CO2/km (comb)\\n]                                                              27\n",
       "[\\nYes\\n, \\n98 g CO2/km (comb)\\n]                                                               26\n",
       "[\\nYes\\n, \\n116 g CO2/km (comb)\\n]                                                              26\n",
       "[\\nYes\\n, \\n127 g CO2/km (comb)\\n]                                                              25\n",
       "[\\nYes\\n, \\n101 g CO2/km (comb)\\n]                                                              25\n",
       "[\\nYes\\n, \\n137 g CO2/km (comb)\\n]                                                              25\n",
       "[\\nYes\\n, \\nEuro 6d\\n]                                                                          24\n",
       "[\\nYes\\n, \\n124 g CO2/km (comb)\\n]                                                              24\n",
       "[\\nYes\\n, \\n148 g CO2/km (comb)\\n]                                                              23\n",
       "[\\nYes\\n, \\n147 g CO2/km (comb)\\n]                                                              23\n",
       "[\\nYes\\n, \\n113 g CO2/km (comb)\\n]                                                              23\n",
       "[\\nYes\\n, \\n106 g CO2/km (comb)\\n]                                                              23\n",
       "Name: inspection_new, dtype: int64"
      ]
     },
     "execution_count": 34,
     "metadata": {},
     "output_type": "execute_result"
    }
   ],
   "source": [
    "df['inspection_new'].value_counts()[:50]"
   ]
  },
  {
   "cell_type": "code",
   "execution_count": 35,
   "id": "a00058c1",
   "metadata": {},
   "outputs": [],
   "source": [
    "df['inspection_new'] = [re.sub('\\n','',x[0]) if x.__class__ == list else x for x in df['inspection_new']]"
   ]
  },
  {
   "cell_type": "code",
   "execution_count": 36,
   "id": "ce56803d",
   "metadata": {},
   "outputs": [],
   "source": [
    "df['inspection_new'] = [re.sub('\\n','',x) if x.__class__ == str else x for x in df['inspection_new']]"
   ]
  },
  {
   "cell_type": "code",
   "execution_count": 37,
   "id": "f053ddfe",
   "metadata": {},
   "outputs": [
    {
     "data": {
      "text/plain": [
       "NaN    11987\n",
       "Yes     3932\n",
       "Name: inspection_new, dtype: int64"
      ]
     },
     "execution_count": 37,
     "metadata": {},
     "output_type": "execute_result"
    }
   ],
   "source": [
    "df['inspection_new'].value_counts(dropna=False)"
   ]
  },
  {
   "cell_type": "code",
   "execution_count": 38,
   "id": "e802cb46",
   "metadata": {
    "scrolled": true
   },
   "outputs": [
    {
     "data": {
      "text/plain": [
       "Yes    252\n",
       "Name: inspection_new, dtype: int64"
      ]
     },
     "execution_count": 38,
     "metadata": {},
     "output_type": "execute_result"
    }
   ],
   "source": [
    "df['inspection_new'][df['co2_emission'].isna()].value_counts()[:50]\n",
    "# no new co2_emission information"
   ]
  },
  {
   "cell_type": "code",
   "execution_count": 39,
   "id": "f4883a4d",
   "metadata": {
    "scrolled": true
   },
   "outputs": [
    {
     "ename": "TypeError",
     "evalue": "unhashable type: 'list'",
     "output_type": "error",
     "traceback": [
      "\u001b[1;31m---------------------------------------------------------------------------\u001b[0m",
      "\u001b[1;31mTypeError\u001b[0m                                 Traceback (most recent call last)",
      "\u001b[1;32mpandas\\_libs\\hashtable_class_helper.pxi\u001b[0m in \u001b[0;36mpandas._libs.hashtable.PyObjectHashTable.map_locations\u001b[1;34m()\u001b[0m\n",
      "\u001b[1;31mTypeError\u001b[0m: unhashable type: 'list'"
     ]
    },
    {
     "name": "stderr",
     "output_type": "stream",
     "text": [
      "Exception ignored in: 'pandas._libs.index.IndexEngine._call_map_locations'\n",
      "Traceback (most recent call last):\n",
      "  File \"pandas\\_libs\\hashtable_class_helper.pxi\", line 5231, in pandas._libs.hashtable.PyObjectHashTable.map_locations\n",
      "TypeError: unhashable type: 'list'\n"
     ]
    },
    {
     "data": {
      "text/plain": [
       "NaN                                                                                                9327\n",
       "\\n04/2022\\n                                                                                          60\n",
       "\\n03/2021\\n                                                                                          37\n",
       "\\n03/2022\\n                                                                                          35\n",
       "\\n01/2022\\n                                                                                          31\n",
       "                                                                                                   ... \n",
       "[\\n02/2022\\n, \\n160 g CO2/km (comb)\\n]                                                                1\n",
       "[\\n02/2022\\n, \\n130 g CO2/km (comb)\\n]                                                                1\n",
       "[\\n03/2022\\n, \\n, 6.1 l/100 km (comb), \\n, 7.5 l/100 km (city), \\n, 5.2 l/100 km (country), \\n]       1\n",
       "[\\n01/2022\\n, \\n, 6.1 l/100 km (comb), \\n, 7.5 l/100 km (city), \\n, 5.2 l/100 km (country), \\n]       1\n",
       "[\\n01/2022\\n, \\n168 g CO2/km (comb)\\n]                                                                1\n",
       "Name: next_inspection, Length: 1160, dtype: int64"
      ]
     },
     "execution_count": 39,
     "metadata": {},
     "output_type": "execute_result"
    }
   ],
   "source": [
    "df['next_inspection'][df['inspection_new'].isna()].value_counts(dropna=False)"
   ]
  },
  {
   "cell_type": "code",
   "execution_count": 40,
   "id": "9f7f7405",
   "metadata": {},
   "outputs": [
    {
     "data": {
      "text/plain": [
       "Yes    3932\n",
       "Name: inspection_new, dtype: int64"
      ]
     },
     "execution_count": 40,
     "metadata": {},
     "output_type": "execute_result"
    }
   ],
   "source": [
    "df['inspection_new'][df['type'].notna()].value_counts()\n",
    "# no new information about new/used"
   ]
  },
  {
   "cell_type": "code",
   "execution_count": 41,
   "id": "8aafa031",
   "metadata": {},
   "outputs": [],
   "source": [
    "ignore.add('inspection_new')"
   ]
  },
  {
   "cell_type": "markdown",
   "id": "1545f017",
   "metadata": {},
   "source": [
    "### Explore 'emission_label'\n",
    "* n = 3985"
   ]
  },
  {
   "cell_type": "code",
   "execution_count": 42,
   "id": "c2eddbb9",
   "metadata": {},
   "outputs": [
    {
     "data": {
      "text/plain": [
       "3985"
      ]
     },
     "execution_count": 42,
     "metadata": {},
     "output_type": "execute_result"
    }
   ],
   "source": [
    "df['emission_label'].notna().sum()"
   ]
  },
  {
   "cell_type": "code",
   "execution_count": 43,
   "id": "27ecbf95",
   "metadata": {},
   "outputs": [
    {
     "ename": "TypeError",
     "evalue": "unhashable type: 'list'",
     "output_type": "error",
     "traceback": [
      "\u001b[1;31m---------------------------------------------------------------------------\u001b[0m",
      "\u001b[1;31mTypeError\u001b[0m                                 Traceback (most recent call last)",
      "\u001b[1;32mpandas\\_libs\\hashtable_class_helper.pxi\u001b[0m in \u001b[0;36mpandas._libs.hashtable.PyObjectHashTable.map_locations\u001b[1;34m()\u001b[0m\n",
      "\u001b[1;31mTypeError\u001b[0m: unhashable type: 'list'"
     ]
    },
    {
     "name": "stderr",
     "output_type": "stream",
     "text": [
      "Exception ignored in: 'pandas._libs.index.IndexEngine._call_map_locations'\n",
      "Traceback (most recent call last):\n",
      "  File \"pandas\\_libs\\hashtable_class_helper.pxi\", line 5231, in pandas._libs.hashtable.PyObjectHashTable.map_locations\n",
      "TypeError: unhashable type: 'list'\n"
     ]
    },
    {
     "data": {
      "text/plain": [
       "NaN                     11934\n",
       "[\\n4 (Green)\\n]          3553\n",
       "[\\n1 (No sticker)\\n]      381\n",
       "[[], [], []]               40\n",
       "[\\n5 (Blue)\\n]              8\n",
       "[\\n3 (Yellow)\\n]            2\n",
       "[\\n2 (Red)\\n]               1\n",
       "Name: emission_label, dtype: int64"
      ]
     },
     "execution_count": 43,
     "metadata": {},
     "output_type": "execute_result"
    }
   ],
   "source": [
    "df['emission_label'].value_counts(dropna=False)"
   ]
  },
  {
   "cell_type": "code",
   "execution_count": 44,
   "id": "e6dd6393",
   "metadata": {},
   "outputs": [],
   "source": [
    "ignore.add('emission_label')"
   ]
  },
  {
   "cell_type": "markdown",
   "id": "f389716b",
   "metadata": {},
   "source": [
    "### Explore 'model_code' \n",
    "\n",
    "* n = 5000 or so.\n",
    "* model_code can be ignored"
   ]
  },
  {
   "cell_type": "code",
   "execution_count": 45,
   "id": "0d69bf4d",
   "metadata": {},
   "outputs": [
    {
     "ename": "TypeError",
     "evalue": "unhashable type: 'list'",
     "output_type": "error",
     "traceback": [
      "\u001b[1;31m---------------------------------------------------------------------------\u001b[0m",
      "\u001b[1;31mTypeError\u001b[0m                                 Traceback (most recent call last)",
      "\u001b[1;32mpandas\\_libs\\hashtable_class_helper.pxi\u001b[0m in \u001b[0;36mpandas._libs.hashtable.PyObjectHashTable.map_locations\u001b[1;34m()\u001b[0m\n",
      "\u001b[1;31mTypeError\u001b[0m: unhashable type: 'list'"
     ]
    },
    {
     "name": "stderr",
     "output_type": "stream",
     "text": [
      "Exception ignored in: 'pandas._libs.index.IndexEngine._call_map_locations'\n",
      "Traceback (most recent call last):\n",
      "  File \"pandas\\_libs\\hashtable_class_helper.pxi\", line 5231, in pandas._libs.hashtable.PyObjectHashTable.map_locations\n",
      "TypeError: unhashable type: 'list'\n"
     ]
    },
    {
     "data": {
      "text/plain": [
       "[\\n0035/BCB\\n]    268\n",
       "[\\n0588/BNO\\n]    245\n",
       "[\\n0588/BDB\\n]    206\n",
       "[\\n0588/BHX\\n]    188\n",
       "[\\n1844/ADJ\\n]    175\n",
       "                 ... \n",
       "[\\n0000/ACP\\n]      1\n",
       "[\\n0035/BGY\\n]      1\n",
       "[\\n0035/bgp\\n]      1\n",
       "[\\n0035/BGS\\n]      1\n",
       "[\\n3333/BKG\\n]      1\n",
       "Name: model_code, Length: 232, dtype: int64"
      ]
     },
     "execution_count": 45,
     "metadata": {},
     "output_type": "execute_result"
    }
   ],
   "source": [
    "df['model_code'].value_counts()"
   ]
  },
  {
   "cell_type": "code",
   "execution_count": 46,
   "id": "1c72f96a",
   "metadata": {},
   "outputs": [],
   "source": [
    "ignore.add('model_code')"
   ]
  },
  {
   "cell_type": "markdown",
   "id": "c6d4e87a",
   "metadata": {},
   "source": [
    "### Explore 'non-smoking_vehicle' \n",
    "* n ~ 7200\n",
    "* Lists empty at i = 0, 1\n",
    "* no new imformation"
   ]
  },
  {
   "cell_type": "code",
   "execution_count": 47,
   "id": "e001b08f",
   "metadata": {},
   "outputs": [
    {
     "ename": "TypeError",
     "evalue": "unhashable type: 'list'",
     "output_type": "error",
     "traceback": [
      "\u001b[1;31m---------------------------------------------------------------------------\u001b[0m",
      "\u001b[1;31mTypeError\u001b[0m                                 Traceback (most recent call last)",
      "\u001b[1;32mpandas\\_libs\\hashtable_class_helper.pxi\u001b[0m in \u001b[0;36mpandas._libs.hashtable.PyObjectHashTable.map_locations\u001b[1;34m()\u001b[0m\n",
      "\u001b[1;31mTypeError\u001b[0m: unhashable type: 'list'"
     ]
    },
    {
     "name": "stderr",
     "output_type": "stream",
     "text": [
      "Exception ignored in: 'pandas._libs.index.IndexEngine._call_map_locations'\n",
      "Traceback (most recent call last):\n",
      "  File \"pandas\\_libs\\hashtable_class_helper.pxi\", line 5231, in pandas._libs.hashtable.PyObjectHashTable.map_locations\n",
      "TypeError: unhashable type: 'list'\n"
     ]
    },
    {
     "data": {
      "text/plain": [
       "[\\n, \\n, \\n136 g CO2/km (comb)\\n]                                                             3\n",
       "[\\n, \\n, \\n110 g CO2/km (comb)\\n]                                                             3\n",
       "[\\n, \\n, \\n148 g CO2/km (comb)\\n]                                                             3\n",
       "[\\n, \\n, \\n157 g CO2/km (comb)\\n]                                                             3\n",
       "[\\n, \\n, \\n95 g CO2/km (comb)\\n]                                                              3\n",
       "[\\n, \\n, \\n119 g CO2/km (comb)\\n]                                                             3\n",
       "[\\n, \\n, \\n149 g CO2/km (comb)\\n]                                                             3\n",
       "[\\n, \\n, \\n166 g CO2/km (comb)\\n]                                                             2\n",
       "[\\n, \\n, \\n138 g CO2/km (comb)\\n]                                                             2\n",
       "[\\n, \\n, \\n121 g CO2/km (comb)\\n]                                                             2\n",
       "[\\n, \\n, \\n111 g CO2/km (comb)\\n]                                                             2\n",
       "[\\n, \\n, \\n90 g CO2/km (comb)\\n]                                                              2\n",
       "[\\n, \\n, \\n142 g CO2/km (comb)\\n]                                                             2\n",
       "[\\n, \\n, \\n125 g CO2/km (comb)\\n]                                                             2\n",
       "[\\n, \\n, \\n134 g CO2/km (comb)\\n]                                                             2\n",
       "[\\n, \\n, \\n, 5.2 l/100 km (comb), \\n, 6.4 l/100 km (city), \\n, 4.4 l/100 km (country), \\n]    2\n",
       "[\\n, \\n, \\n, 6.5 l/100 km (comb), \\n, 8.5 l/100 km (city), \\n, 5.4 l/100 km (country), \\n]    1\n",
       "[\\n, \\n, \\n146 g CO2/km (comb)\\n]                                                             1\n",
       "[\\n, \\n, \\n189 g CO2/km (comb)\\n]                                                             1\n",
       "[\\n, \\n, \\n, 6.1 l/100 km (comb), \\n, 7.7 l/100 km (city), \\n, 5.2 l/100 km (country), \\n]    1\n",
       "[\\n, \\n, \\n, 6.3 l/100 km (comb), \\n, 8 l/100 km (city), \\n, 5.3 l/100 km (country), \\n]      1\n",
       "[\\n, \\n, \\n154 g CO2/km (comb)\\n]                                                             1\n",
       "[\\n, \\n, \\n, 6.5 l/100 km (comb), \\n, 7.9 l/100 km (city), \\n, 5.6 l/100 km (country), \\n]    1\n",
       "[\\n, \\n, \\n, 6.4 l/100 km (comb), \\n, 8.1 l/100 km (city), \\n, 5.4 l/100 km (country), \\n]    1\n",
       "[\\n, \\n, \\n122 g CO2/km (comb)\\n]                                                             1\n",
       "[\\n, \\n, \\n82 g CO2/km (comb)\\n]                                                              1\n",
       "[\\n, \\n, \\n, 1.6 l/100 km (comb), \\n, \\n, \\n]                                                 1\n",
       "[\\n, \\n, \\n172 g CO2/km (comb)\\n]                                                             1\n",
       "[\\n, \\n, \\n161 g CO2/km (comb)\\n]                                                             1\n",
       "[\\n, \\n, \\n156 g CO2/km (comb)\\n]                                                             1\n",
       "[\\n, \\n, \\n169 g CO2/km (comb)\\n]                                                             1\n",
       "[\\n, \\n, \\n, 6.1 l/100 km (comb), \\n, 7.8 l/100 km (city), \\n, 5.1 l/100 km (country), \\n]    1\n",
       "[\\n, \\n, \\n152 g CO2/km (comb)\\n]                                                             1\n",
       "[\\n, \\n, \\n144 g CO2/km (comb)\\n]                                                             1\n",
       "[\\n, \\n, \\n132 g CO2/km (comb)\\n]                                                             1\n",
       "[\\n, \\n, \\n159 g CO2/km (comb)\\n]                                                             1\n",
       "[\\n, \\n, \\n, 5.6 l/100 km (comb), \\n, 7.3 l/100 km (city), \\n, 4.7 l/100 km (country), \\n]    1\n",
       "[\\n, \\n, \\n158 g CO2/km (comb)\\n]                                                             1\n",
       "[\\n, \\n, \\n150 g CO2/km (comb)\\n]                                                             1\n",
       "[\\n, \\n, \\n, 6.2 l/100 km (comb), \\n, 7.9 l/100 km (city), \\n, 5.3 l/100 km (country), \\n]    1\n",
       "[\\n, \\n, \\n91 g CO2/km (comb)\\n]                                                              1\n",
       "[\\n, \\n, \\n101 g CO2/km (comb)\\n]                                                             1\n",
       "[\\n, \\n, \\n, 5.7 l/100 km (comb), \\n, 7.3 l/100 km (city), \\n, 4.7 l/100 km (country), \\n]    1\n",
       "[\\n, \\n, \\n175 g CO2/km (comb)\\n]                                                             1\n",
       "Name: non_smoking_vehicle, dtype: int64"
      ]
     },
     "execution_count": 47,
     "metadata": {},
     "output_type": "execute_result"
    }
   ],
   "source": [
    "df['non_smoking_vehicle'].value_counts()[50:]"
   ]
  },
  {
   "cell_type": "code",
   "execution_count": 48,
   "id": "78641c10",
   "metadata": {},
   "outputs": [],
   "source": [
    "ignore.add('non_smoking_vehicle')"
   ]
  },
  {
   "cell_type": "markdown",
   "id": "27c8fab3",
   "metadata": {},
   "source": [
    "### Explore 'country_version'\n",
    "\n",
    "* n ~ 7500\n",
    "* We should not ignore this.\n",
    "* We can make this a binary of country_version with True or False for most frequent countries.\n",
    "* Why is this infomation missing for 8333 cars? \n",
    "* No pattern in missing data by make, registration or first_registration, .\n",
    "* When encoding, we will not consider any countries with freq. less than 100. Club these into 'other'"
   ]
  },
  {
   "cell_type": "code",
   "execution_count": 49,
   "id": "024169be",
   "metadata": {},
   "outputs": [
    {
     "data": {
      "text/plain": [
       "NaN               8333\n",
       "Germany           4502\n",
       "Italy             1038\n",
       "European Union     507\n",
       "Netherlands        464\n",
       "Spain              325\n",
       "Belgium            314\n",
       "Austria            208\n",
       "Czech Republic      52\n",
       "Poland              49\n",
       "France              38\n",
       "Denmark             33\n",
       "Hungary             28\n",
       "Japan                8\n",
       "Slovakia             4\n",
       "Croatia              4\n",
       "Sweden               3\n",
       "Romania              2\n",
       "Bulgaria             2\n",
       "Luxembourg           1\n",
       "Switzerland          1\n",
       "Slovenia             1\n",
       "Egypt                1\n",
       "Serbia               1\n",
       "Name: country_version, dtype: int64"
      ]
     },
     "execution_count": 49,
     "metadata": {},
     "output_type": "execute_result"
    }
   ],
   "source": [
    "df['country_version'] = [x[0].strip() if x.__class__ == list else x for x in df['country_version'] ]\n",
    "df['country_version'].value_counts(dropna = False)"
   ]
  },
  {
   "cell_type": "code",
   "execution_count": 50,
   "id": "df486c87",
   "metadata": {},
   "outputs": [],
   "source": [
    "to_encode.add('country_version')"
   ]
  },
  {
   "cell_type": "markdown",
   "id": "8f82b430",
   "metadata": {},
   "source": [
    "### Explore 'make'\n",
    "\n",
    "* no missing values"
   ]
  },
  {
   "cell_type": "code",
   "execution_count": 51,
   "id": "adf15bed",
   "metadata": {},
   "outputs": [
    {
     "data": {
      "text/plain": [
       "Opel       7343\n",
       "Audi       5712\n",
       "Renault    2864\n",
       "Name: make, dtype: int64"
      ]
     },
     "execution_count": 51,
     "metadata": {},
     "output_type": "execute_result"
    }
   ],
   "source": [
    "df['make'] = [x.strip() if x.__class__ == str else x for x in df['make'] ]\n",
    "df['make'].value_counts(dropna=False)"
   ]
  },
  {
   "cell_type": "code",
   "execution_count": 52,
   "id": "c3095178",
   "metadata": {},
   "outputs": [
    {
     "data": {
      "text/plain": [
       "Opel       3518\n",
       "Audi       3280\n",
       "Renault    1535\n",
       "Name: make, dtype: int64"
      ]
     },
     "execution_count": 52,
     "metadata": {},
     "output_type": "execute_result"
    }
   ],
   "source": [
    "df['make'][df['country_version'].isna()].value_counts()"
   ]
  },
  {
   "cell_type": "code",
   "execution_count": 53,
   "id": "dd7b632f",
   "metadata": {},
   "outputs": [
    {
     "data": {
      "text/plain": [
       "2018.0    4522\n",
       "2016.0    3674\n",
       "2017.0    3273\n",
       "2019.0    2853\n",
       "Name: first_registration, dtype: int64"
      ]
     },
     "execution_count": 53,
     "metadata": {},
     "output_type": "execute_result"
    }
   ],
   "source": [
    "df['first_registration'] = [int(x[1].strip()) if x.__class__ == list else x for x in df['first_registration']]\n",
    "df['first_registration'].value_counts()"
   ]
  },
  {
   "cell_type": "code",
   "execution_count": 54,
   "id": "130d4cfa",
   "metadata": {
    "scrolled": true
   },
   "outputs": [
    {
     "data": {
      "text/plain": [
       "2018.0    2344\n",
       "2016.0    2154\n",
       "2017.0    2074\n",
       "2019.0    1365\n",
       "Name: first_registration, dtype: int64"
      ]
     },
     "execution_count": 54,
     "metadata": {},
     "output_type": "execute_result"
    }
   ],
   "source": [
    "df['first_registration'][df['country_version'].isna()].value_counts()"
   ]
  },
  {
   "cell_type": "code",
   "execution_count": 55,
   "id": "020bc4b2",
   "metadata": {},
   "outputs": [
    {
     "data": {
      "text/plain": [
       "<AxesSubplot:>"
      ]
     },
     "execution_count": 55,
     "metadata": {},
     "output_type": "execute_result"
    },
    {
     "data": {
      "image/png": "[encoded data removed]",
      "text/plain": [
       "<Figure size 640x480 with 1 Axes>"
      ]
     },
     "metadata": {},
     "output_type": "display_data"
    }
   ],
   "source": [
    "reg_freq = df['first_registration'].value_counts().sort_index()\n",
    "reg_freq.plot.bar()"
   ]
  },
  {
   "cell_type": "code",
   "execution_count": 56,
   "id": "33a14647",
   "metadata": {},
   "outputs": [
    {
     "data": {
      "text/plain": [
       "<AxesSubplot:>"
      ]
     },
     "execution_count": 56,
     "metadata": {},
     "output_type": "execute_result"
    },
    {
     "data": {
      "image/png": "[encoded data removed]",
      "text/plain": [
       "<Figure size 640x480 with 1 Axes>"
      ]
     },
     "metadata": {},
     "output_type": "display_data"
    }
   ],
   "source": [
    "reg_freq = df['first_registration'][df['country_version'].isna()].value_counts().sort_index()\n",
    "reg_freq.plot.bar()"
   ]
  },
  {
   "cell_type": "markdown",
   "id": "b4b375dc",
   "metadata": {},
   "source": [
    "### Explore 'full_service', \n",
    "\n",
    "* n ~ 8200\n",
    "* Seems to be lists with missing values in i = 0, 1\n",
    "* We can ignore this feature"
   ]
  },
  {
   "cell_type": "code",
   "execution_count": 57,
   "id": "a2e7eec9",
   "metadata": {},
   "outputs": [
    {
     "ename": "TypeError",
     "evalue": "unhashable type: 'list'",
     "output_type": "error",
     "traceback": [
      "\u001b[1;31m---------------------------------------------------------------------------\u001b[0m",
      "\u001b[1;31mTypeError\u001b[0m                                 Traceback (most recent call last)",
      "\u001b[1;32mpandas\\_libs\\hashtable_class_helper.pxi\u001b[0m in \u001b[0;36mpandas._libs.hashtable.PyObjectHashTable.map_locations\u001b[1;34m()\u001b[0m\n",
      "\u001b[1;31mTypeError\u001b[0m: unhashable type: 'list'"
     ]
    },
    {
     "name": "stderr",
     "output_type": "stream",
     "text": [
      "Exception ignored in: 'pandas._libs.index.IndexEngine._call_map_locations'\n",
      "Traceback (most recent call last):\n",
      "  File \"pandas\\_libs\\hashtable_class_helper.pxi\", line 5231, in pandas._libs.hashtable.PyObjectHashTable.map_locations\n",
      "TypeError: unhashable type: 'list'\n"
     ]
    },
    {
     "data": {
      "text/plain": [
       "[\\n, \\n, \\n4 (Green)\\n]                                                                       2235\n",
       "[\\n, \\n, \\nEuro 6\\n]                                                                          2097\n",
       "[\\n, \\n]                                                                                      1702\n",
       "[\\n, \\n, \\nEuro 6d-TEMP\\n]                                                                     399\n",
       "\\n                                                                                             283\n",
       "                                                                                              ... \n",
       "[\\n, \\n, \\n, 6 l/100 km (comb), \\n, 8 l/100 km (city), \\n, 4.9 l/100 km (country), \\n]           1\n",
       "[\\n, \\n, \\n84 g CO2/km (comb)\\n]                                                                 1\n",
       "[\\n, \\n, \\n87 g CO2/km (comb)\\n]                                                                 1\n",
       "[\\n, \\n, \\n, 5.7 l/100 km (comb), \\n, 7.3 l/100 km (city), \\n, 4.9 l/100 km (country), \\n]       1\n",
       "[\\n, \\n, \\nEuro 4\\n]                                                                             1\n",
       "Name: full_service, Length: 122, dtype: int64"
      ]
     },
     "execution_count": 57,
     "metadata": {},
     "output_type": "execute_result"
    }
   ],
   "source": [
    "df['full_service'].value_counts()"
   ]
  },
  {
   "cell_type": "code",
   "execution_count": 58,
   "id": "b94bf19a",
   "metadata": {},
   "outputs": [],
   "source": [
    "ignore.add('full_service')"
   ]
  },
  {
   "cell_type": "markdown",
   "id": "2405758a",
   "metadata": {},
   "source": [
    "### Explore 'weight' \n",
    "\n",
    "* n = ~9000\n",
    "* format is [\\n\"num kg\"\\n], num has \",\" after thousands place\n",
    "* Why is this information missing for many cars? \n",
    "* Maybe we can fill this when missing by average of weight by model_make"
   ]
  },
  {
   "cell_type": "code",
   "execution_count": 59,
   "id": "c630cffc",
   "metadata": {},
   "outputs": [
    {
     "data": {
      "text/plain": [
       "6974"
      ]
     },
     "execution_count": 59,
     "metadata": {},
     "output_type": "execute_result"
    }
   ],
   "source": [
    "df['weight'].isna().sum()"
   ]
  },
  {
   "cell_type": "code",
   "execution_count": 60,
   "id": "0082bc5f",
   "metadata": {},
   "outputs": [
    {
     "ename": "TypeError",
     "evalue": "unhashable type: 'list'",
     "output_type": "error",
     "traceback": [
      "\u001b[1;31m---------------------------------------------------------------------------\u001b[0m",
      "\u001b[1;31mTypeError\u001b[0m                                 Traceback (most recent call last)",
      "\u001b[1;32mpandas\\_libs\\hashtable_class_helper.pxi\u001b[0m in \u001b[0;36mpandas._libs.hashtable.PyObjectHashTable.map_locations\u001b[1;34m()\u001b[0m\n",
      "\u001b[1;31mTypeError\u001b[0m: unhashable type: 'list'"
     ]
    },
    {
     "name": "stderr",
     "output_type": "stream",
     "text": [
      "Exception ignored in: 'pandas._libs.index.IndexEngine._call_map_locations'\n",
      "Traceback (most recent call last):\n",
      "  File \"pandas\\_libs\\hashtable_class_helper.pxi\", line 5231, in pandas._libs.hashtable.PyObjectHashTable.map_locations\n",
      "TypeError: unhashable type: 'list'\n"
     ]
    },
    {
     "data": {
      "text/plain": [
       "[\\n1,635 kg\\n]    20\n",
       "[\\n1,198 kg\\n]    19\n",
       "[\\n1,890 kg\\n]    19\n",
       "[\\n1,370 kg\\n]    19\n",
       "[\\n1,225 kg\\n]    19\n",
       "[\\n1,582 kg\\n]    19\n",
       "[\\n1,310 kg\\n]    18\n",
       "[\\n1,537 kg\\n]    18\n",
       "[\\n1,655 kg\\n]    17\n",
       "[\\n1,843 kg\\n]    16\n",
       "[\\n1,400 kg\\n]    16\n",
       "[\\n1,518 kg\\n]    16\n",
       "[\\n1,540 kg\\n]    16\n",
       "[\\n1,380 kg\\n]    15\n",
       "[\\n1,055 kg\\n]    15\n",
       "[\\n1,760 kg\\n]    15\n",
       "[\\n1,235 kg\\n]    15\n",
       "[\\n2,353 kg\\n]    15\n",
       "[\\n1,510 kg\\n]    14\n",
       "[\\n1,708 kg\\n]    14\n",
       "[\\n1,596 kg\\n]    14\n",
       "[\\n1,305 kg\\n]    14\n",
       "[\\n1,640 kg\\n]    14\n",
       "[\\n1,270 kg\\n]    13\n",
       "[\\n1,815 kg\\n]    13\n",
       "[\\n1,079 kg\\n]    13\n",
       "[\\n1,630 kg\\n]    13\n",
       "[\\n1,758 kg\\n]    13\n",
       "[\\n1,340 kg\\n]    12\n",
       "[\\n2,300 kg\\n]    12\n",
       "[\\n1,240 kg\\n]    12\n",
       "[\\n1,378 kg\\n]    12\n",
       "[\\n1,100 kg\\n]    12\n",
       "[\\n1,214 kg\\n]    12\n",
       "[\\n1,647 kg\\n]    11\n",
       "[\\n980 kg\\n]      11\n",
       "[\\n1,234 kg\\n]    11\n",
       "[\\n1,684 kg\\n]    11\n",
       "[\\n1,717 kg\\n]    11\n",
       "[\\n1,175 kg\\n]    11\n",
       "[\\n1,035 kg\\n]    11\n",
       "[\\n1,140 kg\\n]    11\n",
       "[\\n1,156 kg\\n]    10\n",
       "[\\n1,567 kg\\n]    10\n",
       "[\\n1,485 kg\\n]    10\n",
       "[\\n1,295 kg\\n]    10\n",
       "[\\n1,203 kg\\n]    10\n",
       "[\\n1,082 kg\\n]    10\n",
       "[\\n1,500 kg\\n]     9\n",
       "[\\n1,624 kg\\n]     9\n",
       "Name: weight, dtype: int64"
      ]
     },
     "execution_count": 60,
     "metadata": {},
     "output_type": "execute_result"
    }
   ],
   "source": [
    "df['weight'].value_counts()[100:150]"
   ]
  },
  {
   "cell_type": "code",
   "execution_count": 61,
   "id": "72765ab5",
   "metadata": {
    "scrolled": true
   },
   "outputs": [
    {
     "data": {
      "text/plain": [
       "<AxesSubplot:ylabel='Frequency'>"
      ]
     },
     "execution_count": 61,
     "metadata": {},
     "output_type": "execute_result"
    },
    {
     "data": {
      "image/png": "[encoded data removed]",
      "text/plain": [
       "<Figure size 640x480 with 1 Axes>"
      ]
     },
     "metadata": {},
     "output_type": "display_data"
    }
   ],
   "source": [
    "df['weight'] = [int(re.sub('kg|,','',x[0]).strip()) if x.__class__ == list else float('nan') for x in df['weight']]\n",
    "df['weight'].plot.hist(bins=50)"
   ]
  },
  {
   "cell_type": "code",
   "execution_count": 62,
   "id": "8a04e991",
   "metadata": {},
   "outputs": [
    {
     "data": {
      "text/plain": [
       "18"
      ]
     },
     "execution_count": 62,
     "metadata": {},
     "output_type": "execute_result"
    }
   ],
   "source": [
    "df['weight'][df['weight']<1000].count()"
   ]
  },
  {
   "cell_type": "code",
   "execution_count": 63,
   "id": "7790d8c0",
   "metadata": {},
   "outputs": [
    {
     "data": {
      "text/plain": [
       "<AxesSubplot:ylabel='Frequency'>"
      ]
     },
     "execution_count": 63,
     "metadata": {},
     "output_type": "execute_result"
    },
    {
     "data": {
      "image/png": "[encoded data removed]",
      "text/plain": [
       "<Figure size 640x480 with 1 Axes>"
      ]
     },
     "metadata": {},
     "output_type": "display_data"
    }
   ],
   "source": [
    "df['weight'][df['weight']<1000].plot.hist(bins=50)"
   ]
  },
  {
   "cell_type": "code",
   "execution_count": 64,
   "id": "a2aabc85",
   "metadata": {},
   "outputs": [
    {
     "data": {
      "text/plain": [
       "54"
      ]
     },
     "execution_count": 64,
     "metadata": {},
     "output_type": "execute_result"
    }
   ],
   "source": [
    "df['weight'][df['weight']>2000].count()"
   ]
  },
  {
   "cell_type": "code",
   "execution_count": 65,
   "id": "9de19d88",
   "metadata": {},
   "outputs": [
    {
     "data": {
      "text/plain": [
       "<AxesSubplot:ylabel='Frequency'>"
      ]
     },
     "execution_count": 65,
     "metadata": {},
     "output_type": "execute_result"
    },
    {
     "data": {
      "image/png": "[encoded data removed]",
      "text/plain": [
       "<Figure size 640x480 with 1 Axes>"
      ]
     },
     "metadata": {},
     "output_type": "display_data"
    }
   ],
   "source": [
    "df['weight'][df['weight']>2000].plot.hist(bins=50)"
   ]
  },
  {
   "cell_type": "code",
   "execution_count": 66,
   "id": "359a8617",
   "metadata": {
    "scrolled": true
   },
   "outputs": [
    {
     "data": {
      "text/plain": [
       "{'Audi A1': 1229.0899107755663,\n",
       " 'Audi A2': nan,\n",
       " 'Audi A3': 1384.510994764398,\n",
       " 'Opel Astra': 1361.4719367588932,\n",
       " 'Opel Corsa': 1172.6988727858293,\n",
       " 'Opel Insignia': 1588.5308550185873,\n",
       " 'Renault Clio': 1167.7597234226448,\n",
       " 'Renault Duster': nan,\n",
       " 'Renault Espace': 1729.3884007029876}"
      ]
     },
     "execution_count": 66,
     "metadata": {},
     "output_type": "execute_result"
    }
   ],
   "source": [
    "wts = df[['weight']].groupby(df['make_model'],dropna=True).mean(numeric_only=True)\n",
    "name_wts = {name:wts.loc[name][0] for name in wts.index}\n",
    "name_wts"
   ]
  },
  {
   "cell_type": "markdown",
   "id": "b8c22910",
   "metadata": {},
   "source": [
    "### Explore 'drive_chain'\n",
    "* 6858 missing values\n",
    "* when imputing we can infer the drive chain based on mode of 'make_model'\n",
    "* we will encode this variable when we do data analysis, put in the to_encode set."
   ]
  },
  {
   "cell_type": "code",
   "execution_count": 67,
   "id": "210e15f6",
   "metadata": {},
   "outputs": [
    {
     "ename": "TypeError",
     "evalue": "unhashable type: 'list'",
     "output_type": "error",
     "traceback": [
      "\u001b[1;31m---------------------------------------------------------------------------\u001b[0m",
      "\u001b[1;31mTypeError\u001b[0m                                 Traceback (most recent call last)",
      "\u001b[1;32mpandas\\_libs\\hashtable_class_helper.pxi\u001b[0m in \u001b[0;36mpandas._libs.hashtable.PyObjectHashTable.map_locations\u001b[1;34m()\u001b[0m\n",
      "\u001b[1;31mTypeError\u001b[0m: unhashable type: 'list'"
     ]
    },
    {
     "name": "stderr",
     "output_type": "stream",
     "text": [
      "Exception ignored in: 'pandas._libs.index.IndexEngine._call_map_locations'\n",
      "Traceback (most recent call last):\n",
      "  File \"pandas\\_libs\\hashtable_class_helper.pxi\", line 5231, in pandas._libs.hashtable.PyObjectHashTable.map_locations\n",
      "TypeError: unhashable type: 'list'\n"
     ]
    },
    {
     "data": {
      "text/plain": [
       "[\\nfront\\n]    8886\n",
       "[\\n4WD\\n]       171\n",
       "[\\nrear\\n]        4\n",
       "Name: drive_chain, dtype: int64"
      ]
     },
     "execution_count": 67,
     "metadata": {},
     "output_type": "execute_result"
    }
   ],
   "source": [
    "df['drive_chain'].value_counts()"
   ]
  },
  {
   "cell_type": "code",
   "execution_count": 68,
   "id": "6bb937fc",
   "metadata": {},
   "outputs": [
    {
     "data": {
      "text/plain": [
       "front    8886\n",
       "NaN      6858\n",
       "4WD       171\n",
       "rear        4\n",
       "Name: drive_chain, dtype: int64"
      ]
     },
     "execution_count": 68,
     "metadata": {},
     "output_type": "execute_result"
    }
   ],
   "source": [
    "df['drive_chain'] = [x[0].strip() if x.__class__ == list else x for x in df['drive_chain']]\n",
    "df['drive_chain'].value_counts(dropna=False)"
   ]
  },
  {
   "cell_type": "code",
   "execution_count": 69,
   "id": "25ceb288",
   "metadata": {},
   "outputs": [
    {
     "data": {
      "text/plain": [
       "make_model      drive_chain\n",
       "Audi A1         front          1693\n",
       "                NaN             918\n",
       "                4WD               3\n",
       "Audi A2         front             1\n",
       "Audi A3         front          2008\n",
       "                NaN            1070\n",
       "                4WD              19\n",
       "Opel Astra      front          1346\n",
       "                NaN            1178\n",
       "                4WD               2\n",
       "Opel Corsa      front          1170\n",
       "                NaN            1049\n",
       "Opel Insignia   front          1409\n",
       "                NaN            1092\n",
       "                4WD              94\n",
       "                rear              3\n",
       "Renault Clio    NaN            1032\n",
       "                front           795\n",
       "                4WD              11\n",
       "                rear              1\n",
       "Renault Duster  NaN              32\n",
       "                4WD               2\n",
       "Renault Espace  NaN             487\n",
       "                front           464\n",
       "                4WD              40\n",
       "Name: drive_chain, dtype: int64"
      ]
     },
     "execution_count": 69,
     "metadata": {},
     "output_type": "execute_result"
    }
   ],
   "source": [
    "df['drive_chain'].groupby(df['make_model']).value_counts(dropna=False)"
   ]
  },
  {
   "cell_type": "code",
   "execution_count": 70,
   "id": "3d22a1e2",
   "metadata": {},
   "outputs": [],
   "source": [
    "to_encode.add('drive_chain')"
   ]
  },
  {
   "cell_type": "markdown",
   "id": "552377f0",
   "metadata": {},
   "source": [
    "### Explore prev_owner, previous_owners, type\n",
    "\n",
    "* prev_owner is derived from previous_owners after cleaning, except no 0 previous owners\n",
    "* there are cases where there is information in previous_owners not in prev_owner and vice-versa.\n",
    "* similar information is also avialable in 'type'.\n",
    "* when imputing I will have to consider these three variables together. \n",
    "* I will keep prev_owner and ignore previous_owners"
   ]
  },
  {
   "cell_type": "code",
   "execution_count": 71,
   "id": "d1b127fc",
   "metadata": {},
   "outputs": [
    {
     "data": {
      "text/plain": [
       "1 previous owner     8294\n",
       "NaN                  6828\n",
       "2 previous owners     778\n",
       "3 previous owners      17\n",
       "4 previous owners       2\n",
       "Name: prev_owner, dtype: int64"
      ]
     },
     "execution_count": 71,
     "metadata": {},
     "output_type": "execute_result"
    }
   ],
   "source": [
    "df['prev_owner'].value_counts(dropna=False)"
   ]
  },
  {
   "cell_type": "code",
   "execution_count": 72,
   "id": "3a9c363d",
   "metadata": {
    "scrolled": true
   },
   "outputs": [
    {
     "ename": "TypeError",
     "evalue": "unhashable type: 'list'",
     "output_type": "error",
     "traceback": [
      "\u001b[1;31m---------------------------------------------------------------------------\u001b[0m",
      "\u001b[1;31mTypeError\u001b[0m                                 Traceback (most recent call last)",
      "\u001b[1;32mpandas\\_libs\\hashtable_class_helper.pxi\u001b[0m in \u001b[0;36mpandas._libs.hashtable.PyObjectHashTable.map_locations\u001b[1;34m()\u001b[0m\n",
      "\u001b[1;31mTypeError\u001b[0m: unhashable type: 'list'"
     ]
    },
    {
     "name": "stderr",
     "output_type": "stream",
     "text": [
      "Exception ignored in: 'pandas._libs.index.IndexEngine._call_map_locations'\n",
      "Traceback (most recent call last):\n",
      "  File \"pandas\\_libs\\hashtable_class_helper.pxi\", line 5231, in pandas._libs.hashtable.PyObjectHashTable.map_locations\n",
      "TypeError: unhashable type: 'list'\n"
     ]
    },
    {
     "data": {
      "text/plain": [
       "\\n1\\n                                                                                        8101\n",
       "\\n2\\n                                                                                         766\n",
       "\\n0\\n                                                                                         163\n",
       "\\n3\\n                                                                                          17\n",
       "[\\n1\\n, \\n168 g CO2/km (comb)\\n]                                                               13\n",
       "                                                                                             ... \n",
       "[\\n1\\n, \\n111 g CO2/km (comb)\\n]                                                                1\n",
       "[\\n1\\n, \\nEuro 6\\n]                                                                             1\n",
       "[\\n2\\n, \\n119 g CO2/km (comb)\\n]                                                                1\n",
       "[\\n1\\n, \\n, 6.6 l/100 km (comb), \\n, 8.1 l/100 km (city), \\n, 5.7 l/100 km (country), \\n]       1\n",
       "[\\n1\\n, \\n142 g CO2/km (comb)\\n]                                                                1\n",
       "Name: previous_owners, Length: 102, dtype: int64"
      ]
     },
     "execution_count": 72,
     "metadata": {},
     "output_type": "execute_result"
    }
   ],
   "source": [
    "df['previous_owners'].value_counts()"
   ]
  },
  {
   "cell_type": "code",
   "execution_count": 73,
   "id": "9215a508",
   "metadata": {},
   "outputs": [
    {
     "data": {
      "text/plain": [
       "1      8294\n",
       "NaN    6640\n",
       "2       778\n",
       "0       188\n",
       "3        17\n",
       "4         2\n",
       "Name: previous_owners, dtype: int64"
      ]
     },
     "execution_count": 73,
     "metadata": {},
     "output_type": "execute_result"
    }
   ],
   "source": [
    "df['previous_owners'] = [re.sub(r'[A-Za-z]','',x[0]) if x.__class__ == list else x for x in df['previous_owners']]\n",
    "df['previous_owners'] = [x.strip() if x.__class__ == str else x for x in df['previous_owners']]\n",
    "df['previous_owners'].value_counts(dropna=False)"
   ]
  },
  {
   "cell_type": "code",
   "execution_count": 74,
   "id": "768a2a07",
   "metadata": {},
   "outputs": [
    {
     "data": {
      "text/plain": [
       "Used              11096\n",
       "New                1650\n",
       "Pre-registered     1364\n",
       "Employee's car     1011\n",
       "Demonstration       796\n",
       "NaN                   2\n",
       "Name: type, dtype: int64"
      ]
     },
     "execution_count": 74,
     "metadata": {},
     "output_type": "execute_result"
    }
   ],
   "source": [
    "df['type'] = [x[1].strip() if x.__class__ == list else x for x in df['type']]\n",
    "df['type'].value_counts(dropna=False)"
   ]
  },
  {
   "cell_type": "code",
   "execution_count": 75,
   "id": "02125892",
   "metadata": {},
   "outputs": [
    {
     "data": {
      "text/plain": [
       "1      6291\n",
       "NaN    4010\n",
       "2       756\n",
       "0        20\n",
       "3        17\n",
       "4         2\n",
       "Name: previous_owners, dtype: int64"
      ]
     },
     "execution_count": 75,
     "metadata": {},
     "output_type": "execute_result"
    }
   ],
   "source": [
    "df['previous_owners'][df['type'] == 'Used'].value_counts(dropna=False)"
   ]
  },
  {
   "cell_type": "code",
   "execution_count": 76,
   "id": "ac9e852f",
   "metadata": {},
   "outputs": [
    {
     "data": {
      "text/plain": [
       "1 previous owner     8279\n",
       "NaN                  5193\n",
       "2 previous owners     778\n",
       "3 previous owners      17\n",
       "4 previous owners       2\n",
       "Name: prev_owner, dtype: int64"
      ]
     },
     "execution_count": 76,
     "metadata": {},
     "output_type": "execute_result"
    }
   ],
   "source": [
    "df['prev_owner'][df['type'] != 'New'].value_counts(dropna=False)"
   ]
  },
  {
   "cell_type": "code",
   "execution_count": 77,
   "id": "ed207906",
   "metadata": {},
   "outputs": [],
   "source": [
    "df['prev_owner'] = [re.sub(r'[A-Za-z]','',x) if x.__class__ == str else x for x in df['prev_owner']]"
   ]
  },
  {
   "cell_type": "code",
   "execution_count": 78,
   "id": "fc9d07dc",
   "metadata": {},
   "outputs": [],
   "source": [
    "to_encode.add('prev_owner')\n",
    "ignore.add('previous_owners')"
   ]
  },
  {
   "cell_type": "markdown",
   "id": "4536c42f",
   "metadata": {},
   "source": [
    "### Explore 'type'\n",
    "\n",
    "* replace the entries to all lowercase\n",
    "* when using this for modeling, I will encode this feature"
   ]
  },
  {
   "cell_type": "code",
   "execution_count": 79,
   "id": "5ecbbc7e",
   "metadata": {},
   "outputs": [],
   "source": [
    "df['type'] = [re.sub('-|\\s','_',x.lower()) if x.__class__ == str else x for x in df['type']]\n",
    "df['type'] = [re.sub('\\'','',x.lower()) if x.__class__ == str else x for x in df['type']]"
   ]
  },
  {
   "cell_type": "code",
   "execution_count": 80,
   "id": "7c83774f",
   "metadata": {},
   "outputs": [
    {
     "data": {
      "text/plain": [
       "used              11096\n",
       "new                1650\n",
       "pre_registered     1364\n",
       "employees_car      1011\n",
       "demonstration       796\n",
       "NaN                   2\n",
       "Name: type, dtype: int64"
      ]
     },
     "execution_count": 80,
     "metadata": {},
     "output_type": "execute_result"
    }
   ],
   "source": [
    "df['type'].value_counts(dropna=False)"
   ]
  },
  {
   "cell_type": "code",
   "execution_count": 81,
   "id": "2d6c5a52",
   "metadata": {},
   "outputs": [],
   "source": [
    "to_encode.add('type')"
   ]
  },
  {
   "cell_type": "markdown",
   "id": "ba48b04e",
   "metadata": {},
   "source": [
    "### Explore 'paint_type'\n",
    "\n",
    "* 5772 missing values\n",
    "* when imputing we can infer from color and make_model"
   ]
  },
  {
   "cell_type": "code",
   "execution_count": 82,
   "id": "b0e7313b",
   "metadata": {
    "scrolled": true
   },
   "outputs": [
    {
     "ename": "TypeError",
     "evalue": "unhashable type: 'list'",
     "output_type": "error",
     "traceback": [
      "\u001b[1;31m---------------------------------------------------------------------------\u001b[0m",
      "\u001b[1;31mTypeError\u001b[0m                                 Traceback (most recent call last)",
      "\u001b[1;32mpandas\\_libs\\hashtable_class_helper.pxi\u001b[0m in \u001b[0;36mpandas._libs.hashtable.PyObjectHashTable.map_locations\u001b[1;34m()\u001b[0m\n",
      "\u001b[1;31mTypeError\u001b[0m: unhashable type: 'list'"
     ]
    },
    {
     "name": "stderr",
     "output_type": "stream",
     "text": [
      "Exception ignored in: 'pandas._libs.index.IndexEngine._call_map_locations'\n",
      "Traceback (most recent call last):\n",
      "  File \"pandas\\_libs\\hashtable_class_helper.pxi\", line 5231, in pandas._libs.hashtable.PyObjectHashTable.map_locations\n",
      "TypeError: unhashable type: 'list'\n"
     ]
    },
    {
     "data": {
      "text/plain": [
       "[\\nMetallic\\n]       9794\n",
       "NaN                  5772\n",
       "[\\nUni/basic\\n]       347\n",
       "[\\nPerl effect\\n]       6\n",
       "Name: paint_type, dtype: int64"
      ]
     },
     "execution_count": 82,
     "metadata": {},
     "output_type": "execute_result"
    }
   ],
   "source": [
    "df['paint_type'].value_counts(dropna=False)"
   ]
  },
  {
   "cell_type": "code",
   "execution_count": 83,
   "id": "a6171d1b",
   "metadata": {},
   "outputs": [
    {
     "data": {
      "text/plain": [
       "Metallic       9794\n",
       "NaN            5772\n",
       "Uni/basic       347\n",
       "Perl effect       6\n",
       "Name: paint_type, dtype: int64"
      ]
     },
     "execution_count": 83,
     "metadata": {},
     "output_type": "execute_result"
    }
   ],
   "source": [
    "df['paint_type'] = [x[0].strip() if x.__class__ == list else x for x in df['paint_type']]\n",
    "df['paint_type'].value_counts(dropna=False)"
   ]
  },
  {
   "cell_type": "code",
   "execution_count": 84,
   "id": "e5021aef",
   "metadata": {},
   "outputs": [
    {
     "data": {
      "text/plain": [
       "make_model      paint_type \n",
       "Audi A1         Metallic       1742\n",
       "                NaN             808\n",
       "                Uni/basic        63\n",
       "                Perl effect       1\n",
       "Audi A2         Metallic          1\n",
       "Audi A3         Metallic       1792\n",
       "                NaN            1208\n",
       "                Uni/basic        97\n",
       "Opel Astra      Metallic       1713\n",
       "                NaN             785\n",
       "                Uni/basic        26\n",
       "                Perl effect       2\n",
       "Opel Corsa      Metallic       1281\n",
       "                NaN             883\n",
       "                Uni/basic        53\n",
       "                Perl effect       2\n",
       "Opel Insignia   Metallic       1780\n",
       "                NaN             795\n",
       "                Uni/basic        23\n",
       "Renault Clio    NaN             925\n",
       "                Metallic        861\n",
       "                Uni/basic        52\n",
       "                Perl effect       1\n",
       "Renault Duster  NaN              17\n",
       "                Uni/basic        16\n",
       "                Metallic          1\n",
       "Renault Espace  Metallic        623\n",
       "                NaN             351\n",
       "                Uni/basic        17\n",
       "Name: paint_type, dtype: int64"
      ]
     },
     "execution_count": 84,
     "metadata": {},
     "output_type": "execute_result"
    }
   ],
   "source": [
    "df['paint_type'].groupby(df['make_model']).value_counts(dropna=False)"
   ]
  },
  {
   "cell_type": "code",
   "execution_count": 85,
   "id": "e17d498d",
   "metadata": {},
   "outputs": [],
   "source": [
    "to_encode.add('paint_type')"
   ]
  },
  {
   "cell_type": "markdown",
   "id": "0e068eb7",
   "metadata": {},
   "source": [
    "### Explore 'cylinders'\n",
    "* 5680 missing values\n",
    "* Maybe we can infer the missing values from from make_model, hp, etc.\n",
    "* we can group these into \"more than 4\" and \"less than 3\" to encode into 2 features. "
   ]
  },
  {
   "cell_type": "code",
   "execution_count": 86,
   "id": "104c1eca",
   "metadata": {
    "scrolled": true
   },
   "outputs": [
    {
     "ename": "TypeError",
     "evalue": "unhashable type: 'list'",
     "output_type": "error",
     "traceback": [
      "\u001b[1;31m---------------------------------------------------------------------------\u001b[0m",
      "\u001b[1;31mTypeError\u001b[0m                                 Traceback (most recent call last)",
      "\u001b[1;32mpandas\\_libs\\hashtable_class_helper.pxi\u001b[0m in \u001b[0;36mpandas._libs.hashtable.PyObjectHashTable.map_locations\u001b[1;34m()\u001b[0m\n",
      "\u001b[1;31mTypeError\u001b[0m: unhashable type: 'list'"
     ]
    },
    {
     "name": "stderr",
     "output_type": "stream",
     "text": [
      "Exception ignored in: 'pandas._libs.index.IndexEngine._call_map_locations'\n",
      "Traceback (most recent call last):\n",
      "  File \"pandas\\_libs\\hashtable_class_helper.pxi\", line 5231, in pandas._libs.hashtable.PyObjectHashTable.map_locations\n",
      "TypeError: unhashable type: 'list'\n"
     ]
    },
    {
     "data": {
      "text/plain": [
       "[\\n4\\n]    8105\n",
       "NaN        5680\n",
       "[\\n3\\n]    2104\n",
       "[\\n5\\n]      22\n",
       "[\\n6\\n]       3\n",
       "[\\n8\\n]       2\n",
       "[\\n2\\n]       2\n",
       "[\\n1\\n]       1\n",
       "Name: cylinders, dtype: int64"
      ]
     },
     "execution_count": 86,
     "metadata": {},
     "output_type": "execute_result"
    }
   ],
   "source": [
    "df['cylinders'].value_counts(dropna=False)"
   ]
  },
  {
   "cell_type": "code",
   "execution_count": 87,
   "id": "8bd04dd5",
   "metadata": {},
   "outputs": [
    {
     "data": {
      "text/plain": [
       "4      8105\n",
       "NaN    5680\n",
       "3      2104\n",
       "5        22\n",
       "6         3\n",
       "8         2\n",
       "2         2\n",
       "1         1\n",
       "Name: cylinders, dtype: int64"
      ]
     },
     "execution_count": 87,
     "metadata": {},
     "output_type": "execute_result"
    }
   ],
   "source": [
    "df['cylinders'] = [x[0].strip().lstrip() if x.__class__ == list else x for x in df['cylinders']]\n",
    "df['cylinders'].value_counts(dropna=False)"
   ]
  },
  {
   "cell_type": "code",
   "execution_count": 88,
   "id": "0bc29c99",
   "metadata": {},
   "outputs": [
    {
     "data": {
      "text/plain": [
       "make_model      cylinders\n",
       "Audi A1         3            1358\n",
       "                NaN           859\n",
       "                4             396\n",
       "                8               1\n",
       "Audi A2         NaN             1\n",
       "Audi A3         4            1900\n",
       "                NaN           803\n",
       "                3             373\n",
       "                5              21\n",
       "Opel Astra      4            1244\n",
       "                NaN          1106\n",
       "                3             176\n",
       "Opel Corsa      4            1391\n",
       "                NaN           818\n",
       "                3               9\n",
       "                1               1\n",
       "Opel Insignia   4            1629\n",
       "                NaN           965\n",
       "                6               3\n",
       "                2               1\n",
       "Renault Clio    4             872\n",
       "                NaN           778\n",
       "                3             188\n",
       "                5               1\n",
       "Renault Duster  4              33\n",
       "                NaN             1\n",
       "Renault Espace  4             640\n",
       "                NaN           349\n",
       "                2               1\n",
       "                8               1\n",
       "Name: cylinders, dtype: int64"
      ]
     },
     "execution_count": 88,
     "metadata": {},
     "output_type": "execute_result"
    }
   ],
   "source": [
    "df['cylinders'].groupby(df['make_model']).value_counts(dropna=False)"
   ]
  },
  {
   "cell_type": "code",
   "execution_count": 89,
   "id": "77a9113b",
   "metadata": {},
   "outputs": [],
   "source": [
    "to_encode.add('cylinders')"
   ]
  },
  {
   "cell_type": "markdown",
   "id": "616c1244",
   "metadata": {},
   "source": [
    "### Explore 'warranty'\n",
    "\n",
    "* create warranty_mo a feature with float: months of warranty"
   ]
  },
  {
   "cell_type": "code",
   "execution_count": 90,
   "id": "f344c60a",
   "metadata": {
    "scrolled": true
   },
   "outputs": [
    {
     "ename": "TypeError",
     "evalue": "unhashable type: 'list'",
     "output_type": "error",
     "traceback": [
      "\u001b[1;31m---------------------------------------------------------------------------\u001b[0m",
      "\u001b[1;31mTypeError\u001b[0m                                 Traceback (most recent call last)",
      "\u001b[1;32mpandas\\_libs\\hashtable_class_helper.pxi\u001b[0m in \u001b[0;36mpandas._libs.hashtable.PyObjectHashTable.map_locations\u001b[1;34m()\u001b[0m\n",
      "\u001b[1;31mTypeError\u001b[0m: unhashable type: 'list'"
     ]
    },
    {
     "name": "stderr",
     "output_type": "stream",
     "text": [
      "Exception ignored in: 'pandas._libs.index.IndexEngine._call_map_locations'\n",
      "Traceback (most recent call last):\n",
      "  File \"pandas\\_libs\\hashtable_class_helper.pxi\", line 5231, in pandas._libs.hashtable.PyObjectHashTable.map_locations\n",
      "TypeError: unhashable type: 'list'\n"
     ]
    },
    {
     "data": {
      "text/plain": [
       "[\\n, \\n, \\nEuro 6\\n]                                                                               1868\n",
       "\\n12 months\\n                                                                                      1177\n",
       "\\n                                                                                                  979\n",
       "\\n24 months\\n                                                                                       566\n",
       "[\\n, \\n, \\n4 (Green)\\n]                                                                             517\n",
       "                                                                                                   ... \n",
       "[\\n72 months\\n, \\n125 g CO2/km (comb)\\n]                                                              1\n",
       "[\\n60 months\\n, \\n14 g CO2/km (comb)\\n]                                                               1\n",
       "[\\n24 months\\n, \\n121 g CO2/km (comb)\\n]                                                              1\n",
       "[\\n12 months\\n, \\nEuro 6d\\n]                                                                          1\n",
       "[\\n36 months\\n, \\n, 7.4 l/100 km (comb), \\n, 9.6 l/100 km (city), \\n, 6 l/100 km (country), \\n]       1\n",
       "Name: warranty, Length: 515, dtype: int64"
      ]
     },
     "execution_count": 90,
     "metadata": {},
     "output_type": "execute_result"
    }
   ],
   "source": [
    "df['warranty'].value_counts()"
   ]
  },
  {
   "cell_type": "code",
   "execution_count": 91,
   "id": "1a047608",
   "metadata": {
    "scrolled": true
   },
   "outputs": [
    {
     "data": {
      "text/plain": [
       "12.0    2594\n",
       "24.0    1118\n",
       "60.0     401\n",
       "36.0     279\n",
       "48.0     149\n",
       "6.0      125\n",
       "72.0      59\n",
       "3.0       33\n",
       "23.0      11\n",
       "18.0      10\n",
       "20.0       7\n",
       "25.0       6\n",
       "2.0        5\n",
       "50.0       4\n",
       "26.0       4\n",
       "16.0       4\n",
       "4.0        3\n",
       "1.0        3\n",
       "19.0       3\n",
       "34.0       3\n",
       "13.0       3\n",
       "28.0       2\n",
       "22.0       2\n",
       "14.0       2\n",
       "11.0       2\n",
       "46.0       2\n",
       "21.0       2\n",
       "9.0        2\n",
       "17.0       2\n",
       "45.0       2\n",
       "33.0       1\n",
       "40.0       1\n",
       "65.0       1\n",
       "10.0       1\n",
       "15.0       1\n",
       "7.0        1\n",
       "8.0        1\n",
       "56.0       1\n",
       "49.0       1\n",
       "47.0       1\n",
       "30.0       1\n",
       "Name: warranty_mo, dtype: int64"
      ]
     },
     "execution_count": 91,
     "metadata": {},
     "output_type": "execute_result"
    }
   ],
   "source": [
    "df['warranty_mo'] = [x[0].strip() if x.__class__ == list else x for x in df['warranty']]\n",
    "df['warranty_mo'] = [re.sub('\\n| months','',x) if x.__class__ == str else x for x in df['warranty_mo']]\n",
    "df['warranty_mo'] = [float('nan') if x == '' else float(x) for x in df['warranty_mo']]\n",
    "df['warranty_mo'].value_counts()"
   ]
  },
  {
   "cell_type": "code",
   "execution_count": 92,
   "id": "04a6da5a",
   "metadata": {},
   "outputs": [],
   "source": [
    "ignore.add('warranty')"
   ]
  },
  {
   "cell_type": "markdown",
   "id": "f1154f70",
   "metadata": {},
   "source": [
    "### Explore 'gears'\n",
    "\n",
    "* One case of 50 gears, seems like a typo, replace with nan\n",
    "* Since we do not expect this to be a continuous variable we can make these into dummies"
   ]
  },
  {
   "cell_type": "code",
   "execution_count": 93,
   "id": "bf7b1e66",
   "metadata": {},
   "outputs": [
    {
     "ename": "TypeError",
     "evalue": "unhashable type: 'list'",
     "output_type": "error",
     "traceback": [
      "\u001b[1;31m---------------------------------------------------------------------------\u001b[0m",
      "\u001b[1;31mTypeError\u001b[0m                                 Traceback (most recent call last)",
      "\u001b[1;32mpandas\\_libs\\hashtable_class_helper.pxi\u001b[0m in \u001b[0;36mpandas._libs.hashtable.PyObjectHashTable.map_locations\u001b[1;34m()\u001b[0m\n",
      "\u001b[1;31mTypeError\u001b[0m: unhashable type: 'list'"
     ]
    },
    {
     "name": "stderr",
     "output_type": "stream",
     "text": [
      "Exception ignored in: 'pandas._libs.index.IndexEngine._call_map_locations'\n",
      "Traceback (most recent call last):\n",
      "  File \"pandas\\_libs\\hashtable_class_helper.pxi\", line 5231, in pandas._libs.hashtable.PyObjectHashTable.map_locations\n",
      "TypeError: unhashable type: 'list'\n"
     ]
    },
    {
     "data": {
      "text/plain": [
       "[\\n6\\n]     5822\n",
       "NaN         4712\n",
       "[\\n5\\n]     3239\n",
       "[\\n7\\n]     1908\n",
       "[\\n8\\n]      224\n",
       "[\\n9\\n]        6\n",
       "[\\n1\\n]        2\n",
       "[\\n3\\n]        2\n",
       "[\\n4\\n]        2\n",
       "[\\n2\\n]        1\n",
       "[\\n50\\n]       1\n",
       "Name: gears, dtype: int64"
      ]
     },
     "execution_count": 93,
     "metadata": {},
     "output_type": "execute_result"
    }
   ],
   "source": [
    "df['gears'].value_counts(dropna=False)"
   ]
  },
  {
   "cell_type": "code",
   "execution_count": 94,
   "id": "e6c14911",
   "metadata": {
    "scrolled": true
   },
   "outputs": [
    {
     "data": {
      "text/plain": [
       "6      5822\n",
       "NaN    4712\n",
       "5      3239\n",
       "7      1908\n",
       "8       224\n",
       "9         6\n",
       "1         2\n",
       "3         2\n",
       "4         2\n",
       "2         1\n",
       "50        1\n",
       "Name: gears, dtype: int64"
      ]
     },
     "execution_count": 94,
     "metadata": {},
     "output_type": "execute_result"
    }
   ],
   "source": [
    "df['gears'] = [x[0].strip() if x.__class__ == list else x for x in df['gears']]\n",
    "df['gears'].value_counts(dropna=False)"
   ]
  },
  {
   "cell_type": "code",
   "execution_count": 95,
   "id": "fa680308",
   "metadata": {},
   "outputs": [
    {
     "data": {
      "text/plain": [
       "make_model      gears\n",
       "Audi A1         NaN       952\n",
       "                5         818\n",
       "                7         656\n",
       "                6         186\n",
       "                8           2\n",
       "Audi A2         NaN         1\n",
       "Audi A3         6        1258\n",
       "                7        1111\n",
       "                NaN       726\n",
       "                5           2\n",
       "Opel Astra      6        1348\n",
       "                NaN       792\n",
       "                5         385\n",
       "                7           1\n",
       "Opel Corsa      5        1143\n",
       "                NaN       611\n",
       "                6         462\n",
       "                1           1\n",
       "                2           1\n",
       "                8           1\n",
       "Opel Insignia   6        1673\n",
       "                NaN       695\n",
       "                8         221\n",
       "                5           7\n",
       "                7           2\n",
       "Renault Clio    5         882\n",
       "                NaN       561\n",
       "                6         391\n",
       "                7           3\n",
       "                1           1\n",
       "                50          1\n",
       "Renault Duster  6          25\n",
       "                NaN         9\n",
       "Renault Espace  6         479\n",
       "                NaN       365\n",
       "                7         135\n",
       "                9           6\n",
       "                3           2\n",
       "                4           2\n",
       "                5           2\n",
       "Name: gears, dtype: int64"
      ]
     },
     "execution_count": 95,
     "metadata": {},
     "output_type": "execute_result"
    }
   ],
   "source": [
    "df['gears'].groupby(df['make_model']).value_counts(dropna=False)"
   ]
  },
  {
   "cell_type": "code",
   "execution_count": 96,
   "id": "cda85c80",
   "metadata": {},
   "outputs": [],
   "source": [
    "to_encode.add('gears')"
   ]
  },
  {
   "cell_type": "markdown",
   "id": "5ce10a50",
   "metadata": {},
   "source": [
    "### Explore 'vat' \n",
    "\n",
    "* missing can be interpreted as not vat deductible\n",
    "* create a dummy vat_deductible"
   ]
  },
  {
   "cell_type": "code",
   "execution_count": 97,
   "id": "de006f1b",
   "metadata": {},
   "outputs": [
    {
     "data": {
      "text/plain": [
       "VAT deductible      10980\n",
       "NaN                  4513\n",
       "Price negotiable      426\n",
       "Name: vat, dtype: int64"
      ]
     },
     "execution_count": 97,
     "metadata": {},
     "output_type": "execute_result"
    }
   ],
   "source": [
    "df['vat'].value_counts(dropna=False)"
   ]
  },
  {
   "cell_type": "code",
   "execution_count": 98,
   "id": "267563f2",
   "metadata": {},
   "outputs": [
    {
     "data": {
      "text/plain": [
       "1    10980\n",
       "0     4939\n",
       "Name: vat_deductible, dtype: int64"
      ]
     },
     "execution_count": 98,
     "metadata": {},
     "output_type": "execute_result"
    }
   ],
   "source": [
    "df['vat_deductible'] = [1 if x == \"VAT deductible\" else 0 for x in df['vat']]\n",
    "df['vat_deductible'].value_counts(dropna=False)"
   ]
  },
  {
   "cell_type": "code",
   "execution_count": 99,
   "id": "b820191a",
   "metadata": {},
   "outputs": [],
   "source": [
    "ignore.add('vat')"
   ]
  },
  {
   "cell_type": "markdown",
   "id": "161ea08a",
   "metadata": {},
   "source": [
    "### Explore 'body_color', 'body_color_original'\n",
    "* body_color is important, \n",
    "* oiriginal less so. \n",
    "* 597 missing body_color\n",
    "* we will encode body_color for analysis and ignore body_color_original\n",
    "* when encoding we will club the less frequent colors into other colors"
   ]
  },
  {
   "cell_type": "code",
   "execution_count": 100,
   "id": "2f817a21",
   "metadata": {},
   "outputs": [
    {
     "ename": "TypeError",
     "evalue": "unhashable type: 'list'",
     "output_type": "error",
     "traceback": [
      "\u001b[1;31m---------------------------------------------------------------------------\u001b[0m",
      "\u001b[1;31mTypeError\u001b[0m                                 Traceback (most recent call last)",
      "\u001b[1;32mpandas\\_libs\\hashtable_class_helper.pxi\u001b[0m in \u001b[0;36mpandas._libs.hashtable.PyObjectHashTable.map_locations\u001b[1;34m()\u001b[0m\n",
      "\u001b[1;31mTypeError\u001b[0m: unhashable type: 'list'"
     ]
    },
    {
     "name": "stderr",
     "output_type": "stream",
     "text": [
      "Exception ignored in: 'pandas._libs.index.IndexEngine._call_map_locations'\n",
      "Traceback (most recent call last):\n",
      "  File \"pandas\\_libs\\hashtable_class_helper.pxi\", line 5231, in pandas._libs.hashtable.PyObjectHashTable.map_locations\n",
      "TypeError: unhashable type: 'list'\n"
     ]
    },
    {
     "data": {
      "text/plain": [
       "[\\n, Black, \\n]     3745\n",
       "[\\n, Grey, \\n]      3505\n",
       "[\\n, White, \\n]     3406\n",
       "[\\n, Silver, \\n]    1647\n",
       "[\\n, Blue, \\n]      1431\n",
       "[\\n, Red, \\n]        957\n",
       "NaN                  597\n",
       "[\\n, Brown, \\n]      289\n",
       "[\\n, Green, \\n]      154\n",
       "[\\n, Beige, \\n]      108\n",
       "[\\n, Yellow, \\n]      51\n",
       "[\\n, Violet, \\n]      18\n",
       "[\\n, Bronze, \\n]       6\n",
       "[\\n, Orange, \\n]       3\n",
       "[\\n, Gold, \\n]         2\n",
       "Name: body_color, dtype: int64"
      ]
     },
     "execution_count": 100,
     "metadata": {},
     "output_type": "execute_result"
    }
   ],
   "source": [
    "df['body_color'].value_counts(dropna=False)"
   ]
  },
  {
   "cell_type": "code",
   "execution_count": 101,
   "id": "78803106",
   "metadata": {},
   "outputs": [
    {
     "ename": "TypeError",
     "evalue": "unhashable type: 'list'",
     "output_type": "error",
     "traceback": [
      "\u001b[1;31m---------------------------------------------------------------------------\u001b[0m",
      "\u001b[1;31mTypeError\u001b[0m                                 Traceback (most recent call last)",
      "\u001b[1;32mpandas\\_libs\\hashtable_class_helper.pxi\u001b[0m in \u001b[0;36mpandas._libs.hashtable.PyObjectHashTable.map_locations\u001b[1;34m()\u001b[0m\n",
      "\u001b[1;31mTypeError\u001b[0m: unhashable type: 'list'"
     ]
    },
    {
     "name": "stderr",
     "output_type": "stream",
     "text": [
      "Exception ignored in: 'pandas._libs.index.IndexEngine._call_map_locations'\n",
      "Traceback (most recent call last):\n",
      "  File \"pandas\\_libs\\hashtable_class_helper.pxi\", line 5231, in pandas._libs.hashtable.PyObjectHashTable.map_locations\n",
      "TypeError: unhashable type: 'list'\n"
     ]
    },
    {
     "data": {
      "text/plain": [
       "NaN                                    3759\n",
       "[\\nOnyx Schwarz\\n]                      338\n",
       "[\\nBianco\\n]                            282\n",
       "[\\nMythosschwarz Metallic\\n]            238\n",
       "[\\nBrillantschwarz\\n]                   216\n",
       "                                       ... \n",
       "[\\nRouge-Braun (G0Y)\\n]                   1\n",
       "[\\nVARI COLRI DISPONIBILI\\n]              1\n",
       "[\\nKokosnussbraun Metallic\\n]             1\n",
       "[\\nFarbe frei wählbar\\n]                  1\n",
       "[\\nPerlmutt-Weiß Metallic (Weiß)\\n]       1\n",
       "Name: body_color_original, Length: 1928, dtype: int64"
      ]
     },
     "execution_count": 101,
     "metadata": {},
     "output_type": "execute_result"
    }
   ],
   "source": [
    "df['body_color_original'].value_counts(dropna=False)"
   ]
  },
  {
   "cell_type": "code",
   "execution_count": 102,
   "id": "ca715412",
   "metadata": {},
   "outputs": [],
   "source": [
    "df['body_color_original'] = [re.sub('\\n','',x[0])  if (x.__class__ == list) else x \n",
    "                             for x in df['body_color_original']]"
   ]
  },
  {
   "cell_type": "code",
   "execution_count": 103,
   "id": "096dff46",
   "metadata": {},
   "outputs": [
    {
     "data": {
      "text/plain": [
       "NaN                              3759\n",
       "Onyx Schwarz                      338\n",
       "Bianco                            282\n",
       "Mythosschwarz Metallic            238\n",
       "Brillantschwarz                   216\n",
       "                                 ... \n",
       "Rouge-Braun (G0Y)                   1\n",
       "VARI COLRI DISPONIBILI              1\n",
       "Kokosnussbraun Metallic             1\n",
       "Farbe frei wählbar                  1\n",
       "Perlmutt-Weiß Metallic (Weiß)       1\n",
       "Name: body_color_original, Length: 1928, dtype: int64"
      ]
     },
     "execution_count": 103,
     "metadata": {},
     "output_type": "execute_result"
    }
   ],
   "source": [
    "df['body_color_original'].value_counts(dropna=False)"
   ]
  },
  {
   "cell_type": "code",
   "execution_count": 104,
   "id": "0b516063",
   "metadata": {},
   "outputs": [
    {
     "ename": "TypeError",
     "evalue": "unhashable type: 'list'",
     "output_type": "error",
     "traceback": [
      "\u001b[1;31m---------------------------------------------------------------------------\u001b[0m",
      "\u001b[1;31mTypeError\u001b[0m                                 Traceback (most recent call last)",
      "\u001b[1;32mpandas\\_libs\\hashtable_class_helper.pxi\u001b[0m in \u001b[0;36mpandas._libs.hashtable.PyObjectHashTable.map_locations\u001b[1;34m()\u001b[0m\n",
      "\u001b[1;31mTypeError\u001b[0m: unhashable type: 'list'"
     ]
    },
    {
     "name": "stderr",
     "output_type": "stream",
     "text": [
      "Exception ignored in: 'pandas._libs.index.IndexEngine._call_map_locations'\n",
      "Traceback (most recent call last):\n",
      "  File \"pandas\\_libs\\hashtable_class_helper.pxi\", line 5231, in pandas._libs.hashtable.PyObjectHashTable.map_locations\n",
      "TypeError: unhashable type: 'list'\n"
     ]
    },
    {
     "data": {
      "text/plain": [
       "[\\n, Black, \\n]     3745\n",
       "[\\n, Grey, \\n]      3505\n",
       "[\\n, White, \\n]     3406\n",
       "[\\n, Silver, \\n]    1647\n",
       "[\\n, Blue, \\n]      1431\n",
       "[\\n, Red, \\n]        957\n",
       "NaN                  597\n",
       "[\\n, Brown, \\n]      289\n",
       "[\\n, Green, \\n]      154\n",
       "[\\n, Beige, \\n]      108\n",
       "[\\n, Yellow, \\n]      51\n",
       "[\\n, Violet, \\n]      18\n",
       "[\\n, Bronze, \\n]       6\n",
       "[\\n, Orange, \\n]       3\n",
       "[\\n, Gold, \\n]         2\n",
       "Name: body_color, dtype: int64"
      ]
     },
     "execution_count": 104,
     "metadata": {},
     "output_type": "execute_result"
    }
   ],
   "source": [
    "df['body_color'].value_counts(dropna=False)"
   ]
  },
  {
   "cell_type": "code",
   "execution_count": 105,
   "id": "77012367",
   "metadata": {},
   "outputs": [],
   "source": [
    "df['body_color'] = [re.sub('\\n','',x[1])  if (x.__class__ == list) else x \n",
    "                             for x in df['body_color']]"
   ]
  },
  {
   "cell_type": "code",
   "execution_count": 106,
   "id": "39e29d9b",
   "metadata": {},
   "outputs": [],
   "source": [
    "vc = df['body_color'].value_counts(dropna=False)"
   ]
  },
  {
   "cell_type": "code",
   "execution_count": 107,
   "id": "bba80282",
   "metadata": {},
   "outputs": [
    {
     "data": {
      "text/plain": [
       "black     3745\n",
       "grey      3505\n",
       "white     3406\n",
       "silver    1647\n",
       "blue      1431\n",
       "red        957\n",
       "NaN        597\n",
       "brown      289\n",
       "green      154\n",
       "beige      108\n",
       "yellow      51\n",
       "violet      18\n",
       "bronze       6\n",
       "orange       3\n",
       "gold         2\n",
       "Name: body_color, dtype: int64"
      ]
     },
     "execution_count": 107,
     "metadata": {},
     "output_type": "execute_result"
    }
   ],
   "source": [
    "df['body_color'] = [x.lower() if x.__class__ == str else x for x in df['body_color']]\n",
    "df['body_color'].value_counts(dropna=False)"
   ]
  },
  {
   "cell_type": "code",
   "execution_count": 108,
   "id": "dfd80b2f",
   "metadata": {},
   "outputs": [
    {
     "data": {
      "text/plain": [
       "make_model      body_color\n",
       "Audi A1         white         727\n",
       "                black         717\n",
       "                grey          327\n",
       "                blue          286\n",
       "                red           250\n",
       "                             ... \n",
       "Renault Espace  beige          40\n",
       "                NaN            20\n",
       "                violet         14\n",
       "                blue           13\n",
       "                bronze          2\n",
       "Name: body_color, Length: 84, dtype: int64"
      ]
     },
     "execution_count": 108,
     "metadata": {},
     "output_type": "execute_result"
    }
   ],
   "source": [
    "df['body_color'].groupby(df['make_model']).value_counts(dropna=False)"
   ]
  },
  {
   "cell_type": "code",
   "execution_count": 109,
   "id": "d9123549",
   "metadata": {},
   "outputs": [],
   "source": [
    "ignore.add('body_color_original')\n",
    "to_encode.add('body_color')"
   ]
  },
  {
   "cell_type": "markdown",
   "id": "4876a7b8",
   "metadata": {},
   "source": [
    "### Explore 'upholstery'\n",
    "\n",
    "* Split it into upholstery_material and upholstery_color\n",
    "* reduce the number of categories by creating 'other' groups in each feature\n",
    "* both to be encoded"
   ]
  },
  {
   "cell_type": "code",
   "execution_count": 110,
   "id": "3ef0af2a",
   "metadata": {
    "scrolled": true
   },
   "outputs": [
    {
     "ename": "TypeError",
     "evalue": "unhashable type: 'list'",
     "output_type": "error",
     "traceback": [
      "\u001b[1;31m---------------------------------------------------------------------------\u001b[0m",
      "\u001b[1;31mTypeError\u001b[0m                                 Traceback (most recent call last)",
      "\u001b[1;32mpandas\\_libs\\hashtable_class_helper.pxi\u001b[0m in \u001b[0;36mpandas._libs.hashtable.PyObjectHashTable.map_locations\u001b[1;34m()\u001b[0m\n",
      "\u001b[1;31mTypeError\u001b[0m: unhashable type: 'list'"
     ]
    },
    {
     "name": "stderr",
     "output_type": "stream",
     "text": [
      "Exception ignored in: 'pandas._libs.index.IndexEngine._call_map_locations'\n",
      "Traceback (most recent call last):\n",
      "  File \"pandas\\_libs\\hashtable_class_helper.pxi\", line 5231, in pandas._libs.hashtable.PyObjectHashTable.map_locations\n",
      "TypeError: unhashable type: 'list'\n"
     ]
    },
    {
     "data": {
      "text/plain": [
       "[\\nCloth, Black\\n]           5821\n",
       "NaN                          3720\n",
       "[\\nPart leather, Black\\n]    1121\n",
       "[\\nCloth\\n]                  1005\n",
       "[\\nCloth, Grey\\n]             891\n",
       "[\\nCloth, Other\\n]            639\n",
       "[\\nFull leather, Black\\n]     575\n",
       "[\\nBlack\\n]                   491\n",
       "[\\nGrey\\n]                    273\n",
       "[\\nOther, Other\\n]            182\n",
       "[\\nPart leather\\n]            140\n",
       "[\\nFull leather\\n]            139\n",
       "[\\nFull leather, Brown\\n]     116\n",
       "[\\nPart leather, Grey\\n]      116\n",
       "[\\nOther, Black\\n]            110\n",
       "[\\nFull leather, Other\\n]      72\n",
       "[\\nFull leather, Grey\\n]       67\n",
       "[\\nPart leather, Other\\n]      65\n",
       "[\\nOther\\n]                    56\n",
       "[\\nPart leather, Brown\\n]      50\n",
       "[\\nalcantara, Black\\n]         47\n",
       "[\\nVelour, Black\\n]            36\n",
       "[\\nFull leather, Beige\\n]      36\n",
       "[\\nCloth, Brown\\n]             28\n",
       "[\\nVelour\\n]                   16\n",
       "[\\nOther, Grey\\n]              15\n",
       "[\\nCloth, Beige\\n]             13\n",
       "[\\nBrown\\n]                    12\n",
       "[\\nCloth, Blue\\n]              12\n",
       "[\\nVelour, Grey\\n]              8\n",
       "[\\nCloth, White\\n]              8\n",
       "[\\nalcantara, Grey\\n]           6\n",
       "[\\nCloth, Red\\n]                5\n",
       "[\\nOther, Yellow\\n]             4\n",
       "[\\nPart leather, Red\\n]         3\n",
       "[\\nBeige\\n]                     3\n",
       "[\\nPart leather, White\\n]       2\n",
       "[\\nFull leather, Blue\\n]        2\n",
       "[\\nalcantara, Other\\n]          2\n",
       "[\\nalcantara\\n]                 2\n",
       "[\\nWhite\\n]                     2\n",
       "[\\nPart leather, Beige\\n]       2\n",
       "[\\nBlue\\n]                      2\n",
       "[\\nCloth, Orange\\n]             1\n",
       "[\\nFull leather, Red\\n]         1\n",
       "[\\nOther, Brown\\n]              1\n",
       "[\\nFull leather, White\\n]       1\n",
       "Name: upholstery, dtype: int64"
      ]
     },
     "execution_count": 110,
     "metadata": {},
     "output_type": "execute_result"
    }
   ],
   "source": [
    "df['upholstery'].value_counts(dropna=False)"
   ]
  },
  {
   "cell_type": "code",
   "execution_count": 111,
   "id": "618c938d",
   "metadata": {},
   "outputs": [
    {
     "data": {
      "text/plain": [
       "cloth           8423\n",
       "NaN             4503\n",
       "part leather    1499\n",
       "full leather    1009\n",
       "other            368\n",
       "velour            60\n",
       "alcantara         57\n",
       "Name: upholstery_material, dtype: int64"
      ]
     },
     "execution_count": 111,
     "metadata": {},
     "output_type": "execute_result"
    }
   ],
   "source": [
    "df['upholstery_material'] = [re.sub('\\n|,','',x[0].split(',')[0])  if (x.__class__ == list) else x \n",
    "                             for x in df['upholstery']]\n",
    "colors = ['Black', 'Grey', 'Brown', 'Beige', 'Blue', 'White']\n",
    "df['upholstery_material'] = [float('nan') if x in colors else x for x in df['upholstery_material']]\n",
    "df['upholstery_material'] = [x.lower() if x.__class__ == str else x for x in df['upholstery_material']]\n",
    "df['upholstery_material'].value_counts(dropna=False) "
   ]
  },
  {
   "cell_type": "code",
   "execution_count": 112,
   "id": "4696aeec",
   "metadata": {},
   "outputs": [
    {
     "data": {
      "text/plain": [
       "black           8201\n",
       "NaN             3722\n",
       "grey            1376\n",
       "other           1016\n",
       "cloth           1005\n",
       "brown            207\n",
       "part leather     140\n",
       "full leather     139\n",
       "beige             54\n",
       "velour            16\n",
       "blue              16\n",
       "white             13\n",
       "red                9\n",
       "yellow             4\n",
       "orange             1\n",
       "Name: upholstery_color, dtype: int64"
      ]
     },
     "execution_count": 112,
     "metadata": {},
     "output_type": "execute_result"
    }
   ],
   "source": [
    "material = [i for i in df['upholstery_material'].value_counts().index]\n",
    "df['upholstery_color'] = [re.sub('\\n|,','',x[0].split(',')[-1].strip()) if x.__class__ == list else x for x in df['upholstery']]\n",
    "df['upholstery_color'] = [float('nan') if x in material else x for x in df['upholstery_color']]\n",
    "df['upholstery_color'] = [x.lower() if x.__class__ == str else x for x in df['upholstery_color']]\n",
    "df['upholstery_color'].value_counts(dropna=False)"
   ]
  },
  {
   "cell_type": "raw",
   "id": "4c3f39a3",
   "metadata": {},
   "source": [
    "vc = df['upholstery_color'].value_counts()\n",
    "other_color = [i for i in vc.index][-5:]\n",
    "df['upholstery_color'] = ['other' if x in other_color else x for x in df['upholstery_color']]"
   ]
  },
  {
   "cell_type": "code",
   "execution_count": 113,
   "id": "d43641bc",
   "metadata": {},
   "outputs": [],
   "source": [
    "ignore.add('upholstery')\n",
    "to_encode.add('upholstery_color')\n",
    "to_encode.add('upholstery_material')"
   ]
  },
  {
   "cell_type": "markdown",
   "id": "949f27de",
   "metadata": {},
   "source": [
    "### Explore 'offer_number'\n",
    "\n",
    "Seems to be a unique identifier, can ignore"
   ]
  },
  {
   "cell_type": "raw",
   "id": "ef6e37ff",
   "metadata": {},
   "source": [
    "df['offer_number'].value_counts(dropna=False)"
   ]
  },
  {
   "cell_type": "code",
   "execution_count": 114,
   "id": "7a25128c",
   "metadata": {},
   "outputs": [],
   "source": [
    "ignore.add('offer_number')"
   ]
  },
  {
   "cell_type": "markdown",
   "id": "7f19f7d1",
   "metadata": {},
   "source": [
    "### Explore 'emission_class'\n",
    "\n",
    "* Can be encoded to dummies"
   ]
  },
  {
   "cell_type": "code",
   "execution_count": 115,
   "id": "c554ee78",
   "metadata": {},
   "outputs": [
    {
     "ename": "TypeError",
     "evalue": "unhashable type: 'list'",
     "output_type": "error",
     "traceback": [
      "\u001b[1;31m---------------------------------------------------------------------------\u001b[0m",
      "\u001b[1;31mTypeError\u001b[0m                                 Traceback (most recent call last)",
      "\u001b[1;32mpandas\\_libs\\hashtable_class_helper.pxi\u001b[0m in \u001b[0;36mpandas._libs.hashtable.PyObjectHashTable.map_locations\u001b[1;34m()\u001b[0m\n",
      "\u001b[1;31mTypeError\u001b[0m: unhashable type: 'list'"
     ]
    },
    {
     "name": "stderr",
     "output_type": "stream",
     "text": [
      "Exception ignored in: 'pandas._libs.index.IndexEngine._call_map_locations'\n",
      "Traceback (most recent call last):\n",
      "  File \"pandas\\_libs\\hashtable_class_helper.pxi\", line 5231, in pandas._libs.hashtable.PyObjectHashTable.map_locations\n",
      "TypeError: unhashable type: 'list'\n"
     ]
    },
    {
     "data": {
      "text/plain": [
       "[\\nEuro 6\\n]          10139\n",
       "NaN                    3021\n",
       "[\\nEuro 6d-TEMP\\n]     1845\n",
       "[[], [], []]            607\n",
       "[\\nEuro 6c\\n]           127\n",
       "[\\nEuro 5\\n]             78\n",
       "[\\nEuro 6d\\n]            62\n",
       "[\\nEuro 4\\n]             40\n",
       "Name: emission_class, dtype: int64"
      ]
     },
     "execution_count": 115,
     "metadata": {},
     "output_type": "execute_result"
    }
   ],
   "source": [
    "df['emission_class'].value_counts(dropna=False)"
   ]
  },
  {
   "cell_type": "code",
   "execution_count": 116,
   "id": "c09d7b55",
   "metadata": {},
   "outputs": [
    {
     "data": {
      "text/plain": [
       "Euro 6          10139\n",
       "NaN              3628\n",
       "Euro 6d-TEMP     1845\n",
       "Euro 6c           127\n",
       "Euro 5             78\n",
       "Euro 6d            62\n",
       "Euro 4             40\n",
       "Name: emission_class_temp, dtype: int64"
      ]
     },
     "execution_count": 116,
     "metadata": {},
     "output_type": "execute_result"
    }
   ],
   "source": [
    "df['emission_class_temp'] = [x[0] if x.__class__ == list else x for x in df['emission_class']]\n",
    "df['emission_class_temp'] = [float('nan') if x.__class__ == list else x for x in df['emission_class_temp']]\n",
    "df['emission_class_temp'] = [re.sub('\\n','',x) if x.__class__ == str else x for x in df['emission_class_temp']]\n",
    "df['emission_class_temp'].value_counts(dropna=False)"
   ]
  },
  {
   "cell_type": "code",
   "execution_count": 117,
   "id": "dafae8ab",
   "metadata": {},
   "outputs": [],
   "source": [
    "df = df.drop(['emission_class'], axis = 1)"
   ]
  },
  {
   "cell_type": "code",
   "execution_count": 118,
   "id": "ef3d52a5",
   "metadata": {},
   "outputs": [],
   "source": [
    "df.rename(columns={'emission_class_temp': 'emission_class'}, inplace=True)"
   ]
  },
  {
   "cell_type": "code",
   "execution_count": 119,
   "id": "509707b3",
   "metadata": {},
   "outputs": [],
   "source": [
    "df['emission_class'] = [x.lower() if x.__class__ == str else x for x in df['emission_class']]"
   ]
  },
  {
   "cell_type": "code",
   "execution_count": 120,
   "id": "77213d87",
   "metadata": {},
   "outputs": [
    {
     "data": {
      "text/plain": [
       "euro 6          10139\n",
       "euro 6d-temp     1845\n",
       "euro 6c           127\n",
       "euro 5             78\n",
       "euro 6d            62\n",
       "euro 4             40\n",
       "Name: emission_class, dtype: int64"
      ]
     },
     "execution_count": 120,
     "metadata": {},
     "output_type": "execute_result"
    }
   ],
   "source": [
    "df['emission_class'].value_counts()"
   ]
  },
  {
   "cell_type": "markdown",
   "id": "9bb0c166",
   "metadata": {},
   "source": [
    "### Explore 'extras'\n",
    "\n",
    "* Collect unique extra features in a new list extra_features\n",
    "* Make extra features into dummy variables"
   ]
  },
  {
   "cell_type": "code",
   "execution_count": 121,
   "id": "a576fd4d",
   "metadata": {},
   "outputs": [
    {
     "ename": "TypeError",
     "evalue": "unhashable type: 'list'",
     "output_type": "error",
     "traceback": [
      "\u001b[1;31m---------------------------------------------------------------------------\u001b[0m",
      "\u001b[1;31mTypeError\u001b[0m                                 Traceback (most recent call last)",
      "\u001b[1;32mpandas\\_libs\\hashtable_class_helper.pxi\u001b[0m in \u001b[0;36mpandas._libs.hashtable.PyObjectHashTable.map_locations\u001b[1;34m()\u001b[0m\n",
      "\u001b[1;31mTypeError\u001b[0m: unhashable type: 'list'"
     ]
    },
    {
     "name": "stderr",
     "output_type": "stream",
     "text": [
      "Exception ignored in: 'pandas._libs.index.IndexEngine._call_map_locations'\n",
      "Traceback (most recent call last):\n",
      "  File \"pandas\\_libs\\hashtable_class_helper.pxi\", line 5231, in pandas._libs.hashtable.PyObjectHashTable.map_locations\n",
      "TypeError: unhashable type: 'list'\n"
     ]
    },
    {
     "data": {
      "text/plain": [
       "[Alloy wheels]                                                                                                     3245\n",
       "[Alloy wheels, Touch screen]                                                                                        697\n",
       "[Alloy wheels, Voice Control]                                                                                       577\n",
       "[Alloy wheels, Touch screen, Voice Control]                                                                         541\n",
       "[Alloy wheels, Roof rack]                                                                                           385\n",
       "                                                                                                                   ... \n",
       "[Alloy wheels, Catalytic Converter, Shift paddles, Sport package, Sport seats, Sport suspension, Voice Control]       1\n",
       "[Alloy wheels, Catalytic Converter, Roof rack, Sport package, Sport seats, Trailer hitch]                             1\n",
       "[Alloy wheels, Catalytic Converter, Ski bag, Sport package, Voice Control]                                            1\n",
       "[Catalytic Converter, Roof rack, Sport seats, Sport suspension]                                                       1\n",
       "[Alloy wheels, Shift paddles, Ski bag, Sport seats, Sport suspension, Touch screen, Voice Control]                    1\n",
       "Name: extras, Length: 659, dtype: int64"
      ]
     },
     "execution_count": 121,
     "metadata": {},
     "output_type": "execute_result"
    }
   ],
   "source": [
    "df['extras'].value_counts()"
   ]
  },
  {
   "cell_type": "code",
   "execution_count": 122,
   "id": "379a67ff",
   "metadata": {},
   "outputs": [],
   "source": [
    "df[\"extras\"] = [\",\".join(item) if type(item) == list else item for item in df[\"extras\"]]"
   ]
  },
  {
   "cell_type": "raw",
   "id": "0b272bf1",
   "metadata": {},
   "source": [
    "extra_features = set()\n",
    "for li in df['extras']:\n",
    "    if li.__class__ != list:\n",
    "        continue\n",
    "    for ef in li:\n",
    "        extra_features.add(ef)\n",
    "print(extra_features)"
   ]
  },
  {
   "cell_type": "raw",
   "id": "7f670c4e",
   "metadata": {
    "scrolled": true
   },
   "source": [
    "for ef in extra_features:\n",
    "    name = 'extra_' + re.sub('\\s','_',ef.lower())\n",
    "    df[name] = [1*(ef in x) if x.__class__ == list else float('nan') for x in df['extras']]\n",
    "    print(df[name].value_counts(dropna=False))"
   ]
  },
  {
   "cell_type": "raw",
   "id": "9f912abf",
   "metadata": {},
   "source": [
    "for i in ['handicapped_enabled', 'shift_paddles', 'sliding_doors', 'sport_suspension',\n",
    "          'catalytic converter', 'ski_bag', 'trailer_hitch', 'winter_tyres', 'sport package',\n",
    "          'sport_seats', 'roof_rack', 'tuned car', 'right_hand_drive']:\n",
    "    ignore.add('extra_' + i)"
   ]
  },
  {
   "cell_type": "markdown",
   "id": "ed5e313a",
   "metadata": {},
   "source": [
    "### Explore 'consumption'\n",
    "\n",
    "* str, lists, or list of lists with combinations of three kinds of values: comb, city, country.\n",
    "* make three columns, extract and match from consumption to fill the columns.\n",
    "* split each entry by space to extract number and units.\n"
   ]
  },
  {
   "cell_type": "code",
   "execution_count": 123,
   "id": "f5bfb39f",
   "metadata": {
    "scrolled": true
   },
   "outputs": [
    {
     "ename": "TypeError",
     "evalue": "unhashable type: 'list'",
     "output_type": "error",
     "traceback": [
      "\u001b[1;31m---------------------------------------------------------------------------\u001b[0m",
      "\u001b[1;31mTypeError\u001b[0m                                 Traceback (most recent call last)",
      "\u001b[1;32mpandas\\_libs\\hashtable_class_helper.pxi\u001b[0m in \u001b[0;36mpandas._libs.hashtable.PyObjectHashTable.map_locations\u001b[1;34m()\u001b[0m\n",
      "\u001b[1;31mTypeError\u001b[0m: unhashable type: 'list'"
     ]
    },
    {
     "name": "stderr",
     "output_type": "stream",
     "text": [
      "Exception ignored in: 'pandas._libs.index.IndexEngine._call_map_locations'\n",
      "Traceback (most recent call last):\n",
      "  File \"pandas\\_libs\\hashtable_class_helper.pxi\", line 5231, in pandas._libs.hashtable.PyObjectHashTable.map_locations\n",
      "TypeError: unhashable type: 'list'\n"
     ]
    },
    {
     "data": {
      "text/plain": [
       "[[3.9 l/100 km (comb)], [4.1 l/100 km (city)], [3.7 l/100 km (country)]]              304\n",
       "[[4.2 l/100 km (comb)], [5 l/100 km (city)], [3.7 l/100 km (country)]]                276\n",
       "[[5.4 l/100 km (comb)], [6.8 l/100 km (city)], [4.5 l/100 km (country)]]              257\n",
       "[[3.8 l/100 km (comb)], [4.3 l/100 km (city)], [3.5 l/100 km (country)]]              253\n",
       "[[4.7 l/100 km (comb)], [5.1 l/100 km (city)], [4.4 l/100 km (country)]]              244\n",
       "                                                                                     ... \n",
       "[[4.2 l/100 km (comb)], [5.3 l/100 km (city)], [3.6 l/100 km (country)]]                1\n",
       "[\\n, 5.1 l/100 km (comb), \\n, 6.4 l/100 km (city), \\n, 4.3 l/100 km (country), \\n]      1\n",
       "[[4.6 l/100 km (comb)], [5.4 l/100 km (city)], [6.7 l/100 km (country)]]                1\n",
       "[\\n, 6.3 l/100 km (comb), \\n, \\n, \\n]                                                   1\n",
       "[\\n, 7.4 l/100 km (comb), \\n, 9.6 l/100 km (city), \\n, 6 l/100 km (country), \\n]        1\n",
       "Name: consumption, Length: 881, dtype: int64"
      ]
     },
     "execution_count": 123,
     "metadata": {},
     "output_type": "execute_result"
    }
   ],
   "source": [
    "df['consumption'].value_counts()"
   ]
  },
  {
   "cell_type": "code",
   "execution_count": 124,
   "id": "9235ea3c",
   "metadata": {},
   "outputs": [
    {
     "data": {
      "text/plain": [
       "1906"
      ]
     },
     "execution_count": 124,
     "metadata": {},
     "output_type": "execute_result"
    }
   ],
   "source": [
    "df['consumption'].isna().sum()"
   ]
  },
  {
   "cell_type": "code",
   "execution_count": 125,
   "id": "a28d3ee3",
   "metadata": {},
   "outputs": [],
   "source": [
    "comb = [float('nan') for x in df['consumption']]\n",
    "city = [float('nan') for x in df['consumption']]\n",
    "country = [float('nan') for x in df['consumption']]\n",
    "d = {'comb': comb, 'city':city, 'country':country}"
   ]
  },
  {
   "cell_type": "code",
   "execution_count": 126,
   "id": "b641de56",
   "metadata": {},
   "outputs": [],
   "source": [
    "#df['consumption'].size\n",
    "for i in range(df['consumption'].size):\n",
    "    x = df['consumption'][i]\n",
    "    if x.__class__ == str: # string (unlikely)\n",
    "        for p in d.keys():\n",
    "            if re.search(p,x):\n",
    "                li = d[p]\n",
    "                li[i] = x\n",
    "                #print(p, d[p][i])\n",
    "    elif x.__class__ == list: # list of string\n",
    "        for y in x:\n",
    "            if y.__class__ == str:\n",
    "                for p in d.keys():\n",
    "                    if re.search(p,y):\n",
    "                        li = d[p]\n",
    "                        li[i] = y\n",
    "                        #print(p,d[p][i])\n",
    "            if y.__class__ == list: # list of lists\n",
    "                for z in y:\n",
    "                    if z.__class__ == str:\n",
    "                        for p in d.keys():\n",
    "                            if re.search(p,z):\n",
    "                                li = d[p]\n",
    "                                li[i] = z\n",
    "                                #print(p, d[p][i])"
   ]
  },
  {
   "cell_type": "code",
   "execution_count": 127,
   "id": "89a9279e",
   "metadata": {},
   "outputs": [
    {
     "data": {
      "text/plain": [
       "(13886, 13483, 13543)"
      ]
     },
     "execution_count": 127,
     "metadata": {},
     "output_type": "execute_result"
    }
   ],
   "source": [
    "sum([c.__class__ == str for c in comb]), sum([c.__class__ == str for c in city]), sum([c.__class__ == str for c in country])"
   ]
  },
  {
   "cell_type": "code",
   "execution_count": 128,
   "id": "a34e90d4",
   "metadata": {},
   "outputs": [],
   "source": [
    "df['consumption_comb'] = comb\n",
    "df['consumption_city'] = city\n",
    "df['consumption_country'] = country"
   ]
  },
  {
   "cell_type": "code",
   "execution_count": 129,
   "id": "d5dcf945",
   "metadata": {},
   "outputs": [
    {
     "data": {
      "text/plain": [
       "8 l/100 km (comb)       5\n",
       "8.6 l/100 km (comb)     4\n",
       "51 l/100 km (comb)      4\n",
       "7.9 l/100 km (comb)     3\n",
       "5.1 kg/100 km (comb)    3\n",
       "8.7 l/100 km (comb)     3\n",
       "1.6 l/100 km (comb)     3\n",
       "3.5 kg/100 km (comb)    3\n",
       "38 l/100 km (comb)      2\n",
       "40 l/100 km (comb)      2\n",
       "8.1 l/100 km (comb)     2\n",
       "0 l/100 km (comb)       2\n",
       "7.3 l/100 km (comb)     2\n",
       "55 l/100 km (comb)      1\n",
       "46 l/100 km (comb)      1\n",
       "1 l/100 km (comb)       1\n",
       "50 l/100 km (comb)      1\n",
       "33 l/100 km (comb)      1\n",
       "32 l/100 km (comb)      1\n",
       "1.2 l/100 km (comb)     1\n",
       "54 l/100 km (comb)      1\n",
       "8.3 kg/100 km (comb)    1\n",
       "3.6 kg/100 km (comb)    1\n",
       "5.4 kg/100 km (comb)    1\n",
       "9.1 l/100 km (comb)     1\n",
       "11 l/100 km (comb)      1\n",
       "5.3 kg/100 km (comb)    1\n",
       "7.5 l/100 km (comb)     1\n",
       "13.8 l/100 km (comb)    1\n",
       "43 l/100 km (comb)      1\n",
       "Name: consumption_comb, dtype: int64"
      ]
     },
     "execution_count": 129,
     "metadata": {},
     "output_type": "execute_result"
    }
   ],
   "source": [
    "df['consumption_comb'].value_counts()[50:]\n",
    "# only 22 times kg/100 km, rest l/100 km, assume all to be l/100 km\n",
    "# extract only first part of string after splitting by \\s"
   ]
  },
  {
   "cell_type": "code",
   "execution_count": 130,
   "id": "fcae7732",
   "metadata": {
    "scrolled": true
   },
   "outputs": [
    {
     "name": "stdout",
     "output_type": "stream",
     "text": [
      "NaN     2033\n",
      "5.4      770\n",
      "3.9      733\n",
      "4.0      713\n",
      "5.1      657\n",
      "        ... \n",
      "33.0       1\n",
      "50.0       1\n",
      "1.0        1\n",
      "46.0       1\n",
      "11.0       1\n",
      "Name: consumption_comb, Length: 73, dtype: int64\n",
      "NaN     2436\n",
      "5.0      669\n",
      "5.8      633\n",
      "4.5      580\n",
      "4.3      533\n",
      "        ... \n",
      "9.0        1\n",
      "10.5       1\n",
      "16.1       1\n",
      "10.4       1\n",
      "9.7        1\n",
      "Name: consumption_city, Length: 87, dtype: int64\n",
      "NaN     2376\n",
      "4.2     1178\n",
      "3.7     1089\n",
      "4.4      898\n",
      "4.5      848\n",
      "3.8      802\n",
      "3.9      777\n",
      "4.7      615\n",
      "4.1      592\n",
      "4.0      589\n",
      "3.5      525\n",
      "4.3      520\n",
      "4.6      516\n",
      "3.6      486\n",
      "4.9      481\n",
      "3.1      481\n",
      "3.3      457\n",
      "3.4      353\n",
      "4.8      341\n",
      "5.3      278\n",
      "5.4      239\n",
      "5.1      232\n",
      "5.7      204\n",
      "3.2      180\n",
      "5.6      154\n",
      "3.0      142\n",
      "5.0      130\n",
      "5.2      117\n",
      "6.3       52\n",
      "6.0       42\n",
      "5.5       36\n",
      "10.0      32\n",
      "5.8       30\n",
      "7.7       20\n",
      "6.6       19\n",
      "2.9       16\n",
      "6.4       15\n",
      "2.8        9\n",
      "0.0        9\n",
      "7.3        4\n",
      "44.0       4\n",
      "6.5        4\n",
      "7.0        3\n",
      "7.1        3\n",
      "6.9        2\n",
      "35.0       2\n",
      "37.0       2\n",
      "6.1        2\n",
      "5.9        2\n",
      "6.7        2\n",
      "7.8        2\n",
      "7.6        1\n",
      "42.0       1\n",
      "8.0        1\n",
      "8.6        1\n",
      "10.3       1\n",
      "2.0        1\n",
      "1.0        1\n",
      "Name: consumption_country, dtype: int64\n"
     ]
    }
   ],
   "source": [
    "for c in [\"consumption_comb\", \"consumption_city\", \"consumption_country\"]:\n",
    "    df[c] = [float(x.split(' ')[0]) if x.__class__ == str else x for x in df[c]]\n",
    "    print(df[c].value_counts(dropna=False))"
   ]
  },
  {
   "cell_type": "code",
   "execution_count": 131,
   "id": "dcfc01a8",
   "metadata": {},
   "outputs": [
    {
     "data": {
      "text/plain": [
       "<AxesSubplot:ylabel='Frequency'>"
      ]
     },
     "execution_count": 131,
     "metadata": {},
     "output_type": "execute_result"
    },
    {
     "data": {
      "image/png": "[encoded data removed]",
      "text/plain": [
       "<Figure size 640x480 with 1 Axes>"
      ]
     },
     "metadata": {},
     "output_type": "display_data"
    }
   ],
   "source": [
    "df[\"consumption_comb\"].plot.hist(bins = 10)"
   ]
  },
  {
   "cell_type": "code",
   "execution_count": 132,
   "id": "cb5f1596",
   "metadata": {},
   "outputs": [
    {
     "data": {
      "text/plain": [
       "<AxesSubplot:ylabel='Frequency'>"
      ]
     },
     "execution_count": 132,
     "metadata": {},
     "output_type": "execute_result"
    },
    {
     "data": {
      "image/png": "[encoded data removed]",
      "text/plain": [
       "<Figure size 640x480 with 1 Axes>"
      ]
     },
     "metadata": {},
     "output_type": "display_data"
    }
   ],
   "source": [
    "df[\"consumption_city\"].plot.hist(bins = 20)"
   ]
  },
  {
   "cell_type": "code",
   "execution_count": 133,
   "id": "d602da11",
   "metadata": {},
   "outputs": [
    {
     "data": {
      "text/plain": [
       "<AxesSubplot:ylabel='Frequency'>"
      ]
     },
     "execution_count": 133,
     "metadata": {},
     "output_type": "execute_result"
    },
    {
     "data": {
      "image/png": "[encoded data removed]",
      "text/plain": [
       "<Figure size 640x480 with 1 Axes>"
      ]
     },
     "metadata": {},
     "output_type": "display_data"
    }
   ],
   "source": [
    "df[\"consumption_country\"].plot.hist(bins = 10)"
   ]
  },
  {
   "cell_type": "code",
   "execution_count": 134,
   "id": "a994af00",
   "metadata": {},
   "outputs": [],
   "source": [
    "ignore.add('consumption')"
   ]
  },
  {
   "cell_type": "markdown",
   "id": "f3c9fa73",
   "metadata": {},
   "source": [
    "### Explore 'co2_emission'\n",
    "\n",
    "* Mostly string in a list with extra '\\n'"
   ]
  },
  {
   "cell_type": "code",
   "execution_count": 135,
   "id": "e409f97c",
   "metadata": {},
   "outputs": [
    {
     "ename": "TypeError",
     "evalue": "unhashable type: 'list'",
     "output_type": "error",
     "traceback": [
      "\u001b[1;31m---------------------------------------------------------------------------\u001b[0m",
      "\u001b[1;31mTypeError\u001b[0m                                 Traceback (most recent call last)",
      "\u001b[1;32mpandas\\_libs\\hashtable_class_helper.pxi\u001b[0m in \u001b[0;36mpandas._libs.hashtable.PyObjectHashTable.map_locations\u001b[1;34m()\u001b[0m\n",
      "\u001b[1;31mTypeError\u001b[0m: unhashable type: 'list'"
     ]
    },
    {
     "name": "stderr",
     "output_type": "stream",
     "text": [
      "Exception ignored in: 'pandas._libs.index.IndexEngine._call_map_locations'\n",
      "Traceback (most recent call last):\n",
      "  File \"pandas\\_libs\\hashtable_class_helper.pxi\", line 5231, in pandas._libs.hashtable.PyObjectHashTable.map_locations\n",
      "TypeError: unhashable type: 'list'\n"
     ]
    },
    {
     "data": {
      "text/plain": [
       "[\\n120 g CO2/km (comb)\\n]      740\n",
       "[[], [], []]                   628\n",
       "[\\n99 g CO2/km (comb)\\n]       545\n",
       "[\\n97 g CO2/km (comb)\\n]       537\n",
       "[\\n104 g CO2/km (comb)\\n]      501\n",
       "                              ... \n",
       "[\\n14 g CO2/km (comb)\\n]         1\n",
       "[\\n1,060 g CO2/km (comb)\\n]      1\n",
       "[\\n51 g CO2/km (comb)\\n]         1\n",
       "[\\n165 g CO2/km (comb)\\n]        1\n",
       "[\\n193 g CO2/km (comb)\\n]        1\n",
       "Name: co2_emission, Length: 123, dtype: int64"
      ]
     },
     "execution_count": 135,
     "metadata": {},
     "output_type": "execute_result"
    }
   ],
   "source": [
    "df['co2_emission'].value_counts()"
   ]
  },
  {
   "cell_type": "code",
   "execution_count": 136,
   "id": "0bfba718",
   "metadata": {},
   "outputs": [],
   "source": [
    "df['co2_emission'] = [(re.sub('\\n','',x[0]) if x[0].__class__ == str else float('nan')) \n",
    "                       if x.__class__ == list else x for x in df['co2_emission']]"
   ]
  },
  {
   "cell_type": "code",
   "execution_count": 137,
   "id": "c8f7aea6",
   "metadata": {},
   "outputs": [
    {
     "data": {
      "text/plain": [
       "171 g CO2/km (comb)       1\n",
       "183 g CO2/km (comb)       1\n",
       "1 g CO2/km (comb)         1\n",
       "180 g CO2/km (comb)       1\n",
       "177 g CO2/km (comb)       1\n",
       "331 g CO2/km (comb)       1\n",
       "181 g CO2/km (comb)       1\n",
       "13,983 g CO2/km (comb)    1\n",
       "184 g CO2/km (comb)       1\n",
       "14,457 g CO2/km (comb)    1\n",
       "14 g CO2/km (comb)        1\n",
       "239 g CO2/km (comb)       1\n",
       "1,060 g CO2/km (comb)     1\n",
       "190 g CO2/km (comb)       1\n",
       "990 g CO2/km (comb)       1\n",
       "253 g CO2/km (comb)       1\n",
       "160 g CO2/km (comb)       1\n",
       "80 g CO2/km (comb)        1\n",
       "51 g CO2/km (comb)        1\n",
       "165 g CO2/km (comb)       1\n",
       "12,324 g CO2/km (comb)    1\n",
       "193 g CO2/km (comb)       1\n",
       "Name: co2_emission, dtype: int64"
      ]
     },
     "execution_count": 137,
     "metadata": {},
     "output_type": "execute_result"
    }
   ],
   "source": [
    "df['co2_emission'].value_counts()[100:]\n",
    "# no. suffixed with \"g CO2/km (comb)\""
   ]
  },
  {
   "cell_type": "code",
   "execution_count": 138,
   "id": "5fbb4b57",
   "metadata": {},
   "outputs": [],
   "source": [
    "df['co2_emission'] = [x.split(' ')[0] if x.__class__ == str else float('nan') for x in df['co2_emission']]"
   ]
  },
  {
   "cell_type": "code",
   "execution_count": 139,
   "id": "77ea2feb",
   "metadata": {},
   "outputs": [],
   "source": [
    "df['co2_emission'] = [re.sub(',','',x) if x.__class__ == str else x for x in df['co2_emission']]"
   ]
  },
  {
   "cell_type": "code",
   "execution_count": 140,
   "id": "48616bc5",
   "metadata": {},
   "outputs": [],
   "source": [
    "df['co2_emission'] = df['co2_emission'].astype('float')\n",
    "# 12,087  13,983 14,457 12,324  1,060 seem too high, all together only 6. drop"
   ]
  },
  {
   "cell_type": "code",
   "execution_count": 141,
   "id": "8d0943b7",
   "metadata": {},
   "outputs": [
    {
     "data": {
      "text/plain": [
       "<AxesSubplot:ylabel='Frequency'>"
      ]
     },
     "execution_count": 141,
     "metadata": {},
     "output_type": "execute_result"
    },
    {
     "data": {
      "image/png": "[encoded data removed]",
      "text/plain": [
       "<Figure size 640x480 with 1 Axes>"
      ]
     },
     "metadata": {},
     "output_type": "display_data"
    }
   ],
   "source": [
    "df['co2_emission'][df['co2_emission']<200].plot.hist(bins = 100)"
   ]
  },
  {
   "cell_type": "markdown",
   "id": "b4246341",
   "metadata": {},
   "source": [
    "### Explore 'entertainment_media'\n",
    "\n",
    "* Make a set of entertainment media in the lists\n",
    "* Make dummy for each in the set, ignore entertainment_media"
   ]
  },
  {
   "cell_type": "code",
   "execution_count": 142,
   "id": "95c906d5",
   "metadata": {},
   "outputs": [
    {
     "ename": "TypeError",
     "evalue": "unhashable type: 'list'",
     "output_type": "error",
     "traceback": [
      "\u001b[1;31m---------------------------------------------------------------------------\u001b[0m",
      "\u001b[1;31mTypeError\u001b[0m                                 Traceback (most recent call last)",
      "\u001b[1;32mpandas\\_libs\\hashtable_class_helper.pxi\u001b[0m in \u001b[0;36mpandas._libs.hashtable.PyObjectHashTable.map_locations\u001b[1;34m()\u001b[0m\n",
      "\u001b[1;31mTypeError\u001b[0m: unhashable type: 'list'"
     ]
    },
    {
     "name": "stderr",
     "output_type": "stream",
     "text": [
      "Exception ignored in: 'pandas._libs.index.IndexEngine._call_map_locations'\n",
      "Traceback (most recent call last):\n",
      "  File \"pandas\\_libs\\hashtable_class_helper.pxi\", line 5231, in pandas._libs.hashtable.PyObjectHashTable.map_locations\n",
      "TypeError: unhashable type: 'list'\n"
     ]
    },
    {
     "data": {
      "text/plain": [
       "[Bluetooth, Hands-free equipment, On-board computer, Radio, USB]                         1282\n",
       "[Bluetooth, Hands-free equipment, MP3, On-board computer, Radio, USB]                     982\n",
       "[Bluetooth, CD player, Hands-free equipment, MP3, On-board computer, Radio, USB]          783\n",
       "[On-board computer, Radio]                                                                487\n",
       "[Radio]                                                                                   477\n",
       "                                                                                         ... \n",
       "[Bluetooth, CD player, MP3]                                                                 1\n",
       "[CD player, USB]                                                                            1\n",
       "[Bluetooth, CD player, Digital radio, Radio, USB]                                           1\n",
       "[Bluetooth, CD player, Digital radio, MP3, On-board computer, Radio, Television, USB]       1\n",
       "[Hands-free equipment, On-board computer, Radio, Sound system]                              1\n",
       "Name: entertainment_media, Length: 346, dtype: int64"
      ]
     },
     "execution_count": 142,
     "metadata": {},
     "output_type": "execute_result"
    }
   ],
   "source": [
    "df['entertainment_media'].value_counts()\n",
    "# each entry is a list with string entries if not missing"
   ]
  },
  {
   "cell_type": "code",
   "execution_count": 143,
   "id": "841eb34b",
   "metadata": {},
   "outputs": [],
   "source": [
    "df['entertainment_media'] = [','.join(x) if x.__class__==list else x for x in df['entertainment_media']]"
   ]
  },
  {
   "cell_type": "code",
   "execution_count": 144,
   "id": "d3c1f16d",
   "metadata": {},
   "outputs": [
    {
     "data": {
      "text/plain": [
       "NaN                                                                                                 1374\n",
       "Bluetooth,Hands-free equipment,On-board computer,Radio,USB                                          1282\n",
       "Bluetooth,Hands-free equipment,MP3,On-board computer,Radio,USB                                       982\n",
       "Bluetooth,CD player,Hands-free equipment,MP3,On-board computer,Radio,USB                             783\n",
       "On-board computer,Radio                                                                              487\n",
       "                                                                                                    ... \n",
       "Bluetooth,CD player,Digital radio,Hands-free equipment,Radio                                           1\n",
       "CD player,Hands-free equipment,MP3,Radio,USB                                                           1\n",
       "MP3,Radio,Sound system,USB                                                                             1\n",
       "Bluetooth,MP3,On-board computer,Radio,Television,USB                                                   1\n",
       "Bluetooth,CD player,Hands-free equipment,MP3,On-board computer,Radio,Sound system,Television,USB       1\n",
       "Name: entertainment_media, Length: 347, dtype: int64"
      ]
     },
     "execution_count": 144,
     "metadata": {},
     "output_type": "execute_result"
    }
   ],
   "source": [
    "df['entertainment_media'].value_counts(dropna=False)"
   ]
  },
  {
   "cell_type": "raw",
   "id": "a7d36435",
   "metadata": {},
   "source": [
    "ent = set()\n",
    "for x in df['entertainment_media']:\n",
    "    if x.__class__ != list:\n",
    "        continue\n",
    "    for y in x:\n",
    "        ent.add(y)\n",
    "ent"
   ]
  },
  {
   "cell_type": "raw",
   "id": "91bac822",
   "metadata": {},
   "source": [
    "for f in ent:\n",
    "    name = 'entertainment_' + re.sub('\\s|-','_',f.lower())\n",
    "    df[name] = [(1 if f in x else 0) if x.__class__ == list else float('nan') for x in df['entertainment_media']]\n",
    "    print(df[name].value_counts())"
   ]
  },
  {
   "cell_type": "raw",
   "id": "2098bbc8",
   "metadata": {},
   "source": [
    "ignore.add('entertainment_television')"
   ]
  },
  {
   "cell_type": "markdown",
   "id": "d15fee24",
   "metadata": {},
   "source": [
    "### Explore 'safety_security'\n",
    "\n",
    "* Features in a list. \n",
    "* As with entertainment_media, make a set. Make columns for each in the set. ignore safety_security. "
   ]
  },
  {
   "cell_type": "code",
   "execution_count": 145,
   "id": "0726d8db",
   "metadata": {},
   "outputs": [
    {
     "ename": "TypeError",
     "evalue": "unhashable type: 'list'",
     "output_type": "error",
     "traceback": [
      "\u001b[1;31m---------------------------------------------------------------------------\u001b[0m",
      "\u001b[1;31mTypeError\u001b[0m                                 Traceback (most recent call last)",
      "\u001b[1;32mpandas\\_libs\\hashtable_class_helper.pxi\u001b[0m in \u001b[0;36mpandas._libs.hashtable.PyObjectHashTable.map_locations\u001b[1;34m()\u001b[0m\n",
      "\u001b[1;31mTypeError\u001b[0m: unhashable type: 'list'"
     ]
    },
    {
     "name": "stderr",
     "output_type": "stream",
     "text": [
      "Exception ignored in: 'pandas._libs.index.IndexEngine._call_map_locations'\n",
      "Traceback (most recent call last):\n",
      "  File \"pandas\\_libs\\hashtable_class_helper.pxi\", line 5231, in pandas._libs.hashtable.PyObjectHashTable.map_locations\n",
      "TypeError: unhashable type: 'list'\n"
     ]
    },
    {
     "data": {
      "text/plain": [
       "[ABS, Central door lock, Daytime running lights, Driver-side airbag, Electronic stability control, Fog lights, Immobilizer, Isofix, Passenger-side airbag, Power steering, Side airbag, Tire pressure monitoring system, Traction control]                                                                                                                                           538\n",
       "[ABS, Central door lock, Daytime running lights, Driver-side airbag, Electronic stability control, Immobilizer, Isofix, Passenger-side airbag, Power steering, Side airbag, Tire pressure monitoring system, Traction control]                                                                                                                                                       480\n",
       "[ABS, Central door lock, Daytime running lights, Driver-side airbag, Electronic stability control, Immobilizer, Isofix, Passenger-side airbag, Power steering, Side airbag, Tire pressure monitoring system, Traction control, Xenon headlights]                                                                                                                                     275\n",
       "[ABS, Central door lock, Daytime running lights, Driver-side airbag, Electronic stability control, Fog lights, Immobilizer, Isofix, LED Daytime Running Lights, Passenger-side airbag, Power steering, Side airbag, Tire pressure monitoring system, Traction control]                                                                                                               272\n",
       "[ABS, Central door lock, Daytime running lights, Driver-side airbag, Electronic stability control, Immobilizer, Isofix, LED Daytime Running Lights, Passenger-side airbag, Power steering, Side airbag, Tire pressure monitoring system, Traction control]                                                                                                                           228\n",
       "                                                                                                                                                                                                                                                                                                                                                                                    ... \n",
       "[ABS, Central door lock, Electronic stability control, Immobilizer, Isofix, Passenger-side airbag, Power steering, Side airbag]                                                                                                                                                                                                                                                        1\n",
       "[ABS, Adaptive Cruise Control, Central door lock, Daytime running lights, Driver-side airbag, Electronic stability control, Emergency brake assistant, Immobilizer, Isofix, Passenger-side airbag, Power steering, Side airbag, Tire pressure monitoring system, Traction control]                                                                                                     1\n",
       "[ABS, Adaptive Cruise Control, Alarm system, Central door lock, Driver-side airbag, Electronic stability control, Fog lights, Immobilizer, Isofix, Lane departure warning system, LED Daytime Running Lights, Passenger-side airbag, Power steering, Side airbag, Tire pressure monitoring system, Traction control, Xenon headlights]                                                 1\n",
       "[ABS, Adaptive Cruise Control, Central door lock, Daytime running lights, Driver-side airbag, Electronic stability control, Fog lights, Immobilizer, Isofix, Power steering, Tire pressure monitoring system, Traction control]                                                                                                                                                        1\n",
       "[ABS, Adaptive Cruise Control, Central door lock, Daytime running lights, Driver-side airbag, Electronic stability control, Emergency brake assistant, Fog lights, Immobilizer, Isofix, Lane departure warning system, LED Daytime Running Lights, LED Headlights, Passenger-side airbag, Power steering, Side airbag, Tire pressure monitoring system, Traffic sign recognition]      1\n",
       "Name: safety_security, Length: 4443, dtype: int64"
      ]
     },
     "execution_count": 145,
     "metadata": {},
     "output_type": "execute_result"
    }
   ],
   "source": [
    "df['safety_security'].value_counts()"
   ]
  },
  {
   "cell_type": "code",
   "execution_count": 146,
   "id": "bd3f7de9",
   "metadata": {},
   "outputs": [],
   "source": [
    "df['safety_security'] = [','.join(x) if x.__class__==list else x for x in df['safety_security']]"
   ]
  },
  {
   "cell_type": "code",
   "execution_count": 147,
   "id": "0f44810d",
   "metadata": {},
   "outputs": [
    {
     "data": {
      "text/plain": [
       "ABS,Central door lock,Daytime running lights,Driver-side airbag,Electronic stability control,Fog lights,Immobilizer,Isofix,Passenger-side airbag,Power steering,Side airbag,Tire pressure monitoring system,Traction control                                                                                                                                      538\n",
       "ABS,Central door lock,Daytime running lights,Driver-side airbag,Electronic stability control,Immobilizer,Isofix,Passenger-side airbag,Power steering,Side airbag,Tire pressure monitoring system,Traction control                                                                                                                                                 480\n",
       "ABS,Central door lock,Daytime running lights,Driver-side airbag,Electronic stability control,Immobilizer,Isofix,Passenger-side airbag,Power steering,Side airbag,Tire pressure monitoring system,Traction control,Xenon headlights                                                                                                                                275\n",
       "ABS,Central door lock,Daytime running lights,Driver-side airbag,Electronic stability control,Fog lights,Immobilizer,Isofix,LED Daytime Running Lights,Passenger-side airbag,Power steering,Side airbag,Tire pressure monitoring system,Traction control                                                                                                           272\n",
       "ABS,Central door lock,Daytime running lights,Driver-side airbag,Electronic stability control,Immobilizer,Isofix,LED Daytime Running Lights,Passenger-side airbag,Power steering,Side airbag,Tire pressure monitoring system,Traction control                                                                                                                      228\n",
       "                                                                                                                                                                                                                                                                                                                                                                 ... \n",
       "ABS,Central door lock,Electronic stability control,Immobilizer,Isofix,Passenger-side airbag,Power steering,Side airbag                                                                                                                                                                                                                                              1\n",
       "ABS,Adaptive Cruise Control,Central door lock,Daytime running lights,Driver-side airbag,Electronic stability control,Emergency brake assistant,Immobilizer,Isofix,Passenger-side airbag,Power steering,Side airbag,Tire pressure monitoring system,Traction control                                                                                                 1\n",
       "ABS,Adaptive Cruise Control,Alarm system,Central door lock,Driver-side airbag,Electronic stability control,Fog lights,Immobilizer,Isofix,Lane departure warning system,LED Daytime Running Lights,Passenger-side airbag,Power steering,Side airbag,Tire pressure monitoring system,Traction control,Xenon headlights                                                1\n",
       "ABS,Adaptive Cruise Control,Central door lock,Daytime running lights,Driver-side airbag,Electronic stability control,Fog lights,Immobilizer,Isofix,Power steering,Tire pressure monitoring system,Traction control                                                                                                                                                  1\n",
       "ABS,Adaptive Cruise Control,Central door lock,Daytime running lights,Driver-side airbag,Electronic stability control,Emergency brake assistant,Fog lights,Immobilizer,Isofix,Lane departure warning system,LED Daytime Running Lights,LED Headlights,Passenger-side airbag,Power steering,Side airbag,Tire pressure monitoring system,Traffic sign recognition      1\n",
       "Name: safety_security, Length: 4443, dtype: int64"
      ]
     },
     "execution_count": 147,
     "metadata": {},
     "output_type": "execute_result"
    }
   ],
   "source": [
    "df['safety_security'].value_counts()"
   ]
  },
  {
   "cell_type": "raw",
   "id": "037283b3",
   "metadata": {},
   "source": [
    "saf = set()\n",
    "for x in df['safety_security']:\n",
    "    if x.__class__ != list:\n",
    "        continue\n",
    "    for y in x:\n",
    "        saf.add(y)"
   ]
  },
  {
   "cell_type": "raw",
   "id": "90cd7bc6",
   "metadata": {},
   "source": [
    "saf"
   ]
  },
  {
   "cell_type": "raw",
   "id": "09a9a32f",
   "metadata": {
    "scrolled": true
   },
   "source": [
    "for f in saf:\n",
    "    name = 'safety_' + re.sub('\\s|-','_',f.lower())\n",
    "    df[name] = [(f in x) if x.__class__ == list else float('nan') for x in df['safety_security']]\n",
    "    print(df[name].value_counts())"
   ]
  },
  {
   "cell_type": "raw",
   "id": "62bba9cc",
   "metadata": {},
   "source": [
    "for f in ['safety_security', 'safety_emergency_brake_assistant']:\n",
    "    ignore.add(f)"
   ]
  },
  {
   "cell_type": "markdown",
   "id": "beec9d92",
   "metadata": {},
   "source": [
    "### Explore 'nr_seats'\n",
    "\n"
   ]
  },
  {
   "cell_type": "code",
   "execution_count": 148,
   "id": "7096f291",
   "metadata": {},
   "outputs": [
    {
     "ename": "TypeError",
     "evalue": "unhashable type: 'list'",
     "output_type": "error",
     "traceback": [
      "\u001b[1;31m---------------------------------------------------------------------------\u001b[0m",
      "\u001b[1;31mTypeError\u001b[0m                                 Traceback (most recent call last)",
      "\u001b[1;32mpandas\\_libs\\hashtable_class_helper.pxi\u001b[0m in \u001b[0;36mpandas._libs.hashtable.PyObjectHashTable.map_locations\u001b[1;34m()\u001b[0m\n",
      "\u001b[1;31mTypeError\u001b[0m: unhashable type: 'list'"
     ]
    },
    {
     "name": "stderr",
     "output_type": "stream",
     "text": [
      "Exception ignored in: 'pandas._libs.index.IndexEngine._call_map_locations'\n",
      "Traceback (most recent call last):\n",
      "  File \"pandas\\_libs\\hashtable_class_helper.pxi\", line 5231, in pandas._libs.hashtable.PyObjectHashTable.map_locations\n",
      "TypeError: unhashable type: 'list'\n"
     ]
    },
    {
     "data": {
      "text/plain": [
       "[\\n5\\n]    13336\n",
       "[\\n4\\n]     1125\n",
       "NaN          977\n",
       "[\\n7\\n]      362\n",
       "[\\n2\\n]      116\n",
       "[\\n6\\n]        2\n",
       "[\\n3\\n]        1\n",
       "Name: nr_seats, dtype: int64"
      ]
     },
     "execution_count": 148,
     "metadata": {},
     "output_type": "execute_result"
    }
   ],
   "source": [
    "df['nr_seats'].value_counts(dropna=False)"
   ]
  },
  {
   "cell_type": "code",
   "execution_count": 149,
   "id": "d0a95ad8",
   "metadata": {
    "scrolled": true
   },
   "outputs": [],
   "source": [
    "df['nr_seats'] = [re.sub('\\n','',x[0]).strip().lstrip() if x.__class__ == list else x for x in df['nr_seats']]"
   ]
  },
  {
   "cell_type": "code",
   "execution_count": 150,
   "id": "45648609",
   "metadata": {},
   "outputs": [
    {
     "data": {
      "text/plain": [
       "5      13336\n",
       "4       1125\n",
       "NaN      977\n",
       "7        362\n",
       "2        116\n",
       "6          2\n",
       "3          1\n",
       "Name: nr_seats, dtype: int64"
      ]
     },
     "execution_count": 150,
     "metadata": {},
     "output_type": "execute_result"
    }
   ],
   "source": [
    "df['nr_seats'].value_counts(dropna=False)"
   ]
  },
  {
   "cell_type": "code",
   "execution_count": 151,
   "id": "312ed4db",
   "metadata": {},
   "outputs": [],
   "source": [
    "to_encode.add('nr_seats')"
   ]
  },
  {
   "cell_type": "markdown",
   "id": "b1de2baf",
   "metadata": {},
   "source": [
    "Explore comfort_convenience\n",
    "\n",
    "List of features, convert to a binary column of their own, like in safety_features"
   ]
  },
  {
   "cell_type": "code",
   "execution_count": 152,
   "id": "e3d15303",
   "metadata": {},
   "outputs": [
    {
     "ename": "TypeError",
     "evalue": "unhashable type: 'list'",
     "output_type": "error",
     "traceback": [
      "\u001b[1;31m---------------------------------------------------------------------------\u001b[0m",
      "\u001b[1;31mTypeError\u001b[0m                                 Traceback (most recent call last)",
      "\u001b[1;32mpandas\\_libs\\hashtable_class_helper.pxi\u001b[0m in \u001b[0;36mpandas._libs.hashtable.PyObjectHashTable.map_locations\u001b[1;34m()\u001b[0m\n",
      "\u001b[1;31mTypeError\u001b[0m: unhashable type: 'list'"
     ]
    },
    {
     "name": "stderr",
     "output_type": "stream",
     "text": [
      "Exception ignored in: 'pandas._libs.index.IndexEngine._call_map_locations'\n",
      "Traceback (most recent call last):\n",
      "  File \"pandas\\_libs\\hashtable_class_helper.pxi\", line 5231, in pandas._libs.hashtable.PyObjectHashTable.map_locations\n",
      "TypeError: unhashable type: 'list'\n"
     ]
    },
    {
     "data": {
      "text/plain": [
       "[Air conditioning, Electrical side mirrors, Hill Holder, Power windows]                                                                                                                                                                                                                                                                                                                                                                                                                                                      216\n",
       "[Air conditioning, Electrical side mirrors, Power windows]                                                                                                                                                                                                                                                                                                                                                                                                                                                                   134\n",
       "[Air conditioning, Power windows]                                                                                                                                                                                                                                                                                                                                                                                                                                                                                            130\n",
       "[Air conditioning, Armrest, Automatic climate control, Cruise control, Electrical side mirrors, Leather steering wheel, Light sensor, Lumbar support, Multi-function steering wheel, Navigation system, Park Distance Control, Parking assist system sensors front, Parking assist system sensors rear, Power windows, Rain sensor, Seat heating, Start-stop system]                                                                                                                                                         105\n",
       "[Air conditioning, Armrest, Automatic climate control, Cruise control, Electrical side mirrors, Hill Holder, Leather steering wheel, Light sensor, Multi-function steering wheel, Navigation system, Park Distance Control, Parking assist system sensors rear, Power windows, Rain sensor, Seat heating, Start-stop system]                                                                                                                                                                                                  92\n",
       "                                                                                                                                                                                                                                                                                                                                                                                                                                                                                                                            ... \n",
       "[Air conditioning, Cruise control, Electrical side mirrors, Multi-function steering wheel, Park Distance Control, Parking assist system sensors front, Parking assist system sensors rear, Power windows, Start-stop system]                                                                                                                                                                                                                                                                                                   1\n",
       "[Air conditioning, Armrest, Cruise control, Electrical side mirrors, Heated steering wheel, Hill Holder, Leather steering wheel, Light sensor, Multi-function steering wheel, Park Distance Control, Parking assist system camera, Parking assist system sensors rear, Power windows, Rain sensor, Seat heating, Split rear seats, Start-stop system, Sunroof, Tinted windows]                                                                                                                                                 1\n",
       "[Air conditioning, Armrest, Cruise control, Hill Holder, Leather steering wheel, Multi-function steering wheel, Park Distance Control, Parking assist system sensors front, Parking assist system sensors rear, Power windows]                                                                                                                                                                                                                                                                                                 1\n",
       "[Air conditioning, Armrest, Automatic climate control, Cruise control, Electrical side mirrors, Leather steering wheel, Multi-function steering wheel, Power windows, Rain sensor, Start-stop system, Tinted windows]                                                                                                                                                                                                                                                                                                          1\n",
       "[Air conditioning, Automatic climate control, Cruise control, Electrically heated windshield, Electrical side mirrors, Electric tailgate, Heads-up display, Heated steering wheel, Hill Holder, Keyless central door lock, Leather steering wheel, Light sensor, Lumbar support, Navigation system, Park Distance Control, Parking assist system camera, Parking assist system self-steering, Parking assist system sensors front, Parking assist system sensors rear, Power windows, Rain sensor, Seat heating, Sunroof]      1\n",
       "Name: comfort_convenience, Length: 6198, dtype: int64"
      ]
     },
     "execution_count": 152,
     "metadata": {},
     "output_type": "execute_result"
    }
   ],
   "source": [
    "df['comfort_convenience'].value_counts()"
   ]
  },
  {
   "cell_type": "code",
   "execution_count": 153,
   "id": "8a3c7c68",
   "metadata": {},
   "outputs": [],
   "source": [
    "df['comfort_convenience'] = [','.join(x) if x.__class__ == list else x for x in df['comfort_convenience']]"
   ]
  },
  {
   "cell_type": "code",
   "execution_count": 154,
   "id": "3ab65e96",
   "metadata": {},
   "outputs": [
    {
     "data": {
      "text/plain": [
       "NaN                                                                                                                                                                                                                                                                                                                                                                                                                                                                                                  920\n",
       "Air conditioning,Electrical side mirrors,Hill Holder,Power windows                                                                                                                                                                                                                                                                                                                                                                                                                                   216\n",
       "Air conditioning,Electrical side mirrors,Power windows                                                                                                                                                                                                                                                                                                                                                                                                                                               134\n",
       "Air conditioning,Power windows                                                                                                                                                                                                                                                                                                                                                                                                                                                                       130\n",
       "Air conditioning,Armrest,Automatic climate control,Cruise control,Electrical side mirrors,Leather steering wheel,Light sensor,Lumbar support,Multi-function steering wheel,Navigation system,Park Distance Control,Parking assist system sensors front,Parking assist system sensors rear,Power windows,Rain sensor,Seat heating,Start-stop system                                                                                                                                                   105\n",
       "                                                                                                                                                                                                                                                                                                                                                                                                                                                                                                    ... \n",
       "Air conditioning,Cruise control,Electrical side mirrors,Hill Holder,Leather steering wheel,Light sensor,Multi-function steering wheel,Navigation system,Park Distance Control,Parking assist system sensors rear,Power windows,Rain sensor,Split rear seats,Start-stop system,Tinted windows                                                                                                                                                                                                           1\n",
       "Air conditioning,Armrest,Automatic climate control,Cruise control,Electrical side mirrors,Heated steering wheel,Hill Holder,Leather steering wheel,Light sensor,Lumbar support,Multi-function steering wheel,Navigation system,Park Distance Control,Parking assist system camera,Parking assist system sensors front,Parking assist system sensors rear,Power windows,Rain sensor,Seat heating,Sunroof                                                                                                1\n",
       "Air conditioning,Armrest,Cruise control,Electrical side mirrors,Heated steering wheel,Hill Holder,Leather steering wheel,Light sensor,Multi-function steering wheel,Park Distance Control,Parking assist system camera,Parking assist system sensors front,Parking assist system sensors rear,Power windows,Rain sensor,Seat heating,Split rear seats,Start-stop system,Tinted windows                                                                                                                 1\n",
       "Air conditioning,Automatic climate control,Cruise control,Electrical side mirrors,Leather steering wheel,Light sensor,Multi-function steering wheel,Park Distance Control,Parking assist system sensors front,Parking assist system sensors rear,Power windows,Rain sensor,Seat heating                                                                                                                                                                                                                1\n",
       "Air conditioning,Automatic climate control,Cruise control,Electrically heated windshield,Electrical side mirrors,Electric tailgate,Heads-up display,Heated steering wheel,Hill Holder,Keyless central door lock,Leather steering wheel,Light sensor,Lumbar support,Navigation system,Park Distance Control,Parking assist system camera,Parking assist system self-steering,Parking assist system sensors front,Parking assist system sensors rear,Power windows,Rain sensor,Seat heating,Sunroof      1\n",
       "Name: comfort_convenience, Length: 6199, dtype: int64"
      ]
     },
     "execution_count": 154,
     "metadata": {},
     "output_type": "execute_result"
    }
   ],
   "source": [
    "df['comfort_convenience'].value_counts(dropna=False)"
   ]
  },
  {
   "cell_type": "raw",
   "id": "bdb2c7c7",
   "metadata": {},
   "source": [
    "com = set()\n",
    "for x in df['comfort_convenience']:\n",
    "    if x.__class__ != list:\n",
    "        continue\n",
    "    for y in x:\n",
    "        com.add(y)\n",
    "com"
   ]
  },
  {
   "cell_type": "raw",
   "id": "a1186ef5",
   "metadata": {},
   "source": [
    "for f in com:\n",
    "    name = 'comfort_' + re.sub('\\s|-','_',f.lower())\n",
    "    df[name] = [(f in x) if x.__class__ == list else float('nan') \n",
    "                for x in df['comfort_convenience']]\n",
    "    print(df[name].value_counts())"
   ]
  },
  {
   "cell_type": "raw",
   "id": "aac31b81",
   "metadata": {},
   "source": [
    "for f in ['parking_assist_system_sensors_front', 'lumbar_support', 'parking_assist_system_camera', \n",
    "          'wind_deflector', 'electrically_adjustable_seats']:\n",
    "    ignore.add('comfort_' + f)\n",
    "# aux heating in 1 case "
   ]
  },
  {
   "cell_type": "markdown",
   "id": "de2fc57d",
   "metadata": {},
   "source": [
    "### Explore 'displacement'\n",
    "\n",
    "* string in a list. Number has comma and suff of cc\n",
    "* It is not a continuous variable, should be encoded. \n",
    "* We could make these into 5 classes: <500, 500-1000, 1000-1500, 1500-2000, 2000+"
   ]
  },
  {
   "cell_type": "code",
   "execution_count": 155,
   "id": "f571b357",
   "metadata": {},
   "outputs": [
    {
     "ename": "TypeError",
     "evalue": "unhashable type: 'list'",
     "output_type": "error",
     "traceback": [
      "\u001b[1;31m---------------------------------------------------------------------------\u001b[0m",
      "\u001b[1;31mTypeError\u001b[0m                                 Traceback (most recent call last)",
      "\u001b[1;32mpandas\\_libs\\hashtable_class_helper.pxi\u001b[0m in \u001b[0;36mpandas._libs.hashtable.PyObjectHashTable.map_locations\u001b[1;34m()\u001b[0m\n",
      "\u001b[1;31mTypeError\u001b[0m: unhashable type: 'list'"
     ]
    },
    {
     "name": "stderr",
     "output_type": "stream",
     "text": [
      "Exception ignored in: 'pandas._libs.index.IndexEngine._call_map_locations'\n",
      "Traceback (most recent call last):\n",
      "  File \"pandas\\_libs\\hashtable_class_helper.pxi\", line 5231, in pandas._libs.hashtable.PyObjectHashTable.map_locations\n",
      "TypeError: unhashable type: 'list'\n"
     ]
    },
    {
     "data": {
      "text/plain": [
       "[\\n1,580 cc\\n]     1\n",
       "[\\n1,995 cc\\n]     1\n",
       "[\\n1,333 cc\\n]     1\n",
       "[\\n54 cc\\n]        1\n",
       "[\\n1,533 cc\\n]     1\n",
       "[\\n1,100 cc\\n]     1\n",
       "[\\n1,350 cc\\n]     1\n",
       "[\\n16,000 cc\\n]    1\n",
       "[\\n1,856 cc\\n]     1\n",
       "[\\n1,568 cc\\n]     1\n",
       "[\\n1,896 cc\\n]     1\n",
       "[\\n1,584 cc\\n]     1\n",
       "[\\n996 cc\\n]       1\n",
       "[\\n1,696 cc\\n]     1\n",
       "[\\n1,686 cc\\n]     1\n",
       "[\\n15,898 cc\\n]    1\n",
       "[\\n1,368 cc\\n]     1\n",
       "[\\n140 cc\\n]       1\n",
       "[\\n973 cc\\n]       1\n",
       "[\\n1,239 cc\\n]     1\n",
       "[\\n1,369 cc\\n]     1\n",
       "[\\n1,390 cc\\n]     1\n",
       "[\\n122 cc\\n]       1\n",
       "[\\n1,198 cc\\n]     1\n",
       "[\\n1,195 cc\\n]     1\n",
       "[\\n2,967 cc\\n]     1\n",
       "[\\n1,800 cc\\n]     1\n",
       "Name: displacement, dtype: int64"
      ]
     },
     "execution_count": 155,
     "metadata": {},
     "output_type": "execute_result"
    }
   ],
   "source": [
    "df['displacement'].value_counts()[50:]"
   ]
  },
  {
   "cell_type": "code",
   "execution_count": 156,
   "id": "63fa972d",
   "metadata": {},
   "outputs": [],
   "source": [
    "df['displacement'] = [int(re.sub('\\n| cc|,','',x[0])) if x.__class__ == list else float('nan') for x in df['displacement']]"
   ]
  },
  {
   "cell_type": "code",
   "execution_count": 157,
   "id": "8c471fa6",
   "metadata": {
    "scrolled": true
   },
   "outputs": [
    {
     "data": {
      "text/plain": [
       "1598.0    4761\n",
       "999.0     2438\n",
       "1398.0    1314\n",
       "1399.0     749\n",
       "1229.0     677\n",
       "          ... \n",
       "122.0        1\n",
       "1198.0       1\n",
       "1195.0       1\n",
       "2967.0       1\n",
       "1800.0       1\n",
       "Name: displacement, Length: 78, dtype: int64"
      ]
     },
     "execution_count": 157,
     "metadata": {},
     "output_type": "execute_result"
    }
   ],
   "source": [
    "df['displacement'].value_counts(dropna=False)"
   ]
  },
  {
   "cell_type": "markdown",
   "id": "d80724a0",
   "metadata": {},
   "source": [
    "### Explore 'nr_doors'\n",
    " \n",
    "Number of doors 1 - 7, encode"
   ]
  },
  {
   "cell_type": "code",
   "execution_count": 158,
   "id": "94f193fd",
   "metadata": {},
   "outputs": [
    {
     "ename": "TypeError",
     "evalue": "unhashable type: 'list'",
     "output_type": "error",
     "traceback": [
      "\u001b[1;31m---------------------------------------------------------------------------\u001b[0m",
      "\u001b[1;31mTypeError\u001b[0m                                 Traceback (most recent call last)",
      "\u001b[1;32mpandas\\_libs\\hashtable_class_helper.pxi\u001b[0m in \u001b[0;36mpandas._libs.hashtable.PyObjectHashTable.map_locations\u001b[1;34m()\u001b[0m\n",
      "\u001b[1;31mTypeError\u001b[0m: unhashable type: 'list'"
     ]
    },
    {
     "name": "stderr",
     "output_type": "stream",
     "text": [
      "Exception ignored in: 'pandas._libs.index.IndexEngine._call_map_locations'\n",
      "Traceback (most recent call last):\n",
      "  File \"pandas\\_libs\\hashtable_class_helper.pxi\", line 5231, in pandas._libs.hashtable.PyObjectHashTable.map_locations\n",
      "TypeError: unhashable type: 'list'\n"
     ]
    },
    {
     "data": {
      "text/plain": [
       "[\\n5\\n]    11575\n",
       "[\\n4\\n]     3079\n",
       "[\\n3\\n]      832\n",
       "[\\n2\\n]      219\n",
       "NaN          212\n",
       "[\\n1\\n]        1\n",
       "[\\n7\\n]        1\n",
       "Name: nr_doors, dtype: int64"
      ]
     },
     "execution_count": 158,
     "metadata": {},
     "output_type": "execute_result"
    }
   ],
   "source": [
    "df['nr_doors'].value_counts(dropna=False)"
   ]
  },
  {
   "cell_type": "code",
   "execution_count": 159,
   "id": "d7ded5a7",
   "metadata": {},
   "outputs": [],
   "source": [
    "df['nr_doors'] = [re.sub('\\n','',x[0]).lstrip().strip() if x.__class__ == list else x for x in df['nr_doors']]"
   ]
  },
  {
   "cell_type": "code",
   "execution_count": 160,
   "id": "9674daba",
   "metadata": {},
   "outputs": [
    {
     "data": {
      "text/plain": [
       "5      11575\n",
       "4       3079\n",
       "3        832\n",
       "2        219\n",
       "NaN      212\n",
       "1          1\n",
       "7          1\n",
       "Name: nr_doors, dtype: int64"
      ]
     },
     "execution_count": 160,
     "metadata": {},
     "output_type": "execute_result"
    }
   ],
   "source": [
    "df['nr_doors'].value_counts(dropna=False)"
   ]
  },
  {
   "cell_type": "code",
   "execution_count": 161,
   "id": "7afb6135",
   "metadata": {},
   "outputs": [],
   "source": [
    "to_encode.add('nr_doors')"
   ]
  },
  {
   "cell_type": "markdown",
   "id": "69a20dbc",
   "metadata": {},
   "source": [
    "### Explore body_type, body\n",
    "\n",
    "* body_type is cleaned version of body\n",
    "* ignore body\n",
    "* encode body_type"
   ]
  },
  {
   "cell_type": "code",
   "execution_count": 162,
   "id": "3cfe4ef8",
   "metadata": {},
   "outputs": [
    {
     "ename": "TypeError",
     "evalue": "unhashable type: 'list'",
     "output_type": "error",
     "traceback": [
      "\u001b[1;31m---------------------------------------------------------------------------\u001b[0m",
      "\u001b[1;31mTypeError\u001b[0m                                 Traceback (most recent call last)",
      "\u001b[1;32mpandas\\_libs\\hashtable_class_helper.pxi\u001b[0m in \u001b[0;36mpandas._libs.hashtable.PyObjectHashTable.map_locations\u001b[1;34m()\u001b[0m\n",
      "\u001b[1;31mTypeError\u001b[0m: unhashable type: 'list'"
     ]
    },
    {
     "name": "stderr",
     "output_type": "stream",
     "text": [
      "Exception ignored in: 'pandas._libs.index.IndexEngine._call_map_locations'\n",
      "Traceback (most recent call last):\n",
      "  File \"pandas\\_libs\\hashtable_class_helper.pxi\", line 5231, in pandas._libs.hashtable.PyObjectHashTable.map_locations\n",
      "TypeError: unhashable type: 'list'\n"
     ]
    },
    {
     "data": {
      "text/plain": [
       "[\\n, Sedans, \\n]           7903\n",
       "[\\n, Station wagon, \\n]    3553\n",
       "[\\n, Compact, \\n]          3153\n",
       "[\\n, Van, \\n]               783\n",
       "[\\n, Other, \\n]             290\n",
       "[\\n, Transporter, \\n]        88\n",
       "NaN                          60\n",
       "[\\n, Off-Road, \\n]           56\n",
       "[\\n, Coupe, \\n]              25\n",
       "[\\n, Convertible, \\n]         8\n",
       "Name: body, dtype: int64"
      ]
     },
     "execution_count": 162,
     "metadata": {},
     "output_type": "execute_result"
    }
   ],
   "source": [
    "df['body'].value_counts(dropna=False)"
   ]
  },
  {
   "cell_type": "code",
   "execution_count": 163,
   "id": "9297b083",
   "metadata": {},
   "outputs": [
    {
     "data": {
      "text/plain": [
       "Sedans           7903\n",
       "Station wagon    3553\n",
       "Compact          3153\n",
       "Van               783\n",
       "Other             290\n",
       "Transporter        88\n",
       "NaN                60\n",
       "Off-Road           56\n",
       "Coupe              25\n",
       "Convertible         8\n",
       "Name: body_type, dtype: int64"
      ]
     },
     "execution_count": 163,
     "metadata": {},
     "output_type": "execute_result"
    }
   ],
   "source": [
    "df['body_type'].value_counts(dropna=False)"
   ]
  },
  {
   "cell_type": "code",
   "execution_count": 164,
   "id": "988d072b",
   "metadata": {},
   "outputs": [],
   "source": [
    "df['body_type'] = [x.lower() if x.__class__ == str else x for x in df['body_type']]"
   ]
  },
  {
   "cell_type": "code",
   "execution_count": 165,
   "id": "4fedb9f6",
   "metadata": {},
   "outputs": [],
   "source": [
    "ignore.add('body')\n",
    "to_encode.add('body_type')"
   ]
  },
  {
   "cell_type": "markdown",
   "id": "a8bb71aa",
   "metadata": {},
   "source": [
    "### Explore 'short_description'\n",
    "\n",
    "* Very little overlap in descriptions. Will ignore this column.\n"
   ]
  },
  {
   "cell_type": "code",
   "execution_count": 166,
   "id": "e57005bf",
   "metadata": {},
   "outputs": [
    {
     "data": {
      "text/plain": [
       "SPB 1.6 TDI 116 CV S tronic Sport                 64\n",
       "1.4 66kW (90CV) Selective                         40\n",
       "MOVE KLIMA CD USB ALLWETTER BLUETOOTH             38\n",
       "SPB 30 TDI S tronic Business                      35\n",
       "SPB 30 TFSI S tronic Admired                      35\n",
       "                                                  ..\n",
       "K Sports Tourer Business **Navi*Voll**             1\n",
       "1.0 Turbo ecoFLEX Automatic Elective Park Navi     1\n",
       "1.6 CDTI Business *Navi*Automatik*Spurh.*          1\n",
       "1.6 136 CV Automatica Navi E 6 Garanzia Full       1\n",
       "TCe 225 EDC GPF LIM Deluxe Pano,RFK                1\n",
       "Name: short_description, Length: 10001, dtype: int64"
      ]
     },
     "execution_count": 166,
     "metadata": {},
     "output_type": "execute_result"
    }
   ],
   "source": [
    "df['short_description'].value_counts()"
   ]
  },
  {
   "cell_type": "code",
   "execution_count": 167,
   "id": "548c0fd7",
   "metadata": {},
   "outputs": [],
   "source": [
    "ignore.add('short_description')"
   ]
  },
  {
   "cell_type": "markdown",
   "id": "af312983",
   "metadata": {},
   "source": [
    "### Explore 'description'\n",
    "\n",
    "* Description seems to be in German. \n",
    "* It will take a lot of time to translate this to be able to use as features. I will ignore this for now."
   ]
  },
  {
   "cell_type": "raw",
   "id": "11fca9e5",
   "metadata": {},
   "source": [
    "df['description'].value_counts()"
   ]
  },
  {
   "cell_type": "code",
   "execution_count": 168,
   "id": "f6f67953",
   "metadata": {},
   "outputs": [],
   "source": [
    "ignore.add('description')"
   ]
  },
  {
   "cell_type": "markdown",
   "id": "40fd1539",
   "metadata": {},
   "source": [
    "### Explore 'fuel'\n",
    "\n",
    "* The entries seem to be in the list at index 1 rather than 0\n",
    "* This classification seems to be misleading. Make a set of all entries in the list, separated by '/'\n",
    "* There are 27 classes. Too many. \n",
    "* Collapse to diesel, petrol, LPG and other later on."
   ]
  },
  {
   "cell_type": "code",
   "execution_count": 169,
   "id": "32f14302",
   "metadata": {
    "scrolled": true
   },
   "outputs": [
    {
     "ename": "TypeError",
     "evalue": "unhashable type: 'list'",
     "output_type": "error",
     "traceback": [
      "\u001b[1;31m---------------------------------------------------------------------------\u001b[0m",
      "\u001b[1;31mTypeError\u001b[0m                                 Traceback (most recent call last)",
      "\u001b[1;32mpandas\\_libs\\hashtable_class_helper.pxi\u001b[0m in \u001b[0;36mpandas._libs.hashtable.PyObjectHashTable.map_locations\u001b[1;34m()\u001b[0m\n",
      "\u001b[1;31mTypeError\u001b[0m: unhashable type: 'list'"
     ]
    },
    {
     "name": "stderr",
     "output_type": "stream",
     "text": [
      "Exception ignored in: 'pandas._libs.index.IndexEngine._call_map_locations'\n",
      "Traceback (most recent call last):\n",
      "  File \"pandas\\_libs\\hashtable_class_helper.pxi\", line 5231, in pandas._libs.hashtable.PyObjectHashTable.map_locations\n",
      "TypeError: unhashable type: 'list'\n"
     ]
    },
    {
     "data": {
      "text/plain": [
       "[\\n, Diesel (Particulate Filter), \\n]                                                                                  4315\n",
       "[\\n, Super 95, \\n]                                                                                                     3338\n",
       "[\\n, Gasoline, \\n]                                                                                                     3175\n",
       "[\\n, Diesel, \\n]                                                                                                       2984\n",
       "[\\n, Super 95 / Regular/Benzine 91, \\n]                                                                                 424\n",
       "[\\n, Regular/Benzine 91, \\n]                                                                                            354\n",
       "[\\n, Super E10 95, \\n]                                                                                                  331\n",
       "[\\n, Super 95 (Particulate Filter), \\n]                                                                                 268\n",
       "[\\n, Super 95 / Super E10 95, \\n]                                                                                       131\n",
       "[\\n, Regular/Benzine 91 (Particulate Filter), \\n]                                                                       100\n",
       "[\\n, Super 95 / Super Plus 98, \\n]                                                                                       85\n",
       "[\\n, Gasoline (Particulate Filter), \\n]                                                                                  77\n",
       "[\\n, Super 95 / Super Plus 98 / Super E10 95 / Super Plus E10 98, \\n]                                                    40\n",
       "[\\n, Super E10 95 / Super 95, \\n]                                                                                        38\n",
       "[\\n, CNG, \\n]                                                                                                            33\n",
       "[\\n, Super 95 / Super E10 95 (Particulate Filter), \\n]                                                                   25\n",
       "[\\n, Super E10 95 / Super 95 / Super Plus 98 / Super Plus E10 98, \\n]                                                    19\n",
       "[\\n, LPG, \\n]                                                                                                            16\n",
       "[\\n, Super 95 / Super Plus 98 (Particulate Filter), \\n]                                                                  14\n",
       "[\\n, Regular/Benzine 91 / Super 95 / Super Plus 98 / Regular/Benzine E10 91 / Super E10 95 / Super Plus E10 98, \\n]      13\n",
       "[\\n, Regular/Benzine E10 91, \\n]                                                                                         11\n",
       "[\\n, Liquid petroleum gas (LPG), \\n]                                                                                     10\n",
       "[\\n, Super 95 / Super Plus 98 / Super E10 95, \\n]                                                                         8\n",
       "[\\n, Regular/Benzine 91 / Regular/Benzine E10 91, \\n]                                                                     7\n",
       "[\\n, Super 95 / Regular/Benzine 91 / Super Plus 98 / Regular/Benzine E10 91 / Super E10 95 / Super Plus E10 98, \\n]       7\n",
       "[\\n, Super Plus 98, \\n]                                                                                                   7\n",
       "[\\n, Super E10 95 (Particulate Filter), \\n]                                                                               7\n",
       "[\\n, Super 95 / Super Plus 98 / Super Plus E10 98 / Super E10 95, \\n]                                                     5\n",
       "[\\n, Others, \\n]                                                                                                          5\n",
       "[\\n, Super E10 95 / Super Plus E10 98, \\n]                                                                                4\n",
       "[\\n, Electric/Gasoline, \\n]                                                                                               4\n",
       "[\\n, Super 95 / Super Plus 98 / Super E10 95 / Super Plus E10 98 (Particulate Filter), \\n]                                4\n",
       "[\\n, Super 95 / Super E10 95 / Super Plus E10 98 / Super Plus 98, \\n]                                                     4\n",
       "[\\n, Regular/Benzine 91 / Super 95 / Super Plus 98 / Regular/Benzine E10 91 / Super Plus E10 98 / Super E10 95, \\n]       4\n",
       "[\\n, CNG (Particulate Filter), \\n]                                                                                        3\n",
       "[\\n, Super E10 95 / Super 95 / Super Plus 98 / Super Plus E10 98 (Particulate Filter), \\n]                                3\n",
       "[\\n, Super E10 95 / Super 95 / Super Plus 98, \\n]                                                                         3\n",
       "[\\n, Super E10 95 / Regular/Benzine 91, \\n]                                                                               2\n",
       "[\\n, Super 95 / Regular/Benzine 91 / Super Plus 98, \\n]                                                                   2\n",
       "[\\n, Regular/Benzine 91 / Super 95 / Super Plus 98 / Super Plus E10 98 / Super E10 95 / Regular/Benzine E10 91, \\n]       2\n",
       "[\\n, Regular/Benzine 91 / Super 95 / Super E10 95, \\n]                                                                    1\n",
       "[\\n, Electric, \\n]                                                                                                        1\n",
       "[\\n, Regular/Benzine 91 / Super 95 / Super E10 95 / Super Plus E10 98 / Super Plus 98 / Regular/Benzine E10 91, \\n]       1\n",
       "[\\n, Super 95 / Super E10 95 / Super Plus E10 98, \\n]                                                                     1\n",
       "[\\n, Super 95 / Super E10 95 / Super Plus 98, \\n]                                                                         1\n",
       "[\\n, Regular/Benzine 91 / Super 95 / Super Plus E10 98 / Super E10 95 / Regular/Benzine E10 91 / Super Plus 98, \\n]       1\n",
       "[\\n, Super 95 / Super Plus 98 / Regular/Benzine E10 91 / Super Plus E10 98 / Super E10 95 / Regular/Benzine 91, \\n]       1\n",
       "[\\n, Super 95 / Regular/Benzine E10 91, \\n]                                                                               1\n",
       "[\\n, Super E10 95 / Regular/Benzine 91 / Regular/Benzine E10 91 / Super 95, \\n]                                           1\n",
       "[\\n, Super Plus 98 / Regular/Benzine 91, \\n]                                                                              1\n",
       "Name: fuel, dtype: int64"
      ]
     },
     "execution_count": 169,
     "metadata": {},
     "output_type": "execute_result"
    }
   ],
   "source": [
    "df['fuel'].value_counts(dropna=False)[:50]"
   ]
  },
  {
   "cell_type": "code",
   "execution_count": 170,
   "id": "4130ea21",
   "metadata": {},
   "outputs": [],
   "source": [
    "df['fuel'] = [[y.lstrip().strip() for y in x[1].split('/')] if re.search('/',x[1]) else x[1]\n",
    "                 if x.__class__ == list else x for x in df['fuel']]"
   ]
  },
  {
   "cell_type": "code",
   "execution_count": 171,
   "id": "69b2f8c1",
   "metadata": {},
   "outputs": [],
   "source": [
    "df['fuel'] = [','.join(x) if x.__class__ == list else x for x in df['fuel']]"
   ]
  },
  {
   "cell_type": "code",
   "execution_count": 172,
   "id": "3780cdc9",
   "metadata": {},
   "outputs": [
    {
     "data": {
      "text/plain": [
       "Diesel (Particulate Filter)                                                                        4315\n",
       "Super 95                                                                                           3338\n",
       "Gasoline                                                                                           3175\n",
       "Diesel                                                                                             2984\n",
       "Super 95,Regular,Benzine 91                                                                         424\n",
       "                                                                                                   ... \n",
       "Regular,Benzine 91,Super 95,Regular,Benzine E10 91                                                    1\n",
       "Super Plus 98,Super E10 95                                                                            1\n",
       "Regular,Benzine 91,Super 95,Regular,Benzine E10 91,Super E10 95,Super Plus 98,Super Plus E10 98       1\n",
       "Regular,Benzine 91,Super Plus 98,Regular,Benzine E10 91,Super 95,Super E10 95,Super Plus E10 98       1\n",
       "Super Plus 98,Super 95,Super Plus E10 98                                                              1\n",
       "Name: fuel, Length: 77, dtype: int64"
      ]
     },
     "execution_count": 172,
     "metadata": {},
     "output_type": "execute_result"
    }
   ],
   "source": [
    "df['fuel'].value_counts(dropna=False)"
   ]
  },
  {
   "cell_type": "code",
   "execution_count": 173,
   "id": "dd440d14",
   "metadata": {},
   "outputs": [],
   "source": [
    "to_encode.add('fuel')"
   ]
  },
  {
   "cell_type": "markdown",
   "id": "3d04ff06",
   "metadata": {},
   "source": [
    "### Explore 'gearing_type'\n",
    "\n",
    "* Simplify from list to string\n",
    "* add to to_encode"
   ]
  },
  {
   "cell_type": "code",
   "execution_count": 174,
   "id": "b3198ea8",
   "metadata": {},
   "outputs": [
    {
     "ename": "TypeError",
     "evalue": "unhashable type: 'list'",
     "output_type": "error",
     "traceback": [
      "\u001b[1;31m---------------------------------------------------------------------------\u001b[0m",
      "\u001b[1;31mTypeError\u001b[0m                                 Traceback (most recent call last)",
      "\u001b[1;32mpandas\\_libs\\hashtable_class_helper.pxi\u001b[0m in \u001b[0;36mpandas._libs.hashtable.PyObjectHashTable.map_locations\u001b[1;34m()\u001b[0m\n",
      "\u001b[1;31mTypeError\u001b[0m: unhashable type: 'list'"
     ]
    },
    {
     "name": "stderr",
     "output_type": "stream",
     "text": [
      "Exception ignored in: 'pandas._libs.index.IndexEngine._call_map_locations'\n",
      "Traceback (most recent call last):\n",
      "  File \"pandas\\_libs\\hashtable_class_helper.pxi\", line 5231, in pandas._libs.hashtable.PyObjectHashTable.map_locations\n",
      "TypeError: unhashable type: 'list'\n"
     ]
    },
    {
     "data": {
      "text/plain": [
       "[\\n, Manual, \\n]            8153\n",
       "[\\n, Automatic, \\n]         7297\n",
       "[\\n, Semi-automatic, \\n]     469\n",
       "Name: gearing_type, dtype: int64"
      ]
     },
     "execution_count": 174,
     "metadata": {},
     "output_type": "execute_result"
    }
   ],
   "source": [
    "df['gearing_type'].value_counts()"
   ]
  },
  {
   "cell_type": "code",
   "execution_count": 175,
   "id": "a280eeee",
   "metadata": {},
   "outputs": [],
   "source": [
    "df['gearing_type'] = [x[1].lstrip().strip().lower() if x.__class__ == list else x for x in df['gearing_type']]"
   ]
  },
  {
   "cell_type": "code",
   "execution_count": 176,
   "id": "42f73a02",
   "metadata": {},
   "outputs": [
    {
     "data": {
      "text/plain": [
       "manual            8153\n",
       "automatic         7297\n",
       "semi-automatic     469\n",
       "Name: gearing_type, dtype: int64"
      ]
     },
     "execution_count": 176,
     "metadata": {},
     "output_type": "execute_result"
    }
   ],
   "source": [
    "df['gearing_type'].value_counts()"
   ]
  },
  {
   "cell_type": "code",
   "execution_count": 177,
   "id": "397f268d",
   "metadata": {},
   "outputs": [],
   "source": [
    "to_encode.add('gearing_type')"
   ]
  },
  {
   "cell_type": "markdown",
   "id": "634766a3",
   "metadata": {},
   "source": [
    "### Explore 'make', 'model', 'make_model'\n",
    "\n",
    "* encode make_model\n",
    "* ignore make, model"
   ]
  },
  {
   "cell_type": "code",
   "execution_count": 178,
   "id": "76f768c3",
   "metadata": {},
   "outputs": [
    {
     "data": {
      "text/plain": [
       "Opel       7343\n",
       "Audi       5712\n",
       "Renault    2864\n",
       "Name: make, dtype: int64"
      ]
     },
     "execution_count": 178,
     "metadata": {},
     "output_type": "execute_result"
    }
   ],
   "source": [
    "df['make'].value_counts()"
   ]
  },
  {
   "cell_type": "code",
   "execution_count": 179,
   "id": "1f1f7da2",
   "metadata": {},
   "outputs": [
    {
     "ename": "TypeError",
     "evalue": "unhashable type: 'list'",
     "output_type": "error",
     "traceback": [
      "\u001b[1;31m---------------------------------------------------------------------------\u001b[0m",
      "\u001b[1;31mTypeError\u001b[0m                                 Traceback (most recent call last)",
      "\u001b[1;32mpandas\\_libs\\hashtable_class_helper.pxi\u001b[0m in \u001b[0;36mpandas._libs.hashtable.PyObjectHashTable.map_locations\u001b[1;34m()\u001b[0m\n",
      "\u001b[1;31mTypeError\u001b[0m: unhashable type: 'list'"
     ]
    },
    {
     "name": "stderr",
     "output_type": "stream",
     "text": [
      "Exception ignored in: 'pandas._libs.index.IndexEngine._call_map_locations'\n",
      "Traceback (most recent call last):\n",
      "  File \"pandas\\_libs\\hashtable_class_helper.pxi\", line 5231, in pandas._libs.hashtable.PyObjectHashTable.map_locations\n",
      "TypeError: unhashable type: 'list'\n"
     ]
    },
    {
     "data": {
      "text/plain": [
       "[\\n, A3, \\n]          3097\n",
       "[\\n, A1, \\n]          2614\n",
       "[\\n, Insignia, \\n]    2598\n",
       "[\\n, Astra, \\n]       2526\n",
       "[\\n, Corsa, \\n]       2219\n",
       "[\\n, Clio, \\n]        1839\n",
       "[\\n, Espace, \\n]       991\n",
       "[\\n, Duster, \\n]        34\n",
       "[\\n, A2, \\n]             1\n",
       "Name: model, dtype: int64"
      ]
     },
     "execution_count": 179,
     "metadata": {},
     "output_type": "execute_result"
    }
   ],
   "source": [
    "df['model'].value_counts(dropna=False)"
   ]
  },
  {
   "cell_type": "code",
   "execution_count": 180,
   "id": "655c0ba6",
   "metadata": {},
   "outputs": [
    {
     "ename": "TypeError",
     "evalue": "unhashable type: 'list'",
     "output_type": "error",
     "traceback": [
      "\u001b[1;31m---------------------------------------------------------------------------\u001b[0m",
      "\u001b[1;31mTypeError\u001b[0m                                 Traceback (most recent call last)",
      "\u001b[1;32mpandas\\_libs\\hashtable_class_helper.pxi\u001b[0m in \u001b[0;36mpandas._libs.hashtable.PyObjectHashTable.map_locations\u001b[1;34m()\u001b[0m\n",
      "\u001b[1;31mTypeError\u001b[0m: unhashable type: 'list'"
     ]
    },
    {
     "name": "stderr",
     "output_type": "stream",
     "text": [
      "Exception ignored in: 'pandas._libs.index.IndexEngine._call_map_locations'\n",
      "Traceback (most recent call last):\n",
      "  File \"pandas\\_libs\\hashtable_class_helper.pxi\", line 5231, in pandas._libs.hashtable.PyObjectHashTable.map_locations\n",
      "TypeError: unhashable type: 'list'\n"
     ]
    },
    {
     "data": {
      "text/plain": [
       "[\\n, A3, \\n]    3097\n",
       "[\\n, A1, \\n]    2614\n",
       "[\\n, A2, \\n]       1\n",
       "Name: model, dtype: int64"
      ]
     },
     "execution_count": 180,
     "metadata": {},
     "output_type": "execute_result"
    }
   ],
   "source": [
    "df['model'][df['make'] == 'Audi'].value_counts()"
   ]
  },
  {
   "cell_type": "code",
   "execution_count": 181,
   "id": "7806a051",
   "metadata": {},
   "outputs": [
    {
     "data": {
      "text/plain": [
       "Audi A3    3097\n",
       "Audi A1    2614\n",
       "Audi A2       1\n",
       "Name: make_model, dtype: int64"
      ]
     },
     "execution_count": 181,
     "metadata": {},
     "output_type": "execute_result"
    }
   ],
   "source": [
    "df['make_model'][df['make'] == 'Audi'].value_counts()"
   ]
  },
  {
   "cell_type": "code",
   "execution_count": 182,
   "id": "2f3951c4",
   "metadata": {},
   "outputs": [
    {
     "data": {
      "text/plain": [
       "Audi A3           3097\n",
       "Audi A1           2614\n",
       "Opel Insignia     2598\n",
       "Opel Astra        2526\n",
       "Opel Corsa        2219\n",
       "Renault Clio      1839\n",
       "Renault Espace     991\n",
       "Renault Duster      34\n",
       "Audi A2              1\n",
       "Name: make_model, dtype: int64"
      ]
     },
     "execution_count": 182,
     "metadata": {},
     "output_type": "execute_result"
    }
   ],
   "source": [
    "df['make_model'].value_counts()"
   ]
  },
  {
   "cell_type": "code",
   "execution_count": 183,
   "id": "aae0e000",
   "metadata": {},
   "outputs": [
    {
     "data": {
      "text/plain": [
       "audi_a3           3097\n",
       "audi_a1           2614\n",
       "opel_insignia     2598\n",
       "opel_astra        2526\n",
       "opel_corsa        2219\n",
       "renault_clio      1839\n",
       "renault_espace     991\n",
       "renault_duster      34\n",
       "audi_a2              1\n",
       "Name: make_model, dtype: int64"
      ]
     },
     "execution_count": 183,
     "metadata": {},
     "output_type": "execute_result"
    }
   ],
   "source": [
    "df['make_model'] = [re.sub('\\s|-','_',x.lower()) if x.__class__ == str else x for x in df['make_model']]\n",
    "df['make_model'].value_counts()"
   ]
  },
  {
   "cell_type": "code",
   "execution_count": 184,
   "id": "ea056910",
   "metadata": {},
   "outputs": [],
   "source": [
    "to_encode.add('make_model')"
   ]
  },
  {
   "cell_type": "code",
   "execution_count": 185,
   "id": "4de36b06",
   "metadata": {},
   "outputs": [],
   "source": [
    "ignore.add('make') \n",
    "ignore.add('model')"
   ]
  },
  {
   "cell_type": "markdown",
   "id": "992d83d1",
   "metadata": {},
   "source": [
    "### Explore 'null'\n",
    "\n",
    "* ignore null"
   ]
  },
  {
   "cell_type": "code",
   "execution_count": 186,
   "id": "8230388c",
   "metadata": {},
   "outputs": [
    {
     "ename": "TypeError",
     "evalue": "unhashable type: 'list'",
     "output_type": "error",
     "traceback": [
      "\u001b[1;31m---------------------------------------------------------------------------\u001b[0m",
      "\u001b[1;31mTypeError\u001b[0m                                 Traceback (most recent call last)",
      "\u001b[1;32mpandas\\_libs\\hashtable_class_helper.pxi\u001b[0m in \u001b[0;36mpandas._libs.hashtable.PyObjectHashTable.map_locations\u001b[1;34m()\u001b[0m\n",
      "\u001b[1;31mTypeError\u001b[0m: unhashable type: 'list'"
     ]
    },
    {
     "name": "stderr",
     "output_type": "stream",
     "text": [
      "Exception ignored in: 'pandas._libs.index.IndexEngine._call_map_locations'\n",
      "Traceback (most recent call last):\n",
      "  File \"pandas\\_libs\\hashtable_class_helper.pxi\", line 5231, in pandas._libs.hashtable.PyObjectHashTable.map_locations\n",
      "TypeError: unhashable type: 'list'\n"
     ]
    },
    {
     "data": {
      "text/plain": [
       "[]    15919\n",
       "Name: null, dtype: int64"
      ]
     },
     "execution_count": 186,
     "metadata": {},
     "output_type": "execute_result"
    }
   ],
   "source": [
    "df['null'].value_counts()"
   ]
  },
  {
   "cell_type": "code",
   "execution_count": 187,
   "id": "65b2bdf7",
   "metadata": {},
   "outputs": [],
   "source": [
    "ignore.add('null')"
   ]
  },
  {
   "cell_type": "markdown",
   "id": "b0f3354f",
   "metadata": {},
   "source": [
    "### Explore 'hp' \n",
    "\n",
    "* horse power\n",
    "* Consistent suffix kW\n",
    "* Continuous variable, replace with numbers, remove kW"
   ]
  },
  {
   "cell_type": "code",
   "execution_count": 188,
   "id": "6905f887",
   "metadata": {},
   "outputs": [
    {
     "data": {
      "text/plain": [
       "85 kW     2542\n",
       "66 kW     2122\n",
       "81 kW     1402\n",
       "100 kW    1308\n",
       "110 kW    1112\n",
       "70 kW      888\n",
       "125 kW     707\n",
       "51 kW      695\n",
       "55 kW      569\n",
       "118 kW     516\n",
       "92 kW      466\n",
       "121 kW     392\n",
       "147 kW     380\n",
       "77 kW      345\n",
       "56 kW      286\n",
       "54 kW      276\n",
       "103 kW     253\n",
       "87 kW      232\n",
       "165 kW     194\n",
       "88 kW      177\n",
       "60 kW      160\n",
       "162 kW      98\n",
       "- kW        88\n",
       "74 kW       81\n",
       "96 kW       72\n",
       "71 kW       59\n",
       "101 kW      47\n",
       "67 kW       40\n",
       "154 kW      39\n",
       "122 kW      35\n",
       "119 kW      30\n",
       "164 kW      27\n",
       "135 kW      24\n",
       "82 kW       22\n",
       "52 kW       22\n",
       "78 kW       20\n",
       "1 kW        20\n",
       "294 kW      18\n",
       "146 kW      18\n",
       "141 kW      16\n",
       "57 kW       10\n",
       "104 kW       8\n",
       "120 kW       8\n",
       "191 kW       7\n",
       "112 kW       7\n",
       "155 kW       6\n",
       "117 kW       6\n",
       "184 kW       5\n",
       "90 kW        4\n",
       "76 kW        4\n",
       "Name: hp, dtype: int64"
      ]
     },
     "execution_count": 188,
     "metadata": {},
     "output_type": "execute_result"
    }
   ],
   "source": [
    "df['hp'].value_counts(dropna=False)[:50]"
   ]
  },
  {
   "cell_type": "code",
   "execution_count": 189,
   "id": "5d518be7",
   "metadata": {},
   "outputs": [],
   "source": [
    "df['hp'] = [re.sub('[A-Za-z]','',x) for x in df['hp']]\n",
    "df['hp'] = [re.sub('-','',x.lstrip().strip()) for x in df['hp']]\n",
    "df['hp'] = [float('nan') if x == '' else int(x) for x in df['hp']]"
   ]
  },
  {
   "cell_type": "code",
   "execution_count": 190,
   "id": "2a3fdb85",
   "metadata": {
    "scrolled": true
   },
   "outputs": [
    {
     "data": {
      "text/plain": [
       "85.0     2542\n",
       "66.0     2122\n",
       "81.0     1402\n",
       "100.0    1308\n",
       "110.0    1112\n",
       "         ... \n",
       "137.0       1\n",
       "9.0         1\n",
       "44.0        1\n",
       "133.0       1\n",
       "239.0       1\n",
       "Name: hp, Length: 80, dtype: int64"
      ]
     },
     "execution_count": 190,
     "metadata": {},
     "output_type": "execute_result"
    }
   ],
   "source": [
    "df['hp'].value_counts()"
   ]
  },
  {
   "cell_type": "markdown",
   "id": "4e2dcf81",
   "metadata": {},
   "source": [
    "### Explore 'registration', 'first_registration'\n",
    "\n",
    "* Making new variable: registration_continuous as a float \n",
    "* first_registration is cleaned registration_years"
   ]
  },
  {
   "cell_type": "code",
   "execution_count": 191,
   "id": "43c7c4fc",
   "metadata": {},
   "outputs": [
    {
     "data": {
      "text/plain": [
       "-/-        1597\n",
       "03/2018     695\n",
       "02/2019     585\n",
       "05/2018     572\n",
       "03/2019     543\n",
       "01/2019     541\n",
       "04/2018     541\n",
       "02/2018     539\n",
       "03/2016     536\n",
       "04/2016     532\n",
       "06/2018     532\n",
       "01/2018     511\n",
       "04/2019     506\n",
       "02/2016     472\n",
       "03/2017     471\n",
       "05/2016     459\n",
       "06/2016     452\n",
       "05/2019     440\n",
       "06/2017     409\n",
       "05/2017     404\n",
       "07/2018     396\n",
       "04/2017     380\n",
       "01/2016     376\n",
       "02/2017     368\n",
       "01/2017     306\n",
       "08/2018     285\n",
       "06/2019     224\n",
       "07/2017     215\n",
       "11/2017     180\n",
       "07/2016     176\n",
       "10/2016     160\n",
       "10/2017     154\n",
       "09/2017     149\n",
       "11/2016     142\n",
       "09/2018     141\n",
       "09/2016     141\n",
       "12/2016     134\n",
       "12/2017     123\n",
       "08/2017     114\n",
       "11/2018     110\n",
       "12/2018     103\n",
       "10/2018      97\n",
       "08/2016      94\n",
       "07/2019       6\n",
       "09/2019       5\n",
       "08/2019       1\n",
       "11/2019       1\n",
       "12/2019       1\n",
       "Name: registration, dtype: int64"
      ]
     },
     "execution_count": 191,
     "metadata": {},
     "output_type": "execute_result"
    }
   ],
   "source": [
    "df['registration'].value_counts()"
   ]
  },
  {
   "cell_type": "code",
   "execution_count": 192,
   "id": "6ea474e8",
   "metadata": {
    "scrolled": true
   },
   "outputs": [],
   "source": [
    "temp = [x.split('/')[1] if x.__class__ == str else x for x in df['registration']]\n",
    "temp = [float('nan') if x=='-' else int(x) for x in temp]\n",
    "df['registration_year'] = temp.copy()"
   ]
  },
  {
   "cell_type": "code",
   "execution_count": 193,
   "id": "f143ab4a",
   "metadata": {
    "scrolled": true
   },
   "outputs": [
    {
     "data": {
      "text/plain": [
       "2018.0    4522\n",
       "2016.0    3674\n",
       "2017.0    3273\n",
       "2019.0    2853\n",
       "Name: registration_year, dtype: int64"
      ]
     },
     "execution_count": 193,
     "metadata": {},
     "output_type": "execute_result"
    }
   ],
   "source": [
    "df['registration_year'].value_counts()"
   ]
  },
  {
   "cell_type": "code",
   "execution_count": 194,
   "id": "a0a36b6c",
   "metadata": {},
   "outputs": [],
   "source": [
    "df['first_registration'] = df['registration_year'].copy()"
   ]
  },
  {
   "cell_type": "code",
   "execution_count": 195,
   "id": "5aeb1502",
   "metadata": {},
   "outputs": [],
   "source": [
    "df['registration_year'] = [float(x) for x in df['registration_year']]"
   ]
  },
  {
   "cell_type": "code",
   "execution_count": 196,
   "id": "28b31872",
   "metadata": {},
   "outputs": [],
   "source": [
    "temp = [x.split('/')[0] if x.__class__ == str else x for x in df['registration']]\n",
    "temp = [float('nan') if x=='-' else int(x) for x in temp]\n",
    "df['registration_month'] = temp.copy()"
   ]
  },
  {
   "cell_type": "code",
   "execution_count": 197,
   "id": "0f179d0f",
   "metadata": {},
   "outputs": [
    {
     "data": {
      "text/plain": [
       "3.0     2245\n",
       "2.0     1964\n",
       "4.0     1959\n",
       "5.0     1875\n",
       "1.0     1734\n",
       "6.0     1617\n",
       "7.0      793\n",
       "8.0      494\n",
       "9.0      436\n",
       "11.0     433\n",
       "10.0     411\n",
       "12.0     361\n",
       "Name: registration_month, dtype: int64"
      ]
     },
     "execution_count": 197,
     "metadata": {},
     "output_type": "execute_result"
    }
   ],
   "source": [
    "df['registration_month'].value_counts()"
   ]
  },
  {
   "cell_type": "code",
   "execution_count": 198,
   "id": "753f7cf2",
   "metadata": {},
   "outputs": [],
   "source": [
    "df['reg_cont'] = df['registration_year'] + df['registration_month']/12"
   ]
  },
  {
   "cell_type": "code",
   "execution_count": 199,
   "id": "c063b3e4",
   "metadata": {},
   "outputs": [
    {
     "data": {
      "text/plain": [
       "2018.250000    695\n",
       "2019.166667    585\n",
       "2018.416667    572\n",
       "2019.250000    543\n",
       "2018.333333    541\n",
       "2019.083333    541\n",
       "2018.166667    539\n",
       "2016.250000    536\n",
       "2016.333333    532\n",
       "2018.500000    532\n",
       "2018.083333    511\n",
       "2019.333333    506\n",
       "2016.166667    472\n",
       "2017.250000    471\n",
       "2016.416667    459\n",
       "2016.500000    452\n",
       "2019.416667    440\n",
       "2017.500000    409\n",
       "2017.416667    404\n",
       "2018.583333    396\n",
       "2017.333333    380\n",
       "2016.083333    376\n",
       "2017.166667    368\n",
       "2017.083333    306\n",
       "2018.666667    285\n",
       "2019.500000    224\n",
       "2017.583333    215\n",
       "2017.916667    180\n",
       "2016.583333    176\n",
       "2016.833333    160\n",
       "2017.833333    154\n",
       "2017.750000    149\n",
       "2016.916667    142\n",
       "2018.750000    141\n",
       "2016.750000    141\n",
       "2017.000000    134\n",
       "2018.000000    123\n",
       "2017.666667    114\n",
       "2018.916667    110\n",
       "2019.000000    103\n",
       "2018.833333     97\n",
       "2016.666667     94\n",
       "2019.583333      6\n",
       "2019.750000      5\n",
       "2019.666667      1\n",
       "2019.916667      1\n",
       "2020.000000      1\n",
       "Name: reg_cont, dtype: int64"
      ]
     },
     "execution_count": 199,
     "metadata": {},
     "output_type": "execute_result"
    }
   ],
   "source": [
    "df['reg_cont'].value_counts()"
   ]
  },
  {
   "cell_type": "code",
   "execution_count": 200,
   "id": "62e9f245",
   "metadata": {},
   "outputs": [
    {
     "data": {
      "text/plain": [
       "2018.0    4522\n",
       "2016.0    3674\n",
       "2017.0    3273\n",
       "2019.0    2853\n",
       "Name: first_registration, dtype: int64"
      ]
     },
     "execution_count": 200,
     "metadata": {},
     "output_type": "execute_result"
    }
   ],
   "source": [
    "df['first_registration'].value_counts()"
   ]
  },
  {
   "cell_type": "code",
   "execution_count": 201,
   "id": "2824d1ff",
   "metadata": {},
   "outputs": [],
   "source": [
    "ignore.add('registration')\n",
    "ignore.add('registration_year')\n",
    "ignore.add('registration_month')\n",
    "to_encode.add('first_registration')"
   ]
  },
  {
   "cell_type": "markdown",
   "id": "4a4be40b",
   "metadata": {},
   "source": [
    "### Explore 'km'\n",
    "\n",
    "* make integers by removing string characters"
   ]
  },
  {
   "cell_type": "code",
   "execution_count": 202,
   "id": "9e52f3af",
   "metadata": {},
   "outputs": [
    {
     "data": {
      "text/plain": [
       "10 km        1045\n",
       "- km         1024\n",
       "1 km          367\n",
       "5 km          170\n",
       "50 km         148\n",
       "             ... \n",
       "67,469 km       1\n",
       "43,197 km       1\n",
       "10,027 km       1\n",
       "35,882 km       1\n",
       "57 km           1\n",
       "Name: km, Length: 6690, dtype: int64"
      ]
     },
     "execution_count": 202,
     "metadata": {},
     "output_type": "execute_result"
    }
   ],
   "source": [
    "df['km'].value_counts()"
   ]
  },
  {
   "cell_type": "code",
   "execution_count": 203,
   "id": "be8c6389",
   "metadata": {},
   "outputs": [
    {
     "data": {
      "text/plain": [
       "10.0       1045\n",
       "1.0         367\n",
       "5.0         170\n",
       "50.0        148\n",
       "100.0       139\n",
       "           ... \n",
       "67469.0       1\n",
       "43197.0       1\n",
       "10027.0       1\n",
       "35882.0       1\n",
       "57.0          1\n",
       "Name: km, Length: 6689, dtype: int64"
      ]
     },
     "execution_count": 203,
     "metadata": {},
     "output_type": "execute_result"
    }
   ],
   "source": [
    "df['km'] = [re.sub(',| km|-','',x).lstrip().strip() for x in df['km']]\n",
    "df['km'] = [float('nan') if x=='' else int(x) for x in df['km']]\n",
    "df['km'].value_counts()"
   ]
  },
  {
   "cell_type": "code",
   "execution_count": 204,
   "id": "f93cabd1",
   "metadata": {
    "scrolled": true
   },
   "outputs": [
    {
     "data": {
      "text/plain": [
       "<AxesSubplot:ylabel='Frequency'>"
      ]
     },
     "execution_count": 204,
     "metadata": {},
     "output_type": "execute_result"
    },
    {
     "data": {
      "image/png": "[encoded data removed]",
      "text/plain": [
       "<Figure size 640x480 with 1 Axes>"
      ]
     },
     "metadata": {},
     "output_type": "display_data"
    }
   ],
   "source": [
    "df['km'].plot.hist(bins=100)"
   ]
  },
  {
   "cell_type": "markdown",
   "id": "b8aa2061",
   "metadata": {},
   "source": [
    "### Explore 'price'"
   ]
  },
  {
   "cell_type": "code",
   "execution_count": 205,
   "id": "61dc221e",
   "metadata": {},
   "outputs": [
    {
     "data": {
      "text/plain": [
       "14990    154\n",
       "15990    151\n",
       "10990    139\n",
       "15900    106\n",
       "17990    102\n",
       "        ... \n",
       "17559      1\n",
       "17560      1\n",
       "17570      1\n",
       "17575      1\n",
       "39875      1\n",
       "Name: price, Length: 2956, dtype: int64"
      ]
     },
     "execution_count": 205,
     "metadata": {},
     "output_type": "execute_result"
    }
   ],
   "source": [
    "df['price'].value_counts(dropna=False)"
   ]
  },
  {
   "cell_type": "code",
   "execution_count": 206,
   "id": "11aa57f3",
   "metadata": {},
   "outputs": [
    {
     "data": {
      "text/plain": [
       "<AxesSubplot:ylabel='Frequency'>"
      ]
     },
     "execution_count": 206,
     "metadata": {},
     "output_type": "execute_result"
    },
    {
     "data": {
      "image/png": "[encoded data removed]",
      "text/plain": [
       "<Figure size 640x480 with 1 Axes>"
      ]
     },
     "metadata": {},
     "output_type": "display_data"
    }
   ],
   "source": [
    "df['price'].plot.hist(bins = 100)"
   ]
  },
  {
   "cell_type": "markdown",
   "id": "89516057",
   "metadata": {},
   "source": [
    "### Explore 'url'"
   ]
  },
  {
   "cell_type": "code",
   "execution_count": 207,
   "id": "20521a62",
   "metadata": {},
   "outputs": [],
   "source": [
    "ignore.add('url')"
   ]
  },
  {
   "cell_type": "markdown",
   "id": "1687a8e6",
   "metadata": {},
   "source": [
    "## Save the selected features as a new dataset"
   ]
  },
  {
   "cell_type": "code",
   "execution_count": 208,
   "id": "83306900",
   "metadata": {},
   "outputs": [],
   "source": [
    "df2 = pd.DataFrame()"
   ]
  },
  {
   "cell_type": "code",
   "execution_count": 209,
   "id": "a5bc1f76",
   "metadata": {},
   "outputs": [],
   "source": [
    "for i in df.columns:\n",
    "    if i not in ignore:\n",
    "        df2[i] = df[i]"
   ]
  },
  {
   "cell_type": "code",
   "execution_count": 210,
   "id": "6b42f683",
   "metadata": {},
   "outputs": [],
   "source": [
    "df2.to_json('data_post00.json', orient='records', lines=True)"
   ]
  },
  {
   "cell_type": "code",
   "execution_count": 211,
   "id": "2067ce60",
   "metadata": {},
   "outputs": [
    {
     "name": "stdout",
     "output_type": "stream",
     "text": [
      "<class 'pandas.core.frame.DataFrame'>\n",
      "RangeIndex: 15919 entries, 0 to 15918\n",
      "Data columns (total 34 columns):\n",
      " #   Column               Non-Null Count  Dtype  \n",
      "---  ------               --------------  -----  \n",
      " 0   make_model           15919 non-null  object \n",
      " 1   body_type            15859 non-null  object \n",
      " 2   price                15919 non-null  int64  \n",
      " 3   km                   14895 non-null  float64\n",
      " 4   prev_owner           9091 non-null   object \n",
      " 5   hp                   15831 non-null  float64\n",
      " 6   type                 15917 non-null  object \n",
      " 7   first_registration   14322 non-null  float64\n",
      " 8   body_color           15322 non-null  object \n",
      " 9   paint_type           10147 non-null  object \n",
      " 10  nr_doors             15707 non-null  object \n",
      " 11  nr_seats             14942 non-null  object \n",
      " 12  gearing_type         15919 non-null  object \n",
      " 13  displacement         15423 non-null  float64\n",
      " 14  cylinders            10239 non-null  object \n",
      " 15  weight               8945 non-null   float64\n",
      " 16  drive_chain          9061 non-null   object \n",
      " 17  fuel                 15919 non-null  object \n",
      " 18  co2_emission         13483 non-null  float64\n",
      " 19  comfort_convenience  14999 non-null  object \n",
      " 20  entertainment_media  14545 non-null  object \n",
      " 21  extras               12957 non-null  object \n",
      " 22  safety_security      14937 non-null  object \n",
      " 23  gears                11207 non-null  object \n",
      " 24  country_version      7586 non-null   object \n",
      " 25  warranty_mo          4853 non-null   float64\n",
      " 26  vat_deductible       15919 non-null  int64  \n",
      " 27  upholstery_material  11416 non-null  object \n",
      " 28  upholstery_color     12197 non-null  object \n",
      " 29  emission_class       12291 non-null  object \n",
      " 30  consumption_comb     13886 non-null  float64\n",
      " 31  consumption_city     13483 non-null  float64\n",
      " 32  consumption_country  13543 non-null  float64\n",
      " 33  reg_cont             14322 non-null  float64\n",
      "dtypes: float64(11), int64(2), object(21)\n",
      "memory usage: 4.1+ MB\n"
     ]
    }
   ],
   "source": [
    "df2.info()"
   ]
  },
  {
   "cell_type": "code",
   "execution_count": 212,
   "id": "6e2441ac",
   "metadata": {},
   "outputs": [
    {
     "name": "stdout",
     "output_type": "stream",
     "text": [
      "{'vat', 'last_timing_belt_service_date', 'make', 'null', 'body_color_original', 'non_smoking_vehicle', 'kw', 'model_code', 'previous_owners', 'body', 'model', 'warranty', 'next_inspection', 'upholstery', 'emission_label', 'last_service_date', 'offer_number', 'registration_month', 'electricity_consumption', 'availability', 'available_from', 'full_service', 'description', 'inspection_new', 'other_fuel_types', 'url', 'registration', 'short_description', 'registration_year', 'consumption'}\n"
     ]
    }
   ],
   "source": [
    "print(ignore)"
   ]
  },
  {
   "cell_type": "markdown",
   "id": "ca9c66d6",
   "metadata": {},
   "source": [
    "## Summary \n",
    "We started with 54 features. \n",
    "\n",
    "We dropped many features. Replaced some with better versions. Consumption with three columns - city, country, comb; upholstery with two - color and material; registration with registration_continuous; vat with a binary for var_deductible; and warranty with warranty_mo.\n",
    "\n",
    "Finally we have 34 features."
   ]
  },
  {
   "cell_type": "markdown",
   "id": "043b9b0d",
   "metadata": {},
   "source": [
    "<a id=\"3\"></a>\n",
    "\n",
    "## End of Data Cleaning"
   ]
  },
  {
   "cell_type": "markdown",
   "id": "00d5f3a1",
   "metadata": {},
   "source": [
    "<a href=\"#toc\" class=\"btn btn-primary btn-sm\" role=\"button\" aria-pressed=\"true\" \n",
    "style=\"color:blue; background-color:#dfa8e4\" data-toggle=\"popover\">Content</a>"
   ]
  },
  {
   "cell_type": "markdown",
   "id": "44609f9a",
   "metadata": {},
   "source": [
    "## Next: [Data Imputation](02_data_imputation.ipynb)"
   ]
  }
 ],
 "metadata": {
  "kernelspec": {
   "display_name": "Python 3 (ipykernel)",
   "language": "python",
   "name": "python3"
  },
  "language_info": {
   "codemirror_mode": {
    "name": "ipython",
    "version": 3
   },
   "file_extension": ".py",
   "mimetype": "text/x-python",
   "name": "python",
   "nbconvert_exporter": "python",
   "pygments_lexer": "ipython3",
   "version": "3.13.1"
  }
 },
 "nbformat": 4,
 "nbformat_minor": 5
}
