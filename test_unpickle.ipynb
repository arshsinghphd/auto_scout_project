{
 "cells": [
  {
   "cell_type": "code",
   "execution_count": 5,
   "id": "7102d6b0",
   "metadata": {},
   "outputs": [],
   "source": [
    "import pandas as pd\n",
    "import pickle\n"
   ]
  },
  {
   "cell_type": "code",
   "execution_count": 6,
   "id": "44da8db9",
   "metadata": {},
   "outputs": [
    {
     "name": "stdout",
     "output_type": "stream",
     "text": [
      "[16:43:38] WARNING: src/objective/regression_obj.cu:152: reg:linear is now deprecated in favor of reg:squarederror.\n"
     ]
    }
   ],
   "source": [
    "with open('model.pkl', 'rb') as f:\n",
    "    loaded_model_pickle = pickle.load(f)"
   ]
  },
  {
   "cell_type": "code",
   "execution_count": 7,
   "id": "1a2540e2",
   "metadata": {},
   "outputs": [],
   "source": [
    "df = pd.read_json('data_post03.json', lines=True)\n",
    "cols = ['price','co2_emission', 'com_hill_holder', 'com_multi-function_steering_wheel', 'consumption_comb', 'displacement', 'hp',\n",
    "        'km', 'saf_xenon_headlights', 'warranty_mo', 'weight']\n",
    "df = df[cols]\n",
    "X = df.drop('price', axis=1)\n",
    "y = df['price']"
   ]
  },
  {
   "cell_type": "code",
   "execution_count": 11,
   "id": "bec7d300",
   "metadata": {},
   "outputs": [
    {
     "name": "stdout",
     "output_type": "stream",
     "text": [
      "<class 'pandas.core.frame.DataFrame'>\n",
      "RangeIndex: 31768 entries, 0 to 31767\n",
      "Data columns (total 11 columns):\n",
      " #   Column                             Non-Null Count  Dtype  \n",
      "---  ------                             --------------  -----  \n",
      " 0   price                              31768 non-null  int64  \n",
      " 1   co2_emission                       31768 non-null  int64  \n",
      " 2   com_hill_holder                    31768 non-null  int64  \n",
      " 3   com_multi-function_steering_wheel  31768 non-null  int64  \n",
      " 4   consumption_comb                   31768 non-null  float64\n",
      " 5   displacement                       31768 non-null  int64  \n",
      " 6   hp                                 31768 non-null  int64  \n",
      " 7   km                                 31768 non-null  float64\n",
      " 8   saf_xenon_headlights               31768 non-null  int64  \n",
      " 9   warranty_mo                        31768 non-null  int64  \n",
      " 10  weight                             31768 non-null  float64\n",
      "dtypes: float64(3), int64(8)\n",
      "memory usage: 2.7 MB\n"
     ]
    }
   ],
   "source": [
    "df.info()"
   ]
  },
  {
   "cell_type": "code",
   "execution_count": 10,
   "id": "cfc6c69a",
   "metadata": {},
   "outputs": [
    {
     "data": {
      "text/plain": [
       "317680"
      ]
     },
     "execution_count": 10,
     "metadata": {},
     "output_type": "execute_result"
    }
   ],
   "source": [
    "X.size"
   ]
  },
  {
   "cell_type": "code",
   "execution_count": 9,
   "id": "38d66831",
   "metadata": {},
   "outputs": [
    {
     "data": {
      "text/plain": [
       "31768"
      ]
     },
     "execution_count": 9,
     "metadata": {},
     "output_type": "execute_result"
    }
   ],
   "source": [
    "len(loaded_model_pickle.predict(X))"
   ]
  },
  {
   "cell_type": "code",
   "execution_count": null,
   "id": "49091a65",
   "metadata": {},
   "outputs": [],
   "source": []
  }
 ],
 "metadata": {
  "kernelspec": {
   "display_name": "Python 3 (ipykernel)",
   "language": "python",
   "name": "python3"
  },
  "language_info": {
   "codemirror_mode": {
    "name": "ipython",
    "version": 3
   },
   "file_extension": ".py",
   "mimetype": "text/x-python",
   "name": "python",
   "nbconvert_exporter": "python",
   "pygments_lexer": "ipython3",
   "version": "3.7.16"
  }
 },
 "nbformat": 4,
 "nbformat_minor": 5
}
