{
 "cells": [
  {
   "cell_type": "markdown",
   "id": "584acec2",
   "metadata": {},
   "source": [
    "<a id=\"toc\"></a>\n",
    "\n",
    "# <p style=\"background-color: #008080; font-family:newtimeroman; color:#FFF9ED; font-size:175%; text-align:center; border-radius:5px 5px;\">Auto Scout Car Prices Prediction Project: <br> Introduction</p>"
   ]
  },
  {
   "cell_type": "markdown",
   "id": "27627951",
   "metadata": {},
   "source": [
    "<a id=\"0\"></a>\n",
    "Welcome to \"***Auto Scout Car Price Prediction Project***\". \n",
    "\n",
    "**Auto Scout** data used for this project, were scraped from the on-line car trading company, Auto Scout, in 2019, contains many features of 9 different car models. In this project, I will go through all the steps of a data project: data cleaning, modeling, features selection, and model selection. \n",
    "\n",
    "In the first part of this project I will apply many commonly used algorithms for data cleaning and exploratory data analysis by using many Python libraries such as Numpy, Pandas, Matplotlib, Seaborn, Scipy.\n",
    "\n",
    "These are the steps for the first part. \n",
    "* **[data cleaning](00_data_cleaning.ipynb)** -  dealing with incorrect headers (column names), incorrect format, anomalies, and dropping obviously  useless columns.\n",
    "* **[data imputation](01_data_imputation.ipynb)** - handling missing values, reducing classes in features to be encoded.\n",
    "* **[handling outliers](02_data_viz_&_outliers.ipynb)** -  via visualisation libraries. Some insights are extracted.\n",
    "\n",
    "In the second part of the project I explore many types of models for predicting prices. I explore OLS, Ridge, Lasso, SGD, Random Forest, XGB, light GBM, and catBoost.\n",
    "\n",
    "* **[data encoding](03_data_encoding.ipynb)** in preparation for modeling: converting multiclass features into dummy columns, making dummy columns from nested features.\n",
    "* **[modeling](04_modeling.ipynb)** trying out different models, model selection, feature selection, and cross-validation.\n",
    "* **[parameter tuning](05_parameter_selection.ipynb)** selecting the best values for the parameters of the chosen model."
   ]
  },
  {
   "cell_type": "markdown",
   "id": "b55be8e7",
   "metadata": {},
   "source": [
    "## Next: [Data Cleaning](01_data_cleaning.ipynb)"
   ]
  }
 ],
 "metadata": {
  "kernelspec": {
   "display_name": "Python 3 (ipykernel)",
   "language": "python",
   "name": "python3"
  },
  "language_info": {
   "codemirror_mode": {
    "name": "ipython",
    "version": 3
   },
   "file_extension": ".py",
   "mimetype": "text/x-python",
   "name": "python",
   "nbconvert_exporter": "python",
   "pygments_lexer": "ipython3",
   "version": "3.7.16"
  }
 },
 "nbformat": 4,
 "nbformat_minor": 5
}
